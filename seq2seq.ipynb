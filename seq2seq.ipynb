{
 "cells": [
  {
   "cell_type": "code",
   "execution_count": 1,
   "metadata": {
    "colab": {},
    "colab_type": "code",
    "id": "EnNNiuer0YNu"
   },
   "outputs": [],
   "source": [
    "import utils, models\n",
    "import numpy as np\n",
    "import matplotlib.pyplot as plt\n",
    "import tensorflow as tf\n",
    "\n",
    "%matplotlib inline\n",
    "%load_ext autoreload\n",
    "%autoreload 2"
   ]
  },
  {
   "cell_type": "markdown",
   "metadata": {
    "colab_type": "text",
    "id": "103tb6dPcVAg"
   },
   "source": [
    "# Reading and Preparing Data"
   ]
  },
  {
   "cell_type": "code",
   "execution_count": 2,
   "metadata": {
    "colab": {},
    "colab_type": "code",
    "id": "i4CxnYAQ0gro"
   },
   "outputs": [],
   "source": [
    "loader = utils.data_loader('./Data/ferdosi.txt')\n",
    "(X, Y) = loader.get_data()"
   ]
  },
  {
   "cell_type": "code",
   "execution_count": 3,
   "metadata": {
    "colab": {},
    "colab_type": "code",
    "id": "TVBOQKGNCLBx"
   },
   "outputs": [],
   "source": [
    "idx = np.random.permutation(X.shape[0])\n",
    "X, Y = X[idx, :], Y[idx, :]\n",
    "test_ratio = 0.1\n",
    "valid_ratio = 0.1\n",
    "cut1 = int(X.shape[0] * (1-test_ratio-valid_ratio))\n",
    "cut2 = int(X.shape[0] * (1-test_ratio))\n",
    "X_train, Y_train = X[:cut1, :], Y[:cut1, :]\n",
    "X_valid, Y_valid = X[cut1:cut2, :], Y[cut1:cut2, :]\n",
    "X_test, Y_test = X[cut2:, :], Y[cut2:, :]\n",
    "\n",
    "data = {'X_train':X_train, 'Y_train':Y_train,\n",
    "        'X_valid':X_valid, 'Y_valid':Y_valid,\n",
    "        'X_test':X_test, 'Y_test':Y_test}"
   ]
  },
  {
   "cell_type": "markdown",
   "metadata": {
    "colab_type": "text",
    "id": "2BDFoiTjcjx2"
   },
   "source": [
    "# Parameters"
   ]
  },
  {
   "cell_type": "code",
   "execution_count": 4,
   "metadata": {
    "colab": {},
    "colab_type": "code",
    "id": "lRpu3wGED-2P"
   },
   "outputs": [],
   "source": [
    "params={\n",
    "  'BATCH_SIZE' : 256,\n",
    "  'EPOCHS' : 150,\n",
    "  'VOCAB_SIZE' : loader.n_chars,\n",
    "  'MAX_LEN' : loader.max_size,\n",
    "  'EMBEDDING_SIZE' : 32,\n",
    "  'HIDDEN_SIZE' : 256,\n",
    "  'N_LAYERS' : 1,\n",
    "  'BEGIN_CHAR' : loader.all_chars_dic['_BOM_'],\n",
    "  'LR' : 1e-3,\n",
    "  'LR_DECAY' : 1,\n",
    "  'LR_DECAY_STEP' : 20,\n",
    "  'LR_MIN': 1e-5,\n",
    "  'EPS' : 1,\n",
    "  'EPS_DECAY' : 0.95,\n",
    "  'EPS_DECAY_STEP' : 30,\n",
    "  'EPS_MIN' : .8\n",
    "}"
   ]
  },
  {
   "cell_type": "markdown",
   "metadata": {
    "colab_type": "text",
    "id": "M23bVYVacpmg"
   },
   "source": [
    "# Training Function"
   ]
  },
  {
   "cell_type": "code",
   "execution_count": 5,
   "metadata": {
    "colab": {},
    "colab_type": "code",
    "id": "4cTXVGF22PlU"
   },
   "outputs": [],
   "source": [
    "def train(model, data, params, print_every=10):\n",
    "    sess = tf.Session()\n",
    "    sess.run(tf.global_variables_initializer())\n",
    "\n",
    "    num_of_batches = np.ceil(data['X_train'].shape[0] / params['BATCH_SIZE'])\n",
    "  \n",
    "    loss_history = []\n",
    "  \n",
    "    for epoch in range(1, params['EPOCHS']+1):\n",
    "        epoch_loss = 0\n",
    "      \n",
    "        if epoch % params['LR_DECAY_STEP'] == 0: params['LR'] *= params['LR_DECAY']\n",
    "        if epoch % params['EPS_DECAY_STEP'] == 0: params['EPS'] = max(params['EPS_MIN'], params['EPS'] * params['EPS_DECAY'])\n",
    "        \n",
    "        for i in range(0, data['X_train'].shape[0],  params['BATCH_SIZE']):\n",
    "            X_b = data['X_train'][i:i+params['BATCH_SIZE']]\n",
    "            Y_b = data['Y_train'][i:i+params['BATCH_SIZE']]\n",
    "\n",
    "            _, loss = sess.run([model.opt, model.loss], feed_dict={model.input_data: X_b, \n",
    "                                                                   model.target_data: Y_b,\n",
    "                                                                   model.learning_rate: params['LR'],\n",
    "                                                                   model.teacher_forcing: params['EPS']})\n",
    "            epoch_loss += loss / num_of_batches\n",
    "    loss_history.append(epoch_loss)\n",
    "    if epoch % print_every == 0:\n",
    "        print(\"Epoch {}, Loss:{}\".format(epoch, epoch_loss))\n",
    "        idx = np.random.randint(0, data['X_valid'].shape[0])\n",
    "        pred = sess.run(model.prediction, feed_dict={model.input_data: data['X_valid'][idx].reshape(1, -1),\n",
    "                                                     model.target_data: data['Y_valid'][idx].reshape(1, -1),\n",
    "                                                     model.teacher_forcing: 0})[0]\n",
    "        print('random completed poem from validation set:')\n",
    "        print((loader.tensor2line(data['X_valid'][idx], False) + \"  ****  \" + loader.tensor2line(pred, False)))\n",
    "        print('-'*100)\n",
    "    return sess, loss_history"
   ]
  },
  {
   "cell_type": "markdown",
   "metadata": {
    "colab_type": "text",
    "id": "Yr8u-d8SbxqY"
   },
   "source": [
    "# Encoer-Decoder Model"
   ]
  },
  {
   "cell_type": "markdown",
   "metadata": {
    "colab_type": "text",
    "id": "jkyOyjrWgQDI"
   },
   "source": [
    "Using Teacher Forcing with Scheduler Sampling"
   ]
  },
  {
   "cell_type": "code",
   "execution_count": 6,
   "metadata": {
    "colab": {
     "base_uri": "https://localhost:8080/",
     "height": 1700
    },
    "colab_type": "code",
    "executionInfo": {
     "elapsed": 2260,
     "status": "ok",
     "timestamp": 1558008806778,
     "user": {
      "displayName": "Armin Karamzade",
      "photoUrl": "",
      "userId": "11698700105419657409"
     },
     "user_tz": -270
    },
    "id": "Phjwc3nIf71W",
    "outputId": "ff12897c-576e-472d-dd5b-f682232f4b24"
   },
   "outputs": [
    {
     "name": "stdout",
     "output_type": "stream",
     "text": [
      "Epoch 10, Loss:1.0620739360650373\n",
      "random completed poem from validation set:\n",
      "هوا پود گشت ابر چون تار شد  ****  به دیدار بر داد بر در شدرد\n",
      "----------------------------------------------------------------------------------------------------\n",
      "Epoch 20, Loss:0.9111200402944513\n",
      "random completed poem from validation set:\n",
      "بدو گفت هرمز که در پای زهر  ****  به درد اندر امد به دل بر دهر\n",
      "----------------------------------------------------------------------------------------------------\n",
      "Epoch 30, Loss:0.9842609963737996\n",
      "random completed poem from validation set:\n",
      "زنی بود برسان گردی سوار  ****  به داد و به ایران بدین ماندار\n",
      "----------------------------------------------------------------------------------------------------\n",
      "Epoch 40, Loss:0.8917939628546051\n",
      "random completed poem from validation set:\n",
      "بیاراستند از برش تخت عاج  ****  به ایران به دیدار او بر به راج\n",
      "----------------------------------------------------------------------------------------------------\n",
      "Epoch 50, Loss:0.8468252353561231\n",
      "random completed poem from validation set:\n",
      "از ایوان و کاخ و ز پالیز و باغ  ****  به دیدار او بر دل و ماز و باغ\n",
      "----------------------------------------------------------------------------------------------------\n",
      "Epoch 60, Loss:0.9893322831067523\n",
      "random completed poem from validation set:\n",
      "بیک هفته بودش هم انجا درنگ  ****  به پیش سپاه اندر امد به چنگ\n",
      "----------------------------------------------------------------------------------------------------\n",
      "Epoch 70, Loss:0.9134141037192864\n",
      "random completed poem from validation set:\n",
      "همی باژ بردند نزدیک شاه  ****  به دیدار او بود با این سپاه\n",
      "----------------------------------------------------------------------------------------------------\n",
      "Epoch 80, Loss:0.8878215399021525\n",
      "random completed poem from validation set:\n",
      "چو زد بر سر کوه بر تیغ شید  ****  درفش سپهدار ایران بدید\n",
      "----------------------------------------------------------------------------------------------------\n",
      "Epoch 90, Loss:0.8603200919162004\n",
      "random completed poem from validation set:\n",
      "شبان را همی تخت کرد ارزوی  ****  به دیدار او بو به ایران بدوی\n",
      "----------------------------------------------------------------------------------------------------\n",
      "Epoch 100, Loss:0.8416932413641082\n",
      "random completed poem from validation set:\n",
      "جهاندار پیروز بنواختش  ****  به نزدیک ان بای بنشاختش\n",
      "----------------------------------------------------------------------------------------------------\n",
      "Epoch 110, Loss:0.8238654196119077\n",
      "random completed poem from validation set:\n",
      "بپیچی ز باد افره ایزدی  ****  که این ررد و بی روز بسیاره دی\n",
      "----------------------------------------------------------------------------------------------------\n",
      "Epoch 120, Loss:0.8217443962676968\n",
      "random completed poem from validation set:\n",
      "چنین گفت خاقان که اینست راه  ****  که بر ما بباید به اوردگاه\n",
      "----------------------------------------------------------------------------------------------------\n",
      "Epoch 130, Loss:0.8049136864690066\n",
      "random completed poem from validation set:\n",
      "بدو گردیه گفت کای دیو ساز  ****  بیاید شما را به گردن فراز\n",
      "----------------------------------------------------------------------------------------------------\n",
      "Epoch 140, Loss:0.7999013797380026\n",
      "random completed poem from validation set:\n",
      "همان چون بخواب اندر امد سرش  ****  پدید امد از دشت پرخاشخر\n",
      "----------------------------------------------------------------------------------------------------\n",
      "Epoch 150, Loss:0.8216548915713645\n",
      "random completed poem from validation set:\n",
      "از ایران بتوران ز بهر درم  ****  که بر من ببستم به با ار دژم\n",
      "----------------------------------------------------------------------------------------------------\n",
      "Test Loss: 4.524783\n"
     ]
    },
    {
     "data": {
      "image/png": "[encoded data removed]",
      "text/plain": [
       "<Figure size 432x288 with 1 Axes>"
      ]
     },
     "metadata": {
      "tags": []
     },
     "output_type": "display_data"
    }
   ],
   "source": [
    "tf.reset_default_graph()\n",
    "\n",
    "embedding = models.Embedding(params['VOCAB_SIZE'], params['EMBEDDING_SIZE'])\n",
    "encoder = models.EncoderRNN(params['VOCAB_SIZE'], params['HIDDEN_SIZE'], params['N_LAYERS'])\n",
    "decoder = models.DecoderRNN(params['VOCAB_SIZE'], params['HIDDEN_SIZE'], params['VOCAB_SIZE'], params['N_LAYERS'])\n",
    "model  = models.Seq2SeqModel(encoder, decoder, embedding, params['MAX_LEN'], params['BEGIN_CHAR'])\n",
    "\n",
    "model_sess, loss_history = train(model, data, params.copy())\n",
    "test_loss = model_sess.run(model.loss, feed_dict={model.input_data: data['X_test'], \n",
    "                                                  model.target_data: data['Y_test'],\n",
    "                                                  model.teacher_forcing: 0})\n",
    "print('Test Loss:', test_loss)\n",
    "plt.plot(range(1, params['EPOCHS']+1), loss_history, '-b.',label='epoch loss')\n",
    "plt.legend()\n",
    "plt.show()"
   ]
  },
  {
   "cell_type": "markdown",
   "metadata": {
    "colab_type": "text",
    "id": "XLy5ervyb36G"
   },
   "source": [
    "# Encoer-Decoder with Attention Model "
   ]
  },
  {
   "cell_type": "markdown",
   "metadata": {
    "colab_type": "text",
    "id": "Kw1SiS-Pgejw"
   },
   "source": [
    "Using Teacher Forcing with Scheduler Sampling"
   ]
  },
  {
   "cell_type": "code",
   "execution_count": 7,
   "metadata": {
    "colab": {
     "base_uri": "https://localhost:8080/",
     "height": 1306
    },
    "colab_type": "code",
    "executionInfo": {
     "elapsed": 2029601,
     "status": "ok",
     "timestamp": 1558018321094,
     "user": {
      "displayName": "Armin Karamzade",
      "photoUrl": "",
      "userId": "11698700105419657409"
     },
     "user_tz": -270
    },
    "id": "fcEZpGFpj-1n",
    "outputId": "68971dc3-7e27-4650-fbec-8af31c488f17"
   },
   "outputs": [
    {
     "name": "stdout",
     "output_type": "stream",
     "text": [
      "Epoch 10, Loss:1.2290927378030927\n",
      "random completed poem from validation set:\n",
      "بدیدش مر او را چو نزدیک شد  ****  به بینی به بینی به بینی به باد\n",
      "----------------------------------------------------------------------------------------------------\n",
      "Epoch 20, Loss:1.0483119319646788\n",
      "random completed poem from validation set:\n",
      "چو بر نامه بر مهر بنهاد شاه  ****  به بیداد بر بی به بی رنج بود\n",
      "----------------------------------------------------------------------------------------------------\n",
      "Epoch 30, Loss:1.0403051582666543\n",
      "random completed poem from validation set:\n",
      "بایران گذارم بر و بوم و رخت  ****  به بار اندرون کرده بر بر نهاد\n",
      "----------------------------------------------------------------------------------------------------\n",
      "Epoch 40, Loss:0.9137224310483689\n",
      "random completed poem from validation set:\n",
      "که خسرو بهر کار پیروز باد  ****  به بیداد بر کشته بر کارزار\n",
      "----------------------------------------------------------------------------------------------------\n",
      "Epoch 50, Loss:0.8558801168050524\n",
      "random completed poem from validation set:\n",
      "خروشان و خون از دو دیده چکان  ****  به بالا و برزد به ابر اندران\n",
      "----------------------------------------------------------------------------------------------------\n",
      "Epoch 60, Loss:0.8036949415810599\n",
      "random completed poem from validation set:\n",
      "چو فرمان دهد من بران سان که خواست  ****  به خون ریختن کار بر سر نهاست\n",
      "----------------------------------------------------------------------------------------------------\n",
      "Epoch 70, Loss:0.7840117125365981\n",
      "random completed poem from validation set:\n",
      "چنین است انجام و فرجام جنگ  ****  به بی روز بر کس نماند به بنگ\n",
      "----------------------------------------------------------------------------------------------------\n",
      "Epoch 80, Loss:0.7493805265388425\n",
      "random completed poem from validation set:\n",
      "سواران که بودند بر میسره  ****  به بار امد ان بد که با افره\n",
      "----------------------------------------------------------------------------------------------------\n",
      "Epoch 90, Loss:0.9320142850852928\n",
      "random completed poem from validation set:\n",
      "به شاهی برو افرین خواندند  ****  به بیداد بر کشته بد بر زمند\n",
      "----------------------------------------------------------------------------------------------------\n",
      "Epoch 100, Loss:0.802771543701872\n",
      "random completed poem from validation set:\n",
      "چو گرگین میلاد و گردان ری  ****  به بالای ان کینه و اب ری\n",
      "----------------------------------------------------------------------------------------------------\n",
      "Epoch 110, Loss:0.7809653506160544\n",
      "random completed poem from validation set:\n",
      "پسر بد یکی خرد شاپور نام  ****  به نیکی دهش رای و روشن روام\n",
      "----------------------------------------------------------------------------------------------------\n",
      "Epoch 120, Loss:0.9564226937408634\n",
      "random completed poem from validation set:\n",
      "ز جنگ پیاده بپیچید سر  ****  به بالین نهادند بر کارزر\n",
      "----------------------------------------------------------------------------------------------------\n",
      "Epoch 130, Loss:0.862513661623383\n",
      "random completed poem from validation set:\n",
      "گروگان و این خواسته هرچ هست  ****  به بیداد بر کردگار درست\n",
      "----------------------------------------------------------------------------------------------------\n",
      "Epoch 140, Loss:0.8057849198006664\n",
      "random completed poem from validation set:\n",
      "همی بر نوشتی تو بازار من  ****  به بالار بر مردم نام من\n",
      "----------------------------------------------------------------------------------------------------\n",
      "Epoch 150, Loss:1.05225214190208\n",
      "random completed poem from validation set:\n",
      "ازان پس که جنگ پشن دیده ای  ****  به با د به کار اندر افگنده ای\n",
      "----------------------------------------------------------------------------------------------------\n",
      "Test Loss: 4.4698224\n"
     ]
    },
    {
     "data": {
      "image/png": "[encoded data removed]",
      "text/plain": [
       "<Figure size 432x288 with 1 Axes>"
      ]
     },
     "metadata": {
      "tags": []
     },
     "output_type": "display_data"
    }
   ],
   "source": [
    "tf.reset_default_graph()\n",
    "\n",
    "embedding = models.Embedding(params['VOCAB_SIZE'], params['EMBEDDING_SIZE'])\n",
    "encoder = models.EncoderRNN(params['VOCAB_SIZE'], params['HIDDEN_SIZE'], params['N_LAYERS'])\n",
    "attn_decoder = models.AttnDecoderRNN(params['VOCAB_SIZE'], params['HIDDEN_SIZE'], params['VOCAB_SIZE'], params['N_LAYERS'])\n",
    "attn_model  = models.Seq2SeqModel(encoder, attn_decoder, embedding, params['MAX_LEN'], params['BEGIN_CHAR'])\n",
    "\n",
    "attn_model_sess, loss_history = train(attn_model, data, params.copy())\n",
    "test_loss = attn_model_sess.run(attn_model.loss, feed_dict={attn_model.input_data: data['X_test'], \n",
    "                                                       attn_model.target_data: data['Y_test'],\n",
    "                                                       attn_model.teacher_forcing: 0})\n",
    "print('Test Loss:', test_loss)\n",
    "plt.plot(range(1, params['EPOCHS']+1), loss_history, '-b.',label='epoch loss')\n",
    "plt.legend()\n",
    "plt.show()"
   ]
  },
  {
   "cell_type": "markdown",
   "metadata": {
    "colab_type": "text",
    "id": "pRs_HDcLcPMt"
   },
   "source": [
    "# Test and Visualization"
   ]
  },
  {
   "cell_type": "code",
   "execution_count": 8,
   "metadata": {
    "colab": {},
    "colab_type": "code",
    "id": "JzdSLrT6KykT"
   },
   "outputs": [],
   "source": [
    "import matplotlib.cm as cm\n",
    "\n",
    "def print_weight(c, line, vals):\n",
    "    cmap = cm.get_cmap('Reds')\n",
    "    token = c if c != \" \" else \"ـ\"\n",
    "    char_tag = \"<span>\" + token + \"</span>\"\n",
    "    space_tag = \"<span>\\t\\t:\\t\\t</span>\"\n",
    "    line_tag = \"\"\n",
    "    for i in range(len(line)):\n",
    "        r, g, b, _ = cmap(vals[i])\n",
    "        r, g, b = int(255*r), int(255*g), int(255*b)\n",
    "        rgb = str(r)+\",\"+str(g)+\",\"+str(b)\n",
    "        line_tag += (\"<span style='background-color: rgb({0})'>\" + line[i] + \"</span>\").format(rgb)\n",
    "    tag = \"<div>\" + line_tag + space_tag + char_tag + \"</div>\"\n",
    "    return tag"
   ]
  },
  {
   "cell_type": "code",
   "execution_count": 9,
   "metadata": {
    "colab": {
     "base_uri": "https://localhost:8080/",
     "height": 11271
    },
    "colab_type": "code",
    "executionInfo": {
     "elapsed": 8610,
     "status": "ok",
     "timestamp": 1558018346209,
     "user": {
      "displayName": "Armin Karamzade",
      "photoUrl": "",
      "userId": "11698700105419657409"
     },
     "user_tz": -270
    },
    "id": "LNRpknQPmas6",
    "outputId": "9556c9da-9540-428f-a519-3d38abe66c55",
    "scrolled": false
   },
   "outputs": [
    {
     "name": "stdout",
     "output_type": "stream",
     "text": [
      "Test input:\n",
      "کنون چاره ای هست نزدیک من  ****  مگو این سخن بر سر انجمن\n",
      "Seq2Seq output:\n",
      "ببردند پس پیش این انجمن\n",
      "Seq2Seq with attention output:\n",
      "به از  به کنداوران مر بهن\n",
      "Weights of attention:\n"
     ]
    },
    {
     "data": {
      "text/html": [
       "<div><span style='background-color: rgb(254,243,238)'>ک</span><span style='background-color: rgb(254,244,239)'>ن</span><span style='background-color: rgb(254,243,238)'>و</span><span style='background-color: rgb(254,243,237)'>ن</span><span style='background-color: rgb(254,243,237)'> </span><span style='background-color: rgb(254,243,238)'>چ</span><span style='background-color: rgb(254,241,235)'>ا</span><span style='background-color: rgb(254,244,239)'>ر</span><span style='background-color: rgb(255,245,240)'>ه</span><span style='background-color: rgb(255,245,240)'> </span><span style='background-color: rgb(254,243,237)'>ا</span><span style='background-color: rgb(254,243,238)'>ی</span><span style='background-color: rgb(254,244,239)'> </span><span style='background-color: rgb(255,245,240)'>ه</span><span style='background-color: rgb(254,243,238)'>س</span><span style='background-color: rgb(255,245,240)'>ت</span><span style='background-color: rgb(255,245,240)'> </span><span style='background-color: rgb(255,245,240)'>ن</span><span style='background-color: rgb(255,245,240)'>ز</span><span style='background-color: rgb(254,244,239)'>د</span><span style='background-color: rgb(255,245,240)'>ی</span><span style='background-color: rgb(254,244,239)'>ک</span><span style='background-color: rgb(254,244,239)'> </span><span style='background-color: rgb(255,245,240)'>م</span><span style='background-color: rgb(254,243,238)'>ن</span><span>\t\t:\t\t</span><span>ب</span></div>"
      ],
      "text/plain": [
       "<IPython.core.display.HTML object>"
      ]
     },
     "metadata": {
      "tags": []
     },
     "output_type": "display_data"
    },
    {
     "data": {
      "text/html": [
       "<div><span style='background-color: rgb(254,243,237)'>ک</span><span style='background-color: rgb(254,235,225)'>ن</span><span style='background-color: rgb(254,242,236)'>و</span><span style='background-color: rgb(254,243,237)'>ن</span><span style='background-color: rgb(254,243,238)'> </span><span style='background-color: rgb(254,243,237)'>چ</span><span style='background-color: rgb(254,241,235)'>ا</span><span style='background-color: rgb(254,240,233)'>ر</span><span style='background-color: rgb(254,242,236)'>ه</span><span style='background-color: rgb(254,243,238)'> </span><span style='background-color: rgb(254,240,233)'>ا</span><span style='background-color: rgb(254,240,233)'>ی</span><span style='background-color: rgb(254,242,236)'> </span><span style='background-color: rgb(254,243,237)'>ه</span><span style='background-color: rgb(254,241,235)'>س</span><span style='background-color: rgb(254,242,236)'>ت</span><span style='background-color: rgb(254,244,239)'> </span><span style='background-color: rgb(254,244,239)'>ن</span><span style='background-color: rgb(254,244,239)'>ز</span><span style='background-color: rgb(254,243,237)'>د</span><span style='background-color: rgb(254,243,238)'>ی</span><span style='background-color: rgb(254,242,236)'>ک</span><span style='background-color: rgb(254,243,238)'> </span><span style='background-color: rgb(255,245,240)'>م</span><span style='background-color: rgb(254,244,239)'>ن</span><span>\t\t:\t\t</span><span>ه</span></div>"
      ],
      "text/plain": [
       "<IPython.core.display.HTML object>"
      ]
     },
     "metadata": {
      "tags": []
     },
     "output_type": "display_data"
    },
    {
     "data": {
      "text/html": [
       "<div><span style='background-color: rgb(254,243,238)'>ک</span><span style='background-color: rgb(254,242,236)'>ن</span><span style='background-color: rgb(254,241,235)'>و</span><span style='background-color: rgb(254,240,233)'>ن</span><span style='background-color: rgb(254,241,235)'> </span><span style='background-color: rgb(254,241,235)'>چ</span><span style='background-color: rgb(254,241,234)'>ا</span><span style='background-color: rgb(254,233,224)'>ر</span><span style='background-color: rgb(253,207,188)'>ه</span><span style='background-color: rgb(254,232,222)'> </span><span style='background-color: rgb(254,237,228)'>ا</span><span style='background-color: rgb(254,235,226)'>ی</span><span style='background-color: rgb(254,237,229)'> </span><span style='background-color: rgb(254,239,232)'>ه</span><span style='background-color: rgb(254,243,238)'>س</span><span style='background-color: rgb(254,243,237)'>ت</span><span style='background-color: rgb(254,241,235)'> </span><span style='background-color: rgb(254,239,232)'>ن</span><span style='background-color: rgb(254,242,236)'>ز</span><span style='background-color: rgb(254,241,235)'>د</span><span style='background-color: rgb(254,243,237)'>ی</span><span style='background-color: rgb(254,243,237)'>ک</span><span style='background-color: rgb(254,243,238)'> </span><span style='background-color: rgb(255,245,240)'>م</span><span style='background-color: rgb(254,241,235)'>ن</span><span>\t\t:\t\t</span><span>ـ</span></div>"
      ],
      "text/plain": [
       "<IPython.core.display.HTML object>"
      ]
     },
     "metadata": {
      "tags": []
     },
     "output_type": "display_data"
    },
    {
     "data": {
      "text/html": [
       "<div><span style='background-color: rgb(254,243,238)'>ک</span><span style='background-color: rgb(254,243,237)'>ن</span><span style='background-color: rgb(254,243,237)'>و</span><span style='background-color: rgb(254,244,239)'>ن</span><span style='background-color: rgb(254,243,238)'> </span><span style='background-color: rgb(254,242,236)'>چ</span><span style='background-color: rgb(254,241,234)'>ا</span><span style='background-color: rgb(254,243,237)'>ر</span><span style='background-color: rgb(254,243,237)'>ه</span><span style='background-color: rgb(254,243,237)'> </span><span style='background-color: rgb(254,239,232)'>ا</span><span style='background-color: rgb(254,241,235)'>ی</span><span style='background-color: rgb(254,241,234)'> </span><span style='background-color: rgb(254,241,235)'>ه</span><span style='background-color: rgb(254,242,236)'>س</span><span style='background-color: rgb(254,243,238)'>ت</span><span style='background-color: rgb(255,245,240)'> </span><span style='background-color: rgb(254,244,239)'>ن</span><span style='background-color: rgb(254,243,238)'>ز</span><span style='background-color: rgb(254,241,235)'>د</span><span style='background-color: rgb(254,242,236)'>ی</span><span style='background-color: rgb(254,243,237)'>ک</span><span style='background-color: rgb(254,244,239)'> </span><span style='background-color: rgb(254,244,239)'>م</span><span style='background-color: rgb(255,245,240)'>ن</span><span>\t\t:\t\t</span><span>ا</span></div>"
      ],
      "text/plain": [
       "<IPython.core.display.HTML object>"
      ]
     },
     "metadata": {
      "tags": []
     },
     "output_type": "display_data"
    },
    {
     "data": {
      "text/html": [
       "<div><span style='background-color: rgb(254,240,233)'>ک</span><span style='background-color: rgb(254,243,237)'>ن</span><span style='background-color: rgb(254,239,231)'>و</span><span style='background-color: rgb(254,237,228)'>ن</span><span style='background-color: rgb(254,243,237)'> </span><span style='background-color: rgb(254,242,236)'>چ</span><span style='background-color: rgb(254,237,229)'>ا</span><span style='background-color: rgb(254,241,235)'>ر</span><span style='background-color: rgb(254,243,237)'>ه</span><span style='background-color: rgb(254,243,238)'> </span><span style='background-color: rgb(254,241,234)'>ا</span><span style='background-color: rgb(254,241,235)'>ی</span><span style='background-color: rgb(254,243,238)'> </span><span style='background-color: rgb(254,243,238)'>ه</span><span style='background-color: rgb(254,243,237)'>س</span><span style='background-color: rgb(254,241,234)'>ت</span><span style='background-color: rgb(254,244,239)'> </span><span style='background-color: rgb(255,245,240)'>ن</span><span style='background-color: rgb(255,245,240)'>ز</span><span style='background-color: rgb(255,245,240)'>د</span><span style='background-color: rgb(254,244,239)'>ی</span><span style='background-color: rgb(254,244,239)'>ک</span><span style='background-color: rgb(254,244,239)'> </span><span style='background-color: rgb(254,244,239)'>م</span><span style='background-color: rgb(254,241,234)'>ن</span><span>\t\t:\t\t</span><span>ز</span></div>"
      ],
      "text/plain": [
       "<IPython.core.display.HTML object>"
      ]
     },
     "metadata": {
      "tags": []
     },
     "output_type": "display_data"
    },
    {
     "data": {
      "text/html": [
       "<div><span style='background-color: rgb(254,243,237)'>ک</span><span style='background-color: rgb(254,241,234)'>ن</span><span style='background-color: rgb(254,243,237)'>و</span><span style='background-color: rgb(254,241,235)'>ن</span><span style='background-color: rgb(254,241,234)'> </span><span style='background-color: rgb(254,242,236)'>چ</span><span style='background-color: rgb(254,240,233)'>ا</span><span style='background-color: rgb(254,237,229)'>ر</span><span style='background-color: rgb(254,238,230)'>ه</span><span style='background-color: rgb(254,237,229)'> </span><span style='background-color: rgb(254,240,233)'>ا</span><span style='background-color: rgb(254,237,229)'>ی</span><span style='background-color: rgb(254,230,219)'> </span><span style='background-color: rgb(254,241,234)'>ه</span><span style='background-color: rgb(254,240,233)'>س</span><span style='background-color: rgb(254,240,233)'>ت</span><span style='background-color: rgb(254,242,236)'> </span><span style='background-color: rgb(254,242,236)'>ن</span><span style='background-color: rgb(254,243,237)'>ز</span><span style='background-color: rgb(254,242,236)'>د</span><span style='background-color: rgb(254,236,227)'>ی</span><span style='background-color: rgb(254,243,237)'>ک</span><span style='background-color: rgb(254,242,236)'> </span><span style='background-color: rgb(255,245,240)'>م</span><span style='background-color: rgb(254,243,237)'>ن</span><span>\t\t:\t\t</span><span>ـ</span></div>"
      ],
      "text/plain": [
       "<IPython.core.display.HTML object>"
      ]
     },
     "metadata": {
      "tags": []
     },
     "output_type": "display_data"
    },
    {
     "data": {
      "text/html": [
       "<div><span style='background-color: rgb(254,244,239)'>ک</span><span style='background-color: rgb(254,243,237)'>ن</span><span style='background-color: rgb(254,241,235)'>و</span><span style='background-color: rgb(254,243,237)'>ن</span><span style='background-color: rgb(254,243,237)'> </span><span style='background-color: rgb(254,240,233)'>چ</span><span style='background-color: rgb(254,240,233)'>ا</span><span style='background-color: rgb(254,239,231)'>ر</span><span style='background-color: rgb(254,239,232)'>ه</span><span style='background-color: rgb(254,240,233)'> </span><span style='background-color: rgb(254,238,230)'>ا</span><span style='background-color: rgb(254,236,227)'>ی</span><span style='background-color: rgb(254,235,225)'> </span><span style='background-color: rgb(254,240,233)'>ه</span><span style='background-color: rgb(254,241,235)'>س</span><span style='background-color: rgb(254,243,238)'>ت</span><span style='background-color: rgb(254,244,239)'> </span><span style='background-color: rgb(254,243,238)'>ن</span><span style='background-color: rgb(254,243,238)'>ز</span><span style='background-color: rgb(254,241,234)'>د</span><span style='background-color: rgb(254,241,235)'>ی</span><span style='background-color: rgb(254,241,234)'>ک</span><span style='background-color: rgb(254,242,236)'> </span><span style='background-color: rgb(254,243,238)'>م</span><span style='background-color: rgb(254,243,238)'>ن</span><span>\t\t:\t\t</span><span>ـ</span></div>"
      ],
      "text/plain": [
       "<IPython.core.display.HTML object>"
      ]
     },
     "metadata": {
      "tags": []
     },
     "output_type": "display_data"
    },
    {
     "data": {
      "text/html": [
       "<div><span style='background-color: rgb(254,243,237)'>ک</span><span style='background-color: rgb(254,243,237)'>ن</span><span style='background-color: rgb(254,240,233)'>و</span><span style='background-color: rgb(254,242,236)'>ن</span><span style='background-color: rgb(254,243,237)'> </span><span style='background-color: rgb(254,243,238)'>چ</span><span style='background-color: rgb(254,241,235)'>ا</span><span style='background-color: rgb(254,242,236)'>ر</span><span style='background-color: rgb(254,243,238)'>ه</span><span style='background-color: rgb(254,243,238)'> </span><span style='background-color: rgb(254,242,236)'>ا</span><span style='background-color: rgb(254,243,238)'>ی</span><span style='background-color: rgb(254,242,236)'> </span><span style='background-color: rgb(254,244,239)'>ه</span><span style='background-color: rgb(254,243,238)'>س</span><span style='background-color: rgb(255,245,240)'>ت</span><span style='background-color: rgb(255,245,240)'> </span><span style='background-color: rgb(255,245,240)'>ن</span><span style='background-color: rgb(255,245,240)'>ز</span><span style='background-color: rgb(254,244,239)'>د</span><span style='background-color: rgb(254,243,238)'>ی</span><span style='background-color: rgb(254,244,239)'>ک</span><span style='background-color: rgb(254,244,239)'> </span><span style='background-color: rgb(254,243,237)'>م</span><span style='background-color: rgb(254,244,239)'>ن</span><span>\t\t:\t\t</span><span>ب</span></div>"
      ],
      "text/plain": [
       "<IPython.core.display.HTML object>"
      ]
     },
     "metadata": {
      "tags": []
     },
     "output_type": "display_data"
    },
    {
     "data": {
      "text/html": [
       "<div><span style='background-color: rgb(254,239,231)'>ک</span><span style='background-color: rgb(254,236,227)'>ن</span><span style='background-color: rgb(254,240,233)'>و</span><span style='background-color: rgb(254,241,234)'>ن</span><span style='background-color: rgb(254,243,237)'> </span><span style='background-color: rgb(254,243,238)'>چ</span><span style='background-color: rgb(254,244,239)'>ا</span><span style='background-color: rgb(254,243,238)'>ر</span><span style='background-color: rgb(254,241,235)'>ه</span><span style='background-color: rgb(254,243,237)'> </span><span style='background-color: rgb(254,243,237)'>ا</span><span style='background-color: rgb(254,242,236)'>ی</span><span style='background-color: rgb(254,241,234)'> </span><span style='background-color: rgb(254,242,236)'>ه</span><span style='background-color: rgb(254,241,235)'>س</span><span style='background-color: rgb(254,243,238)'>ت</span><span style='background-color: rgb(254,244,239)'> </span><span style='background-color: rgb(254,243,238)'>ن</span><span style='background-color: rgb(254,243,238)'>ز</span><span style='background-color: rgb(254,243,237)'>د</span><span style='background-color: rgb(254,240,233)'>ی</span><span style='background-color: rgb(254,243,238)'>ک</span><span style='background-color: rgb(254,243,237)'> </span><span style='background-color: rgb(254,243,238)'>م</span><span style='background-color: rgb(254,243,237)'>ن</span><span>\t\t:\t\t</span><span>ه</span></div>"
      ],
      "text/plain": [
       "<IPython.core.display.HTML object>"
      ]
     },
     "metadata": {
      "tags": []
     },
     "output_type": "display_data"
    },
    {
     "data": {
      "text/html": [
       "<div><span style='background-color: rgb(254,242,236)'>ک</span><span style='background-color: rgb(254,241,234)'>ن</span><span style='background-color: rgb(254,241,234)'>و</span><span style='background-color: rgb(254,238,230)'>ن</span><span style='background-color: rgb(254,242,236)'> </span><span style='background-color: rgb(254,242,236)'>چ</span><span style='background-color: rgb(254,239,231)'>ا</span><span style='background-color: rgb(254,225,211)'>ر</span><span style='background-color: rgb(253,222,208)'>ه</span><span style='background-color: rgb(253,223,209)'> </span><span style='background-color: rgb(254,235,225)'>ا</span><span style='background-color: rgb(254,242,236)'>ی</span><span style='background-color: rgb(254,241,235)'> </span><span style='background-color: rgb(254,243,237)'>ه</span><span style='background-color: rgb(254,243,237)'>س</span><span style='background-color: rgb(254,241,235)'>ت</span><span style='background-color: rgb(254,243,238)'> </span><span style='background-color: rgb(254,242,236)'>ن</span><span style='background-color: rgb(254,243,238)'>ز</span><span style='background-color: rgb(254,242,236)'>د</span><span style='background-color: rgb(254,242,236)'>ی</span><span style='background-color: rgb(254,241,234)'>ک</span><span style='background-color: rgb(254,243,237)'> </span><span style='background-color: rgb(255,245,240)'>م</span><span style='background-color: rgb(254,241,234)'>ن</span><span>\t\t:\t\t</span><span>ـ</span></div>"
      ],
      "text/plain": [
       "<IPython.core.display.HTML object>"
      ]
     },
     "metadata": {
      "tags": []
     },
     "output_type": "display_data"
    },
    {
     "data": {
      "text/html": [
       "<div><span style='background-color: rgb(254,243,238)'>ک</span><span style='background-color: rgb(254,242,236)'>ن</span><span style='background-color: rgb(254,244,239)'>و</span><span style='background-color: rgb(254,244,239)'>ن</span><span style='background-color: rgb(254,243,238)'> </span><span style='background-color: rgb(254,243,238)'>چ</span><span style='background-color: rgb(254,242,236)'>ا</span><span style='background-color: rgb(254,244,239)'>ر</span><span style='background-color: rgb(254,243,238)'>ه</span><span style='background-color: rgb(254,243,238)'> </span><span style='background-color: rgb(254,239,232)'>ا</span><span style='background-color: rgb(254,241,235)'>ی</span><span style='background-color: rgb(254,241,235)'> </span><span style='background-color: rgb(254,242,236)'>ه</span><span style='background-color: rgb(254,242,236)'>س</span><span style='background-color: rgb(254,244,239)'>ت</span><span style='background-color: rgb(254,244,239)'> </span><span style='background-color: rgb(254,243,238)'>ن</span><span style='background-color: rgb(254,243,237)'>ز</span><span style='background-color: rgb(254,243,237)'>د</span><span style='background-color: rgb(254,243,237)'>ی</span><span style='background-color: rgb(254,243,238)'>ک</span><span style='background-color: rgb(254,244,239)'> </span><span style='background-color: rgb(254,244,239)'>م</span><span style='background-color: rgb(255,245,240)'>ن</span><span>\t\t:\t\t</span><span>ک</span></div>"
      ],
      "text/plain": [
       "<IPython.core.display.HTML object>"
      ]
     },
     "metadata": {
      "tags": []
     },
     "output_type": "display_data"
    },
    {
     "data": {
      "text/html": [
       "<div><span style='background-color: rgb(254,239,232)'>ک</span><span style='background-color: rgb(254,238,230)'>ن</span><span style='background-color: rgb(254,239,232)'>و</span><span style='background-color: rgb(254,235,226)'>ن</span><span style='background-color: rgb(254,239,232)'> </span><span style='background-color: rgb(254,237,229)'>چ</span><span style='background-color: rgb(254,237,229)'>ا</span><span style='background-color: rgb(254,235,226)'>ر</span><span style='background-color: rgb(254,241,234)'>ه</span><span style='background-color: rgb(254,241,235)'> </span><span style='background-color: rgb(254,243,237)'>ا</span><span style='background-color: rgb(254,244,239)'>ی</span><span style='background-color: rgb(254,244,239)'> </span><span style='background-color: rgb(255,245,240)'>ه</span><span style='background-color: rgb(255,245,240)'>س</span><span style='background-color: rgb(255,245,240)'>ت</span><span style='background-color: rgb(254,244,239)'> </span><span style='background-color: rgb(254,243,237)'>ن</span><span style='background-color: rgb(254,241,235)'>ز</span><span style='background-color: rgb(254,241,234)'>د</span><span style='background-color: rgb(254,239,232)'>ی</span><span style='background-color: rgb(254,241,235)'>ک</span><span style='background-color: rgb(254,241,235)'> </span><span style='background-color: rgb(254,243,238)'>م</span><span style='background-color: rgb(254,231,220)'>ن</span><span>\t\t:\t\t</span><span>ن</span></div>"
      ],
      "text/plain": [
       "<IPython.core.display.HTML object>"
      ]
     },
     "metadata": {
      "tags": []
     },
     "output_type": "display_data"
    },
    {
     "data": {
      "text/html": [
       "<div><span style='background-color: rgb(254,240,233)'>ک</span><span style='background-color: rgb(254,241,235)'>ن</span><span style='background-color: rgb(254,242,236)'>و</span><span style='background-color: rgb(254,243,238)'>ن</span><span style='background-color: rgb(255,245,240)'> </span><span style='background-color: rgb(254,244,239)'>چ</span><span style='background-color: rgb(254,242,236)'>ا</span><span style='background-color: rgb(254,243,237)'>ر</span><span style='background-color: rgb(254,241,234)'>ه</span><span style='background-color: rgb(254,237,228)'> </span><span style='background-color: rgb(254,238,230)'>ا</span><span style='background-color: rgb(254,240,233)'>ی</span><span style='background-color: rgb(254,235,226)'> </span><span style='background-color: rgb(254,225,212)'>ه</span><span style='background-color: rgb(254,228,216)'>س</span><span style='background-color: rgb(254,235,225)'>ت</span><span style='background-color: rgb(254,243,237)'> </span><span style='background-color: rgb(254,243,237)'>ن</span><span style='background-color: rgb(254,243,238)'>ز</span><span style='background-color: rgb(254,241,235)'>د</span><span style='background-color: rgb(254,241,234)'>ی</span><span style='background-color: rgb(254,243,237)'>ک</span><span style='background-color: rgb(254,244,239)'> </span><span style='background-color: rgb(255,245,240)'>م</span><span style='background-color: rgb(254,243,238)'>ن</span><span>\t\t:\t\t</span><span>د</span></div>"
      ],
      "text/plain": [
       "<IPython.core.display.HTML object>"
      ]
     },
     "metadata": {
      "tags": []
     },
     "output_type": "display_data"
    },
    {
     "data": {
      "text/html": [
       "<div><span style='background-color: rgb(254,238,230)'>ک</span><span style='background-color: rgb(254,237,228)'>ن</span><span style='background-color: rgb(254,243,238)'>و</span><span style='background-color: rgb(255,245,240)'>ن</span><span style='background-color: rgb(255,245,240)'> </span><span style='background-color: rgb(254,242,236)'>چ</span><span style='background-color: rgb(254,241,235)'>ا</span><span style='background-color: rgb(254,243,237)'>ر</span><span style='background-color: rgb(254,242,236)'>ه</span><span style='background-color: rgb(254,239,232)'> </span><span style='background-color: rgb(254,239,231)'>ا</span><span style='background-color: rgb(254,241,235)'>ی</span><span style='background-color: rgb(254,242,236)'> </span><span style='background-color: rgb(254,241,235)'>ه</span><span style='background-color: rgb(254,240,233)'>س</span><span style='background-color: rgb(254,241,235)'>ت</span><span style='background-color: rgb(254,241,235)'> </span><span style='background-color: rgb(254,241,234)'>ن</span><span style='background-color: rgb(254,243,237)'>ز</span><span style='background-color: rgb(254,243,237)'>د</span><span style='background-color: rgb(254,240,233)'>ی</span><span style='background-color: rgb(254,243,238)'>ک</span><span style='background-color: rgb(254,243,237)'> </span><span style='background-color: rgb(255,245,240)'>م</span><span style='background-color: rgb(254,244,239)'>ن</span><span>\t\t:\t\t</span><span>ا</span></div>"
      ],
      "text/plain": [
       "<IPython.core.display.HTML object>"
      ]
     },
     "metadata": {
      "tags": []
     },
     "output_type": "display_data"
    },
    {
     "data": {
      "text/html": [
       "<div><span style='background-color: rgb(254,240,233)'>ک</span><span style='background-color: rgb(254,239,231)'>ن</span><span style='background-color: rgb(254,241,234)'>و</span><span style='background-color: rgb(254,242,236)'>ن</span><span style='background-color: rgb(254,243,237)'> </span><span style='background-color: rgb(254,241,234)'>چ</span><span style='background-color: rgb(254,240,233)'>ا</span><span style='background-color: rgb(254,243,237)'>ر</span><span style='background-color: rgb(254,241,234)'>ه</span><span style='background-color: rgb(254,243,237)'> </span><span style='background-color: rgb(254,236,227)'>ا</span><span style='background-color: rgb(254,235,225)'>ی</span><span style='background-color: rgb(254,237,228)'> </span><span style='background-color: rgb(254,242,236)'>ه</span><span style='background-color: rgb(254,243,237)'>س</span><span style='background-color: rgb(254,243,237)'>ت</span><span style='background-color: rgb(254,244,239)'> </span><span style='background-color: rgb(254,244,239)'>ن</span><span style='background-color: rgb(254,244,239)'>ز</span><span style='background-color: rgb(254,243,238)'>د</span><span style='background-color: rgb(254,243,237)'>ی</span><span style='background-color: rgb(254,242,236)'>ک</span><span style='background-color: rgb(254,244,239)'> </span><span style='background-color: rgb(255,245,240)'>م</span><span style='background-color: rgb(255,245,240)'>ن</span><span>\t\t:\t\t</span><span>و</span></div>"
      ],
      "text/plain": [
       "<IPython.core.display.HTML object>"
      ]
     },
     "metadata": {
      "tags": []
     },
     "output_type": "display_data"
    },
    {
     "data": {
      "text/html": [
       "<div><span style='background-color: rgb(254,239,231)'>ک</span><span style='background-color: rgb(254,231,220)'>ن</span><span style='background-color: rgb(254,229,217)'>و</span><span style='background-color: rgb(253,215,199)'>ن</span><span style='background-color: rgb(254,238,230)'> </span><span style='background-color: rgb(254,235,225)'>چ</span><span style='background-color: rgb(254,237,228)'>ا</span><span style='background-color: rgb(254,235,225)'>ر</span><span style='background-color: rgb(254,227,215)'>ه</span><span style='background-color: rgb(254,237,228)'> </span><span style='background-color: rgb(254,234,224)'>ا</span><span style='background-color: rgb(254,241,235)'>ی</span><span style='background-color: rgb(254,244,239)'> </span><span style='background-color: rgb(254,244,239)'>ه</span><span style='background-color: rgb(255,245,240)'>س</span><span style='background-color: rgb(254,244,239)'>ت</span><span style='background-color: rgb(254,243,238)'> </span><span style='background-color: rgb(254,243,238)'>ن</span><span style='background-color: rgb(254,244,239)'>ز</span><span style='background-color: rgb(255,245,240)'>د</span><span style='background-color: rgb(254,243,237)'>ی</span><span style='background-color: rgb(254,242,236)'>ک</span><span style='background-color: rgb(254,243,237)'> </span><span style='background-color: rgb(255,245,240)'>م</span><span style='background-color: rgb(254,243,237)'>ن</span><span>\t\t:\t\t</span><span>ر</span></div>"
      ],
      "text/plain": [
       "<IPython.core.display.HTML object>"
      ]
     },
     "metadata": {
      "tags": []
     },
     "output_type": "display_data"
    },
    {
     "data": {
      "text/html": [
       "<div><span style='background-color: rgb(254,241,235)'>ک</span><span style='background-color: rgb(254,243,237)'>ن</span><span style='background-color: rgb(254,244,239)'>و</span><span style='background-color: rgb(254,244,239)'>ن</span><span style='background-color: rgb(254,244,239)'> </span><span style='background-color: rgb(254,244,239)'>چ</span><span style='background-color: rgb(254,244,239)'>ا</span><span style='background-color: rgb(254,244,239)'>ر</span><span style='background-color: rgb(254,239,232)'>ه</span><span style='background-color: rgb(254,240,233)'> </span><span style='background-color: rgb(254,239,231)'>ا</span><span style='background-color: rgb(254,242,236)'>ی</span><span style='background-color: rgb(254,241,235)'> </span><span style='background-color: rgb(254,239,231)'>ه</span><span style='background-color: rgb(254,240,233)'>س</span><span style='background-color: rgb(254,235,226)'>ت</span><span style='background-color: rgb(254,232,222)'> </span><span style='background-color: rgb(254,238,230)'>ن</span><span style='background-color: rgb(254,240,233)'>ز</span><span style='background-color: rgb(254,240,233)'>د</span><span style='background-color: rgb(254,234,224)'>ی</span><span style='background-color: rgb(254,239,232)'>ک</span><span style='background-color: rgb(254,239,232)'> </span><span style='background-color: rgb(254,244,239)'>م</span><span style='background-color: rgb(254,233,223)'>ن</span><span>\t\t:\t\t</span><span>ا</span></div>"
      ],
      "text/plain": [
       "<IPython.core.display.HTML object>"
      ]
     },
     "metadata": {
      "tags": []
     },
     "output_type": "display_data"
    },
    {
     "data": {
      "text/html": [
       "<div><span style='background-color: rgb(254,242,236)'>ک</span><span style='background-color: rgb(254,243,237)'>ن</span><span style='background-color: rgb(254,243,237)'>و</span><span style='background-color: rgb(254,243,238)'>ن</span><span style='background-color: rgb(254,243,238)'> </span><span style='background-color: rgb(254,226,213)'>چ</span><span style='background-color: rgb(252,159,129)'>ا</span><span style='background-color: rgb(254,238,230)'>ر</span><span style='background-color: rgb(254,229,218)'>ه</span><span style='background-color: rgb(254,239,231)'> </span><span style='background-color: rgb(254,240,233)'>ا</span><span style='background-color: rgb(254,237,228)'>ی</span><span style='background-color: rgb(254,242,236)'> </span><span style='background-color: rgb(255,245,240)'>ه</span><span style='background-color: rgb(254,243,238)'>س</span><span style='background-color: rgb(254,243,237)'>ت</span><span style='background-color: rgb(255,245,240)'> </span><span style='background-color: rgb(255,245,240)'>ن</span><span style='background-color: rgb(255,245,240)'>ز</span><span style='background-color: rgb(254,244,239)'>د</span><span style='background-color: rgb(254,243,237)'>ی</span><span style='background-color: rgb(254,241,234)'>ک</span><span style='background-color: rgb(254,244,239)'> </span><span style='background-color: rgb(255,245,240)'>م</span><span style='background-color: rgb(254,239,231)'>ن</span><span>\t\t:\t\t</span><span>ن</span></div>"
      ],
      "text/plain": [
       "<IPython.core.display.HTML object>"
      ]
     },
     "metadata": {
      "tags": []
     },
     "output_type": "display_data"
    },
    {
     "data": {
      "text/html": [
       "<div><span style='background-color: rgb(254,239,231)'>ک</span><span style='background-color: rgb(254,236,227)'>ن</span><span style='background-color: rgb(254,244,239)'>و</span><span style='background-color: rgb(255,245,240)'>ن</span><span style='background-color: rgb(255,245,240)'> </span><span style='background-color: rgb(255,245,240)'>چ</span><span style='background-color: rgb(254,243,237)'>ا</span><span style='background-color: rgb(254,239,231)'>ر</span><span style='background-color: rgb(253,215,199)'>ه</span><span style='background-color: rgb(254,226,213)'> </span><span style='background-color: rgb(254,237,228)'>ا</span><span style='background-color: rgb(254,233,224)'>ی</span><span style='background-color: rgb(254,225,212)'> </span><span style='background-color: rgb(254,242,236)'>ه</span><span style='background-color: rgb(254,243,238)'>س</span><span style='background-color: rgb(254,241,235)'>ت</span><span style='background-color: rgb(254,240,233)'> </span><span style='background-color: rgb(254,239,231)'>ن</span><span style='background-color: rgb(254,241,234)'>ز</span><span style='background-color: rgb(254,240,233)'>د</span><span style='background-color: rgb(254,236,227)'>ی</span><span style='background-color: rgb(254,243,237)'>ک</span><span style='background-color: rgb(255,245,240)'> </span><span style='background-color: rgb(255,245,240)'>م</span><span style='background-color: rgb(254,243,238)'>ن</span><span>\t\t:\t\t</span><span>ـ</span></div>"
      ],
      "text/plain": [
       "<IPython.core.display.HTML object>"
      ]
     },
     "metadata": {
      "tags": []
     },
     "output_type": "display_data"
    },
    {
     "data": {
      "text/html": [
       "<div><span style='background-color: rgb(254,243,238)'>ک</span><span style='background-color: rgb(254,241,235)'>ن</span><span style='background-color: rgb(254,241,235)'>و</span><span style='background-color: rgb(254,243,238)'>ن</span><span style='background-color: rgb(254,241,235)'> </span><span style='background-color: rgb(254,242,236)'>چ</span><span style='background-color: rgb(254,241,235)'>ا</span><span style='background-color: rgb(254,244,239)'>ر</span><span style='background-color: rgb(255,245,240)'>ه</span><span style='background-color: rgb(255,245,240)'> </span><span style='background-color: rgb(254,244,239)'>ا</span><span style='background-color: rgb(254,243,238)'>ی</span><span style='background-color: rgb(254,243,237)'> </span><span style='background-color: rgb(254,243,238)'>ه</span><span style='background-color: rgb(254,243,238)'>س</span><span style='background-color: rgb(255,245,240)'>ت</span><span style='background-color: rgb(255,245,240)'> </span><span style='background-color: rgb(254,244,239)'>ن</span><span style='background-color: rgb(254,244,239)'>ز</span><span style='background-color: rgb(254,242,236)'>د</span><span style='background-color: rgb(254,241,235)'>ی</span><span style='background-color: rgb(254,241,235)'>ک</span><span style='background-color: rgb(254,243,237)'> </span><span style='background-color: rgb(254,232,222)'>م</span><span style='background-color: rgb(254,244,239)'>ن</span><span>\t\t:\t\t</span><span>م</span></div>"
      ],
      "text/plain": [
       "<IPython.core.display.HTML object>"
      ]
     },
     "metadata": {
      "tags": []
     },
     "output_type": "display_data"
    },
    {
     "data": {
      "text/html": [
       "<div><span style='background-color: rgb(254,238,230)'>ک</span><span style='background-color: rgb(254,241,235)'>ن</span><span style='background-color: rgb(254,236,227)'>و</span><span style='background-color: rgb(254,231,221)'>ن</span><span style='background-color: rgb(254,239,231)'> </span><span style='background-color: rgb(254,241,234)'>چ</span><span style='background-color: rgb(254,235,226)'>ا</span><span style='background-color: rgb(254,240,233)'>ر</span><span style='background-color: rgb(254,243,237)'>ه</span><span style='background-color: rgb(254,243,238)'> </span><span style='background-color: rgb(254,243,237)'>ا</span><span style='background-color: rgb(255,245,240)'>ی</span><span style='background-color: rgb(255,245,240)'> </span><span style='background-color: rgb(255,245,240)'>ه</span><span style='background-color: rgb(254,244,239)'>س</span><span style='background-color: rgb(255,245,240)'>ت</span><span style='background-color: rgb(255,245,240)'> </span><span style='background-color: rgb(254,244,239)'>ن</span><span style='background-color: rgb(254,243,238)'>ز</span><span style='background-color: rgb(254,243,238)'>د</span><span style='background-color: rgb(254,243,238)'>ی</span><span style='background-color: rgb(254,244,239)'>ک</span><span style='background-color: rgb(254,244,239)'> </span><span style='background-color: rgb(254,244,239)'>م</span><span style='background-color: rgb(254,239,231)'>ن</span><span>\t\t:\t\t</span><span>ر</span></div>"
      ],
      "text/plain": [
       "<IPython.core.display.HTML object>"
      ]
     },
     "metadata": {
      "tags": []
     },
     "output_type": "display_data"
    },
    {
     "data": {
      "text/html": [
       "<div><span style='background-color: rgb(254,244,239)'>ک</span><span style='background-color: rgb(254,244,239)'>ن</span><span style='background-color: rgb(255,245,240)'>و</span><span style='background-color: rgb(255,245,240)'>ن</span><span style='background-color: rgb(254,244,239)'> </span><span style='background-color: rgb(254,240,233)'>چ</span><span style='background-color: rgb(254,242,236)'>ا</span><span style='background-color: rgb(254,242,236)'>ر</span><span style='background-color: rgb(254,239,232)'>ه</span><span style='background-color: rgb(254,239,232)'> </span><span style='background-color: rgb(254,235,225)'>ا</span><span style='background-color: rgb(254,236,227)'>ی</span><span style='background-color: rgb(254,233,224)'> </span><span style='background-color: rgb(254,229,217)'>ه</span><span style='background-color: rgb(254,237,229)'>س</span><span style='background-color: rgb(254,243,237)'>ت</span><span style='background-color: rgb(254,243,237)'> </span><span style='background-color: rgb(254,243,237)'>ن</span><span style='background-color: rgb(254,243,237)'>ز</span><span style='background-color: rgb(254,243,237)'>د</span><span style='background-color: rgb(254,241,234)'>ی</span><span style='background-color: rgb(254,239,232)'>ک</span><span style='background-color: rgb(254,237,229)'> </span><span style='background-color: rgb(254,241,235)'>م</span><span style='background-color: rgb(254,229,218)'>ن</span><span>\t\t:\t\t</span><span>ـ</span></div>"
      ],
      "text/plain": [
       "<IPython.core.display.HTML object>"
      ]
     },
     "metadata": {
      "tags": []
     },
     "output_type": "display_data"
    },
    {
     "data": {
      "text/html": [
       "<div><span style='background-color: rgb(255,245,240)'>ک</span><span style='background-color: rgb(255,245,240)'>ن</span><span style='background-color: rgb(255,245,240)'>و</span><span style='background-color: rgb(255,245,240)'>ن</span><span style='background-color: rgb(255,245,240)'> </span><span style='background-color: rgb(254,244,239)'>چ</span><span style='background-color: rgb(254,243,238)'>ا</span><span style='background-color: rgb(254,243,238)'>ر</span><span style='background-color: rgb(254,244,239)'>ه</span><span style='background-color: rgb(254,244,239)'> </span><span style='background-color: rgb(255,245,240)'>ا</span><span style='background-color: rgb(254,244,239)'>ی</span><span style='background-color: rgb(254,242,236)'> </span><span style='background-color: rgb(254,244,239)'>ه</span><span style='background-color: rgb(254,244,239)'>س</span><span style='background-color: rgb(255,245,240)'>ت</span><span style='background-color: rgb(255,245,240)'> </span><span style='background-color: rgb(255,245,240)'>ن</span><span style='background-color: rgb(255,245,240)'>ز</span><span style='background-color: rgb(255,245,240)'>د</span><span style='background-color: rgb(254,241,235)'>ی</span><span style='background-color: rgb(254,237,228)'>ک</span><span style='background-color: rgb(254,241,234)'> </span><span style='background-color: rgb(254,225,211)'>م</span><span style='background-color: rgb(254,239,231)'>ن</span><span>\t\t:\t\t</span><span>ب</span></div>"
      ],
      "text/plain": [
       "<IPython.core.display.HTML object>"
      ]
     },
     "metadata": {
      "tags": []
     },
     "output_type": "display_data"
    },
    {
     "data": {
      "text/html": [
       "<div><span style='background-color: rgb(254,243,238)'>ک</span><span style='background-color: rgb(254,236,227)'>ن</span><span style='background-color: rgb(254,244,239)'>و</span><span style='background-color: rgb(254,244,239)'>ن</span><span style='background-color: rgb(255,245,240)'> </span><span style='background-color: rgb(255,245,240)'>چ</span><span style='background-color: rgb(255,245,240)'>ا</span><span style='background-color: rgb(255,245,240)'>ر</span><span style='background-color: rgb(255,245,240)'>ه</span><span style='background-color: rgb(255,245,240)'> </span><span style='background-color: rgb(254,244,239)'>ا</span><span style='background-color: rgb(254,244,239)'>ی</span><span style='background-color: rgb(255,245,240)'> </span><span style='background-color: rgb(254,244,239)'>ه</span><span style='background-color: rgb(254,243,237)'>س</span><span style='background-color: rgb(254,244,239)'>ت</span><span style='background-color: rgb(255,245,240)'> </span><span style='background-color: rgb(255,245,240)'>ن</span><span style='background-color: rgb(255,245,240)'>ز</span><span style='background-color: rgb(255,245,240)'>د</span><span style='background-color: rgb(255,245,240)'>ی</span><span style='background-color: rgb(254,240,233)'>ک</span><span style='background-color: rgb(254,241,235)'> </span><span style='background-color: rgb(254,234,224)'>م</span><span style='background-color: rgb(253,209,191)'>ن</span><span>\t\t:\t\t</span><span>ه</span></div>"
      ],
      "text/plain": [
       "<IPython.core.display.HTML object>"
      ]
     },
     "metadata": {
      "tags": []
     },
     "output_type": "display_data"
    },
    {
     "data": {
      "text/html": [
       "<div><span style='background-color: rgb(255,245,240)'>ک</span><span style='background-color: rgb(255,245,240)'>ن</span><span style='background-color: rgb(255,245,240)'>و</span><span style='background-color: rgb(254,244,239)'>ن</span><span style='background-color: rgb(255,245,240)'> </span><span style='background-color: rgb(255,245,240)'>چ</span><span style='background-color: rgb(255,245,240)'>ا</span><span style='background-color: rgb(254,243,238)'>ر</span><span style='background-color: rgb(254,241,235)'>ه</span><span style='background-color: rgb(254,241,235)'> </span><span style='background-color: rgb(254,244,239)'>ا</span><span style='background-color: rgb(254,244,239)'>ی</span><span style='background-color: rgb(254,244,239)'> </span><span style='background-color: rgb(255,245,240)'>ه</span><span style='background-color: rgb(254,244,239)'>س</span><span style='background-color: rgb(254,243,238)'>ت</span><span style='background-color: rgb(254,243,237)'> </span><span style='background-color: rgb(254,243,237)'>ن</span><span style='background-color: rgb(254,244,239)'>ز</span><span style='background-color: rgb(254,244,239)'>د</span><span style='background-color: rgb(254,243,238)'>ی</span><span style='background-color: rgb(254,242,236)'>ک</span><span style='background-color: rgb(254,241,234)'> </span><span style='background-color: rgb(254,242,236)'>م</span><span style='background-color: rgb(239,61,45)'>ن</span><span>\t\t:\t\t</span><span>ن</span></div>"
      ],
      "text/plain": [
       "<IPython.core.display.HTML object>"
      ]
     },
     "metadata": {
      "tags": []
     },
     "output_type": "display_data"
    },
    {
     "name": "stdout",
     "output_type": "stream",
     "text": [
      "Test input:\n",
      "هوا پاک دیدم ز پرندگان  ****  همان روی گیتی ز درندگان\n",
      "Seq2Seq output:\n",
      "به در بر زریده ز برگش گمان\n",
      "Seq2Seq with attention output:\n",
      "به با ار او را نگه کرد ران\n",
      "Weights of attention:\n"
     ]
    },
    {
     "data": {
      "text/html": [
       "<div><span style='background-color: rgb(254,243,238)'>ه</span><span style='background-color: rgb(254,244,239)'>و</span><span style='background-color: rgb(254,243,237)'>ا</span><span style='background-color: rgb(254,243,238)'> </span><span style='background-color: rgb(254,243,238)'>پ</span><span style='background-color: rgb(254,243,237)'>ا</span><span style='background-color: rgb(255,245,240)'>ک</span><span style='background-color: rgb(254,244,239)'> </span><span style='background-color: rgb(254,244,239)'>د</span><span style='background-color: rgb(254,244,239)'>ی</span><span style='background-color: rgb(255,245,240)'>د</span><span style='background-color: rgb(254,243,238)'>م</span><span style='background-color: rgb(255,245,240)'> </span><span style='background-color: rgb(255,245,240)'>ز</span><span style='background-color: rgb(255,245,240)'> </span><span style='background-color: rgb(255,245,240)'>پ</span><span style='background-color: rgb(255,245,240)'>ر</span><span style='background-color: rgb(255,245,240)'>ن</span><span style='background-color: rgb(255,245,240)'>د</span><span style='background-color: rgb(254,244,239)'>گ</span><span style='background-color: rgb(255,245,240)'>ا</span><span style='background-color: rgb(255,245,240)'>ن</span><span>\t\t:\t\t</span><span>ب</span></div>"
      ],
      "text/plain": [
       "<IPython.core.display.HTML object>"
      ]
     },
     "metadata": {
      "tags": []
     },
     "output_type": "display_data"
    },
    {
     "data": {
      "text/html": [
       "<div><span style='background-color: rgb(254,242,236)'>ه</span><span style='background-color: rgb(254,243,237)'>و</span><span style='background-color: rgb(254,242,236)'>ا</span><span style='background-color: rgb(254,243,238)'> </span><span style='background-color: rgb(254,243,237)'>پ</span><span style='background-color: rgb(254,239,232)'>ا</span><span style='background-color: rgb(254,243,238)'>ک</span><span style='background-color: rgb(254,241,235)'> </span><span style='background-color: rgb(254,239,231)'>د</span><span style='background-color: rgb(254,242,236)'>ی</span><span style='background-color: rgb(254,243,237)'>د</span><span style='background-color: rgb(254,242,236)'>م</span><span style='background-color: rgb(254,243,238)'> </span><span style='background-color: rgb(254,243,238)'>ز</span><span style='background-color: rgb(254,243,238)'> </span><span style='background-color: rgb(254,243,238)'>پ</span><span style='background-color: rgb(254,241,235)'>ر</span><span style='background-color: rgb(254,243,237)'>ن</span><span style='background-color: rgb(254,243,237)'>د</span><span style='background-color: rgb(254,244,239)'>گ</span><span style='background-color: rgb(255,245,240)'>ا</span><span style='background-color: rgb(255,245,240)'>ن</span><span>\t\t:\t\t</span><span>ه</span></div>"
      ],
      "text/plain": [
       "<IPython.core.display.HTML object>"
      ]
     },
     "metadata": {
      "tags": []
     },
     "output_type": "display_data"
    },
    {
     "data": {
      "text/html": [
       "<div><span style='background-color: rgb(254,238,230)'>ه</span><span style='background-color: rgb(254,241,235)'>و</span><span style='background-color: rgb(254,240,233)'>ا</span><span style='background-color: rgb(254,241,234)'> </span><span style='background-color: rgb(254,239,231)'>پ</span><span style='background-color: rgb(254,227,214)'>ا</span><span style='background-color: rgb(253,214,197)'>ک</span><span style='background-color: rgb(254,234,224)'> </span><span style='background-color: rgb(254,237,229)'>د</span><span style='background-color: rgb(254,238,230)'>ی</span><span style='background-color: rgb(254,239,232)'>د</span><span style='background-color: rgb(254,243,238)'>م</span><span style='background-color: rgb(254,243,238)'> </span><span style='background-color: rgb(254,241,234)'>ز</span><span style='background-color: rgb(254,239,232)'> </span><span style='background-color: rgb(254,241,235)'>پ</span><span style='background-color: rgb(254,241,235)'>ر</span><span style='background-color: rgb(254,240,233)'>ن</span><span style='background-color: rgb(254,244,239)'>د</span><span style='background-color: rgb(254,244,239)'>گ</span><span style='background-color: rgb(255,245,240)'>ا</span><span style='background-color: rgb(254,244,239)'>ن</span><span>\t\t:\t\t</span><span>ـ</span></div>"
      ],
      "text/plain": [
       "<IPython.core.display.HTML object>"
      ]
     },
     "metadata": {
      "tags": []
     },
     "output_type": "display_data"
    },
    {
     "data": {
      "text/html": [
       "<div><span style='background-color: rgb(254,244,239)'>ه</span><span style='background-color: rgb(254,243,238)'>و</span><span style='background-color: rgb(254,243,237)'>ا</span><span style='background-color: rgb(254,242,236)'> </span><span style='background-color: rgb(254,241,234)'>پ</span><span style='background-color: rgb(254,238,230)'>ا</span><span style='background-color: rgb(254,244,239)'>ک</span><span style='background-color: rgb(254,242,236)'> </span><span style='background-color: rgb(254,239,231)'>د</span><span style='background-color: rgb(254,242,236)'>ی</span><span style='background-color: rgb(254,243,237)'>د</span><span style='background-color: rgb(254,243,237)'>م</span><span style='background-color: rgb(254,244,239)'> </span><span style='background-color: rgb(254,244,239)'>ز</span><span style='background-color: rgb(254,244,239)'> </span><span style='background-color: rgb(254,244,239)'>پ</span><span style='background-color: rgb(254,243,237)'>ر</span><span style='background-color: rgb(254,238,230)'>ن</span><span style='background-color: rgb(254,243,238)'>د</span><span style='background-color: rgb(255,245,240)'>گ</span><span style='background-color: rgb(255,245,240)'>ا</span><span style='background-color: rgb(255,245,240)'>ن</span><span>\t\t:\t\t</span><span>ب</span></div>"
      ],
      "text/plain": [
       "<IPython.core.display.HTML object>"
      ]
     },
     "metadata": {
      "tags": []
     },
     "output_type": "display_data"
    },
    {
     "data": {
      "text/html": [
       "<div><span style='background-color: rgb(254,240,233)'>ه</span><span style='background-color: rgb(254,241,235)'>و</span><span style='background-color: rgb(254,242,236)'>ا</span><span style='background-color: rgb(254,243,238)'> </span><span style='background-color: rgb(254,244,239)'>پ</span><span style='background-color: rgb(254,243,238)'>ا</span><span style='background-color: rgb(254,242,236)'>ک</span><span style='background-color: rgb(254,239,232)'> </span><span style='background-color: rgb(254,239,231)'>د</span><span style='background-color: rgb(254,239,232)'>ی</span><span style='background-color: rgb(254,239,232)'>د</span><span style='background-color: rgb(254,239,231)'>م</span><span style='background-color: rgb(254,243,238)'> </span><span style='background-color: rgb(254,243,238)'>ز</span><span style='background-color: rgb(254,243,238)'> </span><span style='background-color: rgb(254,244,239)'>پ</span><span style='background-color: rgb(254,243,238)'>ر</span><span style='background-color: rgb(254,243,238)'>ن</span><span style='background-color: rgb(255,245,240)'>د</span><span style='background-color: rgb(254,244,239)'>گ</span><span style='background-color: rgb(255,245,240)'>ا</span><span style='background-color: rgb(255,245,240)'>ن</span><span>\t\t:\t\t</span><span>ا</span></div>"
      ],
      "text/plain": [
       "<IPython.core.display.HTML object>"
      ]
     },
     "metadata": {
      "tags": []
     },
     "output_type": "display_data"
    },
    {
     "data": {
      "text/html": [
       "<div><span style='background-color: rgb(254,242,236)'>ه</span><span style='background-color: rgb(254,241,234)'>و</span><span style='background-color: rgb(254,239,232)'>ا</span><span style='background-color: rgb(254,241,235)'> </span><span style='background-color: rgb(254,243,238)'>پ</span><span style='background-color: rgb(254,241,235)'>ا</span><span style='background-color: rgb(254,239,232)'>ک</span><span style='background-color: rgb(254,235,226)'> </span><span style='background-color: rgb(254,231,220)'>د</span><span style='background-color: rgb(254,232,222)'>ی</span><span style='background-color: rgb(254,233,223)'>د</span><span style='background-color: rgb(254,243,237)'>م</span><span style='background-color: rgb(254,243,238)'> </span><span style='background-color: rgb(254,242,236)'>ز</span><span style='background-color: rgb(254,240,233)'> </span><span style='background-color: rgb(254,241,235)'>پ</span><span style='background-color: rgb(254,238,230)'>ر</span><span style='background-color: rgb(254,239,231)'>ن</span><span style='background-color: rgb(254,243,238)'>د</span><span style='background-color: rgb(255,245,240)'>گ</span><span style='background-color: rgb(255,245,240)'>ا</span><span style='background-color: rgb(254,244,239)'>ن</span><span>\t\t:\t\t</span><span>ـ</span></div>"
      ],
      "text/plain": [
       "<IPython.core.display.HTML object>"
      ]
     },
     "metadata": {
      "tags": []
     },
     "output_type": "display_data"
    },
    {
     "data": {
      "text/html": [
       "<div><span style='background-color: rgb(254,243,238)'>ه</span><span style='background-color: rgb(254,243,237)'>و</span><span style='background-color: rgb(254,242,236)'>ا</span><span style='background-color: rgb(254,241,234)'> </span><span style='background-color: rgb(254,241,235)'>پ</span><span style='background-color: rgb(254,237,228)'>ا</span><span style='background-color: rgb(254,243,237)'>ک</span><span style='background-color: rgb(254,239,232)'> </span><span style='background-color: rgb(254,237,229)'>د</span><span style='background-color: rgb(254,238,230)'>ی</span><span style='background-color: rgb(254,242,236)'>د</span><span style='background-color: rgb(254,242,236)'>م</span><span style='background-color: rgb(254,244,239)'> </span><span style='background-color: rgb(254,244,239)'>ز</span><span style='background-color: rgb(254,243,237)'> </span><span style='background-color: rgb(254,243,238)'>پ</span><span style='background-color: rgb(254,239,231)'>ر</span><span style='background-color: rgb(254,235,226)'>ن</span><span style='background-color: rgb(254,243,237)'>د</span><span style='background-color: rgb(254,244,239)'>گ</span><span style='background-color: rgb(255,245,240)'>ا</span><span style='background-color: rgb(254,244,239)'>ن</span><span>\t\t:\t\t</span><span>ا</span></div>"
      ],
      "text/plain": [
       "<IPython.core.display.HTML object>"
      ]
     },
     "metadata": {
      "tags": []
     },
     "output_type": "display_data"
    },
    {
     "data": {
      "text/html": [
       "<div><span style='background-color: rgb(254,239,231)'>ه</span><span style='background-color: rgb(254,242,236)'>و</span><span style='background-color: rgb(254,241,234)'>ا</span><span style='background-color: rgb(254,241,235)'> </span><span style='background-color: rgb(254,241,234)'>پ</span><span style='background-color: rgb(254,240,233)'>ا</span><span style='background-color: rgb(254,243,237)'>ک</span><span style='background-color: rgb(254,241,234)'> </span><span style='background-color: rgb(254,239,232)'>د</span><span style='background-color: rgb(254,241,235)'>ی</span><span style='background-color: rgb(254,242,236)'>د</span><span style='background-color: rgb(254,242,236)'>م</span><span style='background-color: rgb(254,241,235)'> </span><span style='background-color: rgb(254,244,239)'>ز</span><span style='background-color: rgb(254,243,237)'> </span><span style='background-color: rgb(254,244,239)'>پ</span><span style='background-color: rgb(254,243,237)'>ر</span><span style='background-color: rgb(254,239,232)'>ن</span><span style='background-color: rgb(254,243,238)'>د</span><span style='background-color: rgb(254,243,237)'>گ</span><span style='background-color: rgb(255,245,240)'>ا</span><span style='background-color: rgb(254,243,237)'>ن</span><span>\t\t:\t\t</span><span>ر</span></div>"
      ],
      "text/plain": [
       "<IPython.core.display.HTML object>"
      ]
     },
     "metadata": {
      "tags": []
     },
     "output_type": "display_data"
    },
    {
     "data": {
      "text/html": [
       "<div><span style='background-color: rgb(254,244,239)'>ه</span><span style='background-color: rgb(255,245,240)'>و</span><span style='background-color: rgb(255,245,240)'>ا</span><span style='background-color: rgb(255,245,240)'> </span><span style='background-color: rgb(254,243,238)'>پ</span><span style='background-color: rgb(254,239,232)'>ا</span><span style='background-color: rgb(254,241,235)'>ک</span><span style='background-color: rgb(254,234,224)'> </span><span style='background-color: rgb(254,235,225)'>د</span><span style='background-color: rgb(254,227,215)'>ی</span><span style='background-color: rgb(254,237,229)'>د</span><span style='background-color: rgb(254,241,234)'>م</span><span style='background-color: rgb(254,243,237)'> </span><span style='background-color: rgb(254,243,237)'>ز</span><span style='background-color: rgb(254,243,237)'> </span><span style='background-color: rgb(254,243,237)'>پ</span><span style='background-color: rgb(254,241,234)'>ر</span><span style='background-color: rgb(254,241,234)'>ن</span><span style='background-color: rgb(254,243,238)'>د</span><span style='background-color: rgb(254,243,237)'>گ</span><span style='background-color: rgb(254,244,239)'>ا</span><span style='background-color: rgb(255,245,240)'>ن</span><span>\t\t:\t\t</span><span>ـ</span></div>"
      ],
      "text/plain": [
       "<IPython.core.display.HTML object>"
      ]
     },
     "metadata": {
      "tags": []
     },
     "output_type": "display_data"
    },
    {
     "data": {
      "text/html": [
       "<div><span style='background-color: rgb(254,243,238)'>ه</span><span style='background-color: rgb(254,241,235)'>و</span><span style='background-color: rgb(254,243,238)'>ا</span><span style='background-color: rgb(254,243,237)'> </span><span style='background-color: rgb(254,244,239)'>پ</span><span style='background-color: rgb(254,244,239)'>ا</span><span style='background-color: rgb(255,245,240)'>ک</span><span style='background-color: rgb(254,244,239)'> </span><span style='background-color: rgb(254,243,238)'>د</span><span style='background-color: rgb(254,242,236)'>ی</span><span style='background-color: rgb(254,243,238)'>د</span><span style='background-color: rgb(254,244,239)'>م</span><span style='background-color: rgb(255,245,240)'> </span><span style='background-color: rgb(254,244,239)'>ز</span><span style='background-color: rgb(254,243,238)'> </span><span style='background-color: rgb(254,244,239)'>پ</span><span style='background-color: rgb(254,243,238)'>ر</span><span style='background-color: rgb(254,243,237)'>ن</span><span style='background-color: rgb(254,244,239)'>د</span><span style='background-color: rgb(255,245,240)'>گ</span><span style='background-color: rgb(254,244,239)'>ا</span><span style='background-color: rgb(255,245,240)'>ن</span><span>\t\t:\t\t</span><span>ا</span></div>"
      ],
      "text/plain": [
       "<IPython.core.display.HTML object>"
      ]
     },
     "metadata": {
      "tags": []
     },
     "output_type": "display_data"
    },
    {
     "data": {
      "text/html": [
       "<div><span style='background-color: rgb(254,237,229)'>ه</span><span style='background-color: rgb(254,238,230)'>و</span><span style='background-color: rgb(254,241,235)'>ا</span><span style='background-color: rgb(254,241,235)'> </span><span style='background-color: rgb(254,243,237)'>پ</span><span style='background-color: rgb(254,242,236)'>ا</span><span style='background-color: rgb(254,243,238)'>ک</span><span style='background-color: rgb(254,239,232)'> </span><span style='background-color: rgb(254,244,239)'>د</span><span style='background-color: rgb(254,243,238)'>ی</span><span style='background-color: rgb(254,243,237)'>د</span><span style='background-color: rgb(254,243,237)'>م</span><span style='background-color: rgb(254,243,237)'> </span><span style='background-color: rgb(255,245,240)'>ز</span><span style='background-color: rgb(254,243,237)'> </span><span style='background-color: rgb(254,243,237)'>پ</span><span style='background-color: rgb(254,243,237)'>ر</span><span style='background-color: rgb(254,240,233)'>ن</span><span style='background-color: rgb(255,245,240)'>د</span><span style='background-color: rgb(254,244,239)'>گ</span><span style='background-color: rgb(255,245,240)'>ا</span><span style='background-color: rgb(254,243,237)'>ن</span><span>\t\t:\t\t</span><span>و</span></div>"
      ],
      "text/plain": [
       "<IPython.core.display.HTML object>"
      ]
     },
     "metadata": {
      "tags": []
     },
     "output_type": "display_data"
    },
    {
     "data": {
      "text/html": [
       "<div><span style='background-color: rgb(254,231,221)'>ه</span><span style='background-color: rgb(254,241,235)'>و</span><span style='background-color: rgb(254,244,239)'>ا</span><span style='background-color: rgb(254,243,238)'> </span><span style='background-color: rgb(254,241,235)'>پ</span><span style='background-color: rgb(254,228,216)'>ا</span><span style='background-color: rgb(252,201,180)'>ک</span><span style='background-color: rgb(254,224,210)'> </span><span style='background-color: rgb(254,235,226)'>د</span><span style='background-color: rgb(254,239,231)'>ی</span><span style='background-color: rgb(254,239,232)'>د</span><span style='background-color: rgb(254,243,238)'>م</span><span style='background-color: rgb(254,243,237)'> </span><span style='background-color: rgb(254,244,239)'>ز</span><span style='background-color: rgb(254,243,238)'> </span><span style='background-color: rgb(254,244,239)'>پ</span><span style='background-color: rgb(254,243,238)'>ر</span><span style='background-color: rgb(254,243,238)'>ن</span><span style='background-color: rgb(255,245,240)'>د</span><span style='background-color: rgb(255,245,240)'>گ</span><span style='background-color: rgb(255,245,240)'>ا</span><span style='background-color: rgb(254,244,239)'>ن</span><span>\t\t:\t\t</span><span>ـ</span></div>"
      ],
      "text/plain": [
       "<IPython.core.display.HTML object>"
      ]
     },
     "metadata": {
      "tags": []
     },
     "output_type": "display_data"
    },
    {
     "data": {
      "text/html": [
       "<div><span style='background-color: rgb(254,241,234)'>ه</span><span style='background-color: rgb(254,239,232)'>و</span><span style='background-color: rgb(254,242,236)'>ا</span><span style='background-color: rgb(254,241,235)'> </span><span style='background-color: rgb(254,243,237)'>پ</span><span style='background-color: rgb(254,242,236)'>ا</span><span style='background-color: rgb(255,245,240)'>ک</span><span style='background-color: rgb(254,244,239)'> </span><span style='background-color: rgb(254,243,237)'>د</span><span style='background-color: rgb(254,243,238)'>ی</span><span style='background-color: rgb(254,244,239)'>د</span><span style='background-color: rgb(254,243,238)'>م</span><span style='background-color: rgb(255,245,240)'> </span><span style='background-color: rgb(255,245,240)'>ز</span><span style='background-color: rgb(254,244,239)'> </span><span style='background-color: rgb(254,244,239)'>پ</span><span style='background-color: rgb(254,243,237)'>ر</span><span style='background-color: rgb(254,243,237)'>ن</span><span style='background-color: rgb(254,243,238)'>د</span><span style='background-color: rgb(255,245,240)'>گ</span><span style='background-color: rgb(255,245,240)'>ا</span><span style='background-color: rgb(255,245,240)'>ن</span><span>\t\t:\t\t</span><span>ر</span></div>"
      ],
      "text/plain": [
       "<IPython.core.display.HTML object>"
      ]
     },
     "metadata": {
      "tags": []
     },
     "output_type": "display_data"
    },
    {
     "data": {
      "text/html": [
       "<div><span style='background-color: rgb(254,243,238)'>ه</span><span style='background-color: rgb(254,243,237)'>و</span><span style='background-color: rgb(254,241,235)'>ا</span><span style='background-color: rgb(254,243,238)'> </span><span style='background-color: rgb(254,243,238)'>پ</span><span style='background-color: rgb(254,243,237)'>ا</span><span style='background-color: rgb(254,243,237)'>ک</span><span style='background-color: rgb(254,240,233)'> </span><span style='background-color: rgb(254,239,232)'>د</span><span style='background-color: rgb(254,239,231)'>ی</span><span style='background-color: rgb(254,242,236)'>د</span><span style='background-color: rgb(254,243,238)'>م</span><span style='background-color: rgb(255,245,240)'> </span><span style='background-color: rgb(255,245,240)'>ز</span><span style='background-color: rgb(254,243,238)'> </span><span style='background-color: rgb(254,244,239)'>پ</span><span style='background-color: rgb(254,244,239)'>ر</span><span style='background-color: rgb(254,241,235)'>ن</span><span style='background-color: rgb(255,245,240)'>د</span><span style='background-color: rgb(255,245,240)'>گ</span><span style='background-color: rgb(255,245,240)'>ا</span><span style='background-color: rgb(255,245,240)'>ن</span><span>\t\t:\t\t</span><span>ا</span></div>"
      ],
      "text/plain": [
       "<IPython.core.display.HTML object>"
      ]
     },
     "metadata": {
      "tags": []
     },
     "output_type": "display_data"
    },
    {
     "data": {
      "text/html": [
       "<div><span style='background-color: rgb(255,245,240)'>ه</span><span style='background-color: rgb(255,245,240)'>و</span><span style='background-color: rgb(254,244,239)'>ا</span><span style='background-color: rgb(254,244,239)'> </span><span style='background-color: rgb(254,241,234)'>پ</span><span style='background-color: rgb(253,218,202)'>ا</span><span style='background-color: rgb(253,216,200)'>ک</span><span style='background-color: rgb(254,231,220)'> </span><span style='background-color: rgb(254,239,231)'>د</span><span style='background-color: rgb(254,235,225)'>ی</span><span style='background-color: rgb(254,234,224)'>د</span><span style='background-color: rgb(254,243,237)'>م</span><span style='background-color: rgb(254,242,236)'> </span><span style='background-color: rgb(254,241,234)'>ز</span><span style='background-color: rgb(254,241,235)'> </span><span style='background-color: rgb(254,241,235)'>پ</span><span style='background-color: rgb(254,244,239)'>ر</span><span style='background-color: rgb(254,242,236)'>ن</span><span style='background-color: rgb(254,243,238)'>د</span><span style='background-color: rgb(254,243,238)'>گ</span><span style='background-color: rgb(255,245,240)'>ا</span><span style='background-color: rgb(254,243,238)'>ن</span><span>\t\t:\t\t</span><span>ـ</span></div>"
      ],
      "text/plain": [
       "<IPython.core.display.HTML object>"
      ]
     },
     "metadata": {
      "tags": []
     },
     "output_type": "display_data"
    },
    {
     "data": {
      "text/html": [
       "<div><span style='background-color: rgb(255,245,240)'>ه</span><span style='background-color: rgb(254,243,238)'>و</span><span style='background-color: rgb(254,243,237)'>ا</span><span style='background-color: rgb(254,240,233)'> </span><span style='background-color: rgb(254,240,233)'>پ</span><span style='background-color: rgb(254,243,237)'>ا</span><span style='background-color: rgb(254,244,239)'>ک</span><span style='background-color: rgb(254,243,238)'> </span><span style='background-color: rgb(254,242,236)'>د</span><span style='background-color: rgb(254,243,238)'>ی</span><span style='background-color: rgb(254,244,239)'>د</span><span style='background-color: rgb(254,243,237)'>م</span><span style='background-color: rgb(254,244,239)'> </span><span style='background-color: rgb(255,245,240)'>ز</span><span style='background-color: rgb(255,245,240)'> </span><span style='background-color: rgb(255,245,240)'>پ</span><span style='background-color: rgb(254,244,239)'>ر</span><span style='background-color: rgb(254,243,238)'>ن</span><span style='background-color: rgb(255,245,240)'>د</span><span style='background-color: rgb(255,245,240)'>گ</span><span style='background-color: rgb(255,245,240)'>ا</span><span style='background-color: rgb(254,243,238)'>ن</span><span>\t\t:\t\t</span><span>ن</span></div>"
      ],
      "text/plain": [
       "<IPython.core.display.HTML object>"
      ]
     },
     "metadata": {
      "tags": []
     },
     "output_type": "display_data"
    },
    {
     "data": {
      "text/html": [
       "<div><span style='background-color: rgb(254,243,238)'>ه</span><span style='background-color: rgb(254,244,239)'>و</span><span style='background-color: rgb(255,245,240)'>ا</span><span style='background-color: rgb(255,245,240)'> </span><span style='background-color: rgb(255,245,240)'>پ</span><span style='background-color: rgb(254,244,239)'>ا</span><span style='background-color: rgb(254,242,236)'>ک</span><span style='background-color: rgb(254,231,220)'> </span><span style='background-color: rgb(254,242,236)'>د</span><span style='background-color: rgb(254,242,236)'>ی</span><span style='background-color: rgb(254,239,231)'>د</span><span style='background-color: rgb(254,242,236)'>م</span><span style='background-color: rgb(254,241,234)'> </span><span style='background-color: rgb(254,237,229)'>ز</span><span style='background-color: rgb(254,241,234)'> </span><span style='background-color: rgb(254,242,236)'>پ</span><span style='background-color: rgb(254,241,234)'>ر</span><span style='background-color: rgb(254,241,234)'>ن</span><span style='background-color: rgb(254,243,237)'>د</span><span style='background-color: rgb(255,245,240)'>گ</span><span style='background-color: rgb(255,245,240)'>ا</span><span style='background-color: rgb(255,245,240)'>ن</span><span>\t\t:\t\t</span><span>گ</span></div>"
      ],
      "text/plain": [
       "<IPython.core.display.HTML object>"
      ]
     },
     "metadata": {
      "tags": []
     },
     "output_type": "display_data"
    },
    {
     "data": {
      "text/html": [
       "<div><span style='background-color: rgb(254,235,225)'>ه</span><span style='background-color: rgb(254,240,233)'>و</span><span style='background-color: rgb(254,243,238)'>ا</span><span style='background-color: rgb(254,242,236)'> </span><span style='background-color: rgb(254,242,236)'>پ</span><span style='background-color: rgb(254,241,235)'>ا</span><span style='background-color: rgb(254,240,233)'>ک</span><span style='background-color: rgb(254,241,234)'> </span><span style='background-color: rgb(254,243,237)'>د</span><span style='background-color: rgb(254,244,239)'>ی</span><span style='background-color: rgb(254,244,239)'>د</span><span style='background-color: rgb(255,245,240)'>م</span><span style='background-color: rgb(255,245,240)'> </span><span style='background-color: rgb(254,244,239)'>ز</span><span style='background-color: rgb(254,242,236)'> </span><span style='background-color: rgb(254,243,238)'>پ</span><span style='background-color: rgb(254,243,238)'>ر</span><span style='background-color: rgb(254,243,237)'>ن</span><span style='background-color: rgb(255,245,240)'>د</span><span style='background-color: rgb(254,244,239)'>گ</span><span style='background-color: rgb(254,242,236)'>ا</span><span style='background-color: rgb(255,245,240)'>ن</span><span>\t\t:\t\t</span><span>ه</span></div>"
      ],
      "text/plain": [
       "<IPython.core.display.HTML object>"
      ]
     },
     "metadata": {
      "tags": []
     },
     "output_type": "display_data"
    },
    {
     "data": {
      "text/html": [
       "<div><span style='background-color: rgb(254,244,239)'>ه</span><span style='background-color: rgb(254,244,239)'>و</span><span style='background-color: rgb(254,244,239)'>ا</span><span style='background-color: rgb(254,244,239)'> </span><span style='background-color: rgb(254,243,238)'>پ</span><span style='background-color: rgb(254,239,232)'>ا</span><span style='background-color: rgb(254,227,215)'>ک</span><span style='background-color: rgb(254,235,225)'> </span><span style='background-color: rgb(254,229,218)'>د</span><span style='background-color: rgb(254,231,221)'>ی</span><span style='background-color: rgb(253,207,188)'>د</span><span style='background-color: rgb(254,226,213)'>م</span><span style='background-color: rgb(254,241,234)'> </span><span style='background-color: rgb(254,243,237)'>ز</span><span style='background-color: rgb(254,243,237)'> </span><span style='background-color: rgb(254,243,238)'>پ</span><span style='background-color: rgb(254,243,238)'>ر</span><span style='background-color: rgb(254,242,236)'>ن</span><span style='background-color: rgb(254,244,239)'>د</span><span style='background-color: rgb(255,245,240)'>گ</span><span style='background-color: rgb(255,245,240)'>ا</span><span style='background-color: rgb(255,245,240)'>ن</span><span>\t\t:\t\t</span><span>ـ</span></div>"
      ],
      "text/plain": [
       "<IPython.core.display.HTML object>"
      ]
     },
     "metadata": {
      "tags": []
     },
     "output_type": "display_data"
    },
    {
     "data": {
      "text/html": [
       "<div><span style='background-color: rgb(254,244,239)'>ه</span><span style='background-color: rgb(254,243,238)'>و</span><span style='background-color: rgb(254,242,236)'>ا</span><span style='background-color: rgb(254,243,237)'> </span><span style='background-color: rgb(254,243,238)'>پ</span><span style='background-color: rgb(254,243,238)'>ا</span><span style='background-color: rgb(255,245,240)'>ک</span><span style='background-color: rgb(254,244,239)'> </span><span style='background-color: rgb(254,243,238)'>د</span><span style='background-color: rgb(254,244,239)'>ی</span><span style='background-color: rgb(254,244,239)'>د</span><span style='background-color: rgb(254,243,237)'>م</span><span style='background-color: rgb(254,243,237)'> </span><span style='background-color: rgb(254,244,239)'>ز</span><span style='background-color: rgb(254,244,239)'> </span><span style='background-color: rgb(254,244,239)'>پ</span><span style='background-color: rgb(254,243,238)'>ر</span><span style='background-color: rgb(254,243,237)'>ن</span><span style='background-color: rgb(254,244,239)'>د</span><span style='background-color: rgb(255,245,240)'>گ</span><span style='background-color: rgb(255,245,240)'>ا</span><span style='background-color: rgb(254,244,239)'>ن</span><span>\t\t:\t\t</span><span>ک</span></div>"
      ],
      "text/plain": [
       "<IPython.core.display.HTML object>"
      ]
     },
     "metadata": {
      "tags": []
     },
     "output_type": "display_data"
    },
    {
     "data": {
      "text/html": [
       "<div><span style='background-color: rgb(254,230,219)'>ه</span><span style='background-color: rgb(254,230,219)'>و</span><span style='background-color: rgb(254,239,231)'>ا</span><span style='background-color: rgb(254,239,231)'> </span><span style='background-color: rgb(254,235,226)'>پ</span><span style='background-color: rgb(254,238,230)'>ا</span><span style='background-color: rgb(254,242,236)'>ک</span><span style='background-color: rgb(254,243,238)'> </span><span style='background-color: rgb(255,245,240)'>د</span><span style='background-color: rgb(255,245,240)'>ی</span><span style='background-color: rgb(255,245,240)'>د</span><span style='background-color: rgb(254,244,239)'>م</span><span style='background-color: rgb(254,244,239)'> </span><span style='background-color: rgb(254,244,239)'>ز</span><span style='background-color: rgb(254,243,238)'> </span><span style='background-color: rgb(254,243,238)'>پ</span><span style='background-color: rgb(254,243,238)'>ر</span><span style='background-color: rgb(254,242,236)'>ن</span><span style='background-color: rgb(254,244,239)'>د</span><span style='background-color: rgb(254,242,236)'>گ</span><span style='background-color: rgb(254,237,229)'>ا</span><span style='background-color: rgb(254,243,237)'>ن</span><span>\t\t:\t\t</span><span>ر</span></div>"
      ],
      "text/plain": [
       "<IPython.core.display.HTML object>"
      ]
     },
     "metadata": {
      "tags": []
     },
     "output_type": "display_data"
    },
    {
     "data": {
      "text/html": [
       "<div><span style='background-color: rgb(255,245,240)'>ه</span><span style='background-color: rgb(255,245,240)'>و</span><span style='background-color: rgb(255,245,240)'>ا</span><span style='background-color: rgb(255,245,240)'> </span><span style='background-color: rgb(254,244,239)'>پ</span><span style='background-color: rgb(254,243,238)'>ا</span><span style='background-color: rgb(254,243,237)'>ک</span><span style='background-color: rgb(254,241,235)'> </span><span style='background-color: rgb(254,239,232)'>د</span><span style='background-color: rgb(254,237,229)'>ی</span><span style='background-color: rgb(252,202,182)'>د</span><span style='background-color: rgb(252,192,168)'>م</span><span style='background-color: rgb(254,238,230)'> </span><span style='background-color: rgb(254,240,233)'>ز</span><span style='background-color: rgb(254,243,237)'> </span><span style='background-color: rgb(254,244,239)'>پ</span><span style='background-color: rgb(254,244,239)'>ر</span><span style='background-color: rgb(254,244,239)'>ن</span><span style='background-color: rgb(254,239,231)'>د</span><span style='background-color: rgb(254,241,235)'>گ</span><span style='background-color: rgb(254,241,234)'>ا</span><span style='background-color: rgb(254,242,236)'>ن</span><span>\t\t:\t\t</span><span>د</span></div>"
      ],
      "text/plain": [
       "<IPython.core.display.HTML object>"
      ]
     },
     "metadata": {
      "tags": []
     },
     "output_type": "display_data"
    },
    {
     "data": {
      "text/html": [
       "<div><span style='background-color: rgb(254,242,236)'>ه</span><span style='background-color: rgb(254,244,239)'>و</span><span style='background-color: rgb(254,241,235)'>ا</span><span style='background-color: rgb(254,239,231)'> </span><span style='background-color: rgb(254,237,229)'>پ</span><span style='background-color: rgb(254,228,216)'>ا</span><span style='background-color: rgb(254,225,211)'>ک</span><span style='background-color: rgb(254,239,232)'> </span><span style='background-color: rgb(254,243,238)'>د</span><span style='background-color: rgb(254,244,239)'>ی</span><span style='background-color: rgb(254,243,238)'>د</span><span style='background-color: rgb(255,245,240)'>م</span><span style='background-color: rgb(254,244,239)'> </span><span style='background-color: rgb(254,242,236)'>ز</span><span style='background-color: rgb(254,241,234)'> </span><span style='background-color: rgb(254,242,236)'>پ</span><span style='background-color: rgb(254,244,239)'>ر</span><span style='background-color: rgb(254,243,237)'>ن</span><span style='background-color: rgb(255,245,240)'>د</span><span style='background-color: rgb(254,233,223)'>گ</span><span style='background-color: rgb(254,237,228)'>ا</span><span style='background-color: rgb(254,237,228)'>ن</span><span>\t\t:\t\t</span><span>ـ</span></div>"
      ],
      "text/plain": [
       "<IPython.core.display.HTML object>"
      ]
     },
     "metadata": {
      "tags": []
     },
     "output_type": "display_data"
    },
    {
     "data": {
      "text/html": [
       "<div><span style='background-color: rgb(254,230,219)'>ه</span><span style='background-color: rgb(254,232,222)'>و</span><span style='background-color: rgb(254,243,237)'>ا</span><span style='background-color: rgb(254,242,236)'> </span><span style='background-color: rgb(254,244,239)'>پ</span><span style='background-color: rgb(255,245,240)'>ا</span><span style='background-color: rgb(255,245,240)'>ک</span><span style='background-color: rgb(255,245,240)'> </span><span style='background-color: rgb(254,242,236)'>د</span><span style='background-color: rgb(254,244,239)'>ی</span><span style='background-color: rgb(255,245,240)'>د</span><span style='background-color: rgb(255,245,240)'>م</span><span style='background-color: rgb(255,245,240)'> </span><span style='background-color: rgb(255,245,240)'>ز</span><span style='background-color: rgb(255,245,240)'> </span><span style='background-color: rgb(255,245,240)'>پ</span><span style='background-color: rgb(255,245,240)'>ر</span><span style='background-color: rgb(255,245,240)'>ن</span><span style='background-color: rgb(254,243,238)'>د</span><span style='background-color: rgb(254,244,239)'>گ</span><span style='background-color: rgb(254,240,233)'>ا</span><span style='background-color: rgb(254,233,224)'>ن</span><span>\t\t:\t\t</span><span>ر</span></div>"
      ],
      "text/plain": [
       "<IPython.core.display.HTML object>"
      ]
     },
     "metadata": {
      "tags": []
     },
     "output_type": "display_data"
    },
    {
     "data": {
      "text/html": [
       "<div><span style='background-color: rgb(255,245,240)'>ه</span><span style='background-color: rgb(255,245,240)'>و</span><span style='background-color: rgb(255,245,240)'>ا</span><span style='background-color: rgb(255,245,240)'> </span><span style='background-color: rgb(255,245,240)'>پ</span><span style='background-color: rgb(255,245,240)'>ا</span><span style='background-color: rgb(255,245,240)'>ک</span><span style='background-color: rgb(255,245,240)'> </span><span style='background-color: rgb(255,245,240)'>د</span><span style='background-color: rgb(255,245,240)'>ی</span><span style='background-color: rgb(255,245,240)'>د</span><span style='background-color: rgb(255,245,240)'>م</span><span style='background-color: rgb(255,245,240)'> </span><span style='background-color: rgb(255,245,240)'>ز</span><span style='background-color: rgb(255,245,240)'> </span><span style='background-color: rgb(255,245,240)'>پ</span><span style='background-color: rgb(255,245,240)'>ر</span><span style='background-color: rgb(255,245,240)'>ن</span><span style='background-color: rgb(255,245,240)'>د</span><span style='background-color: rgb(254,239,232)'>گ</span><span style='background-color: rgb(153,12,19)'>ا</span><span style='background-color: rgb(254,243,237)'>ن</span><span>\t\t:\t\t</span><span>ا</span></div>"
      ],
      "text/plain": [
       "<IPython.core.display.HTML object>"
      ]
     },
     "metadata": {
      "tags": []
     },
     "output_type": "display_data"
    },
    {
     "data": {
      "text/html": [
       "<div><span style='background-color: rgb(255,245,240)'>ه</span><span style='background-color: rgb(255,245,240)'>و</span><span style='background-color: rgb(255,245,240)'>ا</span><span style='background-color: rgb(254,244,239)'> </span><span style='background-color: rgb(255,245,240)'>پ</span><span style='background-color: rgb(255,245,240)'>ا</span><span style='background-color: rgb(255,245,240)'>ک</span><span style='background-color: rgb(255,245,240)'> </span><span style='background-color: rgb(255,245,240)'>د</span><span style='background-color: rgb(255,245,240)'>ی</span><span style='background-color: rgb(255,245,240)'>د</span><span style='background-color: rgb(255,245,240)'>م</span><span style='background-color: rgb(254,244,239)'> </span><span style='background-color: rgb(254,243,237)'>ز</span><span style='background-color: rgb(254,235,226)'> </span><span style='background-color: rgb(254,237,229)'>پ</span><span style='background-color: rgb(254,243,237)'>ر</span><span style='background-color: rgb(254,239,232)'>ن</span><span style='background-color: rgb(254,244,239)'>د</span><span style='background-color: rgb(254,236,227)'>گ</span><span style='background-color: rgb(254,240,233)'>ا</span><span style='background-color: rgb(232,52,41)'>ن</span><span>\t\t:\t\t</span><span>ن</span></div>"
      ],
      "text/plain": [
       "<IPython.core.display.HTML object>"
      ]
     },
     "metadata": {
      "tags": []
     },
     "output_type": "display_data"
    },
    {
     "name": "stdout",
     "output_type": "stream",
     "text": [
      "Test input:\n",
      "درستست گفتار فرزانگان  ****  جهاندیده و پاک دانندگان\n",
      "Seq2Seq output:\n",
      "که این راد و بی ار و با را زمان\n",
      "Seq2Seq with attention output:\n",
      "به از  به کردار نیکی نگان\n",
      "Weights of attention:\n"
     ]
    },
    {
     "data": {
      "text/html": [
       "<div><span style='background-color: rgb(254,243,238)'>د</span><span style='background-color: rgb(254,243,238)'>ر</span><span style='background-color: rgb(254,241,235)'>س</span><span style='background-color: rgb(254,242,236)'>ت</span><span style='background-color: rgb(255,245,240)'>س</span><span style='background-color: rgb(255,245,240)'>ت</span><span style='background-color: rgb(254,244,239)'> </span><span style='background-color: rgb(254,243,238)'>گ</span><span style='background-color: rgb(254,243,237)'>ف</span><span style='background-color: rgb(255,245,240)'>ت</span><span style='background-color: rgb(254,244,239)'>ا</span><span style='background-color: rgb(255,245,240)'>ر</span><span style='background-color: rgb(255,245,240)'> </span><span style='background-color: rgb(255,245,240)'>ف</span><span style='background-color: rgb(255,245,240)'>ر</span><span style='background-color: rgb(255,245,240)'>ز</span><span style='background-color: rgb(255,245,240)'>ا</span><span style='background-color: rgb(254,244,239)'>ن</span><span style='background-color: rgb(255,245,240)'>گ</span><span style='background-color: rgb(255,245,240)'>ا</span><span style='background-color: rgb(255,245,240)'>ن</span><span>\t\t:\t\t</span><span>ب</span></div>"
      ],
      "text/plain": [
       "<IPython.core.display.HTML object>"
      ]
     },
     "metadata": {
      "tags": []
     },
     "output_type": "display_data"
    },
    {
     "data": {
      "text/html": [
       "<div><span style='background-color: rgb(254,243,237)'>د</span><span style='background-color: rgb(254,243,237)'>ر</span><span style='background-color: rgb(254,243,237)'>س</span><span style='background-color: rgb(254,243,238)'>ت</span><span style='background-color: rgb(254,241,235)'>س</span><span style='background-color: rgb(254,242,236)'>ت</span><span style='background-color: rgb(254,242,236)'> </span><span style='background-color: rgb(254,242,236)'>گ</span><span style='background-color: rgb(254,242,236)'>ف</span><span style='background-color: rgb(254,242,236)'>ت</span><span style='background-color: rgb(254,242,236)'>ا</span><span style='background-color: rgb(254,243,238)'>ر</span><span style='background-color: rgb(254,243,237)'> </span><span style='background-color: rgb(254,243,237)'>ف</span><span style='background-color: rgb(254,243,238)'>ر</span><span style='background-color: rgb(254,243,238)'>ز</span><span style='background-color: rgb(254,242,236)'>ا</span><span style='background-color: rgb(254,239,231)'>ن</span><span style='background-color: rgb(254,244,239)'>گ</span><span style='background-color: rgb(255,245,240)'>ا</span><span style='background-color: rgb(254,243,238)'>ن</span><span>\t\t:\t\t</span><span>ه</span></div>"
      ],
      "text/plain": [
       "<IPython.core.display.HTML object>"
      ]
     },
     "metadata": {
      "tags": []
     },
     "output_type": "display_data"
    },
    {
     "data": {
      "text/html": [
       "<div><span style='background-color: rgb(254,237,229)'>د</span><span style='background-color: rgb(254,237,229)'>ر</span><span style='background-color: rgb(254,241,235)'>س</span><span style='background-color: rgb(254,238,230)'>ت</span><span style='background-color: rgb(254,227,214)'>س</span><span style='background-color: rgb(253,223,209)'>ت</span><span style='background-color: rgb(254,236,227)'> </span><span style='background-color: rgb(254,239,231)'>گ</span><span style='background-color: rgb(254,241,235)'>ف</span><span style='background-color: rgb(254,237,229)'>ت</span><span style='background-color: rgb(254,243,237)'>ا</span><span style='background-color: rgb(254,243,238)'>ر</span><span style='background-color: rgb(254,241,235)'> </span><span style='background-color: rgb(254,240,233)'>ف</span><span style='background-color: rgb(254,239,232)'>ر</span><span style='background-color: rgb(254,239,232)'>ز</span><span style='background-color: rgb(254,241,234)'>ا</span><span style='background-color: rgb(254,243,237)'>ن</span><span style='background-color: rgb(254,243,238)'>گ</span><span style='background-color: rgb(255,245,240)'>ا</span><span style='background-color: rgb(254,242,236)'>ن</span><span>\t\t:\t\t</span><span>ـ</span></div>"
      ],
      "text/plain": [
       "<IPython.core.display.HTML object>"
      ]
     },
     "metadata": {
      "tags": []
     },
     "output_type": "display_data"
    },
    {
     "data": {
      "text/html": [
       "<div><span style='background-color: rgb(254,243,237)'>د</span><span style='background-color: rgb(254,243,237)'>ر</span><span style='background-color: rgb(254,239,231)'>س</span><span style='background-color: rgb(254,239,232)'>ت</span><span style='background-color: rgb(254,241,235)'>س</span><span style='background-color: rgb(254,243,237)'>ت</span><span style='background-color: rgb(254,239,231)'> </span><span style='background-color: rgb(254,235,225)'>گ</span><span style='background-color: rgb(254,239,231)'>ف</span><span style='background-color: rgb(254,243,238)'>ت</span><span style='background-color: rgb(254,242,236)'>ا</span><span style='background-color: rgb(254,244,239)'>ر</span><span style='background-color: rgb(255,245,240)'> </span><span style='background-color: rgb(254,243,238)'>ف</span><span style='background-color: rgb(254,244,239)'>ر</span><span style='background-color: rgb(254,243,238)'>ز</span><span style='background-color: rgb(254,243,237)'>ا</span><span style='background-color: rgb(254,241,234)'>ن</span><span style='background-color: rgb(255,245,240)'>گ</span><span style='background-color: rgb(255,245,240)'>ا</span><span style='background-color: rgb(254,244,239)'>ن</span><span>\t\t:\t\t</span><span>ا</span></div>"
      ],
      "text/plain": [
       "<IPython.core.display.HTML object>"
      ]
     },
     "metadata": {
      "tags": []
     },
     "output_type": "display_data"
    },
    {
     "data": {
      "text/html": [
       "<div><span style='background-color: rgb(254,241,234)'>د</span><span style='background-color: rgb(254,241,234)'>ر</span><span style='background-color: rgb(254,241,235)'>س</span><span style='background-color: rgb(254,242,236)'>ت</span><span style='background-color: rgb(254,243,237)'>س</span><span style='background-color: rgb(254,243,237)'>ت</span><span style='background-color: rgb(254,241,235)'> </span><span style='background-color: rgb(254,242,236)'>گ</span><span style='background-color: rgb(254,243,237)'>ف</span><span style='background-color: rgb(254,243,237)'>ت</span><span style='background-color: rgb(254,240,233)'>ا</span><span style='background-color: rgb(254,240,233)'>ر</span><span style='background-color: rgb(254,243,237)'> </span><span style='background-color: rgb(254,243,238)'>ف</span><span style='background-color: rgb(255,245,240)'>ر</span><span style='background-color: rgb(255,245,240)'>ز</span><span style='background-color: rgb(255,245,240)'>ا</span><span style='background-color: rgb(254,239,232)'>ن</span><span style='background-color: rgb(255,245,240)'>گ</span><span style='background-color: rgb(255,245,240)'>ا</span><span style='background-color: rgb(254,242,236)'>ن</span><span>\t\t:\t\t</span><span>ز</span></div>"
      ],
      "text/plain": [
       "<IPython.core.display.HTML object>"
      ]
     },
     "metadata": {
      "tags": []
     },
     "output_type": "display_data"
    },
    {
     "data": {
      "text/html": [
       "<div><span style='background-color: rgb(254,241,234)'>د</span><span style='background-color: rgb(254,241,235)'>ر</span><span style='background-color: rgb(254,240,233)'>س</span><span style='background-color: rgb(254,239,232)'>ت</span><span style='background-color: rgb(254,239,231)'>س</span><span style='background-color: rgb(254,239,232)'>ت</span><span style='background-color: rgb(254,236,227)'> </span><span style='background-color: rgb(254,239,232)'>گ</span><span style='background-color: rgb(254,237,228)'>ف</span><span style='background-color: rgb(254,228,216)'>ت</span><span style='background-color: rgb(254,235,225)'>ا</span><span style='background-color: rgb(254,240,233)'>ر</span><span style='background-color: rgb(254,242,236)'> </span><span style='background-color: rgb(254,241,235)'>ف</span><span style='background-color: rgb(254,243,237)'>ر</span><span style='background-color: rgb(254,241,234)'>ز</span><span style='background-color: rgb(254,238,230)'>ا</span><span style='background-color: rgb(254,241,234)'>ن</span><span style='background-color: rgb(254,243,237)'>گ</span><span style='background-color: rgb(255,245,240)'>ا</span><span style='background-color: rgb(254,243,238)'>ن</span><span>\t\t:\t\t</span><span>ـ</span></div>"
      ],
      "text/plain": [
       "<IPython.core.display.HTML object>"
      ]
     },
     "metadata": {
      "tags": []
     },
     "output_type": "display_data"
    },
    {
     "data": {
      "text/html": [
       "<div><span style='background-color: rgb(254,241,235)'>د</span><span style='background-color: rgb(254,243,237)'>ر</span><span style='background-color: rgb(254,239,232)'>س</span><span style='background-color: rgb(254,240,233)'>ت</span><span style='background-color: rgb(254,239,231)'>س</span><span style='background-color: rgb(254,239,231)'>ت</span><span style='background-color: rgb(254,235,226)'> </span><span style='background-color: rgb(254,238,230)'>گ</span><span style='background-color: rgb(254,238,230)'>ف</span><span style='background-color: rgb(254,240,233)'>ت</span><span style='background-color: rgb(254,240,233)'>ا</span><span style='background-color: rgb(254,243,237)'>ر</span><span style='background-color: rgb(255,245,240)'> </span><span style='background-color: rgb(254,244,239)'>ف</span><span style='background-color: rgb(254,243,238)'>ر</span><span style='background-color: rgb(254,242,236)'>ز</span><span style='background-color: rgb(254,241,235)'>ا</span><span style='background-color: rgb(254,240,233)'>ن</span><span style='background-color: rgb(254,243,238)'>گ</span><span style='background-color: rgb(255,245,240)'>ا</span><span style='background-color: rgb(254,242,236)'>ن</span><span>\t\t:\t\t</span><span>ـ</span></div>"
      ],
      "text/plain": [
       "<IPython.core.display.HTML object>"
      ]
     },
     "metadata": {
      "tags": []
     },
     "output_type": "display_data"
    },
    {
     "data": {
      "text/html": [
       "<div><span style='background-color: rgb(254,243,237)'>د</span><span style='background-color: rgb(254,244,239)'>ر</span><span style='background-color: rgb(254,242,236)'>س</span><span style='background-color: rgb(254,239,232)'>ت</span><span style='background-color: rgb(254,240,233)'>س</span><span style='background-color: rgb(254,241,235)'>ت</span><span style='background-color: rgb(254,241,235)'> </span><span style='background-color: rgb(254,243,238)'>گ</span><span style='background-color: rgb(254,242,236)'>ف</span><span style='background-color: rgb(254,243,237)'>ت</span><span style='background-color: rgb(254,243,237)'>ا</span><span style='background-color: rgb(255,245,240)'>ر</span><span style='background-color: rgb(255,245,240)'> </span><span style='background-color: rgb(255,245,240)'>ف</span><span style='background-color: rgb(255,245,240)'>ر</span><span style='background-color: rgb(255,245,240)'>ز</span><span style='background-color: rgb(254,243,238)'>ا</span><span style='background-color: rgb(254,242,236)'>ن</span><span style='background-color: rgb(255,245,240)'>گ</span><span style='background-color: rgb(255,245,240)'>ا</span><span style='background-color: rgb(254,244,239)'>ن</span><span>\t\t:\t\t</span><span>ب</span></div>"
      ],
      "text/plain": [
       "<IPython.core.display.HTML object>"
      ]
     },
     "metadata": {
      "tags": []
     },
     "output_type": "display_data"
    },
    {
     "data": {
      "text/html": [
       "<div><span style='background-color: rgb(254,241,235)'>د</span><span style='background-color: rgb(254,244,239)'>ر</span><span style='background-color: rgb(254,244,239)'>س</span><span style='background-color: rgb(254,244,239)'>ت</span><span style='background-color: rgb(254,243,237)'>س</span><span style='background-color: rgb(254,243,237)'>ت</span><span style='background-color: rgb(254,242,236)'> </span><span style='background-color: rgb(254,243,238)'>گ</span><span style='background-color: rgb(254,243,237)'>ف</span><span style='background-color: rgb(254,241,235)'>ت</span><span style='background-color: rgb(254,240,233)'>ا</span><span style='background-color: rgb(254,244,239)'>ر</span><span style='background-color: rgb(254,244,239)'> </span><span style='background-color: rgb(254,243,238)'>ف</span><span style='background-color: rgb(254,243,238)'>ر</span><span style='background-color: rgb(254,243,237)'>ز</span><span style='background-color: rgb(254,243,238)'>ا</span><span style='background-color: rgb(254,243,237)'>ن</span><span style='background-color: rgb(254,244,239)'>گ</span><span style='background-color: rgb(255,245,240)'>ا</span><span style='background-color: rgb(254,244,239)'>ن</span><span>\t\t:\t\t</span><span>ه</span></div>"
      ],
      "text/plain": [
       "<IPython.core.display.HTML object>"
      ]
     },
     "metadata": {
      "tags": []
     },
     "output_type": "display_data"
    },
    {
     "data": {
      "text/html": [
       "<div><span style='background-color: rgb(254,239,232)'>د</span><span style='background-color: rgb(254,241,234)'>ر</span><span style='background-color: rgb(254,240,233)'>س</span><span style='background-color: rgb(254,233,223)'>ت</span><span style='background-color: rgb(253,222,208)'>س</span><span style='background-color: rgb(253,218,202)'>ت</span><span style='background-color: rgb(254,233,224)'> </span><span style='background-color: rgb(254,241,235)'>گ</span><span style='background-color: rgb(254,241,235)'>ف</span><span style='background-color: rgb(254,239,231)'>ت</span><span style='background-color: rgb(254,244,239)'>ا</span><span style='background-color: rgb(254,243,238)'>ر</span><span style='background-color: rgb(254,242,236)'> </span><span style='background-color: rgb(254,241,234)'>ف</span><span style='background-color: rgb(254,241,234)'>ر</span><span style='background-color: rgb(254,243,237)'>ز</span><span style='background-color: rgb(254,241,235)'>ا</span><span style='background-color: rgb(254,238,230)'>ن</span><span style='background-color: rgb(254,243,238)'>گ</span><span style='background-color: rgb(255,245,240)'>ا</span><span style='background-color: rgb(254,243,237)'>ن</span><span>\t\t:\t\t</span><span>ـ</span></div>"
      ],
      "text/plain": [
       "<IPython.core.display.HTML object>"
      ]
     },
     "metadata": {
      "tags": []
     },
     "output_type": "display_data"
    },
    {
     "data": {
      "text/html": [
       "<div><span style='background-color: rgb(254,243,237)'>د</span><span style='background-color: rgb(254,244,239)'>ر</span><span style='background-color: rgb(254,242,236)'>س</span><span style='background-color: rgb(254,243,238)'>ت</span><span style='background-color: rgb(254,244,239)'>س</span><span style='background-color: rgb(254,243,238)'>ت</span><span style='background-color: rgb(254,242,236)'> </span><span style='background-color: rgb(254,240,233)'>گ</span><span style='background-color: rgb(254,241,234)'>ف</span><span style='background-color: rgb(254,242,236)'>ت</span><span style='background-color: rgb(254,243,237)'>ا</span><span style='background-color: rgb(254,244,239)'>ر</span><span style='background-color: rgb(255,245,240)'> </span><span style='background-color: rgb(254,243,238)'>ف</span><span style='background-color: rgb(254,244,239)'>ر</span><span style='background-color: rgb(254,243,238)'>ز</span><span style='background-color: rgb(254,243,238)'>ا</span><span style='background-color: rgb(254,241,235)'>ن</span><span style='background-color: rgb(255,245,240)'>گ</span><span style='background-color: rgb(255,245,240)'>ا</span><span style='background-color: rgb(255,245,240)'>ن</span><span>\t\t:\t\t</span><span>ک</span></div>"
      ],
      "text/plain": [
       "<IPython.core.display.HTML object>"
      ]
     },
     "metadata": {
      "tags": []
     },
     "output_type": "display_data"
    },
    {
     "data": {
      "text/html": [
       "<div><span style='background-color: rgb(254,236,227)'>د</span><span style='background-color: rgb(254,241,234)'>ر</span><span style='background-color: rgb(254,240,233)'>س</span><span style='background-color: rgb(254,239,231)'>ت</span><span style='background-color: rgb(254,237,229)'>س</span><span style='background-color: rgb(254,241,234)'>ت</span><span style='background-color: rgb(254,243,237)'> </span><span style='background-color: rgb(254,244,239)'>گ</span><span style='background-color: rgb(255,245,240)'>ف</span><span style='background-color: rgb(255,245,240)'>ت</span><span style='background-color: rgb(254,244,239)'>ا</span><span style='background-color: rgb(254,244,239)'>ر</span><span style='background-color: rgb(254,244,239)'> </span><span style='background-color: rgb(254,244,239)'>ف</span><span style='background-color: rgb(254,244,239)'>ر</span><span style='background-color: rgb(254,242,236)'>ز</span><span style='background-color: rgb(254,236,227)'>ا</span><span style='background-color: rgb(254,241,234)'>ن</span><span style='background-color: rgb(254,244,239)'>گ</span><span style='background-color: rgb(254,243,238)'>ا</span><span style='background-color: rgb(254,240,233)'>ن</span><span>\t\t:\t\t</span><span>ر</span></div>"
      ],
      "text/plain": [
       "<IPython.core.display.HTML object>"
      ]
     },
     "metadata": {
      "tags": []
     },
     "output_type": "display_data"
    },
    {
     "data": {
      "text/html": [
       "<div><span style='background-color: rgb(254,244,239)'>د</span><span style='background-color: rgb(254,244,239)'>ر</span><span style='background-color: rgb(254,244,239)'>س</span><span style='background-color: rgb(255,245,240)'>ت</span><span style='background-color: rgb(254,244,239)'>س</span><span style='background-color: rgb(255,245,240)'>ت</span><span style='background-color: rgb(254,243,237)'> </span><span style='background-color: rgb(254,241,235)'>گ</span><span style='background-color: rgb(254,237,229)'>ف</span><span style='background-color: rgb(254,237,228)'>ت</span><span style='background-color: rgb(253,216,200)'>ا</span><span style='background-color: rgb(254,231,221)'>ر</span><span style='background-color: rgb(254,238,230)'> </span><span style='background-color: rgb(254,237,229)'>ف</span><span style='background-color: rgb(254,240,233)'>ر</span><span style='background-color: rgb(254,239,231)'>ز</span><span style='background-color: rgb(254,241,234)'>ا</span><span style='background-color: rgb(254,243,237)'>ن</span><span style='background-color: rgb(254,244,239)'>گ</span><span style='background-color: rgb(255,245,240)'>ا</span><span style='background-color: rgb(254,244,239)'>ن</span><span>\t\t:\t\t</span><span>د</span></div>"
      ],
      "text/plain": [
       "<IPython.core.display.HTML object>"
      ]
     },
     "metadata": {
      "tags": []
     },
     "output_type": "display_data"
    },
    {
     "data": {
      "text/html": [
       "<div><span style='background-color: rgb(254,244,239)'>د</span><span style='background-color: rgb(254,241,234)'>ر</span><span style='background-color: rgb(254,239,231)'>س</span><span style='background-color: rgb(254,242,236)'>ت</span><span style='background-color: rgb(254,239,232)'>س</span><span style='background-color: rgb(254,237,228)'>ت</span><span style='background-color: rgb(254,240,233)'> </span><span style='background-color: rgb(254,243,238)'>گ</span><span style='background-color: rgb(254,243,238)'>ف</span><span style='background-color: rgb(254,243,237)'>ت</span><span style='background-color: rgb(254,240,233)'>ا</span><span style='background-color: rgb(254,241,234)'>ر</span><span style='background-color: rgb(254,235,226)'> </span><span style='background-color: rgb(254,238,230)'>ف</span><span style='background-color: rgb(254,242,236)'>ر</span><span style='background-color: rgb(254,242,236)'>ز</span><span style='background-color: rgb(254,243,237)'>ا</span><span style='background-color: rgb(254,244,239)'>ن</span><span style='background-color: rgb(254,244,239)'>گ</span><span style='background-color: rgb(255,245,240)'>ا</span><span style='background-color: rgb(255,245,240)'>ن</span><span>\t\t:\t\t</span><span>ا</span></div>"
      ],
      "text/plain": [
       "<IPython.core.display.HTML object>"
      ]
     },
     "metadata": {
      "tags": []
     },
     "output_type": "display_data"
    },
    {
     "data": {
      "text/html": [
       "<div><span style='background-color: rgb(254,235,225)'>د</span><span style='background-color: rgb(254,232,222)'>ر</span><span style='background-color: rgb(254,233,224)'>س</span><span style='background-color: rgb(254,241,235)'>ت</span><span style='background-color: rgb(254,240,233)'>س</span><span style='background-color: rgb(254,240,233)'>ت</span><span style='background-color: rgb(254,242,236)'> </span><span style='background-color: rgb(254,243,238)'>گ</span><span style='background-color: rgb(254,243,238)'>ف</span><span style='background-color: rgb(254,243,237)'>ت</span><span style='background-color: rgb(254,243,237)'>ا</span><span style='background-color: rgb(254,243,238)'>ر</span><span style='background-color: rgb(254,244,239)'> </span><span style='background-color: rgb(254,244,239)'>ف</span><span style='background-color: rgb(254,244,239)'>ر</span><span style='background-color: rgb(254,244,239)'>ز</span><span style='background-color: rgb(254,244,239)'>ا</span><span style='background-color: rgb(254,243,237)'>ن</span><span style='background-color: rgb(255,245,240)'>گ</span><span style='background-color: rgb(255,245,240)'>ا</span><span style='background-color: rgb(254,244,239)'>ن</span><span>\t\t:\t\t</span><span>ر</span></div>"
      ],
      "text/plain": [
       "<IPython.core.display.HTML object>"
      ]
     },
     "metadata": {
      "tags": []
     },
     "output_type": "display_data"
    },
    {
     "data": {
      "text/html": [
       "<div><span style='background-color: rgb(255,245,240)'>د</span><span style='background-color: rgb(255,245,240)'>ر</span><span style='background-color: rgb(254,244,239)'>س</span><span style='background-color: rgb(254,244,239)'>ت</span><span style='background-color: rgb(254,239,231)'>س</span><span style='background-color: rgb(253,216,200)'>ت</span><span style='background-color: rgb(252,166,137)'> </span><span style='background-color: rgb(254,239,232)'>گ</span><span style='background-color: rgb(254,234,224)'>ف</span><span style='background-color: rgb(254,235,226)'>ت</span><span style='background-color: rgb(254,242,236)'>ا</span><span style='background-color: rgb(254,243,238)'>ر</span><span style='background-color: rgb(254,240,233)'> </span><span style='background-color: rgb(254,240,233)'>ف</span><span style='background-color: rgb(254,241,235)'>ر</span><span style='background-color: rgb(254,243,237)'>ز</span><span style='background-color: rgb(254,243,238)'>ا</span><span style='background-color: rgb(254,242,236)'>ن</span><span style='background-color: rgb(254,241,235)'>گ</span><span style='background-color: rgb(255,245,240)'>ا</span><span style='background-color: rgb(254,243,238)'>ن</span><span>\t\t:\t\t</span><span>ـ</span></div>"
      ],
      "text/plain": [
       "<IPython.core.display.HTML object>"
      ]
     },
     "metadata": {
      "tags": []
     },
     "output_type": "display_data"
    },
    {
     "data": {
      "text/html": [
       "<div><span style='background-color: rgb(254,241,235)'>د</span><span style='background-color: rgb(254,241,235)'>ر</span><span style='background-color: rgb(254,236,227)'>س</span><span style='background-color: rgb(254,243,237)'>ت</span><span style='background-color: rgb(255,245,240)'>س</span><span style='background-color: rgb(255,245,240)'>ت</span><span style='background-color: rgb(254,244,239)'> </span><span style='background-color: rgb(254,243,238)'>گ</span><span style='background-color: rgb(254,244,239)'>ف</span><span style='background-color: rgb(254,243,237)'>ت</span><span style='background-color: rgb(254,237,229)'>ا</span><span style='background-color: rgb(254,243,237)'>ر</span><span style='background-color: rgb(255,245,240)'> </span><span style='background-color: rgb(254,244,239)'>ف</span><span style='background-color: rgb(254,244,239)'>ر</span><span style='background-color: rgb(254,243,238)'>ز</span><span style='background-color: rgb(254,243,237)'>ا</span><span style='background-color: rgb(254,243,237)'>ن</span><span style='background-color: rgb(254,244,239)'>گ</span><span style='background-color: rgb(254,244,239)'>ا</span><span style='background-color: rgb(254,244,239)'>ن</span><span>\t\t:\t\t</span><span>ن</span></div>"
      ],
      "text/plain": [
       "<IPython.core.display.HTML object>"
      ]
     },
     "metadata": {
      "tags": []
     },
     "output_type": "display_data"
    },
    {
     "data": {
      "text/html": [
       "<div><span style='background-color: rgb(254,240,233)'>د</span><span style='background-color: rgb(254,242,236)'>ر</span><span style='background-color: rgb(254,243,237)'>س</span><span style='background-color: rgb(254,243,238)'>ت</span><span style='background-color: rgb(254,243,238)'>س</span><span style='background-color: rgb(254,243,237)'>ت</span><span style='background-color: rgb(254,235,226)'> </span><span style='background-color: rgb(254,241,235)'>گ</span><span style='background-color: rgb(254,242,236)'>ف</span><span style='background-color: rgb(254,241,234)'>ت</span><span style='background-color: rgb(254,239,231)'>ا</span><span style='background-color: rgb(254,235,226)'>ر</span><span style='background-color: rgb(254,239,231)'> </span><span style='background-color: rgb(254,237,229)'>ف</span><span style='background-color: rgb(254,243,237)'>ر</span><span style='background-color: rgb(254,241,234)'>ز</span><span style='background-color: rgb(254,241,234)'>ا</span><span style='background-color: rgb(254,243,237)'>ن</span><span style='background-color: rgb(254,244,239)'>گ</span><span style='background-color: rgb(254,244,239)'>ا</span><span style='background-color: rgb(255,245,240)'>ن</span><span>\t\t:\t\t</span><span>ی</span></div>"
      ],
      "text/plain": [
       "<IPython.core.display.HTML object>"
      ]
     },
     "metadata": {
      "tags": []
     },
     "output_type": "display_data"
    },
    {
     "data": {
      "text/html": [
       "<div><span style='background-color: rgb(254,241,235)'>د</span><span style='background-color: rgb(254,241,235)'>ر</span><span style='background-color: rgb(254,243,238)'>س</span><span style='background-color: rgb(254,243,238)'>ت</span><span style='background-color: rgb(254,243,238)'>س</span><span style='background-color: rgb(254,242,236)'>ت</span><span style='background-color: rgb(254,238,230)'> </span><span style='background-color: rgb(254,240,233)'>گ</span><span style='background-color: rgb(254,242,236)'>ف</span><span style='background-color: rgb(254,244,239)'>ت</span><span style='background-color: rgb(254,243,238)'>ا</span><span style='background-color: rgb(254,244,239)'>ر</span><span style='background-color: rgb(254,244,239)'> </span><span style='background-color: rgb(255,245,240)'>ف</span><span style='background-color: rgb(255,245,240)'>ر</span><span style='background-color: rgb(255,245,240)'>ز</span><span style='background-color: rgb(254,244,239)'>ا</span><span style='background-color: rgb(254,243,238)'>ن</span><span style='background-color: rgb(255,245,240)'>گ</span><span style='background-color: rgb(255,245,240)'>ا</span><span style='background-color: rgb(254,244,239)'>ن</span><span>\t\t:\t\t</span><span>ک</span></div>"
      ],
      "text/plain": [
       "<IPython.core.display.HTML object>"
      ]
     },
     "metadata": {
      "tags": []
     },
     "output_type": "display_data"
    },
    {
     "data": {
      "text/html": [
       "<div><span style='background-color: rgb(254,243,238)'>د</span><span style='background-color: rgb(254,243,237)'>ر</span><span style='background-color: rgb(254,243,237)'>س</span><span style='background-color: rgb(254,244,239)'>ت</span><span style='background-color: rgb(254,243,237)'>س</span><span style='background-color: rgb(254,237,229)'>ت</span><span style='background-color: rgb(254,239,231)'> </span><span style='background-color: rgb(254,243,238)'>گ</span><span style='background-color: rgb(254,243,237)'>ف</span><span style='background-color: rgb(254,241,234)'>ت</span><span style='background-color: rgb(254,237,229)'>ا</span><span style='background-color: rgb(254,235,225)'>ر</span><span style='background-color: rgb(254,237,228)'> </span><span style='background-color: rgb(254,239,231)'>ف</span><span style='background-color: rgb(254,238,230)'>ر</span><span style='background-color: rgb(254,238,230)'>ز</span><span style='background-color: rgb(254,239,232)'>ا</span><span style='background-color: rgb(254,237,229)'>ن</span><span style='background-color: rgb(254,243,238)'>گ</span><span style='background-color: rgb(255,245,240)'>ا</span><span style='background-color: rgb(254,244,239)'>ن</span><span>\t\t:\t\t</span><span>ی</span></div>"
      ],
      "text/plain": [
       "<IPython.core.display.HTML object>"
      ]
     },
     "metadata": {
      "tags": []
     },
     "output_type": "display_data"
    },
    {
     "data": {
      "text/html": [
       "<div><span style='background-color: rgb(254,243,237)'>د</span><span style='background-color: rgb(254,240,233)'>ر</span><span style='background-color: rgb(254,234,224)'>س</span><span style='background-color: rgb(254,239,231)'>ت</span><span style='background-color: rgb(254,237,229)'>س</span><span style='background-color: rgb(254,230,219)'>ت</span><span style='background-color: rgb(254,227,215)'> </span><span style='background-color: rgb(254,240,233)'>گ</span><span style='background-color: rgb(254,240,233)'>ف</span><span style='background-color: rgb(254,240,233)'>ت</span><span style='background-color: rgb(254,241,234)'>ا</span><span style='background-color: rgb(254,243,238)'>ر</span><span style='background-color: rgb(254,243,238)'> </span><span style='background-color: rgb(254,242,236)'>ف</span><span style='background-color: rgb(254,241,234)'>ر</span><span style='background-color: rgb(254,242,236)'>ز</span><span style='background-color: rgb(254,231,221)'>ا</span><span style='background-color: rgb(253,219,203)'>ن</span><span style='background-color: rgb(254,243,237)'>گ</span><span style='background-color: rgb(255,245,240)'>ا</span><span style='background-color: rgb(254,241,235)'>ن</span><span>\t\t:\t\t</span><span>ـ</span></div>"
      ],
      "text/plain": [
       "<IPython.core.display.HTML object>"
      ]
     },
     "metadata": {
      "tags": []
     },
     "output_type": "display_data"
    },
    {
     "data": {
      "text/html": [
       "<div><span style='background-color: rgb(254,240,233)'>د</span><span style='background-color: rgb(254,243,237)'>ر</span><span style='background-color: rgb(254,241,235)'>س</span><span style='background-color: rgb(254,243,237)'>ت</span><span style='background-color: rgb(254,244,239)'>س</span><span style='background-color: rgb(254,244,239)'>ت</span><span style='background-color: rgb(254,241,235)'> </span><span style='background-color: rgb(254,241,235)'>گ</span><span style='background-color: rgb(254,242,236)'>ف</span><span style='background-color: rgb(254,242,236)'>ت</span><span style='background-color: rgb(254,243,237)'>ا</span><span style='background-color: rgb(255,245,240)'>ر</span><span style='background-color: rgb(255,245,240)'> </span><span style='background-color: rgb(255,245,240)'>ف</span><span style='background-color: rgb(255,245,240)'>ر</span><span style='background-color: rgb(255,245,240)'>ز</span><span style='background-color: rgb(254,242,236)'>ا</span><span style='background-color: rgb(254,232,222)'>ن</span><span style='background-color: rgb(254,242,236)'>گ</span><span style='background-color: rgb(254,243,238)'>ا</span><span style='background-color: rgb(254,234,224)'>ن</span><span>\t\t:\t\t</span><span>ن</span></div>"
      ],
      "text/plain": [
       "<IPython.core.display.HTML object>"
      ]
     },
     "metadata": {
      "tags": []
     },
     "output_type": "display_data"
    },
    {
     "data": {
      "text/html": [
       "<div><span style='background-color: rgb(254,244,239)'>د</span><span style='background-color: rgb(255,245,240)'>ر</span><span style='background-color: rgb(254,244,239)'>س</span><span style='background-color: rgb(254,244,239)'>ت</span><span style='background-color: rgb(254,244,239)'>س</span><span style='background-color: rgb(254,243,238)'>ت</span><span style='background-color: rgb(254,241,234)'> </span><span style='background-color: rgb(255,245,240)'>گ</span><span style='background-color: rgb(254,244,239)'>ف</span><span style='background-color: rgb(254,243,238)'>ت</span><span style='background-color: rgb(254,244,239)'>ا</span><span style='background-color: rgb(254,243,238)'>ر</span><span style='background-color: rgb(254,243,238)'> </span><span style='background-color: rgb(254,243,238)'>ف</span><span style='background-color: rgb(254,243,238)'>ر</span><span style='background-color: rgb(254,243,238)'>ز</span><span style='background-color: rgb(254,241,235)'>ا</span><span style='background-color: rgb(254,241,234)'>ن</span><span style='background-color: rgb(254,229,218)'>گ</span><span style='background-color: rgb(254,231,221)'>ا</span><span style='background-color: rgb(254,238,230)'>ن</span><span>\t\t:\t\t</span><span>گ</span></div>"
      ],
      "text/plain": [
       "<IPython.core.display.HTML object>"
      ]
     },
     "metadata": {
      "tags": []
     },
     "output_type": "display_data"
    },
    {
     "data": {
      "text/html": [
       "<div><span style='background-color: rgb(254,243,238)'>د</span><span style='background-color: rgb(254,243,237)'>ر</span><span style='background-color: rgb(254,243,238)'>س</span><span style='background-color: rgb(255,245,240)'>ت</span><span style='background-color: rgb(255,245,240)'>س</span><span style='background-color: rgb(254,243,238)'>ت</span><span style='background-color: rgb(254,243,238)'> </span><span style='background-color: rgb(255,245,240)'>گ</span><span style='background-color: rgb(255,245,240)'>ف</span><span style='background-color: rgb(255,245,240)'>ت</span><span style='background-color: rgb(255,245,240)'>ا</span><span style='background-color: rgb(255,245,240)'>ر</span><span style='background-color: rgb(255,245,240)'> </span><span style='background-color: rgb(255,245,240)'>ف</span><span style='background-color: rgb(255,245,240)'>ر</span><span style='background-color: rgb(254,244,239)'>ز</span><span style='background-color: rgb(254,241,234)'>ا</span><span style='background-color: rgb(255,245,240)'>ن</span><span style='background-color: rgb(254,243,238)'>گ</span><span style='background-color: rgb(230,50,40)'>ا</span><span style='background-color: rgb(254,243,238)'>ن</span><span>\t\t:\t\t</span><span>ا</span></div>"
      ],
      "text/plain": [
       "<IPython.core.display.HTML object>"
      ]
     },
     "metadata": {
      "tags": []
     },
     "output_type": "display_data"
    },
    {
     "data": {
      "text/html": [
       "<div><span style='background-color: rgb(255,245,240)'>د</span><span style='background-color: rgb(255,245,240)'>ر</span><span style='background-color: rgb(255,245,240)'>س</span><span style='background-color: rgb(255,245,240)'>ت</span><span style='background-color: rgb(255,245,240)'>س</span><span style='background-color: rgb(255,245,240)'>ت</span><span style='background-color: rgb(255,245,240)'> </span><span style='background-color: rgb(255,245,240)'>گ</span><span style='background-color: rgb(255,245,240)'>ف</span><span style='background-color: rgb(255,245,240)'>ت</span><span style='background-color: rgb(255,245,240)'>ا</span><span style='background-color: rgb(255,245,240)'>ر</span><span style='background-color: rgb(255,245,240)'> </span><span style='background-color: rgb(255,245,240)'>ف</span><span style='background-color: rgb(255,245,240)'>ر</span><span style='background-color: rgb(255,245,240)'>ز</span><span style='background-color: rgb(255,245,240)'>ا</span><span style='background-color: rgb(254,241,235)'>ن</span><span style='background-color: rgb(254,244,239)'>گ</span><span style='background-color: rgb(254,240,233)'>ا</span><span style='background-color: rgb(157,13,20)'>ن</span><span>\t\t:\t\t</span><span>ن</span></div>"
      ],
      "text/plain": [
       "<IPython.core.display.HTML object>"
      ]
     },
     "metadata": {
      "tags": []
     },
     "output_type": "display_data"
    },
    {
     "name": "stdout",
     "output_type": "stream",
     "text": [
      "Test input:\n",
      "چنین گفت با رستم شیرمرد  ****  که برخیز و از خرمی بازگرد\n",
      "Seq2Seq output:\n",
      "که این بد که با اا بدین کار سرد\n",
      "Seq2Seq with attention output:\n",
      "که ای ر کمر بر کنار افر کرد\n",
      "Weights of attention:\n"
     ]
    },
    {
     "data": {
      "text/html": [
       "<div><span style='background-color: rgb(254,243,238)'>چ</span><span style='background-color: rgb(254,244,239)'>ن</span><span style='background-color: rgb(254,244,239)'>ی</span><span style='background-color: rgb(254,242,236)'>ن</span><span style='background-color: rgb(254,241,234)'> </span><span style='background-color: rgb(254,244,239)'>گ</span><span style='background-color: rgb(255,245,240)'>ف</span><span style='background-color: rgb(255,245,240)'>ت</span><span style='background-color: rgb(254,243,238)'> </span><span style='background-color: rgb(254,244,239)'>ب</span><span style='background-color: rgb(254,244,239)'>ا</span><span style='background-color: rgb(255,245,240)'> </span><span style='background-color: rgb(254,244,239)'>ر</span><span style='background-color: rgb(255,245,240)'>س</span><span style='background-color: rgb(255,245,240)'>ت</span><span style='background-color: rgb(255,245,240)'>م</span><span style='background-color: rgb(255,245,240)'> </span><span style='background-color: rgb(255,245,240)'>ش</span><span style='background-color: rgb(255,245,240)'>ی</span><span style='background-color: rgb(255,245,240)'>ر</span><span style='background-color: rgb(255,245,240)'>م</span><span style='background-color: rgb(254,244,239)'>ر</span><span style='background-color: rgb(254,244,239)'>د</span><span>\t\t:\t\t</span><span>ک</span></div>"
      ],
      "text/plain": [
       "<IPython.core.display.HTML object>"
      ]
     },
     "metadata": {
      "tags": []
     },
     "output_type": "display_data"
    },
    {
     "data": {
      "text/html": [
       "<div><span style='background-color: rgb(254,241,234)'>چ</span><span style='background-color: rgb(254,241,235)'>ن</span><span style='background-color: rgb(254,242,236)'>ی</span><span style='background-color: rgb(254,240,233)'>ن</span><span style='background-color: rgb(254,243,237)'> </span><span style='background-color: rgb(254,240,233)'>گ</span><span style='background-color: rgb(254,241,235)'>ف</span><span style='background-color: rgb(254,244,239)'>ت</span><span style='background-color: rgb(254,244,239)'> </span><span style='background-color: rgb(254,238,230)'>ب</span><span style='background-color: rgb(254,237,228)'>ا</span><span style='background-color: rgb(254,241,234)'> </span><span style='background-color: rgb(254,243,238)'>ر</span><span style='background-color: rgb(255,245,240)'>س</span><span style='background-color: rgb(255,245,240)'>ت</span><span style='background-color: rgb(254,243,238)'>م</span><span style='background-color: rgb(254,242,236)'> </span><span style='background-color: rgb(254,239,231)'>ش</span><span style='background-color: rgb(254,243,237)'>ی</span><span style='background-color: rgb(255,245,240)'>ر</span><span style='background-color: rgb(254,244,239)'>م</span><span style='background-color: rgb(255,245,240)'>ر</span><span style='background-color: rgb(255,245,240)'>د</span><span>\t\t:\t\t</span><span>ه</span></div>"
      ],
      "text/plain": [
       "<IPython.core.display.HTML object>"
      ]
     },
     "metadata": {
      "tags": []
     },
     "output_type": "display_data"
    },
    {
     "data": {
      "text/html": [
       "<div><span style='background-color: rgb(255,245,240)'>چ</span><span style='background-color: rgb(255,245,240)'>ن</span><span style='background-color: rgb(254,244,239)'>ی</span><span style='background-color: rgb(254,241,235)'>ن</span><span style='background-color: rgb(254,237,229)'> </span><span style='background-color: rgb(254,235,225)'>گ</span><span style='background-color: rgb(252,175,147)'>ف</span><span style='background-color: rgb(253,213,195)'>ت</span><span style='background-color: rgb(254,239,232)'> </span><span style='background-color: rgb(254,238,230)'>ب</span><span style='background-color: rgb(254,237,229)'>ا</span><span style='background-color: rgb(254,237,229)'> </span><span style='background-color: rgb(254,244,239)'>ر</span><span style='background-color: rgb(254,240,233)'>س</span><span style='background-color: rgb(254,240,233)'>ت</span><span style='background-color: rgb(254,239,232)'>م</span><span style='background-color: rgb(254,241,235)'> </span><span style='background-color: rgb(254,244,239)'>ش</span><span style='background-color: rgb(254,243,238)'>ی</span><span style='background-color: rgb(254,244,239)'>ر</span><span style='background-color: rgb(254,243,238)'>م</span><span style='background-color: rgb(255,245,240)'>ر</span><span style='background-color: rgb(254,244,239)'>د</span><span>\t\t:\t\t</span><span>ـ</span></div>"
      ],
      "text/plain": [
       "<IPython.core.display.HTML object>"
      ]
     },
     "metadata": {
      "tags": []
     },
     "output_type": "display_data"
    },
    {
     "data": {
      "text/html": [
       "<div><span style='background-color: rgb(254,243,238)'>چ</span><span style='background-color: rgb(254,243,238)'>ن</span><span style='background-color: rgb(254,244,239)'>ی</span><span style='background-color: rgb(254,243,237)'>ن</span><span style='background-color: rgb(254,243,237)'> </span><span style='background-color: rgb(254,243,237)'>گ</span><span style='background-color: rgb(254,243,237)'>ف</span><span style='background-color: rgb(254,243,238)'>ت</span><span style='background-color: rgb(254,241,234)'> </span><span style='background-color: rgb(254,239,232)'>ب</span><span style='background-color: rgb(254,241,235)'>ا</span><span style='background-color: rgb(254,243,237)'> </span><span style='background-color: rgb(254,242,236)'>ر</span><span style='background-color: rgb(254,243,238)'>س</span><span style='background-color: rgb(254,244,239)'>ت</span><span style='background-color: rgb(254,243,238)'>م</span><span style='background-color: rgb(254,243,238)'> </span><span style='background-color: rgb(254,241,235)'>ش</span><span style='background-color: rgb(254,242,236)'>ی</span><span style='background-color: rgb(254,243,238)'>ر</span><span style='background-color: rgb(254,244,239)'>م</span><span style='background-color: rgb(255,245,240)'>ر</span><span style='background-color: rgb(255,245,240)'>د</span><span>\t\t:\t\t</span><span>ا</span></div>"
      ],
      "text/plain": [
       "<IPython.core.display.HTML object>"
      ]
     },
     "metadata": {
      "tags": []
     },
     "output_type": "display_data"
    },
    {
     "data": {
      "text/html": [
       "<div><span style='background-color: rgb(254,244,239)'>چ</span><span style='background-color: rgb(254,239,232)'>ن</span><span style='background-color: rgb(254,241,234)'>ی</span><span style='background-color: rgb(254,240,233)'>ن</span><span style='background-color: rgb(254,240,233)'> </span><span style='background-color: rgb(254,242,236)'>گ</span><span style='background-color: rgb(254,241,234)'>ف</span><span style='background-color: rgb(254,239,232)'>ت</span><span style='background-color: rgb(254,238,230)'> </span><span style='background-color: rgb(254,239,232)'>ب</span><span style='background-color: rgb(254,243,237)'>ا</span><span style='background-color: rgb(254,243,238)'> </span><span style='background-color: rgb(254,242,236)'>ر</span><span style='background-color: rgb(254,235,226)'>س</span><span style='background-color: rgb(254,240,233)'>ت</span><span style='background-color: rgb(254,243,237)'>م</span><span style='background-color: rgb(254,243,237)'> </span><span style='background-color: rgb(254,244,239)'>ش</span><span style='background-color: rgb(254,244,239)'>ی</span><span style='background-color: rgb(255,245,240)'>ر</span><span style='background-color: rgb(255,245,240)'>م</span><span style='background-color: rgb(255,245,240)'>ر</span><span style='background-color: rgb(254,244,239)'>د</span><span>\t\t:\t\t</span><span>ی</span></div>"
      ],
      "text/plain": [
       "<IPython.core.display.HTML object>"
      ]
     },
     "metadata": {
      "tags": []
     },
     "output_type": "display_data"
    },
    {
     "data": {
      "text/html": [
       "<div><span style='background-color: rgb(254,244,239)'>چ</span><span style='background-color: rgb(254,242,236)'>ن</span><span style='background-color: rgb(254,243,237)'>ی</span><span style='background-color: rgb(254,242,236)'>ن</span><span style='background-color: rgb(254,240,233)'> </span><span style='background-color: rgb(254,237,228)'>گ</span><span style='background-color: rgb(254,237,229)'>ف</span><span style='background-color: rgb(254,238,230)'>ت</span><span style='background-color: rgb(254,237,229)'> </span><span style='background-color: rgb(254,237,229)'>ب</span><span style='background-color: rgb(254,230,219)'>ا</span><span style='background-color: rgb(254,232,222)'> </span><span style='background-color: rgb(254,239,231)'>ر</span><span style='background-color: rgb(254,235,225)'>س</span><span style='background-color: rgb(254,239,232)'>ت</span><span style='background-color: rgb(254,237,228)'>م</span><span style='background-color: rgb(254,237,229)'> </span><span style='background-color: rgb(254,240,233)'>ش</span><span style='background-color: rgb(254,242,236)'>ی</span><span style='background-color: rgb(254,241,234)'>ر</span><span style='background-color: rgb(254,242,236)'>م</span><span style='background-color: rgb(254,244,239)'>ر</span><span style='background-color: rgb(254,243,238)'>د</span><span>\t\t:\t\t</span><span>ـ</span></div>"
      ],
      "text/plain": [
       "<IPython.core.display.HTML object>"
      ]
     },
     "metadata": {
      "tags": []
     },
     "output_type": "display_data"
    },
    {
     "data": {
      "text/html": [
       "<div><span style='background-color: rgb(254,240,233)'>چ</span><span style='background-color: rgb(254,243,237)'>ن</span><span style='background-color: rgb(254,241,235)'>ی</span><span style='background-color: rgb(254,241,234)'>ن</span><span style='background-color: rgb(254,239,232)'> </span><span style='background-color: rgb(254,240,233)'>گ</span><span style='background-color: rgb(254,239,231)'>ف</span><span style='background-color: rgb(254,241,235)'>ت</span><span style='background-color: rgb(254,240,233)'> </span><span style='background-color: rgb(254,239,232)'>ب</span><span style='background-color: rgb(254,241,235)'>ا</span><span style='background-color: rgb(254,243,237)'> </span><span style='background-color: rgb(254,242,236)'>ر</span><span style='background-color: rgb(254,243,238)'>س</span><span style='background-color: rgb(254,244,239)'>ت</span><span style='background-color: rgb(254,243,238)'>م</span><span style='background-color: rgb(254,243,238)'> </span><span style='background-color: rgb(254,241,234)'>ش</span><span style='background-color: rgb(254,241,234)'>ی</span><span style='background-color: rgb(254,241,235)'>ر</span><span style='background-color: rgb(254,243,237)'>م</span><span style='background-color: rgb(255,245,240)'>ر</span><span style='background-color: rgb(254,244,239)'>د</span><span>\t\t:\t\t</span><span>ر</span></div>"
      ],
      "text/plain": [
       "<IPython.core.display.HTML object>"
      ]
     },
     "metadata": {
      "tags": []
     },
     "output_type": "display_data"
    },
    {
     "data": {
      "text/html": [
       "<div><span style='background-color: rgb(254,240,233)'>چ</span><span style='background-color: rgb(254,243,238)'>ن</span><span style='background-color: rgb(254,241,235)'>ی</span><span style='background-color: rgb(254,239,232)'>ن</span><span style='background-color: rgb(254,240,233)'> </span><span style='background-color: rgb(254,239,232)'>گ</span><span style='background-color: rgb(254,235,225)'>ف</span><span style='background-color: rgb(254,240,233)'>ت</span><span style='background-color: rgb(254,236,227)'> </span><span style='background-color: rgb(254,237,228)'>ب</span><span style='background-color: rgb(254,229,218)'>ا</span><span style='background-color: rgb(254,239,231)'> </span><span style='background-color: rgb(254,243,238)'>ر</span><span style='background-color: rgb(254,244,239)'>س</span><span style='background-color: rgb(255,245,240)'>ت</span><span style='background-color: rgb(254,244,239)'>م</span><span style='background-color: rgb(254,243,237)'> </span><span style='background-color: rgb(254,243,238)'>ش</span><span style='background-color: rgb(254,241,234)'>ی</span><span style='background-color: rgb(254,244,239)'>ر</span><span style='background-color: rgb(254,242,236)'>م</span><span style='background-color: rgb(254,244,239)'>ر</span><span style='background-color: rgb(254,243,237)'>د</span><span>\t\t:\t\t</span><span>ـ</span></div>"
      ],
      "text/plain": [
       "<IPython.core.display.HTML object>"
      ]
     },
     "metadata": {
      "tags": []
     },
     "output_type": "display_data"
    },
    {
     "data": {
      "text/html": [
       "<div><span style='background-color: rgb(254,244,239)'>چ</span><span style='background-color: rgb(254,243,238)'>ن</span><span style='background-color: rgb(254,243,238)'>ی</span><span style='background-color: rgb(254,241,235)'>ن</span><span style='background-color: rgb(254,240,233)'> </span><span style='background-color: rgb(254,242,236)'>گ</span><span style='background-color: rgb(254,242,236)'>ف</span><span style='background-color: rgb(254,244,239)'>ت</span><span style='background-color: rgb(254,242,236)'> </span><span style='background-color: rgb(254,241,234)'>ب</span><span style='background-color: rgb(254,242,236)'>ا</span><span style='background-color: rgb(254,243,237)'> </span><span style='background-color: rgb(254,241,235)'>ر</span><span style='background-color: rgb(254,243,238)'>س</span><span style='background-color: rgb(254,244,239)'>ت</span><span style='background-color: rgb(255,245,240)'>م</span><span style='background-color: rgb(254,244,239)'> </span><span style='background-color: rgb(254,243,238)'>ش</span><span style='background-color: rgb(254,243,238)'>ی</span><span style='background-color: rgb(255,245,240)'>ر</span><span style='background-color: rgb(255,245,240)'>م</span><span style='background-color: rgb(255,245,240)'>ر</span><span style='background-color: rgb(255,245,240)'>د</span><span>\t\t:\t\t</span><span>ک</span></div>"
      ],
      "text/plain": [
       "<IPython.core.display.HTML object>"
      ]
     },
     "metadata": {
      "tags": []
     },
     "output_type": "display_data"
    },
    {
     "data": {
      "text/html": [
       "<div><span style='background-color: rgb(254,241,235)'>چ</span><span style='background-color: rgb(254,241,235)'>ن</span><span style='background-color: rgb(254,242,236)'>ی</span><span style='background-color: rgb(254,239,231)'>ن</span><span style='background-color: rgb(254,242,236)'> </span><span style='background-color: rgb(254,239,232)'>گ</span><span style='background-color: rgb(254,238,230)'>ف</span><span style='background-color: rgb(254,242,236)'>ت</span><span style='background-color: rgb(254,241,235)'> </span><span style='background-color: rgb(254,241,234)'>ب</span><span style='background-color: rgb(254,242,236)'>ا</span><span style='background-color: rgb(254,241,234)'> </span><span style='background-color: rgb(254,242,236)'>ر</span><span style='background-color: rgb(254,242,236)'>س</span><span style='background-color: rgb(254,242,236)'>ت</span><span style='background-color: rgb(254,242,236)'>م</span><span style='background-color: rgb(254,242,236)'> </span><span style='background-color: rgb(254,239,232)'>ش</span><span style='background-color: rgb(254,243,237)'>ی</span><span style='background-color: rgb(254,241,235)'>ر</span><span style='background-color: rgb(254,239,232)'>م</span><span style='background-color: rgb(254,244,239)'>ر</span><span style='background-color: rgb(254,243,237)'>د</span><span>\t\t:\t\t</span><span>م</span></div>"
      ],
      "text/plain": [
       "<IPython.core.display.HTML object>"
      ]
     },
     "metadata": {
      "tags": []
     },
     "output_type": "display_data"
    },
    {
     "data": {
      "text/html": [
       "<div><span style='background-color: rgb(254,239,231)'>چ</span><span style='background-color: rgb(254,234,224)'>ن</span><span style='background-color: rgb(254,241,234)'>ی</span><span style='background-color: rgb(254,239,232)'>ن</span><span style='background-color: rgb(254,237,229)'> </span><span style='background-color: rgb(254,236,227)'>گ</span><span style='background-color: rgb(254,237,229)'>ف</span><span style='background-color: rgb(254,239,232)'>ت</span><span style='background-color: rgb(254,241,235)'> </span><span style='background-color: rgb(254,241,235)'>ب</span><span style='background-color: rgb(254,241,234)'>ا</span><span style='background-color: rgb(254,242,236)'> </span><span style='background-color: rgb(254,243,238)'>ر</span><span style='background-color: rgb(254,243,238)'>س</span><span style='background-color: rgb(254,244,239)'>ت</span><span style='background-color: rgb(254,243,238)'>م</span><span style='background-color: rgb(254,243,238)'> </span><span style='background-color: rgb(255,245,240)'>ش</span><span style='background-color: rgb(254,244,239)'>ی</span><span style='background-color: rgb(255,245,240)'>ر</span><span style='background-color: rgb(254,244,239)'>م</span><span style='background-color: rgb(255,245,240)'>ر</span><span style='background-color: rgb(255,245,240)'>د</span><span>\t\t:\t\t</span><span>ر</span></div>"
      ],
      "text/plain": [
       "<IPython.core.display.HTML object>"
      ]
     },
     "metadata": {
      "tags": []
     },
     "output_type": "display_data"
    },
    {
     "data": {
      "text/html": [
       "<div><span style='background-color: rgb(255,245,240)'>چ</span><span style='background-color: rgb(254,244,239)'>ن</span><span style='background-color: rgb(254,243,238)'>ی</span><span style='background-color: rgb(254,242,236)'>ن</span><span style='background-color: rgb(254,242,236)'> </span><span style='background-color: rgb(254,242,236)'>گ</span><span style='background-color: rgb(254,241,234)'>ف</span><span style='background-color: rgb(254,235,226)'>ت</span><span style='background-color: rgb(253,223,209)'> </span><span style='background-color: rgb(254,233,223)'>ب</span><span style='background-color: rgb(254,232,222)'>ا</span><span style='background-color: rgb(254,234,224)'> </span><span style='background-color: rgb(254,243,237)'>ر</span><span style='background-color: rgb(254,244,239)'>س</span><span style='background-color: rgb(254,243,238)'>ت</span><span style='background-color: rgb(254,242,236)'>م</span><span style='background-color: rgb(254,241,234)'> </span><span style='background-color: rgb(254,239,232)'>ش</span><span style='background-color: rgb(254,239,231)'>ی</span><span style='background-color: rgb(254,244,239)'>ر</span><span style='background-color: rgb(254,243,238)'>م</span><span style='background-color: rgb(255,245,240)'>ر</span><span style='background-color: rgb(254,241,235)'>د</span><span>\t\t:\t\t</span><span>ـ</span></div>"
      ],
      "text/plain": [
       "<IPython.core.display.HTML object>"
      ]
     },
     "metadata": {
      "tags": []
     },
     "output_type": "display_data"
    },
    {
     "data": {
      "text/html": [
       "<div><span style='background-color: rgb(254,243,237)'>چ</span><span style='background-color: rgb(254,242,236)'>ن</span><span style='background-color: rgb(254,243,237)'>ی</span><span style='background-color: rgb(254,242,236)'>ن</span><span style='background-color: rgb(254,242,236)'> </span><span style='background-color: rgb(254,243,238)'>گ</span><span style='background-color: rgb(254,244,239)'>ف</span><span style='background-color: rgb(255,245,240)'>ت</span><span style='background-color: rgb(254,243,238)'> </span><span style='background-color: rgb(254,242,236)'>ب</span><span style='background-color: rgb(254,243,237)'>ا</span><span style='background-color: rgb(254,242,236)'> </span><span style='background-color: rgb(254,241,235)'>ر</span><span style='background-color: rgb(254,243,237)'>س</span><span style='background-color: rgb(254,243,238)'>ت</span><span style='background-color: rgb(254,244,239)'>م</span><span style='background-color: rgb(254,244,239)'> </span><span style='background-color: rgb(254,243,238)'>ش</span><span style='background-color: rgb(254,243,238)'>ی</span><span style='background-color: rgb(255,245,240)'>ر</span><span style='background-color: rgb(255,245,240)'>م</span><span style='background-color: rgb(255,245,240)'>ر</span><span style='background-color: rgb(255,245,240)'>د</span><span>\t\t:\t\t</span><span>ب</span></div>"
      ],
      "text/plain": [
       "<IPython.core.display.HTML object>"
      ]
     },
     "metadata": {
      "tags": []
     },
     "output_type": "display_data"
    },
    {
     "data": {
      "text/html": [
       "<div><span style='background-color: rgb(254,239,232)'>چ</span><span style='background-color: rgb(254,236,227)'>ن</span><span style='background-color: rgb(254,242,236)'>ی</span><span style='background-color: rgb(254,244,239)'>ن</span><span style='background-color: rgb(254,243,238)'> </span><span style='background-color: rgb(254,243,238)'>گ</span><span style='background-color: rgb(254,241,235)'>ف</span><span style='background-color: rgb(254,243,237)'>ت</span><span style='background-color: rgb(254,242,236)'> </span><span style='background-color: rgb(254,244,239)'>ب</span><span style='background-color: rgb(254,243,238)'>ا</span><span style='background-color: rgb(254,243,238)'> </span><span style='background-color: rgb(254,242,236)'>ر</span><span style='background-color: rgb(254,242,236)'>س</span><span style='background-color: rgb(254,243,237)'>ت</span><span style='background-color: rgb(254,239,231)'>م</span><span style='background-color: rgb(254,241,235)'> </span><span style='background-color: rgb(254,243,237)'>ش</span><span style='background-color: rgb(254,241,235)'>ی</span><span style='background-color: rgb(254,244,239)'>ر</span><span style='background-color: rgb(254,243,238)'>م</span><span style='background-color: rgb(255,245,240)'>ر</span><span style='background-color: rgb(254,244,239)'>د</span><span>\t\t:\t\t</span><span>ر</span></div>"
      ],
      "text/plain": [
       "<IPython.core.display.HTML object>"
      ]
     },
     "metadata": {
      "tags": []
     },
     "output_type": "display_data"
    },
    {
     "data": {
      "text/html": [
       "<div><span style='background-color: rgb(255,245,240)'>چ</span><span style='background-color: rgb(254,244,239)'>ن</span><span style='background-color: rgb(254,244,239)'>ی</span><span style='background-color: rgb(254,240,233)'>ن</span><span style='background-color: rgb(254,241,234)'> </span><span style='background-color: rgb(254,243,237)'>گ</span><span style='background-color: rgb(254,239,232)'>ف</span><span style='background-color: rgb(254,240,233)'>ت</span><span style='background-color: rgb(254,232,222)'> </span><span style='background-color: rgb(254,235,226)'>ب</span><span style='background-color: rgb(254,231,221)'>ا</span><span style='background-color: rgb(254,237,228)'> </span><span style='background-color: rgb(254,234,224)'>ر</span><span style='background-color: rgb(254,242,236)'>س</span><span style='background-color: rgb(254,239,232)'>ت</span><span style='background-color: rgb(254,237,229)'>م</span><span style='background-color: rgb(254,241,234)'> </span><span style='background-color: rgb(254,242,236)'>ش</span><span style='background-color: rgb(254,241,235)'>ی</span><span style='background-color: rgb(254,244,239)'>ر</span><span style='background-color: rgb(254,242,236)'>م</span><span style='background-color: rgb(254,244,239)'>ر</span><span style='background-color: rgb(254,243,238)'>د</span><span>\t\t:\t\t</span><span>ـ</span></div>"
      ],
      "text/plain": [
       "<IPython.core.display.HTML object>"
      ]
     },
     "metadata": {
      "tags": []
     },
     "output_type": "display_data"
    },
    {
     "data": {
      "text/html": [
       "<div><span style='background-color: rgb(254,243,238)'>چ</span><span style='background-color: rgb(254,244,239)'>ن</span><span style='background-color: rgb(254,243,237)'>ی</span><span style='background-color: rgb(254,242,236)'>ن</span><span style='background-color: rgb(254,241,235)'> </span><span style='background-color: rgb(254,243,238)'>گ</span><span style='background-color: rgb(255,245,240)'>ف</span><span style='background-color: rgb(255,245,240)'>ت</span><span style='background-color: rgb(254,243,238)'> </span><span style='background-color: rgb(254,243,237)'>ب</span><span style='background-color: rgb(254,242,236)'>ا</span><span style='background-color: rgb(254,243,238)'> </span><span style='background-color: rgb(254,239,231)'>ر</span><span style='background-color: rgb(254,243,238)'>س</span><span style='background-color: rgb(254,244,239)'>ت</span><span style='background-color: rgb(254,244,239)'>م</span><span style='background-color: rgb(254,244,239)'> </span><span style='background-color: rgb(254,241,234)'>ش</span><span style='background-color: rgb(254,242,236)'>ی</span><span style='background-color: rgb(254,241,235)'>ر</span><span style='background-color: rgb(254,244,239)'>م</span><span style='background-color: rgb(254,242,236)'>ر</span><span style='background-color: rgb(255,245,240)'>د</span><span>\t\t:\t\t</span><span>ک</span></div>"
      ],
      "text/plain": [
       "<IPython.core.display.HTML object>"
      ]
     },
     "metadata": {
      "tags": []
     },
     "output_type": "display_data"
    },
    {
     "data": {
      "text/html": [
       "<div><span style='background-color: rgb(254,241,235)'>چ</span><span style='background-color: rgb(254,241,234)'>ن</span><span style='background-color: rgb(254,241,234)'>ی</span><span style='background-color: rgb(254,226,213)'>ن</span><span style='background-color: rgb(254,234,224)'> </span><span style='background-color: rgb(254,233,223)'>گ</span><span style='background-color: rgb(254,240,233)'>ف</span><span style='background-color: rgb(254,242,236)'>ت</span><span style='background-color: rgb(254,242,236)'> </span><span style='background-color: rgb(254,242,236)'>ب</span><span style='background-color: rgb(254,243,238)'>ا</span><span style='background-color: rgb(254,244,239)'> </span><span style='background-color: rgb(254,244,239)'>ر</span><span style='background-color: rgb(254,243,238)'>س</span><span style='background-color: rgb(254,244,239)'>ت</span><span style='background-color: rgb(254,241,234)'>م</span><span style='background-color: rgb(254,240,233)'> </span><span style='background-color: rgb(254,237,228)'>ش</span><span style='background-color: rgb(254,241,234)'>ی</span><span style='background-color: rgb(254,243,237)'>ر</span><span style='background-color: rgb(254,240,233)'>م</span><span style='background-color: rgb(254,243,238)'>ر</span><span style='background-color: rgb(254,243,238)'>د</span><span>\t\t:\t\t</span><span>ن</span></div>"
      ],
      "text/plain": [
       "<IPython.core.display.HTML object>"
      ]
     },
     "metadata": {
      "tags": []
     },
     "output_type": "display_data"
    },
    {
     "data": {
      "text/html": [
       "<div><span style='background-color: rgb(254,244,239)'>چ</span><span style='background-color: rgb(254,243,238)'>ن</span><span style='background-color: rgb(254,244,239)'>ی</span><span style='background-color: rgb(254,242,236)'>ن</span><span style='background-color: rgb(254,243,237)'> </span><span style='background-color: rgb(254,243,238)'>گ</span><span style='background-color: rgb(254,243,237)'>ف</span><span style='background-color: rgb(254,240,233)'>ت</span><span style='background-color: rgb(254,242,236)'> </span><span style='background-color: rgb(254,243,238)'>ب</span><span style='background-color: rgb(254,243,238)'>ا</span><span style='background-color: rgb(254,243,238)'> </span><span style='background-color: rgb(254,239,231)'>ر</span><span style='background-color: rgb(254,237,228)'>س</span><span style='background-color: rgb(254,240,233)'>ت</span><span style='background-color: rgb(254,239,232)'>م</span><span style='background-color: rgb(254,242,236)'> </span><span style='background-color: rgb(254,243,237)'>ش</span><span style='background-color: rgb(254,238,230)'>ی</span><span style='background-color: rgb(254,243,238)'>ر</span><span style='background-color: rgb(254,241,235)'>م</span><span style='background-color: rgb(254,243,237)'>ر</span><span style='background-color: rgb(254,238,230)'>د</span><span>\t\t:\t\t</span><span>ا</span></div>"
      ],
      "text/plain": [
       "<IPython.core.display.HTML object>"
      ]
     },
     "metadata": {
      "tags": []
     },
     "output_type": "display_data"
    },
    {
     "data": {
      "text/html": [
       "<div><span style='background-color: rgb(254,237,228)'>چ</span><span style='background-color: rgb(254,227,214)'>ن</span><span style='background-color: rgb(254,231,221)'>ی</span><span style='background-color: rgb(254,239,232)'>ن</span><span style='background-color: rgb(254,229,217)'> </span><span style='background-color: rgb(254,231,220)'>گ</span><span style='background-color: rgb(254,237,229)'>ف</span><span style='background-color: rgb(254,235,225)'>ت</span><span style='background-color: rgb(254,240,233)'> </span><span style='background-color: rgb(254,243,238)'>ب</span><span style='background-color: rgb(254,244,239)'>ا</span><span style='background-color: rgb(254,243,238)'> </span><span style='background-color: rgb(254,243,238)'>ر</span><span style='background-color: rgb(254,244,239)'>س</span><span style='background-color: rgb(254,244,239)'>ت</span><span style='background-color: rgb(254,243,238)'>م</span><span style='background-color: rgb(254,244,239)'> </span><span style='background-color: rgb(254,244,239)'>ش</span><span style='background-color: rgb(254,243,237)'>ی</span><span style='background-color: rgb(255,245,240)'>ر</span><span style='background-color: rgb(255,245,240)'>م</span><span style='background-color: rgb(255,245,240)'>ر</span><span style='background-color: rgb(254,244,239)'>د</span><span>\t\t:\t\t</span><span>ر</span></div>"
      ],
      "text/plain": [
       "<IPython.core.display.HTML object>"
      ]
     },
     "metadata": {
      "tags": []
     },
     "output_type": "display_data"
    },
    {
     "data": {
      "text/html": [
       "<div><span style='background-color: rgb(255,245,240)'>چ</span><span style='background-color: rgb(255,245,240)'>ن</span><span style='background-color: rgb(255,245,240)'>ی</span><span style='background-color: rgb(254,244,239)'>ن</span><span style='background-color: rgb(254,243,237)'> </span><span style='background-color: rgb(254,239,232)'>گ</span><span style='background-color: rgb(254,237,229)'>ف</span><span style='background-color: rgb(254,229,217)'>ت</span><span style='background-color: rgb(252,205,185)'> </span><span style='background-color: rgb(254,240,233)'>ب</span><span style='background-color: rgb(254,231,221)'>ا</span><span style='background-color: rgb(254,239,231)'> </span><span style='background-color: rgb(254,243,237)'>ر</span><span style='background-color: rgb(254,237,228)'>س</span><span style='background-color: rgb(254,238,230)'>ت</span><span style='background-color: rgb(254,237,228)'>م</span><span style='background-color: rgb(254,241,234)'> </span><span style='background-color: rgb(254,242,236)'>ش</span><span style='background-color: rgb(254,236,227)'>ی</span><span style='background-color: rgb(254,244,239)'>ر</span><span style='background-color: rgb(254,241,235)'>م</span><span style='background-color: rgb(255,245,240)'>ر</span><span style='background-color: rgb(254,241,235)'>د</span><span>\t\t:\t\t</span><span>ـ</span></div>"
      ],
      "text/plain": [
       "<IPython.core.display.HTML object>"
      ]
     },
     "metadata": {
      "tags": []
     },
     "output_type": "display_data"
    },
    {
     "data": {
      "text/html": [
       "<div><span style='background-color: rgb(255,245,240)'>چ</span><span style='background-color: rgb(255,245,240)'>ن</span><span style='background-color: rgb(254,244,239)'>ی</span><span style='background-color: rgb(254,244,239)'>ن</span><span style='background-color: rgb(254,242,236)'> </span><span style='background-color: rgb(254,243,238)'>گ</span><span style='background-color: rgb(254,244,239)'>ف</span><span style='background-color: rgb(255,245,240)'>ت</span><span style='background-color: rgb(254,244,239)'> </span><span style='background-color: rgb(254,242,236)'>ب</span><span style='background-color: rgb(254,241,235)'>ا</span><span style='background-color: rgb(254,241,234)'> </span><span style='background-color: rgb(254,240,233)'>ر</span><span style='background-color: rgb(254,244,239)'>س</span><span style='background-color: rgb(254,244,239)'>ت</span><span style='background-color: rgb(255,245,240)'>م</span><span style='background-color: rgb(255,245,240)'> </span><span style='background-color: rgb(254,242,236)'>ش</span><span style='background-color: rgb(254,242,236)'>ی</span><span style='background-color: rgb(254,243,238)'>ر</span><span style='background-color: rgb(254,244,239)'>م</span><span style='background-color: rgb(255,245,240)'>ر</span><span style='background-color: rgb(255,245,240)'>د</span><span>\t\t:\t\t</span><span>ا</span></div>"
      ],
      "text/plain": [
       "<IPython.core.display.HTML object>"
      ]
     },
     "metadata": {
      "tags": []
     },
     "output_type": "display_data"
    },
    {
     "data": {
      "text/html": [
       "<div><span style='background-color: rgb(254,241,234)'>چ</span><span style='background-color: rgb(254,235,225)'>ن</span><span style='background-color: rgb(254,239,231)'>ی</span><span style='background-color: rgb(254,238,230)'>ن</span><span style='background-color: rgb(254,242,236)'> </span><span style='background-color: rgb(254,243,238)'>گ</span><span style='background-color: rgb(255,245,240)'>ف</span><span style='background-color: rgb(255,245,240)'>ت</span><span style='background-color: rgb(254,243,237)'> </span><span style='background-color: rgb(254,243,238)'>ب</span><span style='background-color: rgb(254,244,239)'>ا</span><span style='background-color: rgb(254,244,239)'> </span><span style='background-color: rgb(254,244,239)'>ر</span><span style='background-color: rgb(254,244,239)'>س</span><span style='background-color: rgb(255,245,240)'>ت</span><span style='background-color: rgb(254,244,239)'>م</span><span style='background-color: rgb(255,245,240)'> </span><span style='background-color: rgb(255,245,240)'>ش</span><span style='background-color: rgb(254,243,238)'>ی</span><span style='background-color: rgb(254,244,239)'>ر</span><span style='background-color: rgb(254,243,237)'>م</span><span style='background-color: rgb(254,243,238)'>ر</span><span style='background-color: rgb(254,242,236)'>د</span><span>\t\t:\t\t</span><span>ف</span></div>"
      ],
      "text/plain": [
       "<IPython.core.display.HTML object>"
      ]
     },
     "metadata": {
      "tags": []
     },
     "output_type": "display_data"
    },
    {
     "data": {
      "text/html": [
       "<div><span style='background-color: rgb(254,230,219)'>چ</span><span style='background-color: rgb(254,237,228)'>ن</span><span style='background-color: rgb(254,242,236)'>ی</span><span style='background-color: rgb(254,244,239)'>ن</span><span style='background-color: rgb(254,242,236)'> </span><span style='background-color: rgb(254,244,239)'>گ</span><span style='background-color: rgb(254,243,237)'>ف</span><span style='background-color: rgb(254,243,237)'>ت</span><span style='background-color: rgb(254,243,238)'> </span><span style='background-color: rgb(255,245,240)'>ب</span><span style='background-color: rgb(254,244,239)'>ا</span><span style='background-color: rgb(255,245,240)'> </span><span style='background-color: rgb(255,245,240)'>ر</span><span style='background-color: rgb(255,245,240)'>س</span><span style='background-color: rgb(255,245,240)'>ت</span><span style='background-color: rgb(254,244,239)'>م</span><span style='background-color: rgb(254,244,239)'> </span><span style='background-color: rgb(254,243,238)'>ش</span><span style='background-color: rgb(254,241,234)'>ی</span><span style='background-color: rgb(254,240,233)'>ر</span><span style='background-color: rgb(254,230,219)'>م</span><span style='background-color: rgb(254,236,227)'>ر</span><span style='background-color: rgb(254,243,238)'>د</span><span>\t\t:\t\t</span><span>ر</span></div>"
      ],
      "text/plain": [
       "<IPython.core.display.HTML object>"
      ]
     },
     "metadata": {
      "tags": []
     },
     "output_type": "display_data"
    },
    {
     "data": {
      "text/html": [
       "<div><span style='background-color: rgb(254,244,239)'>چ</span><span style='background-color: rgb(255,245,240)'>ن</span><span style='background-color: rgb(255,245,240)'>ی</span><span style='background-color: rgb(254,244,239)'>ن</span><span style='background-color: rgb(254,243,237)'> </span><span style='background-color: rgb(254,244,239)'>گ</span><span style='background-color: rgb(254,243,238)'>ف</span><span style='background-color: rgb(254,243,237)'>ت</span><span style='background-color: rgb(254,244,239)'> </span><span style='background-color: rgb(255,245,240)'>ب</span><span style='background-color: rgb(254,244,239)'>ا</span><span style='background-color: rgb(254,244,239)'> </span><span style='background-color: rgb(255,245,240)'>ر</span><span style='background-color: rgb(254,244,239)'>س</span><span style='background-color: rgb(254,243,238)'>ت</span><span style='background-color: rgb(254,244,239)'>م</span><span style='background-color: rgb(254,243,238)'> </span><span style='background-color: rgb(254,243,237)'>ش</span><span style='background-color: rgb(254,239,232)'>ی</span><span style='background-color: rgb(254,243,237)'>ر</span><span style='background-color: rgb(252,173,145)'>م</span><span style='background-color: rgb(252,205,185)'>ر</span><span style='background-color: rgb(254,231,221)'>د</span><span>\t\t:\t\t</span><span>ـ</span></div>"
      ],
      "text/plain": [
       "<IPython.core.display.HTML object>"
      ]
     },
     "metadata": {
      "tags": []
     },
     "output_type": "display_data"
    },
    {
     "data": {
      "text/html": [
       "<div><span style='background-color: rgb(255,245,240)'>چ</span><span style='background-color: rgb(254,244,239)'>ن</span><span style='background-color: rgb(254,244,239)'>ی</span><span style='background-color: rgb(255,245,240)'>ن</span><span style='background-color: rgb(254,243,238)'> </span><span style='background-color: rgb(255,245,240)'>گ</span><span style='background-color: rgb(255,245,240)'>ف</span><span style='background-color: rgb(255,245,240)'>ت</span><span style='background-color: rgb(255,245,240)'> </span><span style='background-color: rgb(255,245,240)'>ب</span><span style='background-color: rgb(255,245,240)'>ا</span><span style='background-color: rgb(254,244,239)'> </span><span style='background-color: rgb(255,245,240)'>ر</span><span style='background-color: rgb(255,245,240)'>س</span><span style='background-color: rgb(255,245,240)'>ت</span><span style='background-color: rgb(255,245,240)'>م</span><span style='background-color: rgb(255,245,240)'> </span><span style='background-color: rgb(255,245,240)'>ش</span><span style='background-color: rgb(254,244,239)'>ی</span><span style='background-color: rgb(255,245,240)'>ر</span><span style='background-color: rgb(254,244,239)'>م</span><span style='background-color: rgb(254,242,236)'>ر</span><span style='background-color: rgb(254,236,227)'>د</span><span>\t\t:\t\t</span><span>ک</span></div>"
      ],
      "text/plain": [
       "<IPython.core.display.HTML object>"
      ]
     },
     "metadata": {
      "tags": []
     },
     "output_type": "display_data"
    },
    {
     "data": {
      "text/html": [
       "<div><span style='background-color: rgb(255,245,240)'>چ</span><span style='background-color: rgb(254,244,239)'>ن</span><span style='background-color: rgb(255,245,240)'>ی</span><span style='background-color: rgb(255,245,240)'>ن</span><span style='background-color: rgb(254,244,239)'> </span><span style='background-color: rgb(255,245,240)'>گ</span><span style='background-color: rgb(255,245,240)'>ف</span><span style='background-color: rgb(255,245,240)'>ت</span><span style='background-color: rgb(255,245,240)'> </span><span style='background-color: rgb(255,245,240)'>ب</span><span style='background-color: rgb(255,245,240)'>ا</span><span style='background-color: rgb(255,245,240)'> </span><span style='background-color: rgb(255,245,240)'>ر</span><span style='background-color: rgb(255,245,240)'>س</span><span style='background-color: rgb(255,245,240)'>ت</span><span style='background-color: rgb(255,245,240)'>م</span><span style='background-color: rgb(254,244,239)'> </span><span style='background-color: rgb(255,245,240)'>ش</span><span style='background-color: rgb(254,244,239)'>ی</span><span style='background-color: rgb(254,244,239)'>ر</span><span style='background-color: rgb(254,236,227)'>م</span><span style='background-color: rgb(203,24,29)'>ر</span><span style='background-color: rgb(254,233,223)'>د</span><span>\t\t:\t\t</span><span>ر</span></div>"
      ],
      "text/plain": [
       "<IPython.core.display.HTML object>"
      ]
     },
     "metadata": {
      "tags": []
     },
     "output_type": "display_data"
    },
    {
     "data": {
      "text/html": [
       "<div><span style='background-color: rgb(255,245,240)'>چ</span><span style='background-color: rgb(255,245,240)'>ن</span><span style='background-color: rgb(255,245,240)'>ی</span><span style='background-color: rgb(255,245,240)'>ن</span><span style='background-color: rgb(255,245,240)'> </span><span style='background-color: rgb(255,245,240)'>گ</span><span style='background-color: rgb(255,245,240)'>ف</span><span style='background-color: rgb(255,245,240)'>ت</span><span style='background-color: rgb(255,245,240)'> </span><span style='background-color: rgb(255,245,240)'>ب</span><span style='background-color: rgb(255,245,240)'>ا</span><span style='background-color: rgb(255,245,240)'> </span><span style='background-color: rgb(255,245,240)'>ر</span><span style='background-color: rgb(255,245,240)'>س</span><span style='background-color: rgb(255,245,240)'>ت</span><span style='background-color: rgb(255,245,240)'>م</span><span style='background-color: rgb(254,243,237)'> </span><span style='background-color: rgb(255,245,240)'>ش</span><span style='background-color: rgb(254,243,238)'>ی</span><span style='background-color: rgb(255,245,240)'>ر</span><span style='background-color: rgb(254,241,235)'>م</span><span style='background-color: rgb(254,244,239)'>ر</span><span style='background-color: rgb(171,16,22)'>د</span><span>\t\t:\t\t</span><span>د</span></div>"
      ],
      "text/plain": [
       "<IPython.core.display.HTML object>"
      ]
     },
     "metadata": {
      "tags": []
     },
     "output_type": "display_data"
    },
    {
     "name": "stdout",
     "output_type": "stream",
     "text": [
      "Test input:\n",
      "همی تاختند از پس اردشیر  ****  به پیش اندرون اردوان و وزیر\n",
      "Seq2Seq output:\n",
      "سپاهی مگر با   و با ار زیر\n",
      "Seq2Seq with attention output:\n",
      "به از ر به کردار دریاه پیر\n",
      "Weights of attention:\n"
     ]
    },
    {
     "data": {
      "text/html": [
       "<div><span style='background-color: rgb(254,243,237)'>ه</span><span style='background-color: rgb(254,243,237)'>م</span><span style='background-color: rgb(254,244,239)'>ی</span><span style='background-color: rgb(254,244,239)'> </span><span style='background-color: rgb(254,241,235)'>ت</span><span style='background-color: rgb(254,243,238)'>ا</span><span style='background-color: rgb(255,245,240)'>خ</span><span style='background-color: rgb(255,245,240)'>ت</span><span style='background-color: rgb(254,244,239)'>ن</span><span style='background-color: rgb(254,244,239)'>د</span><span style='background-color: rgb(254,244,239)'> </span><span style='background-color: rgb(254,244,239)'>ا</span><span style='background-color: rgb(254,243,237)'>ز</span><span style='background-color: rgb(255,245,240)'> </span><span style='background-color: rgb(255,245,240)'>پ</span><span style='background-color: rgb(255,245,240)'>س</span><span style='background-color: rgb(255,245,240)'> </span><span style='background-color: rgb(254,244,239)'>ا</span><span style='background-color: rgb(254,244,239)'>ر</span><span style='background-color: rgb(254,243,238)'>د</span><span style='background-color: rgb(254,243,238)'>ش</span><span style='background-color: rgb(254,243,238)'>ی</span><span style='background-color: rgb(254,244,239)'>ر</span><span>\t\t:\t\t</span><span>ب</span></div>"
      ],
      "text/plain": [
       "<IPython.core.display.HTML object>"
      ]
     },
     "metadata": {
      "tags": []
     },
     "output_type": "display_data"
    },
    {
     "data": {
      "text/html": [
       "<div><span style='background-color: rgb(254,239,231)'>ه</span><span style='background-color: rgb(254,240,233)'>م</span><span style='background-color: rgb(254,243,238)'>ی</span><span style='background-color: rgb(254,243,238)'> </span><span style='background-color: rgb(254,243,237)'>ت</span><span style='background-color: rgb(254,243,237)'>ا</span><span style='background-color: rgb(254,243,237)'>خ</span><span style='background-color: rgb(254,241,235)'>ت</span><span style='background-color: rgb(254,241,235)'>ن</span><span style='background-color: rgb(254,240,233)'>د</span><span style='background-color: rgb(254,241,235)'> </span><span style='background-color: rgb(254,241,234)'>ا</span><span style='background-color: rgb(254,240,233)'>ز</span><span style='background-color: rgb(254,243,237)'> </span><span style='background-color: rgb(254,243,237)'>پ</span><span style='background-color: rgb(254,244,239)'>س</span><span style='background-color: rgb(254,243,238)'> </span><span style='background-color: rgb(254,241,235)'>ا</span><span style='background-color: rgb(254,241,235)'>ر</span><span style='background-color: rgb(254,243,237)'>د</span><span style='background-color: rgb(254,244,239)'>ش</span><span style='background-color: rgb(255,245,240)'>ی</span><span style='background-color: rgb(255,245,240)'>ر</span><span>\t\t:\t\t</span><span>ه</span></div>"
      ],
      "text/plain": [
       "<IPython.core.display.HTML object>"
      ]
     },
     "metadata": {
      "tags": []
     },
     "output_type": "display_data"
    },
    {
     "data": {
      "text/html": [
       "<div><span style='background-color: rgb(254,242,236)'>ه</span><span style='background-color: rgb(254,239,232)'>م</span><span style='background-color: rgb(254,241,235)'>ی</span><span style='background-color: rgb(254,242,236)'> </span><span style='background-color: rgb(254,243,238)'>ت</span><span style='background-color: rgb(254,234,224)'>ا</span><span style='background-color: rgb(253,213,195)'>خ</span><span style='background-color: rgb(252,180,153)'>ت</span><span style='background-color: rgb(254,237,228)'>ن</span><span style='background-color: rgb(254,239,232)'>د</span><span style='background-color: rgb(254,241,234)'> </span><span style='background-color: rgb(254,240,233)'>ا</span><span style='background-color: rgb(254,244,239)'>ز</span><span style='background-color: rgb(254,244,239)'> </span><span style='background-color: rgb(254,243,238)'>پ</span><span style='background-color: rgb(254,243,237)'>س</span><span style='background-color: rgb(254,239,231)'> </span><span style='background-color: rgb(254,242,236)'>ا</span><span style='background-color: rgb(254,243,238)'>ر</span><span style='background-color: rgb(254,244,239)'>د</span><span style='background-color: rgb(254,244,239)'>ش</span><span style='background-color: rgb(254,244,239)'>ی</span><span style='background-color: rgb(254,244,239)'>ر</span><span>\t\t:\t\t</span><span>ـ</span></div>"
      ],
      "text/plain": [
       "<IPython.core.display.HTML object>"
      ]
     },
     "metadata": {
      "tags": []
     },
     "output_type": "display_data"
    },
    {
     "data": {
      "text/html": [
       "<div><span style='background-color: rgb(254,243,238)'>ه</span><span style='background-color: rgb(254,243,238)'>م</span><span style='background-color: rgb(254,243,238)'>ی</span><span style='background-color: rgb(254,243,237)'> </span><span style='background-color: rgb(254,240,233)'>ت</span><span style='background-color: rgb(254,240,233)'>ا</span><span style='background-color: rgb(254,243,237)'>خ</span><span style='background-color: rgb(254,244,239)'>ت</span><span style='background-color: rgb(254,240,233)'>ن</span><span style='background-color: rgb(254,241,235)'>د</span><span style='background-color: rgb(254,239,232)'> </span><span style='background-color: rgb(254,242,236)'>ا</span><span style='background-color: rgb(254,242,236)'>ز</span><span style='background-color: rgb(254,243,238)'> </span><span style='background-color: rgb(254,244,239)'>پ</span><span style='background-color: rgb(254,244,239)'>س</span><span style='background-color: rgb(254,244,239)'> </span><span style='background-color: rgb(254,240,233)'>ا</span><span style='background-color: rgb(254,240,233)'>ر</span><span style='background-color: rgb(254,242,236)'>د</span><span style='background-color: rgb(255,245,240)'>ش</span><span style='background-color: rgb(255,245,240)'>ی</span><span style='background-color: rgb(255,245,240)'>ر</span><span>\t\t:\t\t</span><span>ا</span></div>"
      ],
      "text/plain": [
       "<IPython.core.display.HTML object>"
      ]
     },
     "metadata": {
      "tags": []
     },
     "output_type": "display_data"
    },
    {
     "data": {
      "text/html": [
       "<div><span style='background-color: rgb(254,242,236)'>ه</span><span style='background-color: rgb(254,238,230)'>م</span><span style='background-color: rgb(254,241,234)'>ی</span><span style='background-color: rgb(254,241,235)'> </span><span style='background-color: rgb(254,237,229)'>ت</span><span style='background-color: rgb(254,243,237)'>ا</span><span style='background-color: rgb(254,243,237)'>خ</span><span style='background-color: rgb(254,243,238)'>ت</span><span style='background-color: rgb(254,242,236)'>ن</span><span style='background-color: rgb(254,243,237)'>د</span><span style='background-color: rgb(254,243,237)'> </span><span style='background-color: rgb(254,243,238)'>ا</span><span style='background-color: rgb(254,241,235)'>ز</span><span style='background-color: rgb(254,238,230)'> </span><span style='background-color: rgb(254,244,239)'>پ</span><span style='background-color: rgb(255,245,240)'>س</span><span style='background-color: rgb(254,244,239)'> </span><span style='background-color: rgb(254,244,239)'>ا</span><span style='background-color: rgb(254,243,238)'>ر</span><span style='background-color: rgb(255,245,240)'>د</span><span style='background-color: rgb(255,245,240)'>ش</span><span style='background-color: rgb(255,245,240)'>ی</span><span style='background-color: rgb(255,245,240)'>ر</span><span>\t\t:\t\t</span><span>ز</span></div>"
      ],
      "text/plain": [
       "<IPython.core.display.HTML object>"
      ]
     },
     "metadata": {
      "tags": []
     },
     "output_type": "display_data"
    },
    {
     "data": {
      "text/html": [
       "<div><span style='background-color: rgb(254,243,238)'>ه</span><span style='background-color: rgb(254,242,236)'>م</span><span style='background-color: rgb(254,243,237)'>ی</span><span style='background-color: rgb(254,243,238)'> </span><span style='background-color: rgb(254,242,236)'>ت</span><span style='background-color: rgb(254,238,230)'>ا</span><span style='background-color: rgb(254,237,229)'>خ</span><span style='background-color: rgb(254,233,224)'>ت</span><span style='background-color: rgb(254,233,223)'>ن</span><span style='background-color: rgb(254,239,231)'>د</span><span style='background-color: rgb(254,232,222)'> </span><span style='background-color: rgb(254,233,224)'>ا</span><span style='background-color: rgb(254,238,230)'>ز</span><span style='background-color: rgb(254,242,236)'> </span><span style='background-color: rgb(254,243,238)'>پ</span><span style='background-color: rgb(254,244,239)'>س</span><span style='background-color: rgb(254,242,236)'> </span><span style='background-color: rgb(254,241,235)'>ا</span><span style='background-color: rgb(254,243,237)'>ر</span><span style='background-color: rgb(254,243,238)'>د</span><span style='background-color: rgb(254,243,238)'>ش</span><span style='background-color: rgb(254,243,237)'>ی</span><span style='background-color: rgb(255,245,240)'>ر</span><span>\t\t:\t\t</span><span>ـ</span></div>"
      ],
      "text/plain": [
       "<IPython.core.display.HTML object>"
      ]
     },
     "metadata": {
      "tags": []
     },
     "output_type": "display_data"
    },
    {
     "data": {
      "text/html": [
       "<div><span style='background-color: rgb(254,240,233)'>ه</span><span style='background-color: rgb(254,243,237)'>م</span><span style='background-color: rgb(254,242,236)'>ی</span><span style='background-color: rgb(254,241,234)'> </span><span style='background-color: rgb(254,240,233)'>ت</span><span style='background-color: rgb(254,239,232)'>ا</span><span style='background-color: rgb(254,241,234)'>خ</span><span style='background-color: rgb(254,242,236)'>ت</span><span style='background-color: rgb(254,237,228)'>ن</span><span style='background-color: rgb(254,240,233)'>د</span><span style='background-color: rgb(254,242,236)'> </span><span style='background-color: rgb(254,241,235)'>ا</span><span style='background-color: rgb(254,241,234)'>ز</span><span style='background-color: rgb(254,242,236)'> </span><span style='background-color: rgb(254,244,239)'>پ</span><span style='background-color: rgb(255,245,240)'>س</span><span style='background-color: rgb(254,244,239)'> </span><span style='background-color: rgb(254,238,230)'>ا</span><span style='background-color: rgb(254,238,230)'>ر</span><span style='background-color: rgb(254,243,237)'>د</span><span style='background-color: rgb(254,244,239)'>ش</span><span style='background-color: rgb(254,242,236)'>ی</span><span style='background-color: rgb(255,245,240)'>ر</span><span>\t\t:\t\t</span><span>ر</span></div>"
      ],
      "text/plain": [
       "<IPython.core.display.HTML object>"
      ]
     },
     "metadata": {
      "tags": []
     },
     "output_type": "display_data"
    },
    {
     "data": {
      "text/html": [
       "<div><span style='background-color: rgb(254,243,237)'>ه</span><span style='background-color: rgb(254,241,235)'>م</span><span style='background-color: rgb(254,241,235)'>ی</span><span style='background-color: rgb(254,242,236)'> </span><span style='background-color: rgb(254,243,237)'>ت</span><span style='background-color: rgb(254,241,234)'>ا</span><span style='background-color: rgb(254,239,232)'>خ</span><span style='background-color: rgb(254,238,230)'>ت</span><span style='background-color: rgb(254,235,225)'>ن</span><span style='background-color: rgb(254,235,225)'>د</span><span style='background-color: rgb(254,226,213)'> </span><span style='background-color: rgb(254,233,223)'>ا</span><span style='background-color: rgb(254,241,235)'>ز</span><span style='background-color: rgb(254,243,238)'> </span><span style='background-color: rgb(255,245,240)'>پ</span><span style='background-color: rgb(255,245,240)'>س</span><span style='background-color: rgb(254,243,238)'> </span><span style='background-color: rgb(254,241,235)'>ا</span><span style='background-color: rgb(254,243,237)'>ر</span><span style='background-color: rgb(254,240,233)'>د</span><span style='background-color: rgb(254,244,239)'>ش</span><span style='background-color: rgb(254,244,239)'>ی</span><span style='background-color: rgb(255,245,240)'>ر</span><span>\t\t:\t\t</span><span>ـ</span></div>"
      ],
      "text/plain": [
       "<IPython.core.display.HTML object>"
      ]
     },
     "metadata": {
      "tags": []
     },
     "output_type": "display_data"
    },
    {
     "data": {
      "text/html": [
       "<div><span style='background-color: rgb(254,244,239)'>ه</span><span style='background-color: rgb(254,244,239)'>م</span><span style='background-color: rgb(254,244,239)'>ی</span><span style='background-color: rgb(254,243,238)'> </span><span style='background-color: rgb(254,241,234)'>ت</span><span style='background-color: rgb(254,243,238)'>ا</span><span style='background-color: rgb(254,243,238)'>خ</span><span style='background-color: rgb(254,244,239)'>ت</span><span style='background-color: rgb(254,241,235)'>ن</span><span style='background-color: rgb(254,243,237)'>د</span><span style='background-color: rgb(254,241,235)'> </span><span style='background-color: rgb(254,243,238)'>ا</span><span style='background-color: rgb(254,242,236)'>ز</span><span style='background-color: rgb(254,244,239)'> </span><span style='background-color: rgb(255,245,240)'>پ</span><span style='background-color: rgb(255,245,240)'>س</span><span style='background-color: rgb(255,245,240)'> </span><span style='background-color: rgb(254,243,238)'>ا</span><span style='background-color: rgb(254,241,234)'>ر</span><span style='background-color: rgb(254,243,237)'>د</span><span style='background-color: rgb(254,244,239)'>ش</span><span style='background-color: rgb(254,240,233)'>ی</span><span style='background-color: rgb(254,244,239)'>ر</span><span>\t\t:\t\t</span><span>ب</span></div>"
      ],
      "text/plain": [
       "<IPython.core.display.HTML object>"
      ]
     },
     "metadata": {
      "tags": []
     },
     "output_type": "display_data"
    },
    {
     "data": {
      "text/html": [
       "<div><span style='background-color: rgb(254,239,231)'>ه</span><span style='background-color: rgb(254,242,236)'>م</span><span style='background-color: rgb(254,244,239)'>ی</span><span style='background-color: rgb(255,245,240)'> </span><span style='background-color: rgb(255,245,240)'>ت</span><span style='background-color: rgb(255,245,240)'>ا</span><span style='background-color: rgb(254,244,239)'>خ</span><span style='background-color: rgb(254,244,239)'>ت</span><span style='background-color: rgb(254,243,237)'>ن</span><span style='background-color: rgb(254,244,239)'>د</span><span style='background-color: rgb(254,244,239)'> </span><span style='background-color: rgb(254,243,238)'>ا</span><span style='background-color: rgb(254,241,235)'>ز</span><span style='background-color: rgb(254,243,237)'> </span><span style='background-color: rgb(254,243,238)'>پ</span><span style='background-color: rgb(254,244,239)'>س</span><span style='background-color: rgb(254,244,239)'> </span><span style='background-color: rgb(254,244,239)'>ا</span><span style='background-color: rgb(254,243,238)'>ر</span><span style='background-color: rgb(254,243,238)'>د</span><span style='background-color: rgb(255,245,240)'>ش</span><span style='background-color: rgb(254,244,239)'>ی</span><span style='background-color: rgb(255,245,240)'>ر</span><span>\t\t:\t\t</span><span>ه</span></div>"
      ],
      "text/plain": [
       "<IPython.core.display.HTML object>"
      ]
     },
     "metadata": {
      "tags": []
     },
     "output_type": "display_data"
    },
    {
     "data": {
      "text/html": [
       "<div><span style='background-color: rgb(254,243,237)'>ه</span><span style='background-color: rgb(254,239,232)'>م</span><span style='background-color: rgb(254,243,237)'>ی</span><span style='background-color: rgb(254,244,239)'> </span><span style='background-color: rgb(254,244,239)'>ت</span><span style='background-color: rgb(254,231,221)'>ا</span><span style='background-color: rgb(253,220,205)'>خ</span><span style='background-color: rgb(252,178,151)'>ت</span><span style='background-color: rgb(254,231,221)'>ن</span><span style='background-color: rgb(254,242,236)'>د</span><span style='background-color: rgb(254,242,236)'> </span><span style='background-color: rgb(254,239,231)'>ا</span><span style='background-color: rgb(254,243,238)'>ز</span><span style='background-color: rgb(254,244,239)'> </span><span style='background-color: rgb(254,242,236)'>پ</span><span style='background-color: rgb(254,243,237)'>س</span><span style='background-color: rgb(254,240,233)'> </span><span style='background-color: rgb(254,243,237)'>ا</span><span style='background-color: rgb(254,243,238)'>ر</span><span style='background-color: rgb(255,245,240)'>د</span><span style='background-color: rgb(254,244,239)'>ش</span><span style='background-color: rgb(254,244,239)'>ی</span><span style='background-color: rgb(254,244,239)'>ر</span><span>\t\t:\t\t</span><span>ـ</span></div>"
      ],
      "text/plain": [
       "<IPython.core.display.HTML object>"
      ]
     },
     "metadata": {
      "tags": []
     },
     "output_type": "display_data"
    },
    {
     "data": {
      "text/html": [
       "<div><span style='background-color: rgb(254,243,238)'>ه</span><span style='background-color: rgb(254,244,239)'>م</span><span style='background-color: rgb(254,243,238)'>ی</span><span style='background-color: rgb(254,242,236)'> </span><span style='background-color: rgb(254,241,235)'>ت</span><span style='background-color: rgb(254,243,238)'>ا</span><span style='background-color: rgb(254,244,239)'>خ</span><span style='background-color: rgb(254,244,239)'>ت</span><span style='background-color: rgb(254,242,236)'>ن</span><span style='background-color: rgb(254,241,235)'>د</span><span style='background-color: rgb(254,241,235)'> </span><span style='background-color: rgb(254,243,237)'>ا</span><span style='background-color: rgb(254,243,237)'>ز</span><span style='background-color: rgb(254,243,238)'> </span><span style='background-color: rgb(254,244,239)'>پ</span><span style='background-color: rgb(254,244,239)'>س</span><span style='background-color: rgb(254,244,239)'> </span><span style='background-color: rgb(254,241,235)'>ا</span><span style='background-color: rgb(254,242,236)'>ر</span><span style='background-color: rgb(254,243,238)'>د</span><span style='background-color: rgb(255,245,240)'>ش</span><span style='background-color: rgb(255,245,240)'>ی</span><span style='background-color: rgb(255,245,240)'>ر</span><span>\t\t:\t\t</span><span>ک</span></div>"
      ],
      "text/plain": [
       "<IPython.core.display.HTML object>"
      ]
     },
     "metadata": {
      "tags": []
     },
     "output_type": "display_data"
    },
    {
     "data": {
      "text/html": [
       "<div><span style='background-color: rgb(254,236,227)'>ه</span><span style='background-color: rgb(254,228,216)'>م</span><span style='background-color: rgb(254,239,232)'>ی</span><span style='background-color: rgb(254,241,235)'> </span><span style='background-color: rgb(254,241,234)'>ت</span><span style='background-color: rgb(254,241,235)'>ا</span><span style='background-color: rgb(254,239,232)'>خ</span><span style='background-color: rgb(254,239,232)'>ت</span><span style='background-color: rgb(254,241,235)'>ن</span><span style='background-color: rgb(254,244,239)'>د</span><span style='background-color: rgb(254,243,238)'> </span><span style='background-color: rgb(254,243,238)'>ا</span><span style='background-color: rgb(254,244,239)'>ز</span><span style='background-color: rgb(255,245,240)'> </span><span style='background-color: rgb(255,245,240)'>پ</span><span style='background-color: rgb(254,244,239)'>س</span><span style='background-color: rgb(254,241,235)'> </span><span style='background-color: rgb(254,239,231)'>ا</span><span style='background-color: rgb(254,240,233)'>ر</span><span style='background-color: rgb(254,243,237)'>د</span><span style='background-color: rgb(254,243,238)'>ش</span><span style='background-color: rgb(254,243,238)'>ی</span><span style='background-color: rgb(254,244,239)'>ر</span><span>\t\t:\t\t</span><span>ر</span></div>"
      ],
      "text/plain": [
       "<IPython.core.display.HTML object>"
      ]
     },
     "metadata": {
      "tags": []
     },
     "output_type": "display_data"
    },
    {
     "data": {
      "text/html": [
       "<div><span style='background-color: rgb(255,245,240)'>ه</span><span style='background-color: rgb(255,245,240)'>م</span><span style='background-color: rgb(254,244,239)'>ی</span><span style='background-color: rgb(255,245,240)'> </span><span style='background-color: rgb(254,244,239)'>ت</span><span style='background-color: rgb(255,245,240)'>ا</span><span style='background-color: rgb(255,245,240)'>خ</span><span style='background-color: rgb(254,244,239)'>ت</span><span style='background-color: rgb(254,242,236)'>ن</span><span style='background-color: rgb(254,238,230)'>د</span><span style='background-color: rgb(254,241,234)'> </span><span style='background-color: rgb(254,234,224)'>ا</span><span style='background-color: rgb(253,208,189)'>ز</span><span style='background-color: rgb(254,230,219)'> </span><span style='background-color: rgb(254,239,232)'>پ</span><span style='background-color: rgb(254,243,238)'>س</span><span style='background-color: rgb(254,240,233)'> </span><span style='background-color: rgb(254,242,236)'>ا</span><span style='background-color: rgb(254,242,236)'>ر</span><span style='background-color: rgb(254,244,239)'>د</span><span style='background-color: rgb(255,245,240)'>ش</span><span style='background-color: rgb(255,245,240)'>ی</span><span style='background-color: rgb(255,245,240)'>ر</span><span>\t\t:\t\t</span><span>د</span></div>"
      ],
      "text/plain": [
       "<IPython.core.display.HTML object>"
      ]
     },
     "metadata": {
      "tags": []
     },
     "output_type": "display_data"
    },
    {
     "data": {
      "text/html": [
       "<div><span style='background-color: rgb(255,245,240)'>ه</span><span style='background-color: rgb(255,245,240)'>م</span><span style='background-color: rgb(254,244,239)'>ی</span><span style='background-color: rgb(254,243,238)'> </span><span style='background-color: rgb(254,242,236)'>ت</span><span style='background-color: rgb(254,243,237)'>ا</span><span style='background-color: rgb(254,241,234)'>خ</span><span style='background-color: rgb(254,231,220)'>ت</span><span style='background-color: rgb(254,235,226)'>ن</span><span style='background-color: rgb(254,243,238)'>د</span><span style='background-color: rgb(254,243,238)'> </span><span style='background-color: rgb(254,244,239)'>ا</span><span style='background-color: rgb(254,243,237)'>ز</span><span style='background-color: rgb(254,241,234)'> </span><span style='background-color: rgb(254,242,236)'>پ</span><span style='background-color: rgb(254,243,238)'>س</span><span style='background-color: rgb(254,241,235)'> </span><span style='background-color: rgb(254,242,236)'>ا</span><span style='background-color: rgb(254,244,239)'>ر</span><span style='background-color: rgb(254,244,239)'>د</span><span style='background-color: rgb(254,243,238)'>ش</span><span style='background-color: rgb(254,243,238)'>ی</span><span style='background-color: rgb(255,245,240)'>ر</span><span>\t\t:\t\t</span><span>ا</span></div>"
      ],
      "text/plain": [
       "<IPython.core.display.HTML object>"
      ]
     },
     "metadata": {
      "tags": []
     },
     "output_type": "display_data"
    },
    {
     "data": {
      "text/html": [
       "<div><span style='background-color: rgb(253,215,199)'>ه</span><span style='background-color: rgb(252,194,171)'>م</span><span style='background-color: rgb(253,213,195)'>ی</span><span style='background-color: rgb(254,239,231)'> </span><span style='background-color: rgb(254,233,223)'>ت</span><span style='background-color: rgb(254,244,239)'>ا</span><span style='background-color: rgb(254,243,238)'>خ</span><span style='background-color: rgb(254,243,238)'>ت</span><span style='background-color: rgb(254,243,238)'>ن</span><span style='background-color: rgb(255,245,240)'>د</span><span style='background-color: rgb(254,244,239)'> </span><span style='background-color: rgb(254,243,238)'>ا</span><span style='background-color: rgb(254,243,238)'>ز</span><span style='background-color: rgb(255,245,240)'> </span><span style='background-color: rgb(255,245,240)'>پ</span><span style='background-color: rgb(255,245,240)'>س</span><span style='background-color: rgb(254,244,239)'> </span><span style='background-color: rgb(254,244,239)'>ا</span><span style='background-color: rgb(254,244,239)'>ر</span><span style='background-color: rgb(255,245,240)'>د</span><span style='background-color: rgb(255,245,240)'>ش</span><span style='background-color: rgb(255,245,240)'>ی</span><span style='background-color: rgb(255,245,240)'>ر</span><span>\t\t:\t\t</span><span>ر</span></div>"
      ],
      "text/plain": [
       "<IPython.core.display.HTML object>"
      ]
     },
     "metadata": {
      "tags": []
     },
     "output_type": "display_data"
    },
    {
     "data": {
      "text/html": [
       "<div><span style='background-color: rgb(255,245,240)'>ه</span><span style='background-color: rgb(255,245,240)'>م</span><span style='background-color: rgb(255,245,240)'>ی</span><span style='background-color: rgb(255,245,240)'> </span><span style='background-color: rgb(255,245,240)'>ت</span><span style='background-color: rgb(254,243,238)'>ا</span><span style='background-color: rgb(254,240,233)'>خ</span><span style='background-color: rgb(253,206,186)'>ت</span><span style='background-color: rgb(252,197,174)'>ن</span><span style='background-color: rgb(254,240,233)'>د</span><span style='background-color: rgb(254,237,229)'> </span><span style='background-color: rgb(254,237,228)'>ا</span><span style='background-color: rgb(254,241,235)'>ز</span><span style='background-color: rgb(254,239,232)'> </span><span style='background-color: rgb(254,241,234)'>پ</span><span style='background-color: rgb(254,244,239)'>س</span><span style='background-color: rgb(254,242,236)'> </span><span style='background-color: rgb(254,244,239)'>ا</span><span style='background-color: rgb(254,244,239)'>ر</span><span style='background-color: rgb(255,245,240)'>د</span><span style='background-color: rgb(254,242,236)'>ش</span><span style='background-color: rgb(254,243,238)'>ی</span><span style='background-color: rgb(254,243,238)'>ر</span><span>\t\t:\t\t</span><span>ـ</span></div>"
      ],
      "text/plain": [
       "<IPython.core.display.HTML object>"
      ]
     },
     "metadata": {
      "tags": []
     },
     "output_type": "display_data"
    },
    {
     "data": {
      "text/html": [
       "<div><span style='background-color: rgb(254,244,239)'>ه</span><span style='background-color: rgb(254,242,236)'>م</span><span style='background-color: rgb(254,241,234)'>ی</span><span style='background-color: rgb(254,242,236)'> </span><span style='background-color: rgb(254,241,234)'>ت</span><span style='background-color: rgb(254,244,239)'>ا</span><span style='background-color: rgb(255,245,240)'>خ</span><span style='background-color: rgb(255,245,240)'>ت</span><span style='background-color: rgb(254,244,239)'>ن</span><span style='background-color: rgb(254,244,239)'>د</span><span style='background-color: rgb(254,244,239)'> </span><span style='background-color: rgb(254,244,239)'>ا</span><span style='background-color: rgb(254,241,235)'>ز</span><span style='background-color: rgb(254,243,238)'> </span><span style='background-color: rgb(254,244,239)'>پ</span><span style='background-color: rgb(254,244,239)'>س</span><span style='background-color: rgb(254,244,239)'> </span><span style='background-color: rgb(254,241,235)'>ا</span><span style='background-color: rgb(254,241,234)'>ر</span><span style='background-color: rgb(254,238,230)'>د</span><span style='background-color: rgb(254,243,238)'>ش</span><span style='background-color: rgb(254,242,236)'>ی</span><span style='background-color: rgb(255,245,240)'>ر</span><span>\t\t:\t\t</span><span>د</span></div>"
      ],
      "text/plain": [
       "<IPython.core.display.HTML object>"
      ]
     },
     "metadata": {
      "tags": []
     },
     "output_type": "display_data"
    },
    {
     "data": {
      "text/html": [
       "<div><span style='background-color: rgb(254,231,221)'>ه</span><span style='background-color: rgb(253,223,209)'>م</span><span style='background-color: rgb(254,231,220)'>ی</span><span style='background-color: rgb(254,243,237)'> </span><span style='background-color: rgb(254,242,236)'>ت</span><span style='background-color: rgb(254,244,239)'>ا</span><span style='background-color: rgb(254,243,238)'>خ</span><span style='background-color: rgb(254,243,237)'>ت</span><span style='background-color: rgb(254,242,236)'>ن</span><span style='background-color: rgb(254,244,239)'>د</span><span style='background-color: rgb(254,244,239)'> </span><span style='background-color: rgb(254,244,239)'>ا</span><span style='background-color: rgb(255,245,240)'>ز</span><span style='background-color: rgb(255,245,240)'> </span><span style='background-color: rgb(254,244,239)'>پ</span><span style='background-color: rgb(254,243,237)'>س</span><span style='background-color: rgb(254,235,226)'> </span><span style='background-color: rgb(254,235,226)'>ا</span><span style='background-color: rgb(254,243,237)'>ر</span><span style='background-color: rgb(254,243,238)'>د</span><span style='background-color: rgb(254,244,239)'>ش</span><span style='background-color: rgb(254,240,233)'>ی</span><span style='background-color: rgb(255,245,240)'>ر</span><span>\t\t:\t\t</span><span>ر</span></div>"
      ],
      "text/plain": [
       "<IPython.core.display.HTML object>"
      ]
     },
     "metadata": {
      "tags": []
     },
     "output_type": "display_data"
    },
    {
     "data": {
      "text/html": [
       "<div><span style='background-color: rgb(254,244,239)'>ه</span><span style='background-color: rgb(254,244,239)'>م</span><span style='background-color: rgb(255,245,240)'>ی</span><span style='background-color: rgb(254,243,238)'> </span><span style='background-color: rgb(254,239,232)'>ت</span><span style='background-color: rgb(254,243,237)'>ا</span><span style='background-color: rgb(254,241,235)'>خ</span><span style='background-color: rgb(254,239,231)'>ت</span><span style='background-color: rgb(254,237,229)'>ن</span><span style='background-color: rgb(254,242,236)'>د</span><span style='background-color: rgb(254,241,234)'> </span><span style='background-color: rgb(254,241,234)'>ا</span><span style='background-color: rgb(254,239,232)'>ز</span><span style='background-color: rgb(254,241,235)'> </span><span style='background-color: rgb(254,242,236)'>پ</span><span style='background-color: rgb(254,243,238)'>س</span><span style='background-color: rgb(254,241,234)'> </span><span style='background-color: rgb(254,241,234)'>ا</span><span style='background-color: rgb(254,243,238)'>ر</span><span style='background-color: rgb(254,242,236)'>د</span><span style='background-color: rgb(254,244,239)'>ش</span><span style='background-color: rgb(254,243,238)'>ی</span><span style='background-color: rgb(255,245,240)'>ر</span><span>\t\t:\t\t</span><span>ی</span></div>"
      ],
      "text/plain": [
       "<IPython.core.display.HTML object>"
      ]
     },
     "metadata": {
      "tags": []
     },
     "output_type": "display_data"
    },
    {
     "data": {
      "text/html": [
       "<div><span style='background-color: rgb(254,244,239)'>ه</span><span style='background-color: rgb(254,240,233)'>م</span><span style='background-color: rgb(254,242,236)'>ی</span><span style='background-color: rgb(254,242,236)'> </span><span style='background-color: rgb(254,238,230)'>ت</span><span style='background-color: rgb(254,244,239)'>ا</span><span style='background-color: rgb(254,244,239)'>خ</span><span style='background-color: rgb(254,244,239)'>ت</span><span style='background-color: rgb(254,244,239)'>ن</span><span style='background-color: rgb(254,244,239)'>د</span><span style='background-color: rgb(255,245,240)'> </span><span style='background-color: rgb(254,244,239)'>ا</span><span style='background-color: rgb(254,243,238)'>ز</span><span style='background-color: rgb(254,244,239)'> </span><span style='background-color: rgb(255,245,240)'>پ</span><span style='background-color: rgb(255,245,240)'>س</span><span style='background-color: rgb(254,244,239)'> </span><span style='background-color: rgb(254,244,239)'>ا</span><span style='background-color: rgb(255,245,240)'>ر</span><span style='background-color: rgb(254,244,239)'>د</span><span style='background-color: rgb(255,245,240)'>ش</span><span style='background-color: rgb(255,245,240)'>ی</span><span style='background-color: rgb(254,243,237)'>ر</span><span>\t\t:\t\t</span><span>ا</span></div>"
      ],
      "text/plain": [
       "<IPython.core.display.HTML object>"
      ]
     },
     "metadata": {
      "tags": []
     },
     "output_type": "display_data"
    },
    {
     "data": {
      "text/html": [
       "<div><span style='background-color: rgb(254,239,232)'>ه</span><span style='background-color: rgb(254,242,236)'>م</span><span style='background-color: rgb(254,244,239)'>ی</span><span style='background-color: rgb(254,243,238)'> </span><span style='background-color: rgb(254,239,232)'>ت</span><span style='background-color: rgb(254,242,236)'>ا</span><span style='background-color: rgb(254,243,237)'>خ</span><span style='background-color: rgb(254,239,232)'>ت</span><span style='background-color: rgb(254,233,224)'>ن</span><span style='background-color: rgb(254,243,237)'>د</span><span style='background-color: rgb(254,241,235)'> </span><span style='background-color: rgb(254,243,238)'>ا</span><span style='background-color: rgb(254,241,234)'>ز</span><span style='background-color: rgb(254,242,236)'> </span><span style='background-color: rgb(254,243,238)'>پ</span><span style='background-color: rgb(255,245,240)'>س</span><span style='background-color: rgb(254,243,238)'> </span><span style='background-color: rgb(254,244,239)'>ا</span><span style='background-color: rgb(254,243,238)'>ر</span><span style='background-color: rgb(254,244,239)'>د</span><span style='background-color: rgb(254,242,236)'>ش</span><span style='background-color: rgb(254,241,235)'>ی</span><span style='background-color: rgb(254,238,230)'>ر</span><span>\t\t:\t\t</span><span>ه</span></div>"
      ],
      "text/plain": [
       "<IPython.core.display.HTML object>"
      ]
     },
     "metadata": {
      "tags": []
     },
     "output_type": "display_data"
    },
    {
     "data": {
      "text/html": [
       "<div><span style='background-color: rgb(254,244,239)'>ه</span><span style='background-color: rgb(255,245,240)'>م</span><span style='background-color: rgb(255,245,240)'>ی</span><span style='background-color: rgb(255,245,240)'> </span><span style='background-color: rgb(255,245,240)'>ت</span><span style='background-color: rgb(255,245,240)'>ا</span><span style='background-color: rgb(254,241,235)'>خ</span><span style='background-color: rgb(254,233,223)'>ت</span><span style='background-color: rgb(254,237,228)'>ن</span><span style='background-color: rgb(254,242,236)'>د</span><span style='background-color: rgb(254,243,237)'> </span><span style='background-color: rgb(254,243,238)'>ا</span><span style='background-color: rgb(254,243,237)'>ز</span><span style='background-color: rgb(254,241,235)'> </span><span style='background-color: rgb(254,243,237)'>پ</span><span style='background-color: rgb(254,243,237)'>س</span><span style='background-color: rgb(254,243,238)'> </span><span style='background-color: rgb(254,244,239)'>ا</span><span style='background-color: rgb(254,244,239)'>ر</span><span style='background-color: rgb(254,242,236)'>د</span><span style='background-color: rgb(253,222,208)'>ش</span><span style='background-color: rgb(254,236,227)'>ی</span><span style='background-color: rgb(254,227,214)'>ر</span><span>\t\t:\t\t</span><span>ـ</span></div>"
      ],
      "text/plain": [
       "<IPython.core.display.HTML object>"
      ]
     },
     "metadata": {
      "tags": []
     },
     "output_type": "display_data"
    },
    {
     "data": {
      "text/html": [
       "<div><span style='background-color: rgb(255,245,240)'>ه</span><span style='background-color: rgb(254,243,238)'>م</span><span style='background-color: rgb(254,243,238)'>ی</span><span style='background-color: rgb(254,244,239)'> </span><span style='background-color: rgb(254,235,226)'>ت</span><span style='background-color: rgb(255,245,240)'>ا</span><span style='background-color: rgb(255,245,240)'>خ</span><span style='background-color: rgb(255,245,240)'>ت</span><span style='background-color: rgb(255,245,240)'>ن</span><span style='background-color: rgb(255,245,240)'>د</span><span style='background-color: rgb(255,245,240)'> </span><span style='background-color: rgb(255,245,240)'>ا</span><span style='background-color: rgb(255,245,240)'>ز</span><span style='background-color: rgb(255,245,240)'> </span><span style='background-color: rgb(255,245,240)'>پ</span><span style='background-color: rgb(255,245,240)'>س</span><span style='background-color: rgb(255,245,240)'> </span><span style='background-color: rgb(255,245,240)'>ا</span><span style='background-color: rgb(255,245,240)'>ر</span><span style='background-color: rgb(254,231,220)'>د</span><span style='background-color: rgb(254,235,226)'>ش</span><span style='background-color: rgb(252,189,163)'>ی</span><span style='background-color: rgb(254,240,233)'>ر</span><span>\t\t:\t\t</span><span>پ</span></div>"
      ],
      "text/plain": [
       "<IPython.core.display.HTML object>"
      ]
     },
     "metadata": {
      "tags": []
     },
     "output_type": "display_data"
    },
    {
     "data": {
      "text/html": [
       "<div><span style='background-color: rgb(254,243,237)'>ه</span><span style='background-color: rgb(254,242,236)'>م</span><span style='background-color: rgb(254,244,239)'>ی</span><span style='background-color: rgb(255,245,240)'> </span><span style='background-color: rgb(254,242,236)'>ت</span><span style='background-color: rgb(254,244,239)'>ا</span><span style='background-color: rgb(254,244,239)'>خ</span><span style='background-color: rgb(254,243,238)'>ت</span><span style='background-color: rgb(254,243,237)'>ن</span><span style='background-color: rgb(255,245,240)'>د</span><span style='background-color: rgb(255,245,240)'> </span><span style='background-color: rgb(255,245,240)'>ا</span><span style='background-color: rgb(254,244,239)'>ز</span><span style='background-color: rgb(255,245,240)'> </span><span style='background-color: rgb(255,245,240)'>پ</span><span style='background-color: rgb(255,245,240)'>س</span><span style='background-color: rgb(254,244,239)'> </span><span style='background-color: rgb(254,243,238)'>ا</span><span style='background-color: rgb(255,245,240)'>ر</span><span style='background-color: rgb(254,243,237)'>د</span><span style='background-color: rgb(253,213,195)'>ش</span><span style='background-color: rgb(251,110,78)'>ی</span><span style='background-color: rgb(254,237,229)'>ر</span><span>\t\t:\t\t</span><span>ی</span></div>"
      ],
      "text/plain": [
       "<IPython.core.display.HTML object>"
      ]
     },
     "metadata": {
      "tags": []
     },
     "output_type": "display_data"
    },
    {
     "data": {
      "text/html": [
       "<div><span style='background-color: rgb(255,245,240)'>ه</span><span style='background-color: rgb(255,245,240)'>م</span><span style='background-color: rgb(255,245,240)'>ی</span><span style='background-color: rgb(255,245,240)'> </span><span style='background-color: rgb(255,245,240)'>ت</span><span style='background-color: rgb(255,245,240)'>ا</span><span style='background-color: rgb(255,245,240)'>خ</span><span style='background-color: rgb(255,245,240)'>ت</span><span style='background-color: rgb(255,245,240)'>ن</span><span style='background-color: rgb(255,245,240)'>د</span><span style='background-color: rgb(255,245,240)'> </span><span style='background-color: rgb(255,245,240)'>ا</span><span style='background-color: rgb(255,245,240)'>ز</span><span style='background-color: rgb(255,245,240)'> </span><span style='background-color: rgb(255,245,240)'>پ</span><span style='background-color: rgb(254,244,239)'>س</span><span style='background-color: rgb(254,243,238)'> </span><span style='background-color: rgb(254,244,239)'>ا</span><span style='background-color: rgb(254,244,239)'>ر</span><span style='background-color: rgb(254,244,239)'>د</span><span style='background-color: rgb(254,240,233)'>ش</span><span style='background-color: rgb(254,240,233)'>ی</span><span style='background-color: rgb(161,14,20)'>ر</span><span>\t\t:\t\t</span><span>ر</span></div>"
      ],
      "text/plain": [
       "<IPython.core.display.HTML object>"
      ]
     },
     "metadata": {
      "tags": []
     },
     "output_type": "display_data"
    },
    {
     "name": "stdout",
     "output_type": "stream",
     "text": [
      "Test input:\n",
      "به بخشش چو ابری بود دربار  ****  بود پیش او گنج دینار خوار\n",
      "Seq2Seq output:\n",
      "بپرسیدش از ایزگ و شوزگار\n",
      "Seq2Seq with attention output:\n",
      "به با ن به گفتار با باز و بار\n",
      "Weights of attention:\n"
     ]
    },
    {
     "data": {
      "text/html": [
       "<div><span style='background-color: rgb(254,244,239)'>ب</span><span style='background-color: rgb(254,244,239)'>ه</span><span style='background-color: rgb(254,243,237)'> </span><span style='background-color: rgb(254,243,238)'>ب</span><span style='background-color: rgb(254,244,239)'>خ</span><span style='background-color: rgb(254,242,236)'>ش</span><span style='background-color: rgb(254,241,235)'>ش</span><span style='background-color: rgb(255,245,240)'> </span><span style='background-color: rgb(255,245,240)'>چ</span><span style='background-color: rgb(255,245,240)'>و</span><span style='background-color: rgb(254,243,238)'> </span><span style='background-color: rgb(254,243,237)'>ا</span><span style='background-color: rgb(254,243,237)'>ب</span><span style='background-color: rgb(254,244,239)'>ر</span><span style='background-color: rgb(254,243,238)'>ی</span><span style='background-color: rgb(255,245,240)'> </span><span style='background-color: rgb(255,245,240)'>ب</span><span style='background-color: rgb(255,245,240)'>و</span><span style='background-color: rgb(255,245,240)'>د</span><span style='background-color: rgb(255,245,240)'> </span><span style='background-color: rgb(255,245,240)'>د</span><span style='background-color: rgb(255,245,240)'>ر</span><span style='background-color: rgb(254,244,239)'>ب</span><span style='background-color: rgb(255,245,240)'>ا</span><span style='background-color: rgb(254,244,239)'>ر</span><span>\t\t:\t\t</span><span>ب</span></div>"
      ],
      "text/plain": [
       "<IPython.core.display.HTML object>"
      ]
     },
     "metadata": {
      "tags": []
     },
     "output_type": "display_data"
    },
    {
     "data": {
      "text/html": [
       "<div><span style='background-color: rgb(254,243,237)'>ب</span><span style='background-color: rgb(254,235,225)'>ه</span><span style='background-color: rgb(254,239,232)'> </span><span style='background-color: rgb(254,241,234)'>ب</span><span style='background-color: rgb(254,243,237)'>خ</span><span style='background-color: rgb(254,242,236)'>ش</span><span style='background-color: rgb(254,242,236)'>ش</span><span style='background-color: rgb(254,243,238)'> </span><span style='background-color: rgb(254,240,233)'>چ</span><span style='background-color: rgb(254,242,236)'>و</span><span style='background-color: rgb(254,241,234)'> </span><span style='background-color: rgb(254,240,233)'>ا</span><span style='background-color: rgb(254,243,237)'>ب</span><span style='background-color: rgb(254,241,234)'>ر</span><span style='background-color: rgb(254,242,236)'>ی</span><span style='background-color: rgb(254,243,238)'> </span><span style='background-color: rgb(254,244,239)'>ب</span><span style='background-color: rgb(254,244,239)'>و</span><span style='background-color: rgb(254,243,238)'>د</span><span style='background-color: rgb(254,243,237)'> </span><span style='background-color: rgb(254,243,238)'>د</span><span style='background-color: rgb(254,244,239)'>ر</span><span style='background-color: rgb(255,245,240)'>ب</span><span style='background-color: rgb(255,245,240)'>ا</span><span style='background-color: rgb(255,245,240)'>ر</span><span>\t\t:\t\t</span><span>ه</span></div>"
      ],
      "text/plain": [
       "<IPython.core.display.HTML object>"
      ]
     },
     "metadata": {
      "tags": []
     },
     "output_type": "display_data"
    },
    {
     "data": {
      "text/html": [
       "<div><span style='background-color: rgb(254,243,238)'>ب</span><span style='background-color: rgb(254,243,237)'>ه</span><span style='background-color: rgb(254,241,234)'> </span><span style='background-color: rgb(254,238,230)'>ب</span><span style='background-color: rgb(254,241,234)'>خ</span><span style='background-color: rgb(254,241,235)'>ش</span><span style='background-color: rgb(254,235,226)'>ش</span><span style='background-color: rgb(254,235,226)'> </span><span style='background-color: rgb(254,226,213)'>چ</span><span style='background-color: rgb(253,216,200)'>و</span><span style='background-color: rgb(254,232,222)'> </span><span style='background-color: rgb(254,239,231)'>ا</span><span style='background-color: rgb(254,240,233)'>ب</span><span style='background-color: rgb(254,237,229)'>ر</span><span style='background-color: rgb(254,243,238)'>ی</span><span style='background-color: rgb(254,244,239)'> </span><span style='background-color: rgb(254,239,231)'>ب</span><span style='background-color: rgb(254,243,237)'>و</span><span style='background-color: rgb(254,242,236)'>د</span><span style='background-color: rgb(254,235,226)'> </span><span style='background-color: rgb(254,244,239)'>د</span><span style='background-color: rgb(254,243,238)'>ر</span><span style='background-color: rgb(255,245,240)'>ب</span><span style='background-color: rgb(254,244,239)'>ا</span><span style='background-color: rgb(255,245,240)'>ر</span><span>\t\t:\t\t</span><span>ـ</span></div>"
      ],
      "text/plain": [
       "<IPython.core.display.HTML object>"
      ]
     },
     "metadata": {
      "tags": []
     },
     "output_type": "display_data"
    },
    {
     "data": {
      "text/html": [
       "<div><span style='background-color: rgb(254,243,238)'>ب</span><span style='background-color: rgb(254,242,236)'>ه</span><span style='background-color: rgb(254,243,238)'> </span><span style='background-color: rgb(254,244,239)'>ب</span><span style='background-color: rgb(254,244,239)'>خ</span><span style='background-color: rgb(254,241,235)'>ش</span><span style='background-color: rgb(254,242,236)'>ش</span><span style='background-color: rgb(254,243,237)'> </span><span style='background-color: rgb(254,243,238)'>چ</span><span style='background-color: rgb(254,243,238)'>و</span><span style='background-color: rgb(254,239,231)'> </span><span style='background-color: rgb(254,239,231)'>ا</span><span style='background-color: rgb(254,241,234)'>ب</span><span style='background-color: rgb(254,241,234)'>ر</span><span style='background-color: rgb(254,241,234)'>ی</span><span style='background-color: rgb(254,243,237)'> </span><span style='background-color: rgb(254,243,238)'>ب</span><span style='background-color: rgb(255,245,240)'>و</span><span style='background-color: rgb(254,243,238)'>د</span><span style='background-color: rgb(254,243,237)'> </span><span style='background-color: rgb(254,241,235)'>د</span><span style='background-color: rgb(255,245,240)'>ر</span><span style='background-color: rgb(255,245,240)'>ب</span><span style='background-color: rgb(255,245,240)'>ا</span><span style='background-color: rgb(255,245,240)'>ر</span><span>\t\t:\t\t</span><span>ب</span></div>"
      ],
      "text/plain": [
       "<IPython.core.display.HTML object>"
      ]
     },
     "metadata": {
      "tags": []
     },
     "output_type": "display_data"
    },
    {
     "data": {
      "text/html": [
       "<div><span style='background-color: rgb(254,235,226)'>ب</span><span style='background-color: rgb(254,235,225)'>ه</span><span style='background-color: rgb(254,240,233)'> </span><span style='background-color: rgb(254,241,234)'>ب</span><span style='background-color: rgb(254,241,234)'>خ</span><span style='background-color: rgb(254,243,238)'>ش</span><span style='background-color: rgb(254,243,237)'>ش</span><span style='background-color: rgb(254,244,239)'> </span><span style='background-color: rgb(254,243,237)'>چ</span><span style='background-color: rgb(254,242,236)'>و</span><span style='background-color: rgb(254,238,230)'> </span><span style='background-color: rgb(254,241,234)'>ا</span><span style='background-color: rgb(254,239,231)'>ب</span><span style='background-color: rgb(254,239,232)'>ر</span><span style='background-color: rgb(254,241,235)'>ی</span><span style='background-color: rgb(254,243,238)'> </span><span style='background-color: rgb(254,243,238)'>ب</span><span style='background-color: rgb(254,243,238)'>و</span><span style='background-color: rgb(254,244,239)'>د</span><span style='background-color: rgb(254,243,237)'> </span><span style='background-color: rgb(255,245,240)'>د</span><span style='background-color: rgb(255,245,240)'>ر</span><span style='background-color: rgb(254,244,239)'>ب</span><span style='background-color: rgb(255,245,240)'>ا</span><span style='background-color: rgb(255,245,240)'>ر</span><span>\t\t:\t\t</span><span>ا</span></div>"
      ],
      "text/plain": [
       "<IPython.core.display.HTML object>"
      ]
     },
     "metadata": {
      "tags": []
     },
     "output_type": "display_data"
    },
    {
     "data": {
      "text/html": [
       "<div><span style='background-color: rgb(254,241,235)'>ب</span><span style='background-color: rgb(254,240,233)'>ه</span><span style='background-color: rgb(254,243,238)'> </span><span style='background-color: rgb(254,243,237)'>ب</span><span style='background-color: rgb(254,241,235)'>خ</span><span style='background-color: rgb(254,238,230)'>ش</span><span style='background-color: rgb(254,241,234)'>ش</span><span style='background-color: rgb(254,242,236)'> </span><span style='background-color: rgb(254,241,234)'>چ</span><span style='background-color: rgb(254,235,225)'>و</span><span style='background-color: rgb(254,234,224)'> </span><span style='background-color: rgb(254,237,228)'>ا</span><span style='background-color: rgb(254,232,222)'>ب</span><span style='background-color: rgb(254,233,224)'>ر</span><span style='background-color: rgb(254,243,237)'>ی</span><span style='background-color: rgb(254,243,237)'> </span><span style='background-color: rgb(254,241,234)'>ب</span><span style='background-color: rgb(254,241,235)'>و</span><span style='background-color: rgb(254,239,232)'>د</span><span style='background-color: rgb(254,237,228)'> </span><span style='background-color: rgb(254,243,237)'>د</span><span style='background-color: rgb(255,245,240)'>ر</span><span style='background-color: rgb(254,244,239)'>ب</span><span style='background-color: rgb(255,245,240)'>ا</span><span style='background-color: rgb(254,243,238)'>ر</span><span>\t\t:\t\t</span><span>ـ</span></div>"
      ],
      "text/plain": [
       "<IPython.core.display.HTML object>"
      ]
     },
     "metadata": {
      "tags": []
     },
     "output_type": "display_data"
    },
    {
     "data": {
      "text/html": [
       "<div><span style='background-color: rgb(254,242,236)'>ب</span><span style='background-color: rgb(254,243,237)'>ه</span><span style='background-color: rgb(254,242,236)'> </span><span style='background-color: rgb(254,243,238)'>ب</span><span style='background-color: rgb(254,243,238)'>خ</span><span style='background-color: rgb(254,241,235)'>ش</span><span style='background-color: rgb(254,237,228)'>ش</span><span style='background-color: rgb(254,243,238)'> </span><span style='background-color: rgb(254,242,236)'>چ</span><span style='background-color: rgb(254,243,237)'>و</span><span style='background-color: rgb(254,241,235)'> </span><span style='background-color: rgb(254,239,232)'>ا</span><span style='background-color: rgb(254,238,230)'>ب</span><span style='background-color: rgb(254,241,234)'>ر</span><span style='background-color: rgb(254,241,235)'>ی</span><span style='background-color: rgb(254,242,236)'> </span><span style='background-color: rgb(254,243,237)'>ب</span><span style='background-color: rgb(254,244,239)'>و</span><span style='background-color: rgb(254,243,238)'>د</span><span style='background-color: rgb(254,239,232)'> </span><span style='background-color: rgb(254,238,230)'>د</span><span style='background-color: rgb(254,243,237)'>ر</span><span style='background-color: rgb(255,245,240)'>ب</span><span style='background-color: rgb(255,245,240)'>ا</span><span style='background-color: rgb(255,245,240)'>ر</span><span>\t\t:\t\t</span><span>ن</span></div>"
      ],
      "text/plain": [
       "<IPython.core.display.HTML object>"
      ]
     },
     "metadata": {
      "tags": []
     },
     "output_type": "display_data"
    },
    {
     "data": {
      "text/html": [
       "<div><span style='background-color: rgb(254,239,232)'>ب</span><span style='background-color: rgb(254,239,232)'>ه</span><span style='background-color: rgb(254,242,236)'> </span><span style='background-color: rgb(254,243,237)'>ب</span><span style='background-color: rgb(254,241,235)'>خ</span><span style='background-color: rgb(254,243,238)'>ش</span><span style='background-color: rgb(254,243,238)'>ش</span><span style='background-color: rgb(254,243,238)'> </span><span style='background-color: rgb(254,240,233)'>چ</span><span style='background-color: rgb(254,239,231)'>و</span><span style='background-color: rgb(254,237,228)'> </span><span style='background-color: rgb(254,238,230)'>ا</span><span style='background-color: rgb(254,228,216)'>ب</span><span style='background-color: rgb(254,231,221)'>ر</span><span style='background-color: rgb(254,238,230)'>ی</span><span style='background-color: rgb(254,241,235)'> </span><span style='background-color: rgb(254,241,235)'>ب</span><span style='background-color: rgb(254,240,233)'>و</span><span style='background-color: rgb(254,241,234)'>د</span><span style='background-color: rgb(254,242,236)'> </span><span style='background-color: rgb(254,242,236)'>د</span><span style='background-color: rgb(254,244,239)'>ر</span><span style='background-color: rgb(254,243,238)'>ب</span><span style='background-color: rgb(254,244,239)'>ا</span><span style='background-color: rgb(255,245,240)'>ر</span><span>\t\t:\t\t</span><span>ـ</span></div>"
      ],
      "text/plain": [
       "<IPython.core.display.HTML object>"
      ]
     },
     "metadata": {
      "tags": []
     },
     "output_type": "display_data"
    },
    {
     "data": {
      "text/html": [
       "<div><span style='background-color: rgb(254,243,238)'>ب</span><span style='background-color: rgb(254,242,236)'>ه</span><span style='background-color: rgb(254,241,234)'> </span><span style='background-color: rgb(254,243,238)'>ب</span><span style='background-color: rgb(254,244,239)'>خ</span><span style='background-color: rgb(254,243,237)'>ش</span><span style='background-color: rgb(254,242,236)'>ش</span><span style='background-color: rgb(254,244,239)'> </span><span style='background-color: rgb(254,242,236)'>چ</span><span style='background-color: rgb(254,243,238)'>و</span><span style='background-color: rgb(254,241,234)'> </span><span style='background-color: rgb(254,241,234)'>ا</span><span style='background-color: rgb(254,236,227)'>ب</span><span style='background-color: rgb(254,242,236)'>ر</span><span style='background-color: rgb(254,242,236)'>ی</span><span style='background-color: rgb(254,243,238)'> </span><span style='background-color: rgb(254,244,239)'>ب</span><span style='background-color: rgb(255,245,240)'>و</span><span style='background-color: rgb(255,245,240)'>د</span><span style='background-color: rgb(254,243,237)'> </span><span style='background-color: rgb(254,243,237)'>د</span><span style='background-color: rgb(254,243,238)'>ر</span><span style='background-color: rgb(254,244,239)'>ب</span><span style='background-color: rgb(255,245,240)'>ا</span><span style='background-color: rgb(254,243,238)'>ر</span><span>\t\t:\t\t</span><span>ب</span></div>"
      ],
      "text/plain": [
       "<IPython.core.display.HTML object>"
      ]
     },
     "metadata": {
      "tags": []
     },
     "output_type": "display_data"
    },
    {
     "data": {
      "text/html": [
       "<div><span style='background-color: rgb(254,242,236)'>ب</span><span style='background-color: rgb(254,235,225)'>ه</span><span style='background-color: rgb(254,240,233)'> </span><span style='background-color: rgb(254,241,235)'>ب</span><span style='background-color: rgb(254,243,237)'>خ</span><span style='background-color: rgb(254,243,238)'>ش</span><span style='background-color: rgb(254,243,238)'>ش</span><span style='background-color: rgb(254,243,238)'> </span><span style='background-color: rgb(254,242,236)'>چ</span><span style='background-color: rgb(254,242,236)'>و</span><span style='background-color: rgb(254,242,236)'> </span><span style='background-color: rgb(254,243,238)'>ا</span><span style='background-color: rgb(254,243,238)'>ب</span><span style='background-color: rgb(254,241,235)'>ر</span><span style='background-color: rgb(254,243,237)'>ی</span><span style='background-color: rgb(254,244,239)'> </span><span style='background-color: rgb(254,244,239)'>ب</span><span style='background-color: rgb(254,244,239)'>و</span><span style='background-color: rgb(255,245,240)'>د</span><span style='background-color: rgb(254,243,238)'> </span><span style='background-color: rgb(254,244,239)'>د</span><span style='background-color: rgb(254,244,239)'>ر</span><span style='background-color: rgb(254,244,239)'>ب</span><span style='background-color: rgb(254,243,238)'>ا</span><span style='background-color: rgb(255,245,240)'>ر</span><span>\t\t:\t\t</span><span>ه</span></div>"
      ],
      "text/plain": [
       "<IPython.core.display.HTML object>"
      ]
     },
     "metadata": {
      "tags": []
     },
     "output_type": "display_data"
    },
    {
     "data": {
      "text/html": [
       "<div><span style='background-color: rgb(254,242,236)'>ب</span><span style='background-color: rgb(254,241,235)'>ه</span><span style='background-color: rgb(254,239,232)'> </span><span style='background-color: rgb(254,232,222)'>ب</span><span style='background-color: rgb(254,240,233)'>خ</span><span style='background-color: rgb(254,243,238)'>ش</span><span style='background-color: rgb(254,238,230)'>ش</span><span style='background-color: rgb(254,233,224)'> </span><span style='background-color: rgb(254,230,219)'>چ</span><span style='background-color: rgb(253,211,192)'>و</span><span style='background-color: rgb(254,231,220)'> </span><span style='background-color: rgb(254,241,235)'>ا</span><span style='background-color: rgb(254,240,233)'>ب</span><span style='background-color: rgb(254,241,234)'>ر</span><span style='background-color: rgb(254,243,237)'>ی</span><span style='background-color: rgb(254,243,238)'> </span><span style='background-color: rgb(254,241,234)'>ب</span><span style='background-color: rgb(254,243,237)'>و</span><span style='background-color: rgb(254,243,237)'>د</span><span style='background-color: rgb(254,241,234)'> </span><span style='background-color: rgb(254,244,239)'>د</span><span style='background-color: rgb(254,244,239)'>ر</span><span style='background-color: rgb(255,245,240)'>ب</span><span style='background-color: rgb(255,245,240)'>ا</span><span style='background-color: rgb(255,245,240)'>ر</span><span>\t\t:\t\t</span><span>ـ</span></div>"
      ],
      "text/plain": [
       "<IPython.core.display.HTML object>"
      ]
     },
     "metadata": {
      "tags": []
     },
     "output_type": "display_data"
    },
    {
     "data": {
      "text/html": [
       "<div><span style='background-color: rgb(254,243,237)'>ب</span><span style='background-color: rgb(254,241,235)'>ه</span><span style='background-color: rgb(254,244,239)'> </span><span style='background-color: rgb(254,244,239)'>ب</span><span style='background-color: rgb(254,244,239)'>خ</span><span style='background-color: rgb(254,241,235)'>ش</span><span style='background-color: rgb(254,243,237)'>ش</span><span style='background-color: rgb(254,244,239)'> </span><span style='background-color: rgb(254,244,239)'>چ</span><span style='background-color: rgb(254,244,239)'>و</span><span style='background-color: rgb(254,241,235)'> </span><span style='background-color: rgb(254,240,233)'>ا</span><span style='background-color: rgb(254,242,236)'>ب</span><span style='background-color: rgb(254,242,236)'>ر</span><span style='background-color: rgb(254,243,237)'>ی</span><span style='background-color: rgb(254,243,237)'> </span><span style='background-color: rgb(254,244,239)'>ب</span><span style='background-color: rgb(255,245,240)'>و</span><span style='background-color: rgb(254,244,239)'>د</span><span style='background-color: rgb(254,243,237)'> </span><span style='background-color: rgb(254,243,237)'>د</span><span style='background-color: rgb(255,245,240)'>ر</span><span style='background-color: rgb(255,245,240)'>ب</span><span style='background-color: rgb(255,245,240)'>ا</span><span style='background-color: rgb(255,245,240)'>ر</span><span>\t\t:\t\t</span><span>گ</span></div>"
      ],
      "text/plain": [
       "<IPython.core.display.HTML object>"
      ]
     },
     "metadata": {
      "tags": []
     },
     "output_type": "display_data"
    },
    {
     "data": {
      "text/html": [
       "<div><span style='background-color: rgb(254,228,216)'>ب</span><span style='background-color: rgb(254,238,230)'>ه</span><span style='background-color: rgb(254,237,229)'> </span><span style='background-color: rgb(254,237,229)'>ب</span><span style='background-color: rgb(253,215,199)'>خ</span><span style='background-color: rgb(254,226,213)'>ش</span><span style='background-color: rgb(254,231,221)'>ش</span><span style='background-color: rgb(254,239,232)'> </span><span style='background-color: rgb(254,243,238)'>چ</span><span style='background-color: rgb(254,244,239)'>و</span><span style='background-color: rgb(254,243,238)'> </span><span style='background-color: rgb(254,243,237)'>ا</span><span style='background-color: rgb(254,243,238)'>ب</span><span style='background-color: rgb(254,244,239)'>ر</span><span style='background-color: rgb(254,244,239)'>ی</span><span style='background-color: rgb(255,245,240)'> </span><span style='background-color: rgb(255,245,240)'>ب</span><span style='background-color: rgb(255,245,240)'>و</span><span style='background-color: rgb(255,245,240)'>د</span><span style='background-color: rgb(254,243,238)'> </span><span style='background-color: rgb(255,245,240)'>د</span><span style='background-color: rgb(254,243,238)'>ر</span><span style='background-color: rgb(254,244,239)'>ب</span><span style='background-color: rgb(254,244,239)'>ا</span><span style='background-color: rgb(255,245,240)'>ر</span><span>\t\t:\t\t</span><span>ف</span></div>"
      ],
      "text/plain": [
       "<IPython.core.display.HTML object>"
      ]
     },
     "metadata": {
      "tags": []
     },
     "output_type": "display_data"
    },
    {
     "data": {
      "text/html": [
       "<div><span style='background-color: rgb(254,244,239)'>ب</span><span style='background-color: rgb(254,244,239)'>ه</span><span style='background-color: rgb(254,243,238)'> </span><span style='background-color: rgb(254,243,238)'>ب</span><span style='background-color: rgb(254,244,239)'>خ</span><span style='background-color: rgb(254,244,239)'>ش</span><span style='background-color: rgb(255,245,240)'>ش</span><span style='background-color: rgb(255,245,240)'> </span><span style='background-color: rgb(254,244,239)'>چ</span><span style='background-color: rgb(254,241,234)'>و</span><span style='background-color: rgb(254,242,236)'> </span><span style='background-color: rgb(254,242,236)'>ا</span><span style='background-color: rgb(254,241,234)'>ب</span><span style='background-color: rgb(254,238,230)'>ر</span><span style='background-color: rgb(254,242,236)'>ی</span><span style='background-color: rgb(254,244,239)'> </span><span style='background-color: rgb(254,243,238)'>ب</span><span style='background-color: rgb(254,243,238)'>و</span><span style='background-color: rgb(254,240,233)'>د</span><span style='background-color: rgb(254,239,231)'> </span><span style='background-color: rgb(254,242,236)'>د</span><span style='background-color: rgb(255,245,240)'>ر</span><span style='background-color: rgb(255,245,240)'>ب</span><span style='background-color: rgb(255,245,240)'>ا</span><span style='background-color: rgb(255,245,240)'>ر</span><span>\t\t:\t\t</span><span>ت</span></div>"
      ],
      "text/plain": [
       "<IPython.core.display.HTML object>"
      ]
     },
     "metadata": {
      "tags": []
     },
     "output_type": "display_data"
    },
    {
     "data": {
      "text/html": [
       "<div><span style='background-color: rgb(254,231,221)'>ب</span><span style='background-color: rgb(254,237,228)'>ه</span><span style='background-color: rgb(254,244,239)'> </span><span style='background-color: rgb(254,243,237)'>ب</span><span style='background-color: rgb(254,243,238)'>خ</span><span style='background-color: rgb(254,241,235)'>ش</span><span style='background-color: rgb(254,236,227)'>ش</span><span style='background-color: rgb(254,241,235)'> </span><span style='background-color: rgb(254,241,235)'>چ</span><span style='background-color: rgb(254,234,224)'>و</span><span style='background-color: rgb(254,237,229)'> </span><span style='background-color: rgb(254,241,234)'>ا</span><span style='background-color: rgb(254,243,238)'>ب</span><span style='background-color: rgb(254,243,238)'>ر</span><span style='background-color: rgb(254,241,235)'>ی</span><span style='background-color: rgb(254,242,236)'> </span><span style='background-color: rgb(254,241,235)'>ب</span><span style='background-color: rgb(254,240,233)'>و</span><span style='background-color: rgb(254,243,237)'>د</span><span style='background-color: rgb(254,243,237)'> </span><span style='background-color: rgb(255,245,240)'>د</span><span style='background-color: rgb(255,245,240)'>ر</span><span style='background-color: rgb(255,245,240)'>ب</span><span style='background-color: rgb(255,245,240)'>ا</span><span style='background-color: rgb(255,245,240)'>ر</span><span>\t\t:\t\t</span><span>ا</span></div>"
      ],
      "text/plain": [
       "<IPython.core.display.HTML object>"
      ]
     },
     "metadata": {
      "tags": []
     },
     "output_type": "display_data"
    },
    {
     "data": {
      "text/html": [
       "<div><span style='background-color: rgb(254,238,230)'>ب</span><span style='background-color: rgb(254,236,227)'>ه</span><span style='background-color: rgb(253,209,191)'> </span><span style='background-color: rgb(254,231,221)'>ب</span><span style='background-color: rgb(254,243,238)'>خ</span><span style='background-color: rgb(254,240,233)'>ش</span><span style='background-color: rgb(254,232,222)'>ش</span><span style='background-color: rgb(254,241,234)'> </span><span style='background-color: rgb(254,239,231)'>چ</span><span style='background-color: rgb(254,243,237)'>و</span><span style='background-color: rgb(254,241,235)'> </span><span style='background-color: rgb(254,239,232)'>ا</span><span style='background-color: rgb(254,242,236)'>ب</span><span style='background-color: rgb(254,243,238)'>ر</span><span style='background-color: rgb(254,243,237)'>ی</span><span style='background-color: rgb(255,245,240)'> </span><span style='background-color: rgb(255,245,240)'>ب</span><span style='background-color: rgb(255,245,240)'>و</span><span style='background-color: rgb(255,245,240)'>د</span><span style='background-color: rgb(254,243,238)'> </span><span style='background-color: rgb(255,245,240)'>د</span><span style='background-color: rgb(255,245,240)'>ر</span><span style='background-color: rgb(255,245,240)'>ب</span><span style='background-color: rgb(255,245,240)'>ا</span><span style='background-color: rgb(255,245,240)'>ر</span><span>\t\t:\t\t</span><span>ر</span></div>"
      ],
      "text/plain": [
       "<IPython.core.display.HTML object>"
      ]
     },
     "metadata": {
      "tags": []
     },
     "output_type": "display_data"
    },
    {
     "data": {
      "text/html": [
       "<div><span style='background-color: rgb(254,241,235)'>ب</span><span style='background-color: rgb(254,237,228)'>ه</span><span style='background-color: rgb(254,244,239)'> </span><span style='background-color: rgb(255,245,240)'>ب</span><span style='background-color: rgb(255,245,240)'>خ</span><span style='background-color: rgb(255,245,240)'>ش</span><span style='background-color: rgb(255,245,240)'>ش</span><span style='background-color: rgb(255,245,240)'> </span><span style='background-color: rgb(254,241,234)'>چ</span><span style='background-color: rgb(251,141,109)'>و</span><span style='background-color: rgb(253,216,200)'> </span><span style='background-color: rgb(254,243,237)'>ا</span><span style='background-color: rgb(254,240,233)'>ب</span><span style='background-color: rgb(254,243,237)'>ر</span><span style='background-color: rgb(254,244,239)'>ی</span><span style='background-color: rgb(254,243,238)'> </span><span style='background-color: rgb(254,241,234)'>ب</span><span style='background-color: rgb(254,242,236)'>و</span><span style='background-color: rgb(254,240,233)'>د</span><span style='background-color: rgb(254,239,232)'> </span><span style='background-color: rgb(254,243,237)'>د</span><span style='background-color: rgb(254,243,238)'>ر</span><span style='background-color: rgb(254,243,237)'>ب</span><span style='background-color: rgb(255,245,240)'>ا</span><span style='background-color: rgb(255,245,240)'>ر</span><span>\t\t:\t\t</span><span>ـ</span></div>"
      ],
      "text/plain": [
       "<IPython.core.display.HTML object>"
      ]
     },
     "metadata": {
      "tags": []
     },
     "output_type": "display_data"
    },
    {
     "data": {
      "text/html": [
       "<div><span style='background-color: rgb(254,243,237)'>ب</span><span style='background-color: rgb(254,243,237)'>ه</span><span style='background-color: rgb(254,244,239)'> </span><span style='background-color: rgb(254,243,238)'>ب</span><span style='background-color: rgb(254,243,238)'>خ</span><span style='background-color: rgb(254,243,237)'>ش</span><span style='background-color: rgb(254,241,235)'>ش</span><span style='background-color: rgb(255,245,240)'> </span><span style='background-color: rgb(255,245,240)'>چ</span><span style='background-color: rgb(255,245,240)'>و</span><span style='background-color: rgb(254,244,239)'> </span><span style='background-color: rgb(254,243,238)'>ا</span><span style='background-color: rgb(254,244,239)'>ب</span><span style='background-color: rgb(254,244,239)'>ر</span><span style='background-color: rgb(254,243,238)'>ی</span><span style='background-color: rgb(254,244,239)'> </span><span style='background-color: rgb(255,245,240)'>ب</span><span style='background-color: rgb(255,245,240)'>و</span><span style='background-color: rgb(254,244,239)'>د</span><span style='background-color: rgb(254,244,239)'> </span><span style='background-color: rgb(254,240,233)'>د</span><span style='background-color: rgb(255,245,240)'>ر</span><span style='background-color: rgb(254,244,239)'>ب</span><span style='background-color: rgb(254,244,239)'>ا</span><span style='background-color: rgb(255,245,240)'>ر</span><span>\t\t:\t\t</span><span>ب</span></div>"
      ],
      "text/plain": [
       "<IPython.core.display.HTML object>"
      ]
     },
     "metadata": {
      "tags": []
     },
     "output_type": "display_data"
    },
    {
     "data": {
      "text/html": [
       "<div><span style='background-color: rgb(254,229,217)'>ب</span><span style='background-color: rgb(254,231,221)'>ه</span><span style='background-color: rgb(254,241,234)'> </span><span style='background-color: rgb(254,243,237)'>ب</span><span style='background-color: rgb(254,243,237)'>خ</span><span style='background-color: rgb(254,243,238)'>ش</span><span style='background-color: rgb(254,243,238)'>ش</span><span style='background-color: rgb(255,245,240)'> </span><span style='background-color: rgb(254,244,239)'>چ</span><span style='background-color: rgb(254,242,236)'>و</span><span style='background-color: rgb(254,240,233)'> </span><span style='background-color: rgb(254,243,238)'>ا</span><span style='background-color: rgb(254,242,236)'>ب</span><span style='background-color: rgb(254,241,234)'>ر</span><span style='background-color: rgb(254,243,237)'>ی</span><span style='background-color: rgb(254,243,238)'> </span><span style='background-color: rgb(254,244,239)'>ب</span><span style='background-color: rgb(254,241,234)'>و</span><span style='background-color: rgb(254,243,237)'>د</span><span style='background-color: rgb(254,237,229)'> </span><span style='background-color: rgb(254,240,233)'>د</span><span style='background-color: rgb(255,245,240)'>ر</span><span style='background-color: rgb(255,245,240)'>ب</span><span style='background-color: rgb(254,244,239)'>ا</span><span style='background-color: rgb(255,245,240)'>ر</span><span>\t\t:\t\t</span><span>ا</span></div>"
      ],
      "text/plain": [
       "<IPython.core.display.HTML object>"
      ]
     },
     "metadata": {
      "tags": []
     },
     "output_type": "display_data"
    },
    {
     "data": {
      "text/html": [
       "<div><span style='background-color: rgb(254,242,236)'>ب</span><span style='background-color: rgb(254,241,234)'>ه</span><span style='background-color: rgb(254,243,237)'> </span><span style='background-color: rgb(254,239,232)'>ب</span><span style='background-color: rgb(254,241,235)'>خ</span><span style='background-color: rgb(254,241,234)'>ش</span><span style='background-color: rgb(254,240,233)'>ش</span><span style='background-color: rgb(254,241,234)'> </span><span style='background-color: rgb(254,241,235)'>چ</span><span style='background-color: rgb(254,231,220)'>و</span><span style='background-color: rgb(254,233,224)'> </span><span style='background-color: rgb(254,239,231)'>ا</span><span style='background-color: rgb(254,236,227)'>ب</span><span style='background-color: rgb(254,236,227)'>ر</span><span style='background-color: rgb(254,239,231)'>ی</span><span style='background-color: rgb(254,242,236)'> </span><span style='background-color: rgb(254,241,234)'>ب</span><span style='background-color: rgb(254,241,235)'>و</span><span style='background-color: rgb(254,235,225)'>د</span><span style='background-color: rgb(254,239,231)'> </span><span style='background-color: rgb(254,241,235)'>د</span><span style='background-color: rgb(255,245,240)'>ر</span><span style='background-color: rgb(254,244,239)'>ب</span><span style='background-color: rgb(255,245,240)'>ا</span><span style='background-color: rgb(254,243,238)'>ر</span><span>\t\t:\t\t</span><span>ـ</span></div>"
      ],
      "text/plain": [
       "<IPython.core.display.HTML object>"
      ]
     },
     "metadata": {
      "tags": []
     },
     "output_type": "display_data"
    },
    {
     "data": {
      "text/html": [
       "<div><span style='background-color: rgb(254,244,239)'>ب</span><span style='background-color: rgb(254,243,238)'>ه</span><span style='background-color: rgb(254,243,237)'> </span><span style='background-color: rgb(254,243,238)'>ب</span><span style='background-color: rgb(254,243,237)'>خ</span><span style='background-color: rgb(254,241,235)'>ش</span><span style='background-color: rgb(254,239,231)'>ش</span><span style='background-color: rgb(254,244,239)'> </span><span style='background-color: rgb(254,244,239)'>چ</span><span style='background-color: rgb(255,245,240)'>و</span><span style='background-color: rgb(254,244,239)'> </span><span style='background-color: rgb(254,243,238)'>ا</span><span style='background-color: rgb(254,243,238)'>ب</span><span style='background-color: rgb(254,243,238)'>ر</span><span style='background-color: rgb(254,243,238)'>ی</span><span style='background-color: rgb(254,243,238)'> </span><span style='background-color: rgb(254,244,239)'>ب</span><span style='background-color: rgb(255,245,240)'>و</span><span style='background-color: rgb(254,243,238)'>د</span><span style='background-color: rgb(254,242,236)'> </span><span style='background-color: rgb(254,241,235)'>د</span><span style='background-color: rgb(255,245,240)'>ر</span><span style='background-color: rgb(255,245,240)'>ب</span><span style='background-color: rgb(255,245,240)'>ا</span><span style='background-color: rgb(255,245,240)'>ر</span><span>\t\t:\t\t</span><span>ب</span></div>"
      ],
      "text/plain": [
       "<IPython.core.display.HTML object>"
      ]
     },
     "metadata": {
      "tags": []
     },
     "output_type": "display_data"
    },
    {
     "data": {
      "text/html": [
       "<div><span style='background-color: rgb(254,237,228)'>ب</span><span style='background-color: rgb(254,241,234)'>ه</span><span style='background-color: rgb(254,242,236)'> </span><span style='background-color: rgb(254,242,236)'>ب</span><span style='background-color: rgb(254,243,237)'>خ</span><span style='background-color: rgb(254,242,236)'>ش</span><span style='background-color: rgb(254,243,237)'>ش</span><span style='background-color: rgb(254,244,239)'> </span><span style='background-color: rgb(254,243,237)'>چ</span><span style='background-color: rgb(254,241,235)'>و</span><span style='background-color: rgb(254,239,231)'> </span><span style='background-color: rgb(254,242,236)'>ا</span><span style='background-color: rgb(254,241,234)'>ب</span><span style='background-color: rgb(254,239,231)'>ر</span><span style='background-color: rgb(254,241,234)'>ی</span><span style='background-color: rgb(254,243,238)'> </span><span style='background-color: rgb(254,243,238)'>ب</span><span style='background-color: rgb(254,242,236)'>و</span><span style='background-color: rgb(254,243,238)'>د</span><span style='background-color: rgb(254,241,235)'> </span><span style='background-color: rgb(254,242,236)'>د</span><span style='background-color: rgb(254,243,237)'>ر</span><span style='background-color: rgb(254,244,239)'>ب</span><span style='background-color: rgb(254,242,236)'>ا</span><span style='background-color: rgb(255,245,240)'>ر</span><span>\t\t:\t\t</span><span>ا</span></div>"
      ],
      "text/plain": [
       "<IPython.core.display.HTML object>"
      ]
     },
     "metadata": {
      "tags": []
     },
     "output_type": "display_data"
    },
    {
     "data": {
      "text/html": [
       "<div><span style='background-color: rgb(254,243,237)'>ب</span><span style='background-color: rgb(254,240,233)'>ه</span><span style='background-color: rgb(254,241,234)'> </span><span style='background-color: rgb(254,241,235)'>ب</span><span style='background-color: rgb(254,240,233)'>خ</span><span style='background-color: rgb(254,241,235)'>ش</span><span style='background-color: rgb(254,240,233)'>ش</span><span style='background-color: rgb(254,242,236)'> </span><span style='background-color: rgb(254,243,237)'>چ</span><span style='background-color: rgb(254,241,234)'>و</span><span style='background-color: rgb(254,241,235)'> </span><span style='background-color: rgb(254,239,231)'>ا</span><span style='background-color: rgb(254,234,224)'>ب</span><span style='background-color: rgb(254,237,228)'>ر</span><span style='background-color: rgb(254,237,229)'>ی</span><span style='background-color: rgb(254,234,224)'> </span><span style='background-color: rgb(254,242,236)'>ب</span><span style='background-color: rgb(254,243,238)'>و</span><span style='background-color: rgb(254,242,236)'>د</span><span style='background-color: rgb(254,243,237)'> </span><span style='background-color: rgb(254,243,237)'>د</span><span style='background-color: rgb(255,245,240)'>ر</span><span style='background-color: rgb(254,243,237)'>ب</span><span style='background-color: rgb(254,243,238)'>ا</span><span style='background-color: rgb(254,236,227)'>ر</span><span>\t\t:\t\t</span><span>ز</span></div>"
      ],
      "text/plain": [
       "<IPython.core.display.HTML object>"
      ]
     },
     "metadata": {
      "tags": []
     },
     "output_type": "display_data"
    },
    {
     "data": {
      "text/html": [
       "<div><span style='background-color: rgb(254,243,237)'>ب</span><span style='background-color: rgb(254,241,235)'>ه</span><span style='background-color: rgb(255,245,240)'> </span><span style='background-color: rgb(255,245,240)'>ب</span><span style='background-color: rgb(255,245,240)'>خ</span><span style='background-color: rgb(255,245,240)'>ش</span><span style='background-color: rgb(254,243,238)'>ش</span><span style='background-color: rgb(254,243,238)'> </span><span style='background-color: rgb(254,243,238)'>چ</span><span style='background-color: rgb(254,239,231)'>و</span><span style='background-color: rgb(254,231,220)'> </span><span style='background-color: rgb(254,235,225)'>ا</span><span style='background-color: rgb(254,231,220)'>ب</span><span style='background-color: rgb(254,242,236)'>ر</span><span style='background-color: rgb(254,243,238)'>ی</span><span style='background-color: rgb(254,243,238)'> </span><span style='background-color: rgb(254,244,239)'>ب</span><span style='background-color: rgb(254,244,239)'>و</span><span style='background-color: rgb(254,243,237)'>د</span><span style='background-color: rgb(254,243,238)'> </span><span style='background-color: rgb(254,243,238)'>د</span><span style='background-color: rgb(254,243,238)'>ر</span><span style='background-color: rgb(254,237,228)'>ب</span><span style='background-color: rgb(254,239,231)'>ا</span><span style='background-color: rgb(254,238,230)'>ر</span><span>\t\t:\t\t</span><span>ـ</span></div>"
      ],
      "text/plain": [
       "<IPython.core.display.HTML object>"
      ]
     },
     "metadata": {
      "tags": []
     },
     "output_type": "display_data"
    },
    {
     "data": {
      "text/html": [
       "<div><span style='background-color: rgb(254,244,239)'>ب</span><span style='background-color: rgb(255,245,240)'>ه</span><span style='background-color: rgb(254,244,239)'> </span><span style='background-color: rgb(254,238,230)'>ب</span><span style='background-color: rgb(254,238,230)'>خ</span><span style='background-color: rgb(254,241,234)'>ش</span><span style='background-color: rgb(254,239,231)'>ش</span><span style='background-color: rgb(255,245,240)'> </span><span style='background-color: rgb(255,245,240)'>چ</span><span style='background-color: rgb(255,245,240)'>و</span><span style='background-color: rgb(254,244,239)'> </span><span style='background-color: rgb(254,244,239)'>ا</span><span style='background-color: rgb(254,244,239)'>ب</span><span style='background-color: rgb(254,244,239)'>ر</span><span style='background-color: rgb(255,245,240)'>ی</span><span style='background-color: rgb(255,245,240)'> </span><span style='background-color: rgb(255,245,240)'>ب</span><span style='background-color: rgb(255,245,240)'>و</span><span style='background-color: rgb(255,245,240)'>د</span><span style='background-color: rgb(255,245,240)'> </span><span style='background-color: rgb(254,242,236)'>د</span><span style='background-color: rgb(254,244,239)'>ر</span><span style='background-color: rgb(254,239,232)'>ب</span><span style='background-color: rgb(254,226,213)'>ا</span><span style='background-color: rgb(254,239,232)'>ر</span><span>\t\t:\t\t</span><span>و</span></div>"
      ],
      "text/plain": [
       "<IPython.core.display.HTML object>"
      ]
     },
     "metadata": {
      "tags": []
     },
     "output_type": "display_data"
    },
    {
     "data": {
      "text/html": [
       "<div><span style='background-color: rgb(254,244,239)'>ب</span><span style='background-color: rgb(254,244,239)'>ه</span><span style='background-color: rgb(255,245,240)'> </span><span style='background-color: rgb(255,245,240)'>ب</span><span style='background-color: rgb(255,245,240)'>خ</span><span style='background-color: rgb(255,245,240)'>ش</span><span style='background-color: rgb(255,245,240)'>ش</span><span style='background-color: rgb(254,244,239)'> </span><span style='background-color: rgb(254,243,237)'>چ</span><span style='background-color: rgb(254,226,213)'>و</span><span style='background-color: rgb(254,229,217)'> </span><span style='background-color: rgb(254,236,227)'>ا</span><span style='background-color: rgb(254,235,226)'>ب</span><span style='background-color: rgb(254,239,232)'>ر</span><span style='background-color: rgb(254,244,239)'>ی</span><span style='background-color: rgb(255,245,240)'> </span><span style='background-color: rgb(254,243,238)'>ب</span><span style='background-color: rgb(254,243,238)'>و</span><span style='background-color: rgb(254,243,237)'>د</span><span style='background-color: rgb(254,241,234)'> </span><span style='background-color: rgb(254,243,237)'>د</span><span style='background-color: rgb(254,244,239)'>ر</span><span style='background-color: rgb(254,240,233)'>ب</span><span style='background-color: rgb(252,204,183)'>ا</span><span style='background-color: rgb(254,231,220)'>ر</span><span>\t\t:\t\t</span><span>ـ</span></div>"
      ],
      "text/plain": [
       "<IPython.core.display.HTML object>"
      ]
     },
     "metadata": {
      "tags": []
     },
     "output_type": "display_data"
    },
    {
     "data": {
      "text/html": [
       "<div><span style='background-color: rgb(254,243,237)'>ب</span><span style='background-color: rgb(254,242,236)'>ه</span><span style='background-color: rgb(254,243,238)'> </span><span style='background-color: rgb(254,243,237)'>ب</span><span style='background-color: rgb(254,242,236)'>خ</span><span style='background-color: rgb(254,242,236)'>ش</span><span style='background-color: rgb(254,240,233)'>ش</span><span style='background-color: rgb(255,245,240)'> </span><span style='background-color: rgb(255,245,240)'>چ</span><span style='background-color: rgb(255,245,240)'>و</span><span style='background-color: rgb(254,244,239)'> </span><span style='background-color: rgb(254,244,239)'>ا</span><span style='background-color: rgb(254,244,239)'>ب</span><span style='background-color: rgb(254,244,239)'>ر</span><span style='background-color: rgb(254,244,239)'>ی</span><span style='background-color: rgb(255,245,240)'> </span><span style='background-color: rgb(255,245,240)'>ب</span><span style='background-color: rgb(255,245,240)'>و</span><span style='background-color: rgb(255,245,240)'>د</span><span style='background-color: rgb(255,245,240)'> </span><span style='background-color: rgb(254,239,232)'>د</span><span style='background-color: rgb(254,243,238)'>ر</span><span style='background-color: rgb(254,241,235)'>ب</span><span style='background-color: rgb(254,241,235)'>ا</span><span style='background-color: rgb(254,242,236)'>ر</span><span>\t\t:\t\t</span><span>ب</span></div>"
      ],
      "text/plain": [
       "<IPython.core.display.HTML object>"
      ]
     },
     "metadata": {
      "tags": []
     },
     "output_type": "display_data"
    },
    {
     "data": {
      "text/html": [
       "<div><span style='background-color: rgb(255,245,240)'>ب</span><span style='background-color: rgb(254,243,238)'>ه</span><span style='background-color: rgb(255,245,240)'> </span><span style='background-color: rgb(255,245,240)'>ب</span><span style='background-color: rgb(255,245,240)'>خ</span><span style='background-color: rgb(255,245,240)'>ش</span><span style='background-color: rgb(254,244,239)'>ش</span><span style='background-color: rgb(255,245,240)'> </span><span style='background-color: rgb(255,245,240)'>چ</span><span style='background-color: rgb(255,245,240)'>و</span><span style='background-color: rgb(255,245,240)'> </span><span style='background-color: rgb(255,245,240)'>ا</span><span style='background-color: rgb(255,245,240)'>ب</span><span style='background-color: rgb(255,245,240)'>ر</span><span style='background-color: rgb(255,245,240)'>ی</span><span style='background-color: rgb(255,245,240)'> </span><span style='background-color: rgb(255,245,240)'>ب</span><span style='background-color: rgb(255,245,240)'>و</span><span style='background-color: rgb(255,245,240)'>د</span><span style='background-color: rgb(255,245,240)'> </span><span style='background-color: rgb(255,245,240)'>د</span><span style='background-color: rgb(254,244,239)'>ر</span><span style='background-color: rgb(254,240,233)'>ب</span><span style='background-color: rgb(223,44,37)'>ا</span><span style='background-color: rgb(254,229,218)'>ر</span><span>\t\t:\t\t</span><span>ا</span></div>"
      ],
      "text/plain": [
       "<IPython.core.display.HTML object>"
      ]
     },
     "metadata": {
      "tags": []
     },
     "output_type": "display_data"
    },
    {
     "data": {
      "text/html": [
       "<div><span style='background-color: rgb(255,245,240)'>ب</span><span style='background-color: rgb(255,245,240)'>ه</span><span style='background-color: rgb(255,245,240)'> </span><span style='background-color: rgb(255,245,240)'>ب</span><span style='background-color: rgb(255,245,240)'>خ</span><span style='background-color: rgb(255,245,240)'>ش</span><span style='background-color: rgb(255,245,240)'>ش</span><span style='background-color: rgb(255,245,240)'> </span><span style='background-color: rgb(255,245,240)'>چ</span><span style='background-color: rgb(255,245,240)'>و</span><span style='background-color: rgb(255,245,240)'> </span><span style='background-color: rgb(255,245,240)'>ا</span><span style='background-color: rgb(255,245,240)'>ب</span><span style='background-color: rgb(255,245,240)'>ر</span><span style='background-color: rgb(255,245,240)'>ی</span><span style='background-color: rgb(255,245,240)'> </span><span style='background-color: rgb(255,245,240)'>ب</span><span style='background-color: rgb(255,245,240)'>و</span><span style='background-color: rgb(255,245,240)'>د</span><span style='background-color: rgb(255,245,240)'> </span><span style='background-color: rgb(255,245,240)'>د</span><span style='background-color: rgb(255,245,240)'>ر</span><span style='background-color: rgb(255,245,240)'>ب</span><span style='background-color: rgb(254,244,239)'>ا</span><span style='background-color: rgb(122,4,15)'>ر</span><span>\t\t:\t\t</span><span>ر</span></div>"
      ],
      "text/plain": [
       "<IPython.core.display.HTML object>"
      ]
     },
     "metadata": {
      "tags": []
     },
     "output_type": "display_data"
    },
    {
     "name": "stdout",
     "output_type": "stream",
     "text": [
      "Test input:\n",
      "یکی تاج با گوهر شاهوار  ****  یکی طوق زرین زبرجد نگار\n",
      "Seq2Seq output:\n",
      "بیاورد با گردش روزگار\n",
      "Seq2Seq with attention output:\n",
      "به با د به کردار دریای کار\n",
      "Weights of attention:\n"
     ]
    },
    {
     "data": {
      "text/html": [
       "<div><span style='background-color: rgb(254,243,238)'>ی</span><span style='background-color: rgb(254,243,237)'>ک</span><span style='background-color: rgb(254,244,239)'>ی</span><span style='background-color: rgb(254,241,234)'> </span><span style='background-color: rgb(254,243,237)'>ت</span><span style='background-color: rgb(255,245,240)'>ا</span><span style='background-color: rgb(255,245,240)'>ج</span><span style='background-color: rgb(255,245,240)'> </span><span style='background-color: rgb(254,241,235)'>ب</span><span style='background-color: rgb(254,243,238)'>ا</span><span style='background-color: rgb(255,245,240)'> </span><span style='background-color: rgb(254,243,238)'>گ</span><span style='background-color: rgb(255,245,240)'>و</span><span style='background-color: rgb(255,245,240)'>ه</span><span style='background-color: rgb(255,245,240)'>ر</span><span style='background-color: rgb(255,245,240)'> </span><span style='background-color: rgb(255,245,240)'>ش</span><span style='background-color: rgb(255,245,240)'>ا</span><span style='background-color: rgb(254,244,239)'>ه</span><span style='background-color: rgb(254,244,239)'>و</span><span style='background-color: rgb(254,244,239)'>ا</span><span style='background-color: rgb(255,245,240)'>ر</span><span>\t\t:\t\t</span><span>ب</span></div>"
      ],
      "text/plain": [
       "<IPython.core.display.HTML object>"
      ]
     },
     "metadata": {
      "tags": []
     },
     "output_type": "display_data"
    },
    {
     "data": {
      "text/html": [
       "<div><span style='background-color: rgb(254,241,234)'>ی</span><span style='background-color: rgb(254,243,237)'>ک</span><span style='background-color: rgb(254,242,236)'>ی</span><span style='background-color: rgb(254,243,238)'> </span><span style='background-color: rgb(254,243,237)'>ت</span><span style='background-color: rgb(254,243,237)'>ا</span><span style='background-color: rgb(254,243,238)'>ج</span><span style='background-color: rgb(254,242,236)'> </span><span style='background-color: rgb(254,241,234)'>ب</span><span style='background-color: rgb(254,243,237)'>ا</span><span style='background-color: rgb(254,242,236)'> </span><span style='background-color: rgb(254,240,233)'>گ</span><span style='background-color: rgb(254,243,237)'>و</span><span style='background-color: rgb(254,243,238)'>ه</span><span style='background-color: rgb(254,244,239)'>ر</span><span style='background-color: rgb(254,243,238)'> </span><span style='background-color: rgb(254,241,235)'>ش</span><span style='background-color: rgb(254,242,236)'>ا</span><span style='background-color: rgb(254,244,239)'>ه</span><span style='background-color: rgb(254,244,239)'>و</span><span style='background-color: rgb(255,245,240)'>ا</span><span style='background-color: rgb(255,245,240)'>ر</span><span>\t\t:\t\t</span><span>ه</span></div>"
      ],
      "text/plain": [
       "<IPython.core.display.HTML object>"
      ]
     },
     "metadata": {
      "tags": []
     },
     "output_type": "display_data"
    },
    {
     "data": {
      "text/html": [
       "<div><span style='background-color: rgb(254,239,232)'>ی</span><span style='background-color: rgb(254,241,235)'>ک</span><span style='background-color: rgb(254,243,238)'>ی</span><span style='background-color: rgb(254,241,235)'> </span><span style='background-color: rgb(254,237,228)'>ت</span><span style='background-color: rgb(253,206,186)'>ا</span><span style='background-color: rgb(254,227,215)'>ج</span><span style='background-color: rgb(254,233,224)'> </span><span style='background-color: rgb(254,239,232)'>ب</span><span style='background-color: rgb(254,239,231)'>ا</span><span style='background-color: rgb(254,239,231)'> </span><span style='background-color: rgb(254,243,238)'>گ</span><span style='background-color: rgb(254,244,239)'>و</span><span style='background-color: rgb(254,243,237)'>ه</span><span style='background-color: rgb(254,236,227)'>ر</span><span style='background-color: rgb(254,240,233)'> </span><span style='background-color: rgb(254,239,231)'>ش</span><span style='background-color: rgb(254,241,234)'>ا</span><span style='background-color: rgb(254,244,239)'>ه</span><span style='background-color: rgb(254,244,239)'>و</span><span style='background-color: rgb(255,245,240)'>ا</span><span style='background-color: rgb(254,244,239)'>ر</span><span>\t\t:\t\t</span><span>ـ</span></div>"
      ],
      "text/plain": [
       "<IPython.core.display.HTML object>"
      ]
     },
     "metadata": {
      "tags": []
     },
     "output_type": "display_data"
    },
    {
     "data": {
      "text/html": [
       "<div><span style='background-color: rgb(254,244,239)'>ی</span><span style='background-color: rgb(254,243,238)'>ک</span><span style='background-color: rgb(254,243,238)'>ی</span><span style='background-color: rgb(254,241,235)'> </span><span style='background-color: rgb(254,239,231)'>ت</span><span style='background-color: rgb(254,243,237)'>ا</span><span style='background-color: rgb(254,244,239)'>ج</span><span style='background-color: rgb(254,243,237)'> </span><span style='background-color: rgb(254,237,229)'>ب</span><span style='background-color: rgb(254,241,235)'>ا</span><span style='background-color: rgb(254,243,237)'> </span><span style='background-color: rgb(254,234,224)'>گ</span><span style='background-color: rgb(254,242,236)'>و</span><span style='background-color: rgb(254,243,238)'>ه</span><span style='background-color: rgb(254,244,239)'>ر</span><span style='background-color: rgb(254,243,238)'> </span><span style='background-color: rgb(254,240,233)'>ش</span><span style='background-color: rgb(254,243,237)'>ا</span><span style='background-color: rgb(255,245,240)'>ه</span><span style='background-color: rgb(255,245,240)'>و</span><span style='background-color: rgb(255,245,240)'>ا</span><span style='background-color: rgb(255,245,240)'>ر</span><span>\t\t:\t\t</span><span>ب</span></div>"
      ],
      "text/plain": [
       "<IPython.core.display.HTML object>"
      ]
     },
     "metadata": {
      "tags": []
     },
     "output_type": "display_data"
    },
    {
     "data": {
      "text/html": [
       "<div><span style='background-color: rgb(254,238,230)'>ی</span><span style='background-color: rgb(254,241,235)'>ک</span><span style='background-color: rgb(254,244,239)'>ی</span><span style='background-color: rgb(254,243,238)'> </span><span style='background-color: rgb(254,244,239)'>ت</span><span style='background-color: rgb(254,243,238)'>ا</span><span style='background-color: rgb(254,241,235)'>ج</span><span style='background-color: rgb(254,240,233)'> </span><span style='background-color: rgb(254,240,233)'>ب</span><span style='background-color: rgb(254,241,234)'>ا</span><span style='background-color: rgb(254,239,232)'> </span><span style='background-color: rgb(254,240,233)'>گ</span><span style='background-color: rgb(254,242,236)'>و</span><span style='background-color: rgb(254,243,238)'>ه</span><span style='background-color: rgb(254,243,238)'>ر</span><span style='background-color: rgb(254,243,238)'> </span><span style='background-color: rgb(254,244,239)'>ش</span><span style='background-color: rgb(254,243,238)'>ا</span><span style='background-color: rgb(254,244,239)'>ه</span><span style='background-color: rgb(254,244,239)'>و</span><span style='background-color: rgb(255,245,240)'>ا</span><span style='background-color: rgb(255,245,240)'>ر</span><span>\t\t:\t\t</span><span>ا</span></div>"
      ],
      "text/plain": [
       "<IPython.core.display.HTML object>"
      ]
     },
     "metadata": {
      "tags": []
     },
     "output_type": "display_data"
    },
    {
     "data": {
      "text/html": [
       "<div><span style='background-color: rgb(254,243,237)'>ی</span><span style='background-color: rgb(254,241,235)'>ک</span><span style='background-color: rgb(254,238,230)'>ی</span><span style='background-color: rgb(254,243,237)'> </span><span style='background-color: rgb(254,241,235)'>ت</span><span style='background-color: rgb(254,241,235)'>ا</span><span style='background-color: rgb(254,239,231)'>ج</span><span style='background-color: rgb(254,237,229)'> </span><span style='background-color: rgb(254,235,226)'>ب</span><span style='background-color: rgb(254,235,225)'>ا</span><span style='background-color: rgb(254,234,224)'> </span><span style='background-color: rgb(254,241,235)'>گ</span><span style='background-color: rgb(254,243,238)'>و</span><span style='background-color: rgb(254,241,235)'>ه</span><span style='background-color: rgb(254,241,234)'>ر</span><span style='background-color: rgb(254,235,226)'> </span><span style='background-color: rgb(254,239,232)'>ش</span><span style='background-color: rgb(254,240,233)'>ا</span><span style='background-color: rgb(254,242,236)'>ه</span><span style='background-color: rgb(255,245,240)'>و</span><span style='background-color: rgb(255,245,240)'>ا</span><span style='background-color: rgb(254,243,237)'>ر</span><span>\t\t:\t\t</span><span>ـ</span></div>"
      ],
      "text/plain": [
       "<IPython.core.display.HTML object>"
      ]
     },
     "metadata": {
      "tags": []
     },
     "output_type": "display_data"
    },
    {
     "data": {
      "text/html": [
       "<div><span style='background-color: rgb(254,243,238)'>ی</span><span style='background-color: rgb(254,243,238)'>ک</span><span style='background-color: rgb(254,243,238)'>ی</span><span style='background-color: rgb(254,242,236)'> </span><span style='background-color: rgb(254,241,234)'>ت</span><span style='background-color: rgb(254,242,236)'>ا</span><span style='background-color: rgb(254,243,238)'>ج</span><span style='background-color: rgb(254,242,236)'> </span><span style='background-color: rgb(254,237,229)'>ب</span><span style='background-color: rgb(254,239,232)'>ا</span><span style='background-color: rgb(254,242,236)'> </span><span style='background-color: rgb(254,235,226)'>گ</span><span style='background-color: rgb(254,241,235)'>و</span><span style='background-color: rgb(254,243,238)'>ه</span><span style='background-color: rgb(254,243,237)'>ر</span><span style='background-color: rgb(254,239,232)'> </span><span style='background-color: rgb(254,234,224)'>ش</span><span style='background-color: rgb(254,239,232)'>ا</span><span style='background-color: rgb(254,243,237)'>ه</span><span style='background-color: rgb(254,244,239)'>و</span><span style='background-color: rgb(255,245,240)'>ا</span><span style='background-color: rgb(255,245,240)'>ر</span><span>\t\t:\t\t</span><span>د</span></div>"
      ],
      "text/plain": [
       "<IPython.core.display.HTML object>"
      ]
     },
     "metadata": {
      "tags": []
     },
     "output_type": "display_data"
    },
    {
     "data": {
      "text/html": [
       "<div><span style='background-color: rgb(254,238,230)'>ی</span><span style='background-color: rgb(254,241,234)'>ک</span><span style='background-color: rgb(254,240,233)'>ی</span><span style='background-color: rgb(254,242,236)'> </span><span style='background-color: rgb(254,239,232)'>ت</span><span style='background-color: rgb(254,239,231)'>ا</span><span style='background-color: rgb(254,237,229)'>ج</span><span style='background-color: rgb(254,226,213)'> </span><span style='background-color: rgb(254,240,233)'>ب</span><span style='background-color: rgb(254,238,230)'>ا</span><span style='background-color: rgb(254,242,236)'> </span><span style='background-color: rgb(254,243,238)'>گ</span><span style='background-color: rgb(254,244,239)'>و</span><span style='background-color: rgb(254,244,239)'>ه</span><span style='background-color: rgb(254,243,238)'>ر</span><span style='background-color: rgb(254,242,236)'> </span><span style='background-color: rgb(254,241,235)'>ش</span><span style='background-color: rgb(254,239,232)'>ا</span><span style='background-color: rgb(254,244,239)'>ه</span><span style='background-color: rgb(254,243,237)'>و</span><span style='background-color: rgb(254,242,236)'>ا</span><span style='background-color: rgb(254,243,238)'>ر</span><span>\t\t:\t\t</span><span>ـ</span></div>"
      ],
      "text/plain": [
       "<IPython.core.display.HTML object>"
      ]
     },
     "metadata": {
      "tags": []
     },
     "output_type": "display_data"
    },
    {
     "data": {
      "text/html": [
       "<div><span style='background-color: rgb(254,243,238)'>ی</span><span style='background-color: rgb(254,243,238)'>ک</span><span style='background-color: rgb(254,244,239)'>ی</span><span style='background-color: rgb(254,242,236)'> </span><span style='background-color: rgb(254,243,238)'>ت</span><span style='background-color: rgb(254,244,239)'>ا</span><span style='background-color: rgb(255,245,240)'>ج</span><span style='background-color: rgb(254,244,239)'> </span><span style='background-color: rgb(254,243,238)'>ب</span><span style='background-color: rgb(254,241,235)'>ا</span><span style='background-color: rgb(254,243,238)'> </span><span style='background-color: rgb(254,236,227)'>گ</span><span style='background-color: rgb(254,243,238)'>و</span><span style='background-color: rgb(255,245,240)'>ه</span><span style='background-color: rgb(255,245,240)'>ر</span><span style='background-color: rgb(254,243,238)'> </span><span style='background-color: rgb(254,243,237)'>ش</span><span style='background-color: rgb(254,244,239)'>ا</span><span style='background-color: rgb(254,243,238)'>ه</span><span style='background-color: rgb(254,244,239)'>و</span><span style='background-color: rgb(255,245,240)'>ا</span><span style='background-color: rgb(255,245,240)'>ر</span><span>\t\t:\t\t</span><span>ب</span></div>"
      ],
      "text/plain": [
       "<IPython.core.display.HTML object>"
      ]
     },
     "metadata": {
      "tags": []
     },
     "output_type": "display_data"
    },
    {
     "data": {
      "text/html": [
       "<div><span style='background-color: rgb(254,239,232)'>ی</span><span style='background-color: rgb(254,243,237)'>ک</span><span style='background-color: rgb(254,242,236)'>ی</span><span style='background-color: rgb(254,243,237)'> </span><span style='background-color: rgb(254,243,238)'>ت</span><span style='background-color: rgb(254,243,237)'>ا</span><span style='background-color: rgb(254,243,238)'>ج</span><span style='background-color: rgb(254,243,237)'> </span><span style='background-color: rgb(254,243,238)'>ب</span><span style='background-color: rgb(254,244,239)'>ا</span><span style='background-color: rgb(254,243,237)'> </span><span style='background-color: rgb(254,241,235)'>گ</span><span style='background-color: rgb(254,243,237)'>و</span><span style='background-color: rgb(254,244,239)'>ه</span><span style='background-color: rgb(255,245,240)'>ر</span><span style='background-color: rgb(255,245,240)'> </span><span style='background-color: rgb(254,244,239)'>ش</span><span style='background-color: rgb(254,243,238)'>ا</span><span style='background-color: rgb(254,244,239)'>ه</span><span style='background-color: rgb(254,244,239)'>و</span><span style='background-color: rgb(254,244,239)'>ا</span><span style='background-color: rgb(255,245,240)'>ر</span><span>\t\t:\t\t</span><span>ه</span></div>"
      ],
      "text/plain": [
       "<IPython.core.display.HTML object>"
      ]
     },
     "metadata": {
      "tags": []
     },
     "output_type": "display_data"
    },
    {
     "data": {
      "text/html": [
       "<div><span style='background-color: rgb(254,237,228)'>ی</span><span style='background-color: rgb(254,241,235)'>ک</span><span style='background-color: rgb(254,243,238)'>ی</span><span style='background-color: rgb(254,242,236)'> </span><span style='background-color: rgb(254,236,227)'>ت</span><span style='background-color: rgb(252,201,180)'>ا</span><span style='background-color: rgb(253,218,202)'>ج</span><span style='background-color: rgb(253,223,209)'> </span><span style='background-color: rgb(254,240,233)'>ب</span><span style='background-color: rgb(254,241,235)'>ا</span><span style='background-color: rgb(254,238,230)'> </span><span style='background-color: rgb(254,243,238)'>گ</span><span style='background-color: rgb(254,243,238)'>و</span><span style='background-color: rgb(254,243,237)'>ه</span><span style='background-color: rgb(254,241,235)'>ر</span><span style='background-color: rgb(254,243,237)'> </span><span style='background-color: rgb(254,243,237)'>ش</span><span style='background-color: rgb(254,244,239)'>ا</span><span style='background-color: rgb(254,244,239)'>ه</span><span style='background-color: rgb(255,245,240)'>و</span><span style='background-color: rgb(255,245,240)'>ا</span><span style='background-color: rgb(255,245,240)'>ر</span><span>\t\t:\t\t</span><span>ـ</span></div>"
      ],
      "text/plain": [
       "<IPython.core.display.HTML object>"
      ]
     },
     "metadata": {
      "tags": []
     },
     "output_type": "display_data"
    },
    {
     "data": {
      "text/html": [
       "<div><span style='background-color: rgb(254,244,239)'>ی</span><span style='background-color: rgb(254,243,238)'>ک</span><span style='background-color: rgb(254,243,238)'>ی</span><span style='background-color: rgb(254,243,237)'> </span><span style='background-color: rgb(254,243,238)'>ت</span><span style='background-color: rgb(254,244,239)'>ا</span><span style='background-color: rgb(255,245,240)'>ج</span><span style='background-color: rgb(254,244,239)'> </span><span style='background-color: rgb(254,240,233)'>ب</span><span style='background-color: rgb(254,243,237)'>ا</span><span style='background-color: rgb(254,244,239)'> </span><span style='background-color: rgb(254,239,231)'>گ</span><span style='background-color: rgb(254,243,238)'>و</span><span style='background-color: rgb(254,243,238)'>ه</span><span style='background-color: rgb(254,244,239)'>ر</span><span style='background-color: rgb(254,242,236)'> </span><span style='background-color: rgb(254,241,234)'>ش</span><span style='background-color: rgb(254,243,237)'>ا</span><span style='background-color: rgb(255,245,240)'>ه</span><span style='background-color: rgb(255,245,240)'>و</span><span style='background-color: rgb(255,245,240)'>ا</span><span style='background-color: rgb(255,245,240)'>ر</span><span>\t\t:\t\t</span><span>ک</span></div>"
      ],
      "text/plain": [
       "<IPython.core.display.HTML object>"
      ]
     },
     "metadata": {
      "tags": []
     },
     "output_type": "display_data"
    },
    {
     "data": {
      "text/html": [
       "<div><span style='background-color: rgb(254,229,218)'>ی</span><span style='background-color: rgb(254,239,232)'>ک</span><span style='background-color: rgb(254,239,232)'>ی</span><span style='background-color: rgb(254,241,235)'> </span><span style='background-color: rgb(254,241,235)'>ت</span><span style='background-color: rgb(254,241,234)'>ا</span><span style='background-color: rgb(254,240,233)'>ج</span><span style='background-color: rgb(254,241,234)'> </span><span style='background-color: rgb(254,243,237)'>ب</span><span style='background-color: rgb(254,243,237)'>ا</span><span style='background-color: rgb(254,244,239)'> </span><span style='background-color: rgb(254,244,239)'>گ</span><span style='background-color: rgb(255,245,240)'>و</span><span style='background-color: rgb(255,245,240)'>ه</span><span style='background-color: rgb(254,244,239)'>ر</span><span style='background-color: rgb(254,242,236)'> </span><span style='background-color: rgb(254,242,236)'>ش</span><span style='background-color: rgb(254,239,232)'>ا</span><span style='background-color: rgb(255,245,240)'>ه</span><span style='background-color: rgb(254,244,239)'>و</span><span style='background-color: rgb(254,243,238)'>ا</span><span style='background-color: rgb(255,245,240)'>ر</span><span>\t\t:\t\t</span><span>ر</span></div>"
      ],
      "text/plain": [
       "<IPython.core.display.HTML object>"
      ]
     },
     "metadata": {
      "tags": []
     },
     "output_type": "display_data"
    },
    {
     "data": {
      "text/html": [
       "<div><span style='background-color: rgb(255,245,240)'>ی</span><span style='background-color: rgb(255,245,240)'>ک</span><span style='background-color: rgb(254,244,239)'>ی</span><span style='background-color: rgb(254,244,239)'> </span><span style='background-color: rgb(255,245,240)'>ت</span><span style='background-color: rgb(254,243,237)'>ا</span><span style='background-color: rgb(254,243,238)'>ج</span><span style='background-color: rgb(254,241,235)'> </span><span style='background-color: rgb(254,240,233)'>ب</span><span style='background-color: rgb(254,240,233)'>ا</span><span style='background-color: rgb(254,235,225)'> </span><span style='background-color: rgb(252,193,169)'>گ</span><span style='background-color: rgb(254,224,210)'>و</span><span style='background-color: rgb(254,239,232)'>ه</span><span style='background-color: rgb(254,242,236)'>ر</span><span style='background-color: rgb(254,238,230)'> </span><span style='background-color: rgb(254,241,235)'>ش</span><span style='background-color: rgb(254,243,237)'>ا</span><span style='background-color: rgb(254,244,239)'>ه</span><span style='background-color: rgb(254,244,239)'>و</span><span style='background-color: rgb(255,245,240)'>ا</span><span style='background-color: rgb(255,245,240)'>ر</span><span>\t\t:\t\t</span><span>د</span></div>"
      ],
      "text/plain": [
       "<IPython.core.display.HTML object>"
      ]
     },
     "metadata": {
      "tags": []
     },
     "output_type": "display_data"
    },
    {
     "data": {
      "text/html": [
       "<div><span style='background-color: rgb(255,245,240)'>ی</span><span style='background-color: rgb(255,245,240)'>ک</span><span style='background-color: rgb(254,243,238)'>ی</span><span style='background-color: rgb(254,244,239)'> </span><span style='background-color: rgb(254,243,238)'>ت</span><span style='background-color: rgb(254,240,233)'>ا</span><span style='background-color: rgb(254,232,222)'>ج</span><span style='background-color: rgb(254,240,233)'> </span><span style='background-color: rgb(254,243,238)'>ب</span><span style='background-color: rgb(254,243,238)'>ا</span><span style='background-color: rgb(254,243,238)'> </span><span style='background-color: rgb(254,244,239)'>گ</span><span style='background-color: rgb(254,242,236)'>و</span><span style='background-color: rgb(254,241,234)'>ه</span><span style='background-color: rgb(254,242,236)'>ر</span><span style='background-color: rgb(254,242,236)'> </span><span style='background-color: rgb(254,243,238)'>ش</span><span style='background-color: rgb(254,243,238)'>ا</span><span style='background-color: rgb(255,245,240)'>ه</span><span style='background-color: rgb(254,242,236)'>و</span><span style='background-color: rgb(255,245,240)'>ا</span><span style='background-color: rgb(255,245,240)'>ر</span><span>\t\t:\t\t</span><span>ا</span></div>"
      ],
      "text/plain": [
       "<IPython.core.display.HTML object>"
      ]
     },
     "metadata": {
      "tags": []
     },
     "output_type": "display_data"
    },
    {
     "data": {
      "text/html": [
       "<div><span style='background-color: rgb(252,158,128)'>ی</span><span style='background-color: rgb(254,229,217)'>ک</span><span style='background-color: rgb(254,241,234)'>ی</span><span style='background-color: rgb(254,239,232)'> </span><span style='background-color: rgb(254,243,238)'>ت</span><span style='background-color: rgb(254,244,239)'>ا</span><span style='background-color: rgb(254,244,239)'>ج</span><span style='background-color: rgb(255,245,240)'> </span><span style='background-color: rgb(254,244,239)'>ب</span><span style='background-color: rgb(254,244,239)'>ا</span><span style='background-color: rgb(254,242,236)'> </span><span style='background-color: rgb(254,243,238)'>گ</span><span style='background-color: rgb(255,245,240)'>و</span><span style='background-color: rgb(255,245,240)'>ه</span><span style='background-color: rgb(255,245,240)'>ر</span><span style='background-color: rgb(255,245,240)'> </span><span style='background-color: rgb(254,244,239)'>ش</span><span style='background-color: rgb(255,245,240)'>ا</span><span style='background-color: rgb(254,244,239)'>ه</span><span style='background-color: rgb(255,245,240)'>و</span><span style='background-color: rgb(255,245,240)'>ا</span><span style='background-color: rgb(255,245,240)'>ر</span><span>\t\t:\t\t</span><span>ر</span></div>"
      ],
      "text/plain": [
       "<IPython.core.display.HTML object>"
      ]
     },
     "metadata": {
      "tags": []
     },
     "output_type": "display_data"
    },
    {
     "data": {
      "text/html": [
       "<div><span style='background-color: rgb(255,245,240)'>ی</span><span style='background-color: rgb(255,245,240)'>ک</span><span style='background-color: rgb(255,245,240)'>ی</span><span style='background-color: rgb(255,245,240)'> </span><span style='background-color: rgb(254,244,239)'>ت</span><span style='background-color: rgb(254,233,224)'>ا</span><span style='background-color: rgb(251,135,103)'>ج</span><span style='background-color: rgb(253,222,208)'> </span><span style='background-color: rgb(254,241,235)'>ب</span><span style='background-color: rgb(254,237,229)'>ا</span><span style='background-color: rgb(254,238,230)'> </span><span style='background-color: rgb(254,243,238)'>گ</span><span style='background-color: rgb(254,243,237)'>و</span><span style='background-color: rgb(254,242,236)'>ه</span><span style='background-color: rgb(254,243,237)'>ر</span><span style='background-color: rgb(254,243,238)'> </span><span style='background-color: rgb(254,244,239)'>ش</span><span style='background-color: rgb(254,243,238)'>ا</span><span style='background-color: rgb(254,243,237)'>ه</span><span style='background-color: rgb(254,244,239)'>و</span><span style='background-color: rgb(255,245,240)'>ا</span><span style='background-color: rgb(254,244,239)'>ر</span><span>\t\t:\t\t</span><span>ـ</span></div>"
      ],
      "text/plain": [
       "<IPython.core.display.HTML object>"
      ]
     },
     "metadata": {
      "tags": []
     },
     "output_type": "display_data"
    },
    {
     "data": {
      "text/html": [
       "<div><span style='background-color: rgb(254,242,236)'>ی</span><span style='background-color: rgb(254,241,235)'>ک</span><span style='background-color: rgb(254,242,236)'>ی</span><span style='background-color: rgb(254,241,234)'> </span><span style='background-color: rgb(254,244,239)'>ت</span><span style='background-color: rgb(255,245,240)'>ا</span><span style='background-color: rgb(255,245,240)'>ج</span><span style='background-color: rgb(255,245,240)'> </span><span style='background-color: rgb(254,243,238)'>ب</span><span style='background-color: rgb(254,243,238)'>ا</span><span style='background-color: rgb(254,243,238)'> </span><span style='background-color: rgb(254,237,229)'>گ</span><span style='background-color: rgb(254,243,237)'>و</span><span style='background-color: rgb(254,244,239)'>ه</span><span style='background-color: rgb(254,244,239)'>ر</span><span style='background-color: rgb(254,243,238)'> </span><span style='background-color: rgb(254,241,234)'>ش</span><span style='background-color: rgb(254,241,235)'>ا</span><span style='background-color: rgb(254,244,239)'>ه</span><span style='background-color: rgb(254,243,238)'>و</span><span style='background-color: rgb(254,243,238)'>ا</span><span style='background-color: rgb(255,245,240)'>ر</span><span>\t\t:\t\t</span><span>د</span></div>"
      ],
      "text/plain": [
       "<IPython.core.display.HTML object>"
      ]
     },
     "metadata": {
      "tags": []
     },
     "output_type": "display_data"
    },
    {
     "data": {
      "text/html": [
       "<div><span style='background-color: rgb(253,206,186)'>ی</span><span style='background-color: rgb(254,233,224)'>ک</span><span style='background-color: rgb(254,243,238)'>ی</span><span style='background-color: rgb(254,243,237)'> </span><span style='background-color: rgb(254,244,239)'>ت</span><span style='background-color: rgb(254,243,238)'>ا</span><span style='background-color: rgb(254,242,236)'>ج</span><span style='background-color: rgb(254,242,236)'> </span><span style='background-color: rgb(254,244,239)'>ب</span><span style='background-color: rgb(254,244,239)'>ا</span><span style='background-color: rgb(254,244,239)'> </span><span style='background-color: rgb(255,245,240)'>گ</span><span style='background-color: rgb(255,245,240)'>و</span><span style='background-color: rgb(255,245,240)'>ه</span><span style='background-color: rgb(254,243,238)'>ر</span><span style='background-color: rgb(254,242,236)'> </span><span style='background-color: rgb(254,241,234)'>ش</span><span style='background-color: rgb(254,241,235)'>ا</span><span style='background-color: rgb(254,244,239)'>ه</span><span style='background-color: rgb(254,244,239)'>و</span><span style='background-color: rgb(254,243,238)'>ا</span><span style='background-color: rgb(255,245,240)'>ر</span><span>\t\t:\t\t</span><span>ر</span></div>"
      ],
      "text/plain": [
       "<IPython.core.display.HTML object>"
      ]
     },
     "metadata": {
      "tags": []
     },
     "output_type": "display_data"
    },
    {
     "data": {
      "text/html": [
       "<div><span style='background-color: rgb(255,245,240)'>ی</span><span style='background-color: rgb(255,245,240)'>ک</span><span style='background-color: rgb(254,243,238)'>ی</span><span style='background-color: rgb(254,241,234)'> </span><span style='background-color: rgb(254,241,235)'>ت</span><span style='background-color: rgb(254,237,228)'>ا</span><span style='background-color: rgb(254,235,226)'>ج</span><span style='background-color: rgb(254,231,221)'> </span><span style='background-color: rgb(254,243,237)'>ب</span><span style='background-color: rgb(254,239,232)'>ا</span><span style='background-color: rgb(254,241,234)'> </span><span style='background-color: rgb(254,241,234)'>گ</span><span style='background-color: rgb(254,241,235)'>و</span><span style='background-color: rgb(254,243,237)'>ه</span><span style='background-color: rgb(254,242,236)'>ر</span><span style='background-color: rgb(254,239,232)'> </span><span style='background-color: rgb(254,239,231)'>ش</span><span style='background-color: rgb(254,239,231)'>ا</span><span style='background-color: rgb(254,243,238)'>ه</span><span style='background-color: rgb(254,243,238)'>و</span><span style='background-color: rgb(255,245,240)'>ا</span><span style='background-color: rgb(255,245,240)'>ر</span><span>\t\t:\t\t</span><span>ی</span></div>"
      ],
      "text/plain": [
       "<IPython.core.display.HTML object>"
      ]
     },
     "metadata": {
      "tags": []
     },
     "output_type": "display_data"
    },
    {
     "data": {
      "text/html": [
       "<div><span style='background-color: rgb(254,243,238)'>ی</span><span style='background-color: rgb(254,243,238)'>ک</span><span style='background-color: rgb(254,243,237)'>ی</span><span style='background-color: rgb(254,242,236)'> </span><span style='background-color: rgb(254,244,239)'>ت</span><span style='background-color: rgb(254,244,239)'>ا</span><span style='background-color: rgb(254,243,238)'>ج</span><span style='background-color: rgb(254,243,238)'> </span><span style='background-color: rgb(254,243,237)'>ب</span><span style='background-color: rgb(254,243,238)'>ا</span><span style='background-color: rgb(254,241,235)'> </span><span style='background-color: rgb(254,241,234)'>گ</span><span style='background-color: rgb(254,244,239)'>و</span><span style='background-color: rgb(255,245,240)'>ه</span><span style='background-color: rgb(254,244,239)'>ر</span><span style='background-color: rgb(254,244,239)'> </span><span style='background-color: rgb(254,243,237)'>ش</span><span style='background-color: rgb(254,243,237)'>ا</span><span style='background-color: rgb(254,243,237)'>ه</span><span style='background-color: rgb(254,243,238)'>و</span><span style='background-color: rgb(254,243,238)'>ا</span><span style='background-color: rgb(254,244,239)'>ر</span><span>\t\t:\t\t</span><span>ا</span></div>"
      ],
      "text/plain": [
       "<IPython.core.display.HTML object>"
      ]
     },
     "metadata": {
      "tags": []
     },
     "output_type": "display_data"
    },
    {
     "data": {
      "text/html": [
       "<div><span style='background-color: rgb(254,242,236)'>ی</span><span style='background-color: rgb(254,243,238)'>ک</span><span style='background-color: rgb(254,243,237)'>ی</span><span style='background-color: rgb(254,239,231)'> </span><span style='background-color: rgb(254,243,237)'>ت</span><span style='background-color: rgb(254,243,237)'>ا</span><span style='background-color: rgb(254,236,227)'>ج</span><span style='background-color: rgb(254,233,223)'> </span><span style='background-color: rgb(254,240,233)'>ب</span><span style='background-color: rgb(254,238,230)'>ا</span><span style='background-color: rgb(254,241,234)'> </span><span style='background-color: rgb(254,241,235)'>گ</span><span style='background-color: rgb(254,241,235)'>و</span><span style='background-color: rgb(254,243,238)'>ه</span><span style='background-color: rgb(254,243,238)'>ر</span><span style='background-color: rgb(254,243,238)'> </span><span style='background-color: rgb(254,242,236)'>ش</span><span style='background-color: rgb(254,243,238)'>ا</span><span style='background-color: rgb(254,231,221)'>ه</span><span style='background-color: rgb(254,242,236)'>و</span><span style='background-color: rgb(254,244,239)'>ا</span><span style='background-color: rgb(254,235,225)'>ر</span><span>\t\t:\t\t</span><span>ی</span></div>"
      ],
      "text/plain": [
       "<IPython.core.display.HTML object>"
      ]
     },
     "metadata": {
      "tags": []
     },
     "output_type": "display_data"
    },
    {
     "data": {
      "text/html": [
       "<div><span style='background-color: rgb(255,245,240)'>ی</span><span style='background-color: rgb(255,245,240)'>ک</span><span style='background-color: rgb(255,245,240)'>ی</span><span style='background-color: rgb(255,245,240)'> </span><span style='background-color: rgb(255,245,240)'>ت</span><span style='background-color: rgb(254,241,234)'>ا</span><span style='background-color: rgb(253,222,208)'>ج</span><span style='background-color: rgb(254,233,223)'> </span><span style='background-color: rgb(254,239,231)'>ب</span><span style='background-color: rgb(254,236,227)'>ا</span><span style='background-color: rgb(254,237,228)'> </span><span style='background-color: rgb(254,242,236)'>گ</span><span style='background-color: rgb(254,243,238)'>و</span><span style='background-color: rgb(254,243,238)'>ه</span><span style='background-color: rgb(254,243,238)'>ر</span><span style='background-color: rgb(254,243,238)'> </span><span style='background-color: rgb(254,243,238)'>ش</span><span style='background-color: rgb(254,241,234)'>ا</span><span style='background-color: rgb(254,235,225)'>ه</span><span style='background-color: rgb(254,229,217)'>و</span><span style='background-color: rgb(254,243,237)'>ا</span><span style='background-color: rgb(254,231,220)'>ر</span><span>\t\t:\t\t</span><span>ـ</span></div>"
      ],
      "text/plain": [
       "<IPython.core.display.HTML object>"
      ]
     },
     "metadata": {
      "tags": []
     },
     "output_type": "display_data"
    },
    {
     "data": {
      "text/html": [
       "<div><span style='background-color: rgb(254,243,238)'>ی</span><span style='background-color: rgb(254,238,230)'>ک</span><span style='background-color: rgb(254,241,235)'>ی</span><span style='background-color: rgb(254,239,232)'> </span><span style='background-color: rgb(254,243,238)'>ت</span><span style='background-color: rgb(255,245,240)'>ا</span><span style='background-color: rgb(255,245,240)'>ج</span><span style='background-color: rgb(255,245,240)'> </span><span style='background-color: rgb(255,245,240)'>ب</span><span style='background-color: rgb(255,245,240)'>ا</span><span style='background-color: rgb(255,245,240)'> </span><span style='background-color: rgb(254,244,239)'>گ</span><span style='background-color: rgb(254,244,239)'>و</span><span style='background-color: rgb(255,245,240)'>ه</span><span style='background-color: rgb(255,245,240)'>ر</span><span style='background-color: rgb(255,245,240)'> </span><span style='background-color: rgb(254,244,239)'>ش</span><span style='background-color: rgb(254,241,235)'>ا</span><span style='background-color: rgb(254,243,238)'>ه</span><span style='background-color: rgb(254,235,226)'>و</span><span style='background-color: rgb(253,220,205)'>ا</span><span style='background-color: rgb(254,243,237)'>ر</span><span>\t\t:\t\t</span><span>ک</span></div>"
      ],
      "text/plain": [
       "<IPython.core.display.HTML object>"
      ]
     },
     "metadata": {
      "tags": []
     },
     "output_type": "display_data"
    },
    {
     "data": {
      "text/html": [
       "<div><span style='background-color: rgb(254,244,239)'>ی</span><span style='background-color: rgb(254,244,239)'>ک</span><span style='background-color: rgb(255,245,240)'>ی</span><span style='background-color: rgb(254,243,238)'> </span><span style='background-color: rgb(255,245,240)'>ت</span><span style='background-color: rgb(255,245,240)'>ا</span><span style='background-color: rgb(255,245,240)'>ج</span><span style='background-color: rgb(255,245,240)'> </span><span style='background-color: rgb(255,245,240)'>ب</span><span style='background-color: rgb(255,245,240)'>ا</span><span style='background-color: rgb(255,245,240)'> </span><span style='background-color: rgb(255,245,240)'>گ</span><span style='background-color: rgb(255,245,240)'>و</span><span style='background-color: rgb(255,245,240)'>ه</span><span style='background-color: rgb(255,245,240)'>ر</span><span style='background-color: rgb(254,244,239)'> </span><span style='background-color: rgb(254,244,239)'>ش</span><span style='background-color: rgb(254,242,236)'>ا</span><span style='background-color: rgb(254,243,238)'>ه</span><span style='background-color: rgb(254,243,237)'>و</span><span style='background-color: rgb(199,23,28)'>ا</span><span style='background-color: rgb(254,237,228)'>ر</span><span>\t\t:\t\t</span><span>ا</span></div>"
      ],
      "text/plain": [
       "<IPython.core.display.HTML object>"
      ]
     },
     "metadata": {
      "tags": []
     },
     "output_type": "display_data"
    },
    {
     "data": {
      "text/html": [
       "<div><span style='background-color: rgb(254,239,232)'>ی</span><span style='background-color: rgb(254,243,237)'>ک</span><span style='background-color: rgb(254,243,238)'>ی</span><span style='background-color: rgb(254,239,232)'> </span><span style='background-color: rgb(254,244,239)'>ت</span><span style='background-color: rgb(255,245,240)'>ا</span><span style='background-color: rgb(255,245,240)'>ج</span><span style='background-color: rgb(255,245,240)'> </span><span style='background-color: rgb(255,245,240)'>ب</span><span style='background-color: rgb(255,245,240)'>ا</span><span style='background-color: rgb(255,245,240)'> </span><span style='background-color: rgb(255,245,240)'>گ</span><span style='background-color: rgb(255,245,240)'>و</span><span style='background-color: rgb(255,245,240)'>ه</span><span style='background-color: rgb(254,244,239)'>ر</span><span style='background-color: rgb(254,244,239)'> </span><span style='background-color: rgb(254,244,239)'>ش</span><span style='background-color: rgb(254,243,237)'>ا</span><span style='background-color: rgb(254,232,222)'>ه</span><span style='background-color: rgb(254,242,236)'>و</span><span style='background-color: rgb(254,243,237)'>ا</span><span style='background-color: rgb(220,40,36)'>ر</span><span>\t\t:\t\t</span><span>ر</span></div>"
      ],
      "text/plain": [
       "<IPython.core.display.HTML object>"
      ]
     },
     "metadata": {
      "tags": []
     },
     "output_type": "display_data"
    },
    {
     "name": "stdout",
     "output_type": "stream",
     "text": [
      "Test input:\n",
      "نه چون اردشیر اردوان را بکشت  ****  بنیرو شد و تختش امد بمشت\n",
      "Seq2Seq output:\n",
      "نگر تا چه باشی به دانش بکشت\n",
      "Seq2Seq with attention output:\n",
      "به از  به دیده به اواز و بشت\n",
      "Weights of attention:\n"
     ]
    },
    {
     "data": {
      "text/html": [
       "<div><span style='background-color: rgb(254,235,226)'>ن</span><span style='background-color: rgb(254,241,235)'>ه</span><span style='background-color: rgb(254,241,235)'> </span><span style='background-color: rgb(254,244,239)'>چ</span><span style='background-color: rgb(254,243,237)'>و</span><span style='background-color: rgb(254,243,237)'>ن</span><span style='background-color: rgb(254,243,238)'> </span><span style='background-color: rgb(254,244,239)'>ا</span><span style='background-color: rgb(254,243,238)'>ر</span><span style='background-color: rgb(254,241,235)'>د</span><span style='background-color: rgb(254,241,234)'>ش</span><span style='background-color: rgb(254,244,239)'>ی</span><span style='background-color: rgb(255,245,240)'>ر</span><span style='background-color: rgb(255,245,240)'> </span><span style='background-color: rgb(254,244,239)'>ا</span><span style='background-color: rgb(254,241,235)'>ر</span><span style='background-color: rgb(255,245,240)'>د</span><span style='background-color: rgb(254,243,237)'>و</span><span style='background-color: rgb(254,244,239)'>ا</span><span style='background-color: rgb(255,245,240)'>ن</span><span style='background-color: rgb(255,245,240)'> </span><span style='background-color: rgb(255,245,240)'>ر</span><span style='background-color: rgb(255,245,240)'>ا</span><span style='background-color: rgb(254,243,238)'> </span><span style='background-color: rgb(254,244,239)'>ب</span><span style='background-color: rgb(255,245,240)'>ک</span><span style='background-color: rgb(255,245,240)'>ش</span><span style='background-color: rgb(254,244,239)'>ت</span><span>\t\t:\t\t</span><span>ب</span></div>"
      ],
      "text/plain": [
       "<IPython.core.display.HTML object>"
      ]
     },
     "metadata": {
      "tags": []
     },
     "output_type": "display_data"
    },
    {
     "data": {
      "text/html": [
       "<div><span style='background-color: rgb(254,241,234)'>ن</span><span style='background-color: rgb(254,240,233)'>ه</span><span style='background-color: rgb(254,242,236)'> </span><span style='background-color: rgb(254,241,234)'>چ</span><span style='background-color: rgb(254,236,227)'>و</span><span style='background-color: rgb(254,240,233)'>ن</span><span style='background-color: rgb(254,241,234)'> </span><span style='background-color: rgb(254,243,237)'>ا</span><span style='background-color: rgb(254,243,237)'>ر</span><span style='background-color: rgb(254,243,237)'>د</span><span style='background-color: rgb(254,242,236)'>ش</span><span style='background-color: rgb(254,241,234)'>ی</span><span style='background-color: rgb(254,244,239)'>ر</span><span style='background-color: rgb(254,241,235)'> </span><span style='background-color: rgb(254,241,235)'>ا</span><span style='background-color: rgb(254,243,238)'>ر</span><span style='background-color: rgb(254,243,237)'>د</span><span style='background-color: rgb(254,240,233)'>و</span><span style='background-color: rgb(254,242,236)'>ا</span><span style='background-color: rgb(254,242,236)'>ن</span><span style='background-color: rgb(254,244,239)'> </span><span style='background-color: rgb(254,243,237)'>ر</span><span style='background-color: rgb(254,243,237)'>ا</span><span style='background-color: rgb(254,242,236)'> </span><span style='background-color: rgb(255,245,240)'>ب</span><span style='background-color: rgb(255,245,240)'>ک</span><span style='background-color: rgb(255,245,240)'>ش</span><span style='background-color: rgb(255,245,240)'>ت</span><span>\t\t:\t\t</span><span>ه</span></div>"
      ],
      "text/plain": [
       "<IPython.core.display.HTML object>"
      ]
     },
     "metadata": {
      "tags": []
     },
     "output_type": "display_data"
    },
    {
     "data": {
      "text/html": [
       "<div><span style='background-color: rgb(254,239,231)'>ن</span><span style='background-color: rgb(254,242,236)'>ه</span><span style='background-color: rgb(254,242,236)'> </span><span style='background-color: rgb(254,243,237)'>چ</span><span style='background-color: rgb(254,242,236)'>و</span><span style='background-color: rgb(254,239,231)'>ن</span><span style='background-color: rgb(254,239,231)'> </span><span style='background-color: rgb(254,241,235)'>ا</span><span style='background-color: rgb(254,240,233)'>ر</span><span style='background-color: rgb(254,241,234)'>د</span><span style='background-color: rgb(254,238,230)'>ش</span><span style='background-color: rgb(253,218,202)'>ی</span><span style='background-color: rgb(253,222,208)'>ر</span><span style='background-color: rgb(254,233,224)'> </span><span style='background-color: rgb(254,239,231)'>ا</span><span style='background-color: rgb(254,241,234)'>ر</span><span style='background-color: rgb(254,239,231)'>د</span><span style='background-color: rgb(254,244,239)'>و</span><span style='background-color: rgb(254,244,239)'>ا</span><span style='background-color: rgb(254,240,233)'>ن</span><span style='background-color: rgb(254,238,230)'> </span><span style='background-color: rgb(254,240,233)'>ر</span><span style='background-color: rgb(254,242,236)'>ا</span><span style='background-color: rgb(254,243,238)'> </span><span style='background-color: rgb(255,245,240)'>ب</span><span style='background-color: rgb(255,245,240)'>ک</span><span style='background-color: rgb(255,245,240)'>ش</span><span style='background-color: rgb(254,244,239)'>ت</span><span>\t\t:\t\t</span><span>ـ</span></div>"
      ],
      "text/plain": [
       "<IPython.core.display.HTML object>"
      ]
     },
     "metadata": {
      "tags": []
     },
     "output_type": "display_data"
    },
    {
     "data": {
      "text/html": [
       "<div><span style='background-color: rgb(254,230,219)'>ن</span><span style='background-color: rgb(254,240,233)'>ه</span><span style='background-color: rgb(254,242,236)'> </span><span style='background-color: rgb(254,243,237)'>چ</span><span style='background-color: rgb(254,242,236)'>و</span><span style='background-color: rgb(254,243,237)'>ن</span><span style='background-color: rgb(254,244,239)'> </span><span style='background-color: rgb(254,244,239)'>ا</span><span style='background-color: rgb(254,243,237)'>ر</span><span style='background-color: rgb(254,241,234)'>د</span><span style='background-color: rgb(254,241,234)'>ش</span><span style='background-color: rgb(254,240,233)'>ی</span><span style='background-color: rgb(254,243,238)'>ر</span><span style='background-color: rgb(254,243,237)'> </span><span style='background-color: rgb(254,239,231)'>ا</span><span style='background-color: rgb(254,233,223)'>ر</span><span style='background-color: rgb(254,243,237)'>د</span><span style='background-color: rgb(254,239,232)'>و</span><span style='background-color: rgb(254,241,234)'>ا</span><span style='background-color: rgb(254,243,237)'>ن</span><span style='background-color: rgb(254,244,239)'> </span><span style='background-color: rgb(254,244,239)'>ر</span><span style='background-color: rgb(254,243,237)'>ا</span><span style='background-color: rgb(254,241,234)'> </span><span style='background-color: rgb(254,242,236)'>ب</span><span style='background-color: rgb(255,245,240)'>ک</span><span style='background-color: rgb(255,245,240)'>ش</span><span style='background-color: rgb(255,245,240)'>ت</span><span>\t\t:\t\t</span><span>ا</span></div>"
      ],
      "text/plain": [
       "<IPython.core.display.HTML object>"
      ]
     },
     "metadata": {
      "tags": []
     },
     "output_type": "display_data"
    },
    {
     "data": {
      "text/html": [
       "<div><span style='background-color: rgb(254,241,235)'>ن</span><span style='background-color: rgb(254,241,234)'>ه</span><span style='background-color: rgb(254,232,222)'> </span><span style='background-color: rgb(254,240,233)'>چ</span><span style='background-color: rgb(254,243,237)'>و</span><span style='background-color: rgb(254,239,232)'>ن</span><span style='background-color: rgb(254,241,234)'> </span><span style='background-color: rgb(254,239,231)'>ا</span><span style='background-color: rgb(254,240,233)'>ر</span><span style='background-color: rgb(254,239,231)'>د</span><span style='background-color: rgb(254,239,231)'>ش</span><span style='background-color: rgb(254,243,237)'>ی</span><span style='background-color: rgb(254,244,239)'>ر</span><span style='background-color: rgb(254,243,237)'> </span><span style='background-color: rgb(254,242,236)'>ا</span><span style='background-color: rgb(254,242,236)'>ر</span><span style='background-color: rgb(254,243,238)'>د</span><span style='background-color: rgb(254,242,236)'>و</span><span style='background-color: rgb(254,239,231)'>ا</span><span style='background-color: rgb(254,243,237)'>ن</span><span style='background-color: rgb(255,245,240)'> </span><span style='background-color: rgb(254,244,239)'>ر</span><span style='background-color: rgb(255,245,240)'>ا</span><span style='background-color: rgb(254,244,239)'> </span><span style='background-color: rgb(254,242,236)'>ب</span><span style='background-color: rgb(255,245,240)'>ک</span><span style='background-color: rgb(255,245,240)'>ش</span><span style='background-color: rgb(255,245,240)'>ت</span><span>\t\t:\t\t</span><span>ز</span></div>"
      ],
      "text/plain": [
       "<IPython.core.display.HTML object>"
      ]
     },
     "metadata": {
      "tags": []
     },
     "output_type": "display_data"
    },
    {
     "data": {
      "text/html": [
       "<div><span style='background-color: rgb(254,235,225)'>ن</span><span style='background-color: rgb(254,237,229)'>ه</span><span style='background-color: rgb(254,241,234)'> </span><span style='background-color: rgb(254,242,236)'>چ</span><span style='background-color: rgb(254,242,236)'>و</span><span style='background-color: rgb(254,243,237)'>ن</span><span style='background-color: rgb(254,242,236)'> </span><span style='background-color: rgb(254,243,237)'>ا</span><span style='background-color: rgb(254,241,235)'>ر</span><span style='background-color: rgb(254,241,234)'>د</span><span style='background-color: rgb(254,237,228)'>ش</span><span style='background-color: rgb(254,237,228)'>ی</span><span style='background-color: rgb(254,235,226)'>ر</span><span style='background-color: rgb(254,238,230)'> </span><span style='background-color: rgb(254,239,231)'>ا</span><span style='background-color: rgb(254,237,229)'>ر</span><span style='background-color: rgb(254,235,225)'>د</span><span style='background-color: rgb(254,238,230)'>و</span><span style='background-color: rgb(254,243,237)'>ا</span><span style='background-color: rgb(254,241,235)'>ن</span><span style='background-color: rgb(254,242,236)'> </span><span style='background-color: rgb(254,241,234)'>ر</span><span style='background-color: rgb(254,240,233)'>ا</span><span style='background-color: rgb(254,241,235)'> </span><span style='background-color: rgb(254,244,239)'>ب</span><span style='background-color: rgb(255,245,240)'>ک</span><span style='background-color: rgb(254,244,239)'>ش</span><span style='background-color: rgb(254,244,239)'>ت</span><span>\t\t:\t\t</span><span>ـ</span></div>"
      ],
      "text/plain": [
       "<IPython.core.display.HTML object>"
      ]
     },
     "metadata": {
      "tags": []
     },
     "output_type": "display_data"
    },
    {
     "data": {
      "text/html": [
       "<div><span style='background-color: rgb(254,239,231)'>ن</span><span style='background-color: rgb(254,243,237)'>ه</span><span style='background-color: rgb(254,241,234)'> </span><span style='background-color: rgb(254,243,238)'>چ</span><span style='background-color: rgb(254,240,233)'>و</span><span style='background-color: rgb(254,238,230)'>ن</span><span style='background-color: rgb(254,243,237)'> </span><span style='background-color: rgb(254,242,236)'>ا</span><span style='background-color: rgb(254,242,236)'>ر</span><span style='background-color: rgb(254,241,235)'>د</span><span style='background-color: rgb(254,240,233)'>ش</span><span style='background-color: rgb(254,235,226)'>ی</span><span style='background-color: rgb(254,242,236)'>ر</span><span style='background-color: rgb(254,241,235)'> </span><span style='background-color: rgb(254,239,232)'>ا</span><span style='background-color: rgb(254,235,225)'>ر</span><span style='background-color: rgb(254,242,236)'>د</span><span style='background-color: rgb(254,240,233)'>و</span><span style='background-color: rgb(254,240,233)'>ا</span><span style='background-color: rgb(254,243,238)'>ن</span><span style='background-color: rgb(254,243,238)'> </span><span style='background-color: rgb(254,241,235)'>ر</span><span style='background-color: rgb(254,242,236)'>ا</span><span style='background-color: rgb(254,239,232)'> </span><span style='background-color: rgb(254,241,234)'>ب</span><span style='background-color: rgb(255,245,240)'>ک</span><span style='background-color: rgb(255,245,240)'>ش</span><span style='background-color: rgb(255,245,240)'>ت</span><span>\t\t:\t\t</span><span>ـ</span></div>"
      ],
      "text/plain": [
       "<IPython.core.display.HTML object>"
      ]
     },
     "metadata": {
      "tags": []
     },
     "output_type": "display_data"
    },
    {
     "data": {
      "text/html": [
       "<div><span style='background-color: rgb(254,234,224)'>ن</span><span style='background-color: rgb(254,238,230)'>ه</span><span style='background-color: rgb(254,240,233)'> </span><span style='background-color: rgb(254,242,236)'>چ</span><span style='background-color: rgb(254,242,236)'>و</span><span style='background-color: rgb(254,243,237)'>ن</span><span style='background-color: rgb(254,241,235)'> </span><span style='background-color: rgb(254,243,237)'>ا</span><span style='background-color: rgb(254,244,239)'>ر</span><span style='background-color: rgb(254,242,236)'>د</span><span style='background-color: rgb(254,242,236)'>ش</span><span style='background-color: rgb(254,242,236)'>ی</span><span style='background-color: rgb(255,245,240)'>ر</span><span style='background-color: rgb(254,244,239)'> </span><span style='background-color: rgb(254,243,238)'>ا</span><span style='background-color: rgb(254,240,233)'>ر</span><span style='background-color: rgb(254,244,239)'>د</span><span style='background-color: rgb(254,243,238)'>و</span><span style='background-color: rgb(254,243,238)'>ا</span><span style='background-color: rgb(255,245,240)'>ن</span><span style='background-color: rgb(255,245,240)'> </span><span style='background-color: rgb(255,245,240)'>ر</span><span style='background-color: rgb(255,245,240)'>ا</span><span style='background-color: rgb(254,243,237)'> </span><span style='background-color: rgb(254,242,236)'>ب</span><span style='background-color: rgb(255,245,240)'>ک</span><span style='background-color: rgb(255,245,240)'>ش</span><span style='background-color: rgb(255,245,240)'>ت</span><span>\t\t:\t\t</span><span>ب</span></div>"
      ],
      "text/plain": [
       "<IPython.core.display.HTML object>"
      ]
     },
     "metadata": {
      "tags": []
     },
     "output_type": "display_data"
    },
    {
     "data": {
      "text/html": [
       "<div><span style='background-color: rgb(254,231,220)'>ن</span><span style='background-color: rgb(254,235,226)'>ه</span><span style='background-color: rgb(254,239,232)'> </span><span style='background-color: rgb(254,237,229)'>چ</span><span style='background-color: rgb(254,238,230)'>و</span><span style='background-color: rgb(254,240,233)'>ن</span><span style='background-color: rgb(254,240,233)'> </span><span style='background-color: rgb(254,243,237)'>ا</span><span style='background-color: rgb(254,243,238)'>ر</span><span style='background-color: rgb(254,243,238)'>د</span><span style='background-color: rgb(254,244,239)'>ش</span><span style='background-color: rgb(254,241,235)'>ی</span><span style='background-color: rgb(254,243,238)'>ر</span><span style='background-color: rgb(254,243,238)'> </span><span style='background-color: rgb(254,243,238)'>ا</span><span style='background-color: rgb(254,243,237)'>ر</span><span style='background-color: rgb(254,242,236)'>د</span><span style='background-color: rgb(254,237,229)'>و</span><span style='background-color: rgb(254,243,237)'>ا</span><span style='background-color: rgb(254,243,238)'>ن</span><span style='background-color: rgb(254,243,238)'> </span><span style='background-color: rgb(254,242,236)'>ر</span><span style='background-color: rgb(254,243,237)'>ا</span><span style='background-color: rgb(254,243,238)'> </span><span style='background-color: rgb(254,244,239)'>ب</span><span style='background-color: rgb(255,245,240)'>ک</span><span style='background-color: rgb(255,245,240)'>ش</span><span style='background-color: rgb(255,245,240)'>ت</span><span>\t\t:\t\t</span><span>ه</span></div>"
      ],
      "text/plain": [
       "<IPython.core.display.HTML object>"
      ]
     },
     "metadata": {
      "tags": []
     },
     "output_type": "display_data"
    },
    {
     "data": {
      "text/html": [
       "<div><span style='background-color: rgb(254,243,238)'>ن</span><span style='background-color: rgb(254,244,239)'>ه</span><span style='background-color: rgb(254,243,238)'> </span><span style='background-color: rgb(254,239,232)'>چ</span><span style='background-color: rgb(254,239,232)'>و</span><span style='background-color: rgb(254,241,235)'>ن</span><span style='background-color: rgb(254,241,235)'> </span><span style='background-color: rgb(254,242,236)'>ا</span><span style='background-color: rgb(254,242,236)'>ر</span><span style='background-color: rgb(254,237,229)'>د</span><span style='background-color: rgb(254,231,220)'>ش</span><span style='background-color: rgb(254,229,218)'>ی</span><span style='background-color: rgb(252,205,185)'>ر</span><span style='background-color: rgb(254,232,222)'> </span><span style='background-color: rgb(254,242,236)'>ا</span><span style='background-color: rgb(254,242,236)'>ر</span><span style='background-color: rgb(254,241,235)'>د</span><span style='background-color: rgb(254,243,237)'>و</span><span style='background-color: rgb(254,243,238)'>ا</span><span style='background-color: rgb(254,239,232)'>ن</span><span style='background-color: rgb(254,242,236)'> </span><span style='background-color: rgb(254,238,230)'>ر</span><span style='background-color: rgb(254,242,236)'>ا</span><span style='background-color: rgb(254,243,237)'> </span><span style='background-color: rgb(254,244,239)'>ب</span><span style='background-color: rgb(255,245,240)'>ک</span><span style='background-color: rgb(255,245,240)'>ش</span><span style='background-color: rgb(254,243,238)'>ت</span><span>\t\t:\t\t</span><span>ـ</span></div>"
      ],
      "text/plain": [
       "<IPython.core.display.HTML object>"
      ]
     },
     "metadata": {
      "tags": []
     },
     "output_type": "display_data"
    },
    {
     "data": {
      "text/html": [
       "<div><span style='background-color: rgb(254,230,219)'>ن</span><span style='background-color: rgb(254,241,234)'>ه</span><span style='background-color: rgb(254,243,237)'> </span><span style='background-color: rgb(254,243,237)'>چ</span><span style='background-color: rgb(254,242,236)'>و</span><span style='background-color: rgb(254,243,238)'>ن</span><span style='background-color: rgb(254,243,238)'> </span><span style='background-color: rgb(254,243,238)'>ا</span><span style='background-color: rgb(254,243,238)'>ر</span><span style='background-color: rgb(254,242,236)'>د</span><span style='background-color: rgb(254,243,237)'>ش</span><span style='background-color: rgb(254,243,237)'>ی</span><span style='background-color: rgb(254,244,239)'>ر</span><span style='background-color: rgb(254,243,237)'> </span><span style='background-color: rgb(254,241,234)'>ا</span><span style='background-color: rgb(254,237,229)'>ر</span><span style='background-color: rgb(254,241,235)'>د</span><span style='background-color: rgb(254,241,234)'>و</span><span style='background-color: rgb(254,242,236)'>ا</span><span style='background-color: rgb(254,243,237)'>ن</span><span style='background-color: rgb(254,244,239)'> </span><span style='background-color: rgb(254,242,236)'>ر</span><span style='background-color: rgb(254,243,238)'>ا</span><span style='background-color: rgb(254,241,235)'> </span><span style='background-color: rgb(254,243,238)'>ب</span><span style='background-color: rgb(255,245,240)'>ک</span><span style='background-color: rgb(255,245,240)'>ش</span><span style='background-color: rgb(255,245,240)'>ت</span><span>\t\t:\t\t</span><span>د</span></div>"
      ],
      "text/plain": [
       "<IPython.core.display.HTML object>"
      ]
     },
     "metadata": {
      "tags": []
     },
     "output_type": "display_data"
    },
    {
     "data": {
      "text/html": [
       "<div><span style='background-color: rgb(254,229,218)'>ن</span><span style='background-color: rgb(254,240,233)'>ه</span><span style='background-color: rgb(254,241,234)'> </span><span style='background-color: rgb(254,226,213)'>چ</span><span style='background-color: rgb(254,233,224)'>و</span><span style='background-color: rgb(254,236,227)'>ن</span><span style='background-color: rgb(254,239,232)'> </span><span style='background-color: rgb(254,237,228)'>ا</span><span style='background-color: rgb(254,241,234)'>ر</span><span style='background-color: rgb(254,241,234)'>د</span><span style='background-color: rgb(254,241,234)'>ش</span><span style='background-color: rgb(254,241,234)'>ی</span><span style='background-color: rgb(254,239,232)'>ر</span><span style='background-color: rgb(254,240,233)'> </span><span style='background-color: rgb(254,244,239)'>ا</span><span style='background-color: rgb(254,243,238)'>ر</span><span style='background-color: rgb(255,245,240)'>د</span><span style='background-color: rgb(255,245,240)'>و</span><span style='background-color: rgb(255,245,240)'>ا</span><span style='background-color: rgb(254,243,237)'>ن</span><span style='background-color: rgb(254,241,234)'> </span><span style='background-color: rgb(254,236,227)'>ر</span><span style='background-color: rgb(254,239,232)'>ا</span><span style='background-color: rgb(254,239,232)'> </span><span style='background-color: rgb(254,243,238)'>ب</span><span style='background-color: rgb(255,245,240)'>ک</span><span style='background-color: rgb(255,245,240)'>ش</span><span style='background-color: rgb(254,244,239)'>ت</span><span>\t\t:\t\t</span><span>ی</span></div>"
      ],
      "text/plain": [
       "<IPython.core.display.HTML object>"
      ]
     },
     "metadata": {
      "tags": []
     },
     "output_type": "display_data"
    },
    {
     "data": {
      "text/html": [
       "<div><span style='background-color: rgb(254,235,225)'>ن</span><span style='background-color: rgb(254,237,229)'>ه</span><span style='background-color: rgb(254,237,229)'> </span><span style='background-color: rgb(254,243,237)'>چ</span><span style='background-color: rgb(254,243,237)'>و</span><span style='background-color: rgb(254,243,238)'>ن</span><span style='background-color: rgb(254,243,238)'> </span><span style='background-color: rgb(254,243,238)'>ا</span><span style='background-color: rgb(254,241,234)'>ر</span><span style='background-color: rgb(254,241,234)'>د</span><span style='background-color: rgb(254,244,239)'>ش</span><span style='background-color: rgb(254,244,239)'>ی</span><span style='background-color: rgb(254,243,238)'>ر</span><span style='background-color: rgb(254,243,237)'> </span><span style='background-color: rgb(254,238,230)'>ا</span><span style='background-color: rgb(254,239,231)'>ر</span><span style='background-color: rgb(254,239,231)'>د</span><span style='background-color: rgb(254,227,215)'>و</span><span style='background-color: rgb(254,238,230)'>ا</span><span style='background-color: rgb(254,244,239)'>ن</span><span style='background-color: rgb(255,245,240)'> </span><span style='background-color: rgb(254,243,238)'>ر</span><span style='background-color: rgb(254,244,239)'>ا</span><span style='background-color: rgb(254,243,237)'> </span><span style='background-color: rgb(254,244,239)'>ب</span><span style='background-color: rgb(255,245,240)'>ک</span><span style='background-color: rgb(255,245,240)'>ش</span><span style='background-color: rgb(255,245,240)'>ت</span><span>\t\t:\t\t</span><span>د</span></div>"
      ],
      "text/plain": [
       "<IPython.core.display.HTML object>"
      ]
     },
     "metadata": {
      "tags": []
     },
     "output_type": "display_data"
    },
    {
     "data": {
      "text/html": [
       "<div><span style='background-color: rgb(254,225,211)'>ن</span><span style='background-color: rgb(254,239,231)'>ه</span><span style='background-color: rgb(254,241,235)'> </span><span style='background-color: rgb(254,237,228)'>چ</span><span style='background-color: rgb(254,235,225)'>و</span><span style='background-color: rgb(254,241,235)'>ن</span><span style='background-color: rgb(254,243,237)'> </span><span style='background-color: rgb(254,241,235)'>ا</span><span style='background-color: rgb(254,241,234)'>ر</span><span style='background-color: rgb(254,237,229)'>د</span><span style='background-color: rgb(254,241,234)'>ش</span><span style='background-color: rgb(254,234,224)'>ی</span><span style='background-color: rgb(254,234,224)'>ر</span><span style='background-color: rgb(254,243,237)'> </span><span style='background-color: rgb(254,243,238)'>ا</span><span style='background-color: rgb(254,243,238)'>ر</span><span style='background-color: rgb(254,244,239)'>د</span><span style='background-color: rgb(254,243,238)'>و</span><span style='background-color: rgb(254,244,239)'>ا</span><span style='background-color: rgb(254,241,235)'>ن</span><span style='background-color: rgb(254,241,234)'> </span><span style='background-color: rgb(254,241,234)'>ر</span><span style='background-color: rgb(254,243,237)'>ا</span><span style='background-color: rgb(254,243,237)'> </span><span style='background-color: rgb(254,244,239)'>ب</span><span style='background-color: rgb(255,245,240)'>ک</span><span style='background-color: rgb(254,244,239)'>ش</span><span style='background-color: rgb(254,244,239)'>ت</span><span>\t\t:\t\t</span><span>ه</span></div>"
      ],
      "text/plain": [
       "<IPython.core.display.HTML object>"
      ]
     },
     "metadata": {
      "tags": []
     },
     "output_type": "display_data"
    },
    {
     "data": {
      "text/html": [
       "<div><span style='background-color: rgb(254,243,237)'>ن</span><span style='background-color: rgb(254,244,239)'>ه</span><span style='background-color: rgb(254,244,239)'> </span><span style='background-color: rgb(254,243,237)'>چ</span><span style='background-color: rgb(254,243,238)'>و</span><span style='background-color: rgb(254,243,238)'>ن</span><span style='background-color: rgb(254,243,238)'> </span><span style='background-color: rgb(254,244,239)'>ا</span><span style='background-color: rgb(254,242,236)'>ر</span><span style='background-color: rgb(254,242,236)'>د</span><span style='background-color: rgb(254,243,237)'>ش</span><span style='background-color: rgb(254,235,225)'>ی</span><span style='background-color: rgb(252,151,120)'>ر</span><span style='background-color: rgb(254,227,214)'> </span><span style='background-color: rgb(254,238,230)'>ا</span><span style='background-color: rgb(254,241,234)'>ر</span><span style='background-color: rgb(254,234,224)'>د</span><span style='background-color: rgb(254,239,232)'>و</span><span style='background-color: rgb(254,243,238)'>ا</span><span style='background-color: rgb(254,240,233)'>ن</span><span style='background-color: rgb(254,243,237)'> </span><span style='background-color: rgb(254,238,230)'>ر</span><span style='background-color: rgb(254,241,235)'>ا</span><span style='background-color: rgb(254,243,238)'> </span><span style='background-color: rgb(254,244,239)'>ب</span><span style='background-color: rgb(255,245,240)'>ک</span><span style='background-color: rgb(255,245,240)'>ش</span><span style='background-color: rgb(254,243,238)'>ت</span><span>\t\t:\t\t</span><span>ـ</span></div>"
      ],
      "text/plain": [
       "<IPython.core.display.HTML object>"
      ]
     },
     "metadata": {
      "tags": []
     },
     "output_type": "display_data"
    },
    {
     "data": {
      "text/html": [
       "<div><span style='background-color: rgb(254,241,235)'>ن</span><span style='background-color: rgb(254,242,236)'>ه</span><span style='background-color: rgb(254,243,237)'> </span><span style='background-color: rgb(254,243,238)'>چ</span><span style='background-color: rgb(254,243,237)'>و</span><span style='background-color: rgb(254,240,233)'>ن</span><span style='background-color: rgb(254,243,237)'> </span><span style='background-color: rgb(254,241,235)'>ا</span><span style='background-color: rgb(254,243,237)'>ر</span><span style='background-color: rgb(254,240,233)'>د</span><span style='background-color: rgb(254,243,238)'>ش</span><span style='background-color: rgb(255,245,240)'>ی</span><span style='background-color: rgb(255,245,240)'>ر</span><span style='background-color: rgb(255,245,240)'> </span><span style='background-color: rgb(255,245,240)'>ا</span><span style='background-color: rgb(254,244,239)'>ر</span><span style='background-color: rgb(254,242,236)'>د</span><span style='background-color: rgb(254,239,231)'>و</span><span style='background-color: rgb(254,244,239)'>ا</span><span style='background-color: rgb(255,245,240)'>ن</span><span style='background-color: rgb(255,245,240)'> </span><span style='background-color: rgb(255,245,240)'>ر</span><span style='background-color: rgb(255,245,240)'>ا</span><span style='background-color: rgb(254,239,232)'> </span><span style='background-color: rgb(254,242,236)'>ب</span><span style='background-color: rgb(255,245,240)'>ک</span><span style='background-color: rgb(255,245,240)'>ش</span><span style='background-color: rgb(255,245,240)'>ت</span><span>\t\t:\t\t</span><span>ب</span></div>"
      ],
      "text/plain": [
       "<IPython.core.display.HTML object>"
      ]
     },
     "metadata": {
      "tags": []
     },
     "output_type": "display_data"
    },
    {
     "data": {
      "text/html": [
       "<div><span style='background-color: rgb(254,238,230)'>ن</span><span style='background-color: rgb(254,241,234)'>ه</span><span style='background-color: rgb(254,241,234)'> </span><span style='background-color: rgb(254,239,232)'>چ</span><span style='background-color: rgb(254,231,220)'>و</span><span style='background-color: rgb(254,240,233)'>ن</span><span style='background-color: rgb(254,242,236)'> </span><span style='background-color: rgb(254,242,236)'>ا</span><span style='background-color: rgb(254,244,239)'>ر</span><span style='background-color: rgb(254,243,237)'>د</span><span style='background-color: rgb(255,245,240)'>ش</span><span style='background-color: rgb(254,244,239)'>ی</span><span style='background-color: rgb(255,245,240)'>ر</span><span style='background-color: rgb(254,243,238)'> </span><span style='background-color: rgb(254,244,239)'>ا</span><span style='background-color: rgb(254,244,239)'>ر</span><span style='background-color: rgb(254,243,238)'>د</span><span style='background-color: rgb(254,236,227)'>و</span><span style='background-color: rgb(254,241,234)'>ا</span><span style='background-color: rgb(254,241,235)'>ن</span><span style='background-color: rgb(254,244,239)'> </span><span style='background-color: rgb(254,243,237)'>ر</span><span style='background-color: rgb(254,244,239)'>ا</span><span style='background-color: rgb(254,243,237)'> </span><span style='background-color: rgb(254,244,239)'>ب</span><span style='background-color: rgb(254,244,239)'>ک</span><span style='background-color: rgb(255,245,240)'>ش</span><span style='background-color: rgb(255,245,240)'>ت</span><span>\t\t:\t\t</span><span>ه</span></div>"
      ],
      "text/plain": [
       "<IPython.core.display.HTML object>"
      ]
     },
     "metadata": {
      "tags": []
     },
     "output_type": "display_data"
    },
    {
     "data": {
      "text/html": [
       "<div><span style='background-color: rgb(254,240,233)'>ن</span><span style='background-color: rgb(254,240,233)'>ه</span><span style='background-color: rgb(254,243,237)'> </span><span style='background-color: rgb(254,241,234)'>چ</span><span style='background-color: rgb(254,241,235)'>و</span><span style='background-color: rgb(254,237,228)'>ن</span><span style='background-color: rgb(254,236,227)'> </span><span style='background-color: rgb(254,243,237)'>ا</span><span style='background-color: rgb(254,244,239)'>ر</span><span style='background-color: rgb(254,243,237)'>د</span><span style='background-color: rgb(254,237,228)'>ش</span><span style='background-color: rgb(254,226,213)'>ی</span><span style='background-color: rgb(253,212,194)'>ر</span><span style='background-color: rgb(254,231,221)'> </span><span style='background-color: rgb(254,239,231)'>ا</span><span style='background-color: rgb(254,237,229)'>ر</span><span style='background-color: rgb(254,237,229)'>د</span><span style='background-color: rgb(254,243,237)'>و</span><span style='background-color: rgb(254,244,239)'>ا</span><span style='background-color: rgb(254,241,235)'>ن</span><span style='background-color: rgb(254,241,234)'> </span><span style='background-color: rgb(254,240,233)'>ر</span><span style='background-color: rgb(254,241,235)'>ا</span><span style='background-color: rgb(254,244,239)'> </span><span style='background-color: rgb(255,245,240)'>ب</span><span style='background-color: rgb(255,245,240)'>ک</span><span style='background-color: rgb(255,245,240)'>ش</span><span style='background-color: rgb(254,244,239)'>ت</span><span>\t\t:\t\t</span><span>ـ</span></div>"
      ],
      "text/plain": [
       "<IPython.core.display.HTML object>"
      ]
     },
     "metadata": {
      "tags": []
     },
     "output_type": "display_data"
    },
    {
     "data": {
      "text/html": [
       "<div><span style='background-color: rgb(254,226,213)'>ن</span><span style='background-color: rgb(254,241,235)'>ه</span><span style='background-color: rgb(254,239,232)'> </span><span style='background-color: rgb(254,237,229)'>چ</span><span style='background-color: rgb(254,239,231)'>و</span><span style='background-color: rgb(254,241,235)'>ن</span><span style='background-color: rgb(254,243,238)'> </span><span style='background-color: rgb(254,243,238)'>ا</span><span style='background-color: rgb(254,243,238)'>ر</span><span style='background-color: rgb(254,241,234)'>د</span><span style='background-color: rgb(254,243,238)'>ش</span><span style='background-color: rgb(254,243,237)'>ی</span><span style='background-color: rgb(255,245,240)'>ر</span><span style='background-color: rgb(254,243,238)'> </span><span style='background-color: rgb(254,238,230)'>ا</span><span style='background-color: rgb(254,237,229)'>ر</span><span style='background-color: rgb(254,242,236)'>د</span><span style='background-color: rgb(254,241,234)'>و</span><span style='background-color: rgb(254,243,237)'>ا</span><span style='background-color: rgb(254,243,238)'>ن</span><span style='background-color: rgb(254,244,239)'> </span><span style='background-color: rgb(254,243,238)'>ر</span><span style='background-color: rgb(254,243,237)'>ا</span><span style='background-color: rgb(254,241,235)'> </span><span style='background-color: rgb(254,243,238)'>ب</span><span style='background-color: rgb(255,245,240)'>ک</span><span style='background-color: rgb(255,245,240)'>ش</span><span style='background-color: rgb(255,245,240)'>ت</span><span>\t\t:\t\t</span><span>ا</span></div>"
      ],
      "text/plain": [
       "<IPython.core.display.HTML object>"
      ]
     },
     "metadata": {
      "tags": []
     },
     "output_type": "display_data"
    },
    {
     "data": {
      "text/html": [
       "<div><span style='background-color: rgb(254,241,234)'>ن</span><span style='background-color: rgb(254,237,228)'>ه</span><span style='background-color: rgb(254,235,225)'> </span><span style='background-color: rgb(254,237,229)'>چ</span><span style='background-color: rgb(254,239,232)'>و</span><span style='background-color: rgb(254,239,231)'>ن</span><span style='background-color: rgb(254,241,234)'> </span><span style='background-color: rgb(254,241,234)'>ا</span><span style='background-color: rgb(254,241,235)'>ر</span><span style='background-color: rgb(254,239,232)'>د</span><span style='background-color: rgb(254,243,237)'>ش</span><span style='background-color: rgb(254,244,239)'>ی</span><span style='background-color: rgb(255,245,240)'>ر</span><span style='background-color: rgb(255,245,240)'> </span><span style='background-color: rgb(255,245,240)'>ا</span><span style='background-color: rgb(254,244,239)'>ر</span><span style='background-color: rgb(254,244,239)'>د</span><span style='background-color: rgb(254,244,239)'>و</span><span style='background-color: rgb(254,242,236)'>ا</span><span style='background-color: rgb(255,245,240)'>ن</span><span style='background-color: rgb(255,245,240)'> </span><span style='background-color: rgb(255,245,240)'>ر</span><span style='background-color: rgb(255,245,240)'>ا</span><span style='background-color: rgb(254,244,239)'> </span><span style='background-color: rgb(254,241,235)'>ب</span><span style='background-color: rgb(255,245,240)'>ک</span><span style='background-color: rgb(255,245,240)'>ش</span><span style='background-color: rgb(254,244,239)'>ت</span><span>\t\t:\t\t</span><span>و</span></div>"
      ],
      "text/plain": [
       "<IPython.core.display.HTML object>"
      ]
     },
     "metadata": {
      "tags": []
     },
     "output_type": "display_data"
    },
    {
     "data": {
      "text/html": [
       "<div><span style='background-color: rgb(252,187,162)'>ن</span><span style='background-color: rgb(254,237,228)'>ه</span><span style='background-color: rgb(254,239,231)'> </span><span style='background-color: rgb(254,237,229)'>چ</span><span style='background-color: rgb(254,240,233)'>و</span><span style='background-color: rgb(254,240,233)'>ن</span><span style='background-color: rgb(254,239,232)'> </span><span style='background-color: rgb(254,241,235)'>ا</span><span style='background-color: rgb(254,242,236)'>ر</span><span style='background-color: rgb(254,239,231)'>د</span><span style='background-color: rgb(254,241,234)'>ش</span><span style='background-color: rgb(254,239,231)'>ی</span><span style='background-color: rgb(254,241,234)'>ر</span><span style='background-color: rgb(254,241,234)'> </span><span style='background-color: rgb(254,242,236)'>ا</span><span style='background-color: rgb(254,241,234)'>ر</span><span style='background-color: rgb(254,244,239)'>د</span><span style='background-color: rgb(254,243,238)'>و</span><span style='background-color: rgb(254,244,239)'>ا</span><span style='background-color: rgb(254,244,239)'>ن</span><span style='background-color: rgb(254,244,239)'> </span><span style='background-color: rgb(254,243,238)'>ر</span><span style='background-color: rgb(254,244,239)'>ا</span><span style='background-color: rgb(255,245,240)'> </span><span style='background-color: rgb(255,245,240)'>ب</span><span style='background-color: rgb(255,245,240)'>ک</span><span style='background-color: rgb(255,245,240)'>ش</span><span style='background-color: rgb(254,244,239)'>ت</span><span>\t\t:\t\t</span><span>ا</span></div>"
      ],
      "text/plain": [
       "<IPython.core.display.HTML object>"
      ]
     },
     "metadata": {
      "tags": []
     },
     "output_type": "display_data"
    },
    {
     "data": {
      "text/html": [
       "<div><span style='background-color: rgb(254,244,239)'>ن</span><span style='background-color: rgb(254,244,239)'>ه</span><span style='background-color: rgb(254,243,238)'> </span><span style='background-color: rgb(254,241,234)'>چ</span><span style='background-color: rgb(254,239,231)'>و</span><span style='background-color: rgb(254,238,230)'>ن</span><span style='background-color: rgb(254,243,237)'> </span><span style='background-color: rgb(254,244,239)'>ا</span><span style='background-color: rgb(254,241,235)'>ر</span><span style='background-color: rgb(254,241,234)'>د</span><span style='background-color: rgb(254,243,238)'>ش</span><span style='background-color: rgb(254,243,237)'>ی</span><span style='background-color: rgb(254,243,237)'>ر</span><span style='background-color: rgb(254,237,229)'> </span><span style='background-color: rgb(254,226,213)'>ا</span><span style='background-color: rgb(254,234,224)'>ر</span><span style='background-color: rgb(254,235,226)'>د</span><span style='background-color: rgb(254,239,232)'>و</span><span style='background-color: rgb(254,239,231)'>ا</span><span style='background-color: rgb(254,239,231)'>ن</span><span style='background-color: rgb(254,243,238)'> </span><span style='background-color: rgb(254,243,237)'>ر</span><span style='background-color: rgb(255,245,240)'>ا</span><span style='background-color: rgb(254,243,237)'> </span><span style='background-color: rgb(254,244,239)'>ب</span><span style='background-color: rgb(255,245,240)'>ک</span><span style='background-color: rgb(255,245,240)'>ش</span><span style='background-color: rgb(255,245,240)'>ت</span><span>\t\t:\t\t</span><span>ز</span></div>"
      ],
      "text/plain": [
       "<IPython.core.display.HTML object>"
      ]
     },
     "metadata": {
      "tags": []
     },
     "output_type": "display_data"
    },
    {
     "data": {
      "text/html": [
       "<div><span style='background-color: rgb(255,245,240)'>ن</span><span style='background-color: rgb(254,244,239)'>ه</span><span style='background-color: rgb(254,244,239)'> </span><span style='background-color: rgb(254,242,236)'>چ</span><span style='background-color: rgb(254,242,236)'>و</span><span style='background-color: rgb(255,245,240)'>ن</span><span style='background-color: rgb(255,245,240)'> </span><span style='background-color: rgb(255,245,240)'>ا</span><span style='background-color: rgb(255,245,240)'>ر</span><span style='background-color: rgb(255,245,240)'>د</span><span style='background-color: rgb(255,245,240)'>ش</span><span style='background-color: rgb(254,244,239)'>ی</span><span style='background-color: rgb(254,233,224)'>ر</span><span style='background-color: rgb(254,237,228)'> </span><span style='background-color: rgb(254,240,233)'>ا</span><span style='background-color: rgb(254,241,235)'>ر</span><span style='background-color: rgb(254,244,239)'>د</span><span style='background-color: rgb(254,243,237)'>و</span><span style='background-color: rgb(254,244,239)'>ا</span><span style='background-color: rgb(254,243,238)'>ن</span><span style='background-color: rgb(254,243,238)'> </span><span style='background-color: rgb(254,244,239)'>ر</span><span style='background-color: rgb(254,244,239)'>ا</span><span style='background-color: rgb(254,244,239)'> </span><span style='background-color: rgb(255,245,240)'>ب</span><span style='background-color: rgb(254,244,239)'>ک</span><span style='background-color: rgb(254,241,235)'>ش</span><span style='background-color: rgb(253,207,188)'>ت</span><span>\t\t:\t\t</span><span>ـ</span></div>"
      ],
      "text/plain": [
       "<IPython.core.display.HTML object>"
      ]
     },
     "metadata": {
      "tags": []
     },
     "output_type": "display_data"
    },
    {
     "data": {
      "text/html": [
       "<div><span style='background-color: rgb(254,234,224)'>ن</span><span style='background-color: rgb(253,218,202)'>ه</span><span style='background-color: rgb(254,239,231)'> </span><span style='background-color: rgb(254,244,239)'>چ</span><span style='background-color: rgb(255,245,240)'>و</span><span style='background-color: rgb(254,244,239)'>ن</span><span style='background-color: rgb(254,243,238)'> </span><span style='background-color: rgb(254,241,234)'>ا</span><span style='background-color: rgb(254,238,230)'>ر</span><span style='background-color: rgb(254,237,228)'>د</span><span style='background-color: rgb(254,242,236)'>ش</span><span style='background-color: rgb(254,244,239)'>ی</span><span style='background-color: rgb(255,245,240)'>ر</span><span style='background-color: rgb(255,245,240)'> </span><span style='background-color: rgb(255,245,240)'>ا</span><span style='background-color: rgb(254,243,237)'>ر</span><span style='background-color: rgb(254,241,235)'>د</span><span style='background-color: rgb(254,237,228)'>و</span><span style='background-color: rgb(254,244,239)'>ا</span><span style='background-color: rgb(255,245,240)'>ن</span><span style='background-color: rgb(255,245,240)'> </span><span style='background-color: rgb(255,245,240)'>ر</span><span style='background-color: rgb(255,245,240)'>ا</span><span style='background-color: rgb(254,244,239)'> </span><span style='background-color: rgb(254,239,231)'>ب</span><span style='background-color: rgb(254,241,235)'>ک</span><span style='background-color: rgb(254,243,237)'>ش</span><span style='background-color: rgb(254,242,236)'>ت</span><span>\t\t:\t\t</span><span>و</span></div>"
      ],
      "text/plain": [
       "<IPython.core.display.HTML object>"
      ]
     },
     "metadata": {
      "tags": []
     },
     "output_type": "display_data"
    },
    {
     "data": {
      "text/html": [
       "<div><span style='background-color: rgb(254,244,239)'>ن</span><span style='background-color: rgb(254,244,239)'>ه</span><span style='background-color: rgb(254,244,239)'> </span><span style='background-color: rgb(254,244,239)'>چ</span><span style='background-color: rgb(254,244,239)'>و</span><span style='background-color: rgb(255,245,240)'>ن</span><span style='background-color: rgb(255,245,240)'> </span><span style='background-color: rgb(255,245,240)'>ا</span><span style='background-color: rgb(254,244,239)'>ر</span><span style='background-color: rgb(254,244,239)'>د</span><span style='background-color: rgb(254,244,239)'>ش</span><span style='background-color: rgb(254,241,234)'>ی</span><span style='background-color: rgb(254,231,220)'>ر</span><span style='background-color: rgb(254,242,236)'> </span><span style='background-color: rgb(254,243,237)'>ا</span><span style='background-color: rgb(254,241,235)'>ر</span><span style='background-color: rgb(254,241,235)'>د</span><span style='background-color: rgb(254,243,237)'>و</span><span style='background-color: rgb(254,244,239)'>ا</span><span style='background-color: rgb(254,243,238)'>ن</span><span style='background-color: rgb(254,243,238)'> </span><span style='background-color: rgb(255,245,240)'>ر</span><span style='background-color: rgb(254,244,239)'>ا</span><span style='background-color: rgb(254,244,239)'> </span><span style='background-color: rgb(254,244,239)'>ب</span><span style='background-color: rgb(254,244,239)'>ک</span><span style='background-color: rgb(254,225,212)'>ش</span><span style='background-color: rgb(254,224,210)'>ت</span><span>\t\t:\t\t</span><span>ـ</span></div>"
      ],
      "text/plain": [
       "<IPython.core.display.HTML object>"
      ]
     },
     "metadata": {
      "tags": []
     },
     "output_type": "display_data"
    },
    {
     "data": {
      "text/html": [
       "<div><span style='background-color: rgb(254,243,237)'>ن</span><span style='background-color: rgb(254,241,235)'>ه</span><span style='background-color: rgb(254,243,237)'> </span><span style='background-color: rgb(254,243,238)'>چ</span><span style='background-color: rgb(254,243,238)'>و</span><span style='background-color: rgb(254,243,238)'>ن</span><span style='background-color: rgb(255,245,240)'> </span><span style='background-color: rgb(254,243,238)'>ا</span><span style='background-color: rgb(254,243,237)'>ر</span><span style='background-color: rgb(254,242,236)'>د</span><span style='background-color: rgb(254,243,238)'>ش</span><span style='background-color: rgb(254,244,239)'>ی</span><span style='background-color: rgb(255,245,240)'>ر</span><span style='background-color: rgb(255,245,240)'> </span><span style='background-color: rgb(255,245,240)'>ا</span><span style='background-color: rgb(254,239,232)'>ر</span><span style='background-color: rgb(254,239,231)'>د</span><span style='background-color: rgb(254,237,229)'>و</span><span style='background-color: rgb(254,244,239)'>ا</span><span style='background-color: rgb(255,245,240)'>ن</span><span style='background-color: rgb(255,245,240)'> </span><span style='background-color: rgb(255,245,240)'>ر</span><span style='background-color: rgb(255,245,240)'>ا</span><span style='background-color: rgb(254,244,239)'> </span><span style='background-color: rgb(254,241,235)'>ب</span><span style='background-color: rgb(254,244,239)'>ک</span><span style='background-color: rgb(254,244,239)'>ش</span><span style='background-color: rgb(254,242,236)'>ت</span><span>\t\t:\t\t</span><span>ب</span></div>"
      ],
      "text/plain": [
       "<IPython.core.display.HTML object>"
      ]
     },
     "metadata": {
      "tags": []
     },
     "output_type": "display_data"
    },
    {
     "data": {
      "text/html": [
       "<div><span style='background-color: rgb(254,244,239)'>ن</span><span style='background-color: rgb(254,228,216)'>ه</span><span style='background-color: rgb(254,240,233)'> </span><span style='background-color: rgb(254,235,226)'>چ</span><span style='background-color: rgb(254,238,230)'>و</span><span style='background-color: rgb(254,243,237)'>ن</span><span style='background-color: rgb(254,243,238)'> </span><span style='background-color: rgb(254,244,239)'>ا</span><span style='background-color: rgb(254,244,239)'>ر</span><span style='background-color: rgb(254,244,239)'>د</span><span style='background-color: rgb(255,245,240)'>ش</span><span style='background-color: rgb(255,245,240)'>ی</span><span style='background-color: rgb(255,245,240)'>ر</span><span style='background-color: rgb(255,245,240)'> </span><span style='background-color: rgb(255,245,240)'>ا</span><span style='background-color: rgb(255,245,240)'>ر</span><span style='background-color: rgb(255,245,240)'>د</span><span style='background-color: rgb(255,245,240)'>و</span><span style='background-color: rgb(255,245,240)'>ا</span><span style='background-color: rgb(255,245,240)'>ن</span><span style='background-color: rgb(255,245,240)'> </span><span style='background-color: rgb(255,245,240)'>ر</span><span style='background-color: rgb(255,245,240)'>ا</span><span style='background-color: rgb(254,244,239)'> </span><span style='background-color: rgb(255,245,240)'>ب</span><span style='background-color: rgb(254,243,237)'>ک</span><span style='background-color: rgb(251,145,113)'>ش</span><span style='background-color: rgb(253,223,209)'>ت</span><span>\t\t:\t\t</span><span>ش</span></div>"
      ],
      "text/plain": [
       "<IPython.core.display.HTML object>"
      ]
     },
     "metadata": {
      "tags": []
     },
     "output_type": "display_data"
    },
    {
     "data": {
      "text/html": [
       "<div><span style='background-color: rgb(255,245,240)'>ن</span><span style='background-color: rgb(254,244,239)'>ه</span><span style='background-color: rgb(255,245,240)'> </span><span style='background-color: rgb(255,245,240)'>چ</span><span style='background-color: rgb(255,245,240)'>و</span><span style='background-color: rgb(255,245,240)'>ن</span><span style='background-color: rgb(255,245,240)'> </span><span style='background-color: rgb(255,245,240)'>ا</span><span style='background-color: rgb(255,245,240)'>ر</span><span style='background-color: rgb(255,245,240)'>د</span><span style='background-color: rgb(255,245,240)'>ش</span><span style='background-color: rgb(255,245,240)'>ی</span><span style='background-color: rgb(254,244,239)'>ر</span><span style='background-color: rgb(255,245,240)'> </span><span style='background-color: rgb(255,245,240)'>ا</span><span style='background-color: rgb(255,245,240)'>ر</span><span style='background-color: rgb(255,245,240)'>د</span><span style='background-color: rgb(255,245,240)'>و</span><span style='background-color: rgb(255,245,240)'>ا</span><span style='background-color: rgb(254,243,238)'>ن</span><span style='background-color: rgb(254,242,236)'> </span><span style='background-color: rgb(254,242,236)'>ر</span><span style='background-color: rgb(254,243,238)'>ا</span><span style='background-color: rgb(254,244,239)'> </span><span style='background-color: rgb(255,245,240)'>ب</span><span style='background-color: rgb(254,243,238)'>ک</span><span style='background-color: rgb(254,229,218)'>ش</span><span style='background-color: rgb(245,86,61)'>ت</span><span>\t\t:\t\t</span><span>ت</span></div>"
      ],
      "text/plain": [
       "<IPython.core.display.HTML object>"
      ]
     },
     "metadata": {
      "tags": []
     },
     "output_type": "display_data"
    },
    {
     "name": "stdout",
     "output_type": "stream",
     "text": [
      "Test input:\n",
      "بفرمود کز پیش بیرون برند  ****  بسی چاره جویند و افسون برند\n",
      "Seq2Seq output:\n",
      "همه ساله زار جهان بر برند\n",
      "Seq2Seq with attention output:\n",
      "به بدزند با نامور پهلوا\n",
      "Weights of attention:\n"
     ]
    },
    {
     "data": {
      "text/html": [
       "<div><span style='background-color: rgb(254,244,239)'>ب</span><span style='background-color: rgb(254,243,238)'>ف</span><span style='background-color: rgb(254,244,239)'>ر</span><span style='background-color: rgb(254,243,238)'>م</span><span style='background-color: rgb(254,244,239)'>و</span><span style='background-color: rgb(254,242,236)'>د</span><span style='background-color: rgb(254,244,239)'> </span><span style='background-color: rgb(254,242,236)'>ک</span><span style='background-color: rgb(255,245,240)'>ز</span><span style='background-color: rgb(254,244,239)'> </span><span style='background-color: rgb(254,243,238)'>پ</span><span style='background-color: rgb(255,245,240)'>ی</span><span style='background-color: rgb(254,242,236)'>ش</span><span style='background-color: rgb(254,241,235)'> </span><span style='background-color: rgb(255,245,240)'>ب</span><span style='background-color: rgb(255,245,240)'>ی</span><span style='background-color: rgb(255,245,240)'>ر</span><span style='background-color: rgb(255,245,240)'>و</span><span style='background-color: rgb(255,245,240)'>ن</span><span style='background-color: rgb(255,245,240)'> </span><span style='background-color: rgb(255,245,240)'>ب</span><span style='background-color: rgb(255,245,240)'>ر</span><span style='background-color: rgb(255,245,240)'>ن</span><span style='background-color: rgb(254,241,234)'>د</span><span>\t\t:\t\t</span><span>ب</span></div>"
      ],
      "text/plain": [
       "<IPython.core.display.HTML object>"
      ]
     },
     "metadata": {
      "tags": []
     },
     "output_type": "display_data"
    },
    {
     "data": {
      "text/html": [
       "<div><span style='background-color: rgb(254,237,228)'>ب</span><span style='background-color: rgb(254,239,232)'>ف</span><span style='background-color: rgb(254,241,235)'>ر</span><span style='background-color: rgb(254,242,236)'>م</span><span style='background-color: rgb(254,241,235)'>و</span><span style='background-color: rgb(254,241,235)'>د</span><span style='background-color: rgb(254,241,234)'> </span><span style='background-color: rgb(254,243,237)'>ک</span><span style='background-color: rgb(254,242,236)'>ز</span><span style='background-color: rgb(254,242,236)'> </span><span style='background-color: rgb(254,242,236)'>پ</span><span style='background-color: rgb(254,241,234)'>ی</span><span style='background-color: rgb(254,240,233)'>ش</span><span style='background-color: rgb(254,240,233)'> </span><span style='background-color: rgb(254,243,237)'>ب</span><span style='background-color: rgb(254,244,239)'>ی</span><span style='background-color: rgb(254,244,239)'>ر</span><span style='background-color: rgb(254,243,238)'>و</span><span style='background-color: rgb(254,243,237)'>ن</span><span style='background-color: rgb(254,241,234)'> </span><span style='background-color: rgb(254,244,239)'>ب</span><span style='background-color: rgb(255,245,240)'>ر</span><span style='background-color: rgb(255,245,240)'>ن</span><span style='background-color: rgb(255,245,240)'>د</span><span>\t\t:\t\t</span><span>ه</span></div>"
      ],
      "text/plain": [
       "<IPython.core.display.HTML object>"
      ]
     },
     "metadata": {
      "tags": []
     },
     "output_type": "display_data"
    },
    {
     "data": {
      "text/html": [
       "<div><span style='background-color: rgb(254,241,235)'>ب</span><span style='background-color: rgb(254,239,232)'>ف</span><span style='background-color: rgb(254,239,232)'>ر</span><span style='background-color: rgb(254,241,235)'>م</span><span style='background-color: rgb(254,241,234)'>و</span><span style='background-color: rgb(254,241,234)'>د</span><span style='background-color: rgb(254,237,228)'> </span><span style='background-color: rgb(254,231,220)'>ک</span><span style='background-color: rgb(253,220,205)'>ز</span><span style='background-color: rgb(254,233,224)'> </span><span style='background-color: rgb(254,238,230)'>پ</span><span style='background-color: rgb(254,238,230)'>ی</span><span style='background-color: rgb(254,237,229)'>ش</span><span style='background-color: rgb(254,244,239)'> </span><span style='background-color: rgb(254,244,239)'>ب</span><span style='background-color: rgb(254,242,236)'>ی</span><span style='background-color: rgb(254,235,226)'>ر</span><span style='background-color: rgb(254,241,234)'>و</span><span style='background-color: rgb(254,241,234)'>ن</span><span style='background-color: rgb(254,243,238)'> </span><span style='background-color: rgb(255,245,240)'>ب</span><span style='background-color: rgb(254,244,239)'>ر</span><span style='background-color: rgb(254,244,239)'>ن</span><span style='background-color: rgb(255,245,240)'>د</span><span>\t\t:\t\t</span><span>ـ</span></div>"
      ],
      "text/plain": [
       "<IPython.core.display.HTML object>"
      ]
     },
     "metadata": {
      "tags": []
     },
     "output_type": "display_data"
    },
    {
     "data": {
      "text/html": [
       "<div><span style='background-color: rgb(254,243,237)'>ب</span><span style='background-color: rgb(254,243,238)'>ف</span><span style='background-color: rgb(254,244,239)'>ر</span><span style='background-color: rgb(254,243,238)'>م</span><span style='background-color: rgb(254,243,237)'>و</span><span style='background-color: rgb(254,241,234)'>د</span><span style='background-color: rgb(254,240,233)'> </span><span style='background-color: rgb(254,237,228)'>ک</span><span style='background-color: rgb(254,242,236)'>ز</span><span style='background-color: rgb(254,242,236)'> </span><span style='background-color: rgb(254,236,227)'>پ</span><span style='background-color: rgb(254,241,234)'>ی</span><span style='background-color: rgb(254,239,232)'>ش</span><span style='background-color: rgb(254,242,236)'> </span><span style='background-color: rgb(254,243,238)'>ب</span><span style='background-color: rgb(254,244,239)'>ی</span><span style='background-color: rgb(255,245,240)'>ر</span><span style='background-color: rgb(254,243,238)'>و</span><span style='background-color: rgb(254,242,236)'>ن</span><span style='background-color: rgb(254,241,235)'> </span><span style='background-color: rgb(254,244,239)'>ب</span><span style='background-color: rgb(255,245,240)'>ر</span><span style='background-color: rgb(255,245,240)'>ن</span><span style='background-color: rgb(255,245,240)'>د</span><span>\t\t:\t\t</span><span>ب</span></div>"
      ],
      "text/plain": [
       "<IPython.core.display.HTML object>"
      ]
     },
     "metadata": {
      "tags": []
     },
     "output_type": "display_data"
    },
    {
     "data": {
      "text/html": [
       "<div><span style='background-color: rgb(254,235,225)'>ب</span><span style='background-color: rgb(254,240,233)'>ف</span><span style='background-color: rgb(254,241,235)'>ر</span><span style='background-color: rgb(254,241,235)'>م</span><span style='background-color: rgb(254,243,238)'>و</span><span style='background-color: rgb(254,242,236)'>د</span><span style='background-color: rgb(254,244,239)'> </span><span style='background-color: rgb(254,243,238)'>ک</span><span style='background-color: rgb(254,243,237)'>ز</span><span style='background-color: rgb(254,239,232)'> </span><span style='background-color: rgb(254,240,233)'>پ</span><span style='background-color: rgb(254,237,228)'>ی</span><span style='background-color: rgb(254,229,218)'>ش</span><span style='background-color: rgb(254,237,229)'> </span><span style='background-color: rgb(254,243,238)'>ب</span><span style='background-color: rgb(254,243,238)'>ی</span><span style='background-color: rgb(254,243,238)'>ر</span><span style='background-color: rgb(254,244,239)'>و</span><span style='background-color: rgb(254,244,239)'>ن</span><span style='background-color: rgb(254,243,237)'> </span><span style='background-color: rgb(255,245,240)'>ب</span><span style='background-color: rgb(255,245,240)'>ر</span><span style='background-color: rgb(255,245,240)'>ن</span><span style='background-color: rgb(255,245,240)'>د</span><span>\t\t:\t\t</span><span>د</span></div>"
      ],
      "text/plain": [
       "<IPython.core.display.HTML object>"
      ]
     },
     "metadata": {
      "tags": []
     },
     "output_type": "display_data"
    },
    {
     "data": {
      "text/html": [
       "<div><span style='background-color: rgb(254,243,237)'>ب</span><span style='background-color: rgb(254,243,238)'>ف</span><span style='background-color: rgb(254,242,236)'>ر</span><span style='background-color: rgb(254,243,237)'>م</span><span style='background-color: rgb(254,241,234)'>و</span><span style='background-color: rgb(254,241,234)'>د</span><span style='background-color: rgb(254,242,236)'> </span><span style='background-color: rgb(254,242,236)'>ک</span><span style='background-color: rgb(254,238,230)'>ز</span><span style='background-color: rgb(254,231,220)'> </span><span style='background-color: rgb(254,235,225)'>پ</span><span style='background-color: rgb(254,227,215)'>ی</span><span style='background-color: rgb(254,238,230)'>ش</span><span style='background-color: rgb(254,244,239)'> </span><span style='background-color: rgb(254,244,239)'>ب</span><span style='background-color: rgb(254,243,237)'>ی</span><span style='background-color: rgb(254,243,237)'>ر</span><span style='background-color: rgb(254,243,237)'>و</span><span style='background-color: rgb(254,242,236)'>ن</span><span style='background-color: rgb(254,243,237)'> </span><span style='background-color: rgb(255,245,240)'>ب</span><span style='background-color: rgb(255,245,240)'>ر</span><span style='background-color: rgb(255,245,240)'>ن</span><span style='background-color: rgb(255,245,240)'>د</span><span>\t\t:\t\t</span><span>ز</span></div>"
      ],
      "text/plain": [
       "<IPython.core.display.HTML object>"
      ]
     },
     "metadata": {
      "tags": []
     },
     "output_type": "display_data"
    },
    {
     "data": {
      "text/html": [
       "<div><span style='background-color: rgb(254,241,235)'>ب</span><span style='background-color: rgb(254,243,238)'>ف</span><span style='background-color: rgb(254,242,236)'>ر</span><span style='background-color: rgb(254,242,236)'>م</span><span style='background-color: rgb(254,236,227)'>و</span><span style='background-color: rgb(254,236,227)'>د</span><span style='background-color: rgb(254,241,234)'> </span><span style='background-color: rgb(254,239,232)'>ک</span><span style='background-color: rgb(254,237,228)'>ز</span><span style='background-color: rgb(254,239,231)'> </span><span style='background-color: rgb(254,239,231)'>پ</span><span style='background-color: rgb(254,241,234)'>ی</span><span style='background-color: rgb(254,239,231)'>ش</span><span style='background-color: rgb(254,239,232)'> </span><span style='background-color: rgb(254,242,236)'>ب</span><span style='background-color: rgb(254,243,238)'>ی</span><span style='background-color: rgb(254,242,236)'>ر</span><span style='background-color: rgb(254,241,235)'>و</span><span style='background-color: rgb(254,242,236)'>ن</span><span style='background-color: rgb(254,239,231)'> </span><span style='background-color: rgb(254,243,238)'>ب</span><span style='background-color: rgb(254,244,239)'>ر</span><span style='background-color: rgb(254,244,239)'>ن</span><span style='background-color: rgb(255,245,240)'>د</span><span>\t\t:\t\t</span><span>ن</span></div>"
      ],
      "text/plain": [
       "<IPython.core.display.HTML object>"
      ]
     },
     "metadata": {
      "tags": []
     },
     "output_type": "display_data"
    },
    {
     "data": {
      "text/html": [
       "<div><span style='background-color: rgb(254,242,236)'>ب</span><span style='background-color: rgb(255,245,240)'>ف</span><span style='background-color: rgb(255,245,240)'>ر</span><span style='background-color: rgb(254,244,239)'>م</span><span style='background-color: rgb(255,245,240)'>و</span><span style='background-color: rgb(254,244,239)'>د</span><span style='background-color: rgb(254,243,237)'> </span><span style='background-color: rgb(254,241,234)'>ک</span><span style='background-color: rgb(254,238,230)'>ز</span><span style='background-color: rgb(254,235,226)'> </span><span style='background-color: rgb(254,241,234)'>پ</span><span style='background-color: rgb(254,236,227)'>ی</span><span style='background-color: rgb(254,229,218)'>ش</span><span style='background-color: rgb(254,237,229)'> </span><span style='background-color: rgb(254,241,235)'>ب</span><span style='background-color: rgb(254,241,234)'>ی</span><span style='background-color: rgb(254,239,232)'>ر</span><span style='background-color: rgb(254,237,228)'>و</span><span style='background-color: rgb(254,239,231)'>ن</span><span style='background-color: rgb(254,239,232)'> </span><span style='background-color: rgb(254,243,238)'>ب</span><span style='background-color: rgb(254,244,239)'>ر</span><span style='background-color: rgb(254,244,239)'>ن</span><span style='background-color: rgb(254,243,237)'>د</span><span>\t\t:\t\t</span><span>د</span></div>"
      ],
      "text/plain": [
       "<IPython.core.display.HTML object>"
      ]
     },
     "metadata": {
      "tags": []
     },
     "output_type": "display_data"
    },
    {
     "data": {
      "text/html": [
       "<div><span style='background-color: rgb(254,242,236)'>ب</span><span style='background-color: rgb(254,244,239)'>ف</span><span style='background-color: rgb(254,244,239)'>ر</span><span style='background-color: rgb(255,245,240)'>م</span><span style='background-color: rgb(254,243,238)'>و</span><span style='background-color: rgb(254,242,236)'>د</span><span style='background-color: rgb(254,240,233)'> </span><span style='background-color: rgb(254,237,229)'>ک</span><span style='background-color: rgb(253,213,195)'>ز</span><span style='background-color: rgb(254,230,219)'> </span><span style='background-color: rgb(254,241,234)'>پ</span><span style='background-color: rgb(254,229,218)'>ی</span><span style='background-color: rgb(254,235,226)'>ش</span><span style='background-color: rgb(254,244,239)'> </span><span style='background-color: rgb(254,244,239)'>ب</span><span style='background-color: rgb(254,243,237)'>ی</span><span style='background-color: rgb(254,242,236)'>ر</span><span style='background-color: rgb(254,243,237)'>و</span><span style='background-color: rgb(254,243,237)'>ن</span><span style='background-color: rgb(254,241,235)'> </span><span style='background-color: rgb(254,244,239)'>ب</span><span style='background-color: rgb(254,244,239)'>ر</span><span style='background-color: rgb(254,244,239)'>ن</span><span style='background-color: rgb(255,245,240)'>د</span><span>\t\t:\t\t</span><span>ـ</span></div>"
      ],
      "text/plain": [
       "<IPython.core.display.HTML object>"
      ]
     },
     "metadata": {
      "tags": []
     },
     "output_type": "display_data"
    },
    {
     "data": {
      "text/html": [
       "<div><span style='background-color: rgb(254,243,237)'>ب</span><span style='background-color: rgb(254,241,234)'>ف</span><span style='background-color: rgb(254,242,236)'>ر</span><span style='background-color: rgb(254,242,236)'>م</span><span style='background-color: rgb(254,244,239)'>و</span><span style='background-color: rgb(254,243,237)'>د</span><span style='background-color: rgb(255,245,240)'> </span><span style='background-color: rgb(254,244,239)'>ک</span><span style='background-color: rgb(255,245,240)'>ز</span><span style='background-color: rgb(254,244,239)'> </span><span style='background-color: rgb(254,243,237)'>پ</span><span style='background-color: rgb(254,243,238)'>ی</span><span style='background-color: rgb(254,243,238)'>ش</span><span style='background-color: rgb(254,243,238)'> </span><span style='background-color: rgb(254,244,239)'>ب</span><span style='background-color: rgb(255,245,240)'>ی</span><span style='background-color: rgb(255,245,240)'>ر</span><span style='background-color: rgb(255,245,240)'>و</span><span style='background-color: rgb(254,244,239)'>ن</span><span style='background-color: rgb(254,244,239)'> </span><span style='background-color: rgb(254,244,239)'>ب</span><span style='background-color: rgb(255,245,240)'>ر</span><span style='background-color: rgb(255,245,240)'>ن</span><span style='background-color: rgb(255,245,240)'>د</span><span>\t\t:\t\t</span><span>ب</span></div>"
      ],
      "text/plain": [
       "<IPython.core.display.HTML object>"
      ]
     },
     "metadata": {
      "tags": []
     },
     "output_type": "display_data"
    },
    {
     "data": {
      "text/html": [
       "<div><span style='background-color: rgb(254,234,224)'>ب</span><span style='background-color: rgb(254,236,227)'>ف</span><span style='background-color: rgb(254,239,232)'>ر</span><span style='background-color: rgb(254,241,234)'>م</span><span style='background-color: rgb(254,244,239)'>و</span><span style='background-color: rgb(254,243,238)'>د</span><span style='background-color: rgb(254,244,239)'> </span><span style='background-color: rgb(254,243,238)'>ک</span><span style='background-color: rgb(254,242,236)'>ز</span><span style='background-color: rgb(254,241,235)'> </span><span style='background-color: rgb(254,243,237)'>پ</span><span style='background-color: rgb(254,242,236)'>ی</span><span style='background-color: rgb(254,237,228)'>ش</span><span style='background-color: rgb(254,238,230)'> </span><span style='background-color: rgb(254,243,237)'>ب</span><span style='background-color: rgb(254,243,238)'>ی</span><span style='background-color: rgb(254,243,238)'>ر</span><span style='background-color: rgb(254,243,237)'>و</span><span style='background-color: rgb(254,241,235)'>ن</span><span style='background-color: rgb(254,241,235)'> </span><span style='background-color: rgb(254,244,239)'>ب</span><span style='background-color: rgb(254,244,239)'>ر</span><span style='background-color: rgb(255,245,240)'>ن</span><span style='background-color: rgb(254,244,239)'>د</span><span>\t\t:\t\t</span><span>ا</span></div>"
      ],
      "text/plain": [
       "<IPython.core.display.HTML object>"
      ]
     },
     "metadata": {
      "tags": []
     },
     "output_type": "display_data"
    },
    {
     "data": {
      "text/html": [
       "<div><span style='background-color: rgb(254,237,228)'>ب</span><span style='background-color: rgb(254,243,238)'>ف</span><span style='background-color: rgb(254,240,233)'>ر</span><span style='background-color: rgb(254,243,237)'>م</span><span style='background-color: rgb(254,241,234)'>و</span><span style='background-color: rgb(254,242,236)'>د</span><span style='background-color: rgb(254,243,238)'> </span><span style='background-color: rgb(254,243,238)'>ک</span><span style='background-color: rgb(254,229,217)'>ز</span><span style='background-color: rgb(254,230,219)'> </span><span style='background-color: rgb(254,229,218)'>پ</span><span style='background-color: rgb(254,233,223)'>ی</span><span style='background-color: rgb(254,235,226)'>ش</span><span style='background-color: rgb(254,241,235)'> </span><span style='background-color: rgb(254,237,228)'>ب</span><span style='background-color: rgb(254,236,227)'>ی</span><span style='background-color: rgb(254,238,230)'>ر</span><span style='background-color: rgb(254,241,235)'>و</span><span style='background-color: rgb(254,244,239)'>ن</span><span style='background-color: rgb(255,245,240)'> </span><span style='background-color: rgb(255,245,240)'>ب</span><span style='background-color: rgb(255,245,240)'>ر</span><span style='background-color: rgb(255,245,240)'>ن</span><span style='background-color: rgb(255,245,240)'>د</span><span>\t\t:\t\t</span><span>ـ</span></div>"
      ],
      "text/plain": [
       "<IPython.core.display.HTML object>"
      ]
     },
     "metadata": {
      "tags": []
     },
     "output_type": "display_data"
    },
    {
     "data": {
      "text/html": [
       "<div><span style='background-color: rgb(254,243,238)'>ب</span><span style='background-color: rgb(254,242,236)'>ف</span><span style='background-color: rgb(254,243,237)'>ر</span><span style='background-color: rgb(254,241,235)'>م</span><span style='background-color: rgb(254,242,236)'>و</span><span style='background-color: rgb(254,241,234)'>د</span><span style='background-color: rgb(254,243,237)'> </span><span style='background-color: rgb(254,241,234)'>ک</span><span style='background-color: rgb(254,244,239)'>ز</span><span style='background-color: rgb(254,243,237)'> </span><span style='background-color: rgb(254,239,231)'>پ</span><span style='background-color: rgb(254,240,233)'>ی</span><span style='background-color: rgb(254,243,237)'>ش</span><span style='background-color: rgb(254,243,237)'> </span><span style='background-color: rgb(254,244,239)'>ب</span><span style='background-color: rgb(255,245,240)'>ی</span><span style='background-color: rgb(255,245,240)'>ر</span><span style='background-color: rgb(254,243,238)'>و</span><span style='background-color: rgb(254,241,235)'>ن</span><span style='background-color: rgb(254,239,232)'> </span><span style='background-color: rgb(254,244,239)'>ب</span><span style='background-color: rgb(255,245,240)'>ر</span><span style='background-color: rgb(255,245,240)'>ن</span><span style='background-color: rgb(255,245,240)'>د</span><span>\t\t:\t\t</span><span>ن</span></div>"
      ],
      "text/plain": [
       "<IPython.core.display.HTML object>"
      ]
     },
     "metadata": {
      "tags": []
     },
     "output_type": "display_data"
    },
    {
     "data": {
      "text/html": [
       "<div><span style='background-color: rgb(254,239,232)'>ب</span><span style='background-color: rgb(254,242,236)'>ف</span><span style='background-color: rgb(254,239,232)'>ر</span><span style='background-color: rgb(254,239,232)'>م</span><span style='background-color: rgb(254,243,238)'>و</span><span style='background-color: rgb(254,244,239)'>د</span><span style='background-color: rgb(254,242,236)'> </span><span style='background-color: rgb(254,241,234)'>ک</span><span style='background-color: rgb(254,237,229)'>ز</span><span style='background-color: rgb(254,237,228)'> </span><span style='background-color: rgb(254,240,233)'>پ</span><span style='background-color: rgb(254,239,231)'>ی</span><span style='background-color: rgb(254,237,228)'>ش</span><span style='background-color: rgb(254,241,235)'> </span><span style='background-color: rgb(254,243,237)'>ب</span><span style='background-color: rgb(254,243,237)'>ی</span><span style='background-color: rgb(254,243,237)'>ر</span><span style='background-color: rgb(254,241,234)'>و</span><span style='background-color: rgb(254,243,237)'>ن</span><span style='background-color: rgb(254,244,239)'> </span><span style='background-color: rgb(255,245,240)'>ب</span><span style='background-color: rgb(255,245,240)'>ر</span><span style='background-color: rgb(255,245,240)'>ن</span><span style='background-color: rgb(255,245,240)'>د</span><span>\t\t:\t\t</span><span>ا</span></div>"
      ],
      "text/plain": [
       "<IPython.core.display.HTML object>"
      ]
     },
     "metadata": {
      "tags": []
     },
     "output_type": "display_data"
    },
    {
     "data": {
      "text/html": [
       "<div><span style='background-color: rgb(254,241,235)'>ب</span><span style='background-color: rgb(254,243,237)'>ف</span><span style='background-color: rgb(254,243,237)'>ر</span><span style='background-color: rgb(254,243,237)'>م</span><span style='background-color: rgb(254,240,233)'>و</span><span style='background-color: rgb(254,239,232)'>د</span><span style='background-color: rgb(254,241,235)'> </span><span style='background-color: rgb(254,241,235)'>ک</span><span style='background-color: rgb(254,243,238)'>ز</span><span style='background-color: rgb(254,243,237)'> </span><span style='background-color: rgb(254,243,237)'>پ</span><span style='background-color: rgb(254,244,239)'>ی</span><span style='background-color: rgb(254,244,239)'>ش</span><span style='background-color: rgb(254,243,238)'> </span><span style='background-color: rgb(254,243,238)'>ب</span><span style='background-color: rgb(254,242,236)'>ی</span><span style='background-color: rgb(254,241,235)'>ر</span><span style='background-color: rgb(254,241,234)'>و</span><span style='background-color: rgb(254,243,237)'>ن</span><span style='background-color: rgb(254,241,235)'> </span><span style='background-color: rgb(255,245,240)'>ب</span><span style='background-color: rgb(255,245,240)'>ر</span><span style='background-color: rgb(255,245,240)'>ن</span><span style='background-color: rgb(255,245,240)'>د</span><span>\t\t:\t\t</span><span>م</span></div>"
      ],
      "text/plain": [
       "<IPython.core.display.HTML object>"
      ]
     },
     "metadata": {
      "tags": []
     },
     "output_type": "display_data"
    },
    {
     "data": {
      "text/html": [
       "<div><span style='background-color: rgb(254,241,234)'>ب</span><span style='background-color: rgb(254,243,237)'>ف</span><span style='background-color: rgb(254,243,237)'>ر</span><span style='background-color: rgb(254,244,239)'>م</span><span style='background-color: rgb(254,244,239)'>و</span><span style='background-color: rgb(254,244,239)'>د</span><span style='background-color: rgb(255,245,240)'> </span><span style='background-color: rgb(254,243,238)'>ک</span><span style='background-color: rgb(254,237,229)'>ز</span><span style='background-color: rgb(254,242,236)'> </span><span style='background-color: rgb(254,241,235)'>پ</span><span style='background-color: rgb(254,239,232)'>ی</span><span style='background-color: rgb(253,221,206)'>ش</span><span style='background-color: rgb(254,235,225)'> </span><span style='background-color: rgb(254,241,234)'>ب</span><span style='background-color: rgb(254,241,234)'>ی</span><span style='background-color: rgb(254,243,237)'>ر</span><span style='background-color: rgb(254,242,236)'>و</span><span style='background-color: rgb(254,243,237)'>ن</span><span style='background-color: rgb(254,243,238)'> </span><span style='background-color: rgb(255,245,240)'>ب</span><span style='background-color: rgb(254,244,239)'>ر</span><span style='background-color: rgb(254,244,239)'>ن</span><span style='background-color: rgb(255,245,240)'>د</span><span>\t\t:\t\t</span><span>و</span></div>"
      ],
      "text/plain": [
       "<IPython.core.display.HTML object>"
      ]
     },
     "metadata": {
      "tags": []
     },
     "output_type": "display_data"
    },
    {
     "data": {
      "text/html": [
       "<div><span style='background-color: rgb(254,229,217)'>ب</span><span style='background-color: rgb(254,227,214)'>ف</span><span style='background-color: rgb(254,225,212)'>ر</span><span style='background-color: rgb(254,231,220)'>م</span><span style='background-color: rgb(254,241,235)'>و</span><span style='background-color: rgb(254,241,234)'>د</span><span style='background-color: rgb(254,243,237)'> </span><span style='background-color: rgb(254,241,235)'>ک</span><span style='background-color: rgb(254,238,230)'>ز</span><span style='background-color: rgb(254,241,234)'> </span><span style='background-color: rgb(254,241,235)'>پ</span><span style='background-color: rgb(254,243,237)'>ی</span><span style='background-color: rgb(254,237,228)'>ش</span><span style='background-color: rgb(254,237,229)'> </span><span style='background-color: rgb(254,243,238)'>ب</span><span style='background-color: rgb(254,243,238)'>ی</span><span style='background-color: rgb(254,243,238)'>ر</span><span style='background-color: rgb(254,244,239)'>و</span><span style='background-color: rgb(254,243,238)'>ن</span><span style='background-color: rgb(254,244,239)'> </span><span style='background-color: rgb(255,245,240)'>ب</span><span style='background-color: rgb(255,245,240)'>ر</span><span style='background-color: rgb(255,245,240)'>ن</span><span style='background-color: rgb(255,245,240)'>د</span><span>\t\t:\t\t</span><span>ر</span></div>"
      ],
      "text/plain": [
       "<IPython.core.display.HTML object>"
      ]
     },
     "metadata": {
      "tags": []
     },
     "output_type": "display_data"
    },
    {
     "data": {
      "text/html": [
       "<div><span style='background-color: rgb(254,244,239)'>ب</span><span style='background-color: rgb(255,245,240)'>ف</span><span style='background-color: rgb(255,245,240)'>ر</span><span style='background-color: rgb(255,245,240)'>م</span><span style='background-color: rgb(255,245,240)'>و</span><span style='background-color: rgb(254,243,238)'>د</span><span style='background-color: rgb(254,244,239)'> </span><span style='background-color: rgb(254,239,231)'>ک</span><span style='background-color: rgb(252,182,156)'>ز</span><span style='background-color: rgb(252,202,182)'> </span><span style='background-color: rgb(254,239,232)'>پ</span><span style='background-color: rgb(254,241,234)'>ی</span><span style='background-color: rgb(254,231,220)'>ش</span><span style='background-color: rgb(254,241,235)'> </span><span style='background-color: rgb(254,243,237)'>ب</span><span style='background-color: rgb(254,242,236)'>ی</span><span style='background-color: rgb(254,235,225)'>ر</span><span style='background-color: rgb(254,237,228)'>و</span><span style='background-color: rgb(254,242,236)'>ن</span><span style='background-color: rgb(254,244,239)'> </span><span style='background-color: rgb(255,245,240)'>ب</span><span style='background-color: rgb(255,245,240)'>ر</span><span style='background-color: rgb(255,245,240)'>ن</span><span style='background-color: rgb(255,245,240)'>د</span><span>\t\t:\t\t</span><span>ـ</span></div>"
      ],
      "text/plain": [
       "<IPython.core.display.HTML object>"
      ]
     },
     "metadata": {
      "tags": []
     },
     "output_type": "display_data"
    },
    {
     "data": {
      "text/html": [
       "<div><span style='background-color: rgb(254,243,237)'>ب</span><span style='background-color: rgb(254,241,235)'>ف</span><span style='background-color: rgb(254,242,236)'>ر</span><span style='background-color: rgb(254,243,237)'>م</span><span style='background-color: rgb(254,244,239)'>و</span><span style='background-color: rgb(254,242,236)'>د</span><span style='background-color: rgb(254,244,239)'> </span><span style='background-color: rgb(254,243,237)'>ک</span><span style='background-color: rgb(255,245,240)'>ز</span><span style='background-color: rgb(255,245,240)'> </span><span style='background-color: rgb(254,242,236)'>پ</span><span style='background-color: rgb(254,242,236)'>ی</span><span style='background-color: rgb(254,243,237)'>ش</span><span style='background-color: rgb(254,243,237)'> </span><span style='background-color: rgb(254,244,239)'>ب</span><span style='background-color: rgb(254,244,239)'>ی</span><span style='background-color: rgb(254,244,239)'>ر</span><span style='background-color: rgb(254,243,237)'>و</span><span style='background-color: rgb(254,241,234)'>ن</span><span style='background-color: rgb(254,241,234)'> </span><span style='background-color: rgb(254,240,233)'>ب</span><span style='background-color: rgb(254,244,239)'>ر</span><span style='background-color: rgb(255,245,240)'>ن</span><span style='background-color: rgb(255,245,240)'>د</span><span>\t\t:\t\t</span><span>پ</span></div>"
      ],
      "text/plain": [
       "<IPython.core.display.HTML object>"
      ]
     },
     "metadata": {
      "tags": []
     },
     "output_type": "display_data"
    },
    {
     "data": {
      "text/html": [
       "<div><span style='background-color: rgb(254,227,215)'>ب</span><span style='background-color: rgb(254,235,226)'>ف</span><span style='background-color: rgb(254,240,233)'>ر</span><span style='background-color: rgb(254,241,235)'>م</span><span style='background-color: rgb(254,241,234)'>و</span><span style='background-color: rgb(254,241,235)'>د</span><span style='background-color: rgb(254,241,234)'> </span><span style='background-color: rgb(254,242,236)'>ک</span><span style='background-color: rgb(254,237,229)'>ز</span><span style='background-color: rgb(254,237,229)'> </span><span style='background-color: rgb(255,245,240)'>پ</span><span style='background-color: rgb(255,245,240)'>ی</span><span style='background-color: rgb(254,243,237)'>ش</span><span style='background-color: rgb(254,243,238)'> </span><span style='background-color: rgb(254,244,239)'>ب</span><span style='background-color: rgb(254,244,239)'>ی</span><span style='background-color: rgb(254,243,238)'>ر</span><span style='background-color: rgb(254,240,233)'>و</span><span style='background-color: rgb(254,237,229)'>ن</span><span style='background-color: rgb(254,242,236)'> </span><span style='background-color: rgb(254,244,239)'>ب</span><span style='background-color: rgb(254,242,236)'>ر</span><span style='background-color: rgb(254,243,238)'>ن</span><span style='background-color: rgb(255,245,240)'>د</span><span>\t\t:\t\t</span><span>ه</span></div>"
      ],
      "text/plain": [
       "<IPython.core.display.HTML object>"
      ]
     },
     "metadata": {
      "tags": []
     },
     "output_type": "display_data"
    },
    {
     "data": {
      "text/html": [
       "<div><span style='background-color: rgb(254,234,224)'>ب</span><span style='background-color: rgb(254,235,225)'>ف</span><span style='background-color: rgb(254,235,226)'>ر</span><span style='background-color: rgb(254,229,217)'>م</span><span style='background-color: rgb(254,240,233)'>و</span><span style='background-color: rgb(254,231,220)'>د</span><span style='background-color: rgb(254,241,234)'> </span><span style='background-color: rgb(254,243,238)'>ک</span><span style='background-color: rgb(254,244,239)'>ز</span><span style='background-color: rgb(254,244,239)'> </span><span style='background-color: rgb(255,245,240)'>پ</span><span style='background-color: rgb(254,243,238)'>ی</span><span style='background-color: rgb(254,242,236)'>ش</span><span style='background-color: rgb(254,244,239)'> </span><span style='background-color: rgb(255,245,240)'>ب</span><span style='background-color: rgb(255,245,240)'>ی</span><span style='background-color: rgb(255,245,240)'>ر</span><span style='background-color: rgb(254,244,239)'>و</span><span style='background-color: rgb(254,244,239)'>ن</span><span style='background-color: rgb(255,245,240)'> </span><span style='background-color: rgb(255,245,240)'>ب</span><span style='background-color: rgb(254,244,239)'>ر</span><span style='background-color: rgb(254,244,239)'>ن</span><span style='background-color: rgb(254,244,239)'>د</span><span>\t\t:\t\t</span><span>ل</span></div>"
      ],
      "text/plain": [
       "<IPython.core.display.HTML object>"
      ]
     },
     "metadata": {
      "tags": []
     },
     "output_type": "display_data"
    },
    {
     "data": {
      "text/html": [
       "<div><span style='background-color: rgb(254,241,235)'>ب</span><span style='background-color: rgb(254,242,236)'>ف</span><span style='background-color: rgb(254,243,237)'>ر</span><span style='background-color: rgb(254,244,239)'>م</span><span style='background-color: rgb(255,245,240)'>و</span><span style='background-color: rgb(255,245,240)'>د</span><span style='background-color: rgb(255,245,240)'> </span><span style='background-color: rgb(255,245,240)'>ک</span><span style='background-color: rgb(254,244,239)'>ز</span><span style='background-color: rgb(254,243,238)'> </span><span style='background-color: rgb(254,241,235)'>پ</span><span style='background-color: rgb(254,243,238)'>ی</span><span style='background-color: rgb(254,243,237)'>ش</span><span style='background-color: rgb(254,244,239)'> </span><span style='background-color: rgb(255,245,240)'>ب</span><span style='background-color: rgb(255,245,240)'>ی</span><span style='background-color: rgb(255,245,240)'>ر</span><span style='background-color: rgb(254,244,239)'>و</span><span style='background-color: rgb(255,245,240)'>ن</span><span style='background-color: rgb(254,244,239)'> </span><span style='background-color: rgb(255,245,240)'>ب</span><span style='background-color: rgb(254,243,237)'>ر</span><span style='background-color: rgb(254,240,233)'>ن</span><span style='background-color: rgb(254,243,237)'>د</span><span>\t\t:\t\t</span><span>و</span></div>"
      ],
      "text/plain": [
       "<IPython.core.display.HTML object>"
      ]
     },
     "metadata": {
      "tags": []
     },
     "output_type": "display_data"
    },
    {
     "data": {
      "text/html": [
       "<div><span style='background-color: rgb(254,243,238)'>ب</span><span style='background-color: rgb(254,243,237)'>ف</span><span style='background-color: rgb(254,244,239)'>ر</span><span style='background-color: rgb(254,244,239)'>م</span><span style='background-color: rgb(254,244,239)'>و</span><span style='background-color: rgb(254,244,239)'>د</span><span style='background-color: rgb(255,245,240)'> </span><span style='background-color: rgb(255,245,240)'>ک</span><span style='background-color: rgb(254,243,237)'>ز</span><span style='background-color: rgb(254,243,238)'> </span><span style='background-color: rgb(255,245,240)'>پ</span><span style='background-color: rgb(255,245,240)'>ی</span><span style='background-color: rgb(254,242,236)'>ش</span><span style='background-color: rgb(254,244,239)'> </span><span style='background-color: rgb(255,245,240)'>ب</span><span style='background-color: rgb(254,244,239)'>ی</span><span style='background-color: rgb(254,239,231)'>ر</span><span style='background-color: rgb(254,242,236)'>و</span><span style='background-color: rgb(254,243,237)'>ن</span><span style='background-color: rgb(254,244,239)'> </span><span style='background-color: rgb(255,245,240)'>ب</span><span style='background-color: rgb(254,243,238)'>ر</span><span style='background-color: rgb(252,198,175)'>ن</span><span style='background-color: rgb(253,219,203)'>د</span><span>\t\t:\t\t</span><span>ا</span></div>"
      ],
      "text/plain": [
       "<IPython.core.display.HTML object>"
      ]
     },
     "metadata": {
      "tags": []
     },
     "output_type": "display_data"
    },
    {
     "name": "stdout",
     "output_type": "stream",
     "text": [
      "Test input:\n",
      "گرین کودک خرد خوی پدر  ****  نگیرد شو خسروی دادگر\n",
      "Seq2Seq output:\n",
      "که این راز با مو بدین بر به سر\n",
      "Seq2Seq with attention output:\n",
      "به با ار او را به پیوند بر\n",
      "Weights of attention:\n"
     ]
    },
    {
     "data": {
      "text/html": [
       "<div><span style='background-color: rgb(254,243,238)'>گ</span><span style='background-color: rgb(254,243,238)'>ر</span><span style='background-color: rgb(254,241,234)'>ی</span><span style='background-color: rgb(254,243,238)'>ن</span><span style='background-color: rgb(254,244,239)'> </span><span style='background-color: rgb(255,245,240)'>ک</span><span style='background-color: rgb(254,244,239)'>و</span><span style='background-color: rgb(254,244,239)'>د</span><span style='background-color: rgb(254,241,234)'>ک</span><span style='background-color: rgb(255,245,240)'> </span><span style='background-color: rgb(254,244,239)'>خ</span><span style='background-color: rgb(255,245,240)'>ر</span><span style='background-color: rgb(255,245,240)'>د</span><span style='background-color: rgb(255,245,240)'> </span><span style='background-color: rgb(255,245,240)'>خ</span><span style='background-color: rgb(255,245,240)'>و</span><span style='background-color: rgb(255,245,240)'>ی</span><span style='background-color: rgb(254,244,239)'> </span><span style='background-color: rgb(255,245,240)'>پ</span><span style='background-color: rgb(254,243,237)'>د</span><span style='background-color: rgb(254,244,239)'>ر</span><span>\t\t:\t\t</span><span>ب</span></div>"
      ],
      "text/plain": [
       "<IPython.core.display.HTML object>"
      ]
     },
     "metadata": {
      "tags": []
     },
     "output_type": "display_data"
    },
    {
     "data": {
      "text/html": [
       "<div><span style='background-color: rgb(254,243,238)'>گ</span><span style='background-color: rgb(254,242,236)'>ر</span><span style='background-color: rgb(254,241,234)'>ی</span><span style='background-color: rgb(254,241,235)'>ن</span><span style='background-color: rgb(254,242,236)'> </span><span style='background-color: rgb(254,243,238)'>ک</span><span style='background-color: rgb(254,241,234)'>و</span><span style='background-color: rgb(254,238,230)'>د</span><span style='background-color: rgb(254,242,236)'>ک</span><span style='background-color: rgb(254,243,238)'> </span><span style='background-color: rgb(254,241,234)'>خ</span><span style='background-color: rgb(254,243,238)'>ر</span><span style='background-color: rgb(254,243,238)'>د</span><span style='background-color: rgb(254,243,237)'> </span><span style='background-color: rgb(254,243,238)'>خ</span><span style='background-color: rgb(254,243,237)'>و</span><span style='background-color: rgb(254,243,238)'>ی</span><span style='background-color: rgb(254,242,236)'> </span><span style='background-color: rgb(255,245,240)'>پ</span><span style='background-color: rgb(255,245,240)'>د</span><span style='background-color: rgb(255,245,240)'>ر</span><span>\t\t:\t\t</span><span>ه</span></div>"
      ],
      "text/plain": [
       "<IPython.core.display.HTML object>"
      ]
     },
     "metadata": {
      "tags": []
     },
     "output_type": "display_data"
    },
    {
     "data": {
      "text/html": [
       "<div><span style='background-color: rgb(254,240,233)'>گ</span><span style='background-color: rgb(254,240,233)'>ر</span><span style='background-color: rgb(254,240,233)'>ی</span><span style='background-color: rgb(254,236,227)'>ن</span><span style='background-color: rgb(254,229,217)'> </span><span style='background-color: rgb(254,224,210)'>ک</span><span style='background-color: rgb(254,228,216)'>و</span><span style='background-color: rgb(254,239,232)'>د</span><span style='background-color: rgb(254,239,232)'>ک</span><span style='background-color: rgb(254,237,228)'> </span><span style='background-color: rgb(254,243,238)'>خ</span><span style='background-color: rgb(254,244,239)'>ر</span><span style='background-color: rgb(254,242,236)'>د</span><span style='background-color: rgb(254,239,232)'> </span><span style='background-color: rgb(254,236,227)'>خ</span><span style='background-color: rgb(254,241,234)'>و</span><span style='background-color: rgb(254,243,238)'>ی</span><span style='background-color: rgb(254,243,238)'> </span><span style='background-color: rgb(255,245,240)'>پ</span><span style='background-color: rgb(254,244,239)'>د</span><span style='background-color: rgb(254,244,239)'>ر</span><span>\t\t:\t\t</span><span>ـ</span></div>"
      ],
      "text/plain": [
       "<IPython.core.display.HTML object>"
      ]
     },
     "metadata": {
      "tags": []
     },
     "output_type": "display_data"
    },
    {
     "data": {
      "text/html": [
       "<div><span style='background-color: rgb(254,243,237)'>گ</span><span style='background-color: rgb(254,243,237)'>ر</span><span style='background-color: rgb(254,241,235)'>ی</span><span style='background-color: rgb(254,241,235)'>ن</span><span style='background-color: rgb(254,242,236)'> </span><span style='background-color: rgb(254,243,237)'>ک</span><span style='background-color: rgb(254,240,233)'>و</span><span style='background-color: rgb(254,241,234)'>د</span><span style='background-color: rgb(254,240,233)'>ک</span><span style='background-color: rgb(254,243,237)'> </span><span style='background-color: rgb(254,243,237)'>خ</span><span style='background-color: rgb(254,244,239)'>ر</span><span style='background-color: rgb(255,245,240)'>د</span><span style='background-color: rgb(254,244,239)'> </span><span style='background-color: rgb(254,244,239)'>خ</span><span style='background-color: rgb(254,241,235)'>و</span><span style='background-color: rgb(254,242,236)'>ی</span><span style='background-color: rgb(254,240,233)'> </span><span style='background-color: rgb(254,244,239)'>پ</span><span style='background-color: rgb(255,245,240)'>د</span><span style='background-color: rgb(255,245,240)'>ر</span><span>\t\t:\t\t</span><span>ب</span></div>"
      ],
      "text/plain": [
       "<IPython.core.display.HTML object>"
      ]
     },
     "metadata": {
      "tags": []
     },
     "output_type": "display_data"
    },
    {
     "data": {
      "text/html": [
       "<div><span style='background-color: rgb(254,242,236)'>گ</span><span style='background-color: rgb(254,243,238)'>ر</span><span style='background-color: rgb(254,243,238)'>ی</span><span style='background-color: rgb(254,244,239)'>ن</span><span style='background-color: rgb(254,243,238)'> </span><span style='background-color: rgb(254,241,235)'>ک</span><span style='background-color: rgb(254,236,227)'>و</span><span style='background-color: rgb(254,239,232)'>د</span><span style='background-color: rgb(254,239,232)'>ک</span><span style='background-color: rgb(254,238,230)'> </span><span style='background-color: rgb(254,238,230)'>خ</span><span style='background-color: rgb(254,243,237)'>ر</span><span style='background-color: rgb(254,243,238)'>د</span><span style='background-color: rgb(254,243,238)'> </span><span style='background-color: rgb(254,243,237)'>خ</span><span style='background-color: rgb(254,243,238)'>و</span><span style='background-color: rgb(254,243,238)'>ی</span><span style='background-color: rgb(254,243,237)'> </span><span style='background-color: rgb(255,245,240)'>پ</span><span style='background-color: rgb(255,245,240)'>د</span><span style='background-color: rgb(255,245,240)'>ر</span><span>\t\t:\t\t</span><span>ا</span></div>"
      ],
      "text/plain": [
       "<IPython.core.display.HTML object>"
      ]
     },
     "metadata": {
      "tags": []
     },
     "output_type": "display_data"
    },
    {
     "data": {
      "text/html": [
       "<div><span style='background-color: rgb(254,239,232)'>گ</span><span style='background-color: rgb(254,239,231)'>ر</span><span style='background-color: rgb(254,238,230)'>ی</span><span style='background-color: rgb(254,241,234)'>ن</span><span style='background-color: rgb(254,243,237)'> </span><span style='background-color: rgb(254,241,235)'>ک</span><span style='background-color: rgb(254,232,222)'>و</span><span style='background-color: rgb(254,233,223)'>د</span><span style='background-color: rgb(254,238,230)'>ک</span><span style='background-color: rgb(254,237,229)'> </span><span style='background-color: rgb(254,241,234)'>خ</span><span style='background-color: rgb(254,243,238)'>ر</span><span style='background-color: rgb(254,241,235)'>د</span><span style='background-color: rgb(254,240,233)'> </span><span style='background-color: rgb(254,241,235)'>خ</span><span style='background-color: rgb(254,241,235)'>و</span><span style='background-color: rgb(254,241,234)'>ی</span><span style='background-color: rgb(254,241,234)'> </span><span style='background-color: rgb(254,244,239)'>پ</span><span style='background-color: rgb(255,245,240)'>د</span><span style='background-color: rgb(255,245,240)'>ر</span><span>\t\t:\t\t</span><span>ـ</span></div>"
      ],
      "text/plain": [
       "<IPython.core.display.HTML object>"
      ]
     },
     "metadata": {
      "tags": []
     },
     "output_type": "display_data"
    },
    {
     "data": {
      "text/html": [
       "<div><span style='background-color: rgb(254,243,238)'>گ</span><span style='background-color: rgb(254,243,237)'>ر</span><span style='background-color: rgb(254,240,233)'>ی</span><span style='background-color: rgb(254,242,236)'>ن</span><span style='background-color: rgb(254,241,234)'> </span><span style='background-color: rgb(254,241,234)'>ک</span><span style='background-color: rgb(254,241,234)'>و</span><span style='background-color: rgb(254,241,234)'>د</span><span style='background-color: rgb(254,237,228)'>ک</span><span style='background-color: rgb(254,243,238)'> </span><span style='background-color: rgb(254,243,237)'>خ</span><span style='background-color: rgb(254,243,237)'>ر</span><span style='background-color: rgb(254,244,239)'>د</span><span style='background-color: rgb(254,244,239)'> </span><span style='background-color: rgb(254,243,238)'>خ</span><span style='background-color: rgb(254,239,231)'>و</span><span style='background-color: rgb(254,240,233)'>ی</span><span style='background-color: rgb(254,237,228)'> </span><span style='background-color: rgb(254,243,238)'>پ</span><span style='background-color: rgb(254,244,239)'>د</span><span style='background-color: rgb(255,245,240)'>ر</span><span>\t\t:\t\t</span><span>ا</span></div>"
      ],
      "text/plain": [
       "<IPython.core.display.HTML object>"
      ]
     },
     "metadata": {
      "tags": []
     },
     "output_type": "display_data"
    },
    {
     "data": {
      "text/html": [
       "<div><span style='background-color: rgb(254,241,234)'>گ</span><span style='background-color: rgb(254,237,229)'>ر</span><span style='background-color: rgb(254,239,231)'>ی</span><span style='background-color: rgb(254,241,234)'>ن</span><span style='background-color: rgb(254,243,237)'> </span><span style='background-color: rgb(254,242,236)'>ک</span><span style='background-color: rgb(254,240,233)'>و</span><span style='background-color: rgb(254,240,233)'>د</span><span style='background-color: rgb(254,243,237)'>ک</span><span style='background-color: rgb(254,243,237)'> </span><span style='background-color: rgb(254,243,237)'>خ</span><span style='background-color: rgb(254,241,234)'>ر</span><span style='background-color: rgb(254,243,238)'>د</span><span style='background-color: rgb(254,243,237)'> </span><span style='background-color: rgb(254,244,239)'>خ</span><span style='background-color: rgb(254,243,237)'>و</span><span style='background-color: rgb(254,239,232)'>ی</span><span style='background-color: rgb(254,238,230)'> </span><span style='background-color: rgb(254,244,239)'>پ</span><span style='background-color: rgb(254,243,238)'>د</span><span style='background-color: rgb(254,243,238)'>ر</span><span>\t\t:\t\t</span><span>ر</span></div>"
      ],
      "text/plain": [
       "<IPython.core.display.HTML object>"
      ]
     },
     "metadata": {
      "tags": []
     },
     "output_type": "display_data"
    },
    {
     "data": {
      "text/html": [
       "<div><span style='background-color: rgb(255,245,240)'>گ</span><span style='background-color: rgb(255,245,240)'>ر</span><span style='background-color: rgb(254,243,238)'>ی</span><span style='background-color: rgb(254,241,234)'>ن</span><span style='background-color: rgb(254,241,235)'> </span><span style='background-color: rgb(254,243,237)'>ک</span><span style='background-color: rgb(254,237,228)'>و</span><span style='background-color: rgb(254,231,221)'>د</span><span style='background-color: rgb(254,230,219)'>ک</span><span style='background-color: rgb(254,241,234)'> </span><span style='background-color: rgb(254,241,235)'>خ</span><span style='background-color: rgb(254,243,237)'>ر</span><span style='background-color: rgb(254,243,237)'>د</span><span style='background-color: rgb(254,243,238)'> </span><span style='background-color: rgb(254,241,235)'>خ</span><span style='background-color: rgb(254,241,235)'>و</span><span style='background-color: rgb(254,238,230)'>ی</span><span style='background-color: rgb(254,241,234)'> </span><span style='background-color: rgb(255,245,240)'>پ</span><span style='background-color: rgb(254,243,237)'>د</span><span style='background-color: rgb(254,243,238)'>ر</span><span>\t\t:\t\t</span><span>ـ</span></div>"
      ],
      "text/plain": [
       "<IPython.core.display.HTML object>"
      ]
     },
     "metadata": {
      "tags": []
     },
     "output_type": "display_data"
    },
    {
     "data": {
      "text/html": [
       "<div><span style='background-color: rgb(254,241,234)'>گ</span><span style='background-color: rgb(254,243,238)'>ر</span><span style='background-color: rgb(254,243,238)'>ی</span><span style='background-color: rgb(254,244,239)'>ن</span><span style='background-color: rgb(255,245,240)'> </span><span style='background-color: rgb(255,245,240)'>ک</span><span style='background-color: rgb(254,244,239)'>و</span><span style='background-color: rgb(254,244,239)'>د</span><span style='background-color: rgb(254,242,236)'>ک</span><span style='background-color: rgb(254,243,238)'> </span><span style='background-color: rgb(254,243,238)'>خ</span><span style='background-color: rgb(255,245,240)'>ر</span><span style='background-color: rgb(255,245,240)'>د</span><span style='background-color: rgb(254,244,239)'> </span><span style='background-color: rgb(255,245,240)'>خ</span><span style='background-color: rgb(254,244,239)'>و</span><span style='background-color: rgb(254,243,238)'>ی</span><span style='background-color: rgb(254,239,231)'> </span><span style='background-color: rgb(254,243,237)'>پ</span><span style='background-color: rgb(254,243,238)'>د</span><span style='background-color: rgb(254,244,239)'>ر</span><span>\t\t:\t\t</span><span>ا</span></div>"
      ],
      "text/plain": [
       "<IPython.core.display.HTML object>"
      ]
     },
     "metadata": {
      "tags": []
     },
     "output_type": "display_data"
    },
    {
     "data": {
      "text/html": [
       "<div><span style='background-color: rgb(254,238,230)'>گ</span><span style='background-color: rgb(254,235,226)'>ر</span><span style='background-color: rgb(254,237,229)'>ی</span><span style='background-color: rgb(254,242,236)'>ن</span><span style='background-color: rgb(254,243,238)'> </span><span style='background-color: rgb(254,243,237)'>ک</span><span style='background-color: rgb(254,241,234)'>و</span><span style='background-color: rgb(254,243,238)'>د</span><span style='background-color: rgb(254,243,238)'>ک</span><span style='background-color: rgb(254,244,239)'> </span><span style='background-color: rgb(254,243,238)'>خ</span><span style='background-color: rgb(254,243,237)'>ر</span><span style='background-color: rgb(254,244,239)'>د</span><span style='background-color: rgb(254,243,237)'> </span><span style='background-color: rgb(254,244,239)'>خ</span><span style='background-color: rgb(254,243,238)'>و</span><span style='background-color: rgb(254,241,235)'>ی</span><span style='background-color: rgb(254,241,235)'> </span><span style='background-color: rgb(255,245,240)'>پ</span><span style='background-color: rgb(255,245,240)'>د</span><span style='background-color: rgb(254,244,239)'>ر</span><span>\t\t:\t\t</span><span>و</span></div>"
      ],
      "text/plain": [
       "<IPython.core.display.HTML object>"
      ]
     },
     "metadata": {
      "tags": []
     },
     "output_type": "display_data"
    },
    {
     "data": {
      "text/html": [
       "<div><span style='background-color: rgb(254,243,238)'>گ</span><span style='background-color: rgb(254,244,239)'>ر</span><span style='background-color: rgb(254,242,236)'>ی</span><span style='background-color: rgb(254,241,234)'>ن</span><span style='background-color: rgb(254,231,221)'> </span><span style='background-color: rgb(253,213,195)'>ک</span><span style='background-color: rgb(252,189,163)'>و</span><span style='background-color: rgb(254,237,228)'>د</span><span style='background-color: rgb(254,239,231)'>ک</span><span style='background-color: rgb(254,239,231)'> </span><span style='background-color: rgb(254,243,238)'>خ</span><span style='background-color: rgb(254,243,238)'>ر</span><span style='background-color: rgb(254,244,239)'>د</span><span style='background-color: rgb(254,243,238)'> </span><span style='background-color: rgb(254,243,237)'>خ</span><span style='background-color: rgb(254,244,239)'>و</span><span style='background-color: rgb(254,244,239)'>ی</span><span style='background-color: rgb(255,245,240)'> </span><span style='background-color: rgb(255,245,240)'>پ</span><span style='background-color: rgb(255,245,240)'>د</span><span style='background-color: rgb(255,245,240)'>ر</span><span>\t\t:\t\t</span><span>ـ</span></div>"
      ],
      "text/plain": [
       "<IPython.core.display.HTML object>"
      ]
     },
     "metadata": {
      "tags": []
     },
     "output_type": "display_data"
    },
    {
     "data": {
      "text/html": [
       "<div><span style='background-color: rgb(254,239,231)'>گ</span><span style='background-color: rgb(254,241,235)'>ر</span><span style='background-color: rgb(254,241,235)'>ی</span><span style='background-color: rgb(254,243,237)'>ن</span><span style='background-color: rgb(254,243,238)'> </span><span style='background-color: rgb(254,244,239)'>ک</span><span style='background-color: rgb(254,244,239)'>و</span><span style='background-color: rgb(254,243,238)'>د</span><span style='background-color: rgb(254,243,237)'>ک</span><span style='background-color: rgb(254,244,239)'> </span><span style='background-color: rgb(254,243,238)'>خ</span><span style='background-color: rgb(255,245,240)'>ر</span><span style='background-color: rgb(255,245,240)'>د</span><span style='background-color: rgb(255,245,240)'> </span><span style='background-color: rgb(255,245,240)'>خ</span><span style='background-color: rgb(254,243,238)'>و</span><span style='background-color: rgb(254,243,237)'>ی</span><span style='background-color: rgb(254,241,235)'> </span><span style='background-color: rgb(254,244,239)'>پ</span><span style='background-color: rgb(255,245,240)'>د</span><span style='background-color: rgb(255,245,240)'>ر</span><span>\t\t:\t\t</span><span>ر</span></div>"
      ],
      "text/plain": [
       "<IPython.core.display.HTML object>"
      ]
     },
     "metadata": {
      "tags": []
     },
     "output_type": "display_data"
    },
    {
     "data": {
      "text/html": [
       "<div><span style='background-color: rgb(254,241,234)'>گ</span><span style='background-color: rgb(254,243,238)'>ر</span><span style='background-color: rgb(254,243,237)'>ی</span><span style='background-color: rgb(254,244,239)'>ن</span><span style='background-color: rgb(254,243,238)'> </span><span style='background-color: rgb(254,243,237)'>ک</span><span style='background-color: rgb(254,241,235)'>و</span><span style='background-color: rgb(254,239,231)'>د</span><span style='background-color: rgb(254,235,226)'>ک</span><span style='background-color: rgb(254,241,234)'> </span><span style='background-color: rgb(254,243,238)'>خ</span><span style='background-color: rgb(255,245,240)'>ر</span><span style='background-color: rgb(255,245,240)'>د</span><span style='background-color: rgb(255,245,240)'> </span><span style='background-color: rgb(254,244,239)'>خ</span><span style='background-color: rgb(254,243,238)'>و</span><span style='background-color: rgb(254,241,234)'>ی</span><span style='background-color: rgb(254,242,236)'> </span><span style='background-color: rgb(255,245,240)'>پ</span><span style='background-color: rgb(254,244,239)'>د</span><span style='background-color: rgb(254,244,239)'>ر</span><span>\t\t:\t\t</span><span>ا</span></div>"
      ],
      "text/plain": [
       "<IPython.core.display.HTML object>"
      ]
     },
     "metadata": {
      "tags": []
     },
     "output_type": "display_data"
    },
    {
     "data": {
      "text/html": [
       "<div><span style='background-color: rgb(255,245,240)'>گ</span><span style='background-color: rgb(254,244,239)'>ر</span><span style='background-color: rgb(254,241,235)'>ی</span><span style='background-color: rgb(254,238,230)'>ن</span><span style='background-color: rgb(254,226,213)'> </span><span style='background-color: rgb(253,212,194)'>ک</span><span style='background-color: rgb(254,229,218)'>و</span><span style='background-color: rgb(254,241,234)'>د</span><span style='background-color: rgb(254,238,230)'>ک</span><span style='background-color: rgb(254,238,230)'> </span><span style='background-color: rgb(254,241,235)'>خ</span><span style='background-color: rgb(254,241,235)'>ر</span><span style='background-color: rgb(254,239,232)'>د</span><span style='background-color: rgb(254,240,233)'> </span><span style='background-color: rgb(254,240,233)'>خ</span><span style='background-color: rgb(254,243,237)'>و</span><span style='background-color: rgb(254,243,237)'>ی</span><span style='background-color: rgb(254,244,239)'> </span><span style='background-color: rgb(255,245,240)'>پ</span><span style='background-color: rgb(254,244,239)'>د</span><span style='background-color: rgb(254,244,239)'>ر</span><span>\t\t:\t\t</span><span>ـ</span></div>"
      ],
      "text/plain": [
       "<IPython.core.display.HTML object>"
      ]
     },
     "metadata": {
      "tags": []
     },
     "output_type": "display_data"
    },
    {
     "data": {
      "text/html": [
       "<div><span style='background-color: rgb(254,243,237)'>گ</span><span style='background-color: rgb(254,240,233)'>ر</span><span style='background-color: rgb(254,239,232)'>ی</span><span style='background-color: rgb(254,243,237)'>ن</span><span style='background-color: rgb(254,244,239)'> </span><span style='background-color: rgb(254,244,239)'>ک</span><span style='background-color: rgb(254,243,237)'>و</span><span style='background-color: rgb(254,243,237)'>د</span><span style='background-color: rgb(254,243,238)'>ک</span><span style='background-color: rgb(254,244,239)'> </span><span style='background-color: rgb(254,244,239)'>خ</span><span style='background-color: rgb(255,245,240)'>ر</span><span style='background-color: rgb(255,245,240)'>د</span><span style='background-color: rgb(255,245,240)'> </span><span style='background-color: rgb(255,245,240)'>خ</span><span style='background-color: rgb(254,244,239)'>و</span><span style='background-color: rgb(254,244,239)'>ی</span><span style='background-color: rgb(254,243,237)'> </span><span style='background-color: rgb(255,245,240)'>پ</span><span style='background-color: rgb(255,245,240)'>د</span><span style='background-color: rgb(255,245,240)'>ر</span><span>\t\t:\t\t</span><span>ب</span></div>"
      ],
      "text/plain": [
       "<IPython.core.display.HTML object>"
      ]
     },
     "metadata": {
      "tags": []
     },
     "output_type": "display_data"
    },
    {
     "data": {
      "text/html": [
       "<div><span style='background-color: rgb(254,243,238)'>گ</span><span style='background-color: rgb(254,243,237)'>ر</span><span style='background-color: rgb(254,244,239)'>ی</span><span style='background-color: rgb(255,245,240)'>ن</span><span style='background-color: rgb(255,245,240)'> </span><span style='background-color: rgb(255,245,240)'>ک</span><span style='background-color: rgb(254,242,236)'>و</span><span style='background-color: rgb(254,242,236)'>د</span><span style='background-color: rgb(254,244,239)'>ک</span><span style='background-color: rgb(254,243,238)'> </span><span style='background-color: rgb(254,238,230)'>خ</span><span style='background-color: rgb(254,243,237)'>ر</span><span style='background-color: rgb(254,244,239)'>د</span><span style='background-color: rgb(254,243,238)'> </span><span style='background-color: rgb(254,244,239)'>خ</span><span style='background-color: rgb(255,245,240)'>و</span><span style='background-color: rgb(255,245,240)'>ی</span><span style='background-color: rgb(254,243,238)'> </span><span style='background-color: rgb(254,244,239)'>پ</span><span style='background-color: rgb(255,245,240)'>د</span><span style='background-color: rgb(255,245,240)'>ر</span><span>\t\t:\t\t</span><span>ه</span></div>"
      ],
      "text/plain": [
       "<IPython.core.display.HTML object>"
      ]
     },
     "metadata": {
      "tags": []
     },
     "output_type": "display_data"
    },
    {
     "data": {
      "text/html": [
       "<div><span style='background-color: rgb(254,243,237)'>گ</span><span style='background-color: rgb(254,243,237)'>ر</span><span style='background-color: rgb(254,239,231)'>ی</span><span style='background-color: rgb(254,231,221)'>ن</span><span style='background-color: rgb(254,225,212)'> </span><span style='background-color: rgb(253,214,197)'>ک</span><span style='background-color: rgb(254,225,211)'>و</span><span style='background-color: rgb(254,240,233)'>د</span><span style='background-color: rgb(254,241,235)'>ک</span><span style='background-color: rgb(254,241,234)'> </span><span style='background-color: rgb(254,243,237)'>خ</span><span style='background-color: rgb(254,243,238)'>ر</span><span style='background-color: rgb(254,240,233)'>د</span><span style='background-color: rgb(254,241,234)'> </span><span style='background-color: rgb(254,235,226)'>خ</span><span style='background-color: rgb(254,241,234)'>و</span><span style='background-color: rgb(254,243,238)'>ی</span><span style='background-color: rgb(254,241,235)'> </span><span style='background-color: rgb(255,245,240)'>پ</span><span style='background-color: rgb(254,243,238)'>د</span><span style='background-color: rgb(254,243,238)'>ر</span><span>\t\t:\t\t</span><span>ـ</span></div>"
      ],
      "text/plain": [
       "<IPython.core.display.HTML object>"
      ]
     },
     "metadata": {
      "tags": []
     },
     "output_type": "display_data"
    },
    {
     "data": {
      "text/html": [
       "<div><span style='background-color: rgb(254,241,235)'>گ</span><span style='background-color: rgb(254,243,237)'>ر</span><span style='background-color: rgb(254,243,238)'>ی</span><span style='background-color: rgb(254,244,239)'>ن</span><span style='background-color: rgb(254,244,239)'> </span><span style='background-color: rgb(255,245,240)'>ک</span><span style='background-color: rgb(254,243,238)'>و</span><span style='background-color: rgb(254,242,236)'>د</span><span style='background-color: rgb(254,241,235)'>ک</span><span style='background-color: rgb(254,243,238)'> </span><span style='background-color: rgb(254,243,237)'>خ</span><span style='background-color: rgb(254,244,239)'>ر</span><span style='background-color: rgb(255,245,240)'>د</span><span style='background-color: rgb(254,244,239)'> </span><span style='background-color: rgb(254,244,239)'>خ</span><span style='background-color: rgb(254,243,237)'>و</span><span style='background-color: rgb(254,241,234)'>ی</span><span style='background-color: rgb(254,241,234)'> </span><span style='background-color: rgb(255,245,240)'>پ</span><span style='background-color: rgb(255,245,240)'>د</span><span style='background-color: rgb(255,245,240)'>ر</span><span>\t\t:\t\t</span><span>پ</span></div>"
      ],
      "text/plain": [
       "<IPython.core.display.HTML object>"
      ]
     },
     "metadata": {
      "tags": []
     },
     "output_type": "display_data"
    },
    {
     "data": {
      "text/html": [
       "<div><span style='background-color: rgb(254,240,233)'>گ</span><span style='background-color: rgb(254,241,234)'>ر</span><span style='background-color: rgb(254,237,229)'>ی</span><span style='background-color: rgb(254,239,232)'>ن</span><span style='background-color: rgb(254,240,233)'> </span><span style='background-color: rgb(254,239,231)'>ک</span><span style='background-color: rgb(254,239,231)'>و</span><span style='background-color: rgb(254,243,237)'>د</span><span style='background-color: rgb(254,244,239)'>ک</span><span style='background-color: rgb(254,243,237)'> </span><span style='background-color: rgb(254,240,233)'>خ</span><span style='background-color: rgb(254,240,233)'>ر</span><span style='background-color: rgb(254,243,238)'>د</span><span style='background-color: rgb(254,242,236)'> </span><span style='background-color: rgb(254,241,234)'>خ</span><span style='background-color: rgb(254,241,235)'>و</span><span style='background-color: rgb(254,241,235)'>ی</span><span style='background-color: rgb(254,242,236)'> </span><span style='background-color: rgb(255,245,240)'>پ</span><span style='background-color: rgb(254,244,239)'>د</span><span style='background-color: rgb(254,241,234)'>ر</span><span>\t\t:\t\t</span><span>ی</span></div>"
      ],
      "text/plain": [
       "<IPython.core.display.HTML object>"
      ]
     },
     "metadata": {
      "tags": []
     },
     "output_type": "display_data"
    },
    {
     "data": {
      "text/html": [
       "<div><span style='background-color: rgb(254,240,233)'>گ</span><span style='background-color: rgb(254,241,235)'>ر</span><span style='background-color: rgb(254,238,230)'>ی</span><span style='background-color: rgb(254,243,237)'>ن</span><span style='background-color: rgb(254,237,228)'> </span><span style='background-color: rgb(254,236,227)'>ک</span><span style='background-color: rgb(254,236,227)'>و</span><span style='background-color: rgb(254,244,239)'>د</span><span style='background-color: rgb(254,239,232)'>ک</span><span style='background-color: rgb(254,240,233)'> </span><span style='background-color: rgb(254,242,236)'>خ</span><span style='background-color: rgb(254,244,239)'>ر</span><span style='background-color: rgb(254,242,236)'>د</span><span style='background-color: rgb(254,243,237)'> </span><span style='background-color: rgb(254,241,234)'>خ</span><span style='background-color: rgb(254,240,233)'>و</span><span style='background-color: rgb(254,243,237)'>ی</span><span style='background-color: rgb(254,242,236)'> </span><span style='background-color: rgb(255,245,240)'>پ</span><span style='background-color: rgb(254,243,238)'>د</span><span style='background-color: rgb(255,245,240)'>ر</span><span>\t\t:\t\t</span><span>و</span></div>"
      ],
      "text/plain": [
       "<IPython.core.display.HTML object>"
      ]
     },
     "metadata": {
      "tags": []
     },
     "output_type": "display_data"
    },
    {
     "data": {
      "text/html": [
       "<div><span style='background-color: rgb(254,239,231)'>گ</span><span style='background-color: rgb(254,225,212)'>ر</span><span style='background-color: rgb(253,220,205)'>ی</span><span style='background-color: rgb(254,238,230)'>ن</span><span style='background-color: rgb(254,243,237)'> </span><span style='background-color: rgb(254,241,235)'>ک</span><span style='background-color: rgb(254,241,235)'>و</span><span style='background-color: rgb(255,245,240)'>د</span><span style='background-color: rgb(255,245,240)'>ک</span><span style='background-color: rgb(255,245,240)'> </span><span style='background-color: rgb(254,244,239)'>خ</span><span style='background-color: rgb(254,243,238)'>ر</span><span style='background-color: rgb(254,243,238)'>د</span><span style='background-color: rgb(254,243,237)'> </span><span style='background-color: rgb(254,241,234)'>خ</span><span style='background-color: rgb(254,237,229)'>و</span><span style='background-color: rgb(254,231,221)'>ی</span><span style='background-color: rgb(254,238,230)'> </span><span style='background-color: rgb(254,244,239)'>پ</span><span style='background-color: rgb(254,244,239)'>د</span><span style='background-color: rgb(255,245,240)'>ر</span><span>\t\t:\t\t</span><span>ن</span></div>"
      ],
      "text/plain": [
       "<IPython.core.display.HTML object>"
      ]
     },
     "metadata": {
      "tags": []
     },
     "output_type": "display_data"
    },
    {
     "data": {
      "text/html": [
       "<div><span style='background-color: rgb(255,245,240)'>گ</span><span style='background-color: rgb(255,245,240)'>ر</span><span style='background-color: rgb(255,245,240)'>ی</span><span style='background-color: rgb(255,245,240)'>ن</span><span style='background-color: rgb(254,244,239)'> </span><span style='background-color: rgb(254,243,237)'>ک</span><span style='background-color: rgb(254,239,232)'>و</span><span style='background-color: rgb(254,241,235)'>د</span><span style='background-color: rgb(254,232,222)'>ک</span><span style='background-color: rgb(254,233,224)'> </span><span style='background-color: rgb(252,202,182)'>خ</span><span style='background-color: rgb(254,238,230)'>ر</span><span style='background-color: rgb(254,243,238)'>د</span><span style='background-color: rgb(254,244,239)'> </span><span style='background-color: rgb(254,242,236)'>خ</span><span style='background-color: rgb(254,241,235)'>و</span><span style='background-color: rgb(254,227,214)'>ی</span><span style='background-color: rgb(254,238,230)'> </span><span style='background-color: rgb(254,242,236)'>پ</span><span style='background-color: rgb(254,238,230)'>د</span><span style='background-color: rgb(254,241,234)'>ر</span><span>\t\t:\t\t</span><span>د</span></div>"
      ],
      "text/plain": [
       "<IPython.core.display.HTML object>"
      ]
     },
     "metadata": {
      "tags": []
     },
     "output_type": "display_data"
    },
    {
     "data": {
      "text/html": [
       "<div><span style='background-color: rgb(255,245,240)'>گ</span><span style='background-color: rgb(255,245,240)'>ر</span><span style='background-color: rgb(254,244,239)'>ی</span><span style='background-color: rgb(254,239,232)'>ن</span><span style='background-color: rgb(254,234,224)'> </span><span style='background-color: rgb(254,227,214)'>ک</span><span style='background-color: rgb(254,230,219)'>و</span><span style='background-color: rgb(254,241,234)'>د</span><span style='background-color: rgb(254,237,229)'>ک</span><span style='background-color: rgb(254,242,236)'> </span><span style='background-color: rgb(254,244,239)'>خ</span><span style='background-color: rgb(254,243,237)'>ر</span><span style='background-color: rgb(254,242,236)'>د</span><span style='background-color: rgb(254,244,239)'> </span><span style='background-color: rgb(254,243,237)'>خ</span><span style='background-color: rgb(254,244,239)'>و</span><span style='background-color: rgb(254,242,236)'>ی</span><span style='background-color: rgb(254,243,238)'> </span><span style='background-color: rgb(255,245,240)'>پ</span><span style='background-color: rgb(254,234,224)'>د</span><span style='background-color: rgb(253,208,189)'>ر</span><span>\t\t:\t\t</span><span>ـ</span></div>"
      ],
      "text/plain": [
       "<IPython.core.display.HTML object>"
      ]
     },
     "metadata": {
      "tags": []
     },
     "output_type": "display_data"
    },
    {
     "data": {
      "text/html": [
       "<div><span style='background-color: rgb(254,243,237)'>گ</span><span style='background-color: rgb(254,244,239)'>ر</span><span style='background-color: rgb(254,244,239)'>ی</span><span style='background-color: rgb(255,245,240)'>ن</span><span style='background-color: rgb(255,245,240)'> </span><span style='background-color: rgb(255,245,240)'>ک</span><span style='background-color: rgb(255,245,240)'>و</span><span style='background-color: rgb(255,245,240)'>د</span><span style='background-color: rgb(255,245,240)'>ک</span><span style='background-color: rgb(255,245,240)'> </span><span style='background-color: rgb(255,245,240)'>خ</span><span style='background-color: rgb(255,245,240)'>ر</span><span style='background-color: rgb(255,245,240)'>د</span><span style='background-color: rgb(255,245,240)'> </span><span style='background-color: rgb(255,245,240)'>خ</span><span style='background-color: rgb(255,245,240)'>و</span><span style='background-color: rgb(254,243,238)'>ی</span><span style='background-color: rgb(254,243,238)'> </span><span style='background-color: rgb(254,238,230)'>پ</span><span style='background-color: rgb(252,189,163)'>د</span><span style='background-color: rgb(254,239,231)'>ر</span><span>\t\t:\t\t</span><span>ب</span></div>"
      ],
      "text/plain": [
       "<IPython.core.display.HTML object>"
      ]
     },
     "metadata": {
      "tags": []
     },
     "output_type": "display_data"
    },
    {
     "data": {
      "text/html": [
       "<div><span style='background-color: rgb(255,245,240)'>گ</span><span style='background-color: rgb(255,245,240)'>ر</span><span style='background-color: rgb(254,243,238)'>ی</span><span style='background-color: rgb(255,245,240)'>ن</span><span style='background-color: rgb(255,245,240)'> </span><span style='background-color: rgb(255,245,240)'>ک</span><span style='background-color: rgb(254,244,239)'>و</span><span style='background-color: rgb(255,245,240)'>د</span><span style='background-color: rgb(255,245,240)'>ک</span><span style='background-color: rgb(255,245,240)'> </span><span style='background-color: rgb(255,245,240)'>خ</span><span style='background-color: rgb(255,245,240)'>ر</span><span style='background-color: rgb(255,245,240)'>د</span><span style='background-color: rgb(255,245,240)'> </span><span style='background-color: rgb(255,245,240)'>خ</span><span style='background-color: rgb(255,245,240)'>و</span><span style='background-color: rgb(255,245,240)'>ی</span><span style='background-color: rgb(255,245,240)'> </span><span style='background-color: rgb(255,245,240)'>پ</span><span style='background-color: rgb(252,184,157)'>د</span><span style='background-color: rgb(244,80,57)'>ر</span><span>\t\t:\t\t</span><span>ر</span></div>"
      ],
      "text/plain": [
       "<IPython.core.display.HTML object>"
      ]
     },
     "metadata": {
      "tags": []
     },
     "output_type": "display_data"
    },
    {
     "name": "stdout",
     "output_type": "stream",
     "text": [
      "Test input:\n",
      "تو دانی که من چند کوشیده ام  ****  که تا رازهای تو پوشیده ام\n",
      "Seq2Seq output:\n",
      "به ایرانیان بر ز ایران مهد\n",
      "Seq2Seq with attention output:\n",
      "به از را به کاری کند کهتر ام\n",
      "Weights of attention:\n"
     ]
    },
    {
     "data": {
      "text/html": [
       "<div><span style='background-color: rgb(254,241,234)'>ت</span><span style='background-color: rgb(254,241,235)'>و</span><span style='background-color: rgb(254,243,238)'> </span><span style='background-color: rgb(254,243,238)'>د</span><span style='background-color: rgb(254,243,238)'>ا</span><span style='background-color: rgb(254,244,239)'>ن</span><span style='background-color: rgb(254,244,239)'>ی</span><span style='background-color: rgb(254,244,239)'> </span><span style='background-color: rgb(254,239,231)'>ک</span><span style='background-color: rgb(254,243,238)'>ه</span><span style='background-color: rgb(254,244,239)'> </span><span style='background-color: rgb(255,245,240)'>م</span><span style='background-color: rgb(254,244,239)'>ن</span><span style='background-color: rgb(254,243,238)'> </span><span style='background-color: rgb(255,245,240)'>چ</span><span style='background-color: rgb(254,244,239)'>ن</span><span style='background-color: rgb(254,243,238)'>د</span><span style='background-color: rgb(254,244,239)'> </span><span style='background-color: rgb(255,245,240)'>ک</span><span style='background-color: rgb(255,245,240)'>و</span><span style='background-color: rgb(255,245,240)'>ش</span><span style='background-color: rgb(254,244,239)'>ی</span><span style='background-color: rgb(254,244,239)'>د</span><span style='background-color: rgb(255,245,240)'>ه</span><span style='background-color: rgb(254,243,238)'> </span><span style='background-color: rgb(254,243,238)'>ا</span><span style='background-color: rgb(254,241,234)'>م</span><span>\t\t:\t\t</span><span>ب</span></div>"
      ],
      "text/plain": [
       "<IPython.core.display.HTML object>"
      ]
     },
     "metadata": {
      "tags": []
     },
     "output_type": "display_data"
    },
    {
     "data": {
      "text/html": [
       "<div><span style='background-color: rgb(254,241,234)'>ت</span><span style='background-color: rgb(254,242,236)'>و</span><span style='background-color: rgb(254,243,237)'> </span><span style='background-color: rgb(254,235,226)'>د</span><span style='background-color: rgb(254,240,233)'>ا</span><span style='background-color: rgb(254,242,236)'>ن</span><span style='background-color: rgb(254,243,238)'>ی</span><span style='background-color: rgb(254,243,238)'> </span><span style='background-color: rgb(254,242,236)'>ک</span><span style='background-color: rgb(254,242,236)'>ه</span><span style='background-color: rgb(254,240,233)'> </span><span style='background-color: rgb(254,242,236)'>م</span><span style='background-color: rgb(254,239,232)'>ن</span><span style='background-color: rgb(254,241,235)'> </span><span style='background-color: rgb(254,241,235)'>چ</span><span style='background-color: rgb(254,242,236)'>ن</span><span style='background-color: rgb(254,242,236)'>د</span><span style='background-color: rgb(254,243,237)'> </span><span style='background-color: rgb(254,244,239)'>ک</span><span style='background-color: rgb(254,244,239)'>و</span><span style='background-color: rgb(254,243,238)'>ش</span><span style='background-color: rgb(254,242,236)'>ی</span><span style='background-color: rgb(254,241,235)'>د</span><span style='background-color: rgb(254,243,237)'>ه</span><span style='background-color: rgb(254,243,237)'> </span><span style='background-color: rgb(254,244,239)'>ا</span><span style='background-color: rgb(255,245,240)'>م</span><span>\t\t:\t\t</span><span>ه</span></div>"
      ],
      "text/plain": [
       "<IPython.core.display.HTML object>"
      ]
     },
     "metadata": {
      "tags": []
     },
     "output_type": "display_data"
    },
    {
     "data": {
      "text/html": [
       "<div><span style='background-color: rgb(254,242,236)'>ت</span><span style='background-color: rgb(254,243,237)'>و</span><span style='background-color: rgb(254,244,239)'> </span><span style='background-color: rgb(254,243,237)'>د</span><span style='background-color: rgb(254,241,235)'>ا</span><span style='background-color: rgb(254,239,231)'>ن</span><span style='background-color: rgb(254,239,232)'>ی</span><span style='background-color: rgb(254,241,235)'> </span><span style='background-color: rgb(254,240,233)'>ک</span><span style='background-color: rgb(254,232,222)'>ه</span><span style='background-color: rgb(254,226,213)'> </span><span style='background-color: rgb(253,215,199)'>م</span><span style='background-color: rgb(254,232,222)'>ن</span><span style='background-color: rgb(254,238,230)'> </span><span style='background-color: rgb(254,240,233)'>چ</span><span style='background-color: rgb(254,239,231)'>ن</span><span style='background-color: rgb(254,242,236)'>د</span><span style='background-color: rgb(254,243,238)'> </span><span style='background-color: rgb(254,241,235)'>ک</span><span style='background-color: rgb(254,243,237)'>و</span><span style='background-color: rgb(254,239,232)'>ش</span><span style='background-color: rgb(254,242,236)'>ی</span><span style='background-color: rgb(254,240,233)'>د</span><span style='background-color: rgb(254,237,229)'>ه</span><span style='background-color: rgb(254,244,239)'> </span><span style='background-color: rgb(255,245,240)'>ا</span><span style='background-color: rgb(255,245,240)'>م</span><span>\t\t:\t\t</span><span>ـ</span></div>"
      ],
      "text/plain": [
       "<IPython.core.display.HTML object>"
      ]
     },
     "metadata": {
      "tags": []
     },
     "output_type": "display_data"
    },
    {
     "data": {
      "text/html": [
       "<div><span style='background-color: rgb(254,239,231)'>ت</span><span style='background-color: rgb(254,243,237)'>و</span><span style='background-color: rgb(254,243,237)'> </span><span style='background-color: rgb(254,243,237)'>د</span><span style='background-color: rgb(254,243,237)'>ا</span><span style='background-color: rgb(254,244,239)'>ن</span><span style='background-color: rgb(254,243,238)'>ی</span><span style='background-color: rgb(254,243,237)'> </span><span style='background-color: rgb(254,241,234)'>ک</span><span style='background-color: rgb(254,243,238)'>ه</span><span style='background-color: rgb(254,241,234)'> </span><span style='background-color: rgb(254,243,238)'>م</span><span style='background-color: rgb(254,241,234)'>ن</span><span style='background-color: rgb(254,240,233)'> </span><span style='background-color: rgb(254,239,232)'>چ</span><span style='background-color: rgb(254,239,232)'>ن</span><span style='background-color: rgb(254,241,235)'>د</span><span style='background-color: rgb(254,244,239)'> </span><span style='background-color: rgb(255,245,240)'>ک</span><span style='background-color: rgb(254,244,239)'>و</span><span style='background-color: rgb(254,244,239)'>ش</span><span style='background-color: rgb(254,242,236)'>ی</span><span style='background-color: rgb(254,241,235)'>د</span><span style='background-color: rgb(254,244,239)'>ه</span><span style='background-color: rgb(254,243,237)'> </span><span style='background-color: rgb(255,245,240)'>ا</span><span style='background-color: rgb(255,245,240)'>م</span><span>\t\t:\t\t</span><span>ا</span></div>"
      ],
      "text/plain": [
       "<IPython.core.display.HTML object>"
      ]
     },
     "metadata": {
      "tags": []
     },
     "output_type": "display_data"
    },
    {
     "data": {
      "text/html": [
       "<div><span style='background-color: rgb(254,242,236)'>ت</span><span style='background-color: rgb(254,236,227)'>و</span><span style='background-color: rgb(254,239,232)'> </span><span style='background-color: rgb(254,243,237)'>د</span><span style='background-color: rgb(254,240,233)'>ا</span><span style='background-color: rgb(254,235,226)'>ن</span><span style='background-color: rgb(254,239,232)'>ی</span><span style='background-color: rgb(254,242,236)'> </span><span style='background-color: rgb(254,239,232)'>ک</span><span style='background-color: rgb(254,241,235)'>ه</span><span style='background-color: rgb(254,243,237)'> </span><span style='background-color: rgb(254,244,239)'>م</span><span style='background-color: rgb(254,242,236)'>ن</span><span style='background-color: rgb(254,241,234)'> </span><span style='background-color: rgb(254,243,237)'>چ</span><span style='background-color: rgb(254,241,235)'>ن</span><span style='background-color: rgb(254,241,234)'>د</span><span style='background-color: rgb(254,237,229)'> </span><span style='background-color: rgb(254,243,237)'>ک</span><span style='background-color: rgb(254,244,239)'>و</span><span style='background-color: rgb(254,244,239)'>ش</span><span style='background-color: rgb(254,244,239)'>ی</span><span style='background-color: rgb(254,243,238)'>د</span><span style='background-color: rgb(254,244,239)'>ه</span><span style='background-color: rgb(254,244,239)'> </span><span style='background-color: rgb(255,245,240)'>ا</span><span style='background-color: rgb(254,244,239)'>م</span><span>\t\t:\t\t</span><span>ز</span></div>"
      ],
      "text/plain": [
       "<IPython.core.display.HTML object>"
      ]
     },
     "metadata": {
      "tags": []
     },
     "output_type": "display_data"
    },
    {
     "data": {
      "text/html": [
       "<div><span style='background-color: rgb(254,235,225)'>ت</span><span style='background-color: rgb(254,241,234)'>و</span><span style='background-color: rgb(254,242,236)'> </span><span style='background-color: rgb(254,240,233)'>د</span><span style='background-color: rgb(254,243,237)'>ا</span><span style='background-color: rgb(254,243,237)'>ن</span><span style='background-color: rgb(254,242,236)'>ی</span><span style='background-color: rgb(254,241,235)'> </span><span style='background-color: rgb(254,241,234)'>ک</span><span style='background-color: rgb(254,239,231)'>ه</span><span style='background-color: rgb(254,237,228)'> </span><span style='background-color: rgb(254,235,226)'>م</span><span style='background-color: rgb(254,236,227)'>ن</span><span style='background-color: rgb(254,239,231)'> </span><span style='background-color: rgb(254,237,228)'>چ</span><span style='background-color: rgb(254,235,226)'>ن</span><span style='background-color: rgb(254,238,230)'>د</span><span style='background-color: rgb(254,240,233)'> </span><span style='background-color: rgb(254,243,237)'>ک</span><span style='background-color: rgb(254,243,238)'>و</span><span style='background-color: rgb(254,241,235)'>ش</span><span style='background-color: rgb(254,241,235)'>ی</span><span style='background-color: rgb(254,241,234)'>د</span><span style='background-color: rgb(254,237,228)'>ه</span><span style='background-color: rgb(254,243,238)'> </span><span style='background-color: rgb(255,245,240)'>ا</span><span style='background-color: rgb(255,245,240)'>م</span><span>\t\t:\t\t</span><span>ـ</span></div>"
      ],
      "text/plain": [
       "<IPython.core.display.HTML object>"
      ]
     },
     "metadata": {
      "tags": []
     },
     "output_type": "display_data"
    },
    {
     "data": {
      "text/html": [
       "<div><span style='background-color: rgb(254,243,237)'>ت</span><span style='background-color: rgb(254,243,237)'>و</span><span style='background-color: rgb(254,243,238)'> </span><span style='background-color: rgb(254,242,236)'>د</span><span style='background-color: rgb(254,240,233)'>ا</span><span style='background-color: rgb(254,242,236)'>ن</span><span style='background-color: rgb(254,241,235)'>ی</span><span style='background-color: rgb(254,241,234)'> </span><span style='background-color: rgb(254,241,234)'>ک</span><span style='background-color: rgb(254,243,238)'>ه</span><span style='background-color: rgb(254,238,230)'> </span><span style='background-color: rgb(254,243,238)'>م</span><span style='background-color: rgb(254,241,234)'>ن</span><span style='background-color: rgb(254,239,231)'> </span><span style='background-color: rgb(254,238,230)'>چ</span><span style='background-color: rgb(254,237,229)'>ن</span><span style='background-color: rgb(254,239,232)'>د</span><span style='background-color: rgb(254,243,237)'> </span><span style='background-color: rgb(254,244,239)'>ک</span><span style='background-color: rgb(254,244,239)'>و</span><span style='background-color: rgb(254,243,238)'>ش</span><span style='background-color: rgb(254,241,235)'>ی</span><span style='background-color: rgb(254,242,236)'>د</span><span style='background-color: rgb(254,243,238)'>ه</span><span style='background-color: rgb(254,239,231)'> </span><span style='background-color: rgb(254,244,239)'>ا</span><span style='background-color: rgb(254,243,238)'>م</span><span>\t\t:\t\t</span><span>ر</span></div>"
      ],
      "text/plain": [
       "<IPython.core.display.HTML object>"
      ]
     },
     "metadata": {
      "tags": []
     },
     "output_type": "display_data"
    },
    {
     "data": {
      "text/html": [
       "<div><span style='background-color: rgb(254,233,224)'>ت</span><span style='background-color: rgb(254,229,218)'>و</span><span style='background-color: rgb(254,239,232)'> </span><span style='background-color: rgb(254,241,235)'>د</span><span style='background-color: rgb(254,241,235)'>ا</span><span style='background-color: rgb(254,243,238)'>ن</span><span style='background-color: rgb(254,242,236)'>ی</span><span style='background-color: rgb(254,241,235)'> </span><span style='background-color: rgb(254,243,237)'>ک</span><span style='background-color: rgb(254,241,234)'>ه</span><span style='background-color: rgb(254,239,232)'> </span><span style='background-color: rgb(254,240,233)'>م</span><span style='background-color: rgb(254,237,228)'>ن</span><span style='background-color: rgb(254,236,227)'> </span><span style='background-color: rgb(254,231,221)'>چ</span><span style='background-color: rgb(254,239,231)'>ن</span><span style='background-color: rgb(254,237,228)'>د</span><span style='background-color: rgb(254,243,238)'> </span><span style='background-color: rgb(254,244,239)'>ک</span><span style='background-color: rgb(254,244,239)'>و</span><span style='background-color: rgb(254,243,237)'>ش</span><span style='background-color: rgb(254,240,233)'>ی</span><span style='background-color: rgb(254,241,235)'>د</span><span style='background-color: rgb(254,241,235)'>ه</span><span style='background-color: rgb(254,242,236)'> </span><span style='background-color: rgb(255,245,240)'>ا</span><span style='background-color: rgb(255,245,240)'>م</span><span>\t\t:\t\t</span><span>ا</span></div>"
      ],
      "text/plain": [
       "<IPython.core.display.HTML object>"
      ]
     },
     "metadata": {
      "tags": []
     },
     "output_type": "display_data"
    },
    {
     "data": {
      "text/html": [
       "<div><span style='background-color: rgb(255,245,240)'>ت</span><span style='background-color: rgb(254,244,239)'>و</span><span style='background-color: rgb(254,241,234)'> </span><span style='background-color: rgb(254,237,229)'>د</span><span style='background-color: rgb(254,242,236)'>ا</span><span style='background-color: rgb(254,243,238)'>ن</span><span style='background-color: rgb(254,244,239)'>ی</span><span style='background-color: rgb(254,243,238)'> </span><span style='background-color: rgb(254,242,236)'>ک</span><span style='background-color: rgb(254,235,226)'>ه</span><span style='background-color: rgb(254,235,225)'> </span><span style='background-color: rgb(254,233,224)'>م</span><span style='background-color: rgb(254,235,226)'>ن</span><span style='background-color: rgb(254,239,231)'> </span><span style='background-color: rgb(254,241,235)'>چ</span><span style='background-color: rgb(254,237,228)'>ن</span><span style='background-color: rgb(254,241,235)'>د</span><span style='background-color: rgb(254,239,231)'> </span><span style='background-color: rgb(254,240,233)'>ک</span><span style='background-color: rgb(254,241,235)'>و</span><span style='background-color: rgb(254,240,233)'>ش</span><span style='background-color: rgb(254,241,235)'>ی</span><span style='background-color: rgb(254,237,229)'>د</span><span style='background-color: rgb(255,245,240)'>ه</span><span style='background-color: rgb(255,245,240)'> </span><span style='background-color: rgb(255,245,240)'>ا</span><span style='background-color: rgb(254,244,239)'>م</span><span>\t\t:\t\t</span><span>ـ</span></div>"
      ],
      "text/plain": [
       "<IPython.core.display.HTML object>"
      ]
     },
     "metadata": {
      "tags": []
     },
     "output_type": "display_data"
    },
    {
     "data": {
      "text/html": [
       "<div><span style='background-color: rgb(254,241,235)'>ت</span><span style='background-color: rgb(254,244,239)'>و</span><span style='background-color: rgb(254,244,239)'> </span><span style='background-color: rgb(254,244,239)'>د</span><span style='background-color: rgb(254,244,239)'>ا</span><span style='background-color: rgb(254,244,239)'>ن</span><span style='background-color: rgb(254,244,239)'>ی</span><span style='background-color: rgb(254,243,238)'> </span><span style='background-color: rgb(254,241,235)'>ک</span><span style='background-color: rgb(254,243,238)'>ه</span><span style='background-color: rgb(254,242,236)'> </span><span style='background-color: rgb(254,244,239)'>م</span><span style='background-color: rgb(254,242,236)'>ن</span><span style='background-color: rgb(254,242,236)'> </span><span style='background-color: rgb(254,242,236)'>چ</span><span style='background-color: rgb(254,241,235)'>ن</span><span style='background-color: rgb(254,242,236)'>د</span><span style='background-color: rgb(255,245,240)'> </span><span style='background-color: rgb(255,245,240)'>ک</span><span style='background-color: rgb(255,245,240)'>و</span><span style='background-color: rgb(255,245,240)'>ش</span><span style='background-color: rgb(254,244,239)'>ی</span><span style='background-color: rgb(254,243,237)'>د</span><span style='background-color: rgb(255,245,240)'>ه</span><span style='background-color: rgb(254,241,235)'> </span><span style='background-color: rgb(255,245,240)'>ا</span><span style='background-color: rgb(254,243,238)'>م</span><span>\t\t:\t\t</span><span>ب</span></div>"
      ],
      "text/plain": [
       "<IPython.core.display.HTML object>"
      ]
     },
     "metadata": {
      "tags": []
     },
     "output_type": "display_data"
    },
    {
     "data": {
      "text/html": [
       "<div><span style='background-color: rgb(254,239,231)'>ت</span><span style='background-color: rgb(254,241,234)'>و</span><span style='background-color: rgb(254,241,235)'> </span><span style='background-color: rgb(254,236,227)'>د</span><span style='background-color: rgb(254,234,224)'>ا</span><span style='background-color: rgb(254,243,237)'>ن</span><span style='background-color: rgb(254,244,239)'>ی</span><span style='background-color: rgb(254,244,239)'> </span><span style='background-color: rgb(254,244,239)'>ک</span><span style='background-color: rgb(254,244,239)'>ه</span><span style='background-color: rgb(254,243,238)'> </span><span style='background-color: rgb(254,244,239)'>م</span><span style='background-color: rgb(254,241,235)'>ن</span><span style='background-color: rgb(254,243,238)'> </span><span style='background-color: rgb(254,244,239)'>چ</span><span style='background-color: rgb(254,242,236)'>ن</span><span style='background-color: rgb(254,241,234)'>د</span><span style='background-color: rgb(254,242,236)'> </span><span style='background-color: rgb(254,244,239)'>ک</span><span style='background-color: rgb(254,244,239)'>و</span><span style='background-color: rgb(254,243,238)'>ش</span><span style='background-color: rgb(254,244,239)'>ی</span><span style='background-color: rgb(254,243,238)'>د</span><span style='background-color: rgb(254,243,237)'>ه</span><span style='background-color: rgb(254,243,238)'> </span><span style='background-color: rgb(254,243,238)'>ا</span><span style='background-color: rgb(254,244,239)'>م</span><span>\t\t:\t\t</span><span>ه</span></div>"
      ],
      "text/plain": [
       "<IPython.core.display.HTML object>"
      ]
     },
     "metadata": {
      "tags": []
     },
     "output_type": "display_data"
    },
    {
     "data": {
      "text/html": [
       "<div><span style='background-color: rgb(254,243,237)'>ت</span><span style='background-color: rgb(254,244,239)'>و</span><span style='background-color: rgb(254,243,238)'> </span><span style='background-color: rgb(254,243,237)'>د</span><span style='background-color: rgb(254,239,232)'>ا</span><span style='background-color: rgb(254,241,234)'>ن</span><span style='background-color: rgb(254,241,235)'>ی</span><span style='background-color: rgb(254,243,237)'> </span><span style='background-color: rgb(254,241,234)'>ک</span><span style='background-color: rgb(254,235,225)'>ه</span><span style='background-color: rgb(254,227,215)'> </span><span style='background-color: rgb(253,212,194)'>م</span><span style='background-color: rgb(254,227,215)'>ن</span><span style='background-color: rgb(254,241,234)'> </span><span style='background-color: rgb(254,241,234)'>چ</span><span style='background-color: rgb(254,241,234)'>ن</span><span style='background-color: rgb(254,240,233)'>د</span><span style='background-color: rgb(254,239,231)'> </span><span style='background-color: rgb(254,238,230)'>ک</span><span style='background-color: rgb(254,242,236)'>و</span><span style='background-color: rgb(254,238,230)'>ش</span><span style='background-color: rgb(254,242,236)'>ی</span><span style='background-color: rgb(254,239,232)'>د</span><span style='background-color: rgb(254,239,232)'>ه</span><span style='background-color: rgb(255,245,240)'> </span><span style='background-color: rgb(255,245,240)'>ا</span><span style='background-color: rgb(255,245,240)'>م</span><span>\t\t:\t\t</span><span>ـ</span></div>"
      ],
      "text/plain": [
       "<IPython.core.display.HTML object>"
      ]
     },
     "metadata": {
      "tags": []
     },
     "output_type": "display_data"
    },
    {
     "data": {
      "text/html": [
       "<div><span style='background-color: rgb(254,242,236)'>ت</span><span style='background-color: rgb(254,243,237)'>و</span><span style='background-color: rgb(254,242,236)'> </span><span style='background-color: rgb(254,242,236)'>د</span><span style='background-color: rgb(254,243,237)'>ا</span><span style='background-color: rgb(254,243,238)'>ن</span><span style='background-color: rgb(254,243,237)'>ی</span><span style='background-color: rgb(254,242,236)'> </span><span style='background-color: rgb(254,243,237)'>ک</span><span style='background-color: rgb(254,244,239)'>ه</span><span style='background-color: rgb(254,243,238)'> </span><span style='background-color: rgb(255,245,240)'>م</span><span style='background-color: rgb(254,242,236)'>ن</span><span style='background-color: rgb(254,241,234)'> </span><span style='background-color: rgb(254,243,237)'>چ</span><span style='background-color: rgb(254,243,238)'>ن</span><span style='background-color: rgb(254,243,237)'>د</span><span style='background-color: rgb(255,245,240)'> </span><span style='background-color: rgb(254,244,239)'>ک</span><span style='background-color: rgb(255,245,240)'>و</span><span style='background-color: rgb(254,244,239)'>ش</span><span style='background-color: rgb(254,242,236)'>ی</span><span style='background-color: rgb(254,241,235)'>د</span><span style='background-color: rgb(254,244,239)'>ه</span><span style='background-color: rgb(254,243,237)'> </span><span style='background-color: rgb(255,245,240)'>ا</span><span style='background-color: rgb(255,245,240)'>م</span><span>\t\t:\t\t</span><span>ک</span></div>"
      ],
      "text/plain": [
       "<IPython.core.display.HTML object>"
      ]
     },
     "metadata": {
      "tags": []
     },
     "output_type": "display_data"
    },
    {
     "data": {
      "text/html": [
       "<div><span style='background-color: rgb(254,235,225)'>ت</span><span style='background-color: rgb(254,240,233)'>و</span><span style='background-color: rgb(254,238,230)'> </span><span style='background-color: rgb(254,235,226)'>د</span><span style='background-color: rgb(254,236,227)'>ا</span><span style='background-color: rgb(254,238,230)'>ن</span><span style='background-color: rgb(254,239,232)'>ی</span><span style='background-color: rgb(254,240,233)'> </span><span style='background-color: rgb(254,239,232)'>ک</span><span style='background-color: rgb(254,239,232)'>ه</span><span style='background-color: rgb(254,239,231)'> </span><span style='background-color: rgb(254,241,235)'>م</span><span style='background-color: rgb(254,239,232)'>ن</span><span style='background-color: rgb(254,243,237)'> </span><span style='background-color: rgb(254,244,239)'>چ</span><span style='background-color: rgb(254,243,238)'>ن</span><span style='background-color: rgb(254,244,239)'>د</span><span style='background-color: rgb(254,244,239)'> </span><span style='background-color: rgb(255,245,240)'>ک</span><span style='background-color: rgb(254,243,238)'>و</span><span style='background-color: rgb(254,243,237)'>ش</span><span style='background-color: rgb(254,239,232)'>ی</span><span style='background-color: rgb(254,241,234)'>د</span><span style='background-color: rgb(254,241,235)'>ه</span><span style='background-color: rgb(254,240,233)'> </span><span style='background-color: rgb(254,243,238)'>ا</span><span style='background-color: rgb(254,244,239)'>م</span><span>\t\t:\t\t</span><span>ا</span></div>"
      ],
      "text/plain": [
       "<IPython.core.display.HTML object>"
      ]
     },
     "metadata": {
      "tags": []
     },
     "output_type": "display_data"
    },
    {
     "data": {
      "text/html": [
       "<div><span style='background-color: rgb(254,239,231)'>ت</span><span style='background-color: rgb(254,239,231)'>و</span><span style='background-color: rgb(254,238,230)'> </span><span style='background-color: rgb(254,239,232)'>د</span><span style='background-color: rgb(254,238,230)'>ا</span><span style='background-color: rgb(254,239,232)'>ن</span><span style='background-color: rgb(254,240,233)'>ی</span><span style='background-color: rgb(254,243,237)'> </span><span style='background-color: rgb(254,239,231)'>ک</span><span style='background-color: rgb(254,243,238)'>ه</span><span style='background-color: rgb(254,242,236)'> </span><span style='background-color: rgb(254,243,237)'>م</span><span style='background-color: rgb(254,243,238)'>ن</span><span style='background-color: rgb(254,244,239)'> </span><span style='background-color: rgb(255,245,240)'>چ</span><span style='background-color: rgb(254,243,238)'>ن</span><span style='background-color: rgb(254,242,236)'>د</span><span style='background-color: rgb(254,241,234)'> </span><span style='background-color: rgb(254,244,239)'>ک</span><span style='background-color: rgb(254,244,239)'>و</span><span style='background-color: rgb(254,244,239)'>ش</span><span style='background-color: rgb(254,243,238)'>ی</span><span style='background-color: rgb(254,243,238)'>د</span><span style='background-color: rgb(255,245,240)'>ه</span><span style='background-color: rgb(255,245,240)'> </span><span style='background-color: rgb(255,245,240)'>ا</span><span style='background-color: rgb(254,244,239)'>م</span><span>\t\t:\t\t</span><span>ر</span></div>"
      ],
      "text/plain": [
       "<IPython.core.display.HTML object>"
      ]
     },
     "metadata": {
      "tags": []
     },
     "output_type": "display_data"
    },
    {
     "data": {
      "text/html": [
       "<div><span style='background-color: rgb(254,235,226)'>ت</span><span style='background-color: rgb(254,239,231)'>و</span><span style='background-color: rgb(254,231,221)'> </span><span style='background-color: rgb(254,237,229)'>د</span><span style='background-color: rgb(254,243,237)'>ا</span><span style='background-color: rgb(254,244,239)'>ن</span><span style='background-color: rgb(254,244,239)'>ی</span><span style='background-color: rgb(254,244,239)'> </span><span style='background-color: rgb(254,243,238)'>ک</span><span style='background-color: rgb(254,240,233)'>ه</span><span style='background-color: rgb(254,238,230)'> </span><span style='background-color: rgb(254,228,216)'>م</span><span style='background-color: rgb(254,231,220)'>ن</span><span style='background-color: rgb(254,243,237)'> </span><span style='background-color: rgb(254,243,237)'>چ</span><span style='background-color: rgb(254,244,239)'>ن</span><span style='background-color: rgb(254,243,238)'>د</span><span style='background-color: rgb(254,242,236)'> </span><span style='background-color: rgb(254,242,236)'>ک</span><span style='background-color: rgb(254,241,234)'>و</span><span style='background-color: rgb(254,237,229)'>ش</span><span style='background-color: rgb(254,229,217)'>ی</span><span style='background-color: rgb(254,238,230)'>د</span><span style='background-color: rgb(254,238,230)'>ه</span><span style='background-color: rgb(254,243,238)'> </span><span style='background-color: rgb(255,245,240)'>ا</span><span style='background-color: rgb(255,245,240)'>م</span><span>\t\t:\t\t</span><span>ی</span></div>"
      ],
      "text/plain": [
       "<IPython.core.display.HTML object>"
      ]
     },
     "metadata": {
      "tags": []
     },
     "output_type": "display_data"
    },
    {
     "data": {
      "text/html": [
       "<div><span style='background-color: rgb(254,244,239)'>ت</span><span style='background-color: rgb(254,243,238)'>و</span><span style='background-color: rgb(254,244,239)'> </span><span style='background-color: rgb(254,244,239)'>د</span><span style='background-color: rgb(255,245,240)'>ا</span><span style='background-color: rgb(255,245,240)'>ن</span><span style='background-color: rgb(255,245,240)'>ی</span><span style='background-color: rgb(254,243,238)'> </span><span style='background-color: rgb(254,240,233)'>ک</span><span style='background-color: rgb(254,241,234)'>ه</span><span style='background-color: rgb(254,237,229)'> </span><span style='background-color: rgb(254,229,217)'>م</span><span style='background-color: rgb(253,206,186)'>ن</span><span style='background-color: rgb(253,216,200)'> </span><span style='background-color: rgb(254,233,223)'>چ</span><span style='background-color: rgb(254,241,235)'>ن</span><span style='background-color: rgb(254,242,236)'>د</span><span style='background-color: rgb(254,243,238)'> </span><span style='background-color: rgb(254,243,238)'>ک</span><span style='background-color: rgb(254,243,237)'>و</span><span style='background-color: rgb(254,241,234)'>ش</span><span style='background-color: rgb(254,241,235)'>ی</span><span style='background-color: rgb(254,226,213)'>د</span><span style='background-color: rgb(254,235,225)'>ه</span><span style='background-color: rgb(255,245,240)'> </span><span style='background-color: rgb(255,245,240)'>ا</span><span style='background-color: rgb(255,245,240)'>م</span><span>\t\t:\t\t</span><span>ـ</span></div>"
      ],
      "text/plain": [
       "<IPython.core.display.HTML object>"
      ]
     },
     "metadata": {
      "tags": []
     },
     "output_type": "display_data"
    },
    {
     "data": {
      "text/html": [
       "<div><span style='background-color: rgb(254,239,231)'>ت</span><span style='background-color: rgb(254,243,237)'>و</span><span style='background-color: rgb(254,243,237)'> </span><span style='background-color: rgb(254,243,238)'>د</span><span style='background-color: rgb(254,242,236)'>ا</span><span style='background-color: rgb(254,242,236)'>ن</span><span style='background-color: rgb(254,241,235)'>ی</span><span style='background-color: rgb(254,242,236)'> </span><span style='background-color: rgb(254,238,230)'>ک</span><span style='background-color: rgb(254,244,239)'>ه</span><span style='background-color: rgb(254,243,238)'> </span><span style='background-color: rgb(255,245,240)'>م</span><span style='background-color: rgb(254,243,237)'>ن</span><span style='background-color: rgb(254,243,238)'> </span><span style='background-color: rgb(254,244,239)'>چ</span><span style='background-color: rgb(254,243,237)'>ن</span><span style='background-color: rgb(254,243,237)'>د</span><span style='background-color: rgb(255,245,240)'> </span><span style='background-color: rgb(255,245,240)'>ک</span><span style='background-color: rgb(255,245,240)'>و</span><span style='background-color: rgb(255,245,240)'>ش</span><span style='background-color: rgb(254,243,238)'>ی</span><span style='background-color: rgb(254,243,237)'>د</span><span style='background-color: rgb(254,244,239)'>ه</span><span style='background-color: rgb(254,243,238)'> </span><span style='background-color: rgb(254,243,237)'>ا</span><span style='background-color: rgb(254,243,238)'>م</span><span>\t\t:\t\t</span><span>ک</span></div>"
      ],
      "text/plain": [
       "<IPython.core.display.HTML object>"
      ]
     },
     "metadata": {
      "tags": []
     },
     "output_type": "display_data"
    },
    {
     "data": {
      "text/html": [
       "<div><span style='background-color: rgb(254,243,238)'>ت</span><span style='background-color: rgb(254,243,238)'>و</span><span style='background-color: rgb(254,243,237)'> </span><span style='background-color: rgb(254,236,227)'>د</span><span style='background-color: rgb(254,241,235)'>ا</span><span style='background-color: rgb(254,242,236)'>ن</span><span style='background-color: rgb(254,243,237)'>ی</span><span style='background-color: rgb(254,235,225)'> </span><span style='background-color: rgb(254,234,224)'>ک</span><span style='background-color: rgb(254,231,220)'>ه</span><span style='background-color: rgb(254,241,235)'> </span><span style='background-color: rgb(254,242,236)'>م</span><span style='background-color: rgb(254,243,237)'>ن</span><span style='background-color: rgb(254,244,239)'> </span><span style='background-color: rgb(254,244,239)'>چ</span><span style='background-color: rgb(254,244,239)'>ن</span><span style='background-color: rgb(254,244,239)'>د</span><span style='background-color: rgb(254,244,239)'> </span><span style='background-color: rgb(254,244,239)'>ک</span><span style='background-color: rgb(254,244,239)'>و</span><span style='background-color: rgb(254,243,238)'>ش</span><span style='background-color: rgb(254,242,236)'>ی</span><span style='background-color: rgb(254,238,230)'>د</span><span style='background-color: rgb(254,233,224)'>ه</span><span style='background-color: rgb(254,240,233)'> </span><span style='background-color: rgb(254,244,239)'>ا</span><span style='background-color: rgb(254,243,237)'>م</span><span>\t\t:\t\t</span><span>ن</span></div>"
      ],
      "text/plain": [
       "<IPython.core.display.HTML object>"
      ]
     },
     "metadata": {
      "tags": []
     },
     "output_type": "display_data"
    },
    {
     "data": {
      "text/html": [
       "<div><span style='background-color: rgb(254,235,226)'>ت</span><span style='background-color: rgb(254,241,234)'>و</span><span style='background-color: rgb(254,243,237)'> </span><span style='background-color: rgb(254,243,238)'>د</span><span style='background-color: rgb(255,245,240)'>ا</span><span style='background-color: rgb(254,244,239)'>ن</span><span style='background-color: rgb(255,245,240)'>ی</span><span style='background-color: rgb(254,244,239)'> </span><span style='background-color: rgb(254,241,234)'>ک</span><span style='background-color: rgb(254,241,235)'>ه</span><span style='background-color: rgb(254,243,238)'> </span><span style='background-color: rgb(254,242,236)'>م</span><span style='background-color: rgb(254,243,237)'>ن</span><span style='background-color: rgb(254,244,239)'> </span><span style='background-color: rgb(254,243,238)'>چ</span><span style='background-color: rgb(254,237,228)'>ن</span><span style='background-color: rgb(252,173,145)'>د</span><span style='background-color: rgb(252,202,182)'> </span><span style='background-color: rgb(254,234,224)'>ک</span><span style='background-color: rgb(254,242,236)'>و</span><span style='background-color: rgb(254,243,238)'>ش</span><span style='background-color: rgb(254,242,236)'>ی</span><span style='background-color: rgb(254,242,236)'>د</span><span style='background-color: rgb(254,243,238)'>ه</span><span style='background-color: rgb(255,245,240)'> </span><span style='background-color: rgb(255,245,240)'>ا</span><span style='background-color: rgb(254,244,239)'>م</span><span>\t\t:\t\t</span><span>د</span></div>"
      ],
      "text/plain": [
       "<IPython.core.display.HTML object>"
      ]
     },
     "metadata": {
      "tags": []
     },
     "output_type": "display_data"
    },
    {
     "data": {
      "text/html": [
       "<div><span style='background-color: rgb(254,243,238)'>ت</span><span style='background-color: rgb(254,243,238)'>و</span><span style='background-color: rgb(254,244,239)'> </span><span style='background-color: rgb(254,241,234)'>د</span><span style='background-color: rgb(254,243,238)'>ا</span><span style='background-color: rgb(254,243,237)'>ن</span><span style='background-color: rgb(254,243,237)'>ی</span><span style='background-color: rgb(254,237,228)'> </span><span style='background-color: rgb(254,229,218)'>ک</span><span style='background-color: rgb(254,239,232)'>ه</span><span style='background-color: rgb(253,212,194)'> </span><span style='background-color: rgb(252,204,183)'>م</span><span style='background-color: rgb(254,236,227)'>ن</span><span style='background-color: rgb(254,243,238)'> </span><span style='background-color: rgb(254,242,236)'>چ</span><span style='background-color: rgb(254,243,237)'>ن</span><span style='background-color: rgb(254,242,236)'>د</span><span style='background-color: rgb(254,241,235)'> </span><span style='background-color: rgb(254,242,236)'>ک</span><span style='background-color: rgb(254,239,232)'>و</span><span style='background-color: rgb(254,239,232)'>ش</span><span style='background-color: rgb(254,240,233)'>ی</span><span style='background-color: rgb(254,239,231)'>د</span><span style='background-color: rgb(254,241,235)'>ه</span><span style='background-color: rgb(255,245,240)'> </span><span style='background-color: rgb(255,245,240)'>ا</span><span style='background-color: rgb(255,245,240)'>م</span><span>\t\t:\t\t</span><span>ـ</span></div>"
      ],
      "text/plain": [
       "<IPython.core.display.HTML object>"
      ]
     },
     "metadata": {
      "tags": []
     },
     "output_type": "display_data"
    },
    {
     "data": {
      "text/html": [
       "<div><span style='background-color: rgb(254,243,237)'>ت</span><span style='background-color: rgb(254,244,239)'>و</span><span style='background-color: rgb(254,243,238)'> </span><span style='background-color: rgb(254,243,238)'>د</span><span style='background-color: rgb(254,242,236)'>ا</span><span style='background-color: rgb(254,243,238)'>ن</span><span style='background-color: rgb(254,243,237)'>ی</span><span style='background-color: rgb(254,243,237)'> </span><span style='background-color: rgb(254,238,230)'>ک</span><span style='background-color: rgb(255,245,240)'>ه</span><span style='background-color: rgb(254,243,238)'> </span><span style='background-color: rgb(255,245,240)'>م</span><span style='background-color: rgb(254,244,239)'>ن</span><span style='background-color: rgb(254,244,239)'> </span><span style='background-color: rgb(254,244,239)'>چ</span><span style='background-color: rgb(254,244,239)'>ن</span><span style='background-color: rgb(254,244,239)'>د</span><span style='background-color: rgb(255,245,240)'> </span><span style='background-color: rgb(255,245,240)'>ک</span><span style='background-color: rgb(255,245,240)'>و</span><span style='background-color: rgb(255,245,240)'>ش</span><span style='background-color: rgb(254,243,237)'>ی</span><span style='background-color: rgb(254,244,239)'>د</span><span style='background-color: rgb(255,245,240)'>ه</span><span style='background-color: rgb(254,244,239)'> </span><span style='background-color: rgb(254,241,235)'>ا</span><span style='background-color: rgb(254,243,238)'>م</span><span>\t\t:\t\t</span><span>ک</span></div>"
      ],
      "text/plain": [
       "<IPython.core.display.HTML object>"
      ]
     },
     "metadata": {
      "tags": []
     },
     "output_type": "display_data"
    },
    {
     "data": {
      "text/html": [
       "<div><span style='background-color: rgb(254,237,229)'>ت</span><span style='background-color: rgb(254,238,230)'>و</span><span style='background-color: rgb(254,240,233)'> </span><span style='background-color: rgb(254,229,218)'>د</span><span style='background-color: rgb(254,238,230)'>ا</span><span style='background-color: rgb(254,240,233)'>ن</span><span style='background-color: rgb(254,243,237)'>ی</span><span style='background-color: rgb(254,243,238)'> </span><span style='background-color: rgb(254,243,238)'>ک</span><span style='background-color: rgb(254,243,237)'>ه</span><span style='background-color: rgb(254,243,238)'> </span><span style='background-color: rgb(254,243,238)'>م</span><span style='background-color: rgb(254,244,239)'>ن</span><span style='background-color: rgb(255,245,240)'> </span><span style='background-color: rgb(255,245,240)'>چ</span><span style='background-color: rgb(254,243,238)'>ن</span><span style='background-color: rgb(254,244,239)'>د</span><span style='background-color: rgb(254,244,239)'> </span><span style='background-color: rgb(255,245,240)'>ک</span><span style='background-color: rgb(254,244,239)'>و</span><span style='background-color: rgb(254,243,238)'>ش</span><span style='background-color: rgb(254,237,229)'>ی</span><span style='background-color: rgb(254,240,233)'>د</span><span style='background-color: rgb(254,233,223)'>ه</span><span style='background-color: rgb(254,234,224)'> </span><span style='background-color: rgb(254,237,228)'>ا</span><span style='background-color: rgb(254,241,235)'>م</span><span>\t\t:\t\t</span><span>ه</span></div>"
      ],
      "text/plain": [
       "<IPython.core.display.HTML object>"
      ]
     },
     "metadata": {
      "tags": []
     },
     "output_type": "display_data"
    },
    {
     "data": {
      "text/html": [
       "<div><span style='background-color: rgb(254,237,229)'>ت</span><span style='background-color: rgb(254,240,233)'>و</span><span style='background-color: rgb(254,241,235)'> </span><span style='background-color: rgb(254,240,233)'>د</span><span style='background-color: rgb(254,241,235)'>ا</span><span style='background-color: rgb(254,241,234)'>ن</span><span style='background-color: rgb(254,243,237)'>ی</span><span style='background-color: rgb(254,243,237)'> </span><span style='background-color: rgb(254,241,234)'>ک</span><span style='background-color: rgb(254,243,237)'>ه</span><span style='background-color: rgb(254,243,237)'> </span><span style='background-color: rgb(254,239,232)'>م</span><span style='background-color: rgb(254,240,233)'>ن</span><span style='background-color: rgb(254,243,238)'> </span><span style='background-color: rgb(254,242,236)'>چ</span><span style='background-color: rgb(254,243,237)'>ن</span><span style='background-color: rgb(254,243,237)'>د</span><span style='background-color: rgb(254,242,236)'> </span><span style='background-color: rgb(255,245,240)'>ک</span><span style='background-color: rgb(255,245,240)'>و</span><span style='background-color: rgb(254,244,239)'>ش</span><span style='background-color: rgb(254,243,238)'>ی</span><span style='background-color: rgb(254,242,236)'>د</span><span style='background-color: rgb(254,241,234)'>ه</span><span style='background-color: rgb(254,244,239)'> </span><span style='background-color: rgb(255,245,240)'>ا</span><span style='background-color: rgb(254,239,232)'>م</span><span>\t\t:\t\t</span><span>ت</span></div>"
      ],
      "text/plain": [
       "<IPython.core.display.HTML object>"
      ]
     },
     "metadata": {
      "tags": []
     },
     "output_type": "display_data"
    },
    {
     "data": {
      "text/html": [
       "<div><span style='background-color: rgb(254,243,237)'>ت</span><span style='background-color: rgb(254,243,238)'>و</span><span style='background-color: rgb(254,241,235)'> </span><span style='background-color: rgb(254,227,215)'>د</span><span style='background-color: rgb(254,229,217)'>ا</span><span style='background-color: rgb(254,231,220)'>ن</span><span style='background-color: rgb(254,239,232)'>ی</span><span style='background-color: rgb(254,242,236)'> </span><span style='background-color: rgb(254,240,233)'>ک</span><span style='background-color: rgb(254,237,228)'>ه</span><span style='background-color: rgb(254,241,235)'> </span><span style='background-color: rgb(254,240,233)'>م</span><span style='background-color: rgb(254,239,231)'>ن</span><span style='background-color: rgb(254,241,235)'> </span><span style='background-color: rgb(254,241,235)'>چ</span><span style='background-color: rgb(254,243,238)'>ن</span><span style='background-color: rgb(255,245,240)'>د</span><span style='background-color: rgb(254,243,237)'> </span><span style='background-color: rgb(254,243,238)'>ک</span><span style='background-color: rgb(254,243,238)'>و</span><span style='background-color: rgb(254,244,239)'>ش</span><span style='background-color: rgb(254,244,239)'>ی</span><span style='background-color: rgb(254,243,238)'>د</span><span style='background-color: rgb(254,235,225)'>ه</span><span style='background-color: rgb(254,243,238)'> </span><span style='background-color: rgb(254,243,237)'>ا</span><span style='background-color: rgb(254,237,228)'>م</span><span>\t\t:\t\t</span><span>ر</span></div>"
      ],
      "text/plain": [
       "<IPython.core.display.HTML object>"
      ]
     },
     "metadata": {
      "tags": []
     },
     "output_type": "display_data"
    },
    {
     "data": {
      "text/html": [
       "<div><span style='background-color: rgb(254,242,236)'>ت</span><span style='background-color: rgb(254,241,234)'>و</span><span style='background-color: rgb(254,236,227)'> </span><span style='background-color: rgb(254,242,236)'>د</span><span style='background-color: rgb(255,245,240)'>ا</span><span style='background-color: rgb(254,243,238)'>ن</span><span style='background-color: rgb(254,244,239)'>ی</span><span style='background-color: rgb(254,243,238)'> </span><span style='background-color: rgb(254,241,235)'>ک</span><span style='background-color: rgb(254,237,229)'>ه</span><span style='background-color: rgb(254,241,235)'> </span><span style='background-color: rgb(254,233,224)'>م</span><span style='background-color: rgb(254,243,237)'>ن</span><span style='background-color: rgb(255,245,240)'> </span><span style='background-color: rgb(255,245,240)'>چ</span><span style='background-color: rgb(254,244,239)'>ن</span><span style='background-color: rgb(254,241,235)'>د</span><span style='background-color: rgb(254,243,237)'> </span><span style='background-color: rgb(254,241,235)'>ک</span><span style='background-color: rgb(254,238,230)'>و</span><span style='background-color: rgb(254,241,235)'>ش</span><span style='background-color: rgb(254,238,230)'>ی</span><span style='background-color: rgb(254,242,236)'>د</span><span style='background-color: rgb(254,230,219)'>ه</span><span style='background-color: rgb(254,242,236)'> </span><span style='background-color: rgb(254,239,231)'>ا</span><span style='background-color: rgb(254,227,215)'>م</span><span>\t\t:\t\t</span><span>ـ</span></div>"
      ],
      "text/plain": [
       "<IPython.core.display.HTML object>"
      ]
     },
     "metadata": {
      "tags": []
     },
     "output_type": "display_data"
    },
    {
     "data": {
      "text/html": [
       "<div><span style='background-color: rgb(254,242,236)'>ت</span><span style='background-color: rgb(254,243,238)'>و</span><span style='background-color: rgb(255,245,240)'> </span><span style='background-color: rgb(255,245,240)'>د</span><span style='background-color: rgb(255,245,240)'>ا</span><span style='background-color: rgb(255,245,240)'>ن</span><span style='background-color: rgb(254,244,239)'>ی</span><span style='background-color: rgb(255,245,240)'> </span><span style='background-color: rgb(254,243,237)'>ک</span><span style='background-color: rgb(255,245,240)'>ه</span><span style='background-color: rgb(255,245,240)'> </span><span style='background-color: rgb(255,245,240)'>م</span><span style='background-color: rgb(255,245,240)'>ن</span><span style='background-color: rgb(255,245,240)'> </span><span style='background-color: rgb(255,245,240)'>چ</span><span style='background-color: rgb(255,245,240)'>ن</span><span style='background-color: rgb(255,245,240)'>د</span><span style='background-color: rgb(255,245,240)'> </span><span style='background-color: rgb(255,245,240)'>ک</span><span style='background-color: rgb(255,245,240)'>و</span><span style='background-color: rgb(255,245,240)'>ش</span><span style='background-color: rgb(255,245,240)'>ی</span><span style='background-color: rgb(255,245,240)'>د</span><span style='background-color: rgb(255,245,240)'>ه</span><span style='background-color: rgb(254,239,231)'> </span><span style='background-color: rgb(239,61,45)'>ا</span><span style='background-color: rgb(253,222,208)'>م</span><span>\t\t:\t\t</span><span>ا</span></div>"
      ],
      "text/plain": [
       "<IPython.core.display.HTML object>"
      ]
     },
     "metadata": {
      "tags": []
     },
     "output_type": "display_data"
    },
    {
     "data": {
      "text/html": [
       "<div><span style='background-color: rgb(254,244,239)'>ت</span><span style='background-color: rgb(254,244,239)'>و</span><span style='background-color: rgb(255,245,240)'> </span><span style='background-color: rgb(255,245,240)'>د</span><span style='background-color: rgb(255,245,240)'>ا</span><span style='background-color: rgb(255,245,240)'>ن</span><span style='background-color: rgb(255,245,240)'>ی</span><span style='background-color: rgb(255,245,240)'> </span><span style='background-color: rgb(255,245,240)'>ک</span><span style='background-color: rgb(255,245,240)'>ه</span><span style='background-color: rgb(255,245,240)'> </span><span style='background-color: rgb(255,245,240)'>م</span><span style='background-color: rgb(255,245,240)'>ن</span><span style='background-color: rgb(255,245,240)'> </span><span style='background-color: rgb(255,245,240)'>چ</span><span style='background-color: rgb(255,245,240)'>ن</span><span style='background-color: rgb(255,245,240)'>د</span><span style='background-color: rgb(255,245,240)'> </span><span style='background-color: rgb(255,245,240)'>ک</span><span style='background-color: rgb(255,245,240)'>و</span><span style='background-color: rgb(255,245,240)'>ش</span><span style='background-color: rgb(255,245,240)'>ی</span><span style='background-color: rgb(255,245,240)'>د</span><span style='background-color: rgb(255,245,240)'>ه</span><span style='background-color: rgb(255,245,240)'> </span><span style='background-color: rgb(254,243,238)'>ا</span><span style='background-color: rgb(138,8,17)'>م</span><span>\t\t:\t\t</span><span>م</span></div>"
      ],
      "text/plain": [
       "<IPython.core.display.HTML object>"
      ]
     },
     "metadata": {
      "tags": []
     },
     "output_type": "display_data"
    },
    {
     "name": "stdout",
     "output_type": "stream",
     "text": [
      "Test input:\n",
      "شما را ستایش فزونست ازان  ****  خروش و نیایش فزونست ازان\n",
      "Seq2Seq output:\n",
      "نجوید همی از تو راز دیان\n",
      "Seq2Seq with attention output:\n",
      "به بر ان کمان و به بد رازگان\n",
      "Weights of attention:\n"
     ]
    },
    {
     "data": {
      "text/html": [
       "<div><span style='background-color: rgb(254,244,239)'>ش</span><span style='background-color: rgb(254,243,237)'>م</span><span style='background-color: rgb(254,244,239)'>ا</span><span style='background-color: rgb(254,243,237)'> </span><span style='background-color: rgb(254,244,239)'>ر</span><span style='background-color: rgb(254,241,234)'>ا</span><span style='background-color: rgb(254,243,238)'> </span><span style='background-color: rgb(255,245,240)'>س</span><span style='background-color: rgb(255,245,240)'>ت</span><span style='background-color: rgb(254,243,237)'>ا</span><span style='background-color: rgb(254,244,239)'>ی</span><span style='background-color: rgb(255,245,240)'>ش</span><span style='background-color: rgb(254,244,239)'> </span><span style='background-color: rgb(254,243,238)'>ف</span><span style='background-color: rgb(255,245,240)'>ز</span><span style='background-color: rgb(255,245,240)'>و</span><span style='background-color: rgb(255,245,240)'>ن</span><span style='background-color: rgb(255,245,240)'>س</span><span style='background-color: rgb(255,245,240)'>ت</span><span style='background-color: rgb(255,245,240)'> </span><span style='background-color: rgb(254,244,239)'>ا</span><span style='background-color: rgb(254,243,238)'>ز</span><span style='background-color: rgb(255,245,240)'>ا</span><span style='background-color: rgb(255,245,240)'>ن</span><span>\t\t:\t\t</span><span>ب</span></div>"
      ],
      "text/plain": [
       "<IPython.core.display.HTML object>"
      ]
     },
     "metadata": {
      "tags": []
     },
     "output_type": "display_data"
    },
    {
     "data": {
      "text/html": [
       "<div><span style='background-color: rgb(254,236,227)'>ش</span><span style='background-color: rgb(254,241,234)'>م</span><span style='background-color: rgb(254,241,235)'>ا</span><span style='background-color: rgb(254,243,238)'> </span><span style='background-color: rgb(254,243,238)'>ر</span><span style='background-color: rgb(254,241,235)'>ا</span><span style='background-color: rgb(254,243,237)'> </span><span style='background-color: rgb(254,240,233)'>س</span><span style='background-color: rgb(254,243,238)'>ت</span><span style='background-color: rgb(254,240,233)'>ا</span><span style='background-color: rgb(254,241,235)'>ی</span><span style='background-color: rgb(254,240,233)'>ش</span><span style='background-color: rgb(254,243,238)'> </span><span style='background-color: rgb(254,241,235)'>ف</span><span style='background-color: rgb(254,242,236)'>ز</span><span style='background-color: rgb(254,244,239)'>و</span><span style='background-color: rgb(254,243,238)'>ن</span><span style='background-color: rgb(254,244,239)'>س</span><span style='background-color: rgb(254,241,235)'>ت</span><span style='background-color: rgb(254,239,232)'> </span><span style='background-color: rgb(254,243,238)'>ا</span><span style='background-color: rgb(254,243,238)'>ز</span><span style='background-color: rgb(255,245,240)'>ا</span><span style='background-color: rgb(255,245,240)'>ن</span><span>\t\t:\t\t</span><span>ه</span></div>"
      ],
      "text/plain": [
       "<IPython.core.display.HTML object>"
      ]
     },
     "metadata": {
      "tags": []
     },
     "output_type": "display_data"
    },
    {
     "data": {
      "text/html": [
       "<div><span style='background-color: rgb(254,243,237)'>ش</span><span style='background-color: rgb(254,240,233)'>م</span><span style='background-color: rgb(254,237,228)'>ا</span><span style='background-color: rgb(254,239,232)'> </span><span style='background-color: rgb(254,243,237)'>ر</span><span style='background-color: rgb(254,243,237)'>ا</span><span style='background-color: rgb(254,236,227)'> </span><span style='background-color: rgb(254,228,216)'>س</span><span style='background-color: rgb(253,211,192)'>ت</span><span style='background-color: rgb(254,235,226)'>ا</span><span style='background-color: rgb(254,238,230)'>ی</span><span style='background-color: rgb(254,236,227)'>ش</span><span style='background-color: rgb(254,241,235)'> </span><span style='background-color: rgb(254,244,239)'>ف</span><span style='background-color: rgb(254,244,239)'>ز</span><span style='background-color: rgb(254,243,237)'>و</span><span style='background-color: rgb(254,235,225)'>ن</span><span style='background-color: rgb(254,239,231)'>س</span><span style='background-color: rgb(254,240,233)'>ت</span><span style='background-color: rgb(254,238,230)'> </span><span style='background-color: rgb(254,244,239)'>ا</span><span style='background-color: rgb(255,245,240)'>ز</span><span style='background-color: rgb(254,244,239)'>ا</span><span style='background-color: rgb(254,244,239)'>ن</span><span>\t\t:\t\t</span><span>ـ</span></div>"
      ],
      "text/plain": [
       "<IPython.core.display.HTML object>"
      ]
     },
     "metadata": {
      "tags": []
     },
     "output_type": "display_data"
    },
    {
     "data": {
      "text/html": [
       "<div><span style='background-color: rgb(254,243,238)'>ش</span><span style='background-color: rgb(254,243,238)'>م</span><span style='background-color: rgb(254,244,239)'>ا</span><span style='background-color: rgb(254,243,238)'> </span><span style='background-color: rgb(254,243,237)'>ر</span><span style='background-color: rgb(254,238,230)'>ا</span><span style='background-color: rgb(254,242,236)'> </span><span style='background-color: rgb(254,241,234)'>س</span><span style='background-color: rgb(254,244,239)'>ت</span><span style='background-color: rgb(254,241,235)'>ا</span><span style='background-color: rgb(254,241,235)'>ی</span><span style='background-color: rgb(254,242,236)'>ش</span><span style='background-color: rgb(254,243,237)'> </span><span style='background-color: rgb(254,241,235)'>ف</span><span style='background-color: rgb(254,244,239)'>ز</span><span style='background-color: rgb(255,245,240)'>و</span><span style='background-color: rgb(254,244,239)'>ن</span><span style='background-color: rgb(254,244,239)'>س</span><span style='background-color: rgb(254,241,234)'>ت</span><span style='background-color: rgb(254,240,233)'> </span><span style='background-color: rgb(254,244,239)'>ا</span><span style='background-color: rgb(254,244,239)'>ز</span><span style='background-color: rgb(255,245,240)'>ا</span><span style='background-color: rgb(255,245,240)'>ن</span><span>\t\t:\t\t</span><span>ب</span></div>"
      ],
      "text/plain": [
       "<IPython.core.display.HTML object>"
      ]
     },
     "metadata": {
      "tags": []
     },
     "output_type": "display_data"
    },
    {
     "data": {
      "text/html": [
       "<div><span style='background-color: rgb(254,235,225)'>ش</span><span style='background-color: rgb(254,240,233)'>م</span><span style='background-color: rgb(254,239,231)'>ا</span><span style='background-color: rgb(254,241,234)'> </span><span style='background-color: rgb(254,243,238)'>ر</span><span style='background-color: rgb(254,243,238)'>ا</span><span style='background-color: rgb(254,244,239)'> </span><span style='background-color: rgb(254,243,237)'>س</span><span style='background-color: rgb(254,242,236)'>ت</span><span style='background-color: rgb(254,241,235)'>ا</span><span style='background-color: rgb(254,242,236)'>ی</span><span style='background-color: rgb(254,237,228)'>ش</span><span style='background-color: rgb(254,239,231)'> </span><span style='background-color: rgb(254,239,231)'>ف</span><span style='background-color: rgb(254,243,238)'>ز</span><span style='background-color: rgb(254,244,239)'>و</span><span style='background-color: rgb(254,243,238)'>ن</span><span style='background-color: rgb(254,244,239)'>س</span><span style='background-color: rgb(254,244,239)'>ت</span><span style='background-color: rgb(254,243,237)'> </span><span style='background-color: rgb(255,245,240)'>ا</span><span style='background-color: rgb(254,244,239)'>ز</span><span style='background-color: rgb(255,245,240)'>ا</span><span style='background-color: rgb(255,245,240)'>ن</span><span>\t\t:\t\t</span><span>ر</span></div>"
      ],
      "text/plain": [
       "<IPython.core.display.HTML object>"
      ]
     },
     "metadata": {
      "tags": []
     },
     "output_type": "display_data"
    },
    {
     "data": {
      "text/html": [
       "<div><span style='background-color: rgb(254,243,238)'>ش</span><span style='background-color: rgb(254,244,239)'>م</span><span style='background-color: rgb(254,244,239)'>ا</span><span style='background-color: rgb(254,243,237)'> </span><span style='background-color: rgb(254,239,232)'>ر</span><span style='background-color: rgb(254,241,234)'>ا</span><span style='background-color: rgb(254,243,237)'> </span><span style='background-color: rgb(254,239,232)'>س</span><span style='background-color: rgb(254,239,232)'>ت</span><span style='background-color: rgb(254,234,224)'>ا</span><span style='background-color: rgb(254,234,224)'>ی</span><span style='background-color: rgb(253,221,206)'>ش</span><span style='background-color: rgb(254,237,229)'> </span><span style='background-color: rgb(254,239,231)'>ف</span><span style='background-color: rgb(254,241,234)'>ز</span><span style='background-color: rgb(254,241,235)'>و</span><span style='background-color: rgb(254,240,233)'>ن</span><span style='background-color: rgb(254,241,235)'>س</span><span style='background-color: rgb(254,241,234)'>ت</span><span style='background-color: rgb(254,240,233)'> </span><span style='background-color: rgb(254,244,239)'>ا</span><span style='background-color: rgb(254,244,239)'>ز</span><span style='background-color: rgb(254,243,238)'>ا</span><span style='background-color: rgb(254,243,238)'>ن</span><span>\t\t:\t\t</span><span>ـ</span></div>"
      ],
      "text/plain": [
       "<IPython.core.display.HTML object>"
      ]
     },
     "metadata": {
      "tags": []
     },
     "output_type": "display_data"
    },
    {
     "data": {
      "text/html": [
       "<div><span style='background-color: rgb(254,243,238)'>ش</span><span style='background-color: rgb(254,241,235)'>م</span><span style='background-color: rgb(254,243,237)'>ا</span><span style='background-color: rgb(254,243,237)'> </span><span style='background-color: rgb(254,243,238)'>ر</span><span style='background-color: rgb(254,241,235)'>ا</span><span style='background-color: rgb(254,243,238)'> </span><span style='background-color: rgb(254,239,232)'>س</span><span style='background-color: rgb(254,243,238)'>ت</span><span style='background-color: rgb(254,239,231)'>ا</span><span style='background-color: rgb(254,237,228)'>ی</span><span style='background-color: rgb(254,241,234)'>ش</span><span style='background-color: rgb(254,242,236)'> </span><span style='background-color: rgb(254,237,229)'>ف</span><span style='background-color: rgb(254,243,237)'>ز</span><span style='background-color: rgb(254,244,239)'>و</span><span style='background-color: rgb(254,243,238)'>ن</span><span style='background-color: rgb(254,244,239)'>س</span><span style='background-color: rgb(254,239,232)'>ت</span><span style='background-color: rgb(254,240,233)'> </span><span style='background-color: rgb(254,244,239)'>ا</span><span style='background-color: rgb(254,243,238)'>ز</span><span style='background-color: rgb(255,245,240)'>ا</span><span style='background-color: rgb(254,244,239)'>ن</span><span>\t\t:\t\t</span><span>ا</span></div>"
      ],
      "text/plain": [
       "<IPython.core.display.HTML object>"
      ]
     },
     "metadata": {
      "tags": []
     },
     "output_type": "display_data"
    },
    {
     "data": {
      "text/html": [
       "<div><span style='background-color: rgb(254,243,238)'>ش</span><span style='background-color: rgb(254,239,231)'>م</span><span style='background-color: rgb(254,239,231)'>ا</span><span style='background-color: rgb(254,241,235)'> </span><span style='background-color: rgb(254,234,224)'>ر</span><span style='background-color: rgb(254,237,229)'>ا</span><span style='background-color: rgb(254,241,234)'> </span><span style='background-color: rgb(254,241,234)'>س</span><span style='background-color: rgb(254,244,239)'>ت</span><span style='background-color: rgb(254,242,236)'>ا</span><span style='background-color: rgb(254,243,237)'>ی</span><span style='background-color: rgb(254,243,238)'>ش</span><span style='background-color: rgb(254,243,238)'> </span><span style='background-color: rgb(254,241,235)'>ف</span><span style='background-color: rgb(254,244,239)'>ز</span><span style='background-color: rgb(254,244,239)'>و</span><span style='background-color: rgb(254,244,239)'>ن</span><span style='background-color: rgb(254,244,239)'>س</span><span style='background-color: rgb(254,242,236)'>ت</span><span style='background-color: rgb(254,241,235)'> </span><span style='background-color: rgb(254,243,238)'>ا</span><span style='background-color: rgb(254,239,232)'>ز</span><span style='background-color: rgb(255,245,240)'>ا</span><span style='background-color: rgb(254,243,238)'>ن</span><span>\t\t:\t\t</span><span>ن</span></div>"
      ],
      "text/plain": [
       "<IPython.core.display.HTML object>"
      ]
     },
     "metadata": {
      "tags": []
     },
     "output_type": "display_data"
    },
    {
     "data": {
      "text/html": [
       "<div><span style='background-color: rgb(254,242,236)'>ش</span><span style='background-color: rgb(254,244,239)'>م</span><span style='background-color: rgb(254,243,238)'>ا</span><span style='background-color: rgb(255,245,240)'> </span><span style='background-color: rgb(254,244,239)'>ر</span><span style='background-color: rgb(254,244,239)'>ا</span><span style='background-color: rgb(254,242,236)'> </span><span style='background-color: rgb(254,236,227)'>س</span><span style='background-color: rgb(254,233,223)'>ت</span><span style='background-color: rgb(254,237,228)'>ا</span><span style='background-color: rgb(254,239,231)'>ی</span><span style='background-color: rgb(253,216,200)'>ش</span><span style='background-color: rgb(254,229,218)'> </span><span style='background-color: rgb(254,235,226)'>ف</span><span style='background-color: rgb(254,235,226)'>ز</span><span style='background-color: rgb(254,241,235)'>و</span><span style='background-color: rgb(254,241,234)'>ن</span><span style='background-color: rgb(254,243,237)'>س</span><span style='background-color: rgb(254,241,234)'>ت</span><span style='background-color: rgb(254,243,237)'> </span><span style='background-color: rgb(255,245,240)'>ا</span><span style='background-color: rgb(254,244,239)'>ز</span><span style='background-color: rgb(255,245,240)'>ا</span><span style='background-color: rgb(254,244,239)'>ن</span><span>\t\t:\t\t</span><span>ـ</span></div>"
      ],
      "text/plain": [
       "<IPython.core.display.HTML object>"
      ]
     },
     "metadata": {
      "tags": []
     },
     "output_type": "display_data"
    },
    {
     "data": {
      "text/html": [
       "<div><span style='background-color: rgb(254,243,238)'>ش</span><span style='background-color: rgb(254,240,233)'>م</span><span style='background-color: rgb(254,243,237)'>ا</span><span style='background-color: rgb(254,243,237)'> </span><span style='background-color: rgb(254,243,238)'>ر</span><span style='background-color: rgb(254,241,235)'>ا</span><span style='background-color: rgb(254,244,239)'> </span><span style='background-color: rgb(254,243,237)'>س</span><span style='background-color: rgb(254,244,239)'>ت</span><span style='background-color: rgb(254,241,234)'>ا</span><span style='background-color: rgb(254,243,238)'>ی</span><span style='background-color: rgb(254,244,239)'>ش</span><span style='background-color: rgb(254,244,239)'> </span><span style='background-color: rgb(254,243,238)'>ف</span><span style='background-color: rgb(255,245,240)'>ز</span><span style='background-color: rgb(255,245,240)'>و</span><span style='background-color: rgb(255,245,240)'>ن</span><span style='background-color: rgb(255,245,240)'>س</span><span style='background-color: rgb(254,244,239)'>ت</span><span style='background-color: rgb(254,243,238)'> </span><span style='background-color: rgb(254,244,239)'>ا</span><span style='background-color: rgb(254,244,239)'>ز</span><span style='background-color: rgb(255,245,240)'>ا</span><span style='background-color: rgb(255,245,240)'>ن</span><span>\t\t:\t\t</span><span>ک</span></div>"
      ],
      "text/plain": [
       "<IPython.core.display.HTML object>"
      ]
     },
     "metadata": {
      "tags": []
     },
     "output_type": "display_data"
    },
    {
     "data": {
      "text/html": [
       "<div><span style='background-color: rgb(254,235,226)'>ش</span><span style='background-color: rgb(254,243,237)'>م</span><span style='background-color: rgb(254,242,236)'>ا</span><span style='background-color: rgb(254,240,233)'> </span><span style='background-color: rgb(254,236,227)'>ر</span><span style='background-color: rgb(254,241,234)'>ا</span><span style='background-color: rgb(254,237,229)'> </span><span style='background-color: rgb(254,241,234)'>س</span><span style='background-color: rgb(254,243,238)'>ت</span><span style='background-color: rgb(254,242,236)'>ا</span><span style='background-color: rgb(254,243,237)'>ی</span><span style='background-color: rgb(254,242,236)'>ش</span><span style='background-color: rgb(254,244,239)'> </span><span style='background-color: rgb(254,243,238)'>ف</span><span style='background-color: rgb(254,244,239)'>ز</span><span style='background-color: rgb(254,244,239)'>و</span><span style='background-color: rgb(254,244,239)'>ن</span><span style='background-color: rgb(254,244,239)'>س</span><span style='background-color: rgb(254,239,232)'>ت</span><span style='background-color: rgb(254,229,218)'> </span><span style='background-color: rgb(254,235,226)'>ا</span><span style='background-color: rgb(254,241,235)'>ز</span><span style='background-color: rgb(254,243,238)'>ا</span><span style='background-color: rgb(254,242,236)'>ن</span><span>\t\t:\t\t</span><span>م</span></div>"
      ],
      "text/plain": [
       "<IPython.core.display.HTML object>"
      ]
     },
     "metadata": {
      "tags": []
     },
     "output_type": "display_data"
    },
    {
     "data": {
      "text/html": [
       "<div><span style='background-color: rgb(254,237,229)'>ش</span><span style='background-color: rgb(254,241,234)'>م</span><span style='background-color: rgb(254,237,228)'>ا</span><span style='background-color: rgb(254,238,230)'> </span><span style='background-color: rgb(254,240,233)'>ر</span><span style='background-color: rgb(254,238,230)'>ا</span><span style='background-color: rgb(254,237,228)'> </span><span style='background-color: rgb(254,231,220)'>س</span><span style='background-color: rgb(254,235,225)'>ت</span><span style='background-color: rgb(254,238,230)'>ا</span><span style='background-color: rgb(254,242,236)'>ی</span><span style='background-color: rgb(254,242,236)'>ش</span><span style='background-color: rgb(254,241,235)'> </span><span style='background-color: rgb(254,242,236)'>ف</span><span style='background-color: rgb(254,244,239)'>ز</span><span style='background-color: rgb(255,245,240)'>و</span><span style='background-color: rgb(254,242,236)'>ن</span><span style='background-color: rgb(254,244,239)'>س</span><span style='background-color: rgb(254,244,239)'>ت</span><span style='background-color: rgb(254,243,238)'> </span><span style='background-color: rgb(255,245,240)'>ا</span><span style='background-color: rgb(255,245,240)'>ز</span><span style='background-color: rgb(255,245,240)'>ا</span><span style='background-color: rgb(255,245,240)'>ن</span><span>\t\t:\t\t</span><span>ا</span></div>"
      ],
      "text/plain": [
       "<IPython.core.display.HTML object>"
      ]
     },
     "metadata": {
      "tags": []
     },
     "output_type": "display_data"
    },
    {
     "data": {
      "text/html": [
       "<div><span style='background-color: rgb(254,238,230)'>ش</span><span style='background-color: rgb(254,239,232)'>م</span><span style='background-color: rgb(254,239,231)'>ا</span><span style='background-color: rgb(254,237,228)'> </span><span style='background-color: rgb(254,229,218)'>ر</span><span style='background-color: rgb(252,197,174)'>ا</span><span style='background-color: rgb(254,237,228)'> </span><span style='background-color: rgb(254,237,228)'>س</span><span style='background-color: rgb(254,238,230)'>ت</span><span style='background-color: rgb(254,239,231)'>ا</span><span style='background-color: rgb(254,242,236)'>ی</span><span style='background-color: rgb(254,243,237)'>ش</span><span style='background-color: rgb(254,239,231)'> </span><span style='background-color: rgb(254,231,220)'>ف</span><span style='background-color: rgb(254,243,238)'>ز</span><span style='background-color: rgb(254,243,237)'>و</span><span style='background-color: rgb(254,241,234)'>ن</span><span style='background-color: rgb(254,243,238)'>س</span><span style='background-color: rgb(254,243,237)'>ت</span><span style='background-color: rgb(254,244,239)'> </span><span style='background-color: rgb(255,245,240)'>ا</span><span style='background-color: rgb(255,245,240)'>ز</span><span style='background-color: rgb(255,245,240)'>ا</span><span style='background-color: rgb(254,244,239)'>ن</span><span>\t\t:\t\t</span><span>ن</span></div>"
      ],
      "text/plain": [
       "<IPython.core.display.HTML object>"
      ]
     },
     "metadata": {
      "tags": []
     },
     "output_type": "display_data"
    },
    {
     "data": {
      "text/html": [
       "<div><span style='background-color: rgb(254,241,234)'>ش</span><span style='background-color: rgb(254,243,238)'>م</span><span style='background-color: rgb(254,244,239)'>ا</span><span style='background-color: rgb(255,245,240)'> </span><span style='background-color: rgb(254,244,239)'>ر</span><span style='background-color: rgb(254,243,238)'>ا</span><span style='background-color: rgb(254,241,235)'> </span><span style='background-color: rgb(254,236,227)'>س</span><span style='background-color: rgb(254,231,221)'>ت</span><span style='background-color: rgb(254,240,233)'>ا</span><span style='background-color: rgb(254,242,236)'>ی</span><span style='background-color: rgb(254,234,224)'>ش</span><span style='background-color: rgb(254,239,231)'> </span><span style='background-color: rgb(254,235,226)'>ف</span><span style='background-color: rgb(254,231,220)'>ز</span><span style='background-color: rgb(254,238,230)'>و</span><span style='background-color: rgb(254,230,219)'>ن</span><span style='background-color: rgb(254,236,227)'>س</span><span style='background-color: rgb(254,229,218)'>ت</span><span style='background-color: rgb(254,233,224)'> </span><span style='background-color: rgb(255,245,240)'>ا</span><span style='background-color: rgb(254,244,239)'>ز</span><span style='background-color: rgb(255,245,240)'>ا</span><span style='background-color: rgb(255,245,240)'>ن</span><span>\t\t:\t\t</span><span>ـ</span></div>"
      ],
      "text/plain": [
       "<IPython.core.display.HTML object>"
      ]
     },
     "metadata": {
      "tags": []
     },
     "output_type": "display_data"
    },
    {
     "data": {
      "text/html": [
       "<div><span style='background-color: rgb(254,243,238)'>ش</span><span style='background-color: rgb(254,243,237)'>م</span><span style='background-color: rgb(254,242,236)'>ا</span><span style='background-color: rgb(254,243,238)'> </span><span style='background-color: rgb(254,243,238)'>ر</span><span style='background-color: rgb(254,242,236)'>ا</span><span style='background-color: rgb(254,243,238)'> </span><span style='background-color: rgb(254,242,236)'>س</span><span style='background-color: rgb(254,244,239)'>ت</span><span style='background-color: rgb(254,243,237)'>ا</span><span style='background-color: rgb(254,242,236)'>ی</span><span style='background-color: rgb(254,243,237)'>ش</span><span style='background-color: rgb(254,241,234)'> </span><span style='background-color: rgb(254,241,234)'>ف</span><span style='background-color: rgb(255,245,240)'>ز</span><span style='background-color: rgb(255,245,240)'>و</span><span style='background-color: rgb(255,245,240)'>ن</span><span style='background-color: rgb(255,245,240)'>س</span><span style='background-color: rgb(254,240,233)'>ت</span><span style='background-color: rgb(254,243,237)'> </span><span style='background-color: rgb(254,243,237)'>ا</span><span style='background-color: rgb(254,244,239)'>ز</span><span style='background-color: rgb(255,245,240)'>ا</span><span style='background-color: rgb(254,244,239)'>ن</span><span>\t\t:\t\t</span><span>و</span></div>"
      ],
      "text/plain": [
       "<IPython.core.display.HTML object>"
      ]
     },
     "metadata": {
      "tags": []
     },
     "output_type": "display_data"
    },
    {
     "data": {
      "text/html": [
       "<div><span style='background-color: rgb(254,243,237)'>ش</span><span style='background-color: rgb(254,241,234)'>م</span><span style='background-color: rgb(254,236,227)'>ا</span><span style='background-color: rgb(254,243,237)'> </span><span style='background-color: rgb(254,241,234)'>ر</span><span style='background-color: rgb(254,242,236)'>ا</span><span style='background-color: rgb(254,241,235)'> </span><span style='background-color: rgb(254,239,231)'>س</span><span style='background-color: rgb(254,233,224)'>ت</span><span style='background-color: rgb(254,225,211)'>ا</span><span style='background-color: rgb(254,233,223)'>ی</span><span style='background-color: rgb(254,231,220)'>ش</span><span style='background-color: rgb(254,241,234)'> </span><span style='background-color: rgb(254,243,237)'>ف</span><span style='background-color: rgb(254,244,239)'>ز</span><span style='background-color: rgb(254,244,239)'>و</span><span style='background-color: rgb(254,242,236)'>ن</span><span style='background-color: rgb(254,243,238)'>س</span><span style='background-color: rgb(254,241,235)'>ت</span><span style='background-color: rgb(254,241,235)'> </span><span style='background-color: rgb(254,241,235)'>ا</span><span style='background-color: rgb(254,235,225)'>ز</span><span style='background-color: rgb(255,245,240)'>ا</span><span style='background-color: rgb(254,243,237)'>ن</span><span>\t\t:\t\t</span><span>ـ</span></div>"
      ],
      "text/plain": [
       "<IPython.core.display.HTML object>"
      ]
     },
     "metadata": {
      "tags": []
     },
     "output_type": "display_data"
    },
    {
     "data": {
      "text/html": [
       "<div><span style='background-color: rgb(254,243,238)'>ش</span><span style='background-color: rgb(254,243,237)'>م</span><span style='background-color: rgb(254,244,239)'>ا</span><span style='background-color: rgb(254,243,238)'> </span><span style='background-color: rgb(254,241,235)'>ر</span><span style='background-color: rgb(254,237,228)'>ا</span><span style='background-color: rgb(254,243,238)'> </span><span style='background-color: rgb(254,243,238)'>س</span><span style='background-color: rgb(255,245,240)'>ت</span><span style='background-color: rgb(254,244,239)'>ا</span><span style='background-color: rgb(254,244,239)'>ی</span><span style='background-color: rgb(254,244,239)'>ش</span><span style='background-color: rgb(254,243,238)'> </span><span style='background-color: rgb(254,241,235)'>ف</span><span style='background-color: rgb(255,245,240)'>ز</span><span style='background-color: rgb(255,245,240)'>و</span><span style='background-color: rgb(255,245,240)'>ن</span><span style='background-color: rgb(255,245,240)'>س</span><span style='background-color: rgb(254,243,238)'>ت</span><span style='background-color: rgb(254,243,238)'> </span><span style='background-color: rgb(254,243,238)'>ا</span><span style='background-color: rgb(254,243,238)'>ز</span><span style='background-color: rgb(255,245,240)'>ا</span><span style='background-color: rgb(255,245,240)'>ن</span><span>\t\t:\t\t</span><span>ب</span></div>"
      ],
      "text/plain": [
       "<IPython.core.display.HTML object>"
      ]
     },
     "metadata": {
      "tags": []
     },
     "output_type": "display_data"
    },
    {
     "data": {
      "text/html": [
       "<div><span style='background-color: rgb(254,229,218)'>ش</span><span style='background-color: rgb(254,240,233)'>م</span><span style='background-color: rgb(254,243,237)'>ا</span><span style='background-color: rgb(254,244,239)'> </span><span style='background-color: rgb(254,243,238)'>ر</span><span style='background-color: rgb(254,244,239)'>ا</span><span style='background-color: rgb(255,245,240)'> </span><span style='background-color: rgb(254,244,239)'>س</span><span style='background-color: rgb(254,244,239)'>ت</span><span style='background-color: rgb(254,243,238)'>ا</span><span style='background-color: rgb(254,244,239)'>ی</span><span style='background-color: rgb(254,244,239)'>ش</span><span style='background-color: rgb(254,243,238)'> </span><span style='background-color: rgb(254,241,235)'>ف</span><span style='background-color: rgb(254,244,239)'>ز</span><span style='background-color: rgb(255,245,240)'>و</span><span style='background-color: rgb(255,245,240)'>ن</span><span style='background-color: rgb(255,245,240)'>س</span><span style='background-color: rgb(254,244,239)'>ت</span><span style='background-color: rgb(254,243,238)'> </span><span style='background-color: rgb(254,244,239)'>ا</span><span style='background-color: rgb(254,244,239)'>ز</span><span style='background-color: rgb(255,245,240)'>ا</span><span style='background-color: rgb(254,244,239)'>ن</span><span>\t\t:\t\t</span><span>ه</span></div>"
      ],
      "text/plain": [
       "<IPython.core.display.HTML object>"
      ]
     },
     "metadata": {
      "tags": []
     },
     "output_type": "display_data"
    },
    {
     "data": {
      "text/html": [
       "<div><span style='background-color: rgb(254,241,235)'>ش</span><span style='background-color: rgb(254,239,231)'>م</span><span style='background-color: rgb(254,237,228)'>ا</span><span style='background-color: rgb(254,241,234)'> </span><span style='background-color: rgb(254,243,238)'>ر</span><span style='background-color: rgb(254,243,237)'>ا</span><span style='background-color: rgb(254,233,223)'> </span><span style='background-color: rgb(254,229,218)'>س</span><span style='background-color: rgb(254,226,213)'>ت</span><span style='background-color: rgb(254,236,227)'>ا</span><span style='background-color: rgb(254,242,236)'>ی</span><span style='background-color: rgb(254,239,231)'>ش</span><span style='background-color: rgb(254,241,235)'> </span><span style='background-color: rgb(254,239,231)'>ف</span><span style='background-color: rgb(254,241,234)'>ز</span><span style='background-color: rgb(254,241,235)'>و</span><span style='background-color: rgb(254,235,226)'>ن</span><span style='background-color: rgb(254,239,232)'>س</span><span style='background-color: rgb(254,241,235)'>ت</span><span style='background-color: rgb(254,239,231)'> </span><span style='background-color: rgb(255,245,240)'>ا</span><span style='background-color: rgb(254,244,239)'>ز</span><span style='background-color: rgb(254,244,239)'>ا</span><span style='background-color: rgb(254,244,239)'>ن</span><span>\t\t:\t\t</span><span>ـ</span></div>"
      ],
      "text/plain": [
       "<IPython.core.display.HTML object>"
      ]
     },
     "metadata": {
      "tags": []
     },
     "output_type": "display_data"
    },
    {
     "data": {
      "text/html": [
       "<div><span style='background-color: rgb(254,242,236)'>ش</span><span style='background-color: rgb(254,243,238)'>م</span><span style='background-color: rgb(254,244,239)'>ا</span><span style='background-color: rgb(254,243,237)'> </span><span style='background-color: rgb(254,243,238)'>ر</span><span style='background-color: rgb(254,241,235)'>ا</span><span style='background-color: rgb(255,245,240)'> </span><span style='background-color: rgb(254,244,239)'>س</span><span style='background-color: rgb(255,245,240)'>ت</span><span style='background-color: rgb(254,241,234)'>ا</span><span style='background-color: rgb(254,240,233)'>ی</span><span style='background-color: rgb(254,241,235)'>ش</span><span style='background-color: rgb(254,241,234)'> </span><span style='background-color: rgb(254,241,235)'>ف</span><span style='background-color: rgb(254,244,239)'>ز</span><span style='background-color: rgb(254,244,239)'>و</span><span style='background-color: rgb(254,243,238)'>ن</span><span style='background-color: rgb(254,244,239)'>س</span><span style='background-color: rgb(254,242,236)'>ت</span><span style='background-color: rgb(254,242,236)'> </span><span style='background-color: rgb(254,244,239)'>ا</span><span style='background-color: rgb(255,245,240)'>ز</span><span style='background-color: rgb(255,245,240)'>ا</span><span style='background-color: rgb(255,245,240)'>ن</span><span>\t\t:\t\t</span><span>ب</span></div>"
      ],
      "text/plain": [
       "<IPython.core.display.HTML object>"
      ]
     },
     "metadata": {
      "tags": []
     },
     "output_type": "display_data"
    },
    {
     "data": {
      "text/html": [
       "<div><span style='background-color: rgb(254,241,235)'>ش</span><span style='background-color: rgb(254,243,237)'>م</span><span style='background-color: rgb(254,241,234)'>ا</span><span style='background-color: rgb(254,243,237)'> </span><span style='background-color: rgb(254,244,239)'>ر</span><span style='background-color: rgb(255,245,240)'>ا</span><span style='background-color: rgb(255,245,240)'> </span><span style='background-color: rgb(254,243,238)'>س</span><span style='background-color: rgb(254,243,237)'>ت</span><span style='background-color: rgb(254,242,236)'>ا</span><span style='background-color: rgb(254,242,236)'>ی</span><span style='background-color: rgb(254,234,224)'>ش</span><span style='background-color: rgb(254,234,224)'> </span><span style='background-color: rgb(253,220,205)'>ف</span><span style='background-color: rgb(254,239,232)'>ز</span><span style='background-color: rgb(254,243,238)'>و</span><span style='background-color: rgb(254,243,238)'>ن</span><span style='background-color: rgb(254,244,239)'>س</span><span style='background-color: rgb(254,243,237)'>ت</span><span style='background-color: rgb(254,242,236)'> </span><span style='background-color: rgb(254,244,239)'>ا</span><span style='background-color: rgb(254,244,239)'>ز</span><span style='background-color: rgb(255,245,240)'>ا</span><span style='background-color: rgb(255,245,240)'>ن</span><span>\t\t:\t\t</span><span>د</span></div>"
      ],
      "text/plain": [
       "<IPython.core.display.HTML object>"
      ]
     },
     "metadata": {
      "tags": []
     },
     "output_type": "display_data"
    },
    {
     "data": {
      "text/html": [
       "<div><span style='background-color: rgb(254,243,237)'>ش</span><span style='background-color: rgb(255,245,240)'>م</span><span style='background-color: rgb(255,245,240)'>ا</span><span style='background-color: rgb(254,244,239)'> </span><span style='background-color: rgb(254,243,237)'>ر</span><span style='background-color: rgb(254,243,238)'>ا</span><span style='background-color: rgb(254,241,234)'> </span><span style='background-color: rgb(254,237,229)'>س</span><span style='background-color: rgb(253,220,205)'>ت</span><span style='background-color: rgb(254,229,218)'>ا</span><span style='background-color: rgb(254,239,231)'>ی</span><span style='background-color: rgb(254,231,220)'>ش</span><span style='background-color: rgb(254,237,229)'> </span><span style='background-color: rgb(254,243,237)'>ف</span><span style='background-color: rgb(254,242,236)'>ز</span><span style='background-color: rgb(254,242,236)'>و</span><span style='background-color: rgb(254,237,228)'>ن</span><span style='background-color: rgb(254,237,228)'>س</span><span style='background-color: rgb(254,241,234)'>ت</span><span style='background-color: rgb(254,243,237)'> </span><span style='background-color: rgb(255,245,240)'>ا</span><span style='background-color: rgb(254,244,239)'>ز</span><span style='background-color: rgb(255,245,240)'>ا</span><span style='background-color: rgb(254,244,239)'>ن</span><span>\t\t:\t\t</span><span>ـ</span></div>"
      ],
      "text/plain": [
       "<IPython.core.display.HTML object>"
      ]
     },
     "metadata": {
      "tags": []
     },
     "output_type": "display_data"
    },
    {
     "data": {
      "text/html": [
       "<div><span style='background-color: rgb(254,241,234)'>ش</span><span style='background-color: rgb(254,235,226)'>م</span><span style='background-color: rgb(254,239,231)'>ا</span><span style='background-color: rgb(254,237,229)'> </span><span style='background-color: rgb(254,241,234)'>ر</span><span style='background-color: rgb(254,235,225)'>ا</span><span style='background-color: rgb(254,242,236)'> </span><span style='background-color: rgb(254,241,235)'>س</span><span style='background-color: rgb(255,245,240)'>ت</span><span style='background-color: rgb(255,245,240)'>ا</span><span style='background-color: rgb(255,245,240)'>ی</span><span style='background-color: rgb(254,244,239)'>ش</span><span style='background-color: rgb(254,244,239)'> </span><span style='background-color: rgb(254,243,237)'>ف</span><span style='background-color: rgb(255,245,240)'>ز</span><span style='background-color: rgb(255,245,240)'>و</span><span style='background-color: rgb(255,245,240)'>ن</span><span style='background-color: rgb(255,245,240)'>س</span><span style='background-color: rgb(254,243,238)'>ت</span><span style='background-color: rgb(254,244,239)'> </span><span style='background-color: rgb(254,244,239)'>ا</span><span style='background-color: rgb(254,244,239)'>ز</span><span style='background-color: rgb(255,245,240)'>ا</span><span style='background-color: rgb(255,245,240)'>ن</span><span>\t\t:\t\t</span><span>ر</span></div>"
      ],
      "text/plain": [
       "<IPython.core.display.HTML object>"
      ]
     },
     "metadata": {
      "tags": []
     },
     "output_type": "display_data"
    },
    {
     "data": {
      "text/html": [
       "<div><span style='background-color: rgb(254,237,228)'>ش</span><span style='background-color: rgb(254,243,238)'>م</span><span style='background-color: rgb(255,245,240)'>ا</span><span style='background-color: rgb(254,244,239)'> </span><span style='background-color: rgb(255,245,240)'>ر</span><span style='background-color: rgb(255,245,240)'>ا</span><span style='background-color: rgb(255,245,240)'> </span><span style='background-color: rgb(254,244,239)'>س</span><span style='background-color: rgb(254,243,237)'>ت</span><span style='background-color: rgb(254,241,235)'>ا</span><span style='background-color: rgb(254,244,239)'>ی</span><span style='background-color: rgb(254,240,233)'>ش</span><span style='background-color: rgb(254,243,238)'> </span><span style='background-color: rgb(255,245,240)'>ف</span><span style='background-color: rgb(255,245,240)'>ز</span><span style='background-color: rgb(255,245,240)'>و</span><span style='background-color: rgb(254,244,239)'>ن</span><span style='background-color: rgb(254,244,239)'>س</span><span style='background-color: rgb(254,241,234)'>ت</span><span style='background-color: rgb(254,238,230)'> </span><span style='background-color: rgb(254,241,234)'>ا</span><span style='background-color: rgb(254,243,238)'>ز</span><span style='background-color: rgb(254,244,239)'>ا</span><span style='background-color: rgb(254,244,239)'>ن</span><span>\t\t:\t\t</span><span>ا</span></div>"
      ],
      "text/plain": [
       "<IPython.core.display.HTML object>"
      ]
     },
     "metadata": {
      "tags": []
     },
     "output_type": "display_data"
    },
    {
     "data": {
      "text/html": [
       "<div><span style='background-color: rgb(254,232,222)'>ش</span><span style='background-color: rgb(254,242,236)'>م</span><span style='background-color: rgb(254,244,239)'>ا</span><span style='background-color: rgb(254,244,239)'> </span><span style='background-color: rgb(254,243,238)'>ر</span><span style='background-color: rgb(254,244,239)'>ا</span><span style='background-color: rgb(254,243,238)'> </span><span style='background-color: rgb(254,240,233)'>س</span><span style='background-color: rgb(254,233,223)'>ت</span><span style='background-color: rgb(254,237,229)'>ا</span><span style='background-color: rgb(254,238,230)'>ی</span><span style='background-color: rgb(254,228,216)'>ش</span><span style='background-color: rgb(254,235,226)'> </span><span style='background-color: rgb(254,243,237)'>ف</span><span style='background-color: rgb(254,243,237)'>ز</span><span style='background-color: rgb(254,243,237)'>و</span><span style='background-color: rgb(254,240,233)'>ن</span><span style='background-color: rgb(254,241,235)'>س</span><span style='background-color: rgb(254,243,238)'>ت</span><span style='background-color: rgb(254,243,238)'> </span><span style='background-color: rgb(254,244,239)'>ا</span><span style='background-color: rgb(254,239,231)'>ز</span><span style='background-color: rgb(254,243,238)'>ا</span><span style='background-color: rgb(254,236,227)'>ن</span><span>\t\t:\t\t</span><span>ز</span></div>"
      ],
      "text/plain": [
       "<IPython.core.display.HTML object>"
      ]
     },
     "metadata": {
      "tags": []
     },
     "output_type": "display_data"
    },
    {
     "data": {
      "text/html": [
       "<div><span style='background-color: rgb(254,242,236)'>ش</span><span style='background-color: rgb(255,245,240)'>م</span><span style='background-color: rgb(255,245,240)'>ا</span><span style='background-color: rgb(255,245,240)'> </span><span style='background-color: rgb(255,245,240)'>ر</span><span style='background-color: rgb(255,245,240)'>ا</span><span style='background-color: rgb(255,245,240)'> </span><span style='background-color: rgb(254,243,238)'>س</span><span style='background-color: rgb(254,232,222)'>ت</span><span style='background-color: rgb(253,221,206)'>ا</span><span style='background-color: rgb(254,238,230)'>ی</span><span style='background-color: rgb(254,237,229)'>ش</span><span style='background-color: rgb(254,242,236)'> </span><span style='background-color: rgb(254,243,238)'>ف</span><span style='background-color: rgb(254,243,237)'>ز</span><span style='background-color: rgb(254,244,239)'>و</span><span style='background-color: rgb(254,244,239)'>ن</span><span style='background-color: rgb(254,244,239)'>س</span><span style='background-color: rgb(254,244,239)'>ت</span><span style='background-color: rgb(254,243,238)'> </span><span style='background-color: rgb(255,245,240)'>ا</span><span style='background-color: rgb(254,237,228)'>ز</span><span style='background-color: rgb(254,235,225)'>ا</span><span style='background-color: rgb(254,237,229)'>ن</span><span>\t\t:\t\t</span><span>گ</span></div>"
      ],
      "text/plain": [
       "<IPython.core.display.HTML object>"
      ]
     },
     "metadata": {
      "tags": []
     },
     "output_type": "display_data"
    },
    {
     "data": {
      "text/html": [
       "<div><span style='background-color: rgb(254,235,226)'>ش</span><span style='background-color: rgb(254,241,235)'>م</span><span style='background-color: rgb(254,239,231)'>ا</span><span style='background-color: rgb(254,243,237)'> </span><span style='background-color: rgb(254,243,238)'>ر</span><span style='background-color: rgb(254,244,239)'>ا</span><span style='background-color: rgb(254,244,239)'> </span><span style='background-color: rgb(254,243,237)'>س</span><span style='background-color: rgb(254,239,232)'>ت</span><span style='background-color: rgb(254,242,236)'>ا</span><span style='background-color: rgb(254,244,239)'>ی</span><span style='background-color: rgb(254,244,239)'>ش</span><span style='background-color: rgb(255,245,240)'> </span><span style='background-color: rgb(255,245,240)'>ف</span><span style='background-color: rgb(255,245,240)'>ز</span><span style='background-color: rgb(255,245,240)'>و</span><span style='background-color: rgb(254,244,239)'>ن</span><span style='background-color: rgb(255,245,240)'>س</span><span style='background-color: rgb(254,243,238)'>ت</span><span style='background-color: rgb(254,244,239)'> </span><span style='background-color: rgb(254,239,232)'>ا</span><span style='background-color: rgb(254,240,233)'>ز</span><span style='background-color: rgb(251,122,90)'>ا</span><span style='background-color: rgb(254,237,228)'>ن</span><span>\t\t:\t\t</span><span>ا</span></div>"
      ],
      "text/plain": [
       "<IPython.core.display.HTML object>"
      ]
     },
     "metadata": {
      "tags": []
     },
     "output_type": "display_data"
    },
    {
     "data": {
      "text/html": [
       "<div><span style='background-color: rgb(254,243,238)'>ش</span><span style='background-color: rgb(254,244,239)'>م</span><span style='background-color: rgb(254,244,239)'>ا</span><span style='background-color: rgb(254,244,239)'> </span><span style='background-color: rgb(255,245,240)'>ر</span><span style='background-color: rgb(254,242,236)'>ا</span><span style='background-color: rgb(255,245,240)'> </span><span style='background-color: rgb(255,245,240)'>س</span><span style='background-color: rgb(255,245,240)'>ت</span><span style='background-color: rgb(255,245,240)'>ا</span><span style='background-color: rgb(255,245,240)'>ی</span><span style='background-color: rgb(255,245,240)'>ش</span><span style='background-color: rgb(255,245,240)'> </span><span style='background-color: rgb(255,245,240)'>ف</span><span style='background-color: rgb(255,245,240)'>ز</span><span style='background-color: rgb(255,245,240)'>و</span><span style='background-color: rgb(255,245,240)'>ن</span><span style='background-color: rgb(255,245,240)'>س</span><span style='background-color: rgb(255,245,240)'>ت</span><span style='background-color: rgb(255,245,240)'> </span><span style='background-color: rgb(255,245,240)'>ا</span><span style='background-color: rgb(254,236,227)'>ز</span><span style='background-color: rgb(254,243,238)'>ا</span><span style='background-color: rgb(177,17,23)'>ن</span><span>\t\t:\t\t</span><span>ن</span></div>"
      ],
      "text/plain": [
       "<IPython.core.display.HTML object>"
      ]
     },
     "metadata": {
      "tags": []
     },
     "output_type": "display_data"
    },
    {
     "name": "stdout",
     "output_type": "stream",
     "text": [
      "Test input:\n",
      "چو اگاه شد زان سخن هرکسی  ****  همی افرین خواند هرکس بسی\n",
      "Seq2Seq output:\n",
      "بباشد به نزدیک ان ناسپی\n",
      "Seq2Seq with attention output:\n",
      "به باشید بر باره و بخردی\n",
      "Weights of attention:\n"
     ]
    },
    {
     "data": {
      "text/html": [
       "<div><span style='background-color: rgb(255,245,240)'>چ</span><span style='background-color: rgb(254,241,234)'>و</span><span style='background-color: rgb(254,243,238)'> </span><span style='background-color: rgb(254,243,238)'>ا</span><span style='background-color: rgb(254,243,238)'>گ</span><span style='background-color: rgb(254,243,237)'>ا</span><span style='background-color: rgb(255,245,240)'>ه</span><span style='background-color: rgb(255,245,240)'> </span><span style='background-color: rgb(255,245,240)'>ش</span><span style='background-color: rgb(254,243,238)'>د</span><span style='background-color: rgb(254,243,238)'> </span><span style='background-color: rgb(254,243,237)'>ز</span><span style='background-color: rgb(254,244,239)'>ا</span><span style='background-color: rgb(254,242,236)'>ن</span><span style='background-color: rgb(255,245,240)'> </span><span style='background-color: rgb(255,245,240)'>س</span><span style='background-color: rgb(255,245,240)'>خ</span><span style='background-color: rgb(255,245,240)'>ن</span><span style='background-color: rgb(255,245,240)'> </span><span style='background-color: rgb(255,245,240)'>ه</span><span style='background-color: rgb(255,245,240)'>ر</span><span style='background-color: rgb(255,245,240)'>ک</span><span style='background-color: rgb(254,242,236)'>س</span><span style='background-color: rgb(255,245,240)'>ی</span><span>\t\t:\t\t</span><span>ب</span></div>"
      ],
      "text/plain": [
       "<IPython.core.display.HTML object>"
      ]
     },
     "metadata": {
      "tags": []
     },
     "output_type": "display_data"
    },
    {
     "data": {
      "text/html": [
       "<div><span style='background-color: rgb(254,237,228)'>چ</span><span style='background-color: rgb(254,239,232)'>و</span><span style='background-color: rgb(254,241,234)'> </span><span style='background-color: rgb(254,243,237)'>ا</span><span style='background-color: rgb(254,243,238)'>گ</span><span style='background-color: rgb(254,242,236)'>ا</span><span style='background-color: rgb(254,243,237)'>ه</span><span style='background-color: rgb(254,241,234)'> </span><span style='background-color: rgb(254,241,235)'>ش</span><span style='background-color: rgb(254,241,234)'>د</span><span style='background-color: rgb(254,239,232)'> </span><span style='background-color: rgb(254,242,236)'>ز</span><span style='background-color: rgb(254,242,236)'>ا</span><span style='background-color: rgb(254,242,236)'>ن</span><span style='background-color: rgb(254,243,237)'> </span><span style='background-color: rgb(254,243,238)'>س</span><span style='background-color: rgb(254,243,238)'>خ</span><span style='background-color: rgb(254,243,238)'>ن</span><span style='background-color: rgb(254,243,237)'> </span><span style='background-color: rgb(254,243,238)'>ه</span><span style='background-color: rgb(254,244,239)'>ر</span><span style='background-color: rgb(254,244,239)'>ک</span><span style='background-color: rgb(254,241,235)'>س</span><span style='background-color: rgb(255,245,240)'>ی</span><span>\t\t:\t\t</span><span>ه</span></div>"
      ],
      "text/plain": [
       "<IPython.core.display.HTML object>"
      ]
     },
     "metadata": {
      "tags": []
     },
     "output_type": "display_data"
    },
    {
     "data": {
      "text/html": [
       "<div><span style='background-color: rgb(254,242,236)'>چ</span><span style='background-color: rgb(254,241,235)'>و</span><span style='background-color: rgb(254,237,228)'> </span><span style='background-color: rgb(254,241,234)'>ا</span><span style='background-color: rgb(254,243,237)'>گ</span><span style='background-color: rgb(254,242,236)'>ا</span><span style='background-color: rgb(254,235,226)'>ه</span><span style='background-color: rgb(253,216,200)'> </span><span style='background-color: rgb(254,225,211)'>ش</span><span style='background-color: rgb(254,234,224)'>د</span><span style='background-color: rgb(254,239,231)'> </span><span style='background-color: rgb(254,238,230)'>ز</span><span style='background-color: rgb(254,237,229)'>ا</span><span style='background-color: rgb(254,243,238)'>ن</span><span style='background-color: rgb(255,245,240)'> </span><span style='background-color: rgb(254,243,238)'>س</span><span style='background-color: rgb(254,241,234)'>خ</span><span style='background-color: rgb(254,239,231)'>ن</span><span style='background-color: rgb(254,235,226)'> </span><span style='background-color: rgb(254,243,237)'>ه</span><span style='background-color: rgb(254,243,237)'>ر</span><span style='background-color: rgb(255,245,240)'>ک</span><span style='background-color: rgb(255,245,240)'>س</span><span style='background-color: rgb(254,243,238)'>ی</span><span>\t\t:\t\t</span><span>ـ</span></div>"
      ],
      "text/plain": [
       "<IPython.core.display.HTML object>"
      ]
     },
     "metadata": {
      "tags": []
     },
     "output_type": "display_data"
    },
    {
     "data": {
      "text/html": [
       "<div><span style='background-color: rgb(254,243,238)'>چ</span><span style='background-color: rgb(254,243,237)'>و</span><span style='background-color: rgb(254,244,239)'> </span><span style='background-color: rgb(254,244,239)'>ا</span><span style='background-color: rgb(254,241,234)'>گ</span><span style='background-color: rgb(254,241,234)'>ا</span><span style='background-color: rgb(254,244,239)'>ه</span><span style='background-color: rgb(254,243,237)'> </span><span style='background-color: rgb(254,243,238)'>ش</span><span style='background-color: rgb(254,241,235)'>د</span><span style='background-color: rgb(254,239,232)'> </span><span style='background-color: rgb(254,235,226)'>ز</span><span style='background-color: rgb(254,242,236)'>ا</span><span style='background-color: rgb(254,242,236)'>ن</span><span style='background-color: rgb(254,243,237)'> </span><span style='background-color: rgb(254,244,239)'>س</span><span style='background-color: rgb(254,243,238)'>خ</span><span style='background-color: rgb(254,242,236)'>ن</span><span style='background-color: rgb(254,243,237)'> </span><span style='background-color: rgb(254,242,236)'>ه</span><span style='background-color: rgb(254,243,238)'>ر</span><span style='background-color: rgb(255,245,240)'>ک</span><span style='background-color: rgb(254,244,239)'>س</span><span style='background-color: rgb(255,245,240)'>ی</span><span>\t\t:\t\t</span><span>ب</span></div>"
      ],
      "text/plain": [
       "<IPython.core.display.HTML object>"
      ]
     },
     "metadata": {
      "tags": []
     },
     "output_type": "display_data"
    },
    {
     "data": {
      "text/html": [
       "<div><span style='background-color: rgb(254,235,226)'>چ</span><span style='background-color: rgb(254,239,232)'>و</span><span style='background-color: rgb(254,241,234)'> </span><span style='background-color: rgb(254,239,232)'>ا</span><span style='background-color: rgb(254,244,239)'>گ</span><span style='background-color: rgb(254,243,238)'>ا</span><span style='background-color: rgb(254,244,239)'>ه</span><span style='background-color: rgb(254,243,238)'> </span><span style='background-color: rgb(254,242,236)'>ش</span><span style='background-color: rgb(254,237,228)'>د</span><span style='background-color: rgb(254,241,235)'> </span><span style='background-color: rgb(254,240,233)'>ز</span><span style='background-color: rgb(254,240,233)'>ا</span><span style='background-color: rgb(254,240,233)'>ن</span><span style='background-color: rgb(254,243,237)'> </span><span style='background-color: rgb(254,243,238)'>س</span><span style='background-color: rgb(254,243,237)'>خ</span><span style='background-color: rgb(254,243,238)'>ن</span><span style='background-color: rgb(254,243,238)'> </span><span style='background-color: rgb(254,244,239)'>ه</span><span style='background-color: rgb(255,245,240)'>ر</span><span style='background-color: rgb(255,245,240)'>ک</span><span style='background-color: rgb(254,244,239)'>س</span><span style='background-color: rgb(255,245,240)'>ی</span><span>\t\t:\t\t</span><span>ا</span></div>"
      ],
      "text/plain": [
       "<IPython.core.display.HTML object>"
      ]
     },
     "metadata": {
      "tags": []
     },
     "output_type": "display_data"
    },
    {
     "data": {
      "text/html": [
       "<div><span style='background-color: rgb(254,239,231)'>چ</span><span style='background-color: rgb(254,242,236)'>و</span><span style='background-color: rgb(254,242,236)'> </span><span style='background-color: rgb(254,241,235)'>ا</span><span style='background-color: rgb(254,239,232)'>گ</span><span style='background-color: rgb(254,241,235)'>ا</span><span style='background-color: rgb(254,241,234)'>ه</span><span style='background-color: rgb(254,243,237)'> </span><span style='background-color: rgb(254,239,232)'>ش</span><span style='background-color: rgb(254,235,226)'>د</span><span style='background-color: rgb(254,235,225)'> </span><span style='background-color: rgb(254,238,230)'>ز</span><span style='background-color: rgb(254,238,230)'>ا</span><span style='background-color: rgb(254,241,235)'>ن</span><span style='background-color: rgb(254,243,238)'> </span><span style='background-color: rgb(254,242,236)'>س</span><span style='background-color: rgb(254,235,226)'>خ</span><span style='background-color: rgb(254,233,224)'>ن</span><span style='background-color: rgb(254,235,226)'> </span><span style='background-color: rgb(254,242,236)'>ه</span><span style='background-color: rgb(254,243,238)'>ر</span><span style='background-color: rgb(255,245,240)'>ک</span><span style='background-color: rgb(254,244,239)'>س</span><span style='background-color: rgb(254,244,239)'>ی</span><span>\t\t:\t\t</span><span>ش</span></div>"
      ],
      "text/plain": [
       "<IPython.core.display.HTML object>"
      ]
     },
     "metadata": {
      "tags": []
     },
     "output_type": "display_data"
    },
    {
     "data": {
      "text/html": [
       "<div><span style='background-color: rgb(254,243,237)'>چ</span><span style='background-color: rgb(254,243,237)'>و</span><span style='background-color: rgb(254,243,238)'> </span><span style='background-color: rgb(254,242,236)'>ا</span><span style='background-color: rgb(254,242,236)'>گ</span><span style='background-color: rgb(254,241,235)'>ا</span><span style='background-color: rgb(254,243,238)'>ه</span><span style='background-color: rgb(254,242,236)'> </span><span style='background-color: rgb(254,239,231)'>ش</span><span style='background-color: rgb(254,237,229)'>د</span><span style='background-color: rgb(254,242,236)'> </span><span style='background-color: rgb(254,241,234)'>ز</span><span style='background-color: rgb(254,237,229)'>ا</span><span style='background-color: rgb(254,241,234)'>ن</span><span style='background-color: rgb(254,241,235)'> </span><span style='background-color: rgb(254,239,232)'>س</span><span style='background-color: rgb(254,237,229)'>خ</span><span style='background-color: rgb(254,241,234)'>ن</span><span style='background-color: rgb(254,241,234)'> </span><span style='background-color: rgb(254,243,237)'>ه</span><span style='background-color: rgb(254,243,238)'>ر</span><span style='background-color: rgb(254,241,235)'>ک</span><span style='background-color: rgb(254,243,238)'>س</span><span style='background-color: rgb(254,243,238)'>ی</span><span>\t\t:\t\t</span><span>ی</span></div>"
      ],
      "text/plain": [
       "<IPython.core.display.HTML object>"
      ]
     },
     "metadata": {
      "tags": []
     },
     "output_type": "display_data"
    },
    {
     "data": {
      "text/html": [
       "<div><span style='background-color: rgb(254,244,239)'>چ</span><span style='background-color: rgb(254,241,234)'>و</span><span style='background-color: rgb(254,242,236)'> </span><span style='background-color: rgb(254,241,234)'>ا</span><span style='background-color: rgb(254,241,234)'>گ</span><span style='background-color: rgb(254,239,232)'>ا</span><span style='background-color: rgb(254,241,234)'>ه</span><span style='background-color: rgb(254,239,231)'> </span><span style='background-color: rgb(254,239,232)'>ش</span><span style='background-color: rgb(254,242,236)'>د</span><span style='background-color: rgb(254,240,233)'> </span><span style='background-color: rgb(254,235,226)'>ز</span><span style='background-color: rgb(254,237,229)'>ا</span><span style='background-color: rgb(254,233,223)'>ن</span><span style='background-color: rgb(254,242,236)'> </span><span style='background-color: rgb(254,242,236)'>س</span><span style='background-color: rgb(254,239,232)'>خ</span><span style='background-color: rgb(254,237,228)'>ن</span><span style='background-color: rgb(254,236,227)'> </span><span style='background-color: rgb(254,237,228)'>ه</span><span style='background-color: rgb(254,241,235)'>ر</span><span style='background-color: rgb(254,244,239)'>ک</span><span style='background-color: rgb(254,243,238)'>س</span><span style='background-color: rgb(254,244,239)'>ی</span><span>\t\t:\t\t</span><span>د</span></div>"
      ],
      "text/plain": [
       "<IPython.core.display.HTML object>"
      ]
     },
     "metadata": {
      "tags": []
     },
     "output_type": "display_data"
    },
    {
     "data": {
      "text/html": [
       "<div><span style='background-color: rgb(254,241,235)'>چ</span><span style='background-color: rgb(254,242,236)'>و</span><span style='background-color: rgb(254,243,237)'> </span><span style='background-color: rgb(254,244,239)'>ا</span><span style='background-color: rgb(254,238,230)'>گ</span><span style='background-color: rgb(254,237,228)'>ا</span><span style='background-color: rgb(254,234,224)'>ه</span><span style='background-color: rgb(254,233,223)'> </span><span style='background-color: rgb(254,233,224)'>ش</span><span style='background-color: rgb(254,231,220)'>د</span><span style='background-color: rgb(254,238,230)'> </span><span style='background-color: rgb(254,239,232)'>ز</span><span style='background-color: rgb(254,241,234)'>ا</span><span style='background-color: rgb(254,243,237)'>ن</span><span style='background-color: rgb(254,241,234)'> </span><span style='background-color: rgb(254,243,237)'>س</span><span style='background-color: rgb(254,239,231)'>خ</span><span style='background-color: rgb(254,237,229)'>ن</span><span style='background-color: rgb(254,238,230)'> </span><span style='background-color: rgb(254,243,238)'>ه</span><span style='background-color: rgb(254,241,235)'>ر</span><span style='background-color: rgb(254,243,237)'>ک</span><span style='background-color: rgb(255,245,240)'>س</span><span style='background-color: rgb(255,245,240)'>ی</span><span>\t\t:\t\t</span><span>ـ</span></div>"
      ],
      "text/plain": [
       "<IPython.core.display.HTML object>"
      ]
     },
     "metadata": {
      "tags": []
     },
     "output_type": "display_data"
    },
    {
     "data": {
      "text/html": [
       "<div><span style='background-color: rgb(254,243,237)'>چ</span><span style='background-color: rgb(254,239,232)'>و</span><span style='background-color: rgb(254,241,235)'> </span><span style='background-color: rgb(254,241,234)'>ا</span><span style='background-color: rgb(254,243,238)'>گ</span><span style='background-color: rgb(254,243,238)'>ا</span><span style='background-color: rgb(255,245,240)'>ه</span><span style='background-color: rgb(254,244,239)'> </span><span style='background-color: rgb(254,244,239)'>ش</span><span style='background-color: rgb(254,243,237)'>د</span><span style='background-color: rgb(254,243,238)'> </span><span style='background-color: rgb(254,243,238)'>ز</span><span style='background-color: rgb(254,244,239)'>ا</span><span style='background-color: rgb(254,244,239)'>ن</span><span style='background-color: rgb(254,244,239)'> </span><span style='background-color: rgb(255,245,240)'>س</span><span style='background-color: rgb(255,245,240)'>خ</span><span style='background-color: rgb(254,244,239)'>ن</span><span style='background-color: rgb(255,245,240)'> </span><span style='background-color: rgb(254,244,239)'>ه</span><span style='background-color: rgb(255,245,240)'>ر</span><span style='background-color: rgb(255,245,240)'>ک</span><span style='background-color: rgb(254,243,237)'>س</span><span style='background-color: rgb(255,245,240)'>ی</span><span>\t\t:\t\t</span><span>ب</span></div>"
      ],
      "text/plain": [
       "<IPython.core.display.HTML object>"
      ]
     },
     "metadata": {
      "tags": []
     },
     "output_type": "display_data"
    },
    {
     "data": {
      "text/html": [
       "<div><span style='background-color: rgb(254,231,220)'>چ</span><span style='background-color: rgb(254,234,224)'>و</span><span style='background-color: rgb(254,237,229)'> </span><span style='background-color: rgb(254,240,233)'>ا</span><span style='background-color: rgb(254,243,238)'>گ</span><span style='background-color: rgb(254,244,239)'>ا</span><span style='background-color: rgb(254,244,239)'>ه</span><span style='background-color: rgb(254,242,236)'> </span><span style='background-color: rgb(254,241,235)'>ش</span><span style='background-color: rgb(254,242,236)'>د</span><span style='background-color: rgb(254,243,238)'> </span><span style='background-color: rgb(254,242,236)'>ز</span><span style='background-color: rgb(254,243,238)'>ا</span><span style='background-color: rgb(254,242,236)'>ن</span><span style='background-color: rgb(254,243,238)'> </span><span style='background-color: rgb(254,243,238)'>س</span><span style='background-color: rgb(254,243,238)'>خ</span><span style='background-color: rgb(254,243,237)'>ن</span><span style='background-color: rgb(254,243,237)'> </span><span style='background-color: rgb(254,243,238)'>ه</span><span style='background-color: rgb(255,245,240)'>ر</span><span style='background-color: rgb(255,245,240)'>ک</span><span style='background-color: rgb(254,243,237)'>س</span><span style='background-color: rgb(255,245,240)'>ی</span><span>\t\t:\t\t</span><span>ر</span></div>"
      ],
      "text/plain": [
       "<IPython.core.display.HTML object>"
      ]
     },
     "metadata": {
      "tags": []
     },
     "output_type": "display_data"
    },
    {
     "data": {
      "text/html": [
       "<div><span style='background-color: rgb(254,243,238)'>چ</span><span style='background-color: rgb(255,245,240)'>و</span><span style='background-color: rgb(255,245,240)'> </span><span style='background-color: rgb(254,244,239)'>ا</span><span style='background-color: rgb(254,239,232)'>گ</span><span style='background-color: rgb(254,242,236)'>ا</span><span style='background-color: rgb(254,238,230)'>ه</span><span style='background-color: rgb(254,235,225)'> </span><span style='background-color: rgb(254,235,225)'>ش</span><span style='background-color: rgb(254,235,225)'>د</span><span style='background-color: rgb(254,238,230)'> </span><span style='background-color: rgb(254,233,224)'>ز</span><span style='background-color: rgb(254,237,229)'>ا</span><span style='background-color: rgb(254,239,232)'>ن</span><span style='background-color: rgb(254,243,238)'> </span><span style='background-color: rgb(254,242,236)'>س</span><span style='background-color: rgb(254,239,231)'>خ</span><span style='background-color: rgb(254,240,233)'>ن</span><span style='background-color: rgb(254,240,233)'> </span><span style='background-color: rgb(254,241,235)'>ه</span><span style='background-color: rgb(254,242,236)'>ر</span><span style='background-color: rgb(254,243,238)'>ک</span><span style='background-color: rgb(254,244,239)'>س</span><span style='background-color: rgb(254,244,239)'>ی</span><span>\t\t:\t\t</span><span>ـ</span></div>"
      ],
      "text/plain": [
       "<IPython.core.display.HTML object>"
      ]
     },
     "metadata": {
      "tags": []
     },
     "output_type": "display_data"
    },
    {
     "data": {
      "text/html": [
       "<div><span style='background-color: rgb(254,243,238)'>چ</span><span style='background-color: rgb(254,243,237)'>و</span><span style='background-color: rgb(254,244,239)'> </span><span style='background-color: rgb(254,243,238)'>ا</span><span style='background-color: rgb(254,244,239)'>گ</span><span style='background-color: rgb(254,244,239)'>ا</span><span style='background-color: rgb(255,245,240)'>ه</span><span style='background-color: rgb(255,245,240)'> </span><span style='background-color: rgb(255,245,240)'>ش</span><span style='background-color: rgb(255,245,240)'>د</span><span style='background-color: rgb(254,243,238)'> </span><span style='background-color: rgb(254,243,238)'>ز</span><span style='background-color: rgb(254,244,239)'>ا</span><span style='background-color: rgb(254,243,237)'>ن</span><span style='background-color: rgb(254,243,237)'> </span><span style='background-color: rgb(255,245,240)'>س</span><span style='background-color: rgb(254,243,238)'>خ</span><span style='background-color: rgb(254,242,236)'>ن</span><span style='background-color: rgb(254,243,237)'> </span><span style='background-color: rgb(254,243,237)'>ه</span><span style='background-color: rgb(254,244,239)'>ر</span><span style='background-color: rgb(255,245,240)'>ک</span><span style='background-color: rgb(254,243,238)'>س</span><span style='background-color: rgb(255,245,240)'>ی</span><span>\t\t:\t\t</span><span>ب</span></div>"
      ],
      "text/plain": [
       "<IPython.core.display.HTML object>"
      ]
     },
     "metadata": {
      "tags": []
     },
     "output_type": "display_data"
    },
    {
     "data": {
      "text/html": [
       "<div><span style='background-color: rgb(254,237,229)'>چ</span><span style='background-color: rgb(254,241,234)'>و</span><span style='background-color: rgb(254,241,234)'> </span><span style='background-color: rgb(254,242,236)'>ا</span><span style='background-color: rgb(254,241,235)'>گ</span><span style='background-color: rgb(254,242,236)'>ا</span><span style='background-color: rgb(254,243,238)'>ه</span><span style='background-color: rgb(254,243,238)'> </span><span style='background-color: rgb(254,243,237)'>ش</span><span style='background-color: rgb(254,241,235)'>د</span><span style='background-color: rgb(254,243,237)'> </span><span style='background-color: rgb(254,241,235)'>ز</span><span style='background-color: rgb(254,241,235)'>ا</span><span style='background-color: rgb(254,242,236)'>ن</span><span style='background-color: rgb(254,243,237)'> </span><span style='background-color: rgb(254,243,237)'>س</span><span style='background-color: rgb(254,242,236)'>خ</span><span style='background-color: rgb(254,241,234)'>ن</span><span style='background-color: rgb(254,241,235)'> </span><span style='background-color: rgb(254,243,238)'>ه</span><span style='background-color: rgb(254,244,239)'>ر</span><span style='background-color: rgb(255,245,240)'>ک</span><span style='background-color: rgb(254,244,239)'>س</span><span style='background-color: rgb(255,245,240)'>ی</span><span>\t\t:\t\t</span><span>ا</span></div>"
      ],
      "text/plain": [
       "<IPython.core.display.HTML object>"
      ]
     },
     "metadata": {
      "tags": []
     },
     "output_type": "display_data"
    },
    {
     "data": {
      "text/html": [
       "<div><span style='background-color: rgb(254,239,232)'>چ</span><span style='background-color: rgb(254,235,226)'>و</span><span style='background-color: rgb(254,237,228)'> </span><span style='background-color: rgb(254,237,229)'>ا</span><span style='background-color: rgb(254,236,227)'>گ</span><span style='background-color: rgb(254,241,234)'>ا</span><span style='background-color: rgb(254,243,238)'>ه</span><span style='background-color: rgb(254,244,239)'> </span><span style='background-color: rgb(254,243,237)'>ش</span><span style='background-color: rgb(254,241,235)'>د</span><span style='background-color: rgb(254,239,232)'> </span><span style='background-color: rgb(254,237,229)'>ز</span><span style='background-color: rgb(254,236,227)'>ا</span><span style='background-color: rgb(254,237,229)'>ن</span><span style='background-color: rgb(254,241,234)'> </span><span style='background-color: rgb(254,241,234)'>س</span><span style='background-color: rgb(254,240,233)'>خ</span><span style='background-color: rgb(254,240,233)'>ن</span><span style='background-color: rgb(254,241,234)'> </span><span style='background-color: rgb(254,243,237)'>ه</span><span style='background-color: rgb(254,243,238)'>ر</span><span style='background-color: rgb(255,245,240)'>ک</span><span style='background-color: rgb(255,245,240)'>س</span><span style='background-color: rgb(255,245,240)'>ی</span><span>\t\t:\t\t</span><span>ر</span></div>"
      ],
      "text/plain": [
       "<IPython.core.display.HTML object>"
      ]
     },
     "metadata": {
      "tags": []
     },
     "output_type": "display_data"
    },
    {
     "data": {
      "text/html": [
       "<div><span style='background-color: rgb(254,235,226)'>چ</span><span style='background-color: rgb(255,245,240)'>و</span><span style='background-color: rgb(255,245,240)'> </span><span style='background-color: rgb(255,245,240)'>ا</span><span style='background-color: rgb(255,245,240)'>گ</span><span style='background-color: rgb(254,244,239)'>ا</span><span style='background-color: rgb(254,243,237)'>ه</span><span style='background-color: rgb(254,243,237)'> </span><span style='background-color: rgb(254,237,228)'>ش</span><span style='background-color: rgb(254,232,222)'>د</span><span style='background-color: rgb(254,238,230)'> </span><span style='background-color: rgb(254,235,226)'>ز</span><span style='background-color: rgb(254,238,230)'>ا</span><span style='background-color: rgb(254,243,238)'>ن</span><span style='background-color: rgb(254,243,238)'> </span><span style='background-color: rgb(254,241,234)'>س</span><span style='background-color: rgb(254,241,235)'>خ</span><span style='background-color: rgb(254,243,237)'>ن</span><span style='background-color: rgb(254,243,237)'> </span><span style='background-color: rgb(254,244,239)'>ه</span><span style='background-color: rgb(254,243,237)'>ر</span><span style='background-color: rgb(255,245,240)'>ک</span><span style='background-color: rgb(254,244,239)'>س</span><span style='background-color: rgb(254,244,239)'>ی</span><span>\t\t:\t\t</span><span>ه</span></div>"
      ],
      "text/plain": [
       "<IPython.core.display.HTML object>"
      ]
     },
     "metadata": {
      "tags": []
     },
     "output_type": "display_data"
    },
    {
     "data": {
      "text/html": [
       "<div><span style='background-color: rgb(254,243,237)'>چ</span><span style='background-color: rgb(254,244,239)'>و</span><span style='background-color: rgb(254,244,239)'> </span><span style='background-color: rgb(255,245,240)'>ا</span><span style='background-color: rgb(254,243,238)'>گ</span><span style='background-color: rgb(254,244,239)'>ا</span><span style='background-color: rgb(254,241,235)'>ه</span><span style='background-color: rgb(253,218,202)'> </span><span style='background-color: rgb(252,177,150)'>ش</span><span style='background-color: rgb(254,233,223)'>د</span><span style='background-color: rgb(254,241,235)'> </span><span style='background-color: rgb(254,239,231)'>ز</span><span style='background-color: rgb(254,237,228)'>ا</span><span style='background-color: rgb(254,239,232)'>ن</span><span style='background-color: rgb(254,242,236)'> </span><span style='background-color: rgb(254,239,232)'>س</span><span style='background-color: rgb(254,239,231)'>خ</span><span style='background-color: rgb(254,241,235)'>ن</span><span style='background-color: rgb(254,241,235)'> </span><span style='background-color: rgb(254,244,239)'>ه</span><span style='background-color: rgb(255,245,240)'>ر</span><span style='background-color: rgb(255,245,240)'>ک</span><span style='background-color: rgb(254,244,239)'>س</span><span style='background-color: rgb(254,241,235)'>ی</span><span>\t\t:\t\t</span><span>ـ</span></div>"
      ],
      "text/plain": [
       "<IPython.core.display.HTML object>"
      ]
     },
     "metadata": {
      "tags": []
     },
     "output_type": "display_data"
    },
    {
     "data": {
      "text/html": [
       "<div><span style='background-color: rgb(254,243,238)'>چ</span><span style='background-color: rgb(254,241,234)'>و</span><span style='background-color: rgb(254,241,235)'> </span><span style='background-color: rgb(254,241,235)'>ا</span><span style='background-color: rgb(254,244,239)'>گ</span><span style='background-color: rgb(254,243,238)'>ا</span><span style='background-color: rgb(255,245,240)'>ه</span><span style='background-color: rgb(255,245,240)'> </span><span style='background-color: rgb(255,245,240)'>ش</span><span style='background-color: rgb(254,243,237)'>د</span><span style='background-color: rgb(254,243,237)'> </span><span style='background-color: rgb(254,243,238)'>ز</span><span style='background-color: rgb(254,244,239)'>ا</span><span style='background-color: rgb(254,241,235)'>ن</span><span style='background-color: rgb(254,243,238)'> </span><span style='background-color: rgb(255,245,240)'>س</span><span style='background-color: rgb(254,244,239)'>خ</span><span style='background-color: rgb(254,242,236)'>ن</span><span style='background-color: rgb(254,243,238)'> </span><span style='background-color: rgb(254,243,238)'>ه</span><span style='background-color: rgb(254,244,239)'>ر</span><span style='background-color: rgb(255,245,240)'>ک</span><span style='background-color: rgb(254,244,239)'>س</span><span style='background-color: rgb(255,245,240)'>ی</span><span>\t\t:\t\t</span><span>و</span></div>"
      ],
      "text/plain": [
       "<IPython.core.display.HTML object>"
      ]
     },
     "metadata": {
      "tags": []
     },
     "output_type": "display_data"
    },
    {
     "data": {
      "text/html": [
       "<div><span style='background-color: rgb(254,243,237)'>چ</span><span style='background-color: rgb(254,243,238)'>و</span><span style='background-color: rgb(254,242,236)'> </span><span style='background-color: rgb(254,243,238)'>ا</span><span style='background-color: rgb(254,241,235)'>گ</span><span style='background-color: rgb(254,243,237)'>ا</span><span style='background-color: rgb(254,240,233)'>ه</span><span style='background-color: rgb(254,237,228)'> </span><span style='background-color: rgb(253,208,189)'>ش</span><span style='background-color: rgb(253,216,200)'>د</span><span style='background-color: rgb(254,234,224)'> </span><span style='background-color: rgb(254,235,226)'>ز</span><span style='background-color: rgb(254,229,217)'>ا</span><span style='background-color: rgb(254,240,233)'>ن</span><span style='background-color: rgb(254,243,238)'> </span><span style='background-color: rgb(254,244,239)'>س</span><span style='background-color: rgb(254,243,238)'>خ</span><span style='background-color: rgb(254,243,238)'>ن</span><span style='background-color: rgb(254,243,237)'> </span><span style='background-color: rgb(254,244,239)'>ه</span><span style='background-color: rgb(254,243,238)'>ر</span><span style='background-color: rgb(254,243,237)'>ک</span><span style='background-color: rgb(254,243,237)'>س</span><span style='background-color: rgb(254,243,237)'>ی</span><span>\t\t:\t\t</span><span>ـ</span></div>"
      ],
      "text/plain": [
       "<IPython.core.display.HTML object>"
      ]
     },
     "metadata": {
      "tags": []
     },
     "output_type": "display_data"
    },
    {
     "data": {
      "text/html": [
       "<div><span style='background-color: rgb(254,243,238)'>چ</span><span style='background-color: rgb(254,243,237)'>و</span><span style='background-color: rgb(254,243,238)'> </span><span style='background-color: rgb(254,241,235)'>ا</span><span style='background-color: rgb(254,242,236)'>گ</span><span style='background-color: rgb(254,240,233)'>ا</span><span style='background-color: rgb(255,245,240)'>ه</span><span style='background-color: rgb(254,244,239)'> </span><span style='background-color: rgb(255,245,240)'>ش</span><span style='background-color: rgb(255,245,240)'>د</span><span style='background-color: rgb(254,244,239)'> </span><span style='background-color: rgb(254,242,236)'>ز</span><span style='background-color: rgb(254,243,238)'>ا</span><span style='background-color: rgb(254,241,235)'>ن</span><span style='background-color: rgb(254,244,239)'> </span><span style='background-color: rgb(255,245,240)'>س</span><span style='background-color: rgb(254,244,239)'>خ</span><span style='background-color: rgb(254,241,234)'>ن</span><span style='background-color: rgb(254,244,239)'> </span><span style='background-color: rgb(254,242,236)'>ه</span><span style='background-color: rgb(254,243,238)'>ر</span><span style='background-color: rgb(255,245,240)'>ک</span><span style='background-color: rgb(254,243,238)'>س</span><span style='background-color: rgb(254,244,239)'>ی</span><span>\t\t:\t\t</span><span>ب</span></div>"
      ],
      "text/plain": [
       "<IPython.core.display.HTML object>"
      ]
     },
     "metadata": {
      "tags": []
     },
     "output_type": "display_data"
    },
    {
     "data": {
      "text/html": [
       "<div><span style='background-color: rgb(254,239,232)'>چ</span><span style='background-color: rgb(254,241,235)'>و</span><span style='background-color: rgb(254,241,235)'> </span><span style='background-color: rgb(254,243,238)'>ا</span><span style='background-color: rgb(254,242,236)'>گ</span><span style='background-color: rgb(254,244,239)'>ا</span><span style='background-color: rgb(254,244,239)'>ه</span><span style='background-color: rgb(254,244,239)'> </span><span style='background-color: rgb(254,243,237)'>ش</span><span style='background-color: rgb(254,237,228)'>د</span><span style='background-color: rgb(254,239,232)'> </span><span style='background-color: rgb(254,241,234)'>ز</span><span style='background-color: rgb(254,234,224)'>ا</span><span style='background-color: rgb(254,239,231)'>ن</span><span style='background-color: rgb(254,241,234)'> </span><span style='background-color: rgb(254,243,238)'>س</span><span style='background-color: rgb(254,243,237)'>خ</span><span style='background-color: rgb(254,242,236)'>ن</span><span style='background-color: rgb(254,242,236)'> </span><span style='background-color: rgb(254,243,238)'>ه</span><span style='background-color: rgb(254,243,238)'>ر</span><span style='background-color: rgb(254,244,239)'>ک</span><span style='background-color: rgb(254,241,234)'>س</span><span style='background-color: rgb(254,244,239)'>ی</span><span>\t\t:\t\t</span><span>خ</span></div>"
      ],
      "text/plain": [
       "<IPython.core.display.HTML object>"
      ]
     },
     "metadata": {
      "tags": []
     },
     "output_type": "display_data"
    },
    {
     "data": {
      "text/html": [
       "<div><span style='background-color: rgb(254,243,238)'>چ</span><span style='background-color: rgb(254,236,227)'>و</span><span style='background-color: rgb(253,209,191)'> </span><span style='background-color: rgb(254,239,231)'>ا</span><span style='background-color: rgb(254,243,238)'>گ</span><span style='background-color: rgb(254,242,236)'>ا</span><span style='background-color: rgb(254,242,236)'>ه</span><span style='background-color: rgb(254,235,225)'> </span><span style='background-color: rgb(254,239,232)'>ش</span><span style='background-color: rgb(254,233,224)'>د</span><span style='background-color: rgb(254,243,237)'> </span><span style='background-color: rgb(254,242,236)'>ز</span><span style='background-color: rgb(254,244,239)'>ا</span><span style='background-color: rgb(254,244,239)'>ن</span><span style='background-color: rgb(254,244,239)'> </span><span style='background-color: rgb(254,243,238)'>س</span><span style='background-color: rgb(254,242,236)'>خ</span><span style='background-color: rgb(254,241,234)'>ن</span><span style='background-color: rgb(254,242,236)'> </span><span style='background-color: rgb(254,239,232)'>ه</span><span style='background-color: rgb(254,243,238)'>ر</span><span style='background-color: rgb(254,244,239)'>ک</span><span style='background-color: rgb(254,243,237)'>س</span><span style='background-color: rgb(254,244,239)'>ی</span><span>\t\t:\t\t</span><span>ر</span></div>"
      ],
      "text/plain": [
       "<IPython.core.display.HTML object>"
      ]
     },
     "metadata": {
      "tags": []
     },
     "output_type": "display_data"
    },
    {
     "data": {
      "text/html": [
       "<div><span style='background-color: rgb(254,243,238)'>چ</span><span style='background-color: rgb(254,244,239)'>و</span><span style='background-color: rgb(254,244,239)'> </span><span style='background-color: rgb(255,245,240)'>ا</span><span style='background-color: rgb(254,244,239)'>گ</span><span style='background-color: rgb(254,244,239)'>ا</span><span style='background-color: rgb(254,244,239)'>ه</span><span style='background-color: rgb(254,244,239)'> </span><span style='background-color: rgb(254,243,238)'>ش</span><span style='background-color: rgb(254,242,236)'>د</span><span style='background-color: rgb(254,240,233)'> </span><span style='background-color: rgb(254,235,225)'>ز</span><span style='background-color: rgb(254,235,226)'>ا</span><span style='background-color: rgb(254,237,228)'>ن</span><span style='background-color: rgb(254,239,231)'> </span><span style='background-color: rgb(254,240,233)'>س</span><span style='background-color: rgb(254,243,237)'>خ</span><span style='background-color: rgb(254,244,239)'>ن</span><span style='background-color: rgb(254,244,239)'> </span><span style='background-color: rgb(255,245,240)'>ه</span><span style='background-color: rgb(254,242,236)'>ر</span><span style='background-color: rgb(254,235,225)'>ک</span><span style='background-color: rgb(252,200,179)'>س</span><span style='background-color: rgb(254,236,227)'>ی</span><span>\t\t:\t\t</span><span>د</span></div>"
      ],
      "text/plain": [
       "<IPython.core.display.HTML object>"
      ]
     },
     "metadata": {
      "tags": []
     },
     "output_type": "display_data"
    },
    {
     "data": {
      "text/html": [
       "<div><span style='background-color: rgb(254,244,239)'>چ</span><span style='background-color: rgb(255,245,240)'>و</span><span style='background-color: rgb(255,245,240)'> </span><span style='background-color: rgb(255,245,240)'>ا</span><span style='background-color: rgb(255,245,240)'>گ</span><span style='background-color: rgb(255,245,240)'>ا</span><span style='background-color: rgb(255,245,240)'>ه</span><span style='background-color: rgb(255,245,240)'> </span><span style='background-color: rgb(254,243,237)'>ش</span><span style='background-color: rgb(255,245,240)'>د</span><span style='background-color: rgb(255,245,240)'> </span><span style='background-color: rgb(255,245,240)'>ز</span><span style='background-color: rgb(255,245,240)'>ا</span><span style='background-color: rgb(255,245,240)'>ن</span><span style='background-color: rgb(255,245,240)'> </span><span style='background-color: rgb(255,245,240)'>س</span><span style='background-color: rgb(255,245,240)'>خ</span><span style='background-color: rgb(255,245,240)'>ن</span><span style='background-color: rgb(254,244,239)'> </span><span style='background-color: rgb(255,245,240)'>ه</span><span style='background-color: rgb(255,245,240)'>ر</span><span style='background-color: rgb(254,244,239)'>ک</span><span style='background-color: rgb(254,239,232)'>س</span><span style='background-color: rgb(190,20,26)'>ی</span><span>\t\t:\t\t</span><span>ی</span></div>"
      ],
      "text/plain": [
       "<IPython.core.display.HTML object>"
      ]
     },
     "metadata": {
      "tags": []
     },
     "output_type": "display_data"
    },
    {
     "name": "stdout",
     "output_type": "stream",
     "text": [
      "Test input:\n",
      "برش سرخ یاقوت و زر امدست  ****  همه برگ او زیب و فر امدست\n",
      "Seq2Seq output:\n",
      "کمند انچ بندی بریزاد زدست\n",
      "Seq2Seq with attention output:\n",
      "به با ار با کام و برز و بدست\n",
      "Weights of attention:\n"
     ]
    },
    {
     "data": {
      "text/html": [
       "<div><span style='background-color: rgb(254,244,239)'>ب</span><span style='background-color: rgb(254,243,238)'>ر</span><span style='background-color: rgb(254,244,239)'>ش</span><span style='background-color: rgb(254,244,239)'> </span><span style='background-color: rgb(254,244,239)'>س</span><span style='background-color: rgb(254,243,238)'>ر</span><span style='background-color: rgb(254,243,237)'>خ</span><span style='background-color: rgb(254,244,239)'> </span><span style='background-color: rgb(255,245,240)'>ی</span><span style='background-color: rgb(255,245,240)'>ا</span><span style='background-color: rgb(254,244,239)'>ق</span><span style='background-color: rgb(255,245,240)'>و</span><span style='background-color: rgb(254,244,239)'>ت</span><span style='background-color: rgb(254,241,235)'> </span><span style='background-color: rgb(255,245,240)'>و</span><span style='background-color: rgb(255,245,240)'> </span><span style='background-color: rgb(255,245,240)'>ز</span><span style='background-color: rgb(255,245,240)'>ر</span><span style='background-color: rgb(255,245,240)'> </span><span style='background-color: rgb(254,244,239)'>ا</span><span style='background-color: rgb(254,244,239)'>م</span><span style='background-color: rgb(254,243,237)'>د</span><span style='background-color: rgb(254,244,239)'>س</span><span style='background-color: rgb(254,243,238)'>ت</span><span>\t\t:\t\t</span><span>ب</span></div>"
      ],
      "text/plain": [
       "<IPython.core.display.HTML object>"
      ]
     },
     "metadata": {
      "tags": []
     },
     "output_type": "display_data"
    },
    {
     "data": {
      "text/html": [
       "<div><span style='background-color: rgb(254,236,227)'>ب</span><span style='background-color: rgb(254,240,233)'>ر</span><span style='background-color: rgb(254,241,235)'>ش</span><span style='background-color: rgb(254,243,237)'> </span><span style='background-color: rgb(254,243,237)'>س</span><span style='background-color: rgb(254,243,237)'>ر</span><span style='background-color: rgb(254,241,235)'>خ</span><span style='background-color: rgb(254,240,233)'> </span><span style='background-color: rgb(254,243,237)'>ی</span><span style='background-color: rgb(254,241,234)'>ا</span><span style='background-color: rgb(254,243,237)'>ق</span><span style='background-color: rgb(254,242,236)'>و</span><span style='background-color: rgb(254,243,237)'>ت</span><span style='background-color: rgb(254,242,236)'> </span><span style='background-color: rgb(254,242,236)'>و</span><span style='background-color: rgb(254,244,239)'> </span><span style='background-color: rgb(255,245,240)'>ز</span><span style='background-color: rgb(254,243,238)'>ر</span><span style='background-color: rgb(254,241,235)'> </span><span style='background-color: rgb(254,243,238)'>ا</span><span style='background-color: rgb(254,242,236)'>م</span><span style='background-color: rgb(254,243,238)'>د</span><span style='background-color: rgb(255,245,240)'>س</span><span style='background-color: rgb(254,244,239)'>ت</span><span>\t\t:\t\t</span><span>ه</span></div>"
      ],
      "text/plain": [
       "<IPython.core.display.HTML object>"
      ]
     },
     "metadata": {
      "tags": []
     },
     "output_type": "display_data"
    },
    {
     "data": {
      "text/html": [
       "<div><span style='background-color: rgb(254,241,235)'>ب</span><span style='background-color: rgb(254,240,233)'>ر</span><span style='background-color: rgb(254,237,229)'>ش</span><span style='background-color: rgb(254,239,232)'> </span><span style='background-color: rgb(254,242,236)'>س</span><span style='background-color: rgb(254,241,235)'>ر</span><span style='background-color: rgb(254,238,230)'>خ</span><span style='background-color: rgb(254,231,221)'> </span><span style='background-color: rgb(253,218,202)'>ی</span><span style='background-color: rgb(254,233,224)'>ا</span><span style='background-color: rgb(254,241,235)'>ق</span><span style='background-color: rgb(254,238,230)'>و</span><span style='background-color: rgb(254,241,235)'>ت</span><span style='background-color: rgb(254,243,238)'> </span><span style='background-color: rgb(254,244,239)'>و</span><span style='background-color: rgb(254,242,236)'> </span><span style='background-color: rgb(254,241,234)'>ز</span><span style='background-color: rgb(254,238,230)'>ر</span><span style='background-color: rgb(254,237,228)'> </span><span style='background-color: rgb(254,243,238)'>ا</span><span style='background-color: rgb(254,243,238)'>م</span><span style='background-color: rgb(254,243,238)'>د</span><span style='background-color: rgb(254,244,239)'>س</span><span style='background-color: rgb(254,240,233)'>ت</span><span>\t\t:\t\t</span><span>ـ</span></div>"
      ],
      "text/plain": [
       "<IPython.core.display.HTML object>"
      ]
     },
     "metadata": {
      "tags": []
     },
     "output_type": "display_data"
    },
    {
     "data": {
      "text/html": [
       "<div><span style='background-color: rgb(254,243,237)'>ب</span><span style='background-color: rgb(254,243,238)'>ر</span><span style='background-color: rgb(254,244,239)'>ش</span><span style='background-color: rgb(254,244,239)'> </span><span style='background-color: rgb(254,242,236)'>س</span><span style='background-color: rgb(254,241,235)'>ر</span><span style='background-color: rgb(254,240,233)'>خ</span><span style='background-color: rgb(254,241,235)'> </span><span style='background-color: rgb(254,243,238)'>ی</span><span style='background-color: rgb(254,239,232)'>ا</span><span style='background-color: rgb(254,239,232)'>ق</span><span style='background-color: rgb(254,240,233)'>و</span><span style='background-color: rgb(254,243,238)'>ت</span><span style='background-color: rgb(254,241,235)'> </span><span style='background-color: rgb(254,243,238)'>و</span><span style='background-color: rgb(254,244,239)'> </span><span style='background-color: rgb(254,244,239)'>ز</span><span style='background-color: rgb(255,245,240)'>ر</span><span style='background-color: rgb(254,243,238)'> </span><span style='background-color: rgb(254,242,236)'>ا</span><span style='background-color: rgb(255,245,240)'>م</span><span style='background-color: rgb(254,243,238)'>د</span><span style='background-color: rgb(254,244,239)'>س</span><span style='background-color: rgb(255,245,240)'>ت</span><span>\t\t:\t\t</span><span>ب</span></div>"
      ],
      "text/plain": [
       "<IPython.core.display.HTML object>"
      ]
     },
     "metadata": {
      "tags": []
     },
     "output_type": "display_data"
    },
    {
     "data": {
      "text/html": [
       "<div><span style='background-color: rgb(254,235,225)'>ب</span><span style='background-color: rgb(254,241,234)'>ر</span><span style='background-color: rgb(254,239,231)'>ش</span><span style='background-color: rgb(254,241,235)'> </span><span style='background-color: rgb(254,243,238)'>س</span><span style='background-color: rgb(254,243,238)'>ر</span><span style='background-color: rgb(254,243,238)'>خ</span><span style='background-color: rgb(254,243,238)'> </span><span style='background-color: rgb(254,242,236)'>ی</span><span style='background-color: rgb(254,239,232)'>ا</span><span style='background-color: rgb(254,241,235)'>ق</span><span style='background-color: rgb(254,238,230)'>و</span><span style='background-color: rgb(254,237,229)'>ت</span><span style='background-color: rgb(254,237,229)'> </span><span style='background-color: rgb(254,243,237)'>و</span><span style='background-color: rgb(254,244,239)'> </span><span style='background-color: rgb(254,244,239)'>ز</span><span style='background-color: rgb(254,244,239)'>ر</span><span style='background-color: rgb(254,243,238)'> </span><span style='background-color: rgb(254,244,239)'>ا</span><span style='background-color: rgb(254,243,238)'>م</span><span style='background-color: rgb(255,245,240)'>د</span><span style='background-color: rgb(255,245,240)'>س</span><span style='background-color: rgb(254,243,238)'>ت</span><span>\t\t:\t\t</span><span>ا</span></div>"
      ],
      "text/plain": [
       "<IPython.core.display.HTML object>"
      ]
     },
     "metadata": {
      "tags": []
     },
     "output_type": "display_data"
    },
    {
     "data": {
      "text/html": [
       "<div><span style='background-color: rgb(254,241,235)'>ب</span><span style='background-color: rgb(254,243,238)'>ر</span><span style='background-color: rgb(254,242,236)'>ش</span><span style='background-color: rgb(254,241,234)'> </span><span style='background-color: rgb(254,237,229)'>س</span><span style='background-color: rgb(254,241,235)'>ر</span><span style='background-color: rgb(254,241,234)'>خ</span><span style='background-color: rgb(254,242,236)'> </span><span style='background-color: rgb(254,239,231)'>ی</span><span style='background-color: rgb(254,234,224)'>ا</span><span style='background-color: rgb(254,235,225)'>ق</span><span style='background-color: rgb(254,229,217)'>و</span><span style='background-color: rgb(254,239,231)'>ت</span><span style='background-color: rgb(254,242,236)'> </span><span style='background-color: rgb(254,243,237)'>و</span><span style='background-color: rgb(254,241,234)'> </span><span style='background-color: rgb(254,241,234)'>ز</span><span style='background-color: rgb(254,241,234)'>ر</span><span style='background-color: rgb(254,236,227)'> </span><span style='background-color: rgb(254,243,237)'>ا</span><span style='background-color: rgb(254,243,237)'>م</span><span style='background-color: rgb(254,244,239)'>د</span><span style='background-color: rgb(254,244,239)'>س</span><span style='background-color: rgb(254,243,237)'>ت</span><span>\t\t:\t\t</span><span>ـ</span></div>"
      ],
      "text/plain": [
       "<IPython.core.display.HTML object>"
      ]
     },
     "metadata": {
      "tags": []
     },
     "output_type": "display_data"
    },
    {
     "data": {
      "text/html": [
       "<div><span style='background-color: rgb(254,242,236)'>ب</span><span style='background-color: rgb(254,241,235)'>ر</span><span style='background-color: rgb(254,243,238)'>ش</span><span style='background-color: rgb(254,243,238)'> </span><span style='background-color: rgb(254,242,236)'>س</span><span style='background-color: rgb(254,241,235)'>ر</span><span style='background-color: rgb(254,242,236)'>خ</span><span style='background-color: rgb(254,238,230)'> </span><span style='background-color: rgb(254,241,235)'>ی</span><span style='background-color: rgb(254,240,233)'>ا</span><span style='background-color: rgb(254,241,234)'>ق</span><span style='background-color: rgb(254,242,236)'>و</span><span style='background-color: rgb(254,241,234)'>ت</span><span style='background-color: rgb(254,239,232)'> </span><span style='background-color: rgb(254,243,237)'>و</span><span style='background-color: rgb(255,245,240)'> </span><span style='background-color: rgb(254,244,239)'>ز</span><span style='background-color: rgb(254,243,238)'>ر</span><span style='background-color: rgb(254,241,235)'> </span><span style='background-color: rgb(254,241,234)'>ا</span><span style='background-color: rgb(254,243,238)'>م</span><span style='background-color: rgb(254,243,238)'>د</span><span style='background-color: rgb(254,242,236)'>س</span><span style='background-color: rgb(254,244,239)'>ت</span><span>\t\t:\t\t</span><span>ا</span></div>"
      ],
      "text/plain": [
       "<IPython.core.display.HTML object>"
      ]
     },
     "metadata": {
      "tags": []
     },
     "output_type": "display_data"
    },
    {
     "data": {
      "text/html": [
       "<div><span style='background-color: rgb(254,239,232)'>ب</span><span style='background-color: rgb(254,239,231)'>ر</span><span style='background-color: rgb(254,240,233)'>ش</span><span style='background-color: rgb(254,243,237)'> </span><span style='background-color: rgb(254,239,232)'>س</span><span style='background-color: rgb(254,238,230)'>ر</span><span style='background-color: rgb(254,241,235)'>خ</span><span style='background-color: rgb(254,241,235)'> </span><span style='background-color: rgb(254,243,237)'>ی</span><span style='background-color: rgb(254,242,236)'>ا</span><span style='background-color: rgb(254,241,234)'>ق</span><span style='background-color: rgb(254,242,236)'>و</span><span style='background-color: rgb(254,243,238)'>ت</span><span style='background-color: rgb(254,243,237)'> </span><span style='background-color: rgb(254,242,236)'>و</span><span style='background-color: rgb(254,244,239)'> </span><span style='background-color: rgb(254,244,239)'>ز</span><span style='background-color: rgb(254,243,238)'>ر</span><span style='background-color: rgb(254,243,238)'> </span><span style='background-color: rgb(254,243,238)'>ا</span><span style='background-color: rgb(254,238,230)'>م</span><span style='background-color: rgb(254,240,233)'>د</span><span style='background-color: rgb(254,241,234)'>س</span><span style='background-color: rgb(254,240,233)'>ت</span><span>\t\t:\t\t</span><span>ر</span></div>"
      ],
      "text/plain": [
       "<IPython.core.display.HTML object>"
      ]
     },
     "metadata": {
      "tags": []
     },
     "output_type": "display_data"
    },
    {
     "data": {
      "text/html": [
       "<div><span style='background-color: rgb(254,241,235)'>ب</span><span style='background-color: rgb(255,245,240)'>ر</span><span style='background-color: rgb(254,244,239)'>ش</span><span style='background-color: rgb(255,245,240)'> </span><span style='background-color: rgb(254,244,239)'>س</span><span style='background-color: rgb(254,244,239)'>ر</span><span style='background-color: rgb(254,241,235)'>خ</span><span style='background-color: rgb(254,242,236)'> </span><span style='background-color: rgb(254,242,236)'>ی</span><span style='background-color: rgb(254,236,227)'>ا</span><span style='background-color: rgb(254,237,229)'>ق</span><span style='background-color: rgb(254,231,221)'>و</span><span style='background-color: rgb(254,240,233)'>ت</span><span style='background-color: rgb(254,243,237)'> </span><span style='background-color: rgb(254,243,238)'>و</span><span style='background-color: rgb(254,244,239)'> </span><span style='background-color: rgb(254,243,238)'>ز</span><span style='background-color: rgb(254,242,236)'>ر</span><span style='background-color: rgb(254,239,231)'> </span><span style='background-color: rgb(254,242,236)'>ا</span><span style='background-color: rgb(254,239,232)'>م</span><span style='background-color: rgb(254,235,226)'>د</span><span style='background-color: rgb(254,244,239)'>س</span><span style='background-color: rgb(254,241,235)'>ت</span><span>\t\t:\t\t</span><span>ـ</span></div>"
      ],
      "text/plain": [
       "<IPython.core.display.HTML object>"
      ]
     },
     "metadata": {
      "tags": []
     },
     "output_type": "display_data"
    },
    {
     "data": {
      "text/html": [
       "<div><span style='background-color: rgb(254,243,237)'>ب</span><span style='background-color: rgb(254,242,236)'>ر</span><span style='background-color: rgb(254,243,238)'>ش</span><span style='background-color: rgb(254,243,238)'> </span><span style='background-color: rgb(254,244,239)'>س</span><span style='background-color: rgb(254,243,238)'>ر</span><span style='background-color: rgb(254,244,239)'>خ</span><span style='background-color: rgb(254,244,239)'> </span><span style='background-color: rgb(255,245,240)'>ی</span><span style='background-color: rgb(254,244,239)'>ا</span><span style='background-color: rgb(254,243,238)'>ق</span><span style='background-color: rgb(254,243,238)'>و</span><span style='background-color: rgb(254,243,238)'>ت</span><span style='background-color: rgb(254,244,239)'> </span><span style='background-color: rgb(254,244,239)'>و</span><span style='background-color: rgb(254,244,239)'> </span><span style='background-color: rgb(255,245,240)'>ز</span><span style='background-color: rgb(255,245,240)'>ر</span><span style='background-color: rgb(255,245,240)'> </span><span style='background-color: rgb(254,243,238)'>ا</span><span style='background-color: rgb(254,244,239)'>م</span><span style='background-color: rgb(254,242,236)'>د</span><span style='background-color: rgb(254,243,237)'>س</span><span style='background-color: rgb(255,245,240)'>ت</span><span>\t\t:\t\t</span><span>ب</span></div>"
      ],
      "text/plain": [
       "<IPython.core.display.HTML object>"
      ]
     },
     "metadata": {
      "tags": []
     },
     "output_type": "display_data"
    },
    {
     "data": {
      "text/html": [
       "<div><span style='background-color: rgb(254,235,226)'>ب</span><span style='background-color: rgb(254,242,236)'>ر</span><span style='background-color: rgb(254,239,231)'>ش</span><span style='background-color: rgb(254,243,237)'> </span><span style='background-color: rgb(254,244,239)'>س</span><span style='background-color: rgb(255,245,240)'>ر</span><span style='background-color: rgb(254,244,239)'>خ</span><span style='background-color: rgb(254,244,239)'> </span><span style='background-color: rgb(254,243,237)'>ی</span><span style='background-color: rgb(254,239,232)'>ا</span><span style='background-color: rgb(254,243,237)'>ق</span><span style='background-color: rgb(254,241,234)'>و</span><span style='background-color: rgb(254,238,230)'>ت</span><span style='background-color: rgb(254,237,228)'> </span><span style='background-color: rgb(254,242,236)'>و</span><span style='background-color: rgb(254,243,237)'> </span><span style='background-color: rgb(254,243,238)'>ز</span><span style='background-color: rgb(254,243,237)'>ر</span><span style='background-color: rgb(254,243,237)'> </span><span style='background-color: rgb(254,243,238)'>ا</span><span style='background-color: rgb(254,243,237)'>م</span><span style='background-color: rgb(254,244,239)'>د</span><span style='background-color: rgb(255,245,240)'>س</span><span style='background-color: rgb(254,243,238)'>ت</span><span>\t\t:\t\t</span><span>ا</span></div>"
      ],
      "text/plain": [
       "<IPython.core.display.HTML object>"
      ]
     },
     "metadata": {
      "tags": []
     },
     "output_type": "display_data"
    },
    {
     "data": {
      "text/html": [
       "<div><span style='background-color: rgb(254,242,236)'>ب</span><span style='background-color: rgb(254,238,230)'>ر</span><span style='background-color: rgb(254,237,228)'>ش</span><span style='background-color: rgb(254,239,231)'> </span><span style='background-color: rgb(254,241,235)'>س</span><span style='background-color: rgb(254,242,236)'>ر</span><span style='background-color: rgb(254,241,234)'>خ</span><span style='background-color: rgb(254,242,236)'> </span><span style='background-color: rgb(254,233,224)'>ی</span><span style='background-color: rgb(254,229,218)'>ا</span><span style='background-color: rgb(254,238,230)'>ق</span><span style='background-color: rgb(254,233,224)'>و</span><span style='background-color: rgb(254,239,232)'>ت</span><span style='background-color: rgb(254,240,233)'> </span><span style='background-color: rgb(254,241,235)'>و</span><span style='background-color: rgb(254,239,232)'> </span><span style='background-color: rgb(254,241,234)'>ز</span><span style='background-color: rgb(254,240,233)'>ر</span><span style='background-color: rgb(254,236,227)'> </span><span style='background-color: rgb(254,244,239)'>ا</span><span style='background-color: rgb(254,239,232)'>م</span><span style='background-color: rgb(254,244,239)'>د</span><span style='background-color: rgb(254,244,239)'>س</span><span style='background-color: rgb(254,243,238)'>ت</span><span>\t\t:\t\t</span><span>ـ</span></div>"
      ],
      "text/plain": [
       "<IPython.core.display.HTML object>"
      ]
     },
     "metadata": {
      "tags": []
     },
     "output_type": "display_data"
    },
    {
     "data": {
      "text/html": [
       "<div><span style='background-color: rgb(254,243,238)'>ب</span><span style='background-color: rgb(254,241,235)'>ر</span><span style='background-color: rgb(254,243,238)'>ش</span><span style='background-color: rgb(254,243,237)'> </span><span style='background-color: rgb(254,241,235)'>س</span><span style='background-color: rgb(254,241,235)'>ر</span><span style='background-color: rgb(254,243,237)'>خ</span><span style='background-color: rgb(254,242,236)'> </span><span style='background-color: rgb(254,243,238)'>ی</span><span style='background-color: rgb(254,242,236)'>ا</span><span style='background-color: rgb(254,242,236)'>ق</span><span style='background-color: rgb(254,243,237)'>و</span><span style='background-color: rgb(254,242,236)'>ت</span><span style='background-color: rgb(254,241,234)'> </span><span style='background-color: rgb(254,244,239)'>و</span><span style='background-color: rgb(255,245,240)'> </span><span style='background-color: rgb(255,245,240)'>ز</span><span style='background-color: rgb(254,244,239)'>ر</span><span style='background-color: rgb(254,243,238)'> </span><span style='background-color: rgb(254,240,233)'>ا</span><span style='background-color: rgb(254,244,239)'>م</span><span style='background-color: rgb(254,244,239)'>د</span><span style='background-color: rgb(254,243,237)'>س</span><span style='background-color: rgb(255,245,240)'>ت</span><span>\t\t:\t\t</span><span>ک</span></div>"
      ],
      "text/plain": [
       "<IPython.core.display.HTML object>"
      ]
     },
     "metadata": {
      "tags": []
     },
     "output_type": "display_data"
    },
    {
     "data": {
      "text/html": [
       "<div><span style='background-color: rgb(254,234,224)'>ب</span><span style='background-color: rgb(254,240,233)'>ر</span><span style='background-color: rgb(254,239,231)'>ش</span><span style='background-color: rgb(254,242,236)'> </span><span style='background-color: rgb(254,244,239)'>س</span><span style='background-color: rgb(254,242,236)'>ر</span><span style='background-color: rgb(254,243,237)'>خ</span><span style='background-color: rgb(254,241,235)'> </span><span style='background-color: rgb(254,241,235)'>ی</span><span style='background-color: rgb(254,240,233)'>ا</span><span style='background-color: rgb(254,244,239)'>ق</span><span style='background-color: rgb(254,243,238)'>و</span><span style='background-color: rgb(254,243,237)'>ت</span><span style='background-color: rgb(254,243,238)'> </span><span style='background-color: rgb(255,245,240)'>و</span><span style='background-color: rgb(254,244,239)'> </span><span style='background-color: rgb(254,243,238)'>ز</span><span style='background-color: rgb(254,242,236)'>ر</span><span style='background-color: rgb(254,239,232)'> </span><span style='background-color: rgb(254,237,228)'>ا</span><span style='background-color: rgb(254,242,236)'>م</span><span style='background-color: rgb(254,243,238)'>د</span><span style='background-color: rgb(254,244,239)'>س</span><span style='background-color: rgb(254,244,239)'>ت</span><span>\t\t:\t\t</span><span>ا</span></div>"
      ],
      "text/plain": [
       "<IPython.core.display.HTML object>"
      ]
     },
     "metadata": {
      "tags": []
     },
     "output_type": "display_data"
    },
    {
     "data": {
      "text/html": [
       "<div><span style='background-color: rgb(254,237,229)'>ب</span><span style='background-color: rgb(254,243,237)'>ر</span><span style='background-color: rgb(254,242,236)'>ش</span><span style='background-color: rgb(254,243,237)'> </span><span style='background-color: rgb(254,243,237)'>س</span><span style='background-color: rgb(254,236,227)'>ر</span><span style='background-color: rgb(254,240,233)'>خ</span><span style='background-color: rgb(254,241,235)'> </span><span style='background-color: rgb(254,244,239)'>ی</span><span style='background-color: rgb(254,244,239)'>ا</span><span style='background-color: rgb(254,244,239)'>ق</span><span style='background-color: rgb(254,243,238)'>و</span><span style='background-color: rgb(254,243,238)'>ت</span><span style='background-color: rgb(254,243,237)'> </span><span style='background-color: rgb(254,243,238)'>و</span><span style='background-color: rgb(254,243,237)'> </span><span style='background-color: rgb(255,245,240)'>ز</span><span style='background-color: rgb(254,243,238)'>ر</span><span style='background-color: rgb(254,244,239)'> </span><span style='background-color: rgb(255,245,240)'>ا</span><span style='background-color: rgb(254,243,237)'>م</span><span style='background-color: rgb(255,245,240)'>د</span><span style='background-color: rgb(255,245,240)'>س</span><span style='background-color: rgb(254,244,239)'>ت</span><span>\t\t:\t\t</span><span>م</span></div>"
      ],
      "text/plain": [
       "<IPython.core.display.HTML object>"
      ]
     },
     "metadata": {
      "tags": []
     },
     "output_type": "display_data"
    },
    {
     "data": {
      "text/html": [
       "<div><span style='background-color: rgb(254,242,236)'>ب</span><span style='background-color: rgb(254,243,238)'>ر</span><span style='background-color: rgb(254,242,236)'>ش</span><span style='background-color: rgb(255,245,240)'> </span><span style='background-color: rgb(255,245,240)'>س</span><span style='background-color: rgb(255,245,240)'>ر</span><span style='background-color: rgb(255,245,240)'>خ</span><span style='background-color: rgb(254,244,239)'> </span><span style='background-color: rgb(254,239,231)'>ی</span><span style='background-color: rgb(254,229,218)'>ا</span><span style='background-color: rgb(254,237,229)'>ق</span><span style='background-color: rgb(254,233,223)'>و</span><span style='background-color: rgb(254,239,232)'>ت</span><span style='background-color: rgb(254,243,238)'> </span><span style='background-color: rgb(254,244,239)'>و</span><span style='background-color: rgb(254,243,238)'> </span><span style='background-color: rgb(254,241,235)'>ز</span><span style='background-color: rgb(254,240,233)'>ر</span><span style='background-color: rgb(254,240,233)'> </span><span style='background-color: rgb(254,243,237)'>ا</span><span style='background-color: rgb(254,237,228)'>م</span><span style='background-color: rgb(254,235,225)'>د</span><span style='background-color: rgb(254,244,239)'>س</span><span style='background-color: rgb(254,238,230)'>ت</span><span>\t\t:\t\t</span><span>ـ</span></div>"
      ],
      "text/plain": [
       "<IPython.core.display.HTML object>"
      ]
     },
     "metadata": {
      "tags": []
     },
     "output_type": "display_data"
    },
    {
     "data": {
      "text/html": [
       "<div><span style='background-color: rgb(254,242,236)'>ب</span><span style='background-color: rgb(254,243,237)'>ر</span><span style='background-color: rgb(254,242,236)'>ش</span><span style='background-color: rgb(254,242,236)'> </span><span style='background-color: rgb(254,242,236)'>س</span><span style='background-color: rgb(254,243,237)'>ر</span><span style='background-color: rgb(254,244,239)'>خ</span><span style='background-color: rgb(254,244,239)'> </span><span style='background-color: rgb(255,245,240)'>ی</span><span style='background-color: rgb(255,245,240)'>ا</span><span style='background-color: rgb(254,244,239)'>ق</span><span style='background-color: rgb(254,243,238)'>و</span><span style='background-color: rgb(254,243,238)'>ت</span><span style='background-color: rgb(254,243,237)'> </span><span style='background-color: rgb(255,245,240)'>و</span><span style='background-color: rgb(255,245,240)'> </span><span style='background-color: rgb(255,245,240)'>ز</span><span style='background-color: rgb(254,244,239)'>ر</span><span style='background-color: rgb(254,244,239)'> </span><span style='background-color: rgb(254,242,236)'>ا</span><span style='background-color: rgb(254,243,238)'>م</span><span style='background-color: rgb(254,239,232)'>د</span><span style='background-color: rgb(254,241,234)'>س</span><span style='background-color: rgb(254,244,239)'>ت</span><span>\t\t:\t\t</span><span>و</span></div>"
      ],
      "text/plain": [
       "<IPython.core.display.HTML object>"
      ]
     },
     "metadata": {
      "tags": []
     },
     "output_type": "display_data"
    },
    {
     "data": {
      "text/html": [
       "<div><span style='background-color: rgb(254,241,235)'>ب</span><span style='background-color: rgb(254,243,238)'>ر</span><span style='background-color: rgb(254,243,237)'>ش</span><span style='background-color: rgb(254,244,239)'> </span><span style='background-color: rgb(254,244,239)'>س</span><span style='background-color: rgb(254,243,238)'>ر</span><span style='background-color: rgb(254,240,233)'>خ</span><span style='background-color: rgb(254,239,232)'> </span><span style='background-color: rgb(254,234,224)'>ی</span><span style='background-color: rgb(253,221,206)'>ا</span><span style='background-color: rgb(254,237,229)'>ق</span><span style='background-color: rgb(254,228,216)'>و</span><span style='background-color: rgb(254,236,227)'>ت</span><span style='background-color: rgb(254,241,235)'> </span><span style='background-color: rgb(254,243,238)'>و</span><span style='background-color: rgb(254,242,236)'> </span><span style='background-color: rgb(254,243,238)'>ز</span><span style='background-color: rgb(254,242,236)'>ر</span><span style='background-color: rgb(254,241,235)'> </span><span style='background-color: rgb(254,244,239)'>ا</span><span style='background-color: rgb(254,241,235)'>م</span><span style='background-color: rgb(254,244,239)'>د</span><span style='background-color: rgb(254,244,239)'>س</span><span style='background-color: rgb(254,243,238)'>ت</span><span>\t\t:\t\t</span><span>ـ</span></div>"
      ],
      "text/plain": [
       "<IPython.core.display.HTML object>"
      ]
     },
     "metadata": {
      "tags": []
     },
     "output_type": "display_data"
    },
    {
     "data": {
      "text/html": [
       "<div><span style='background-color: rgb(254,243,237)'>ب</span><span style='background-color: rgb(254,241,235)'>ر</span><span style='background-color: rgb(254,243,237)'>ش</span><span style='background-color: rgb(254,243,238)'> </span><span style='background-color: rgb(254,243,237)'>س</span><span style='background-color: rgb(254,243,238)'>ر</span><span style='background-color: rgb(254,244,239)'>خ</span><span style='background-color: rgb(254,244,239)'> </span><span style='background-color: rgb(255,245,240)'>ی</span><span style='background-color: rgb(254,244,239)'>ا</span><span style='background-color: rgb(254,243,238)'>ق</span><span style='background-color: rgb(254,243,238)'>و</span><span style='background-color: rgb(254,244,239)'>ت</span><span style='background-color: rgb(254,243,237)'> </span><span style='background-color: rgb(254,244,239)'>و</span><span style='background-color: rgb(255,245,240)'> </span><span style='background-color: rgb(255,245,240)'>ز</span><span style='background-color: rgb(255,245,240)'>ر</span><span style='background-color: rgb(254,244,239)'> </span><span style='background-color: rgb(254,243,237)'>ا</span><span style='background-color: rgb(255,245,240)'>م</span><span style='background-color: rgb(254,244,239)'>د</span><span style='background-color: rgb(254,243,238)'>س</span><span style='background-color: rgb(255,245,240)'>ت</span><span>\t\t:\t\t</span><span>ب</span></div>"
      ],
      "text/plain": [
       "<IPython.core.display.HTML object>"
      ]
     },
     "metadata": {
      "tags": []
     },
     "output_type": "display_data"
    },
    {
     "data": {
      "text/html": [
       "<div><span style='background-color: rgb(254,235,226)'>ب</span><span style='background-color: rgb(254,241,235)'>ر</span><span style='background-color: rgb(254,232,222)'>ش</span><span style='background-color: rgb(254,239,232)'> </span><span style='background-color: rgb(254,239,232)'>س</span><span style='background-color: rgb(254,240,233)'>ر</span><span style='background-color: rgb(254,241,235)'>خ</span><span style='background-color: rgb(254,243,238)'> </span><span style='background-color: rgb(254,241,235)'>ی</span><span style='background-color: rgb(254,241,235)'>ا</span><span style='background-color: rgb(254,244,239)'>ق</span><span style='background-color: rgb(254,243,237)'>و</span><span style='background-color: rgb(254,243,237)'>ت</span><span style='background-color: rgb(254,243,237)'> </span><span style='background-color: rgb(254,244,239)'>و</span><span style='background-color: rgb(255,245,240)'> </span><span style='background-color: rgb(255,245,240)'>ز</span><span style='background-color: rgb(254,244,239)'>ر</span><span style='background-color: rgb(254,243,238)'> </span><span style='background-color: rgb(254,243,238)'>ا</span><span style='background-color: rgb(254,244,239)'>م</span><span style='background-color: rgb(254,244,239)'>د</span><span style='background-color: rgb(255,245,240)'>س</span><span style='background-color: rgb(254,244,239)'>ت</span><span>\t\t:\t\t</span><span>ر</span></div>"
      ],
      "text/plain": [
       "<IPython.core.display.HTML object>"
      ]
     },
     "metadata": {
      "tags": []
     },
     "output_type": "display_data"
    },
    {
     "data": {
      "text/html": [
       "<div><span style='background-color: rgb(255,245,240)'>ب</span><span style='background-color: rgb(255,245,240)'>ر</span><span style='background-color: rgb(254,244,239)'>ش</span><span style='background-color: rgb(255,245,240)'> </span><span style='background-color: rgb(254,243,238)'>س</span><span style='background-color: rgb(254,243,238)'>ر</span><span style='background-color: rgb(254,243,238)'>خ</span><span style='background-color: rgb(254,242,236)'> </span><span style='background-color: rgb(254,237,229)'>ی</span><span style='background-color: rgb(254,227,214)'>ا</span><span style='background-color: rgb(253,213,195)'>ق</span><span style='background-color: rgb(254,230,219)'>و</span><span style='background-color: rgb(254,234,224)'>ت</span><span style='background-color: rgb(254,242,236)'> </span><span style='background-color: rgb(254,244,239)'>و</span><span style='background-color: rgb(254,242,236)'> </span><span style='background-color: rgb(254,243,237)'>ز</span><span style='background-color: rgb(254,243,237)'>ر</span><span style='background-color: rgb(254,240,233)'> </span><span style='background-color: rgb(254,242,236)'>ا</span><span style='background-color: rgb(254,241,235)'>م</span><span style='background-color: rgb(254,241,235)'>د</span><span style='background-color: rgb(255,245,240)'>س</span><span style='background-color: rgb(254,241,235)'>ت</span><span>\t\t:\t\t</span><span>ز</span></div>"
      ],
      "text/plain": [
       "<IPython.core.display.HTML object>"
      ]
     },
     "metadata": {
      "tags": []
     },
     "output_type": "display_data"
    },
    {
     "data": {
      "text/html": [
       "<div><span style='background-color: rgb(254,239,232)'>ب</span><span style='background-color: rgb(254,242,236)'>ر</span><span style='background-color: rgb(254,241,235)'>ش</span><span style='background-color: rgb(254,241,234)'> </span><span style='background-color: rgb(254,241,235)'>س</span><span style='background-color: rgb(254,242,236)'>ر</span><span style='background-color: rgb(254,243,238)'>خ</span><span style='background-color: rgb(254,242,236)'> </span><span style='background-color: rgb(254,235,226)'>ی</span><span style='background-color: rgb(254,238,230)'>ا</span><span style='background-color: rgb(254,241,234)'>ق</span><span style='background-color: rgb(254,239,231)'>و</span><span style='background-color: rgb(254,238,230)'>ت</span><span style='background-color: rgb(254,237,228)'> </span><span style='background-color: rgb(254,239,231)'>و</span><span style='background-color: rgb(254,240,233)'> </span><span style='background-color: rgb(254,241,235)'>ز</span><span style='background-color: rgb(254,241,235)'>ر</span><span style='background-color: rgb(254,238,230)'> </span><span style='background-color: rgb(254,241,235)'>ا</span><span style='background-color: rgb(254,231,220)'>م</span><span style='background-color: rgb(254,232,222)'>د</span><span style='background-color: rgb(254,243,237)'>س</span><span style='background-color: rgb(254,241,234)'>ت</span><span>\t\t:\t\t</span><span>ـ</span></div>"
      ],
      "text/plain": [
       "<IPython.core.display.HTML object>"
      ]
     },
     "metadata": {
      "tags": []
     },
     "output_type": "display_data"
    },
    {
     "data": {
      "text/html": [
       "<div><span style='background-color: rgb(254,242,236)'>ب</span><span style='background-color: rgb(254,241,235)'>ر</span><span style='background-color: rgb(254,242,236)'>ش</span><span style='background-color: rgb(254,241,234)'> </span><span style='background-color: rgb(254,243,238)'>س</span><span style='background-color: rgb(254,243,237)'>ر</span><span style='background-color: rgb(254,244,239)'>خ</span><span style='background-color: rgb(255,245,240)'> </span><span style='background-color: rgb(255,245,240)'>ی</span><span style='background-color: rgb(255,245,240)'>ا</span><span style='background-color: rgb(254,244,239)'>ق</span><span style='background-color: rgb(254,244,239)'>و</span><span style='background-color: rgb(254,243,237)'>ت</span><span style='background-color: rgb(254,241,234)'> </span><span style='background-color: rgb(254,243,237)'>و</span><span style='background-color: rgb(255,245,240)'> </span><span style='background-color: rgb(255,245,240)'>ز</span><span style='background-color: rgb(254,244,239)'>ر</span><span style='background-color: rgb(255,245,240)'> </span><span style='background-color: rgb(254,231,221)'>ا</span><span style='background-color: rgb(254,234,224)'>م</span><span style='background-color: rgb(254,230,219)'>د</span><span style='background-color: rgb(254,236,227)'>س</span><span style='background-color: rgb(254,241,235)'>ت</span><span>\t\t:\t\t</span><span>و</span></div>"
      ],
      "text/plain": [
       "<IPython.core.display.HTML object>"
      ]
     },
     "metadata": {
      "tags": []
     },
     "output_type": "display_data"
    },
    {
     "data": {
      "text/html": [
       "<div><span style='background-color: rgb(254,243,237)'>ب</span><span style='background-color: rgb(254,243,237)'>ر</span><span style='background-color: rgb(254,243,238)'>ش</span><span style='background-color: rgb(254,244,239)'> </span><span style='background-color: rgb(254,244,239)'>س</span><span style='background-color: rgb(254,243,237)'>ر</span><span style='background-color: rgb(254,243,237)'>خ</span><span style='background-color: rgb(254,241,235)'> </span><span style='background-color: rgb(254,233,223)'>ی</span><span style='background-color: rgb(254,227,215)'>ا</span><span style='background-color: rgb(254,241,234)'>ق</span><span style='background-color: rgb(254,238,230)'>و</span><span style='background-color: rgb(254,241,234)'>ت</span><span style='background-color: rgb(254,243,238)'> </span><span style='background-color: rgb(254,244,239)'>و</span><span style='background-color: rgb(254,243,238)'> </span><span style='background-color: rgb(254,244,239)'>ز</span><span style='background-color: rgb(254,244,239)'>ر</span><span style='background-color: rgb(254,243,238)'> </span><span style='background-color: rgb(254,244,239)'>ا</span><span style='background-color: rgb(254,225,211)'>م</span><span style='background-color: rgb(252,204,183)'>د</span><span style='background-color: rgb(254,240,233)'>س</span><span style='background-color: rgb(254,237,228)'>ت</span><span>\t\t:\t\t</span><span>ـ</span></div>"
      ],
      "text/plain": [
       "<IPython.core.display.HTML object>"
      ]
     },
     "metadata": {
      "tags": []
     },
     "output_type": "display_data"
    },
    {
     "data": {
      "text/html": [
       "<div><span style='background-color: rgb(255,245,240)'>ب</span><span style='background-color: rgb(254,244,239)'>ر</span><span style='background-color: rgb(254,244,239)'>ش</span><span style='background-color: rgb(254,243,238)'> </span><span style='background-color: rgb(254,243,237)'>س</span><span style='background-color: rgb(254,243,238)'>ر</span><span style='background-color: rgb(254,244,239)'>خ</span><span style='background-color: rgb(255,245,240)'> </span><span style='background-color: rgb(255,245,240)'>ی</span><span style='background-color: rgb(255,245,240)'>ا</span><span style='background-color: rgb(255,245,240)'>ق</span><span style='background-color: rgb(255,245,240)'>و</span><span style='background-color: rgb(255,245,240)'>ت</span><span style='background-color: rgb(254,244,239)'> </span><span style='background-color: rgb(255,245,240)'>و</span><span style='background-color: rgb(255,245,240)'> </span><span style='background-color: rgb(255,245,240)'>ز</span><span style='background-color: rgb(255,245,240)'>ر</span><span style='background-color: rgb(255,245,240)'> </span><span style='background-color: rgb(254,242,236)'>ا</span><span style='background-color: rgb(254,242,236)'>م</span><span style='background-color: rgb(253,223,209)'>د</span><span style='background-color: rgb(254,235,225)'>س</span><span style='background-color: rgb(254,238,230)'>ت</span><span>\t\t:\t\t</span><span>ب</span></div>"
      ],
      "text/plain": [
       "<IPython.core.display.HTML object>"
      ]
     },
     "metadata": {
      "tags": []
     },
     "output_type": "display_data"
    },
    {
     "data": {
      "text/html": [
       "<div><span style='background-color: rgb(254,237,228)'>ب</span><span style='background-color: rgb(254,239,232)'>ر</span><span style='background-color: rgb(254,242,236)'>ش</span><span style='background-color: rgb(254,244,239)'> </span><span style='background-color: rgb(254,244,239)'>س</span><span style='background-color: rgb(254,244,239)'>ر</span><span style='background-color: rgb(255,245,240)'>خ</span><span style='background-color: rgb(255,245,240)'> </span><span style='background-color: rgb(255,245,240)'>ی</span><span style='background-color: rgb(255,245,240)'>ا</span><span style='background-color: rgb(255,245,240)'>ق</span><span style='background-color: rgb(255,245,240)'>و</span><span style='background-color: rgb(255,245,240)'>ت</span><span style='background-color: rgb(254,244,239)'> </span><span style='background-color: rgb(255,245,240)'>و</span><span style='background-color: rgb(255,245,240)'> </span><span style='background-color: rgb(255,245,240)'>ز</span><span style='background-color: rgb(255,245,240)'>ر</span><span style='background-color: rgb(255,245,240)'> </span><span style='background-color: rgb(254,244,239)'>ا</span><span style='background-color: rgb(254,241,234)'>م</span><span style='background-color: rgb(252,191,166)'>د</span><span style='background-color: rgb(254,233,224)'>س</span><span style='background-color: rgb(254,235,225)'>ت</span><span>\t\t:\t\t</span><span>د</span></div>"
      ],
      "text/plain": [
       "<IPython.core.display.HTML object>"
      ]
     },
     "metadata": {
      "tags": []
     },
     "output_type": "display_data"
    },
    {
     "data": {
      "text/html": [
       "<div><span style='background-color: rgb(254,243,238)'>ب</span><span style='background-color: rgb(254,243,238)'>ر</span><span style='background-color: rgb(254,244,239)'>ش</span><span style='background-color: rgb(255,245,240)'> </span><span style='background-color: rgb(255,245,240)'>س</span><span style='background-color: rgb(254,243,238)'>ر</span><span style='background-color: rgb(255,245,240)'>خ</span><span style='background-color: rgb(255,245,240)'> </span><span style='background-color: rgb(254,243,238)'>ی</span><span style='background-color: rgb(255,245,240)'>ا</span><span style='background-color: rgb(255,245,240)'>ق</span><span style='background-color: rgb(255,245,240)'>و</span><span style='background-color: rgb(255,245,240)'>ت</span><span style='background-color: rgb(255,245,240)'> </span><span style='background-color: rgb(255,245,240)'>و</span><span style='background-color: rgb(255,245,240)'> </span><span style='background-color: rgb(255,245,240)'>ز</span><span style='background-color: rgb(254,244,239)'>ر</span><span style='background-color: rgb(254,244,239)'> </span><span style='background-color: rgb(254,243,237)'>ا</span><span style='background-color: rgb(254,240,233)'>م</span><span style='background-color: rgb(254,224,210)'>د</span><span style='background-color: rgb(251,134,102)'>س</span><span style='background-color: rgb(252,189,163)'>ت</span><span>\t\t:\t\t</span><span>س</span></div>"
      ],
      "text/plain": [
       "<IPython.core.display.HTML object>"
      ]
     },
     "metadata": {
      "tags": []
     },
     "output_type": "display_data"
    },
    {
     "data": {
      "text/html": [
       "<div><span style='background-color: rgb(255,245,240)'>ب</span><span style='background-color: rgb(255,245,240)'>ر</span><span style='background-color: rgb(255,245,240)'>ش</span><span style='background-color: rgb(255,245,240)'> </span><span style='background-color: rgb(255,245,240)'>س</span><span style='background-color: rgb(255,245,240)'>ر</span><span style='background-color: rgb(255,245,240)'>خ</span><span style='background-color: rgb(255,245,240)'> </span><span style='background-color: rgb(255,245,240)'>ی</span><span style='background-color: rgb(255,245,240)'>ا</span><span style='background-color: rgb(255,245,240)'>ق</span><span style='background-color: rgb(255,245,240)'>و</span><span style='background-color: rgb(254,244,239)'>ت</span><span style='background-color: rgb(254,244,239)'> </span><span style='background-color: rgb(254,243,237)'>و</span><span style='background-color: rgb(254,243,238)'> </span><span style='background-color: rgb(254,243,238)'>ز</span><span style='background-color: rgb(254,241,235)'>ر</span><span style='background-color: rgb(254,244,239)'> </span><span style='background-color: rgb(254,243,238)'>ا</span><span style='background-color: rgb(254,243,237)'>م</span><span style='background-color: rgb(254,229,218)'>د</span><span style='background-color: rgb(254,240,233)'>س</span><span style='background-color: rgb(253,213,195)'>ت</span><span>\t\t:\t\t</span><span>ت</span></div>"
      ],
      "text/plain": [
       "<IPython.core.display.HTML object>"
      ]
     },
     "metadata": {
      "tags": []
     },
     "output_type": "display_data"
    },
    {
     "name": "stdout",
     "output_type": "stream",
     "text": [
      "Test input:\n",
      "همه نیکویها به جای اورم  ****  خرد را بدین رهنمای اورم\n",
      "Seq2Seq output:\n",
      "سر و جان به یک راه اورد اورم\n",
      "Seq2Seq with attention output:\n",
      "به با ار او بر زمین اورم\n",
      "Weights of attention:\n"
     ]
    },
    {
     "data": {
      "text/html": [
       "<div><span style='background-color: rgb(254,243,237)'>ه</span><span style='background-color: rgb(254,243,238)'>م</span><span style='background-color: rgb(254,243,238)'>ه</span><span style='background-color: rgb(254,244,239)'> </span><span style='background-color: rgb(254,240,233)'>ن</span><span style='background-color: rgb(254,244,239)'>ی</span><span style='background-color: rgb(254,244,239)'>ک</span><span style='background-color: rgb(255,245,240)'>و</span><span style='background-color: rgb(254,243,237)'>ی</span><span style='background-color: rgb(254,242,236)'>ه</span><span style='background-color: rgb(254,244,239)'>ا</span><span style='background-color: rgb(254,244,239)'> </span><span style='background-color: rgb(254,242,236)'>ب</span><span style='background-color: rgb(254,244,239)'>ه</span><span style='background-color: rgb(255,245,240)'> </span><span style='background-color: rgb(255,245,240)'>ج</span><span style='background-color: rgb(255,245,240)'>ا</span><span style='background-color: rgb(254,244,239)'>ی</span><span style='background-color: rgb(255,245,240)'> </span><span style='background-color: rgb(254,244,239)'>ا</span><span style='background-color: rgb(254,236,227)'>و</span><span style='background-color: rgb(254,243,238)'>ر</span><span style='background-color: rgb(254,244,239)'>م</span><span>\t\t:\t\t</span><span>ب</span></div>"
      ],
      "text/plain": [
       "<IPython.core.display.HTML object>"
      ]
     },
     "metadata": {
      "tags": []
     },
     "output_type": "display_data"
    },
    {
     "data": {
      "text/html": [
       "<div><span style='background-color: rgb(254,239,232)'>ه</span><span style='background-color: rgb(254,241,234)'>م</span><span style='background-color: rgb(254,242,236)'>ه</span><span style='background-color: rgb(254,243,238)'> </span><span style='background-color: rgb(254,242,236)'>ن</span><span style='background-color: rgb(254,242,236)'>ی</span><span style='background-color: rgb(254,243,237)'>ک</span><span style='background-color: rgb(254,243,237)'>و</span><span style='background-color: rgb(254,239,231)'>ی</span><span style='background-color: rgb(254,241,235)'>ه</span><span style='background-color: rgb(254,243,237)'>ا</span><span style='background-color: rgb(254,243,237)'> </span><span style='background-color: rgb(254,242,236)'>ب</span><span style='background-color: rgb(254,242,236)'>ه</span><span style='background-color: rgb(254,243,238)'> </span><span style='background-color: rgb(254,244,239)'>ج</span><span style='background-color: rgb(254,243,238)'>ا</span><span style='background-color: rgb(254,243,237)'>ی</span><span style='background-color: rgb(254,241,235)'> </span><span style='background-color: rgb(254,242,236)'>ا</span><span style='background-color: rgb(254,243,237)'>و</span><span style='background-color: rgb(255,245,240)'>ر</span><span style='background-color: rgb(255,245,240)'>م</span><span>\t\t:\t\t</span><span>ه</span></div>"
      ],
      "text/plain": [
       "<IPython.core.display.HTML object>"
      ]
     },
     "metadata": {
      "tags": []
     },
     "output_type": "display_data"
    },
    {
     "data": {
      "text/html": [
       "<div><span style='background-color: rgb(254,242,236)'>ه</span><span style='background-color: rgb(254,238,230)'>م</span><span style='background-color: rgb(254,241,234)'>ه</span><span style='background-color: rgb(254,240,233)'> </span><span style='background-color: rgb(254,241,235)'>ن</span><span style='background-color: rgb(254,235,225)'>ی</span><span style='background-color: rgb(253,218,202)'>ک</span><span style='background-color: rgb(253,208,189)'>و</span><span style='background-color: rgb(254,235,225)'>ی</span><span style='background-color: rgb(254,241,235)'>ه</span><span style='background-color: rgb(254,237,229)'>ا</span><span style='background-color: rgb(254,239,232)'> </span><span style='background-color: rgb(254,243,238)'>ب</span><span style='background-color: rgb(254,243,238)'>ه</span><span style='background-color: rgb(254,241,235)'> </span><span style='background-color: rgb(254,241,234)'>ج</span><span style='background-color: rgb(254,241,235)'>ا</span><span style='background-color: rgb(254,243,237)'>ی</span><span style='background-color: rgb(254,238,230)'> </span><span style='background-color: rgb(254,244,239)'>ا</span><span style='background-color: rgb(255,245,240)'>و</span><span style='background-color: rgb(254,244,239)'>ر</span><span style='background-color: rgb(254,244,239)'>م</span><span>\t\t:\t\t</span><span>ـ</span></div>"
      ],
      "text/plain": [
       "<IPython.core.display.HTML object>"
      ]
     },
     "metadata": {
      "tags": []
     },
     "output_type": "display_data"
    },
    {
     "data": {
      "text/html": [
       "<div><span style='background-color: rgb(254,243,238)'>ه</span><span style='background-color: rgb(254,243,238)'>م</span><span style='background-color: rgb(254,243,238)'>ه</span><span style='background-color: rgb(254,243,237)'> </span><span style='background-color: rgb(254,239,232)'>ن</span><span style='background-color: rgb(254,242,236)'>ی</span><span style='background-color: rgb(254,243,237)'>ک</span><span style='background-color: rgb(254,243,238)'>و</span><span style='background-color: rgb(254,239,232)'>ی</span><span style='background-color: rgb(254,235,226)'>ه</span><span style='background-color: rgb(254,243,238)'>ا</span><span style='background-color: rgb(254,243,237)'> </span><span style='background-color: rgb(254,239,231)'>ب</span><span style='background-color: rgb(254,243,238)'>ه</span><span style='background-color: rgb(255,245,240)'> </span><span style='background-color: rgb(254,244,239)'>ج</span><span style='background-color: rgb(254,244,239)'>ا</span><span style='background-color: rgb(254,241,234)'>ی</span><span style='background-color: rgb(254,239,231)'> </span><span style='background-color: rgb(254,243,238)'>ا</span><span style='background-color: rgb(255,245,240)'>و</span><span style='background-color: rgb(255,245,240)'>ر</span><span style='background-color: rgb(255,245,240)'>م</span><span>\t\t:\t\t</span><span>ب</span></div>"
      ],
      "text/plain": [
       "<IPython.core.display.HTML object>"
      ]
     },
     "metadata": {
      "tags": []
     },
     "output_type": "display_data"
    },
    {
     "data": {
      "text/html": [
       "<div><span style='background-color: rgb(254,241,235)'>ه</span><span style='background-color: rgb(254,240,233)'>م</span><span style='background-color: rgb(254,241,235)'>ه</span><span style='background-color: rgb(254,243,238)'> </span><span style='background-color: rgb(254,243,238)'>ن</span><span style='background-color: rgb(254,244,239)'>ی</span><span style='background-color: rgb(254,243,238)'>ک</span><span style='background-color: rgb(254,239,232)'>و</span><span style='background-color: rgb(254,239,231)'>ی</span><span style='background-color: rgb(254,241,234)'>ه</span><span style='background-color: rgb(254,241,234)'>ا</span><span style='background-color: rgb(254,241,234)'> </span><span style='background-color: rgb(254,237,229)'>ب</span><span style='background-color: rgb(254,241,235)'>ه</span><span style='background-color: rgb(254,243,238)'> </span><span style='background-color: rgb(254,243,238)'>ج</span><span style='background-color: rgb(254,243,238)'>ا</span><span style='background-color: rgb(254,243,238)'>ی</span><span style='background-color: rgb(254,241,234)'> </span><span style='background-color: rgb(255,245,240)'>ا</span><span style='background-color: rgb(254,244,239)'>و</span><span style='background-color: rgb(255,245,240)'>ر</span><span style='background-color: rgb(254,243,238)'>م</span><span>\t\t:\t\t</span><span>ا</span></div>"
      ],
      "text/plain": [
       "<IPython.core.display.HTML object>"
      ]
     },
     "metadata": {
      "tags": []
     },
     "output_type": "display_data"
    },
    {
     "data": {
      "text/html": [
       "<div><span style='background-color: rgb(254,243,237)'>ه</span><span style='background-color: rgb(254,241,234)'>م</span><span style='background-color: rgb(254,238,230)'>ه</span><span style='background-color: rgb(254,239,231)'> </span><span style='background-color: rgb(254,242,236)'>ن</span><span style='background-color: rgb(254,241,234)'>ی</span><span style='background-color: rgb(254,242,236)'>ک</span><span style='background-color: rgb(254,237,229)'>و</span><span style='background-color: rgb(254,235,226)'>ی</span><span style='background-color: rgb(254,239,231)'>ه</span><span style='background-color: rgb(254,233,224)'>ا</span><span style='background-color: rgb(254,237,229)'> </span><span style='background-color: rgb(254,242,236)'>ب</span><span style='background-color: rgb(254,241,234)'>ه</span><span style='background-color: rgb(254,243,237)'> </span><span style='background-color: rgb(254,241,234)'>ج</span><span style='background-color: rgb(254,242,236)'>ا</span><span style='background-color: rgb(254,241,235)'>ی</span><span style='background-color: rgb(254,237,228)'> </span><span style='background-color: rgb(254,244,239)'>ا</span><span style='background-color: rgb(254,243,238)'>و</span><span style='background-color: rgb(254,244,239)'>ر</span><span style='background-color: rgb(254,243,238)'>م</span><span>\t\t:\t\t</span><span>ـ</span></div>"
      ],
      "text/plain": [
       "<IPython.core.display.HTML object>"
      ]
     },
     "metadata": {
      "tags": []
     },
     "output_type": "display_data"
    },
    {
     "data": {
      "text/html": [
       "<div><span style='background-color: rgb(254,241,235)'>ه</span><span style='background-color: rgb(254,243,237)'>م</span><span style='background-color: rgb(254,243,237)'>ه</span><span style='background-color: rgb(254,243,237)'> </span><span style='background-color: rgb(254,241,234)'>ن</span><span style='background-color: rgb(254,241,235)'>ی</span><span style='background-color: rgb(254,241,234)'>ک</span><span style='background-color: rgb(254,242,236)'>و</span><span style='background-color: rgb(254,236,227)'>ی</span><span style='background-color: rgb(254,237,228)'>ه</span><span style='background-color: rgb(254,242,236)'>ا</span><span style='background-color: rgb(254,243,238)'> </span><span style='background-color: rgb(254,240,233)'>ب</span><span style='background-color: rgb(254,243,237)'>ه</span><span style='background-color: rgb(255,245,240)'> </span><span style='background-color: rgb(254,244,239)'>ج</span><span style='background-color: rgb(254,243,237)'>ا</span><span style='background-color: rgb(254,237,229)'>ی</span><span style='background-color: rgb(254,237,229)'> </span><span style='background-color: rgb(254,242,236)'>ا</span><span style='background-color: rgb(254,243,237)'>و</span><span style='background-color: rgb(255,245,240)'>ر</span><span style='background-color: rgb(254,244,239)'>م</span><span>\t\t:\t\t</span><span>ا</span></div>"
      ],
      "text/plain": [
       "<IPython.core.display.HTML object>"
      ]
     },
     "metadata": {
      "tags": []
     },
     "output_type": "display_data"
    },
    {
     "data": {
      "text/html": [
       "<div><span style='background-color: rgb(254,240,233)'>ه</span><span style='background-color: rgb(254,239,231)'>م</span><span style='background-color: rgb(254,242,236)'>ه</span><span style='background-color: rgb(254,241,234)'> </span><span style='background-color: rgb(254,238,230)'>ن</span><span style='background-color: rgb(254,242,236)'>ی</span><span style='background-color: rgb(254,242,236)'>ک</span><span style='background-color: rgb(254,242,236)'>و</span><span style='background-color: rgb(254,239,232)'>ی</span><span style='background-color: rgb(254,241,235)'>ه</span><span style='background-color: rgb(254,242,236)'>ا</span><span style='background-color: rgb(254,243,238)'> </span><span style='background-color: rgb(254,242,236)'>ب</span><span style='background-color: rgb(254,241,235)'>ه</span><span style='background-color: rgb(254,243,238)'> </span><span style='background-color: rgb(254,243,238)'>ج</span><span style='background-color: rgb(254,243,238)'>ا</span><span style='background-color: rgb(254,241,235)'>ی</span><span style='background-color: rgb(254,239,232)'> </span><span style='background-color: rgb(254,242,236)'>ا</span><span style='background-color: rgb(254,236,227)'>و</span><span style='background-color: rgb(254,242,236)'>ر</span><span style='background-color: rgb(254,241,234)'>م</span><span>\t\t:\t\t</span><span>ر</span></div>"
      ],
      "text/plain": [
       "<IPython.core.display.HTML object>"
      ]
     },
     "metadata": {
      "tags": []
     },
     "output_type": "display_data"
    },
    {
     "data": {
      "text/html": [
       "<div><span style='background-color: rgb(255,245,240)'>ه</span><span style='background-color: rgb(254,244,239)'>م</span><span style='background-color: rgb(255,245,240)'>ه</span><span style='background-color: rgb(255,245,240)'> </span><span style='background-color: rgb(254,244,239)'>ن</span><span style='background-color: rgb(254,243,237)'>ی</span><span style='background-color: rgb(254,242,236)'>ک</span><span style='background-color: rgb(254,241,234)'>و</span><span style='background-color: rgb(254,235,226)'>ی</span><span style='background-color: rgb(254,235,225)'>ه</span><span style='background-color: rgb(254,227,215)'>ا</span><span style='background-color: rgb(254,238,230)'> </span><span style='background-color: rgb(254,242,236)'>ب</span><span style='background-color: rgb(254,240,233)'>ه</span><span style='background-color: rgb(254,243,237)'> </span><span style='background-color: rgb(254,243,238)'>ج</span><span style='background-color: rgb(254,242,236)'>ا</span><span style='background-color: rgb(254,238,230)'>ی</span><span style='background-color: rgb(254,239,231)'> </span><span style='background-color: rgb(254,244,239)'>ا</span><span style='background-color: rgb(254,241,235)'>و</span><span style='background-color: rgb(254,243,237)'>ر</span><span style='background-color: rgb(254,239,232)'>م</span><span>\t\t:\t\t</span><span>ـ</span></div>"
      ],
      "text/plain": [
       "<IPython.core.display.HTML object>"
      ]
     },
     "metadata": {
      "tags": []
     },
     "output_type": "display_data"
    },
    {
     "data": {
      "text/html": [
       "<div><span style='background-color: rgb(254,243,238)'>ه</span><span style='background-color: rgb(254,243,237)'>م</span><span style='background-color: rgb(254,242,236)'>ه</span><span style='background-color: rgb(254,244,239)'> </span><span style='background-color: rgb(254,242,236)'>ن</span><span style='background-color: rgb(254,244,239)'>ی</span><span style='background-color: rgb(255,245,240)'>ک</span><span style='background-color: rgb(255,245,240)'>و</span><span style='background-color: rgb(254,243,238)'>ی</span><span style='background-color: rgb(254,242,236)'>ه</span><span style='background-color: rgb(254,243,237)'>ا</span><span style='background-color: rgb(254,244,239)'> </span><span style='background-color: rgb(254,243,237)'>ب</span><span style='background-color: rgb(255,245,240)'>ه</span><span style='background-color: rgb(255,245,240)'> </span><span style='background-color: rgb(255,245,240)'>ج</span><span style='background-color: rgb(255,245,240)'>ا</span><span style='background-color: rgb(254,243,237)'>ی</span><span style='background-color: rgb(254,242,236)'> </span><span style='background-color: rgb(254,235,226)'>ا</span><span style='background-color: rgb(254,242,236)'>و</span><span style='background-color: rgb(254,244,239)'>ر</span><span style='background-color: rgb(254,243,238)'>م</span><span>\t\t:\t\t</span><span>ا</span></div>"
      ],
      "text/plain": [
       "<IPython.core.display.HTML object>"
      ]
     },
     "metadata": {
      "tags": []
     },
     "output_type": "display_data"
    },
    {
     "data": {
      "text/html": [
       "<div><span style='background-color: rgb(254,241,235)'>ه</span><span style='background-color: rgb(254,235,225)'>م</span><span style='background-color: rgb(254,238,230)'>ه</span><span style='background-color: rgb(254,241,235)'> </span><span style='background-color: rgb(254,237,228)'>ن</span><span style='background-color: rgb(254,243,237)'>ی</span><span style='background-color: rgb(254,243,238)'>ک</span><span style='background-color: rgb(254,243,238)'>و</span><span style='background-color: rgb(254,239,231)'>ی</span><span style='background-color: rgb(254,243,238)'>ه</span><span style='background-color: rgb(254,244,239)'>ا</span><span style='background-color: rgb(254,244,239)'> </span><span style='background-color: rgb(254,243,238)'>ب</span><span style='background-color: rgb(254,243,237)'>ه</span><span style='background-color: rgb(254,244,239)'> </span><span style='background-color: rgb(254,244,239)'>ج</span><span style='background-color: rgb(254,244,239)'>ا</span><span style='background-color: rgb(254,243,237)'>ی</span><span style='background-color: rgb(254,241,234)'> </span><span style='background-color: rgb(254,244,239)'>ا</span><span style='background-color: rgb(254,239,232)'>و</span><span style='background-color: rgb(255,245,240)'>ر</span><span style='background-color: rgb(254,243,238)'>م</span><span>\t\t:\t\t</span><span>و</span></div>"
      ],
      "text/plain": [
       "<IPython.core.display.HTML object>"
      ]
     },
     "metadata": {
      "tags": []
     },
     "output_type": "display_data"
    },
    {
     "data": {
      "text/html": [
       "<div><span style='background-color: rgb(254,240,233)'>ه</span><span style='background-color: rgb(254,229,218)'>م</span><span style='background-color: rgb(254,241,234)'>ه</span><span style='background-color: rgb(254,244,239)'> </span><span style='background-color: rgb(254,243,238)'>ن</span><span style='background-color: rgb(254,241,234)'>ی</span><span style='background-color: rgb(254,227,215)'>ک</span><span style='background-color: rgb(253,209,191)'>و</span><span style='background-color: rgb(254,225,211)'>ی</span><span style='background-color: rgb(254,237,229)'>ه</span><span style='background-color: rgb(254,236,227)'>ا</span><span style='background-color: rgb(254,241,234)'> </span><span style='background-color: rgb(254,243,238)'>ب</span><span style='background-color: rgb(254,241,234)'>ه</span><span style='background-color: rgb(254,243,238)'> </span><span style='background-color: rgb(254,244,239)'>ج</span><span style='background-color: rgb(254,243,238)'>ا</span><span style='background-color: rgb(254,244,239)'>ی</span><span style='background-color: rgb(255,245,240)'> </span><span style='background-color: rgb(255,245,240)'>ا</span><span style='background-color: rgb(255,245,240)'>و</span><span style='background-color: rgb(255,245,240)'>ر</span><span style='background-color: rgb(255,245,240)'>م</span><span>\t\t:\t\t</span><span>ـ</span></div>"
      ],
      "text/plain": [
       "<IPython.core.display.HTML object>"
      ]
     },
     "metadata": {
      "tags": []
     },
     "output_type": "display_data"
    },
    {
     "data": {
      "text/html": [
       "<div><span style='background-color: rgb(254,238,230)'>ه</span><span style='background-color: rgb(254,242,236)'>م</span><span style='background-color: rgb(254,241,235)'>ه</span><span style='background-color: rgb(254,242,236)'> </span><span style='background-color: rgb(254,241,235)'>ن</span><span style='background-color: rgb(254,243,238)'>ی</span><span style='background-color: rgb(254,244,239)'>ک</span><span style='background-color: rgb(255,245,240)'>و</span><span style='background-color: rgb(254,243,238)'>ی</span><span style='background-color: rgb(254,242,236)'>ه</span><span style='background-color: rgb(254,243,238)'>ا</span><span style='background-color: rgb(254,244,239)'> </span><span style='background-color: rgb(254,243,237)'>ب</span><span style='background-color: rgb(255,245,240)'>ه</span><span style='background-color: rgb(255,245,240)'> </span><span style='background-color: rgb(255,245,240)'>ج</span><span style='background-color: rgb(254,244,239)'>ا</span><span style='background-color: rgb(254,243,237)'>ی</span><span style='background-color: rgb(254,243,237)'> </span><span style='background-color: rgb(254,243,237)'>ا</span><span style='background-color: rgb(254,244,239)'>و</span><span style='background-color: rgb(255,245,240)'>ر</span><span style='background-color: rgb(255,245,240)'>م</span><span>\t\t:\t\t</span><span>ب</span></div>"
      ],
      "text/plain": [
       "<IPython.core.display.HTML object>"
      ]
     },
     "metadata": {
      "tags": []
     },
     "output_type": "display_data"
    },
    {
     "data": {
      "text/html": [
       "<div><span style='background-color: rgb(254,237,229)'>ه</span><span style='background-color: rgb(254,230,219)'>م</span><span style='background-color: rgb(254,237,228)'>ه</span><span style='background-color: rgb(254,243,238)'> </span><span style='background-color: rgb(254,242,236)'>ن</span><span style='background-color: rgb(254,244,239)'>ی</span><span style='background-color: rgb(254,244,239)'>ک</span><span style='background-color: rgb(254,243,238)'>و</span><span style='background-color: rgb(254,241,235)'>ی</span><span style='background-color: rgb(254,243,238)'>ه</span><span style='background-color: rgb(254,243,238)'>ا</span><span style='background-color: rgb(254,243,238)'> </span><span style='background-color: rgb(254,241,234)'>ب</span><span style='background-color: rgb(254,242,236)'>ه</span><span style='background-color: rgb(254,244,239)'> </span><span style='background-color: rgb(254,244,239)'>ج</span><span style='background-color: rgb(254,243,238)'>ا</span><span style='background-color: rgb(254,243,238)'>ی</span><span style='background-color: rgb(254,243,237)'> </span><span style='background-color: rgb(254,243,237)'>ا</span><span style='background-color: rgb(254,244,239)'>و</span><span style='background-color: rgb(255,245,240)'>ر</span><span style='background-color: rgb(254,244,239)'>م</span><span>\t\t:\t\t</span><span>ر</span></div>"
      ],
      "text/plain": [
       "<IPython.core.display.HTML object>"
      ]
     },
     "metadata": {
      "tags": []
     },
     "output_type": "display_data"
    },
    {
     "data": {
      "text/html": [
       "<div><span style='background-color: rgb(255,245,240)'>ه</span><span style='background-color: rgb(254,244,239)'>م</span><span style='background-color: rgb(254,241,234)'>ه</span><span style='background-color: rgb(254,240,233)'> </span><span style='background-color: rgb(254,240,233)'>ن</span><span style='background-color: rgb(254,241,235)'>ی</span><span style='background-color: rgb(254,241,234)'>ک</span><span style='background-color: rgb(254,236,227)'>و</span><span style='background-color: rgb(254,229,217)'>ی</span><span style='background-color: rgb(254,235,226)'>ه</span><span style='background-color: rgb(254,232,222)'>ا</span><span style='background-color: rgb(254,238,230)'> </span><span style='background-color: rgb(254,235,226)'>ب</span><span style='background-color: rgb(254,241,235)'>ه</span><span style='background-color: rgb(254,241,235)'> </span><span style='background-color: rgb(254,241,235)'>ج</span><span style='background-color: rgb(254,241,235)'>ا</span><span style='background-color: rgb(254,241,234)'>ی</span><span style='background-color: rgb(254,237,228)'> </span><span style='background-color: rgb(255,245,240)'>ا</span><span style='background-color: rgb(254,244,239)'>و</span><span style='background-color: rgb(255,245,240)'>ر</span><span style='background-color: rgb(254,243,237)'>م</span><span>\t\t:\t\t</span><span>ـ</span></div>"
      ],
      "text/plain": [
       "<IPython.core.display.HTML object>"
      ]
     },
     "metadata": {
      "tags": []
     },
     "output_type": "display_data"
    },
    {
     "data": {
      "text/html": [
       "<div><span style='background-color: rgb(254,243,238)'>ه</span><span style='background-color: rgb(254,243,237)'>م</span><span style='background-color: rgb(254,242,236)'>ه</span><span style='background-color: rgb(254,243,238)'> </span><span style='background-color: rgb(254,240,233)'>ن</span><span style='background-color: rgb(254,244,239)'>ی</span><span style='background-color: rgb(255,245,240)'>ک</span><span style='background-color: rgb(255,245,240)'>و</span><span style='background-color: rgb(254,242,236)'>ی</span><span style='background-color: rgb(254,242,236)'>ه</span><span style='background-color: rgb(254,243,237)'>ا</span><span style='background-color: rgb(254,243,238)'> </span><span style='background-color: rgb(254,239,231)'>ب</span><span style='background-color: rgb(254,243,237)'>ه</span><span style='background-color: rgb(255,245,240)'> </span><span style='background-color: rgb(255,245,240)'>ج</span><span style='background-color: rgb(254,243,238)'>ا</span><span style='background-color: rgb(254,240,233)'>ی</span><span style='background-color: rgb(254,241,235)'> </span><span style='background-color: rgb(254,240,233)'>ا</span><span style='background-color: rgb(254,241,235)'>و</span><span style='background-color: rgb(254,241,234)'>ر</span><span style='background-color: rgb(255,245,240)'>م</span><span>\t\t:\t\t</span><span>ز</span></div>"
      ],
      "text/plain": [
       "<IPython.core.display.HTML object>"
      ]
     },
     "metadata": {
      "tags": []
     },
     "output_type": "display_data"
    },
    {
     "data": {
      "text/html": [
       "<div><span style='background-color: rgb(254,243,238)'>ه</span><span style='background-color: rgb(254,242,236)'>م</span><span style='background-color: rgb(254,242,236)'>ه</span><span style='background-color: rgb(254,239,232)'> </span><span style='background-color: rgb(254,240,233)'>ن</span><span style='background-color: rgb(254,236,227)'>ی</span><span style='background-color: rgb(254,237,229)'>ک</span><span style='background-color: rgb(254,239,232)'>و</span><span style='background-color: rgb(254,237,228)'>ی</span><span style='background-color: rgb(254,243,237)'>ه</span><span style='background-color: rgb(254,240,233)'>ا</span><span style='background-color: rgb(254,236,227)'> </span><span style='background-color: rgb(254,232,222)'>ب</span><span style='background-color: rgb(254,237,229)'>ه</span><span style='background-color: rgb(254,241,235)'> </span><span style='background-color: rgb(254,243,238)'>ج</span><span style='background-color: rgb(254,242,236)'>ا</span><span style='background-color: rgb(254,242,236)'>ی</span><span style='background-color: rgb(254,236,227)'> </span><span style='background-color: rgb(255,245,240)'>ا</span><span style='background-color: rgb(254,242,236)'>و</span><span style='background-color: rgb(254,244,239)'>ر</span><span style='background-color: rgb(254,243,238)'>م</span><span>\t\t:\t\t</span><span>م</span></div>"
      ],
      "text/plain": [
       "<IPython.core.display.HTML object>"
      ]
     },
     "metadata": {
      "tags": []
     },
     "output_type": "display_data"
    },
    {
     "data": {
      "text/html": [
       "<div><span style='background-color: rgb(254,242,236)'>ه</span><span style='background-color: rgb(254,242,236)'>م</span><span style='background-color: rgb(254,244,239)'>ه</span><span style='background-color: rgb(254,243,237)'> </span><span style='background-color: rgb(254,243,238)'>ن</span><span style='background-color: rgb(254,244,239)'>ی</span><span style='background-color: rgb(254,243,237)'>ک</span><span style='background-color: rgb(254,233,224)'>و</span><span style='background-color: rgb(254,241,234)'>ی</span><span style='background-color: rgb(254,243,238)'>ه</span><span style='background-color: rgb(254,243,238)'>ا</span><span style='background-color: rgb(254,243,238)'> </span><span style='background-color: rgb(254,243,237)'>ب</span><span style='background-color: rgb(254,242,236)'>ه</span><span style='background-color: rgb(254,242,236)'> </span><span style='background-color: rgb(254,242,236)'>ج</span><span style='background-color: rgb(254,241,234)'>ا</span><span style='background-color: rgb(254,243,238)'>ی</span><span style='background-color: rgb(254,243,238)'> </span><span style='background-color: rgb(255,245,240)'>ا</span><span style='background-color: rgb(255,245,240)'>و</span><span style='background-color: rgb(255,245,240)'>ر</span><span style='background-color: rgb(254,240,233)'>م</span><span>\t\t:\t\t</span><span>ی</span></div>"
      ],
      "text/plain": [
       "<IPython.core.display.HTML object>"
      ]
     },
     "metadata": {
      "tags": []
     },
     "output_type": "display_data"
    },
    {
     "data": {
      "text/html": [
       "<div><span style='background-color: rgb(254,239,232)'>ه</span><span style='background-color: rgb(254,231,221)'>م</span><span style='background-color: rgb(254,239,231)'>ه</span><span style='background-color: rgb(254,233,224)'> </span><span style='background-color: rgb(251,132,100)'>ن</span><span style='background-color: rgb(254,227,214)'>ی</span><span style='background-color: rgb(254,235,225)'>ک</span><span style='background-color: rgb(254,238,230)'>و</span><span style='background-color: rgb(254,244,239)'>ی</span><span style='background-color: rgb(255,245,240)'>ه</span><span style='background-color: rgb(255,245,240)'>ا</span><span style='background-color: rgb(254,244,239)'> </span><span style='background-color: rgb(254,243,238)'>ب</span><span style='background-color: rgb(254,243,238)'>ه</span><span style='background-color: rgb(255,245,240)'> </span><span style='background-color: rgb(254,244,239)'>ج</span><span style='background-color: rgb(255,245,240)'>ا</span><span style='background-color: rgb(254,242,236)'>ی</span><span style='background-color: rgb(254,244,239)'> </span><span style='background-color: rgb(255,245,240)'>ا</span><span style='background-color: rgb(254,244,239)'>و</span><span style='background-color: rgb(255,245,240)'>ر</span><span style='background-color: rgb(255,245,240)'>م</span><span>\t\t:\t\t</span><span>ن</span></div>"
      ],
      "text/plain": [
       "<IPython.core.display.HTML object>"
      ]
     },
     "metadata": {
      "tags": []
     },
     "output_type": "display_data"
    },
    {
     "data": {
      "text/html": [
       "<div><span style='background-color: rgb(255,245,240)'>ه</span><span style='background-color: rgb(255,245,240)'>م</span><span style='background-color: rgb(255,245,240)'>ه</span><span style='background-color: rgb(255,245,240)'> </span><span style='background-color: rgb(254,243,238)'>ن</span><span style='background-color: rgb(254,241,235)'>ی</span><span style='background-color: rgb(254,229,218)'>ک</span><span style='background-color: rgb(247,93,66)'>و</span><span style='background-color: rgb(254,241,234)'>ی</span><span style='background-color: rgb(255,245,240)'>ه</span><span style='background-color: rgb(254,243,238)'>ا</span><span style='background-color: rgb(254,244,239)'> </span><span style='background-color: rgb(255,245,240)'>ب</span><span style='background-color: rgb(254,242,236)'>ه</span><span style='background-color: rgb(254,236,227)'> </span><span style='background-color: rgb(254,241,234)'>ج</span><span style='background-color: rgb(254,243,237)'>ا</span><span style='background-color: rgb(254,231,221)'>ی</span><span style='background-color: rgb(254,244,239)'> </span><span style='background-color: rgb(255,245,240)'>ا</span><span style='background-color: rgb(255,245,240)'>و</span><span style='background-color: rgb(254,244,239)'>ر</span><span style='background-color: rgb(254,241,235)'>م</span><span>\t\t:\t\t</span><span>ـ</span></div>"
      ],
      "text/plain": [
       "<IPython.core.display.HTML object>"
      ]
     },
     "metadata": {
      "tags": []
     },
     "output_type": "display_data"
    },
    {
     "data": {
      "text/html": [
       "<div><span style='background-color: rgb(254,244,239)'>ه</span><span style='background-color: rgb(254,243,237)'>م</span><span style='background-color: rgb(254,241,234)'>ه</span><span style='background-color: rgb(254,242,236)'> </span><span style='background-color: rgb(254,237,229)'>ن</span><span style='background-color: rgb(254,244,239)'>ی</span><span style='background-color: rgb(255,245,240)'>ک</span><span style='background-color: rgb(255,245,240)'>و</span><span style='background-color: rgb(255,245,240)'>ی</span><span style='background-color: rgb(255,245,240)'>ه</span><span style='background-color: rgb(255,245,240)'>ا</span><span style='background-color: rgb(255,245,240)'> </span><span style='background-color: rgb(254,241,235)'>ب</span><span style='background-color: rgb(254,244,239)'>ه</span><span style='background-color: rgb(255,245,240)'> </span><span style='background-color: rgb(255,245,240)'>ج</span><span style='background-color: rgb(255,245,240)'>ا</span><span style='background-color: rgb(254,241,234)'>ی</span><span style='background-color: rgb(255,245,240)'> </span><span style='background-color: rgb(253,218,202)'>ا</span><span style='background-color: rgb(254,241,234)'>و</span><span style='background-color: rgb(255,245,240)'>ر</span><span style='background-color: rgb(254,244,239)'>م</span><span>\t\t:\t\t</span><span>ا</span></div>"
      ],
      "text/plain": [
       "<IPython.core.display.HTML object>"
      ]
     },
     "metadata": {
      "tags": []
     },
     "output_type": "display_data"
    },
    {
     "data": {
      "text/html": [
       "<div><span style='background-color: rgb(254,242,236)'>ه</span><span style='background-color: rgb(254,241,235)'>م</span><span style='background-color: rgb(254,243,237)'>ه</span><span style='background-color: rgb(254,243,238)'> </span><span style='background-color: rgb(254,242,236)'>ن</span><span style='background-color: rgb(255,245,240)'>ی</span><span style='background-color: rgb(255,245,240)'>ک</span><span style='background-color: rgb(255,245,240)'>و</span><span style='background-color: rgb(254,243,238)'>ی</span><span style='background-color: rgb(254,244,239)'>ه</span><span style='background-color: rgb(255,245,240)'>ا</span><span style='background-color: rgb(255,245,240)'> </span><span style='background-color: rgb(255,245,240)'>ب</span><span style='background-color: rgb(254,243,238)'>ه</span><span style='background-color: rgb(255,245,240)'> </span><span style='background-color: rgb(255,245,240)'>ج</span><span style='background-color: rgb(255,245,240)'>ا</span><span style='background-color: rgb(254,241,234)'>ی</span><span style='background-color: rgb(254,243,238)'> </span><span style='background-color: rgb(254,243,238)'>ا</span><span style='background-color: rgb(245,86,61)'>و</span><span style='background-color: rgb(254,241,234)'>ر</span><span style='background-color: rgb(254,241,234)'>م</span><span>\t\t:\t\t</span><span>و</span></div>"
      ],
      "text/plain": [
       "<IPython.core.display.HTML object>"
      ]
     },
     "metadata": {
      "tags": []
     },
     "output_type": "display_data"
    },
    {
     "data": {
      "text/html": [
       "<div><span style='background-color: rgb(254,233,224)'>ه</span><span style='background-color: rgb(254,227,214)'>م</span><span style='background-color: rgb(254,239,231)'>ه</span><span style='background-color: rgb(254,242,236)'> </span><span style='background-color: rgb(254,241,235)'>ن</span><span style='background-color: rgb(254,243,238)'>ی</span><span style='background-color: rgb(254,244,239)'>ک</span><span style='background-color: rgb(254,244,239)'>و</span><span style='background-color: rgb(255,245,240)'>ی</span><span style='background-color: rgb(255,245,240)'>ه</span><span style='background-color: rgb(255,245,240)'>ا</span><span style='background-color: rgb(255,245,240)'> </span><span style='background-color: rgb(255,245,240)'>ب</span><span style='background-color: rgb(254,244,239)'>ه</span><span style='background-color: rgb(255,245,240)'> </span><span style='background-color: rgb(255,245,240)'>ج</span><span style='background-color: rgb(255,245,240)'>ا</span><span style='background-color: rgb(254,244,239)'>ی</span><span style='background-color: rgb(254,244,239)'> </span><span style='background-color: rgb(254,243,237)'>ا</span><span style='background-color: rgb(254,235,225)'>و</span><span style='background-color: rgb(252,191,166)'>ر</span><span style='background-color: rgb(253,219,203)'>م</span><span>\t\t:\t\t</span><span>ر</span></div>"
      ],
      "text/plain": [
       "<IPython.core.display.HTML object>"
      ]
     },
     "metadata": {
      "tags": []
     },
     "output_type": "display_data"
    },
    {
     "data": {
      "text/html": [
       "<div><span style='background-color: rgb(255,245,240)'>ه</span><span style='background-color: rgb(255,245,240)'>م</span><span style='background-color: rgb(255,245,240)'>ه</span><span style='background-color: rgb(255,245,240)'> </span><span style='background-color: rgb(255,245,240)'>ن</span><span style='background-color: rgb(255,245,240)'>ی</span><span style='background-color: rgb(255,245,240)'>ک</span><span style='background-color: rgb(255,245,240)'>و</span><span style='background-color: rgb(255,245,240)'>ی</span><span style='background-color: rgb(255,245,240)'>ه</span><span style='background-color: rgb(255,245,240)'>ا</span><span style='background-color: rgb(255,245,240)'> </span><span style='background-color: rgb(255,245,240)'>ب</span><span style='background-color: rgb(255,245,240)'>ه</span><span style='background-color: rgb(254,244,239)'> </span><span style='background-color: rgb(255,245,240)'>ج</span><span style='background-color: rgb(255,245,240)'>ا</span><span style='background-color: rgb(255,245,240)'>ی</span><span style='background-color: rgb(255,245,240)'> </span><span style='background-color: rgb(255,245,240)'>ا</span><span style='background-color: rgb(254,243,237)'>و</span><span style='background-color: rgb(254,242,236)'>ر</span><span style='background-color: rgb(163,14,20)'>م</span><span>\t\t:\t\t</span><span>م</span></div>"
      ],
      "text/plain": [
       "<IPython.core.display.HTML object>"
      ]
     },
     "metadata": {
      "tags": []
     },
     "output_type": "display_data"
    },
    {
     "name": "stdout",
     "output_type": "stream",
     "text": [
      "Test input:\n",
      "چو فامش بتوزی درم صدهزار  ****  بده تا بماند ز ما یادگار\n",
      "Seq2Seq output:\n",
      "به اواز گفت از بد روزگار\n",
      "Seq2Seq with attention output:\n",
      "به نیدیک بیدار دل برززار\n",
      "Weights of attention:\n"
     ]
    },
    {
     "data": {
      "text/html": [
       "<div><span style='background-color: rgb(255,245,240)'>چ</span><span style='background-color: rgb(254,241,234)'>و</span><span style='background-color: rgb(254,243,238)'> </span><span style='background-color: rgb(254,243,238)'>ف</span><span style='background-color: rgb(254,244,239)'>ا</span><span style='background-color: rgb(254,243,237)'>م</span><span style='background-color: rgb(254,243,237)'>ش</span><span style='background-color: rgb(255,245,240)'> </span><span style='background-color: rgb(255,245,240)'>ب</span><span style='background-color: rgb(254,243,238)'>ت</span><span style='background-color: rgb(254,244,239)'>و</span><span style='background-color: rgb(254,244,239)'>ز</span><span style='background-color: rgb(254,244,239)'>ی</span><span style='background-color: rgb(254,240,233)'> </span><span style='background-color: rgb(255,245,240)'>د</span><span style='background-color: rgb(255,245,240)'>ر</span><span style='background-color: rgb(255,245,240)'>م</span><span style='background-color: rgb(255,245,240)'> </span><span style='background-color: rgb(254,244,239)'>ص</span><span style='background-color: rgb(255,245,240)'>د</span><span style='background-color: rgb(255,245,240)'>ه</span><span style='background-color: rgb(254,244,239)'>ز</span><span style='background-color: rgb(255,245,240)'>ا</span><span style='background-color: rgb(255,245,240)'>ر</span><span>\t\t:\t\t</span><span>ب</span></div>"
      ],
      "text/plain": [
       "<IPython.core.display.HTML object>"
      ]
     },
     "metadata": {
      "tags": []
     },
     "output_type": "display_data"
    },
    {
     "data": {
      "text/html": [
       "<div><span style='background-color: rgb(254,237,229)'>چ</span><span style='background-color: rgb(254,239,232)'>و</span><span style='background-color: rgb(254,241,234)'> </span><span style='background-color: rgb(254,243,237)'>ف</span><span style='background-color: rgb(254,243,237)'>ا</span><span style='background-color: rgb(254,243,238)'>م</span><span style='background-color: rgb(254,243,237)'>ش</span><span style='background-color: rgb(254,241,234)'> </span><span style='background-color: rgb(254,243,237)'>ب</span><span style='background-color: rgb(254,241,234)'>ت</span><span style='background-color: rgb(254,241,234)'>و</span><span style='background-color: rgb(254,241,235)'>ز</span><span style='background-color: rgb(254,243,238)'>ی</span><span style='background-color: rgb(254,239,231)'> </span><span style='background-color: rgb(254,241,234)'>د</span><span style='background-color: rgb(254,243,238)'>ر</span><span style='background-color: rgb(254,244,239)'>م</span><span style='background-color: rgb(254,243,238)'> </span><span style='background-color: rgb(254,243,238)'>ص</span><span style='background-color: rgb(254,243,237)'>د</span><span style='background-color: rgb(254,243,238)'>ه</span><span style='background-color: rgb(254,244,239)'>ز</span><span style='background-color: rgb(255,245,240)'>ا</span><span style='background-color: rgb(255,245,240)'>ر</span><span>\t\t:\t\t</span><span>ه</span></div>"
      ],
      "text/plain": [
       "<IPython.core.display.HTML object>"
      ]
     },
     "metadata": {
      "tags": []
     },
     "output_type": "display_data"
    },
    {
     "data": {
      "text/html": [
       "<div><span style='background-color: rgb(254,241,235)'>چ</span><span style='background-color: rgb(254,241,234)'>و</span><span style='background-color: rgb(254,235,226)'> </span><span style='background-color: rgb(254,240,233)'>ف</span><span style='background-color: rgb(254,241,235)'>ا</span><span style='background-color: rgb(254,242,236)'>م</span><span style='background-color: rgb(254,235,225)'>ش</span><span style='background-color: rgb(253,221,206)'> </span><span style='background-color: rgb(254,227,215)'>ب</span><span style='background-color: rgb(254,233,224)'>ت</span><span style='background-color: rgb(254,239,232)'>و</span><span style='background-color: rgb(254,236,227)'>ز</span><span style='background-color: rgb(254,240,233)'>ی</span><span style='background-color: rgb(254,244,239)'> </span><span style='background-color: rgb(254,244,239)'>د</span><span style='background-color: rgb(254,242,236)'>ر</span><span style='background-color: rgb(254,240,233)'>م</span><span style='background-color: rgb(254,235,225)'> </span><span style='background-color: rgb(254,241,235)'>ص</span><span style='background-color: rgb(254,243,237)'>د</span><span style='background-color: rgb(254,243,238)'>ه</span><span style='background-color: rgb(255,245,240)'>ز</span><span style='background-color: rgb(255,245,240)'>ا</span><span style='background-color: rgb(255,245,240)'>ر</span><span>\t\t:\t\t</span><span>ـ</span></div>"
      ],
      "text/plain": [
       "<IPython.core.display.HTML object>"
      ]
     },
     "metadata": {
      "tags": []
     },
     "output_type": "display_data"
    },
    {
     "data": {
      "text/html": [
       "<div><span style='background-color: rgb(254,243,238)'>چ</span><span style='background-color: rgb(254,243,237)'>و</span><span style='background-color: rgb(254,244,239)'> </span><span style='background-color: rgb(254,243,237)'>ف</span><span style='background-color: rgb(254,243,238)'>ا</span><span style='background-color: rgb(254,237,228)'>م</span><span style='background-color: rgb(254,241,235)'>ش</span><span style='background-color: rgb(254,243,238)'> </span><span style='background-color: rgb(254,243,237)'>ب</span><span style='background-color: rgb(254,239,232)'>ت</span><span style='background-color: rgb(254,240,233)'>و</span><span style='background-color: rgb(254,239,231)'>ز</span><span style='background-color: rgb(254,239,232)'>ی</span><span style='background-color: rgb(254,237,228)'> </span><span style='background-color: rgb(254,242,236)'>د</span><span style='background-color: rgb(254,243,238)'>ر</span><span style='background-color: rgb(255,245,240)'>م</span><span style='background-color: rgb(254,244,239)'> </span><span style='background-color: rgb(254,239,232)'>ص</span><span style='background-color: rgb(254,241,235)'>د</span><span style='background-color: rgb(254,244,239)'>ه</span><span style='background-color: rgb(255,245,240)'>ز</span><span style='background-color: rgb(255,245,240)'>ا</span><span style='background-color: rgb(255,245,240)'>ر</span><span>\t\t:\t\t</span><span>ن</span></div>"
      ],
      "text/plain": [
       "<IPython.core.display.HTML object>"
      ]
     },
     "metadata": {
      "tags": []
     },
     "output_type": "display_data"
    },
    {
     "data": {
      "text/html": [
       "<div><span style='background-color: rgb(254,238,230)'>چ</span><span style='background-color: rgb(254,241,235)'>و</span><span style='background-color: rgb(254,241,235)'> </span><span style='background-color: rgb(254,243,237)'>ف</span><span style='background-color: rgb(254,243,238)'>ا</span><span style='background-color: rgb(254,243,237)'>م</span><span style='background-color: rgb(254,241,235)'>ش</span><span style='background-color: rgb(254,240,233)'> </span><span style='background-color: rgb(254,240,233)'>ب</span><span style='background-color: rgb(254,239,231)'>ت</span><span style='background-color: rgb(254,232,222)'>و</span><span style='background-color: rgb(254,227,214)'>ز</span><span style='background-color: rgb(254,237,229)'>ی</span><span style='background-color: rgb(254,237,229)'> </span><span style='background-color: rgb(254,239,232)'>د</span><span style='background-color: rgb(254,243,237)'>ر</span><span style='background-color: rgb(254,243,238)'>م</span><span style='background-color: rgb(254,239,232)'> </span><span style='background-color: rgb(254,243,237)'>ص</span><span style='background-color: rgb(254,244,239)'>د</span><span style='background-color: rgb(255,245,240)'>ه</span><span style='background-color: rgb(255,245,240)'>ز</span><span style='background-color: rgb(255,245,240)'>ا</span><span style='background-color: rgb(255,245,240)'>ر</span><span>\t\t:\t\t</span><span>ی</span></div>"
      ],
      "text/plain": [
       "<IPython.core.display.HTML object>"
      ]
     },
     "metadata": {
      "tags": []
     },
     "output_type": "display_data"
    },
    {
     "data": {
      "text/html": [
       "<div><span style='background-color: rgb(254,244,239)'>چ</span><span style='background-color: rgb(254,240,233)'>و</span><span style='background-color: rgb(254,243,238)'> </span><span style='background-color: rgb(254,243,238)'>ف</span><span style='background-color: rgb(254,243,237)'>ا</span><span style='background-color: rgb(254,242,236)'>م</span><span style='background-color: rgb(254,243,237)'>ش</span><span style='background-color: rgb(254,241,234)'> </span><span style='background-color: rgb(254,239,232)'>ب</span><span style='background-color: rgb(254,243,237)'>ت</span><span style='background-color: rgb(254,241,234)'>و</span><span style='background-color: rgb(254,238,230)'>ز</span><span style='background-color: rgb(254,236,227)'>ی</span><span style='background-color: rgb(254,240,233)'> </span><span style='background-color: rgb(254,243,238)'>د</span><span style='background-color: rgb(254,243,237)'>ر</span><span style='background-color: rgb(254,242,236)'>م</span><span style='background-color: rgb(254,243,237)'> </span><span style='background-color: rgb(254,241,235)'>ص</span><span style='background-color: rgb(254,243,238)'>د</span><span style='background-color: rgb(254,243,238)'>ه</span><span style='background-color: rgb(254,243,238)'>ز</span><span style='background-color: rgb(255,245,240)'>ا</span><span style='background-color: rgb(254,244,239)'>ر</span><span>\t\t:\t\t</span><span>د</span></div>"
      ],
      "text/plain": [
       "<IPython.core.display.HTML object>"
      ]
     },
     "metadata": {
      "tags": []
     },
     "output_type": "display_data"
    },
    {
     "data": {
      "text/html": [
       "<div><span style='background-color: rgb(254,235,226)'>چ</span><span style='background-color: rgb(254,239,231)'>و</span><span style='background-color: rgb(254,242,236)'> </span><span style='background-color: rgb(254,241,235)'>ف</span><span style='background-color: rgb(254,243,237)'>ا</span><span style='background-color: rgb(254,243,238)'>م</span><span style='background-color: rgb(254,241,235)'>ش</span><span style='background-color: rgb(254,238,230)'> </span><span style='background-color: rgb(254,239,231)'>ب</span><span style='background-color: rgb(254,239,231)'>ت</span><span style='background-color: rgb(254,239,232)'>و</span><span style='background-color: rgb(254,239,232)'>ز</span><span style='background-color: rgb(254,239,232)'>ی</span><span style='background-color: rgb(254,238,230)'> </span><span style='background-color: rgb(254,237,229)'>د</span><span style='background-color: rgb(254,239,232)'>ر</span><span style='background-color: rgb(254,239,232)'>م</span><span style='background-color: rgb(254,241,234)'> </span><span style='background-color: rgb(254,243,237)'>ص</span><span style='background-color: rgb(254,243,237)'>د</span><span style='background-color: rgb(254,238,230)'>ه</span><span style='background-color: rgb(254,243,238)'>ز</span><span style='background-color: rgb(254,244,239)'>ا</span><span style='background-color: rgb(255,245,240)'>ر</span><span>\t\t:\t\t</span><span>ی</span></div>"
      ],
      "text/plain": [
       "<IPython.core.display.HTML object>"
      ]
     },
     "metadata": {
      "tags": []
     },
     "output_type": "display_data"
    },
    {
     "data": {
      "text/html": [
       "<div><span style='background-color: rgb(254,243,237)'>چ</span><span style='background-color: rgb(254,237,229)'>و</span><span style='background-color: rgb(254,239,232)'> </span><span style='background-color: rgb(254,243,238)'>ف</span><span style='background-color: rgb(254,240,233)'>ا</span><span style='background-color: rgb(254,242,236)'>م</span><span style='background-color: rgb(254,241,234)'>ش</span><span style='background-color: rgb(254,240,233)'> </span><span style='background-color: rgb(254,241,235)'>ب</span><span style='background-color: rgb(254,240,233)'>ت</span><span style='background-color: rgb(254,241,235)'>و</span><span style='background-color: rgb(254,241,234)'>ز</span><span style='background-color: rgb(254,240,233)'>ی</span><span style='background-color: rgb(254,242,236)'> </span><span style='background-color: rgb(254,243,237)'>د</span><span style='background-color: rgb(254,243,238)'>ر</span><span style='background-color: rgb(254,243,237)'>م</span><span style='background-color: rgb(254,242,236)'> </span><span style='background-color: rgb(254,243,237)'>ص</span><span style='background-color: rgb(254,243,237)'>د</span><span style='background-color: rgb(254,243,238)'>ه</span><span style='background-color: rgb(254,244,239)'>ز</span><span style='background-color: rgb(255,245,240)'>ا</span><span style='background-color: rgb(255,245,240)'>ر</span><span>\t\t:\t\t</span><span>ک</span></div>"
      ],
      "text/plain": [
       "<IPython.core.display.HTML object>"
      ]
     },
     "metadata": {
      "tags": []
     },
     "output_type": "display_data"
    },
    {
     "data": {
      "text/html": [
       "<div><span style='background-color: rgb(254,235,226)'>چ</span><span style='background-color: rgb(254,243,237)'>و</span><span style='background-color: rgb(254,243,238)'> </span><span style='background-color: rgb(254,243,238)'>ف</span><span style='background-color: rgb(254,243,237)'>ا</span><span style='background-color: rgb(254,242,236)'>م</span><span style='background-color: rgb(254,239,231)'>ش</span><span style='background-color: rgb(254,225,212)'> </span><span style='background-color: rgb(254,227,214)'>ب</span><span style='background-color: rgb(254,225,212)'>ت</span><span style='background-color: rgb(254,237,229)'>و</span><span style='background-color: rgb(254,239,232)'>ز</span><span style='background-color: rgb(254,242,236)'>ی</span><span style='background-color: rgb(254,243,237)'> </span><span style='background-color: rgb(254,241,235)'>د</span><span style='background-color: rgb(254,241,234)'>ر</span><span style='background-color: rgb(254,242,236)'>م</span><span style='background-color: rgb(254,242,236)'> </span><span style='background-color: rgb(254,243,237)'>ص</span><span style='background-color: rgb(254,238,230)'>د</span><span style='background-color: rgb(254,235,225)'>ه</span><span style='background-color: rgb(255,245,240)'>ز</span><span style='background-color: rgb(255,245,240)'>ا</span><span style='background-color: rgb(255,245,240)'>ر</span><span>\t\t:\t\t</span><span>ـ</span></div>"
      ],
      "text/plain": [
       "<IPython.core.display.HTML object>"
      ]
     },
     "metadata": {
      "tags": []
     },
     "output_type": "display_data"
    },
    {
     "data": {
      "text/html": [
       "<div><span style='background-color: rgb(254,244,239)'>چ</span><span style='background-color: rgb(254,242,236)'>و</span><span style='background-color: rgb(254,241,235)'> </span><span style='background-color: rgb(254,241,235)'>ف</span><span style='background-color: rgb(254,243,238)'>ا</span><span style='background-color: rgb(254,242,236)'>م</span><span style='background-color: rgb(254,244,239)'>ش</span><span style='background-color: rgb(255,245,240)'> </span><span style='background-color: rgb(255,245,240)'>ب</span><span style='background-color: rgb(254,243,238)'>ت</span><span style='background-color: rgb(255,245,240)'>و</span><span style='background-color: rgb(254,244,239)'>ز</span><span style='background-color: rgb(254,244,239)'>ی</span><span style='background-color: rgb(254,242,236)'> </span><span style='background-color: rgb(254,243,238)'>د</span><span style='background-color: rgb(255,245,240)'>ر</span><span style='background-color: rgb(255,245,240)'>م</span><span style='background-color: rgb(255,245,240)'> </span><span style='background-color: rgb(254,240,233)'>ص</span><span style='background-color: rgb(254,243,237)'>د</span><span style='background-color: rgb(254,243,238)'>ه</span><span style='background-color: rgb(254,242,236)'>ز</span><span style='background-color: rgb(255,245,240)'>ا</span><span style='background-color: rgb(255,245,240)'>ر</span><span>\t\t:\t\t</span><span>ب</span></div>"
      ],
      "text/plain": [
       "<IPython.core.display.HTML object>"
      ]
     },
     "metadata": {
      "tags": []
     },
     "output_type": "display_data"
    },
    {
     "data": {
      "text/html": [
       "<div><span style='background-color: rgb(254,231,221)'>چ</span><span style='background-color: rgb(254,238,230)'>و</span><span style='background-color: rgb(254,239,232)'> </span><span style='background-color: rgb(254,239,232)'>ف</span><span style='background-color: rgb(254,242,236)'>ا</span><span style='background-color: rgb(254,243,237)'>م</span><span style='background-color: rgb(254,243,238)'>ش</span><span style='background-color: rgb(254,243,237)'> </span><span style='background-color: rgb(254,241,235)'>ب</span><span style='background-color: rgb(254,241,235)'>ت</span><span style='background-color: rgb(254,244,239)'>و</span><span style='background-color: rgb(254,244,239)'>ز</span><span style='background-color: rgb(254,243,238)'>ی</span><span style='background-color: rgb(254,241,234)'> </span><span style='background-color: rgb(254,241,234)'>د</span><span style='background-color: rgb(254,244,239)'>ر</span><span style='background-color: rgb(254,243,238)'>م</span><span style='background-color: rgb(254,242,236)'> </span><span style='background-color: rgb(254,241,235)'>ص</span><span style='background-color: rgb(254,243,238)'>د</span><span style='background-color: rgb(254,243,238)'>ه</span><span style='background-color: rgb(255,245,240)'>ز</span><span style='background-color: rgb(254,244,239)'>ا</span><span style='background-color: rgb(255,245,240)'>ر</span><span>\t\t:\t\t</span><span>ی</span></div>"
      ],
      "text/plain": [
       "<IPython.core.display.HTML object>"
      ]
     },
     "metadata": {
      "tags": []
     },
     "output_type": "display_data"
    },
    {
     "data": {
      "text/html": [
       "<div><span style='background-color: rgb(254,238,230)'>چ</span><span style='background-color: rgb(254,235,226)'>و</span><span style='background-color: rgb(254,237,229)'> </span><span style='background-color: rgb(254,241,234)'>ف</span><span style='background-color: rgb(254,234,224)'>ا</span><span style='background-color: rgb(254,239,231)'>م</span><span style='background-color: rgb(254,240,233)'>ش</span><span style='background-color: rgb(254,242,236)'> </span><span style='background-color: rgb(254,237,228)'>ب</span><span style='background-color: rgb(254,237,229)'>ت</span><span style='background-color: rgb(254,239,231)'>و</span><span style='background-color: rgb(254,231,221)'>ز</span><span style='background-color: rgb(254,229,217)'>ی</span><span style='background-color: rgb(254,238,230)'> </span><span style='background-color: rgb(254,239,231)'>د</span><span style='background-color: rgb(254,243,237)'>ر</span><span style='background-color: rgb(254,242,236)'>م</span><span style='background-color: rgb(254,243,237)'> </span><span style='background-color: rgb(254,243,237)'>ص</span><span style='background-color: rgb(254,243,237)'>د</span><span style='background-color: rgb(254,243,237)'>ه</span><span style='background-color: rgb(254,244,239)'>ز</span><span style='background-color: rgb(255,245,240)'>ا</span><span style='background-color: rgb(255,245,240)'>ر</span><span>\t\t:\t\t</span><span>د</span></div>"
      ],
      "text/plain": [
       "<IPython.core.display.HTML object>"
      ]
     },
     "metadata": {
      "tags": []
     },
     "output_type": "display_data"
    },
    {
     "data": {
      "text/html": [
       "<div><span style='background-color: rgb(254,243,237)'>چ</span><span style='background-color: rgb(254,244,239)'>و</span><span style='background-color: rgb(254,243,238)'> </span><span style='background-color: rgb(254,242,236)'>ف</span><span style='background-color: rgb(254,242,236)'>ا</span><span style='background-color: rgb(254,241,235)'>م</span><span style='background-color: rgb(254,242,236)'>ش</span><span style='background-color: rgb(254,238,230)'> </span><span style='background-color: rgb(254,237,228)'>ب</span><span style='background-color: rgb(254,241,234)'>ت</span><span style='background-color: rgb(254,243,238)'>و</span><span style='background-color: rgb(254,244,239)'>ز</span><span style='background-color: rgb(254,244,239)'>ی</span><span style='background-color: rgb(254,244,239)'> </span><span style='background-color: rgb(254,243,237)'>د</span><span style='background-color: rgb(254,241,234)'>ر</span><span style='background-color: rgb(254,241,234)'>م</span><span style='background-color: rgb(254,243,237)'> </span><span style='background-color: rgb(254,244,239)'>ص</span><span style='background-color: rgb(254,244,239)'>د</span><span style='background-color: rgb(254,241,235)'>ه</span><span style='background-color: rgb(255,245,240)'>ز</span><span style='background-color: rgb(255,245,240)'>ا</span><span style='background-color: rgb(255,245,240)'>ر</span><span>\t\t:\t\t</span><span>ا</span></div>"
      ],
      "text/plain": [
       "<IPython.core.display.HTML object>"
      ]
     },
     "metadata": {
      "tags": []
     },
     "output_type": "display_data"
    },
    {
     "data": {
      "text/html": [
       "<div><span style='background-color: rgb(254,241,234)'>چ</span><span style='background-color: rgb(254,233,224)'>و</span><span style='background-color: rgb(254,236,227)'> </span><span style='background-color: rgb(254,239,232)'>ف</span><span style='background-color: rgb(254,239,231)'>ا</span><span style='background-color: rgb(254,239,232)'>م</span><span style='background-color: rgb(254,243,238)'>ش</span><span style='background-color: rgb(254,244,239)'> </span><span style='background-color: rgb(254,244,239)'>ب</span><span style='background-color: rgb(254,242,236)'>ت</span><span style='background-color: rgb(254,241,234)'>و</span><span style='background-color: rgb(254,240,233)'>ز</span><span style='background-color: rgb(254,240,233)'>ی</span><span style='background-color: rgb(254,236,227)'> </span><span style='background-color: rgb(254,233,223)'>د</span><span style='background-color: rgb(254,243,238)'>ر</span><span style='background-color: rgb(254,244,239)'>م</span><span style='background-color: rgb(254,243,238)'> </span><span style='background-color: rgb(254,237,229)'>ص</span><span style='background-color: rgb(254,243,237)'>د</span><span style='background-color: rgb(254,243,237)'>ه</span><span style='background-color: rgb(254,244,239)'>ز</span><span style='background-color: rgb(255,245,240)'>ا</span><span style='background-color: rgb(254,244,239)'>ر</span><span>\t\t:\t\t</span><span>ر</span></div>"
      ],
      "text/plain": [
       "<IPython.core.display.HTML object>"
      ]
     },
     "metadata": {
      "tags": []
     },
     "output_type": "display_data"
    },
    {
     "data": {
      "text/html": [
       "<div><span style='background-color: rgb(254,243,238)'>چ</span><span style='background-color: rgb(255,245,240)'>و</span><span style='background-color: rgb(254,244,239)'> </span><span style='background-color: rgb(254,244,239)'>ف</span><span style='background-color: rgb(254,244,239)'>ا</span><span style='background-color: rgb(254,243,238)'>م</span><span style='background-color: rgb(254,244,239)'>ش</span><span style='background-color: rgb(254,242,236)'> </span><span style='background-color: rgb(254,236,227)'>ب</span><span style='background-color: rgb(254,226,213)'>ت</span><span style='background-color: rgb(254,235,225)'>و</span><span style='background-color: rgb(253,219,203)'>ز</span><span style='background-color: rgb(254,231,221)'>ی</span><span style='background-color: rgb(254,238,230)'> </span><span style='background-color: rgb(254,237,229)'>د</span><span style='background-color: rgb(254,238,230)'>ر</span><span style='background-color: rgb(254,235,225)'>م</span><span style='background-color: rgb(254,241,234)'> </span><span style='background-color: rgb(254,241,234)'>ص</span><span style='background-color: rgb(254,241,235)'>د</span><span style='background-color: rgb(254,241,235)'>ه</span><span style='background-color: rgb(254,244,239)'>ز</span><span style='background-color: rgb(255,245,240)'>ا</span><span style='background-color: rgb(255,245,240)'>ر</span><span>\t\t:\t\t</span><span>ـ</span></div>"
      ],
      "text/plain": [
       "<IPython.core.display.HTML object>"
      ]
     },
     "metadata": {
      "tags": []
     },
     "output_type": "display_data"
    },
    {
     "data": {
      "text/html": [
       "<div><span style='background-color: rgb(255,245,240)'>چ</span><span style='background-color: rgb(254,243,237)'>و</span><span style='background-color: rgb(254,243,238)'> </span><span style='background-color: rgb(254,240,233)'>ف</span><span style='background-color: rgb(254,243,238)'>ا</span><span style='background-color: rgb(254,243,237)'>م</span><span style='background-color: rgb(254,244,239)'>ش</span><span style='background-color: rgb(255,245,240)'> </span><span style='background-color: rgb(255,245,240)'>ب</span><span style='background-color: rgb(254,243,238)'>ت</span><span style='background-color: rgb(254,243,238)'>و</span><span style='background-color: rgb(254,238,230)'>ز</span><span style='background-color: rgb(254,239,232)'>ی</span><span style='background-color: rgb(254,235,226)'> </span><span style='background-color: rgb(254,243,237)'>د</span><span style='background-color: rgb(255,245,240)'>ر</span><span style='background-color: rgb(255,245,240)'>م</span><span style='background-color: rgb(255,245,240)'> </span><span style='background-color: rgb(254,239,232)'>ص</span><span style='background-color: rgb(254,244,239)'>د</span><span style='background-color: rgb(254,244,239)'>ه</span><span style='background-color: rgb(254,242,236)'>ز</span><span style='background-color: rgb(254,243,238)'>ا</span><span style='background-color: rgb(255,245,240)'>ر</span><span>\t\t:\t\t</span><span>د</span></div>"
      ],
      "text/plain": [
       "<IPython.core.display.HTML object>"
      ]
     },
     "metadata": {
      "tags": []
     },
     "output_type": "display_data"
    },
    {
     "data": {
      "text/html": [
       "<div><span style='background-color: rgb(254,236,227)'>چ</span><span style='background-color: rgb(254,239,232)'>و</span><span style='background-color: rgb(254,237,229)'> </span><span style='background-color: rgb(254,242,236)'>ف</span><span style='background-color: rgb(254,243,238)'>ا</span><span style='background-color: rgb(254,243,237)'>م</span><span style='background-color: rgb(254,243,238)'>ش</span><span style='background-color: rgb(254,243,238)'> </span><span style='background-color: rgb(254,242,236)'>ب</span><span style='background-color: rgb(254,239,231)'>ت</span><span style='background-color: rgb(254,243,237)'>و</span><span style='background-color: rgb(254,243,237)'>ز</span><span style='background-color: rgb(254,244,239)'>ی</span><span style='background-color: rgb(255,245,240)'> </span><span style='background-color: rgb(255,245,240)'>د</span><span style='background-color: rgb(254,244,239)'>ر</span><span style='background-color: rgb(254,237,229)'>م</span><span style='background-color: rgb(254,236,227)'> </span><span style='background-color: rgb(254,237,229)'>ص</span><span style='background-color: rgb(254,242,236)'>د</span><span style='background-color: rgb(254,239,232)'>ه</span><span style='background-color: rgb(255,245,240)'>ز</span><span style='background-color: rgb(255,245,240)'>ا</span><span style='background-color: rgb(255,245,240)'>ر</span><span>\t\t:\t\t</span><span>ل</span></div>"
      ],
      "text/plain": [
       "<IPython.core.display.HTML object>"
      ]
     },
     "metadata": {
      "tags": []
     },
     "output_type": "display_data"
    },
    {
     "data": {
      "text/html": [
       "<div><span style='background-color: rgb(254,241,235)'>چ</span><span style='background-color: rgb(254,240,233)'>و</span><span style='background-color: rgb(254,235,226)'> </span><span style='background-color: rgb(254,241,234)'>ف</span><span style='background-color: rgb(254,243,238)'>ا</span><span style='background-color: rgb(254,241,235)'>م</span><span style='background-color: rgb(254,239,231)'>ش</span><span style='background-color: rgb(254,234,224)'> </span><span style='background-color: rgb(253,206,186)'>ب</span><span style='background-color: rgb(253,218,202)'>ت</span><span style='background-color: rgb(254,239,232)'>و</span><span style='background-color: rgb(254,237,229)'>ز</span><span style='background-color: rgb(254,240,233)'>ی</span><span style='background-color: rgb(254,243,238)'> </span><span style='background-color: rgb(254,243,238)'>د</span><span style='background-color: rgb(254,243,238)'>ر</span><span style='background-color: rgb(254,236,227)'>م</span><span style='background-color: rgb(254,240,233)'> </span><span style='background-color: rgb(254,243,237)'>ص</span><span style='background-color: rgb(254,244,239)'>د</span><span style='background-color: rgb(254,244,239)'>ه</span><span style='background-color: rgb(255,245,240)'>ز</span><span style='background-color: rgb(255,245,240)'>ا</span><span style='background-color: rgb(255,245,240)'>ر</span><span>\t\t:\t\t</span><span>ـ</span></div>"
      ],
      "text/plain": [
       "<IPython.core.display.HTML object>"
      ]
     },
     "metadata": {
      "tags": []
     },
     "output_type": "display_data"
    },
    {
     "data": {
      "text/html": [
       "<div><span style='background-color: rgb(254,243,238)'>چ</span><span style='background-color: rgb(254,243,238)'>و</span><span style='background-color: rgb(254,243,238)'> </span><span style='background-color: rgb(254,241,235)'>ف</span><span style='background-color: rgb(254,243,237)'>ا</span><span style='background-color: rgb(254,239,231)'>م</span><span style='background-color: rgb(254,241,235)'>ش</span><span style='background-color: rgb(255,245,240)'> </span><span style='background-color: rgb(254,244,239)'>ب</span><span style='background-color: rgb(254,243,238)'>ت</span><span style='background-color: rgb(254,244,239)'>و</span><span style='background-color: rgb(254,243,238)'>ز</span><span style='background-color: rgb(254,244,239)'>ی</span><span style='background-color: rgb(254,243,238)'> </span><span style='background-color: rgb(255,245,240)'>د</span><span style='background-color: rgb(255,245,240)'>ر</span><span style='background-color: rgb(255,245,240)'>م</span><span style='background-color: rgb(255,245,240)'> </span><span style='background-color: rgb(254,242,236)'>ص</span><span style='background-color: rgb(255,245,240)'>د</span><span style='background-color: rgb(255,245,240)'>ه</span><span style='background-color: rgb(254,243,238)'>ز</span><span style='background-color: rgb(255,245,240)'>ا</span><span style='background-color: rgb(255,245,240)'>ر</span><span>\t\t:\t\t</span><span>ب</span></div>"
      ],
      "text/plain": [
       "<IPython.core.display.HTML object>"
      ]
     },
     "metadata": {
      "tags": []
     },
     "output_type": "display_data"
    },
    {
     "data": {
      "text/html": [
       "<div><span style='background-color: rgb(254,233,223)'>چ</span><span style='background-color: rgb(254,239,231)'>و</span><span style='background-color: rgb(254,240,233)'> </span><span style='background-color: rgb(254,240,233)'>ف</span><span style='background-color: rgb(254,243,237)'>ا</span><span style='background-color: rgb(254,243,238)'>م</span><span style='background-color: rgb(255,245,240)'>ش</span><span style='background-color: rgb(254,243,238)'> </span><span style='background-color: rgb(254,243,238)'>ب</span><span style='background-color: rgb(254,243,238)'>ت</span><span style='background-color: rgb(254,243,238)'>و</span><span style='background-color: rgb(254,242,236)'>ز</span><span style='background-color: rgb(254,243,238)'>ی</span><span style='background-color: rgb(254,239,232)'> </span><span style='background-color: rgb(254,241,235)'>د</span><span style='background-color: rgb(255,245,240)'>ر</span><span style='background-color: rgb(254,244,239)'>م</span><span style='background-color: rgb(254,244,239)'> </span><span style='background-color: rgb(254,243,238)'>ص</span><span style='background-color: rgb(254,242,236)'>د</span><span style='background-color: rgb(254,239,231)'>ه</span><span style='background-color: rgb(254,243,237)'>ز</span><span style='background-color: rgb(254,242,236)'>ا</span><span style='background-color: rgb(255,245,240)'>ر</span><span>\t\t:\t\t</span><span>ر</span></div>"
      ],
      "text/plain": [
       "<IPython.core.display.HTML object>"
      ]
     },
     "metadata": {
      "tags": []
     },
     "output_type": "display_data"
    },
    {
     "data": {
      "text/html": [
       "<div><span style='background-color: rgb(255,245,240)'>چ</span><span style='background-color: rgb(255,245,240)'>و</span><span style='background-color: rgb(254,243,238)'> </span><span style='background-color: rgb(254,240,233)'>ف</span><span style='background-color: rgb(254,239,232)'>ا</span><span style='background-color: rgb(254,241,234)'>م</span><span style='background-color: rgb(254,242,236)'>ش</span><span style='background-color: rgb(254,243,238)'> </span><span style='background-color: rgb(254,243,237)'>ب</span><span style='background-color: rgb(254,237,229)'>ت</span><span style='background-color: rgb(254,228,216)'>و</span><span style='background-color: rgb(254,233,224)'>ز</span><span style='background-color: rgb(254,236,227)'>ی</span><span style='background-color: rgb(254,235,225)'> </span><span style='background-color: rgb(254,242,236)'>د</span><span style='background-color: rgb(254,244,239)'>ر</span><span style='background-color: rgb(254,244,239)'>م</span><span style='background-color: rgb(254,244,239)'> </span><span style='background-color: rgb(254,243,238)'>ص</span><span style='background-color: rgb(254,242,236)'>د</span><span style='background-color: rgb(254,239,231)'>ه</span><span style='background-color: rgb(254,242,236)'>ز</span><span style='background-color: rgb(254,240,233)'>ا</span><span style='background-color: rgb(254,242,236)'>ر</span><span>\t\t:\t\t</span><span>ز</span></div>"
      ],
      "text/plain": [
       "<IPython.core.display.HTML object>"
      ]
     },
     "metadata": {
      "tags": []
     },
     "output_type": "display_data"
    },
    {
     "data": {
      "text/html": [
       "<div><span style='background-color: rgb(254,243,238)'>چ</span><span style='background-color: rgb(254,243,238)'>و</span><span style='background-color: rgb(254,242,236)'> </span><span style='background-color: rgb(254,243,237)'>ف</span><span style='background-color: rgb(254,244,239)'>ا</span><span style='background-color: rgb(254,244,239)'>م</span><span style='background-color: rgb(254,244,239)'>ش</span><span style='background-color: rgb(254,244,239)'> </span><span style='background-color: rgb(254,243,237)'>ب</span><span style='background-color: rgb(254,236,227)'>ت</span><span style='background-color: rgb(254,234,224)'>و</span><span style='background-color: rgb(254,233,223)'>ز</span><span style='background-color: rgb(254,241,235)'>ی</span><span style='background-color: rgb(254,241,235)'> </span><span style='background-color: rgb(254,243,237)'>د</span><span style='background-color: rgb(254,244,239)'>ر</span><span style='background-color: rgb(254,243,237)'>م</span><span style='background-color: rgb(254,244,239)'> </span><span style='background-color: rgb(254,243,238)'>ص</span><span style='background-color: rgb(254,241,235)'>د</span><span style='background-color: rgb(254,232,222)'>ه</span><span style='background-color: rgb(253,222,208)'>ز</span><span style='background-color: rgb(254,234,224)'>ا</span><span style='background-color: rgb(254,243,238)'>ر</span><span>\t\t:\t\t</span><span>ز</span></div>"
      ],
      "text/plain": [
       "<IPython.core.display.HTML object>"
      ]
     },
     "metadata": {
      "tags": []
     },
     "output_type": "display_data"
    },
    {
     "data": {
      "text/html": [
       "<div><span style='background-color: rgb(254,243,238)'>چ</span><span style='background-color: rgb(254,243,237)'>و</span><span style='background-color: rgb(254,241,235)'> </span><span style='background-color: rgb(254,243,237)'>ف</span><span style='background-color: rgb(255,245,240)'>ا</span><span style='background-color: rgb(254,243,238)'>م</span><span style='background-color: rgb(254,243,238)'>ش</span><span style='background-color: rgb(254,244,239)'> </span><span style='background-color: rgb(254,243,237)'>ب</span><span style='background-color: rgb(254,244,239)'>ت</span><span style='background-color: rgb(254,244,239)'>و</span><span style='background-color: rgb(254,244,239)'>ز</span><span style='background-color: rgb(255,245,240)'>ی</span><span style='background-color: rgb(255,245,240)'> </span><span style='background-color: rgb(255,245,240)'>د</span><span style='background-color: rgb(255,245,240)'>ر</span><span style='background-color: rgb(254,243,238)'>م</span><span style='background-color: rgb(255,245,240)'> </span><span style='background-color: rgb(255,245,240)'>ص</span><span style='background-color: rgb(254,244,239)'>د</span><span style='background-color: rgb(254,243,237)'>ه</span><span style='background-color: rgb(254,232,222)'>ز</span><span style='background-color: rgb(242,74,53)'>ا</span><span style='background-color: rgb(254,240,233)'>ر</span><span>\t\t:\t\t</span><span>ا</span></div>"
      ],
      "text/plain": [
       "<IPython.core.display.HTML object>"
      ]
     },
     "metadata": {
      "tags": []
     },
     "output_type": "display_data"
    },
    {
     "data": {
      "text/html": [
       "<div><span style='background-color: rgb(254,244,239)'>چ</span><span style='background-color: rgb(254,244,239)'>و</span><span style='background-color: rgb(254,244,239)'> </span><span style='background-color: rgb(254,244,239)'>ف</span><span style='background-color: rgb(255,245,240)'>ا</span><span style='background-color: rgb(254,244,239)'>م</span><span style='background-color: rgb(255,245,240)'>ش</span><span style='background-color: rgb(255,245,240)'> </span><span style='background-color: rgb(255,245,240)'>ب</span><span style='background-color: rgb(255,245,240)'>ت</span><span style='background-color: rgb(255,245,240)'>و</span><span style='background-color: rgb(255,245,240)'>ز</span><span style='background-color: rgb(255,245,240)'>ی</span><span style='background-color: rgb(254,243,238)'> </span><span style='background-color: rgb(255,245,240)'>د</span><span style='background-color: rgb(255,245,240)'>ر</span><span style='background-color: rgb(255,245,240)'>م</span><span style='background-color: rgb(255,245,240)'> </span><span style='background-color: rgb(255,245,240)'>ص</span><span style='background-color: rgb(255,245,240)'>د</span><span style='background-color: rgb(254,244,239)'>ه</span><span style='background-color: rgb(254,244,239)'>ز</span><span style='background-color: rgb(254,236,227)'>ا</span><span style='background-color: rgb(172,16,22)'>ر</span><span>\t\t:\t\t</span><span>ر</span></div>"
      ],
      "text/plain": [
       "<IPython.core.display.HTML object>"
      ]
     },
     "metadata": {
      "tags": []
     },
     "output_type": "display_data"
    },
    {
     "name": "stdout",
     "output_type": "stream",
     "text": [
      "Test input:\n",
      "جز از بند دیگر ترا دست هست  ****  بمن بر که شاهی و یزدان پرست\n",
      "Seq2Seq output:\n",
      "خور و مرز ان مرد دانن به دست\n",
      "Seq2Seq with attention output:\n",
      "به از  بر به کردار دریای سست\n",
      "Weights of attention:\n"
     ]
    },
    {
     "data": {
      "text/html": [
       "<div><span style='background-color: rgb(254,243,237)'>ج</span><span style='background-color: rgb(254,243,238)'>ز</span><span style='background-color: rgb(254,244,239)'> </span><span style='background-color: rgb(254,243,238)'>ا</span><span style='background-color: rgb(254,242,236)'>ز</span><span style='background-color: rgb(254,241,235)'> </span><span style='background-color: rgb(254,243,238)'>ب</span><span style='background-color: rgb(254,241,234)'>ن</span><span style='background-color: rgb(254,243,238)'>د</span><span style='background-color: rgb(255,245,240)'> </span><span style='background-color: rgb(255,245,240)'>د</span><span style='background-color: rgb(254,243,238)'>ی</span><span style='background-color: rgb(254,243,238)'>گ</span><span style='background-color: rgb(254,243,238)'>ر</span><span style='background-color: rgb(255,245,240)'> </span><span style='background-color: rgb(254,244,239)'>ت</span><span style='background-color: rgb(255,245,240)'>ر</span><span style='background-color: rgb(255,245,240)'>ا</span><span style='background-color: rgb(255,245,240)'> </span><span style='background-color: rgb(255,245,240)'>د</span><span style='background-color: rgb(255,245,240)'>س</span><span style='background-color: rgb(254,244,239)'>ت</span><span style='background-color: rgb(255,245,240)'> </span><span style='background-color: rgb(255,245,240)'>ه</span><span style='background-color: rgb(254,242,236)'>س</span><span style='background-color: rgb(254,243,238)'>ت</span><span>\t\t:\t\t</span><span>ب</span></div>"
      ],
      "text/plain": [
       "<IPython.core.display.HTML object>"
      ]
     },
     "metadata": {
      "tags": []
     },
     "output_type": "display_data"
    },
    {
     "data": {
      "text/html": [
       "<div><span style='background-color: rgb(254,242,236)'>ج</span><span style='background-color: rgb(254,241,234)'>ز</span><span style='background-color: rgb(254,237,229)'> </span><span style='background-color: rgb(254,240,233)'>ا</span><span style='background-color: rgb(254,241,234)'>ز</span><span style='background-color: rgb(254,243,237)'> </span><span style='background-color: rgb(254,243,237)'>ب</span><span style='background-color: rgb(254,241,234)'>ن</span><span style='background-color: rgb(254,242,236)'>د</span><span style='background-color: rgb(254,242,236)'> </span><span style='background-color: rgb(254,243,238)'>د</span><span style='background-color: rgb(254,239,232)'>ی</span><span style='background-color: rgb(254,241,235)'>گ</span><span style='background-color: rgb(254,243,237)'>ر</span><span style='background-color: rgb(254,243,237)'> </span><span style='background-color: rgb(254,241,234)'>ت</span><span style='background-color: rgb(254,243,237)'>ر</span><span style='background-color: rgb(254,243,238)'>ا</span><span style='background-color: rgb(254,243,238)'> </span><span style='background-color: rgb(254,243,238)'>د</span><span style='background-color: rgb(254,242,236)'>س</span><span style='background-color: rgb(254,241,234)'>ت</span><span style='background-color: rgb(254,243,238)'> </span><span style='background-color: rgb(255,245,240)'>ه</span><span style='background-color: rgb(255,245,240)'>س</span><span style='background-color: rgb(255,245,240)'>ت</span><span>\t\t:\t\t</span><span>ه</span></div>"
      ],
      "text/plain": [
       "<IPython.core.display.HTML object>"
      ]
     },
     "metadata": {
      "tags": []
     },
     "output_type": "display_data"
    },
    {
     "data": {
      "text/html": [
       "<div><span style='background-color: rgb(254,243,237)'>ج</span><span style='background-color: rgb(254,243,238)'>ز</span><span style='background-color: rgb(254,242,236)'> </span><span style='background-color: rgb(254,239,231)'>ا</span><span style='background-color: rgb(254,239,232)'>ز</span><span style='background-color: rgb(254,241,235)'> </span><span style='background-color: rgb(254,243,238)'>ب</span><span style='background-color: rgb(254,241,234)'>ن</span><span style='background-color: rgb(254,228,216)'>د</span><span style='background-color: rgb(254,227,214)'> </span><span style='background-color: rgb(254,225,211)'>د</span><span style='background-color: rgb(254,233,223)'>ی</span><span style='background-color: rgb(254,239,232)'>گ</span><span style='background-color: rgb(254,239,231)'>ر</span><span style='background-color: rgb(254,239,232)'> </span><span style='background-color: rgb(254,244,239)'>ت</span><span style='background-color: rgb(254,243,237)'>ر</span><span style='background-color: rgb(254,241,235)'>ا</span><span style='background-color: rgb(254,240,233)'> </span><span style='background-color: rgb(254,242,236)'>د</span><span style='background-color: rgb(254,239,231)'>س</span><span style='background-color: rgb(254,241,235)'>ت</span><span style='background-color: rgb(254,243,237)'> </span><span style='background-color: rgb(255,245,240)'>ه</span><span style='background-color: rgb(254,244,239)'>س</span><span style='background-color: rgb(254,241,234)'>ت</span><span>\t\t:\t\t</span><span>ـ</span></div>"
      ],
      "text/plain": [
       "<IPython.core.display.HTML object>"
      ]
     },
     "metadata": {
      "tags": []
     },
     "output_type": "display_data"
    },
    {
     "data": {
      "text/html": [
       "<div><span style='background-color: rgb(254,243,238)'>ج</span><span style='background-color: rgb(254,243,237)'>ز</span><span style='background-color: rgb(254,243,237)'> </span><span style='background-color: rgb(254,243,238)'>ا</span><span style='background-color: rgb(254,243,238)'>ز</span><span style='background-color: rgb(254,243,238)'> </span><span style='background-color: rgb(254,242,236)'>ب</span><span style='background-color: rgb(254,240,233)'>ن</span><span style='background-color: rgb(254,241,235)'>د</span><span style='background-color: rgb(254,242,236)'> </span><span style='background-color: rgb(254,243,237)'>د</span><span style='background-color: rgb(254,239,231)'>ی</span><span style='background-color: rgb(254,239,231)'>گ</span><span style='background-color: rgb(254,240,233)'>ر</span><span style='background-color: rgb(254,242,236)'> </span><span style='background-color: rgb(254,240,233)'>ت</span><span style='background-color: rgb(254,243,237)'>ر</span><span style='background-color: rgb(254,244,239)'>ا</span><span style='background-color: rgb(254,244,239)'> </span><span style='background-color: rgb(254,243,238)'>د</span><span style='background-color: rgb(254,239,232)'>س</span><span style='background-color: rgb(254,238,230)'>ت</span><span style='background-color: rgb(254,242,236)'> </span><span style='background-color: rgb(255,245,240)'>ه</span><span style='background-color: rgb(255,245,240)'>س</span><span style='background-color: rgb(255,245,240)'>ت</span><span>\t\t:\t\t</span><span>ا</span></div>"
      ],
      "text/plain": [
       "<IPython.core.display.HTML object>"
      ]
     },
     "metadata": {
      "tags": []
     },
     "output_type": "display_data"
    },
    {
     "data": {
      "text/html": [
       "<div><span style='background-color: rgb(254,229,218)'>ج</span><span style='background-color: rgb(254,241,235)'>ز</span><span style='background-color: rgb(254,242,236)'> </span><span style='background-color: rgb(254,241,234)'>ا</span><span style='background-color: rgb(254,241,234)'>ز</span><span style='background-color: rgb(254,240,233)'> </span><span style='background-color: rgb(254,241,235)'>ب</span><span style='background-color: rgb(254,237,229)'>ن</span><span style='background-color: rgb(254,241,235)'>د</span><span style='background-color: rgb(254,243,237)'> </span><span style='background-color: rgb(254,243,238)'>د</span><span style='background-color: rgb(254,241,234)'>ی</span><span style='background-color: rgb(254,243,237)'>گ</span><span style='background-color: rgb(254,243,237)'>ر</span><span style='background-color: rgb(254,243,237)'> </span><span style='background-color: rgb(254,241,235)'>ت</span><span style='background-color: rgb(254,239,231)'>ر</span><span style='background-color: rgb(254,242,236)'>ا</span><span style='background-color: rgb(255,245,240)'> </span><span style='background-color: rgb(255,245,240)'>د</span><span style='background-color: rgb(254,243,238)'>س</span><span style='background-color: rgb(254,244,239)'>ت</span><span style='background-color: rgb(254,243,238)'> </span><span style='background-color: rgb(254,244,239)'>ه</span><span style='background-color: rgb(254,244,239)'>س</span><span style='background-color: rgb(254,244,239)'>ت</span><span>\t\t:\t\t</span><span>ز</span></div>"
      ],
      "text/plain": [
       "<IPython.core.display.HTML object>"
      ]
     },
     "metadata": {
      "tags": []
     },
     "output_type": "display_data"
    },
    {
     "data": {
      "text/html": [
       "<div><span style='background-color: rgb(254,242,236)'>ج</span><span style='background-color: rgb(254,242,236)'>ز</span><span style='background-color: rgb(254,240,233)'> </span><span style='background-color: rgb(254,243,238)'>ا</span><span style='background-color: rgb(254,243,237)'>ز</span><span style='background-color: rgb(254,243,238)'> </span><span style='background-color: rgb(254,242,236)'>ب</span><span style='background-color: rgb(254,240,233)'>ن</span><span style='background-color: rgb(254,239,232)'>د</span><span style='background-color: rgb(254,237,228)'> </span><span style='background-color: rgb(254,235,225)'>د</span><span style='background-color: rgb(254,236,227)'>ی</span><span style='background-color: rgb(254,239,232)'>گ</span><span style='background-color: rgb(254,235,225)'>ر</span><span style='background-color: rgb(254,236,227)'> </span><span style='background-color: rgb(254,241,234)'>ت</span><span style='background-color: rgb(254,241,234)'>ر</span><span style='background-color: rgb(254,243,237)'>ا</span><span style='background-color: rgb(254,242,236)'> </span><span style='background-color: rgb(254,242,236)'>د</span><span style='background-color: rgb(254,241,234)'>س</span><span style='background-color: rgb(254,239,232)'>ت</span><span style='background-color: rgb(254,241,235)'> </span><span style='background-color: rgb(254,244,239)'>ه</span><span style='background-color: rgb(254,244,239)'>س</span><span style='background-color: rgb(254,243,238)'>ت</span><span>\t\t:\t\t</span><span>ـ</span></div>"
      ],
      "text/plain": [
       "<IPython.core.display.HTML object>"
      ]
     },
     "metadata": {
      "tags": []
     },
     "output_type": "display_data"
    },
    {
     "data": {
      "text/html": [
       "<div><span style='background-color: rgb(254,242,236)'>ج</span><span style='background-color: rgb(254,243,237)'>ز</span><span style='background-color: rgb(254,243,237)'> </span><span style='background-color: rgb(254,240,233)'>ا</span><span style='background-color: rgb(254,243,237)'>ز</span><span style='background-color: rgb(254,243,237)'> </span><span style='background-color: rgb(254,242,236)'>ب</span><span style='background-color: rgb(254,241,234)'>ن</span><span style='background-color: rgb(254,242,236)'>د</span><span style='background-color: rgb(254,239,231)'> </span><span style='background-color: rgb(254,241,234)'>د</span><span style='background-color: rgb(254,239,231)'>ی</span><span style='background-color: rgb(254,238,230)'>گ</span><span style='background-color: rgb(254,241,234)'>ر</span><span style='background-color: rgb(254,241,235)'> </span><span style='background-color: rgb(254,239,231)'>ت</span><span style='background-color: rgb(254,243,237)'>ر</span><span style='background-color: rgb(254,243,238)'>ا</span><span style='background-color: rgb(254,243,238)'> </span><span style='background-color: rgb(254,242,236)'>د</span><span style='background-color: rgb(254,240,233)'>س</span><span style='background-color: rgb(254,238,230)'>ت</span><span style='background-color: rgb(254,241,234)'> </span><span style='background-color: rgb(255,245,240)'>ه</span><span style='background-color: rgb(255,245,240)'>س</span><span style='background-color: rgb(254,244,239)'>ت</span><span>\t\t:\t\t</span><span>ـ</span></div>"
      ],
      "text/plain": [
       "<IPython.core.display.HTML object>"
      ]
     },
     "metadata": {
      "tags": []
     },
     "output_type": "display_data"
    },
    {
     "data": {
      "text/html": [
       "<div><span style='background-color: rgb(254,240,233)'>ج</span><span style='background-color: rgb(254,241,235)'>ز</span><span style='background-color: rgb(254,243,238)'> </span><span style='background-color: rgb(254,241,234)'>ا</span><span style='background-color: rgb(254,241,235)'>ز</span><span style='background-color: rgb(254,243,237)'> </span><span style='background-color: rgb(254,244,239)'>ب</span><span style='background-color: rgb(254,242,236)'>ن</span><span style='background-color: rgb(254,243,237)'>د</span><span style='background-color: rgb(254,243,238)'> </span><span style='background-color: rgb(254,244,239)'>د</span><span style='background-color: rgb(254,242,236)'>ی</span><span style='background-color: rgb(254,243,238)'>گ</span><span style='background-color: rgb(254,243,237)'>ر</span><span style='background-color: rgb(254,243,237)'> </span><span style='background-color: rgb(254,243,238)'>ت</span><span style='background-color: rgb(254,244,239)'>ر</span><span style='background-color: rgb(255,245,240)'>ا</span><span style='background-color: rgb(255,245,240)'> </span><span style='background-color: rgb(255,245,240)'>د</span><span style='background-color: rgb(254,243,238)'>س</span><span style='background-color: rgb(254,243,237)'>ت</span><span style='background-color: rgb(254,243,238)'> </span><span style='background-color: rgb(255,245,240)'>ه</span><span style='background-color: rgb(254,244,239)'>س</span><span style='background-color: rgb(255,245,240)'>ت</span><span>\t\t:\t\t</span><span>ب</span></div>"
      ],
      "text/plain": [
       "<IPython.core.display.HTML object>"
      ]
     },
     "metadata": {
      "tags": []
     },
     "output_type": "display_data"
    },
    {
     "data": {
      "text/html": [
       "<div><span style='background-color: rgb(254,241,234)'>ج</span><span style='background-color: rgb(254,238,230)'>ز</span><span style='background-color: rgb(254,237,228)'> </span><span style='background-color: rgb(254,237,229)'>ا</span><span style='background-color: rgb(254,241,235)'>ز</span><span style='background-color: rgb(254,243,238)'> </span><span style='background-color: rgb(254,244,239)'>ب</span><span style='background-color: rgb(254,243,238)'>ن</span><span style='background-color: rgb(254,243,237)'>د</span><span style='background-color: rgb(254,241,234)'> </span><span style='background-color: rgb(254,243,237)'>د</span><span style='background-color: rgb(254,243,237)'>ی</span><span style='background-color: rgb(254,243,237)'>گ</span><span style='background-color: rgb(254,242,236)'>ر</span><span style='background-color: rgb(254,241,234)'> </span><span style='background-color: rgb(254,241,235)'>ت</span><span style='background-color: rgb(254,243,238)'>ر</span><span style='background-color: rgb(254,244,239)'>ا</span><span style='background-color: rgb(254,244,239)'> </span><span style='background-color: rgb(254,244,239)'>د</span><span style='background-color: rgb(254,241,234)'>س</span><span style='background-color: rgb(254,242,236)'>ت</span><span style='background-color: rgb(254,243,237)'> </span><span style='background-color: rgb(255,245,240)'>ه</span><span style='background-color: rgb(254,244,239)'>س</span><span style='background-color: rgb(255,245,240)'>ت</span><span>\t\t:\t\t</span><span>ر</span></div>"
      ],
      "text/plain": [
       "<IPython.core.display.HTML object>"
      ]
     },
     "metadata": {
      "tags": []
     },
     "output_type": "display_data"
    },
    {
     "data": {
      "text/html": [
       "<div><span style='background-color: rgb(254,237,229)'>ج</span><span style='background-color: rgb(254,241,235)'>ز</span><span style='background-color: rgb(254,244,239)'> </span><span style='background-color: rgb(255,245,240)'>ا</span><span style='background-color: rgb(254,244,239)'>ز</span><span style='background-color: rgb(254,243,238)'> </span><span style='background-color: rgb(254,241,235)'>ب</span><span style='background-color: rgb(254,241,235)'>ن</span><span style='background-color: rgb(254,241,235)'>د</span><span style='background-color: rgb(254,242,236)'> </span><span style='background-color: rgb(254,239,232)'>د</span><span style='background-color: rgb(254,233,223)'>ی</span><span style='background-color: rgb(254,236,227)'>گ</span><span style='background-color: rgb(254,234,224)'>ر</span><span style='background-color: rgb(254,239,231)'> </span><span style='background-color: rgb(254,239,231)'>ت</span><span style='background-color: rgb(254,243,237)'>ر</span><span style='background-color: rgb(254,243,237)'>ا</span><span style='background-color: rgb(254,242,236)'> </span><span style='background-color: rgb(254,241,235)'>د</span><span style='background-color: rgb(254,240,233)'>س</span><span style='background-color: rgb(254,237,229)'>ت</span><span style='background-color: rgb(254,241,234)'> </span><span style='background-color: rgb(255,245,240)'>ه</span><span style='background-color: rgb(254,243,237)'>س</span><span style='background-color: rgb(254,233,223)'>ت</span><span>\t\t:\t\t</span><span>ـ</span></div>"
      ],
      "text/plain": [
       "<IPython.core.display.HTML object>"
      ]
     },
     "metadata": {
      "tags": []
     },
     "output_type": "display_data"
    },
    {
     "data": {
      "text/html": [
       "<div><span style='background-color: rgb(254,242,236)'>ج</span><span style='background-color: rgb(254,241,235)'>ز</span><span style='background-color: rgb(254,243,238)'> </span><span style='background-color: rgb(254,243,238)'>ا</span><span style='background-color: rgb(254,242,236)'>ز</span><span style='background-color: rgb(254,243,237)'> </span><span style='background-color: rgb(254,242,236)'>ب</span><span style='background-color: rgb(254,241,234)'>ن</span><span style='background-color: rgb(254,243,238)'>د</span><span style='background-color: rgb(254,244,239)'> </span><span style='background-color: rgb(255,245,240)'>د</span><span style='background-color: rgb(254,241,234)'>ی</span><span style='background-color: rgb(254,241,235)'>گ</span><span style='background-color: rgb(254,241,235)'>ر</span><span style='background-color: rgb(254,243,238)'> </span><span style='background-color: rgb(254,240,233)'>ت</span><span style='background-color: rgb(254,243,238)'>ر</span><span style='background-color: rgb(254,243,238)'>ا</span><span style='background-color: rgb(255,245,240)'> </span><span style='background-color: rgb(254,243,238)'>د</span><span style='background-color: rgb(254,243,237)'>س</span><span style='background-color: rgb(254,239,232)'>ت</span><span style='background-color: rgb(254,243,238)'> </span><span style='background-color: rgb(254,243,237)'>ه</span><span style='background-color: rgb(254,243,238)'>س</span><span style='background-color: rgb(254,243,238)'>ت</span><span>\t\t:\t\t</span><span>ب</span></div>"
      ],
      "text/plain": [
       "<IPython.core.display.HTML object>"
      ]
     },
     "metadata": {
      "tags": []
     },
     "output_type": "display_data"
    },
    {
     "data": {
      "text/html": [
       "<div><span style='background-color: rgb(254,238,230)'>ج</span><span style='background-color: rgb(254,235,226)'>ز</span><span style='background-color: rgb(254,234,224)'> </span><span style='background-color: rgb(254,241,234)'>ا</span><span style='background-color: rgb(254,243,237)'>ز</span><span style='background-color: rgb(254,244,239)'> </span><span style='background-color: rgb(254,243,238)'>ب</span><span style='background-color: rgb(254,243,238)'>ن</span><span style='background-color: rgb(254,244,239)'>د</span><span style='background-color: rgb(254,244,239)'> </span><span style='background-color: rgb(254,244,239)'>د</span><span style='background-color: rgb(254,242,236)'>ی</span><span style='background-color: rgb(254,243,238)'>گ</span><span style='background-color: rgb(254,243,238)'>ر</span><span style='background-color: rgb(254,243,237)'> </span><span style='background-color: rgb(254,236,227)'>ت</span><span style='background-color: rgb(254,243,238)'>ر</span><span style='background-color: rgb(254,244,239)'>ا</span><span style='background-color: rgb(254,243,238)'> </span><span style='background-color: rgb(254,244,239)'>د</span><span style='background-color: rgb(254,243,238)'>س</span><span style='background-color: rgb(254,243,238)'>ت</span><span style='background-color: rgb(254,244,239)'> </span><span style='background-color: rgb(254,244,239)'>ه</span><span style='background-color: rgb(254,244,239)'>س</span><span style='background-color: rgb(254,244,239)'>ت</span><span>\t\t:\t\t</span><span>ه</span></div>"
      ],
      "text/plain": [
       "<IPython.core.display.HTML object>"
      ]
     },
     "metadata": {
      "tags": []
     },
     "output_type": "display_data"
    },
    {
     "data": {
      "text/html": [
       "<div><span style='background-color: rgb(254,243,238)'>ج</span><span style='background-color: rgb(254,243,237)'>ز</span><span style='background-color: rgb(254,243,237)'> </span><span style='background-color: rgb(254,240,233)'>ا</span><span style='background-color: rgb(254,237,229)'>ز</span><span style='background-color: rgb(254,240,233)'> </span><span style='background-color: rgb(254,243,237)'>ب</span><span style='background-color: rgb(254,240,233)'>ن</span><span style='background-color: rgb(254,227,215)'>د</span><span style='background-color: rgb(254,232,222)'> </span><span style='background-color: rgb(253,222,208)'>د</span><span style='background-color: rgb(254,235,226)'>ی</span><span style='background-color: rgb(254,243,237)'>گ</span><span style='background-color: rgb(254,241,234)'>ر</span><span style='background-color: rgb(254,242,236)'> </span><span style='background-color: rgb(254,244,239)'>ت</span><span style='background-color: rgb(254,243,237)'>ر</span><span style='background-color: rgb(254,241,235)'>ا</span><span style='background-color: rgb(254,241,234)'> </span><span style='background-color: rgb(254,241,235)'>د</span><span style='background-color: rgb(254,239,232)'>س</span><span style='background-color: rgb(254,243,237)'>ت</span><span style='background-color: rgb(254,243,237)'> </span><span style='background-color: rgb(255,245,240)'>ه</span><span style='background-color: rgb(254,243,238)'>س</span><span style='background-color: rgb(254,232,222)'>ت</span><span>\t\t:\t\t</span><span>ـ</span></div>"
      ],
      "text/plain": [
       "<IPython.core.display.HTML object>"
      ]
     },
     "metadata": {
      "tags": []
     },
     "output_type": "display_data"
    },
    {
     "data": {
      "text/html": [
       "<div><span style='background-color: rgb(254,243,238)'>ج</span><span style='background-color: rgb(254,243,237)'>ز</span><span style='background-color: rgb(254,243,237)'> </span><span style='background-color: rgb(254,243,238)'>ا</span><span style='background-color: rgb(254,243,238)'>ز</span><span style='background-color: rgb(254,243,237)'> </span><span style='background-color: rgb(254,241,235)'>ب</span><span style='background-color: rgb(254,241,234)'>ن</span><span style='background-color: rgb(254,243,237)'>د</span><span style='background-color: rgb(254,244,239)'> </span><span style='background-color: rgb(254,244,239)'>د</span><span style='background-color: rgb(254,242,236)'>ی</span><span style='background-color: rgb(254,240,233)'>گ</span><span style='background-color: rgb(254,241,235)'>ر</span><span style='background-color: rgb(254,243,238)'> </span><span style='background-color: rgb(254,243,238)'>ت</span><span style='background-color: rgb(254,243,238)'>ر</span><span style='background-color: rgb(254,244,239)'>ا</span><span style='background-color: rgb(254,244,239)'> </span><span style='background-color: rgb(254,243,238)'>د</span><span style='background-color: rgb(254,241,234)'>س</span><span style='background-color: rgb(254,239,231)'>ت</span><span style='background-color: rgb(254,243,238)'> </span><span style='background-color: rgb(255,245,240)'>ه</span><span style='background-color: rgb(255,245,240)'>س</span><span style='background-color: rgb(255,245,240)'>ت</span><span>\t\t:\t\t</span><span>ک</span></div>"
      ],
      "text/plain": [
       "<IPython.core.display.HTML object>"
      ]
     },
     "metadata": {
      "tags": []
     },
     "output_type": "display_data"
    },
    {
     "data": {
      "text/html": [
       "<div><span style='background-color: rgb(254,240,233)'>ج</span><span style='background-color: rgb(254,234,224)'>ز</span><span style='background-color: rgb(254,234,224)'> </span><span style='background-color: rgb(254,237,229)'>ا</span><span style='background-color: rgb(254,235,226)'>ز</span><span style='background-color: rgb(254,236,227)'> </span><span style='background-color: rgb(254,240,233)'>ب</span><span style='background-color: rgb(254,239,231)'>ن</span><span style='background-color: rgb(254,243,237)'>د</span><span style='background-color: rgb(254,243,237)'> </span><span style='background-color: rgb(254,243,237)'>د</span><span style='background-color: rgb(254,241,235)'>ی</span><span style='background-color: rgb(254,243,238)'>گ</span><span style='background-color: rgb(254,244,239)'>ر</span><span style='background-color: rgb(254,244,239)'> </span><span style='background-color: rgb(255,245,240)'>ت</span><span style='background-color: rgb(255,245,240)'>ر</span><span style='background-color: rgb(255,245,240)'>ا</span><span style='background-color: rgb(254,243,238)'> </span><span style='background-color: rgb(254,243,237)'>د</span><span style='background-color: rgb(254,240,233)'>س</span><span style='background-color: rgb(254,243,237)'>ت</span><span style='background-color: rgb(254,241,235)'> </span><span style='background-color: rgb(255,245,240)'>ه</span><span style='background-color: rgb(254,243,238)'>س</span><span style='background-color: rgb(254,243,238)'>ت</span><span>\t\t:\t\t</span><span>ر</span></div>"
      ],
      "text/plain": [
       "<IPython.core.display.HTML object>"
      ]
     },
     "metadata": {
      "tags": []
     },
     "output_type": "display_data"
    },
    {
     "data": {
      "text/html": [
       "<div><span style='background-color: rgb(254,241,235)'>ج</span><span style='background-color: rgb(254,241,235)'>ز</span><span style='background-color: rgb(254,243,238)'> </span><span style='background-color: rgb(255,245,240)'>ا</span><span style='background-color: rgb(255,245,240)'>ز</span><span style='background-color: rgb(255,245,240)'> </span><span style='background-color: rgb(255,245,240)'>ب</span><span style='background-color: rgb(255,245,240)'>ن</span><span style='background-color: rgb(254,243,238)'>د</span><span style='background-color: rgb(254,243,238)'> </span><span style='background-color: rgb(254,242,236)'>د</span><span style='background-color: rgb(254,237,229)'>ی</span><span style='background-color: rgb(254,234,224)'>گ</span><span style='background-color: rgb(254,239,231)'>ر</span><span style='background-color: rgb(254,228,216)'> </span><span style='background-color: rgb(254,229,218)'>ت</span><span style='background-color: rgb(254,236,227)'>ر</span><span style='background-color: rgb(254,239,231)'>ا</span><span style='background-color: rgb(254,235,225)'> </span><span style='background-color: rgb(254,235,225)'>د</span><span style='background-color: rgb(254,239,231)'>س</span><span style='background-color: rgb(254,243,237)'>ت</span><span style='background-color: rgb(255,245,240)'> </span><span style='background-color: rgb(255,245,240)'>ه</span><span style='background-color: rgb(255,245,240)'>س</span><span style='background-color: rgb(254,244,239)'>ت</span><span>\t\t:\t\t</span><span>د</span></div>"
      ],
      "text/plain": [
       "<IPython.core.display.HTML object>"
      ]
     },
     "metadata": {
      "tags": []
     },
     "output_type": "display_data"
    },
    {
     "data": {
      "text/html": [
       "<div><span style='background-color: rgb(254,231,221)'>ج</span><span style='background-color: rgb(254,237,229)'>ز</span><span style='background-color: rgb(254,243,237)'> </span><span style='background-color: rgb(255,245,240)'>ا</span><span style='background-color: rgb(255,245,240)'>ز</span><span style='background-color: rgb(254,244,239)'> </span><span style='background-color: rgb(254,244,239)'>ب</span><span style='background-color: rgb(254,241,234)'>ن</span><span style='background-color: rgb(254,243,237)'>د</span><span style='background-color: rgb(254,241,234)'> </span><span style='background-color: rgb(254,234,224)'>د</span><span style='background-color: rgb(254,237,228)'>ی</span><span style='background-color: rgb(254,243,238)'>گ</span><span style='background-color: rgb(254,243,238)'>ر</span><span style='background-color: rgb(254,243,238)'> </span><span style='background-color: rgb(254,244,239)'>ت</span><span style='background-color: rgb(254,241,234)'>ر</span><span style='background-color: rgb(254,241,235)'>ا</span><span style='background-color: rgb(254,242,236)'> </span><span style='background-color: rgb(254,243,238)'>د</span><span style='background-color: rgb(254,243,238)'>س</span><span style='background-color: rgb(254,244,239)'>ت</span><span style='background-color: rgb(254,243,238)'> </span><span style='background-color: rgb(255,245,240)'>ه</span><span style='background-color: rgb(255,245,240)'>س</span><span style='background-color: rgb(254,243,237)'>ت</span><span>\t\t:\t\t</span><span>ا</span></div>"
      ],
      "text/plain": [
       "<IPython.core.display.HTML object>"
      ]
     },
     "metadata": {
      "tags": []
     },
     "output_type": "display_data"
    },
    {
     "data": {
      "text/html": [
       "<div><span style='background-color: rgb(254,243,237)'>ج</span><span style='background-color: rgb(254,240,233)'>ز</span><span style='background-color: rgb(254,237,229)'> </span><span style='background-color: rgb(253,211,192)'>ا</span><span style='background-color: rgb(253,223,209)'>ز</span><span style='background-color: rgb(254,231,220)'> </span><span style='background-color: rgb(254,235,226)'>ب</span><span style='background-color: rgb(254,231,220)'>ن</span><span style='background-color: rgb(254,243,238)'>د</span><span style='background-color: rgb(254,244,239)'> </span><span style='background-color: rgb(254,244,239)'>د</span><span style='background-color: rgb(254,244,239)'>ی</span><span style='background-color: rgb(254,244,239)'>گ</span><span style='background-color: rgb(254,244,239)'>ر</span><span style='background-color: rgb(254,243,237)'> </span><span style='background-color: rgb(254,244,239)'>ت</span><span style='background-color: rgb(254,244,239)'>ر</span><span style='background-color: rgb(255,245,240)'>ا</span><span style='background-color: rgb(255,245,240)'> </span><span style='background-color: rgb(254,243,238)'>د</span><span style='background-color: rgb(254,243,237)'>س</span><span style='background-color: rgb(254,241,235)'>ت</span><span style='background-color: rgb(255,245,240)'> </span><span style='background-color: rgb(254,244,239)'>ه</span><span style='background-color: rgb(254,244,239)'>س</span><span style='background-color: rgb(254,244,239)'>ت</span><span>\t\t:\t\t</span><span>ر</span></div>"
      ],
      "text/plain": [
       "<IPython.core.display.HTML object>"
      ]
     },
     "metadata": {
      "tags": []
     },
     "output_type": "display_data"
    },
    {
     "data": {
      "text/html": [
       "<div><span style='background-color: rgb(255,245,240)'>ج</span><span style='background-color: rgb(254,242,236)'>ز</span><span style='background-color: rgb(254,243,238)'> </span><span style='background-color: rgb(255,245,240)'>ا</span><span style='background-color: rgb(255,245,240)'>ز</span><span style='background-color: rgb(255,245,240)'> </span><span style='background-color: rgb(255,245,240)'>ب</span><span style='background-color: rgb(255,245,240)'>ن</span><span style='background-color: rgb(254,242,236)'>د</span><span style='background-color: rgb(254,239,232)'> </span><span style='background-color: rgb(252,191,166)'>د</span><span style='background-color: rgb(253,213,195)'>ی</span><span style='background-color: rgb(254,239,232)'>گ</span><span style='background-color: rgb(254,230,219)'>ر</span><span style='background-color: rgb(254,236,227)'> </span><span style='background-color: rgb(254,243,238)'>ت</span><span style='background-color: rgb(254,239,232)'>ر</span><span style='background-color: rgb(254,240,233)'>ا</span><span style='background-color: rgb(254,241,235)'> </span><span style='background-color: rgb(254,243,237)'>د</span><span style='background-color: rgb(254,242,236)'>س</span><span style='background-color: rgb(254,243,238)'>ت</span><span style='background-color: rgb(254,244,239)'> </span><span style='background-color: rgb(255,245,240)'>ه</span><span style='background-color: rgb(254,243,238)'>س</span><span style='background-color: rgb(254,239,231)'>ت</span><span>\t\t:\t\t</span><span>ـ</span></div>"
      ],
      "text/plain": [
       "<IPython.core.display.HTML object>"
      ]
     },
     "metadata": {
      "tags": []
     },
     "output_type": "display_data"
    },
    {
     "data": {
      "text/html": [
       "<div><span style='background-color: rgb(254,243,238)'>ج</span><span style='background-color: rgb(254,243,237)'>ز</span><span style='background-color: rgb(254,244,239)'> </span><span style='background-color: rgb(254,244,239)'>ا</span><span style='background-color: rgb(254,243,238)'>ز</span><span style='background-color: rgb(254,242,236)'> </span><span style='background-color: rgb(254,241,234)'>ب</span><span style='background-color: rgb(254,239,232)'>ن</span><span style='background-color: rgb(254,244,239)'>د</span><span style='background-color: rgb(255,245,240)'> </span><span style='background-color: rgb(255,245,240)'>د</span><span style='background-color: rgb(254,244,239)'>ی</span><span style='background-color: rgb(254,244,239)'>گ</span><span style='background-color: rgb(254,244,239)'>ر</span><span style='background-color: rgb(254,244,239)'> </span><span style='background-color: rgb(254,240,233)'>ت</span><span style='background-color: rgb(254,244,239)'>ر</span><span style='background-color: rgb(255,245,240)'>ا</span><span style='background-color: rgb(255,245,240)'> </span><span style='background-color: rgb(254,244,239)'>د</span><span style='background-color: rgb(254,242,236)'>س</span><span style='background-color: rgb(254,241,235)'>ت</span><span style='background-color: rgb(254,243,237)'> </span><span style='background-color: rgb(254,244,239)'>ه</span><span style='background-color: rgb(254,242,236)'>س</span><span style='background-color: rgb(254,244,239)'>ت</span><span>\t\t:\t\t</span><span>د</span></div>"
      ],
      "text/plain": [
       "<IPython.core.display.HTML object>"
      ]
     },
     "metadata": {
      "tags": []
     },
     "output_type": "display_data"
    },
    {
     "data": {
      "text/html": [
       "<div><span style='background-color: rgb(254,233,224)'>ج</span><span style='background-color: rgb(254,230,219)'>ز</span><span style='background-color: rgb(254,239,231)'> </span><span style='background-color: rgb(254,235,226)'>ا</span><span style='background-color: rgb(254,235,226)'>ز</span><span style='background-color: rgb(254,235,226)'> </span><span style='background-color: rgb(254,243,238)'>ب</span><span style='background-color: rgb(254,243,238)'>ن</span><span style='background-color: rgb(254,244,239)'>د</span><span style='background-color: rgb(254,244,239)'> </span><span style='background-color: rgb(254,243,237)'>د</span><span style='background-color: rgb(254,241,234)'>ی</span><span style='background-color: rgb(254,244,239)'>گ</span><span style='background-color: rgb(255,245,240)'>ر</span><span style='background-color: rgb(254,244,239)'> </span><span style='background-color: rgb(255,245,240)'>ت</span><span style='background-color: rgb(255,245,240)'>ر</span><span style='background-color: rgb(254,244,239)'>ا</span><span style='background-color: rgb(254,242,236)'> </span><span style='background-color: rgb(254,238,230)'>د</span><span style='background-color: rgb(254,234,224)'>س</span><span style='background-color: rgb(254,241,235)'>ت</span><span style='background-color: rgb(254,242,236)'> </span><span style='background-color: rgb(255,245,240)'>ه</span><span style='background-color: rgb(254,243,238)'>س</span><span style='background-color: rgb(254,243,237)'>ت</span><span>\t\t:\t\t</span><span>ر</span></div>"
      ],
      "text/plain": [
       "<IPython.core.display.HTML object>"
      ]
     },
     "metadata": {
      "tags": []
     },
     "output_type": "display_data"
    },
    {
     "data": {
      "text/html": [
       "<div><span style='background-color: rgb(254,236,227)'>ج</span><span style='background-color: rgb(254,232,222)'>ز</span><span style='background-color: rgb(254,241,234)'> </span><span style='background-color: rgb(255,245,240)'>ا</span><span style='background-color: rgb(254,244,239)'>ز</span><span style='background-color: rgb(254,244,239)'> </span><span style='background-color: rgb(254,243,238)'>ب</span><span style='background-color: rgb(254,239,232)'>ن</span><span style='background-color: rgb(254,241,235)'>د</span><span style='background-color: rgb(254,239,231)'> </span><span style='background-color: rgb(254,237,229)'>د</span><span style='background-color: rgb(254,236,227)'>ی</span><span style='background-color: rgb(254,239,232)'>گ</span><span style='background-color: rgb(254,237,229)'>ر</span><span style='background-color: rgb(254,233,223)'> </span><span style='background-color: rgb(254,235,226)'>ت</span><span style='background-color: rgb(254,239,231)'>ر</span><span style='background-color: rgb(254,241,234)'>ا</span><span style='background-color: rgb(254,239,232)'> </span><span style='background-color: rgb(254,239,231)'>د</span><span style='background-color: rgb(254,236,227)'>س</span><span style='background-color: rgb(254,239,231)'>ت</span><span style='background-color: rgb(254,244,239)'> </span><span style='background-color: rgb(255,245,240)'>ه</span><span style='background-color: rgb(254,244,239)'>س</span><span style='background-color: rgb(254,242,236)'>ت</span><span>\t\t:\t\t</span><span>ی</span></div>"
      ],
      "text/plain": [
       "<IPython.core.display.HTML object>"
      ]
     },
     "metadata": {
      "tags": []
     },
     "output_type": "display_data"
    },
    {
     "data": {
      "text/html": [
       "<div><span style='background-color: rgb(254,240,233)'>ج</span><span style='background-color: rgb(254,243,237)'>ز</span><span style='background-color: rgb(254,243,238)'> </span><span style='background-color: rgb(255,245,240)'>ا</span><span style='background-color: rgb(255,245,240)'>ز</span><span style='background-color: rgb(255,245,240)'> </span><span style='background-color: rgb(254,243,237)'>ب</span><span style='background-color: rgb(254,241,235)'>ن</span><span style='background-color: rgb(254,244,239)'>د</span><span style='background-color: rgb(254,244,239)'> </span><span style='background-color: rgb(254,242,236)'>د</span><span style='background-color: rgb(254,242,236)'>ی</span><span style='background-color: rgb(254,243,238)'>گ</span><span style='background-color: rgb(254,244,239)'>ر</span><span style='background-color: rgb(254,243,237)'> </span><span style='background-color: rgb(254,243,237)'>ت</span><span style='background-color: rgb(254,242,236)'>ر</span><span style='background-color: rgb(254,243,237)'>ا</span><span style='background-color: rgb(254,243,238)'> </span><span style='background-color: rgb(254,243,237)'>د</span><span style='background-color: rgb(254,243,237)'>س</span><span style='background-color: rgb(254,243,237)'>ت</span><span style='background-color: rgb(254,244,239)'> </span><span style='background-color: rgb(254,244,239)'>ه</span><span style='background-color: rgb(254,241,234)'>س</span><span style='background-color: rgb(254,240,233)'>ت</span><span>\t\t:\t\t</span><span>ا</span></div>"
      ],
      "text/plain": [
       "<IPython.core.display.HTML object>"
      ]
     },
     "metadata": {
      "tags": []
     },
     "output_type": "display_data"
    },
    {
     "data": {
      "text/html": [
       "<div><span style='background-color: rgb(254,241,235)'>ج</span><span style='background-color: rgb(254,230,219)'>ز</span><span style='background-color: rgb(253,212,194)'> </span><span style='background-color: rgb(254,239,232)'>ا</span><span style='background-color: rgb(254,242,236)'>ز</span><span style='background-color: rgb(254,243,237)'> </span><span style='background-color: rgb(254,241,235)'>ب</span><span style='background-color: rgb(254,237,228)'>ن</span><span style='background-color: rgb(254,243,237)'>د</span><span style='background-color: rgb(254,243,237)'> </span><span style='background-color: rgb(254,238,230)'>د</span><span style='background-color: rgb(254,233,223)'>ی</span><span style='background-color: rgb(254,242,236)'>گ</span><span style='background-color: rgb(254,239,231)'>ر</span><span style='background-color: rgb(254,242,236)'> </span><span style='background-color: rgb(254,242,236)'>ت</span><span style='background-color: rgb(254,241,235)'>ر</span><span style='background-color: rgb(254,243,237)'>ا</span><span style='background-color: rgb(254,243,237)'> </span><span style='background-color: rgb(254,242,236)'>د</span><span style='background-color: rgb(254,237,229)'>س</span><span style='background-color: rgb(254,241,235)'>ت</span><span style='background-color: rgb(254,243,238)'> </span><span style='background-color: rgb(254,244,239)'>ه</span><span style='background-color: rgb(254,239,232)'>س</span><span style='background-color: rgb(254,238,230)'>ت</span><span>\t\t:\t\t</span><span>ی</span></div>"
      ],
      "text/plain": [
       "<IPython.core.display.HTML object>"
      ]
     },
     "metadata": {
      "tags": []
     },
     "output_type": "display_data"
    },
    {
     "data": {
      "text/html": [
       "<div><span style='background-color: rgb(255,245,240)'>ج</span><span style='background-color: rgb(255,245,240)'>ز</span><span style='background-color: rgb(254,243,238)'> </span><span style='background-color: rgb(255,245,240)'>ا</span><span style='background-color: rgb(255,245,240)'>ز</span><span style='background-color: rgb(255,245,240)'> </span><span style='background-color: rgb(255,245,240)'>ب</span><span style='background-color: rgb(255,245,240)'>ن</span><span style='background-color: rgb(254,244,239)'>د</span><span style='background-color: rgb(254,243,237)'> </span><span style='background-color: rgb(254,229,218)'>د</span><span style='background-color: rgb(254,227,214)'>ی</span><span style='background-color: rgb(254,237,229)'>گ</span><span style='background-color: rgb(254,236,227)'>ر</span><span style='background-color: rgb(254,239,232)'> </span><span style='background-color: rgb(254,243,238)'>ت</span><span style='background-color: rgb(254,243,237)'>ر</span><span style='background-color: rgb(254,244,239)'>ا</span><span style='background-color: rgb(254,244,239)'> </span><span style='background-color: rgb(254,243,238)'>د</span><span style='background-color: rgb(254,244,239)'>س</span><span style='background-color: rgb(254,243,238)'>ت</span><span style='background-color: rgb(255,245,240)'> </span><span style='background-color: rgb(255,245,240)'>ه</span><span style='background-color: rgb(254,241,235)'>س</span><span style='background-color: rgb(252,202,182)'>ت</span><span>\t\t:\t\t</span><span>ـ</span></div>"
      ],
      "text/plain": [
       "<IPython.core.display.HTML object>"
      ]
     },
     "metadata": {
      "tags": []
     },
     "output_type": "display_data"
    },
    {
     "data": {
      "text/html": [
       "<div><span style='background-color: rgb(255,245,240)'>ج</span><span style='background-color: rgb(255,245,240)'>ز</span><span style='background-color: rgb(255,245,240)'> </span><span style='background-color: rgb(255,245,240)'>ا</span><span style='background-color: rgb(255,245,240)'>ز</span><span style='background-color: rgb(254,244,239)'> </span><span style='background-color: rgb(254,243,238)'>ب</span><span style='background-color: rgb(254,233,223)'>ن</span><span style='background-color: rgb(254,243,238)'>د</span><span style='background-color: rgb(255,245,240)'> </span><span style='background-color: rgb(255,245,240)'>د</span><span style='background-color: rgb(255,245,240)'>ی</span><span style='background-color: rgb(255,245,240)'>گ</span><span style='background-color: rgb(255,245,240)'>ر</span><span style='background-color: rgb(254,244,239)'> </span><span style='background-color: rgb(254,243,238)'>ت</span><span style='background-color: rgb(254,244,239)'>ر</span><span style='background-color: rgb(255,245,240)'>ا</span><span style='background-color: rgb(255,245,240)'> </span><span style='background-color: rgb(255,245,240)'>د</span><span style='background-color: rgb(254,244,239)'>س</span><span style='background-color: rgb(254,239,232)'>ت</span><span style='background-color: rgb(254,243,238)'> </span><span style='background-color: rgb(254,229,218)'>ه</span><span style='background-color: rgb(252,184,157)'>س</span><span style='background-color: rgb(254,225,212)'>ت</span><span>\t\t:\t\t</span><span>س</span></div>"
      ],
      "text/plain": [
       "<IPython.core.display.HTML object>"
      ]
     },
     "metadata": {
      "tags": []
     },
     "output_type": "display_data"
    },
    {
     "data": {
      "text/html": [
       "<div><span style='background-color: rgb(254,241,234)'>ج</span><span style='background-color: rgb(254,241,235)'>ز</span><span style='background-color: rgb(254,243,237)'> </span><span style='background-color: rgb(254,244,239)'>ا</span><span style='background-color: rgb(254,242,236)'>ز</span><span style='background-color: rgb(254,243,238)'> </span><span style='background-color: rgb(255,245,240)'>ب</span><span style='background-color: rgb(254,243,238)'>ن</span><span style='background-color: rgb(255,245,240)'>د</span><span style='background-color: rgb(255,245,240)'> </span><span style='background-color: rgb(255,245,240)'>د</span><span style='background-color: rgb(255,245,240)'>ی</span><span style='background-color: rgb(255,245,240)'>گ</span><span style='background-color: rgb(255,245,240)'>ر</span><span style='background-color: rgb(255,245,240)'> </span><span style='background-color: rgb(255,245,240)'>ت</span><span style='background-color: rgb(255,245,240)'>ر</span><span style='background-color: rgb(255,245,240)'>ا</span><span style='background-color: rgb(255,245,240)'> </span><span style='background-color: rgb(255,245,240)'>د</span><span style='background-color: rgb(254,244,239)'>س</span><span style='background-color: rgb(254,243,238)'>ت</span><span style='background-color: rgb(254,244,239)'> </span><span style='background-color: rgb(254,243,238)'>ه</span><span style='background-color: rgb(253,214,197)'>س</span><span style='background-color: rgb(251,122,90)'>ت</span><span>\t\t:\t\t</span><span>س</span></div>"
      ],
      "text/plain": [
       "<IPython.core.display.HTML object>"
      ]
     },
     "metadata": {
      "tags": []
     },
     "output_type": "display_data"
    },
    {
     "data": {
      "text/html": [
       "<div><span style='background-color: rgb(255,245,240)'>ج</span><span style='background-color: rgb(255,245,240)'>ز</span><span style='background-color: rgb(255,245,240)'> </span><span style='background-color: rgb(255,245,240)'>ا</span><span style='background-color: rgb(255,245,240)'>ز</span><span style='background-color: rgb(255,245,240)'> </span><span style='background-color: rgb(255,245,240)'>ب</span><span style='background-color: rgb(255,245,240)'>ن</span><span style='background-color: rgb(255,245,240)'>د</span><span style='background-color: rgb(255,245,240)'> </span><span style='background-color: rgb(255,245,240)'>د</span><span style='background-color: rgb(255,245,240)'>ی</span><span style='background-color: rgb(255,245,240)'>گ</span><span style='background-color: rgb(255,245,240)'>ر</span><span style='background-color: rgb(254,244,239)'> </span><span style='background-color: rgb(254,242,236)'>ت</span><span style='background-color: rgb(254,244,239)'>ر</span><span style='background-color: rgb(254,244,239)'>ا</span><span style='background-color: rgb(254,243,237)'> </span><span style='background-color: rgb(254,241,235)'>د</span><span style='background-color: rgb(254,243,238)'>س</span><span style='background-color: rgb(254,244,239)'>ت</span><span style='background-color: rgb(255,245,240)'> </span><span style='background-color: rgb(254,244,239)'>ه</span><span style='background-color: rgb(254,239,231)'>س</span><span style='background-color: rgb(252,171,142)'>ت</span><span>\t\t:\t\t</span><span>ت</span></div>"
      ],
      "text/plain": [
       "<IPython.core.display.HTML object>"
      ]
     },
     "metadata": {
      "tags": []
     },
     "output_type": "display_data"
    },
    {
     "name": "stdout",
     "output_type": "stream",
     "text": [
      "Test input:\n",
      "پیاده مگر دست یابم بدوی  ****  بپیکار خون اندر ارم بجوی\n",
      "Seq2Seq output:\n",
      "نیامد به مردی به گردار جوی\n",
      "Seq2Seq with attention output:\n",
      "به ن ایک اندر زمان باز روی\n",
      "Weights of attention:\n"
     ]
    },
    {
     "data": {
      "text/html": [
       "<div><span style='background-color: rgb(254,243,237)'>پ</span><span style='background-color: rgb(254,243,238)'>ی</span><span style='background-color: rgb(254,243,238)'>ا</span><span style='background-color: rgb(254,243,238)'>د</span><span style='background-color: rgb(254,243,237)'>ه</span><span style='background-color: rgb(254,243,238)'> </span><span style='background-color: rgb(254,244,239)'>م</span><span style='background-color: rgb(255,245,240)'>گ</span><span style='background-color: rgb(254,243,238)'>ر</span><span style='background-color: rgb(254,243,238)'> </span><span style='background-color: rgb(254,242,236)'>د</span><span style='background-color: rgb(254,243,238)'>س</span><span style='background-color: rgb(254,241,235)'>ت</span><span style='background-color: rgb(254,244,239)'> </span><span style='background-color: rgb(255,245,240)'>ی</span><span style='background-color: rgb(255,245,240)'>ا</span><span style='background-color: rgb(255,245,240)'>ب</span><span style='background-color: rgb(255,245,240)'>م</span><span style='background-color: rgb(255,245,240)'> </span><span style='background-color: rgb(255,245,240)'>ب</span><span style='background-color: rgb(254,244,239)'>د</span><span style='background-color: rgb(255,245,240)'>و</span><span style='background-color: rgb(254,244,239)'>ی</span><span>\t\t:\t\t</span><span>ب</span></div>"
      ],
      "text/plain": [
       "<IPython.core.display.HTML object>"
      ]
     },
     "metadata": {
      "tags": []
     },
     "output_type": "display_data"
    },
    {
     "data": {
      "text/html": [
       "<div><span style='background-color: rgb(254,239,231)'>پ</span><span style='background-color: rgb(254,241,234)'>ی</span><span style='background-color: rgb(254,243,237)'>ا</span><span style='background-color: rgb(254,243,237)'>د</span><span style='background-color: rgb(254,243,237)'>ه</span><span style='background-color: rgb(254,243,238)'> </span><span style='background-color: rgb(254,241,235)'>م</span><span style='background-color: rgb(254,243,237)'>گ</span><span style='background-color: rgb(254,242,236)'>ر</span><span style='background-color: rgb(254,240,233)'> </span><span style='background-color: rgb(254,243,238)'>د</span><span style='background-color: rgb(254,242,236)'>س</span><span style='background-color: rgb(254,241,234)'>ت</span><span style='background-color: rgb(254,241,235)'> </span><span style='background-color: rgb(254,244,239)'>ی</span><span style='background-color: rgb(254,243,237)'>ا</span><span style='background-color: rgb(254,243,238)'>ب</span><span style='background-color: rgb(254,241,235)'>م</span><span style='background-color: rgb(254,241,235)'> </span><span style='background-color: rgb(254,244,239)'>ب</span><span style='background-color: rgb(255,245,240)'>د</span><span style='background-color: rgb(255,245,240)'>و</span><span style='background-color: rgb(255,245,240)'>ی</span><span>\t\t:\t\t</span><span>ه</span></div>"
      ],
      "text/plain": [
       "<IPython.core.display.HTML object>"
      ]
     },
     "metadata": {
      "tags": []
     },
     "output_type": "display_data"
    },
    {
     "data": {
      "text/html": [
       "<div><span style='background-color: rgb(254,241,234)'>پ</span><span style='background-color: rgb(254,237,228)'>ی</span><span style='background-color: rgb(254,241,235)'>ا</span><span style='background-color: rgb(254,243,238)'>د</span><span style='background-color: rgb(254,242,236)'>ه</span><span style='background-color: rgb(254,238,230)'> </span><span style='background-color: rgb(254,229,217)'>م</span><span style='background-color: rgb(254,231,220)'>گ</span><span style='background-color: rgb(254,231,221)'>ر</span><span style='background-color: rgb(254,237,229)'> </span><span style='background-color: rgb(254,240,233)'>د</span><span style='background-color: rgb(254,239,231)'>س</span><span style='background-color: rgb(254,244,239)'>ت</span><span style='background-color: rgb(254,244,239)'> </span><span style='background-color: rgb(254,243,237)'>ی</span><span style='background-color: rgb(254,239,231)'>ا</span><span style='background-color: rgb(254,238,230)'>ب</span><span style='background-color: rgb(254,233,223)'>م</span><span style='background-color: rgb(254,236,227)'> </span><span style='background-color: rgb(255,245,240)'>ب</span><span style='background-color: rgb(255,245,240)'>د</span><span style='background-color: rgb(255,245,240)'>و</span><span style='background-color: rgb(254,243,238)'>ی</span><span>\t\t:\t\t</span><span>ـ</span></div>"
      ],
      "text/plain": [
       "<IPython.core.display.HTML object>"
      ]
     },
     "metadata": {
      "tags": []
     },
     "output_type": "display_data"
    },
    {
     "data": {
      "text/html": [
       "<div><span style='background-color: rgb(254,244,239)'>پ</span><span style='background-color: rgb(254,244,239)'>ی</span><span style='background-color: rgb(254,243,238)'>ا</span><span style='background-color: rgb(254,239,232)'>د</span><span style='background-color: rgb(254,239,231)'>ه</span><span style='background-color: rgb(254,239,231)'> </span><span style='background-color: rgb(254,242,236)'>م</span><span style='background-color: rgb(254,243,237)'>گ</span><span style='background-color: rgb(254,239,232)'>ر</span><span style='background-color: rgb(254,239,232)'> </span><span style='background-color: rgb(254,241,234)'>د</span><span style='background-color: rgb(254,242,236)'>س</span><span style='background-color: rgb(254,241,235)'>ت</span><span style='background-color: rgb(254,243,237)'> </span><span style='background-color: rgb(254,244,239)'>ی</span><span style='background-color: rgb(255,245,240)'>ا</span><span style='background-color: rgb(254,243,238)'>ب</span><span style='background-color: rgb(254,243,237)'>م</span><span style='background-color: rgb(254,241,234)'> </span><span style='background-color: rgb(254,244,239)'>ب</span><span style='background-color: rgb(255,245,240)'>د</span><span style='background-color: rgb(255,245,240)'>و</span><span style='background-color: rgb(255,245,240)'>ی</span><span>\t\t:\t\t</span><span>ن</span></div>"
      ],
      "text/plain": [
       "<IPython.core.display.HTML object>"
      ]
     },
     "metadata": {
      "tags": []
     },
     "output_type": "display_data"
    },
    {
     "data": {
      "text/html": [
       "<div><span style='background-color: rgb(254,242,236)'>پ</span><span style='background-color: rgb(254,241,235)'>ی</span><span style='background-color: rgb(254,243,238)'>ا</span><span style='background-color: rgb(254,243,238)'>د</span><span style='background-color: rgb(254,243,237)'>ه</span><span style='background-color: rgb(254,243,237)'> </span><span style='background-color: rgb(254,241,235)'>م</span><span style='background-color: rgb(254,240,233)'>گ</span><span style='background-color: rgb(254,237,229)'>ر</span><span style='background-color: rgb(254,233,224)'> </span><span style='background-color: rgb(254,229,218)'>د</span><span style='background-color: rgb(254,238,230)'>س</span><span style='background-color: rgb(254,239,232)'>ت</span><span style='background-color: rgb(254,242,236)'> </span><span style='background-color: rgb(254,242,236)'>ی</span><span style='background-color: rgb(254,240,233)'>ا</span><span style='background-color: rgb(254,243,237)'>ب</span><span style='background-color: rgb(254,241,235)'>م</span><span style='background-color: rgb(254,241,234)'> </span><span style='background-color: rgb(255,245,240)'>ب</span><span style='background-color: rgb(255,245,240)'>د</span><span style='background-color: rgb(255,245,240)'>و</span><span style='background-color: rgb(255,245,240)'>ی</span><span>\t\t:\t\t</span><span>ـ</span></div>"
      ],
      "text/plain": [
       "<IPython.core.display.HTML object>"
      ]
     },
     "metadata": {
      "tags": []
     },
     "output_type": "display_data"
    },
    {
     "data": {
      "text/html": [
       "<div><span style='background-color: rgb(254,243,237)'>پ</span><span style='background-color: rgb(254,244,239)'>ی</span><span style='background-color: rgb(254,244,239)'>ا</span><span style='background-color: rgb(254,243,238)'>د</span><span style='background-color: rgb(254,243,237)'>ه</span><span style='background-color: rgb(254,241,235)'> </span><span style='background-color: rgb(254,240,233)'>م</span><span style='background-color: rgb(254,241,234)'>گ</span><span style='background-color: rgb(254,239,231)'>ر</span><span style='background-color: rgb(254,237,229)'> </span><span style='background-color: rgb(254,239,232)'>د</span><span style='background-color: rgb(254,241,235)'>س</span><span style='background-color: rgb(254,240,233)'>ت</span><span style='background-color: rgb(254,241,235)'> </span><span style='background-color: rgb(254,243,237)'>ی</span><span style='background-color: rgb(254,243,238)'>ا</span><span style='background-color: rgb(254,241,235)'>ب</span><span style='background-color: rgb(254,243,237)'>م</span><span style='background-color: rgb(254,240,233)'> </span><span style='background-color: rgb(254,243,238)'>ب</span><span style='background-color: rgb(255,245,240)'>د</span><span style='background-color: rgb(255,245,240)'>و</span><span style='background-color: rgb(254,243,238)'>ی</span><span>\t\t:\t\t</span><span>ا</span></div>"
      ],
      "text/plain": [
       "<IPython.core.display.HTML object>"
      ]
     },
     "metadata": {
      "tags": []
     },
     "output_type": "display_data"
    },
    {
     "data": {
      "text/html": [
       "<div><span style='background-color: rgb(254,240,233)'>پ</span><span style='background-color: rgb(254,240,233)'>ی</span><span style='background-color: rgb(254,241,235)'>ا</span><span style='background-color: rgb(254,241,234)'>د</span><span style='background-color: rgb(254,242,236)'>ه</span><span style='background-color: rgb(254,239,232)'> </span><span style='background-color: rgb(254,241,234)'>م</span><span style='background-color: rgb(254,242,236)'>گ</span><span style='background-color: rgb(254,240,233)'>ر</span><span style='background-color: rgb(254,239,231)'> </span><span style='background-color: rgb(254,242,236)'>د</span><span style='background-color: rgb(254,243,238)'>س</span><span style='background-color: rgb(254,239,232)'>ت</span><span style='background-color: rgb(254,241,234)'> </span><span style='background-color: rgb(254,243,237)'>ی</span><span style='background-color: rgb(254,243,238)'>ا</span><span style='background-color: rgb(254,241,234)'>ب</span><span style='background-color: rgb(254,242,236)'>م</span><span style='background-color: rgb(254,239,231)'> </span><span style='background-color: rgb(254,243,237)'>ب</span><span style='background-color: rgb(254,244,239)'>د</span><span style='background-color: rgb(254,244,239)'>و</span><span style='background-color: rgb(254,241,234)'>ی</span><span>\t\t:\t\t</span><span>ی</span></div>"
      ],
      "text/plain": [
       "<IPython.core.display.HTML object>"
      ]
     },
     "metadata": {
      "tags": []
     },
     "output_type": "display_data"
    },
    {
     "data": {
      "text/html": [
       "<div><span style='background-color: rgb(254,241,235)'>پ</span><span style='background-color: rgb(254,241,235)'>ی</span><span style='background-color: rgb(254,243,237)'>ا</span><span style='background-color: rgb(254,242,236)'>د</span><span style='background-color: rgb(254,241,234)'>ه</span><span style='background-color: rgb(254,239,232)'> </span><span style='background-color: rgb(254,239,232)'>م</span><span style='background-color: rgb(254,242,236)'>گ</span><span style='background-color: rgb(254,241,234)'>ر</span><span style='background-color: rgb(254,234,224)'> </span><span style='background-color: rgb(254,237,228)'>د</span><span style='background-color: rgb(254,242,236)'>س</span><span style='background-color: rgb(254,242,236)'>ت</span><span style='background-color: rgb(254,243,237)'> </span><span style='background-color: rgb(254,243,237)'>ی</span><span style='background-color: rgb(254,241,234)'>ا</span><span style='background-color: rgb(254,240,233)'>ب</span><span style='background-color: rgb(254,241,234)'>م</span><span style='background-color: rgb(254,240,233)'> </span><span style='background-color: rgb(254,244,239)'>ب</span><span style='background-color: rgb(254,244,239)'>د</span><span style='background-color: rgb(255,245,240)'>و</span><span style='background-color: rgb(254,243,237)'>ی</span><span>\t\t:\t\t</span><span>ک</span></div>"
      ],
      "text/plain": [
       "<IPython.core.display.HTML object>"
      ]
     },
     "metadata": {
      "tags": []
     },
     "output_type": "display_data"
    },
    {
     "data": {
      "text/html": [
       "<div><span style='background-color: rgb(254,239,231)'>پ</span><span style='background-color: rgb(254,237,229)'>ی</span><span style='background-color: rgb(254,242,236)'>ا</span><span style='background-color: rgb(254,243,237)'>د</span><span style='background-color: rgb(254,241,234)'>ه</span><span style='background-color: rgb(254,239,232)'> </span><span style='background-color: rgb(254,231,220)'>م</span><span style='background-color: rgb(254,225,211)'>گ</span><span style='background-color: rgb(254,231,220)'>ر</span><span style='background-color: rgb(254,243,237)'> </span><span style='background-color: rgb(254,243,237)'>د</span><span style='background-color: rgb(254,244,239)'>س</span><span style='background-color: rgb(254,244,239)'>ت</span><span style='background-color: rgb(254,243,237)'> </span><span style='background-color: rgb(254,241,235)'>ی</span><span style='background-color: rgb(254,241,235)'>ا</span><span style='background-color: rgb(254,242,236)'>ب</span><span style='background-color: rgb(254,241,234)'>م</span><span style='background-color: rgb(254,237,228)'> </span><span style='background-color: rgb(254,243,238)'>ب</span><span style='background-color: rgb(255,245,240)'>د</span><span style='background-color: rgb(255,245,240)'>و</span><span style='background-color: rgb(254,243,238)'>ی</span><span>\t\t:\t\t</span><span>ـ</span></div>"
      ],
      "text/plain": [
       "<IPython.core.display.HTML object>"
      ]
     },
     "metadata": {
      "tags": []
     },
     "output_type": "display_data"
    },
    {
     "data": {
      "text/html": [
       "<div><span style='background-color: rgb(254,243,238)'>پ</span><span style='background-color: rgb(254,244,239)'>ی</span><span style='background-color: rgb(254,243,238)'>ا</span><span style='background-color: rgb(254,243,237)'>د</span><span style='background-color: rgb(254,242,236)'>ه</span><span style='background-color: rgb(254,244,239)'> </span><span style='background-color: rgb(254,244,239)'>م</span><span style='background-color: rgb(254,244,239)'>گ</span><span style='background-color: rgb(254,243,238)'>ر</span><span style='background-color: rgb(254,243,237)'> </span><span style='background-color: rgb(254,242,236)'>د</span><span style='background-color: rgb(254,243,238)'>س</span><span style='background-color: rgb(254,243,238)'>ت</span><span style='background-color: rgb(254,244,239)'> </span><span style='background-color: rgb(255,245,240)'>ی</span><span style='background-color: rgb(255,245,240)'>ا</span><span style='background-color: rgb(254,244,239)'>ب</span><span style='background-color: rgb(254,244,239)'>م</span><span style='background-color: rgb(254,241,235)'> </span><span style='background-color: rgb(254,242,236)'>ب</span><span style='background-color: rgb(254,243,238)'>د</span><span style='background-color: rgb(255,245,240)'>و</span><span style='background-color: rgb(255,245,240)'>ی</span><span>\t\t:\t\t</span><span>ا</span></div>"
      ],
      "text/plain": [
       "<IPython.core.display.HTML object>"
      ]
     },
     "metadata": {
      "tags": []
     },
     "output_type": "display_data"
    },
    {
     "data": {
      "text/html": [
       "<div><span style='background-color: rgb(254,241,235)'>پ</span><span style='background-color: rgb(254,237,229)'>ی</span><span style='background-color: rgb(254,237,229)'>ا</span><span style='background-color: rgb(254,235,226)'>د</span><span style='background-color: rgb(254,237,229)'>ه</span><span style='background-color: rgb(254,241,235)'> </span><span style='background-color: rgb(254,243,237)'>م</span><span style='background-color: rgb(254,244,239)'>گ</span><span style='background-color: rgb(254,243,237)'>ر</span><span style='background-color: rgb(254,243,238)'> </span><span style='background-color: rgb(254,244,239)'>د</span><span style='background-color: rgb(254,243,238)'>س</span><span style='background-color: rgb(254,241,234)'>ت</span><span style='background-color: rgb(254,241,234)'> </span><span style='background-color: rgb(254,244,239)'>ی</span><span style='background-color: rgb(255,245,240)'>ا</span><span style='background-color: rgb(254,244,239)'>ب</span><span style='background-color: rgb(254,244,239)'>م</span><span style='background-color: rgb(254,243,238)'> </span><span style='background-color: rgb(254,244,239)'>ب</span><span style='background-color: rgb(255,245,240)'>د</span><span style='background-color: rgb(255,245,240)'>و</span><span style='background-color: rgb(254,244,239)'>ی</span><span>\t\t:\t\t</span><span>ن</span></div>"
      ],
      "text/plain": [
       "<IPython.core.display.HTML object>"
      ]
     },
     "metadata": {
      "tags": []
     },
     "output_type": "display_data"
    },
    {
     "data": {
      "text/html": [
       "<div><span style='background-color: rgb(255,245,240)'>پ</span><span style='background-color: rgb(254,243,238)'>ی</span><span style='background-color: rgb(254,244,239)'>ا</span><span style='background-color: rgb(255,245,240)'>د</span><span style='background-color: rgb(254,244,239)'>ه</span><span style='background-color: rgb(254,243,238)'> </span><span style='background-color: rgb(254,238,230)'>م</span><span style='background-color: rgb(254,237,229)'>گ</span><span style='background-color: rgb(254,234,224)'>ر</span><span style='background-color: rgb(254,240,233)'> </span><span style='background-color: rgb(254,227,214)'>د</span><span style='background-color: rgb(254,233,223)'>س</span><span style='background-color: rgb(254,233,224)'>ت</span><span style='background-color: rgb(254,238,230)'> </span><span style='background-color: rgb(254,237,229)'>ی</span><span style='background-color: rgb(254,239,231)'>ا</span><span style='background-color: rgb(254,236,227)'>ب</span><span style='background-color: rgb(254,240,233)'>م</span><span style='background-color: rgb(254,242,236)'> </span><span style='background-color: rgb(254,244,239)'>ب</span><span style='background-color: rgb(255,245,240)'>د</span><span style='background-color: rgb(254,244,239)'>و</span><span style='background-color: rgb(254,243,237)'>ی</span><span>\t\t:\t\t</span><span>د</span></div>"
      ],
      "text/plain": [
       "<IPython.core.display.HTML object>"
      ]
     },
     "metadata": {
      "tags": []
     },
     "output_type": "display_data"
    },
    {
     "data": {
      "text/html": [
       "<div><span style='background-color: rgb(254,233,223)'>پ</span><span style='background-color: rgb(254,229,217)'>ی</span><span style='background-color: rgb(254,241,234)'>ا</span><span style='background-color: rgb(254,243,238)'>د</span><span style='background-color: rgb(254,243,238)'>ه</span><span style='background-color: rgb(254,244,239)'> </span><span style='background-color: rgb(254,244,239)'>م</span><span style='background-color: rgb(254,242,236)'>گ</span><span style='background-color: rgb(254,241,235)'>ر</span><span style='background-color: rgb(254,243,238)'> </span><span style='background-color: rgb(254,242,236)'>د</span><span style='background-color: rgb(254,243,238)'>س</span><span style='background-color: rgb(254,243,238)'>ت</span><span style='background-color: rgb(254,243,238)'> </span><span style='background-color: rgb(254,244,239)'>ی</span><span style='background-color: rgb(254,244,239)'>ا</span><span style='background-color: rgb(254,243,238)'>ب</span><span style='background-color: rgb(254,243,237)'>م</span><span style='background-color: rgb(254,244,239)'> </span><span style='background-color: rgb(255,245,240)'>ب</span><span style='background-color: rgb(255,245,240)'>د</span><span style='background-color: rgb(255,245,240)'>و</span><span style='background-color: rgb(254,244,239)'>ی</span><span>\t\t:\t\t</span><span>ر</span></div>"
      ],
      "text/plain": [
       "<IPython.core.display.HTML object>"
      ]
     },
     "metadata": {
      "tags": []
     },
     "output_type": "display_data"
    },
    {
     "data": {
      "text/html": [
       "<div><span style='background-color: rgb(255,245,240)'>پ</span><span style='background-color: rgb(255,245,240)'>ی</span><span style='background-color: rgb(254,244,239)'>ا</span><span style='background-color: rgb(254,243,238)'>د</span><span style='background-color: rgb(254,241,235)'>ه</span><span style='background-color: rgb(254,241,235)'> </span><span style='background-color: rgb(254,238,230)'>م</span><span style='background-color: rgb(254,237,228)'>گ</span><span style='background-color: rgb(253,223,209)'>ر</span><span style='background-color: rgb(254,227,215)'> </span><span style='background-color: rgb(253,218,202)'>د</span><span style='background-color: rgb(254,235,226)'>س</span><span style='background-color: rgb(254,234,224)'>ت</span><span style='background-color: rgb(254,241,234)'> </span><span style='background-color: rgb(254,241,234)'>ی</span><span style='background-color: rgb(254,242,236)'>ا</span><span style='background-color: rgb(254,242,236)'>ب</span><span style='background-color: rgb(254,241,235)'>م</span><span style='background-color: rgb(254,241,234)'> </span><span style='background-color: rgb(255,245,240)'>ب</span><span style='background-color: rgb(254,243,238)'>د</span><span style='background-color: rgb(254,244,239)'>و</span><span style='background-color: rgb(254,244,239)'>ی</span><span>\t\t:\t\t</span><span>ـ</span></div>"
      ],
      "text/plain": [
       "<IPython.core.display.HTML object>"
      ]
     },
     "metadata": {
      "tags": []
     },
     "output_type": "display_data"
    },
    {
     "data": {
      "text/html": [
       "<div><span style='background-color: rgb(254,244,239)'>پ</span><span style='background-color: rgb(255,245,240)'>ی</span><span style='background-color: rgb(254,243,238)'>ا</span><span style='background-color: rgb(254,241,235)'>د</span><span style='background-color: rgb(254,241,235)'>ه</span><span style='background-color: rgb(255,245,240)'> </span><span style='background-color: rgb(255,245,240)'>م</span><span style='background-color: rgb(255,245,240)'>گ</span><span style='background-color: rgb(254,244,239)'>ر</span><span style='background-color: rgb(254,235,225)'> </span><span style='background-color: rgb(254,235,225)'>د</span><span style='background-color: rgb(254,243,237)'>س</span><span style='background-color: rgb(254,239,231)'>ت</span><span style='background-color: rgb(254,241,235)'> </span><span style='background-color: rgb(254,244,239)'>ی</span><span style='background-color: rgb(255,245,240)'>ا</span><span style='background-color: rgb(254,244,239)'>ب</span><span style='background-color: rgb(254,244,239)'>م</span><span style='background-color: rgb(254,239,231)'> </span><span style='background-color: rgb(254,242,236)'>ب</span><span style='background-color: rgb(255,245,240)'>د</span><span style='background-color: rgb(255,245,240)'>و</span><span style='background-color: rgb(254,243,238)'>ی</span><span>\t\t:\t\t</span><span>ز</span></div>"
      ],
      "text/plain": [
       "<IPython.core.display.HTML object>"
      ]
     },
     "metadata": {
      "tags": []
     },
     "output_type": "display_data"
    },
    {
     "data": {
      "text/html": [
       "<div><span style='background-color: rgb(254,241,235)'>پ</span><span style='background-color: rgb(254,240,233)'>ی</span><span style='background-color: rgb(254,243,237)'>ا</span><span style='background-color: rgb(254,242,236)'>د</span><span style='background-color: rgb(254,239,231)'>ه</span><span style='background-color: rgb(254,238,230)'> </span><span style='background-color: rgb(254,236,227)'>م</span><span style='background-color: rgb(254,239,231)'>گ</span><span style='background-color: rgb(254,242,236)'>ر</span><span style='background-color: rgb(254,244,239)'> </span><span style='background-color: rgb(254,241,235)'>د</span><span style='background-color: rgb(254,237,229)'>س</span><span style='background-color: rgb(254,241,234)'>ت</span><span style='background-color: rgb(254,243,237)'> </span><span style='background-color: rgb(254,241,235)'>ی</span><span style='background-color: rgb(254,243,237)'>ا</span><span style='background-color: rgb(254,243,237)'>ب</span><span style='background-color: rgb(254,241,235)'>م</span><span style='background-color: rgb(254,241,234)'> </span><span style='background-color: rgb(255,245,240)'>ب</span><span style='background-color: rgb(255,245,240)'>د</span><span style='background-color: rgb(255,245,240)'>و</span><span style='background-color: rgb(254,243,238)'>ی</span><span>\t\t:\t\t</span><span>م</span></div>"
      ],
      "text/plain": [
       "<IPython.core.display.HTML object>"
      ]
     },
     "metadata": {
      "tags": []
     },
     "output_type": "display_data"
    },
    {
     "data": {
      "text/html": [
       "<div><span style='background-color: rgb(254,241,234)'>پ</span><span style='background-color: rgb(254,241,235)'>ی</span><span style='background-color: rgb(254,244,239)'>ا</span><span style='background-color: rgb(254,243,238)'>د</span><span style='background-color: rgb(254,243,238)'>ه</span><span style='background-color: rgb(254,244,239)'> </span><span style='background-color: rgb(254,243,237)'>م</span><span style='background-color: rgb(254,236,227)'>گ</span><span style='background-color: rgb(254,229,218)'>ر</span><span style='background-color: rgb(254,243,237)'> </span><span style='background-color: rgb(254,242,236)'>د</span><span style='background-color: rgb(254,243,238)'>س</span><span style='background-color: rgb(254,243,237)'>ت</span><span style='background-color: rgb(254,244,239)'> </span><span style='background-color: rgb(254,244,239)'>ی</span><span style='background-color: rgb(254,244,239)'>ا</span><span style='background-color: rgb(254,244,239)'>ب</span><span style='background-color: rgb(254,243,237)'>م</span><span style='background-color: rgb(254,241,235)'> </span><span style='background-color: rgb(255,245,240)'>ب</span><span style='background-color: rgb(255,245,240)'>د</span><span style='background-color: rgb(254,244,239)'>و</span><span style='background-color: rgb(255,245,240)'>ی</span><span>\t\t:\t\t</span><span>ا</span></div>"
      ],
      "text/plain": [
       "<IPython.core.display.HTML object>"
      ]
     },
     "metadata": {
      "tags": []
     },
     "output_type": "display_data"
    },
    {
     "data": {
      "text/html": [
       "<div><span style='background-color: rgb(255,245,240)'>پ</span><span style='background-color: rgb(254,243,238)'>ی</span><span style='background-color: rgb(254,241,234)'>ا</span><span style='background-color: rgb(252,201,180)'>د</span><span style='background-color: rgb(252,146,114)'>ه</span><span style='background-color: rgb(254,236,227)'> </span><span style='background-color: rgb(254,241,234)'>م</span><span style='background-color: rgb(254,240,233)'>گ</span><span style='background-color: rgb(254,239,232)'>ر</span><span style='background-color: rgb(254,243,237)'> </span><span style='background-color: rgb(254,239,232)'>د</span><span style='background-color: rgb(254,241,234)'>س</span><span style='background-color: rgb(254,240,233)'>ت</span><span style='background-color: rgb(254,241,234)'> </span><span style='background-color: rgb(254,241,235)'>ی</span><span style='background-color: rgb(254,244,239)'>ا</span><span style='background-color: rgb(254,241,234)'>ب</span><span style='background-color: rgb(254,243,238)'>م</span><span style='background-color: rgb(254,243,238)'> </span><span style='background-color: rgb(254,244,239)'>ب</span><span style='background-color: rgb(255,245,240)'>د</span><span style='background-color: rgb(255,245,240)'>و</span><span style='background-color: rgb(254,244,239)'>ی</span><span>\t\t:\t\t</span><span>ن</span></div>"
      ],
      "text/plain": [
       "<IPython.core.display.HTML object>"
      ]
     },
     "metadata": {
      "tags": []
     },
     "output_type": "display_data"
    },
    {
     "data": {
      "text/html": [
       "<div><span style='background-color: rgb(254,244,239)'>پ</span><span style='background-color: rgb(254,244,239)'>ی</span><span style='background-color: rgb(255,245,240)'>ا</span><span style='background-color: rgb(254,244,239)'>د</span><span style='background-color: rgb(254,243,238)'>ه</span><span style='background-color: rgb(254,243,237)'> </span><span style='background-color: rgb(254,236,227)'>م</span><span style='background-color: rgb(253,213,195)'>گ</span><span style='background-color: rgb(254,225,211)'>ر</span><span style='background-color: rgb(254,243,237)'> </span><span style='background-color: rgb(254,237,228)'>د</span><span style='background-color: rgb(254,242,236)'>س</span><span style='background-color: rgb(254,244,239)'>ت</span><span style='background-color: rgb(254,243,238)'> </span><span style='background-color: rgb(254,241,234)'>ی</span><span style='background-color: rgb(254,241,235)'>ا</span><span style='background-color: rgb(254,239,232)'>ب</span><span style='background-color: rgb(254,236,227)'>م</span><span style='background-color: rgb(254,242,236)'> </span><span style='background-color: rgb(255,245,240)'>ب</span><span style='background-color: rgb(254,244,239)'>د</span><span style='background-color: rgb(255,245,240)'>و</span><span style='background-color: rgb(254,244,239)'>ی</span><span>\t\t:\t\t</span><span>ـ</span></div>"
      ],
      "text/plain": [
       "<IPython.core.display.HTML object>"
      ]
     },
     "metadata": {
      "tags": []
     },
     "output_type": "display_data"
    },
    {
     "data": {
      "text/html": [
       "<div><span style='background-color: rgb(254,243,238)'>پ</span><span style='background-color: rgb(254,243,238)'>ی</span><span style='background-color: rgb(254,243,237)'>ا</span><span style='background-color: rgb(254,243,237)'>د</span><span style='background-color: rgb(254,239,231)'>ه</span><span style='background-color: rgb(254,242,236)'> </span><span style='background-color: rgb(254,243,237)'>م</span><span style='background-color: rgb(254,244,239)'>گ</span><span style='background-color: rgb(255,245,240)'>ر</span><span style='background-color: rgb(254,243,238)'> </span><span style='background-color: rgb(254,243,237)'>د</span><span style='background-color: rgb(254,241,235)'>س</span><span style='background-color: rgb(254,241,235)'>ت</span><span style='background-color: rgb(254,244,239)'> </span><span style='background-color: rgb(255,245,240)'>ی</span><span style='background-color: rgb(255,245,240)'>ا</span><span style='background-color: rgb(255,245,240)'>ب</span><span style='background-color: rgb(254,244,239)'>م</span><span style='background-color: rgb(254,244,239)'> </span><span style='background-color: rgb(254,240,233)'>ب</span><span style='background-color: rgb(255,245,240)'>د</span><span style='background-color: rgb(255,245,240)'>و</span><span style='background-color: rgb(254,243,238)'>ی</span><span>\t\t:\t\t</span><span>ب</span></div>"
      ],
      "text/plain": [
       "<IPython.core.display.HTML object>"
      ]
     },
     "metadata": {
      "tags": []
     },
     "output_type": "display_data"
    },
    {
     "data": {
      "text/html": [
       "<div><span style='background-color: rgb(254,239,232)'>پ</span><span style='background-color: rgb(254,237,228)'>ی</span><span style='background-color: rgb(254,240,233)'>ا</span><span style='background-color: rgb(254,239,232)'>د</span><span style='background-color: rgb(254,241,235)'>ه</span><span style='background-color: rgb(254,244,239)'> </span><span style='background-color: rgb(254,243,237)'>م</span><span style='background-color: rgb(254,243,237)'>گ</span><span style='background-color: rgb(254,243,237)'>ر</span><span style='background-color: rgb(254,244,239)'> </span><span style='background-color: rgb(254,243,237)'>د</span><span style='background-color: rgb(254,243,237)'>س</span><span style='background-color: rgb(254,242,236)'>ت</span><span style='background-color: rgb(254,243,237)'> </span><span style='background-color: rgb(254,242,236)'>ی</span><span style='background-color: rgb(254,243,237)'>ا</span><span style='background-color: rgb(254,240,233)'>ب</span><span style='background-color: rgb(254,237,228)'>م</span><span style='background-color: rgb(254,239,232)'> </span><span style='background-color: rgb(254,244,239)'>ب</span><span style='background-color: rgb(254,241,234)'>د</span><span style='background-color: rgb(254,244,239)'>و</span><span style='background-color: rgb(254,242,236)'>ی</span><span>\t\t:\t\t</span><span>ا</span></div>"
      ],
      "text/plain": [
       "<IPython.core.display.HTML object>"
      ]
     },
     "metadata": {
      "tags": []
     },
     "output_type": "display_data"
    },
    {
     "data": {
      "text/html": [
       "<div><span style='background-color: rgb(254,239,231)'>پ</span><span style='background-color: rgb(254,240,233)'>ی</span><span style='background-color: rgb(254,243,237)'>ا</span><span style='background-color: rgb(254,243,238)'>د</span><span style='background-color: rgb(254,243,237)'>ه</span><span style='background-color: rgb(254,243,238)'> </span><span style='background-color: rgb(254,243,238)'>م</span><span style='background-color: rgb(254,242,236)'>گ</span><span style='background-color: rgb(254,236,227)'>ر</span><span style='background-color: rgb(254,237,229)'> </span><span style='background-color: rgb(254,230,219)'>د</span><span style='background-color: rgb(254,237,229)'>س</span><span style='background-color: rgb(254,236,227)'>ت</span><span style='background-color: rgb(254,240,233)'> </span><span style='background-color: rgb(254,243,238)'>ی</span><span style='background-color: rgb(255,245,240)'>ا</span><span style='background-color: rgb(254,243,237)'>ب</span><span style='background-color: rgb(254,243,238)'>م</span><span style='background-color: rgb(254,243,238)'> </span><span style='background-color: rgb(254,243,238)'>ب</span><span style='background-color: rgb(254,241,235)'>د</span><span style='background-color: rgb(254,243,238)'>و</span><span style='background-color: rgb(254,237,229)'>ی</span><span>\t\t:\t\t</span><span>ز</span></div>"
      ],
      "text/plain": [
       "<IPython.core.display.HTML object>"
      ]
     },
     "metadata": {
      "tags": []
     },
     "output_type": "display_data"
    },
    {
     "data": {
      "text/html": [
       "<div><span style='background-color: rgb(255,245,240)'>پ</span><span style='background-color: rgb(255,245,240)'>ی</span><span style='background-color: rgb(255,245,240)'>ا</span><span style='background-color: rgb(255,245,240)'>د</span><span style='background-color: rgb(255,245,240)'>ه</span><span style='background-color: rgb(255,245,240)'> </span><span style='background-color: rgb(254,244,239)'>م</span><span style='background-color: rgb(254,241,235)'>گ</span><span style='background-color: rgb(254,241,235)'>ر</span><span style='background-color: rgb(254,241,234)'> </span><span style='background-color: rgb(254,235,225)'>د</span><span style='background-color: rgb(254,243,237)'>س</span><span style='background-color: rgb(254,243,238)'>ت</span><span style='background-color: rgb(254,243,237)'> </span><span style='background-color: rgb(254,243,238)'>ی</span><span style='background-color: rgb(254,244,239)'>ا</span><span style='background-color: rgb(255,245,240)'>ب</span><span style='background-color: rgb(254,244,239)'>م</span><span style='background-color: rgb(255,245,240)'> </span><span style='background-color: rgb(255,245,240)'>ب</span><span style='background-color: rgb(254,237,228)'>د</span><span style='background-color: rgb(254,242,236)'>و</span><span style='background-color: rgb(254,227,214)'>ی</span><span>\t\t:\t\t</span><span>ـ</span></div>"
      ],
      "text/plain": [
       "<IPython.core.display.HTML object>"
      ]
     },
     "metadata": {
      "tags": []
     },
     "output_type": "display_data"
    },
    {
     "data": {
      "text/html": [
       "<div><span style='background-color: rgb(254,243,237)'>پ</span><span style='background-color: rgb(254,241,234)'>ی</span><span style='background-color: rgb(254,241,234)'>ا</span><span style='background-color: rgb(254,244,239)'>د</span><span style='background-color: rgb(254,242,236)'>ه</span><span style='background-color: rgb(254,244,239)'> </span><span style='background-color: rgb(255,245,240)'>م</span><span style='background-color: rgb(255,245,240)'>گ</span><span style='background-color: rgb(255,245,240)'>ر</span><span style='background-color: rgb(255,245,240)'> </span><span style='background-color: rgb(254,243,238)'>د</span><span style='background-color: rgb(254,244,239)'>س</span><span style='background-color: rgb(254,244,239)'>ت</span><span style='background-color: rgb(255,245,240)'> </span><span style='background-color: rgb(255,245,240)'>ی</span><span style='background-color: rgb(255,245,240)'>ا</span><span style='background-color: rgb(255,245,240)'>ب</span><span style='background-color: rgb(255,245,240)'>م</span><span style='background-color: rgb(255,245,240)'> </span><span style='background-color: rgb(254,241,234)'>ب</span><span style='background-color: rgb(254,239,232)'>د</span><span style='background-color: rgb(254,237,229)'>و</span><span style='background-color: rgb(252,184,157)'>ی</span><span>\t\t:\t\t</span><span>ر</span></div>"
      ],
      "text/plain": [
       "<IPython.core.display.HTML object>"
      ]
     },
     "metadata": {
      "tags": []
     },
     "output_type": "display_data"
    },
    {
     "data": {
      "text/html": [
       "<div><span style='background-color: rgb(255,245,240)'>پ</span><span style='background-color: rgb(255,245,240)'>ی</span><span style='background-color: rgb(255,245,240)'>ا</span><span style='background-color: rgb(255,245,240)'>د</span><span style='background-color: rgb(254,244,239)'>ه</span><span style='background-color: rgb(255,245,240)'> </span><span style='background-color: rgb(255,245,240)'>م</span><span style='background-color: rgb(255,245,240)'>گ</span><span style='background-color: rgb(255,245,240)'>ر</span><span style='background-color: rgb(255,245,240)'> </span><span style='background-color: rgb(254,243,238)'>د</span><span style='background-color: rgb(254,244,239)'>س</span><span style='background-color: rgb(254,244,239)'>ت</span><span style='background-color: rgb(255,245,240)'> </span><span style='background-color: rgb(255,245,240)'>ی</span><span style='background-color: rgb(255,245,240)'>ا</span><span style='background-color: rgb(255,245,240)'>ب</span><span style='background-color: rgb(255,245,240)'>م</span><span style='background-color: rgb(255,245,240)'> </span><span style='background-color: rgb(255,245,240)'>ب</span><span style='background-color: rgb(254,237,228)'>د</span><span style='background-color: rgb(231,51,40)'>و</span><span style='background-color: rgb(254,228,216)'>ی</span><span>\t\t:\t\t</span><span>و</span></div>"
      ],
      "text/plain": [
       "<IPython.core.display.HTML object>"
      ]
     },
     "metadata": {
      "tags": []
     },
     "output_type": "display_data"
    },
    {
     "data": {
      "text/html": [
       "<div><span style='background-color: rgb(255,245,240)'>پ</span><span style='background-color: rgb(254,244,239)'>ی</span><span style='background-color: rgb(255,245,240)'>ا</span><span style='background-color: rgb(255,245,240)'>د</span><span style='background-color: rgb(255,245,240)'>ه</span><span style='background-color: rgb(255,245,240)'> </span><span style='background-color: rgb(255,245,240)'>م</span><span style='background-color: rgb(254,243,238)'>گ</span><span style='background-color: rgb(254,244,239)'>ر</span><span style='background-color: rgb(255,245,240)'> </span><span style='background-color: rgb(255,245,240)'>د</span><span style='background-color: rgb(255,245,240)'>س</span><span style='background-color: rgb(254,244,239)'>ت</span><span style='background-color: rgb(254,243,238)'> </span><span style='background-color: rgb(254,237,229)'>ی</span><span style='background-color: rgb(254,237,229)'>ا</span><span style='background-color: rgb(254,240,233)'>ب</span><span style='background-color: rgb(254,239,232)'>م</span><span style='background-color: rgb(254,241,234)'> </span><span style='background-color: rgb(254,244,239)'>ب</span><span style='background-color: rgb(254,244,239)'>د</span><span style='background-color: rgb(254,243,237)'>و</span><span style='background-color: rgb(220,40,36)'>ی</span><span>\t\t:\t\t</span><span>ی</span></div>"
      ],
      "text/plain": [
       "<IPython.core.display.HTML object>"
      ]
     },
     "metadata": {
      "tags": []
     },
     "output_type": "display_data"
    },
    {
     "name": "stdout",
     "output_type": "stream",
     "text": [
      "Test input:\n",
      "یکی از فزایش دل اراسته  ****  ز کمی دل دیگری کاسته\n",
      "Seq2Seq output:\n",
      "که گویی به مردی بپرداخته\n",
      "Seq2Seq with attention output:\n",
      "به با ار او بر کند کاسته\n",
      "Weights of attention:\n"
     ]
    },
    {
     "data": {
      "text/html": [
       "<div><span style='background-color: rgb(254,243,238)'>ی</span><span style='background-color: rgb(254,243,237)'>ک</span><span style='background-color: rgb(254,244,239)'>ی</span><span style='background-color: rgb(254,241,234)'> </span><span style='background-color: rgb(254,244,239)'>ا</span><span style='background-color: rgb(254,244,239)'>ز</span><span style='background-color: rgb(255,245,240)'> </span><span style='background-color: rgb(254,244,239)'>ف</span><span style='background-color: rgb(254,243,238)'>ز</span><span style='background-color: rgb(254,244,239)'>ا</span><span style='background-color: rgb(255,245,240)'>ی</span><span style='background-color: rgb(254,241,234)'>ش</span><span style='background-color: rgb(255,245,240)'> </span><span style='background-color: rgb(255,245,240)'>د</span><span style='background-color: rgb(255,245,240)'>ل</span><span style='background-color: rgb(255,245,240)'> </span><span style='background-color: rgb(255,245,240)'>ا</span><span style='background-color: rgb(255,245,240)'>ر</span><span style='background-color: rgb(255,245,240)'>ا</span><span style='background-color: rgb(255,245,240)'>س</span><span style='background-color: rgb(254,235,226)'>ت</span><span style='background-color: rgb(255,245,240)'>ه</span><span>\t\t:\t\t</span><span>ب</span></div>"
      ],
      "text/plain": [
       "<IPython.core.display.HTML object>"
      ]
     },
     "metadata": {
      "tags": []
     },
     "output_type": "display_data"
    },
    {
     "data": {
      "text/html": [
       "<div><span style='background-color: rgb(254,241,234)'>ی</span><span style='background-color: rgb(254,243,238)'>ک</span><span style='background-color: rgb(254,243,237)'>ی</span><span style='background-color: rgb(254,243,238)'> </span><span style='background-color: rgb(254,243,237)'>ا</span><span style='background-color: rgb(254,242,236)'>ز</span><span style='background-color: rgb(254,243,237)'> </span><span style='background-color: rgb(254,243,237)'>ف</span><span style='background-color: rgb(254,241,235)'>ز</span><span style='background-color: rgb(254,241,235)'>ا</span><span style='background-color: rgb(254,243,238)'>ی</span><span style='background-color: rgb(254,239,232)'>ش</span><span style='background-color: rgb(254,242,236)'> </span><span style='background-color: rgb(254,244,239)'>د</span><span style='background-color: rgb(254,243,238)'>ل</span><span style='background-color: rgb(254,243,238)'> </span><span style='background-color: rgb(254,243,237)'>ا</span><span style='background-color: rgb(254,243,238)'>ر</span><span style='background-color: rgb(254,244,239)'>ا</span><span style='background-color: rgb(254,244,239)'>س</span><span style='background-color: rgb(254,239,232)'>ت</span><span style='background-color: rgb(254,243,238)'>ه</span><span>\t\t:\t\t</span><span>ه</span></div>"
      ],
      "text/plain": [
       "<IPython.core.display.HTML object>"
      ]
     },
     "metadata": {
      "tags": []
     },
     "output_type": "display_data"
    },
    {
     "data": {
      "text/html": [
       "<div><span style='background-color: rgb(254,239,231)'>ی</span><span style='background-color: rgb(254,241,235)'>ک</span><span style='background-color: rgb(254,243,238)'>ی</span><span style='background-color: rgb(254,241,234)'> </span><span style='background-color: rgb(254,231,220)'>ا</span><span style='background-color: rgb(254,224,210)'>ز</span><span style='background-color: rgb(254,232,222)'> </span><span style='background-color: rgb(254,237,228)'>ف</span><span style='background-color: rgb(254,235,226)'>ز</span><span style='background-color: rgb(254,237,228)'>ا</span><span style='background-color: rgb(254,238,230)'>ی</span><span style='background-color: rgb(254,243,237)'>ش</span><span style='background-color: rgb(254,243,238)'> </span><span style='background-color: rgb(254,241,235)'>د</span><span style='background-color: rgb(254,241,234)'>ل</span><span style='background-color: rgb(254,239,231)'> </span><span style='background-color: rgb(254,238,230)'>ا</span><span style='background-color: rgb(254,243,237)'>ر</span><span style='background-color: rgb(254,244,239)'>ا</span><span style='background-color: rgb(255,245,240)'>س</span><span style='background-color: rgb(254,241,235)'>ت</span><span style='background-color: rgb(254,239,231)'>ه</span><span>\t\t:\t\t</span><span>ـ</span></div>"
      ],
      "text/plain": [
       "<IPython.core.display.HTML object>"
      ]
     },
     "metadata": {
      "tags": []
     },
     "output_type": "display_data"
    },
    {
     "data": {
      "text/html": [
       "<div><span style='background-color: rgb(254,244,239)'>ی</span><span style='background-color: rgb(254,243,238)'>ک</span><span style='background-color: rgb(254,243,238)'>ی</span><span style='background-color: rgb(254,241,235)'> </span><span style='background-color: rgb(254,241,234)'>ا</span><span style='background-color: rgb(254,241,234)'>ز</span><span style='background-color: rgb(254,243,237)'> </span><span style='background-color: rgb(254,241,234)'>ف</span><span style='background-color: rgb(254,240,233)'>ز</span><span style='background-color: rgb(254,241,234)'>ا</span><span style='background-color: rgb(254,242,236)'>ی</span><span style='background-color: rgb(254,237,229)'>ش</span><span style='background-color: rgb(254,243,238)'> </span><span style='background-color: rgb(255,245,240)'>د</span><span style='background-color: rgb(254,244,239)'>ل</span><span style='background-color: rgb(254,244,239)'> </span><span style='background-color: rgb(254,243,237)'>ا</span><span style='background-color: rgb(254,243,238)'>ر</span><span style='background-color: rgb(255,245,240)'>ا</span><span style='background-color: rgb(254,244,239)'>س</span><span style='background-color: rgb(254,243,238)'>ت</span><span style='background-color: rgb(255,245,240)'>ه</span><span>\t\t:\t\t</span><span>ب</span></div>"
      ],
      "text/plain": [
       "<IPython.core.display.HTML object>"
      ]
     },
     "metadata": {
      "tags": []
     },
     "output_type": "display_data"
    },
    {
     "data": {
      "text/html": [
       "<div><span style='background-color: rgb(254,238,230)'>ی</span><span style='background-color: rgb(254,241,235)'>ک</span><span style='background-color: rgb(254,243,238)'>ی</span><span style='background-color: rgb(254,243,238)'> </span><span style='background-color: rgb(254,244,239)'>ا</span><span style='background-color: rgb(254,243,238)'>ز</span><span style='background-color: rgb(254,243,237)'> </span><span style='background-color: rgb(254,239,232)'>ف</span><span style='background-color: rgb(254,239,232)'>ز</span><span style='background-color: rgb(254,241,235)'>ا</span><span style='background-color: rgb(254,240,233)'>ی</span><span style='background-color: rgb(254,235,226)'>ش</span><span style='background-color: rgb(254,243,238)'> </span><span style='background-color: rgb(254,243,238)'>د</span><span style='background-color: rgb(254,242,236)'>ل</span><span style='background-color: rgb(254,243,237)'> </span><span style='background-color: rgb(254,243,237)'>ا</span><span style='background-color: rgb(254,244,239)'>ر</span><span style='background-color: rgb(254,243,238)'>ا</span><span style='background-color: rgb(255,245,240)'>س</span><span style='background-color: rgb(254,243,238)'>ت</span><span style='background-color: rgb(254,244,239)'>ه</span><span>\t\t:\t\t</span><span>ا</span></div>"
      ],
      "text/plain": [
       "<IPython.core.display.HTML object>"
      ]
     },
     "metadata": {
      "tags": []
     },
     "output_type": "display_data"
    },
    {
     "data": {
      "text/html": [
       "<div><span style='background-color: rgb(254,242,236)'>ی</span><span style='background-color: rgb(254,240,233)'>ک</span><span style='background-color: rgb(254,237,229)'>ی</span><span style='background-color: rgb(254,243,237)'> </span><span style='background-color: rgb(254,239,232)'>ا</span><span style='background-color: rgb(254,243,237)'>ز</span><span style='background-color: rgb(254,240,233)'> </span><span style='background-color: rgb(254,235,226)'>ف</span><span style='background-color: rgb(254,238,230)'>ز</span><span style='background-color: rgb(254,235,226)'>ا</span><span style='background-color: rgb(254,235,225)'>ی</span><span style='background-color: rgb(254,242,236)'>ش</span><span style='background-color: rgb(254,242,236)'> </span><span style='background-color: rgb(254,241,234)'>د</span><span style='background-color: rgb(254,236,227)'>ل</span><span style='background-color: rgb(254,235,226)'> </span><span style='background-color: rgb(254,240,233)'>ا</span><span style='background-color: rgb(254,241,234)'>ر</span><span style='background-color: rgb(254,244,239)'>ا</span><span style='background-color: rgb(254,243,238)'>س</span><span style='background-color: rgb(254,239,232)'>ت</span><span style='background-color: rgb(254,243,238)'>ه</span><span>\t\t:\t\t</span><span>ـ</span></div>"
      ],
      "text/plain": [
       "<IPython.core.display.HTML object>"
      ]
     },
     "metadata": {
      "tags": []
     },
     "output_type": "display_data"
    },
    {
     "data": {
      "text/html": [
       "<div><span style='background-color: rgb(254,243,237)'>ی</span><span style='background-color: rgb(254,243,237)'>ک</span><span style='background-color: rgb(254,243,237)'>ی</span><span style='background-color: rgb(254,241,234)'> </span><span style='background-color: rgb(254,242,236)'>ا</span><span style='background-color: rgb(254,239,232)'>ز</span><span style='background-color: rgb(254,241,235)'> </span><span style='background-color: rgb(254,241,234)'>ف</span><span style='background-color: rgb(254,238,230)'>ز</span><span style='background-color: rgb(254,240,233)'>ا</span><span style='background-color: rgb(254,242,236)'>ی</span><span style='background-color: rgb(254,239,232)'>ش</span><span style='background-color: rgb(254,243,237)'> </span><span style='background-color: rgb(254,244,239)'>د</span><span style='background-color: rgb(254,243,238)'>ل</span><span style='background-color: rgb(254,242,236)'> </span><span style='background-color: rgb(254,241,234)'>ا</span><span style='background-color: rgb(254,242,236)'>ر</span><span style='background-color: rgb(254,244,239)'>ا</span><span style='background-color: rgb(254,241,235)'>س</span><span style='background-color: rgb(254,241,235)'>ت</span><span style='background-color: rgb(254,244,239)'>ه</span><span>\t\t:\t\t</span><span>ا</span></div>"
      ],
      "text/plain": [
       "<IPython.core.display.HTML object>"
      ]
     },
     "metadata": {
      "tags": []
     },
     "output_type": "display_data"
    },
    {
     "data": {
      "text/html": [
       "<div><span style='background-color: rgb(254,238,230)'>ی</span><span style='background-color: rgb(254,241,235)'>ک</span><span style='background-color: rgb(254,238,230)'>ی</span><span style='background-color: rgb(254,241,234)'> </span><span style='background-color: rgb(254,241,235)'>ا</span><span style='background-color: rgb(254,243,237)'>ز</span><span style='background-color: rgb(254,242,236)'> </span><span style='background-color: rgb(254,241,235)'>ف</span><span style='background-color: rgb(254,240,233)'>ز</span><span style='background-color: rgb(254,242,236)'>ا</span><span style='background-color: rgb(254,243,238)'>ی</span><span style='background-color: rgb(254,240,233)'>ش</span><span style='background-color: rgb(254,239,232)'> </span><span style='background-color: rgb(254,243,238)'>د</span><span style='background-color: rgb(254,243,238)'>ل</span><span style='background-color: rgb(254,243,238)'> </span><span style='background-color: rgb(254,244,239)'>ا</span><span style='background-color: rgb(254,243,237)'>ر</span><span style='background-color: rgb(254,244,239)'>ا</span><span style='background-color: rgb(254,241,235)'>س</span><span style='background-color: rgb(254,231,220)'>ت</span><span style='background-color: rgb(254,237,229)'>ه</span><span>\t\t:\t\t</span><span>ر</span></div>"
      ],
      "text/plain": [
       "<IPython.core.display.HTML object>"
      ]
     },
     "metadata": {
      "tags": []
     },
     "output_type": "display_data"
    },
    {
     "data": {
      "text/html": [
       "<div><span style='background-color: rgb(255,245,240)'>ی</span><span style='background-color: rgb(255,245,240)'>ک</span><span style='background-color: rgb(254,244,239)'>ی</span><span style='background-color: rgb(255,245,240)'> </span><span style='background-color: rgb(254,241,235)'>ا</span><span style='background-color: rgb(254,238,230)'>ز</span><span style='background-color: rgb(254,241,234)'> </span><span style='background-color: rgb(254,237,229)'>ف</span><span style='background-color: rgb(254,237,228)'>ز</span><span style='background-color: rgb(254,232,222)'>ا</span><span style='background-color: rgb(254,239,232)'>ی</span><span style='background-color: rgb(254,240,233)'>ش</span><span style='background-color: rgb(254,243,237)'> </span><span style='background-color: rgb(254,243,238)'>د</span><span style='background-color: rgb(254,243,237)'>ل</span><span style='background-color: rgb(254,243,237)'> </span><span style='background-color: rgb(254,241,234)'>ا</span><span style='background-color: rgb(254,242,236)'>ر</span><span style='background-color: rgb(254,237,229)'>ا</span><span style='background-color: rgb(255,245,240)'>س</span><span style='background-color: rgb(254,238,230)'>ت</span><span style='background-color: rgb(254,234,224)'>ه</span><span>\t\t:\t\t</span><span>ـ</span></div>"
      ],
      "text/plain": [
       "<IPython.core.display.HTML object>"
      ]
     },
     "metadata": {
      "tags": []
     },
     "output_type": "display_data"
    },
    {
     "data": {
      "text/html": [
       "<div><span style='background-color: rgb(254,243,238)'>ی</span><span style='background-color: rgb(254,243,238)'>ک</span><span style='background-color: rgb(254,244,239)'>ی</span><span style='background-color: rgb(254,243,237)'> </span><span style='background-color: rgb(255,245,240)'>ا</span><span style='background-color: rgb(255,245,240)'>ز</span><span style='background-color: rgb(255,245,240)'> </span><span style='background-color: rgb(254,244,239)'>ف</span><span style='background-color: rgb(254,243,238)'>ز</span><span style='background-color: rgb(254,242,236)'>ا</span><span style='background-color: rgb(254,243,237)'>ی</span><span style='background-color: rgb(254,243,237)'>ش</span><span style='background-color: rgb(254,244,239)'> </span><span style='background-color: rgb(255,245,240)'>د</span><span style='background-color: rgb(255,245,240)'>ل</span><span style='background-color: rgb(254,244,239)'> </span><span style='background-color: rgb(254,243,238)'>ا</span><span style='background-color: rgb(254,244,239)'>ر</span><span style='background-color: rgb(254,244,239)'>ا</span><span style='background-color: rgb(254,243,238)'>س</span><span style='background-color: rgb(254,242,236)'>ت</span><span style='background-color: rgb(255,245,240)'>ه</span><span>\t\t:\t\t</span><span>ا</span></div>"
      ],
      "text/plain": [
       "<IPython.core.display.HTML object>"
      ]
     },
     "metadata": {
      "tags": []
     },
     "output_type": "display_data"
    },
    {
     "data": {
      "text/html": [
       "<div><span style='background-color: rgb(254,240,233)'>ی</span><span style='background-color: rgb(254,241,234)'>ک</span><span style='background-color: rgb(254,241,234)'>ی</span><span style='background-color: rgb(254,238,230)'> </span><span style='background-color: rgb(254,243,237)'>ا</span><span style='background-color: rgb(254,243,238)'>ز</span><span style='background-color: rgb(254,243,237)'> </span><span style='background-color: rgb(254,241,235)'>ف</span><span style='background-color: rgb(254,244,239)'>ز</span><span style='background-color: rgb(254,244,239)'>ا</span><span style='background-color: rgb(254,244,239)'>ی</span><span style='background-color: rgb(254,242,236)'>ش</span><span style='background-color: rgb(254,241,235)'> </span><span style='background-color: rgb(254,244,239)'>د</span><span style='background-color: rgb(254,244,239)'>ل</span><span style='background-color: rgb(254,243,238)'> </span><span style='background-color: rgb(255,245,240)'>ا</span><span style='background-color: rgb(254,243,238)'>ر</span><span style='background-color: rgb(255,245,240)'>ا</span><span style='background-color: rgb(255,245,240)'>س</span><span style='background-color: rgb(253,212,194)'>ت</span><span style='background-color: rgb(254,233,223)'>ه</span><span>\t\t:\t\t</span><span>و</span></div>"
      ],
      "text/plain": [
       "<IPython.core.display.HTML object>"
      ]
     },
     "metadata": {
      "tags": []
     },
     "output_type": "display_data"
    },
    {
     "data": {
      "text/html": [
       "<div><span style='background-color: rgb(254,225,212)'>ی</span><span style='background-color: rgb(254,242,236)'>ک</span><span style='background-color: rgb(254,244,239)'>ی</span><span style='background-color: rgb(254,244,239)'> </span><span style='background-color: rgb(254,240,233)'>ا</span><span style='background-color: rgb(254,234,224)'>ز</span><span style='background-color: rgb(253,211,192)'> </span><span style='background-color: rgb(254,225,212)'>ف</span><span style='background-color: rgb(254,238,230)'>ز</span><span style='background-color: rgb(254,240,233)'>ا</span><span style='background-color: rgb(254,240,233)'>ی</span><span style='background-color: rgb(254,243,238)'>ش</span><span style='background-color: rgb(254,243,237)'> </span><span style='background-color: rgb(254,244,239)'>د</span><span style='background-color: rgb(254,244,239)'>ل</span><span style='background-color: rgb(254,243,237)'> </span><span style='background-color: rgb(254,242,236)'>ا</span><span style='background-color: rgb(254,244,239)'>ر</span><span style='background-color: rgb(254,244,239)'>ا</span><span style='background-color: rgb(255,245,240)'>س</span><span style='background-color: rgb(254,243,237)'>ت</span><span style='background-color: rgb(254,242,236)'>ه</span><span>\t\t:\t\t</span><span>ـ</span></div>"
      ],
      "text/plain": [
       "<IPython.core.display.HTML object>"
      ]
     },
     "metadata": {
      "tags": []
     },
     "output_type": "display_data"
    },
    {
     "data": {
      "text/html": [
       "<div><span style='background-color: rgb(254,241,235)'>ی</span><span style='background-color: rgb(254,243,237)'>ک</span><span style='background-color: rgb(254,243,238)'>ی</span><span style='background-color: rgb(254,241,235)'> </span><span style='background-color: rgb(254,244,239)'>ا</span><span style='background-color: rgb(254,244,239)'>ز</span><span style='background-color: rgb(254,244,239)'> </span><span style='background-color: rgb(254,244,239)'>ف</span><span style='background-color: rgb(254,243,238)'>ز</span><span style='background-color: rgb(254,243,238)'>ا</span><span style='background-color: rgb(254,244,239)'>ی</span><span style='background-color: rgb(254,242,236)'>ش</span><span style='background-color: rgb(255,245,240)'> </span><span style='background-color: rgb(255,245,240)'>د</span><span style='background-color: rgb(255,245,240)'>ل</span><span style='background-color: rgb(255,245,240)'> </span><span style='background-color: rgb(254,244,239)'>ا</span><span style='background-color: rgb(255,245,240)'>ر</span><span style='background-color: rgb(255,245,240)'>ا</span><span style='background-color: rgb(255,245,240)'>س</span><span style='background-color: rgb(254,243,237)'>ت</span><span style='background-color: rgb(255,245,240)'>ه</span><span>\t\t:\t\t</span><span>ب</span></div>"
      ],
      "text/plain": [
       "<IPython.core.display.HTML object>"
      ]
     },
     "metadata": {
      "tags": []
     },
     "output_type": "display_data"
    },
    {
     "data": {
      "text/html": [
       "<div><span style='background-color: rgb(254,233,224)'>ی</span><span style='background-color: rgb(254,235,226)'>ک</span><span style='background-color: rgb(254,242,236)'>ی</span><span style='background-color: rgb(254,243,238)'> </span><span style='background-color: rgb(254,243,238)'>ا</span><span style='background-color: rgb(254,243,238)'>ز</span><span style='background-color: rgb(254,244,239)'> </span><span style='background-color: rgb(254,243,237)'>ف</span><span style='background-color: rgb(254,243,238)'>ز</span><span style='background-color: rgb(254,243,238)'>ا</span><span style='background-color: rgb(254,242,236)'>ی</span><span style='background-color: rgb(254,241,235)'>ش</span><span style='background-color: rgb(254,243,238)'> </span><span style='background-color: rgb(255,245,240)'>د</span><span style='background-color: rgb(254,244,239)'>ل</span><span style='background-color: rgb(254,243,238)'> </span><span style='background-color: rgb(254,243,237)'>ا</span><span style='background-color: rgb(254,244,239)'>ر</span><span style='background-color: rgb(254,244,239)'>ا</span><span style='background-color: rgb(255,245,240)'>س</span><span style='background-color: rgb(254,243,238)'>ت</span><span style='background-color: rgb(254,244,239)'>ه</span><span>\t\t:\t\t</span><span>ر</span></div>"
      ],
      "text/plain": [
       "<IPython.core.display.HTML object>"
      ]
     },
     "metadata": {
      "tags": []
     },
     "output_type": "display_data"
    },
    {
     "data": {
      "text/html": [
       "<div><span style='background-color: rgb(255,245,240)'>ی</span><span style='background-color: rgb(254,243,237)'>ک</span><span style='background-color: rgb(254,241,234)'>ی</span><span style='background-color: rgb(254,240,233)'> </span><span style='background-color: rgb(254,240,233)'>ا</span><span style='background-color: rgb(254,241,234)'>ز</span><span style='background-color: rgb(254,237,228)'> </span><span style='background-color: rgb(254,226,213)'>ف</span><span style='background-color: rgb(254,236,227)'>ز</span><span style='background-color: rgb(254,236,227)'>ا</span><span style='background-color: rgb(254,240,233)'>ی</span><span style='background-color: rgb(254,241,234)'>ش</span><span style='background-color: rgb(254,243,237)'> </span><span style='background-color: rgb(254,242,236)'>د</span><span style='background-color: rgb(254,241,234)'>ل</span><span style='background-color: rgb(254,241,235)'> </span><span style='background-color: rgb(254,239,231)'>ا</span><span style='background-color: rgb(254,243,238)'>ر</span><span style='background-color: rgb(254,241,235)'>ا</span><span style='background-color: rgb(254,244,239)'>س</span><span style='background-color: rgb(254,241,234)'>ت</span><span style='background-color: rgb(254,243,237)'>ه</span><span>\t\t:\t\t</span><span>ـ</span></div>"
      ],
      "text/plain": [
       "<IPython.core.display.HTML object>"
      ]
     },
     "metadata": {
      "tags": []
     },
     "output_type": "display_data"
    },
    {
     "data": {
      "text/html": [
       "<div><span style='background-color: rgb(255,245,240)'>ی</span><span style='background-color: rgb(254,243,237)'>ک</span><span style='background-color: rgb(254,243,238)'>ی</span><span style='background-color: rgb(254,242,236)'> </span><span style='background-color: rgb(254,244,239)'>ا</span><span style='background-color: rgb(255,245,240)'>ز</span><span style='background-color: rgb(255,245,240)'> </span><span style='background-color: rgb(254,243,237)'>ف</span><span style='background-color: rgb(254,242,236)'>ز</span><span style='background-color: rgb(254,242,236)'>ا</span><span style='background-color: rgb(254,243,238)'>ی</span><span style='background-color: rgb(254,241,235)'>ش</span><span style='background-color: rgb(254,243,238)'> </span><span style='background-color: rgb(255,245,240)'>د</span><span style='background-color: rgb(255,245,240)'>ل</span><span style='background-color: rgb(255,245,240)'> </span><span style='background-color: rgb(254,242,236)'>ا</span><span style='background-color: rgb(254,243,237)'>ر</span><span style='background-color: rgb(254,244,239)'>ا</span><span style='background-color: rgb(254,244,239)'>س</span><span style='background-color: rgb(254,241,234)'>ت</span><span style='background-color: rgb(254,244,239)'>ه</span><span>\t\t:\t\t</span><span>ک</span></div>"
      ],
      "text/plain": [
       "<IPython.core.display.HTML object>"
      ]
     },
     "metadata": {
      "tags": []
     },
     "output_type": "display_data"
    },
    {
     "data": {
      "text/html": [
       "<div><span style='background-color: rgb(254,241,235)'>ی</span><span style='background-color: rgb(254,239,232)'>ک</span><span style='background-color: rgb(254,233,224)'>ی</span><span style='background-color: rgb(254,234,224)'> </span><span style='background-color: rgb(254,235,225)'>ا</span><span style='background-color: rgb(254,241,235)'>ز</span><span style='background-color: rgb(254,243,238)'> </span><span style='background-color: rgb(254,243,237)'>ف</span><span style='background-color: rgb(254,242,236)'>ز</span><span style='background-color: rgb(254,244,239)'>ا</span><span style='background-color: rgb(254,244,239)'>ی</span><span style='background-color: rgb(254,242,236)'>ش</span><span style='background-color: rgb(254,242,236)'> </span><span style='background-color: rgb(254,244,239)'>د</span><span style='background-color: rgb(254,242,236)'>ل</span><span style='background-color: rgb(254,240,233)'> </span><span style='background-color: rgb(254,237,229)'>ا</span><span style='background-color: rgb(254,239,232)'>ر</span><span style='background-color: rgb(254,235,225)'>ا</span><span style='background-color: rgb(254,243,238)'>س</span><span style='background-color: rgb(254,225,211)'>ت</span><span style='background-color: rgb(254,241,234)'>ه</span><span>\t\t:\t\t</span><span>ن</span></div>"
      ],
      "text/plain": [
       "<IPython.core.display.HTML object>"
      ]
     },
     "metadata": {
      "tags": []
     },
     "output_type": "display_data"
    },
    {
     "data": {
      "text/html": [
       "<div><span style='background-color: rgb(254,243,237)'>ی</span><span style='background-color: rgb(254,243,238)'>ک</span><span style='background-color: rgb(254,244,239)'>ی</span><span style='background-color: rgb(254,243,237)'> </span><span style='background-color: rgb(254,243,238)'>ا</span><span style='background-color: rgb(255,245,240)'>ز</span><span style='background-color: rgb(254,244,239)'> </span><span style='background-color: rgb(254,243,238)'>ف</span><span style='background-color: rgb(254,243,238)'>ز</span><span style='background-color: rgb(254,243,238)'>ا</span><span style='background-color: rgb(254,242,236)'>ی</span><span style='background-color: rgb(254,229,218)'>ش</span><span style='background-color: rgb(254,235,225)'> </span><span style='background-color: rgb(254,242,236)'>د</span><span style='background-color: rgb(254,242,236)'>ل</span><span style='background-color: rgb(254,243,237)'> </span><span style='background-color: rgb(254,241,234)'>ا</span><span style='background-color: rgb(255,245,240)'>ر</span><span style='background-color: rgb(254,243,238)'>ا</span><span style='background-color: rgb(254,240,233)'>س</span><span style='background-color: rgb(252,169,141)'>ت</span><span style='background-color: rgb(254,237,228)'>ه</span><span>\t\t:\t\t</span><span>د</span></div>"
      ],
      "text/plain": [
       "<IPython.core.display.HTML object>"
      ]
     },
     "metadata": {
      "tags": []
     },
     "output_type": "display_data"
    },
    {
     "data": {
      "text/html": [
       "<div><span style='background-color: rgb(255,245,240)'>ی</span><span style='background-color: rgb(255,245,240)'>ک</span><span style='background-color: rgb(254,244,239)'>ی</span><span style='background-color: rgb(254,243,238)'> </span><span style='background-color: rgb(254,243,238)'>ا</span><span style='background-color: rgb(254,239,231)'>ز</span><span style='background-color: rgb(252,197,174)'> </span><span style='background-color: rgb(254,229,218)'>ف</span><span style='background-color: rgb(254,241,235)'>ز</span><span style='background-color: rgb(254,235,226)'>ا</span><span style='background-color: rgb(254,228,216)'>ی</span><span style='background-color: rgb(254,241,234)'>ش</span><span style='background-color: rgb(254,243,237)'> </span><span style='background-color: rgb(254,242,236)'>د</span><span style='background-color: rgb(254,240,233)'>ل</span><span style='background-color: rgb(254,242,236)'> </span><span style='background-color: rgb(254,241,235)'>ا</span><span style='background-color: rgb(254,244,239)'>ر</span><span style='background-color: rgb(254,244,239)'>ا</span><span style='background-color: rgb(254,244,239)'>س</span><span style='background-color: rgb(254,240,233)'>ت</span><span style='background-color: rgb(254,242,236)'>ه</span><span>\t\t:\t\t</span><span>ـ</span></div>"
      ],
      "text/plain": [
       "<IPython.core.display.HTML object>"
      ]
     },
     "metadata": {
      "tags": []
     },
     "output_type": "display_data"
    },
    {
     "data": {
      "text/html": [
       "<div><span style='background-color: rgb(254,242,236)'>ی</span><span style='background-color: rgb(254,243,237)'>ک</span><span style='background-color: rgb(254,243,237)'>ی</span><span style='background-color: rgb(254,241,234)'> </span><span style='background-color: rgb(254,244,239)'>ا</span><span style='background-color: rgb(255,245,240)'>ز</span><span style='background-color: rgb(255,245,240)'> </span><span style='background-color: rgb(255,245,240)'>ف</span><span style='background-color: rgb(254,244,239)'>ز</span><span style='background-color: rgb(254,244,239)'>ا</span><span style='background-color: rgb(254,244,239)'>ی</span><span style='background-color: rgb(254,242,236)'>ش</span><span style='background-color: rgb(255,245,240)'> </span><span style='background-color: rgb(255,245,240)'>د</span><span style='background-color: rgb(255,245,240)'>ل</span><span style='background-color: rgb(255,245,240)'> </span><span style='background-color: rgb(254,243,238)'>ا</span><span style='background-color: rgb(255,245,240)'>ر</span><span style='background-color: rgb(254,244,239)'>ا</span><span style='background-color: rgb(254,243,238)'>س</span><span style='background-color: rgb(254,241,235)'>ت</span><span style='background-color: rgb(255,245,240)'>ه</span><span>\t\t:\t\t</span><span>ک</span></div>"
      ],
      "text/plain": [
       "<IPython.core.display.HTML object>"
      ]
     },
     "metadata": {
      "tags": []
     },
     "output_type": "display_data"
    },
    {
     "data": {
      "text/html": [
       "<div><span style='background-color: rgb(254,240,233)'>ی</span><span style='background-color: rgb(254,243,237)'>ک</span><span style='background-color: rgb(254,243,237)'>ی</span><span style='background-color: rgb(254,243,238)'> </span><span style='background-color: rgb(254,243,237)'>ا</span><span style='background-color: rgb(254,244,239)'>ز</span><span style='background-color: rgb(254,243,238)'> </span><span style='background-color: rgb(254,244,239)'>ف</span><span style='background-color: rgb(254,244,239)'>ز</span><span style='background-color: rgb(254,244,239)'>ا</span><span style='background-color: rgb(254,244,239)'>ی</span><span style='background-color: rgb(254,243,238)'>ش</span><span style='background-color: rgb(254,244,239)'> </span><span style='background-color: rgb(255,245,240)'>د</span><span style='background-color: rgb(254,244,239)'>ل</span><span style='background-color: rgb(254,243,237)'> </span><span style='background-color: rgb(254,238,230)'>ا</span><span style='background-color: rgb(254,243,237)'>ر</span><span style='background-color: rgb(253,220,205)'>ا</span><span style='background-color: rgb(254,243,238)'>س</span><span style='background-color: rgb(254,225,212)'>ت</span><span style='background-color: rgb(254,227,214)'>ه</span><span>\t\t:\t\t</span><span>ا</span></div>"
      ],
      "text/plain": [
       "<IPython.core.display.HTML object>"
      ]
     },
     "metadata": {
      "tags": []
     },
     "output_type": "display_data"
    },
    {
     "data": {
      "text/html": [
       "<div><span style='background-color: rgb(254,243,238)'>ی</span><span style='background-color: rgb(255,245,240)'>ک</span><span style='background-color: rgb(254,244,239)'>ی</span><span style='background-color: rgb(254,242,236)'> </span><span style='background-color: rgb(254,244,239)'>ا</span><span style='background-color: rgb(255,245,240)'>ز</span><span style='background-color: rgb(255,245,240)'> </span><span style='background-color: rgb(255,245,240)'>ف</span><span style='background-color: rgb(255,245,240)'>ز</span><span style='background-color: rgb(255,245,240)'>ا</span><span style='background-color: rgb(255,245,240)'>ی</span><span style='background-color: rgb(254,244,239)'>ش</span><span style='background-color: rgb(254,244,239)'> </span><span style='background-color: rgb(255,245,240)'>د</span><span style='background-color: rgb(255,245,240)'>ل</span><span style='background-color: rgb(255,245,240)'> </span><span style='background-color: rgb(254,244,239)'>ا</span><span style='background-color: rgb(254,244,239)'>ر</span><span style='background-color: rgb(255,245,240)'>ا</span><span style='background-color: rgb(253,207,188)'>س</span><span style='background-color: rgb(241,69,50)'>ت</span><span style='background-color: rgb(254,240,233)'>ه</span><span>\t\t:\t\t</span><span>س</span></div>"
      ],
      "text/plain": [
       "<IPython.core.display.HTML object>"
      ]
     },
     "metadata": {
      "tags": []
     },
     "output_type": "display_data"
    },
    {
     "data": {
      "text/html": [
       "<div><span style='background-color: rgb(255,245,240)'>ی</span><span style='background-color: rgb(255,245,240)'>ک</span><span style='background-color: rgb(255,245,240)'>ی</span><span style='background-color: rgb(255,245,240)'> </span><span style='background-color: rgb(255,245,240)'>ا</span><span style='background-color: rgb(255,245,240)'>ز</span><span style='background-color: rgb(255,245,240)'> </span><span style='background-color: rgb(255,245,240)'>ف</span><span style='background-color: rgb(255,245,240)'>ز</span><span style='background-color: rgb(254,244,239)'>ا</span><span style='background-color: rgb(255,245,240)'>ی</span><span style='background-color: rgb(255,245,240)'>ش</span><span style='background-color: rgb(255,245,240)'> </span><span style='background-color: rgb(255,245,240)'>د</span><span style='background-color: rgb(255,245,240)'>ل</span><span style='background-color: rgb(255,245,240)'> </span><span style='background-color: rgb(255,245,240)'>ا</span><span style='background-color: rgb(255,245,240)'>ر</span><span style='background-color: rgb(255,245,240)'>ا</span><span style='background-color: rgb(254,242,236)'>س</span><span style='background-color: rgb(251,135,103)'>ت</span><span style='background-color: rgb(254,232,222)'>ه</span><span>\t\t:\t\t</span><span>ت</span></div>"
      ],
      "text/plain": [
       "<IPython.core.display.HTML object>"
      ]
     },
     "metadata": {
      "tags": []
     },
     "output_type": "display_data"
    },
    {
     "data": {
      "text/html": [
       "<div><span style='background-color: rgb(255,245,240)'>ی</span><span style='background-color: rgb(255,245,240)'>ک</span><span style='background-color: rgb(255,245,240)'>ی</span><span style='background-color: rgb(255,245,240)'> </span><span style='background-color: rgb(254,244,239)'>ا</span><span style='background-color: rgb(254,244,239)'>ز</span><span style='background-color: rgb(254,244,239)'> </span><span style='background-color: rgb(255,245,240)'>ف</span><span style='background-color: rgb(255,245,240)'>ز</span><span style='background-color: rgb(255,245,240)'>ا</span><span style='background-color: rgb(255,245,240)'>ی</span><span style='background-color: rgb(255,245,240)'>ش</span><span style='background-color: rgb(255,245,240)'> </span><span style='background-color: rgb(254,244,239)'>د</span><span style='background-color: rgb(254,244,239)'>ل</span><span style='background-color: rgb(254,244,239)'> </span><span style='background-color: rgb(255,245,240)'>ا</span><span style='background-color: rgb(255,245,240)'>ر</span><span style='background-color: rgb(254,244,239)'>ا</span><span style='background-color: rgb(255,245,240)'>س</span><span style='background-color: rgb(254,241,234)'>ت</span><span style='background-color: rgb(172,16,22)'>ه</span><span>\t\t:\t\t</span><span>ه</span></div>"
      ],
      "text/plain": [
       "<IPython.core.display.HTML object>"
      ]
     },
     "metadata": {
      "tags": []
     },
     "output_type": "display_data"
    },
    {
     "name": "stdout",
     "output_type": "stream",
     "text": [
      "Test input:\n",
      "ز تیغ تو خورشید بریان شود  ****  ز گرز تو ناهید گریان شود\n",
      "Seq2Seq output:\n",
      "ز گفتار او بر دلش پرنود\n",
      "Seq2Seq with attention output:\n",
      "به نید و به گیتی چه اید بود\n",
      "Weights of attention:\n"
     ]
    },
    {
     "data": {
      "text/html": [
       "<div><span style='background-color: rgb(254,244,239)'>ز</span><span style='background-color: rgb(254,244,239)'> </span><span style='background-color: rgb(254,241,235)'>ت</span><span style='background-color: rgb(254,243,238)'>ی</span><span style='background-color: rgb(254,242,236)'>غ</span><span style='background-color: rgb(254,243,237)'> </span><span style='background-color: rgb(254,240,233)'>ت</span><span style='background-color: rgb(254,243,238)'>و</span><span style='background-color: rgb(255,245,240)'> </span><span style='background-color: rgb(255,245,240)'>خ</span><span style='background-color: rgb(254,244,239)'>و</span><span style='background-color: rgb(255,245,240)'>ر</span><span style='background-color: rgb(254,244,239)'>ش</span><span style='background-color: rgb(255,245,240)'>ی</span><span style='background-color: rgb(255,245,240)'>د</span><span style='background-color: rgb(255,245,240)'> </span><span style='background-color: rgb(255,245,240)'>ب</span><span style='background-color: rgb(255,245,240)'>ر</span><span style='background-color: rgb(255,245,240)'>ی</span><span style='background-color: rgb(255,245,240)'>ا</span><span style='background-color: rgb(254,242,236)'>ن</span><span style='background-color: rgb(255,245,240)'> </span><span style='background-color: rgb(255,245,240)'>ش</span><span style='background-color: rgb(254,241,234)'>و</span><span style='background-color: rgb(254,235,226)'>د</span><span>\t\t:\t\t</span><span>ب</span></div>"
      ],
      "text/plain": [
       "<IPython.core.display.HTML object>"
      ]
     },
     "metadata": {
      "tags": []
     },
     "output_type": "display_data"
    },
    {
     "data": {
      "text/html": [
       "<div><span style='background-color: rgb(254,242,236)'>ز</span><span style='background-color: rgb(254,237,228)'> </span><span style='background-color: rgb(254,241,235)'>ت</span><span style='background-color: rgb(254,241,234)'>ی</span><span style='background-color: rgb(254,242,236)'>غ</span><span style='background-color: rgb(254,243,237)'> </span><span style='background-color: rgb(254,243,237)'>ت</span><span style='background-color: rgb(254,241,234)'>و</span><span style='background-color: rgb(254,243,237)'> </span><span style='background-color: rgb(254,243,238)'>خ</span><span style='background-color: rgb(254,241,234)'>و</span><span style='background-color: rgb(254,241,234)'>ر</span><span style='background-color: rgb(254,241,235)'>ش</span><span style='background-color: rgb(254,242,236)'>ی</span><span style='background-color: rgb(254,243,237)'>د</span><span style='background-color: rgb(254,242,236)'> </span><span style='background-color: rgb(254,243,238)'>ب</span><span style='background-color: rgb(254,244,239)'>ر</span><span style='background-color: rgb(254,244,239)'>ی</span><span style='background-color: rgb(254,243,237)'>ا</span><span style='background-color: rgb(254,242,236)'>ن</span><span style='background-color: rgb(254,243,237)'> </span><span style='background-color: rgb(255,245,240)'>ش</span><span style='background-color: rgb(254,244,239)'>و</span><span style='background-color: rgb(255,245,240)'>د</span><span>\t\t:\t\t</span><span>ه</span></div>"
      ],
      "text/plain": [
       "<IPython.core.display.HTML object>"
      ]
     },
     "metadata": {
      "tags": []
     },
     "output_type": "display_data"
    },
    {
     "data": {
      "text/html": [
       "<div><span style='background-color: rgb(254,243,238)'>ز</span><span style='background-color: rgb(254,242,236)'> </span><span style='background-color: rgb(254,241,234)'>ت</span><span style='background-color: rgb(254,236,227)'>ی</span><span style='background-color: rgb(254,242,236)'>غ</span><span style='background-color: rgb(254,243,237)'> </span><span style='background-color: rgb(254,243,237)'>ت</span><span style='background-color: rgb(254,228,216)'>و</span><span style='background-color: rgb(253,219,203)'> </span><span style='background-color: rgb(253,216,200)'>خ</span><span style='background-color: rgb(254,234,224)'>و</span><span style='background-color: rgb(254,240,233)'>ر</span><span style='background-color: rgb(254,237,229)'>ش</span><span style='background-color: rgb(254,241,235)'>ی</span><span style='background-color: rgb(254,244,239)'>د</span><span style='background-color: rgb(254,243,238)'> </span><span style='background-color: rgb(254,243,237)'>ب</span><span style='background-color: rgb(254,240,233)'>ر</span><span style='background-color: rgb(254,243,238)'>ی</span><span style='background-color: rgb(254,241,235)'>ا</span><span style='background-color: rgb(254,243,238)'>ن</span><span style='background-color: rgb(254,244,239)'> </span><span style='background-color: rgb(255,245,240)'>ش</span><span style='background-color: rgb(254,244,239)'>و</span><span style='background-color: rgb(255,245,240)'>د</span><span>\t\t:\t\t</span><span>ـ</span></div>"
      ],
      "text/plain": [
       "<IPython.core.display.HTML object>"
      ]
     },
     "metadata": {
      "tags": []
     },
     "output_type": "display_data"
    },
    {
     "data": {
      "text/html": [
       "<div><span style='background-color: rgb(254,243,237)'>ز</span><span style='background-color: rgb(254,242,236)'> </span><span style='background-color: rgb(254,243,238)'>ت</span><span style='background-color: rgb(254,244,239)'>ی</span><span style='background-color: rgb(254,243,237)'>غ</span><span style='background-color: rgb(254,240,233)'> </span><span style='background-color: rgb(254,239,232)'>ت</span><span style='background-color: rgb(254,242,236)'>و</span><span style='background-color: rgb(254,242,236)'> </span><span style='background-color: rgb(254,243,238)'>خ</span><span style='background-color: rgb(254,239,231)'>و</span><span style='background-color: rgb(254,239,232)'>ر</span><span style='background-color: rgb(254,241,235)'>ش</span><span style='background-color: rgb(254,243,238)'>ی</span><span style='background-color: rgb(254,243,237)'>د</span><span style='background-color: rgb(254,243,238)'> </span><span style='background-color: rgb(255,245,240)'>ب</span><span style='background-color: rgb(255,245,240)'>ر</span><span style='background-color: rgb(254,244,239)'>ی</span><span style='background-color: rgb(254,243,237)'>ا</span><span style='background-color: rgb(254,236,227)'>ن</span><span style='background-color: rgb(254,243,237)'> </span><span style='background-color: rgb(255,245,240)'>ش</span><span style='background-color: rgb(255,245,240)'>و</span><span style='background-color: rgb(255,245,240)'>د</span><span>\t\t:\t\t</span><span>ن</span></div>"
      ],
      "text/plain": [
       "<IPython.core.display.HTML object>"
      ]
     },
     "metadata": {
      "tags": []
     },
     "output_type": "display_data"
    },
    {
     "data": {
      "text/html": [
       "<div><span style='background-color: rgb(254,237,229)'>ز</span><span style='background-color: rgb(254,239,232)'> </span><span style='background-color: rgb(254,243,237)'>ت</span><span style='background-color: rgb(254,243,237)'>ی</span><span style='background-color: rgb(254,243,237)'>غ</span><span style='background-color: rgb(254,243,237)'> </span><span style='background-color: rgb(254,242,236)'>ت</span><span style='background-color: rgb(254,242,236)'>و</span><span style='background-color: rgb(254,240,233)'> </span><span style='background-color: rgb(254,238,230)'>خ</span><span style='background-color: rgb(254,235,226)'>و</span><span style='background-color: rgb(254,229,218)'>ر</span><span style='background-color: rgb(254,232,222)'>ش</span><span style='background-color: rgb(254,239,231)'>ی</span><span style='background-color: rgb(254,238,230)'>د</span><span style='background-color: rgb(254,239,231)'> </span><span style='background-color: rgb(254,242,236)'>ب</span><span style='background-color: rgb(254,242,236)'>ر</span><span style='background-color: rgb(254,242,236)'>ی</span><span style='background-color: rgb(254,242,236)'>ا</span><span style='background-color: rgb(254,243,238)'>ن</span><span style='background-color: rgb(254,243,238)'> </span><span style='background-color: rgb(255,245,240)'>ش</span><span style='background-color: rgb(254,244,239)'>و</span><span style='background-color: rgb(255,245,240)'>د</span><span>\t\t:\t\t</span><span>ی</span></div>"
      ],
      "text/plain": [
       "<IPython.core.display.HTML object>"
      ]
     },
     "metadata": {
      "tags": []
     },
     "output_type": "display_data"
    },
    {
     "data": {
      "text/html": [
       "<div><span style='background-color: rgb(254,244,239)'>ز</span><span style='background-color: rgb(254,244,239)'> </span><span style='background-color: rgb(254,241,234)'>ت</span><span style='background-color: rgb(254,243,238)'>ی</span><span style='background-color: rgb(254,243,238)'>غ</span><span style='background-color: rgb(254,242,236)'> </span><span style='background-color: rgb(254,242,236)'>ت</span><span style='background-color: rgb(254,243,237)'>و</span><span style='background-color: rgb(254,239,231)'> </span><span style='background-color: rgb(254,241,235)'>خ</span><span style='background-color: rgb(254,243,237)'>و</span><span style='background-color: rgb(254,239,232)'>ر</span><span style='background-color: rgb(254,239,231)'>ش</span><span style='background-color: rgb(254,239,231)'>ی</span><span style='background-color: rgb(254,241,235)'>د</span><span style='background-color: rgb(254,243,237)'> </span><span style='background-color: rgb(254,244,239)'>ب</span><span style='background-color: rgb(254,244,239)'>ر</span><span style='background-color: rgb(254,244,239)'>ی</span><span style='background-color: rgb(254,243,238)'>ا</span><span style='background-color: rgb(254,239,232)'>ن</span><span style='background-color: rgb(254,237,228)'> </span><span style='background-color: rgb(255,245,240)'>ش</span><span style='background-color: rgb(254,243,237)'>و</span><span style='background-color: rgb(255,245,240)'>د</span><span>\t\t:\t\t</span><span>د</span></div>"
      ],
      "text/plain": [
       "<IPython.core.display.HTML object>"
      ]
     },
     "metadata": {
      "tags": []
     },
     "output_type": "display_data"
    },
    {
     "data": {
      "text/html": [
       "<div><span style='background-color: rgb(254,239,231)'>ز</span><span style='background-color: rgb(254,238,230)'> </span><span style='background-color: rgb(254,243,237)'>ت</span><span style='background-color: rgb(254,243,237)'>ی</span><span style='background-color: rgb(254,243,238)'>غ</span><span style='background-color: rgb(254,242,236)'> </span><span style='background-color: rgb(254,243,238)'>ت</span><span style='background-color: rgb(254,241,235)'>و</span><span style='background-color: rgb(254,240,233)'> </span><span style='background-color: rgb(254,239,231)'>خ</span><span style='background-color: rgb(254,235,226)'>و</span><span style='background-color: rgb(254,239,232)'>ر</span><span style='background-color: rgb(254,238,230)'>ش</span><span style='background-color: rgb(254,237,229)'>ی</span><span style='background-color: rgb(254,237,228)'>د</span><span style='background-color: rgb(254,237,229)'> </span><span style='background-color: rgb(254,239,232)'>ب</span><span style='background-color: rgb(254,243,237)'>ر</span><span style='background-color: rgb(254,243,237)'>ی</span><span style='background-color: rgb(254,242,236)'>ا</span><span style='background-color: rgb(254,243,238)'>ن</span><span style='background-color: rgb(254,241,234)'> </span><span style='background-color: rgb(255,245,240)'>ش</span><span style='background-color: rgb(254,241,234)'>و</span><span style='background-color: rgb(254,243,238)'>د</span><span>\t\t:\t\t</span><span>ـ</span></div>"
      ],
      "text/plain": [
       "<IPython.core.display.HTML object>"
      ]
     },
     "metadata": {
      "tags": []
     },
     "output_type": "display_data"
    },
    {
     "data": {
      "text/html": [
       "<div><span style='background-color: rgb(254,243,237)'>ز</span><span style='background-color: rgb(254,243,238)'> </span><span style='background-color: rgb(254,240,233)'>ت</span><span style='background-color: rgb(254,243,237)'>ی</span><span style='background-color: rgb(254,242,236)'>غ</span><span style='background-color: rgb(254,243,237)'> </span><span style='background-color: rgb(254,241,234)'>ت</span><span style='background-color: rgb(254,243,238)'>و</span><span style='background-color: rgb(254,242,236)'> </span><span style='background-color: rgb(254,244,239)'>خ</span><span style='background-color: rgb(254,242,236)'>و</span><span style='background-color: rgb(254,243,237)'>ر</span><span style='background-color: rgb(254,242,236)'>ش</span><span style='background-color: rgb(254,244,239)'>ی</span><span style='background-color: rgb(254,244,239)'>د</span><span style='background-color: rgb(254,243,238)'> </span><span style='background-color: rgb(255,245,240)'>ب</span><span style='background-color: rgb(255,245,240)'>ر</span><span style='background-color: rgb(255,245,240)'>ی</span><span style='background-color: rgb(254,244,239)'>ا</span><span style='background-color: rgb(254,241,234)'>ن</span><span style='background-color: rgb(254,244,239)'> </span><span style='background-color: rgb(254,244,239)'>ش</span><span style='background-color: rgb(254,243,238)'>و</span><span style='background-color: rgb(254,244,239)'>د</span><span>\t\t:\t\t</span><span>و</span></div>"
      ],
      "text/plain": [
       "<IPython.core.display.HTML object>"
      ]
     },
     "metadata": {
      "tags": []
     },
     "output_type": "display_data"
    },
    {
     "data": {
      "text/html": [
       "<div><span style='background-color: rgb(254,243,238)'>ز</span><span style='background-color: rgb(254,243,237)'> </span><span style='background-color: rgb(254,242,236)'>ت</span><span style='background-color: rgb(254,243,238)'>ی</span><span style='background-color: rgb(254,243,238)'>غ</span><span style='background-color: rgb(254,242,236)'> </span><span style='background-color: rgb(254,241,234)'>ت</span><span style='background-color: rgb(254,233,223)'>و</span><span style='background-color: rgb(254,233,223)'> </span><span style='background-color: rgb(254,229,217)'>خ</span><span style='background-color: rgb(253,218,202)'>و</span><span style='background-color: rgb(253,221,206)'>ر</span><span style='background-color: rgb(254,229,218)'>ش</span><span style='background-color: rgb(254,241,235)'>ی</span><span style='background-color: rgb(254,242,236)'>د</span><span style='background-color: rgb(254,243,238)'> </span><span style='background-color: rgb(254,243,238)'>ب</span><span style='background-color: rgb(254,244,239)'>ر</span><span style='background-color: rgb(254,244,239)'>ی</span><span style='background-color: rgb(254,243,238)'>ا</span><span style='background-color: rgb(254,243,238)'>ن</span><span style='background-color: rgb(254,241,235)'> </span><span style='background-color: rgb(255,245,240)'>ش</span><span style='background-color: rgb(255,245,240)'>و</span><span style='background-color: rgb(255,245,240)'>د</span><span>\t\t:\t\t</span><span>ـ</span></div>"
      ],
      "text/plain": [
       "<IPython.core.display.HTML object>"
      ]
     },
     "metadata": {
      "tags": []
     },
     "output_type": "display_data"
    },
    {
     "data": {
      "text/html": [
       "<div><span style='background-color: rgb(254,243,238)'>ز</span><span style='background-color: rgb(254,244,239)'> </span><span style='background-color: rgb(254,242,236)'>ت</span><span style='background-color: rgb(254,243,237)'>ی</span><span style='background-color: rgb(254,243,237)'>غ</span><span style='background-color: rgb(254,243,237)'> </span><span style='background-color: rgb(254,243,237)'>ت</span><span style='background-color: rgb(255,245,240)'>و</span><span style='background-color: rgb(254,244,239)'> </span><span style='background-color: rgb(255,245,240)'>خ</span><span style='background-color: rgb(254,244,239)'>و</span><span style='background-color: rgb(254,244,239)'>ر</span><span style='background-color: rgb(254,243,238)'>ش</span><span style='background-color: rgb(254,243,238)'>ی</span><span style='background-color: rgb(254,243,237)'>د</span><span style='background-color: rgb(254,244,239)'> </span><span style='background-color: rgb(255,245,240)'>ب</span><span style='background-color: rgb(255,245,240)'>ر</span><span style='background-color: rgb(255,245,240)'>ی</span><span style='background-color: rgb(254,244,239)'>ا</span><span style='background-color: rgb(254,237,228)'>ن</span><span style='background-color: rgb(254,243,237)'> </span><span style='background-color: rgb(254,244,239)'>ش</span><span style='background-color: rgb(255,245,240)'>و</span><span style='background-color: rgb(254,244,239)'>د</span><span>\t\t:\t\t</span><span>ب</span></div>"
      ],
      "text/plain": [
       "<IPython.core.display.HTML object>"
      ]
     },
     "metadata": {
      "tags": []
     },
     "output_type": "display_data"
    },
    {
     "data": {
      "text/html": [
       "<div><span style='background-color: rgb(254,238,230)'>ز</span><span style='background-color: rgb(254,230,219)'> </span><span style='background-color: rgb(254,242,236)'>ت</span><span style='background-color: rgb(254,241,235)'>ی</span><span style='background-color: rgb(254,243,238)'>غ</span><span style='background-color: rgb(254,243,238)'> </span><span style='background-color: rgb(254,243,238)'>ت</span><span style='background-color: rgb(254,244,239)'>و</span><span style='background-color: rgb(255,245,240)'> </span><span style='background-color: rgb(254,244,239)'>خ</span><span style='background-color: rgb(254,241,235)'>و</span><span style='background-color: rgb(254,243,237)'>ر</span><span style='background-color: rgb(254,243,237)'>ش</span><span style='background-color: rgb(254,242,236)'>ی</span><span style='background-color: rgb(254,240,233)'>د</span><span style='background-color: rgb(254,243,237)'> </span><span style='background-color: rgb(254,244,239)'>ب</span><span style='background-color: rgb(255,245,240)'>ر</span><span style='background-color: rgb(255,245,240)'>ی</span><span style='background-color: rgb(255,245,240)'>ا</span><span style='background-color: rgb(254,242,236)'>ن</span><span style='background-color: rgb(254,243,237)'> </span><span style='background-color: rgb(255,245,240)'>ش</span><span style='background-color: rgb(254,243,237)'>و</span><span style='background-color: rgb(255,245,240)'>د</span><span>\t\t:\t\t</span><span>ه</span></div>"
      ],
      "text/plain": [
       "<IPython.core.display.HTML object>"
      ]
     },
     "metadata": {
      "tags": []
     },
     "output_type": "display_data"
    },
    {
     "data": {
      "text/html": [
       "<div><span style='background-color: rgb(254,241,235)'>ز</span><span style='background-color: rgb(254,239,231)'> </span><span style='background-color: rgb(254,241,235)'>ت</span><span style='background-color: rgb(254,237,228)'>ی</span><span style='background-color: rgb(254,241,234)'>غ</span><span style='background-color: rgb(254,243,238)'> </span><span style='background-color: rgb(254,243,237)'>ت</span><span style='background-color: rgb(254,231,221)'>و</span><span style='background-color: rgb(254,225,212)'> </span><span style='background-color: rgb(253,212,194)'>خ</span><span style='background-color: rgb(254,235,225)'>و</span><span style='background-color: rgb(254,239,231)'>ر</span><span style='background-color: rgb(254,237,228)'>ش</span><span style='background-color: rgb(254,239,232)'>ی</span><span style='background-color: rgb(254,243,238)'>د</span><span style='background-color: rgb(254,243,238)'> </span><span style='background-color: rgb(254,241,234)'>ب</span><span style='background-color: rgb(254,239,232)'>ر</span><span style='background-color: rgb(254,243,237)'>ی</span><span style='background-color: rgb(254,243,238)'>ا</span><span style='background-color: rgb(254,244,239)'>ن</span><span style='background-color: rgb(254,244,239)'> </span><span style='background-color: rgb(255,245,240)'>ش</span><span style='background-color: rgb(255,245,240)'>و</span><span style='background-color: rgb(255,245,240)'>د</span><span>\t\t:\t\t</span><span>ـ</span></div>"
      ],
      "text/plain": [
       "<IPython.core.display.HTML object>"
      ]
     },
     "metadata": {
      "tags": []
     },
     "output_type": "display_data"
    },
    {
     "data": {
      "text/html": [
       "<div><span style='background-color: rgb(254,242,236)'>ز</span><span style='background-color: rgb(254,243,237)'> </span><span style='background-color: rgb(254,243,237)'>ت</span><span style='background-color: rgb(254,244,239)'>ی</span><span style='background-color: rgb(254,242,236)'>غ</span><span style='background-color: rgb(254,241,234)'> </span><span style='background-color: rgb(254,242,236)'>ت</span><span style='background-color: rgb(254,244,239)'>و</span><span style='background-color: rgb(254,244,239)'> </span><span style='background-color: rgb(254,244,239)'>خ</span><span style='background-color: rgb(254,241,235)'>و</span><span style='background-color: rgb(254,242,236)'>ر</span><span style='background-color: rgb(254,243,237)'>ش</span><span style='background-color: rgb(254,244,239)'>ی</span><span style='background-color: rgb(254,243,238)'>د</span><span style='background-color: rgb(255,245,240)'> </span><span style='background-color: rgb(255,245,240)'>ب</span><span style='background-color: rgb(255,245,240)'>ر</span><span style='background-color: rgb(254,244,239)'>ی</span><span style='background-color: rgb(254,243,237)'>ا</span><span style='background-color: rgb(254,235,225)'>ن</span><span style='background-color: rgb(254,243,238)'> </span><span style='background-color: rgb(254,244,239)'>ش</span><span style='background-color: rgb(255,245,240)'>و</span><span style='background-color: rgb(255,245,240)'>د</span><span>\t\t:\t\t</span><span>گ</span></div>"
      ],
      "text/plain": [
       "<IPython.core.display.HTML object>"
      ]
     },
     "metadata": {
      "tags": []
     },
     "output_type": "display_data"
    },
    {
     "data": {
      "text/html": [
       "<div><span style='background-color: rgb(254,226,213)'>ز</span><span style='background-color: rgb(254,237,228)'> </span><span style='background-color: rgb(254,236,227)'>ت</span><span style='background-color: rgb(254,237,228)'>ی</span><span style='background-color: rgb(253,222,208)'>غ</span><span style='background-color: rgb(254,234,224)'> </span><span style='background-color: rgb(254,237,229)'>ت</span><span style='background-color: rgb(254,239,232)'>و</span><span style='background-color: rgb(254,243,238)'> </span><span style='background-color: rgb(254,244,239)'>خ</span><span style='background-color: rgb(254,243,238)'>و</span><span style='background-color: rgb(254,243,238)'>ر</span><span style='background-color: rgb(254,243,237)'>ش</span><span style='background-color: rgb(254,244,239)'>ی</span><span style='background-color: rgb(254,244,239)'>د</span><span style='background-color: rgb(254,244,239)'> </span><span style='background-color: rgb(255,245,240)'>ب</span><span style='background-color: rgb(255,245,240)'>ر</span><span style='background-color: rgb(254,244,239)'>ی</span><span style='background-color: rgb(254,243,238)'>ا</span><span style='background-color: rgb(254,242,236)'>ن</span><span style='background-color: rgb(254,242,236)'> </span><span style='background-color: rgb(255,245,240)'>ش</span><span style='background-color: rgb(254,241,235)'>و</span><span style='background-color: rgb(255,245,240)'>د</span><span>\t\t:\t\t</span><span>ی</span></div>"
      ],
      "text/plain": [
       "<IPython.core.display.HTML object>"
      ]
     },
     "metadata": {
      "tags": []
     },
     "output_type": "display_data"
    },
    {
     "data": {
      "text/html": [
       "<div><span style='background-color: rgb(254,243,237)'>ز</span><span style='background-color: rgb(254,242,236)'> </span><span style='background-color: rgb(254,242,236)'>ت</span><span style='background-color: rgb(254,243,237)'>ی</span><span style='background-color: rgb(254,242,236)'>غ</span><span style='background-color: rgb(254,243,238)'> </span><span style='background-color: rgb(254,242,236)'>ت</span><span style='background-color: rgb(254,243,238)'>و</span><span style='background-color: rgb(254,243,237)'> </span><span style='background-color: rgb(254,237,229)'>خ</span><span style='background-color: rgb(254,243,238)'>و</span><span style='background-color: rgb(254,244,239)'>ر</span><span style='background-color: rgb(254,243,237)'>ش</span><span style='background-color: rgb(254,243,238)'>ی</span><span style='background-color: rgb(254,243,238)'>د</span><span style='background-color: rgb(254,244,239)'> </span><span style='background-color: rgb(255,245,240)'>ب</span><span style='background-color: rgb(255,245,240)'>ر</span><span style='background-color: rgb(255,245,240)'>ی</span><span style='background-color: rgb(255,245,240)'>ا</span><span style='background-color: rgb(254,242,236)'>ن</span><span style='background-color: rgb(255,245,240)'> </span><span style='background-color: rgb(255,245,240)'>ش</span><span style='background-color: rgb(255,245,240)'>و</span><span style='background-color: rgb(255,245,240)'>د</span><span>\t\t:\t\t</span><span>ت</span></div>"
      ],
      "text/plain": [
       "<IPython.core.display.HTML object>"
      ]
     },
     "metadata": {
      "tags": []
     },
     "output_type": "display_data"
    },
    {
     "data": {
      "text/html": [
       "<div><span style='background-color: rgb(252,205,185)'>ز</span><span style='background-color: rgb(253,223,209)'> </span><span style='background-color: rgb(254,244,239)'>ت</span><span style='background-color: rgb(254,243,237)'>ی</span><span style='background-color: rgb(254,243,237)'>غ</span><span style='background-color: rgb(254,241,235)'> </span><span style='background-color: rgb(254,237,228)'>ت</span><span style='background-color: rgb(254,239,232)'>و</span><span style='background-color: rgb(254,239,231)'> </span><span style='background-color: rgb(254,236,227)'>خ</span><span style='background-color: rgb(254,240,233)'>و</span><span style='background-color: rgb(254,243,238)'>ر</span><span style='background-color: rgb(254,243,237)'>ش</span><span style='background-color: rgb(254,243,237)'>ی</span><span style='background-color: rgb(254,243,238)'>د</span><span style='background-color: rgb(254,239,232)'> </span><span style='background-color: rgb(254,239,231)'>ب</span><span style='background-color: rgb(254,241,234)'>ر</span><span style='background-color: rgb(254,241,234)'>ی</span><span style='background-color: rgb(254,240,233)'>ا</span><span style='background-color: rgb(254,242,236)'>ن</span><span style='background-color: rgb(254,244,239)'> </span><span style='background-color: rgb(255,245,240)'>ش</span><span style='background-color: rgb(254,244,239)'>و</span><span style='background-color: rgb(255,245,240)'>د</span><span>\t\t:\t\t</span><span>ی</span></div>"
      ],
      "text/plain": [
       "<IPython.core.display.HTML object>"
      ]
     },
     "metadata": {
      "tags": []
     },
     "output_type": "display_data"
    },
    {
     "data": {
      "text/html": [
       "<div><span style='background-color: rgb(255,245,240)'>ز</span><span style='background-color: rgb(255,245,240)'> </span><span style='background-color: rgb(255,245,240)'>ت</span><span style='background-color: rgb(255,245,240)'>ی</span><span style='background-color: rgb(255,245,240)'>غ</span><span style='background-color: rgb(254,243,238)'> </span><span style='background-color: rgb(254,243,237)'>ت</span><span style='background-color: rgb(254,236,227)'>و</span><span style='background-color: rgb(252,191,166)'> </span><span style='background-color: rgb(252,182,156)'>خ</span><span style='background-color: rgb(254,235,226)'>و</span><span style='background-color: rgb(254,239,232)'>ر</span><span style='background-color: rgb(254,237,228)'>ش</span><span style='background-color: rgb(254,243,237)'>ی</span><span style='background-color: rgb(254,244,239)'>د</span><span style='background-color: rgb(254,243,237)'> </span><span style='background-color: rgb(254,240,233)'>ب</span><span style='background-color: rgb(254,239,231)'>ر</span><span style='background-color: rgb(254,242,236)'>ی</span><span style='background-color: rgb(254,240,233)'>ا</span><span style='background-color: rgb(254,242,236)'>ن</span><span style='background-color: rgb(254,244,239)'> </span><span style='background-color: rgb(255,245,240)'>ش</span><span style='background-color: rgb(255,245,240)'>و</span><span style='background-color: rgb(255,245,240)'>د</span><span>\t\t:\t\t</span><span>ـ</span></div>"
      ],
      "text/plain": [
       "<IPython.core.display.HTML object>"
      ]
     },
     "metadata": {
      "tags": []
     },
     "output_type": "display_data"
    },
    {
     "data": {
      "text/html": [
       "<div><span style='background-color: rgb(255,245,240)'>ز</span><span style='background-color: rgb(255,245,240)'> </span><span style='background-color: rgb(254,244,239)'>ت</span><span style='background-color: rgb(254,243,238)'>ی</span><span style='background-color: rgb(254,237,229)'>غ</span><span style='background-color: rgb(254,241,235)'> </span><span style='background-color: rgb(254,237,229)'>ت</span><span style='background-color: rgb(254,244,239)'>و</span><span style='background-color: rgb(254,244,239)'> </span><span style='background-color: rgb(255,245,240)'>خ</span><span style='background-color: rgb(254,244,239)'>و</span><span style='background-color: rgb(255,245,240)'>ر</span><span style='background-color: rgb(254,244,239)'>ش</span><span style='background-color: rgb(254,244,239)'>ی</span><span style='background-color: rgb(254,244,239)'>د</span><span style='background-color: rgb(255,245,240)'> </span><span style='background-color: rgb(255,245,240)'>ب</span><span style='background-color: rgb(255,245,240)'>ر</span><span style='background-color: rgb(255,245,240)'>ی</span><span style='background-color: rgb(254,244,239)'>ا</span><span style='background-color: rgb(254,241,235)'>ن</span><span style='background-color: rgb(255,245,240)'> </span><span style='background-color: rgb(254,244,239)'>ش</span><span style='background-color: rgb(255,245,240)'>و</span><span style='background-color: rgb(255,245,240)'>د</span><span>\t\t:\t\t</span><span>چ</span></div>"
      ],
      "text/plain": [
       "<IPython.core.display.HTML object>"
      ]
     },
     "metadata": {
      "tags": []
     },
     "output_type": "display_data"
    },
    {
     "data": {
      "text/html": [
       "<div><span style='background-color: rgb(254,238,230)'>ز</span><span style='background-color: rgb(254,235,226)'> </span><span style='background-color: rgb(254,239,231)'>ت</span><span style='background-color: rgb(254,238,230)'>ی</span><span style='background-color: rgb(254,238,230)'>غ</span><span style='background-color: rgb(254,237,229)'> </span><span style='background-color: rgb(254,230,219)'>ت</span><span style='background-color: rgb(254,236,227)'>و</span><span style='background-color: rgb(254,242,236)'> </span><span style='background-color: rgb(254,243,237)'>خ</span><span style='background-color: rgb(254,241,235)'>و</span><span style='background-color: rgb(255,245,240)'>ر</span><span style='background-color: rgb(254,244,239)'>ش</span><span style='background-color: rgb(254,244,239)'>ی</span><span style='background-color: rgb(254,244,239)'>د</span><span style='background-color: rgb(255,245,240)'> </span><span style='background-color: rgb(255,245,240)'>ب</span><span style='background-color: rgb(255,245,240)'>ر</span><span style='background-color: rgb(254,244,239)'>ی</span><span style='background-color: rgb(254,243,238)'>ا</span><span style='background-color: rgb(254,243,238)'>ن</span><span style='background-color: rgb(254,244,239)'> </span><span style='background-color: rgb(255,245,240)'>ش</span><span style='background-color: rgb(254,244,239)'>و</span><span style='background-color: rgb(255,245,240)'>د</span><span>\t\t:\t\t</span><span>ه</span></div>"
      ],
      "text/plain": [
       "<IPython.core.display.HTML object>"
      ]
     },
     "metadata": {
      "tags": []
     },
     "output_type": "display_data"
    },
    {
     "data": {
      "text/html": [
       "<div><span style='background-color: rgb(254,243,238)'>ز</span><span style='background-color: rgb(254,243,238)'> </span><span style='background-color: rgb(255,245,240)'>ت</span><span style='background-color: rgb(254,244,239)'>ی</span><span style='background-color: rgb(255,245,240)'>غ</span><span style='background-color: rgb(255,245,240)'> </span><span style='background-color: rgb(254,243,238)'>ت</span><span style='background-color: rgb(254,234,224)'>و</span><span style='background-color: rgb(252,187,162)'> </span><span style='background-color: rgb(252,160,131)'>خ</span><span style='background-color: rgb(254,233,223)'>و</span><span style='background-color: rgb(254,243,238)'>ر</span><span style='background-color: rgb(254,242,236)'>ش</span><span style='background-color: rgb(254,241,234)'>ی</span><span style='background-color: rgb(254,244,239)'>د</span><span style='background-color: rgb(254,243,238)'> </span><span style='background-color: rgb(254,239,232)'>ب</span><span style='background-color: rgb(254,239,232)'>ر</span><span style='background-color: rgb(254,243,237)'>ی</span><span style='background-color: rgb(254,243,238)'>ا</span><span style='background-color: rgb(255,245,240)'>ن</span><span style='background-color: rgb(255,245,240)'> </span><span style='background-color: rgb(255,245,240)'>ش</span><span style='background-color: rgb(255,245,240)'>و</span><span style='background-color: rgb(255,245,240)'>د</span><span>\t\t:\t\t</span><span>ـ</span></div>"
      ],
      "text/plain": [
       "<IPython.core.display.HTML object>"
      ]
     },
     "metadata": {
      "tags": []
     },
     "output_type": "display_data"
    },
    {
     "data": {
      "text/html": [
       "<div><span style='background-color: rgb(254,242,236)'>ز</span><span style='background-color: rgb(254,243,238)'> </span><span style='background-color: rgb(254,243,238)'>ت</span><span style='background-color: rgb(254,244,239)'>ی</span><span style='background-color: rgb(254,243,238)'>غ</span><span style='background-color: rgb(254,244,239)'> </span><span style='background-color: rgb(254,243,238)'>ت</span><span style='background-color: rgb(255,245,240)'>و</span><span style='background-color: rgb(255,245,240)'> </span><span style='background-color: rgb(255,245,240)'>خ</span><span style='background-color: rgb(255,245,240)'>و</span><span style='background-color: rgb(255,245,240)'>ر</span><span style='background-color: rgb(255,245,240)'>ش</span><span style='background-color: rgb(254,244,239)'>ی</span><span style='background-color: rgb(254,243,238)'>د</span><span style='background-color: rgb(254,244,239)'> </span><span style='background-color: rgb(255,245,240)'>ب</span><span style='background-color: rgb(255,245,240)'>ر</span><span style='background-color: rgb(254,244,239)'>ی</span><span style='background-color: rgb(254,244,239)'>ا</span><span style='background-color: rgb(254,239,232)'>ن</span><span style='background-color: rgb(255,245,240)'> </span><span style='background-color: rgb(254,244,239)'>ش</span><span style='background-color: rgb(254,244,239)'>و</span><span style='background-color: rgb(255,245,240)'>د</span><span>\t\t:\t\t</span><span>ا</span></div>"
      ],
      "text/plain": [
       "<IPython.core.display.HTML object>"
      ]
     },
     "metadata": {
      "tags": []
     },
     "output_type": "display_data"
    },
    {
     "data": {
      "text/html": [
       "<div><span style='background-color: rgb(254,235,226)'>ز</span><span style='background-color: rgb(254,243,237)'> </span><span style='background-color: rgb(254,243,237)'>ت</span><span style='background-color: rgb(254,235,226)'>ی</span><span style='background-color: rgb(254,227,214)'>غ</span><span style='background-color: rgb(254,241,234)'> </span><span style='background-color: rgb(254,237,228)'>ت</span><span style='background-color: rgb(254,236,227)'>و</span><span style='background-color: rgb(254,240,233)'> </span><span style='background-color: rgb(254,242,236)'>خ</span><span style='background-color: rgb(254,242,236)'>و</span><span style='background-color: rgb(254,244,239)'>ر</span><span style='background-color: rgb(254,243,237)'>ش</span><span style='background-color: rgb(254,243,237)'>ی</span><span style='background-color: rgb(254,243,238)'>د</span><span style='background-color: rgb(254,237,228)'> </span><span style='background-color: rgb(254,241,234)'>ب</span><span style='background-color: rgb(255,245,240)'>ر</span><span style='background-color: rgb(254,244,239)'>ی</span><span style='background-color: rgb(255,245,240)'>ا</span><span style='background-color: rgb(254,241,235)'>ن</span><span style='background-color: rgb(255,245,240)'> </span><span style='background-color: rgb(255,245,240)'>ش</span><span style='background-color: rgb(255,245,240)'>و</span><span style='background-color: rgb(255,245,240)'>د</span><span>\t\t:\t\t</span><span>ی</span></div>"
      ],
      "text/plain": [
       "<IPython.core.display.HTML object>"
      ]
     },
     "metadata": {
      "tags": []
     },
     "output_type": "display_data"
    },
    {
     "data": {
      "text/html": [
       "<div><span style='background-color: rgb(254,243,238)'>ز</span><span style='background-color: rgb(254,243,238)'> </span><span style='background-color: rgb(254,243,238)'>ت</span><span style='background-color: rgb(254,242,236)'>ی</span><span style='background-color: rgb(254,242,236)'>غ</span><span style='background-color: rgb(254,239,231)'> </span><span style='background-color: rgb(254,241,234)'>ت</span><span style='background-color: rgb(254,240,233)'>و</span><span style='background-color: rgb(254,241,235)'> </span><span style='background-color: rgb(254,242,236)'>خ</span><span style='background-color: rgb(254,239,232)'>و</span><span style='background-color: rgb(254,240,233)'>ر</span><span style='background-color: rgb(254,232,222)'>ش</span><span style='background-color: rgb(254,234,224)'>ی</span><span style='background-color: rgb(254,231,220)'>د</span><span style='background-color: rgb(253,215,199)'> </span><span style='background-color: rgb(254,225,211)'>ب</span><span style='background-color: rgb(254,241,235)'>ر</span><span style='background-color: rgb(254,243,237)'>ی</span><span style='background-color: rgb(254,243,237)'>ا</span><span style='background-color: rgb(254,241,234)'>ن</span><span style='background-color: rgb(254,244,239)'> </span><span style='background-color: rgb(255,245,240)'>ش</span><span style='background-color: rgb(254,244,239)'>و</span><span style='background-color: rgb(254,243,238)'>د</span><span>\t\t:\t\t</span><span>د</span></div>"
      ],
      "text/plain": [
       "<IPython.core.display.HTML object>"
      ]
     },
     "metadata": {
      "tags": []
     },
     "output_type": "display_data"
    },
    {
     "data": {
      "text/html": [
       "<div><span style='background-color: rgb(254,244,239)'>ز</span><span style='background-color: rgb(254,243,238)'> </span><span style='background-color: rgb(254,240,233)'>ت</span><span style='background-color: rgb(254,239,232)'>ی</span><span style='background-color: rgb(254,240,233)'>غ</span><span style='background-color: rgb(254,242,236)'> </span><span style='background-color: rgb(254,241,234)'>ت</span><span style='background-color: rgb(254,239,232)'>و</span><span style='background-color: rgb(254,233,224)'> </span><span style='background-color: rgb(253,216,200)'>خ</span><span style='background-color: rgb(254,231,221)'>و</span><span style='background-color: rgb(254,238,230)'>ر</span><span style='background-color: rgb(254,235,226)'>ش</span><span style='background-color: rgb(254,241,234)'>ی</span><span style='background-color: rgb(254,242,236)'>د</span><span style='background-color: rgb(254,243,237)'> </span><span style='background-color: rgb(254,243,238)'>ب</span><span style='background-color: rgb(254,243,238)'>ر</span><span style='background-color: rgb(254,244,239)'>ی</span><span style='background-color: rgb(254,243,237)'>ا</span><span style='background-color: rgb(254,243,238)'>ن</span><span style='background-color: rgb(254,244,239)'> </span><span style='background-color: rgb(255,245,240)'>ش</span><span style='background-color: rgb(254,242,236)'>و</span><span style='background-color: rgb(254,244,239)'>د</span><span>\t\t:\t\t</span><span>ـ</span></div>"
      ],
      "text/plain": [
       "<IPython.core.display.HTML object>"
      ]
     },
     "metadata": {
      "tags": []
     },
     "output_type": "display_data"
    },
    {
     "data": {
      "text/html": [
       "<div><span style='background-color: rgb(254,244,239)'>ز</span><span style='background-color: rgb(254,244,239)'> </span><span style='background-color: rgb(254,243,238)'>ت</span><span style='background-color: rgb(254,243,238)'>ی</span><span style='background-color: rgb(254,242,236)'>غ</span><span style='background-color: rgb(254,244,239)'> </span><span style='background-color: rgb(254,241,234)'>ت</span><span style='background-color: rgb(255,245,240)'>و</span><span style='background-color: rgb(254,244,239)'> </span><span style='background-color: rgb(254,244,239)'>خ</span><span style='background-color: rgb(254,244,239)'>و</span><span style='background-color: rgb(254,244,239)'>ر</span><span style='background-color: rgb(254,243,237)'>ش</span><span style='background-color: rgb(254,244,239)'>ی</span><span style='background-color: rgb(254,244,239)'>د</span><span style='background-color: rgb(254,244,239)'> </span><span style='background-color: rgb(255,245,240)'>ب</span><span style='background-color: rgb(255,245,240)'>ر</span><span style='background-color: rgb(255,245,240)'>ی</span><span style='background-color: rgb(255,245,240)'>ا</span><span style='background-color: rgb(254,241,234)'>ن</span><span style='background-color: rgb(254,244,239)'> </span><span style='background-color: rgb(254,242,236)'>ش</span><span style='background-color: rgb(254,243,237)'>و</span><span style='background-color: rgb(254,240,233)'>د</span><span>\t\t:\t\t</span><span>ب</span></div>"
      ],
      "text/plain": [
       "<IPython.core.display.HTML object>"
      ]
     },
     "metadata": {
      "tags": []
     },
     "output_type": "display_data"
    },
    {
     "data": {
      "text/html": [
       "<div><span style='background-color: rgb(254,243,237)'>ز</span><span style='background-color: rgb(254,235,225)'> </span><span style='background-color: rgb(254,239,231)'>ت</span><span style='background-color: rgb(254,242,236)'>ی</span><span style='background-color: rgb(254,244,239)'>غ</span><span style='background-color: rgb(254,244,239)'> </span><span style='background-color: rgb(254,243,237)'>ت</span><span style='background-color: rgb(254,244,239)'>و</span><span style='background-color: rgb(255,245,240)'> </span><span style='background-color: rgb(255,245,240)'>خ</span><span style='background-color: rgb(255,245,240)'>و</span><span style='background-color: rgb(255,245,240)'>ر</span><span style='background-color: rgb(255,245,240)'>ش</span><span style='background-color: rgb(255,245,240)'>ی</span><span style='background-color: rgb(255,245,240)'>د</span><span style='background-color: rgb(255,245,240)'> </span><span style='background-color: rgb(255,245,240)'>ب</span><span style='background-color: rgb(255,245,240)'>ر</span><span style='background-color: rgb(255,245,240)'>ی</span><span style='background-color: rgb(255,245,240)'>ا</span><span style='background-color: rgb(254,243,237)'>ن</span><span style='background-color: rgb(254,244,239)'> </span><span style='background-color: rgb(254,243,237)'>ش</span><span style='background-color: rgb(252,194,171)'>و</span><span style='background-color: rgb(254,232,222)'>د</span><span>\t\t:\t\t</span><span>و</span></div>"
      ],
      "text/plain": [
       "<IPython.core.display.HTML object>"
      ]
     },
     "metadata": {
      "tags": []
     },
     "output_type": "display_data"
    },
    {
     "data": {
      "text/html": [
       "<div><span style='background-color: rgb(255,245,240)'>ز</span><span style='background-color: rgb(255,245,240)'> </span><span style='background-color: rgb(255,245,240)'>ت</span><span style='background-color: rgb(255,245,240)'>ی</span><span style='background-color: rgb(255,245,240)'>غ</span><span style='background-color: rgb(255,245,240)'> </span><span style='background-color: rgb(254,244,239)'>ت</span><span style='background-color: rgb(255,245,240)'>و</span><span style='background-color: rgb(254,244,239)'> </span><span style='background-color: rgb(254,243,237)'>خ</span><span style='background-color: rgb(254,243,238)'>و</span><span style='background-color: rgb(254,244,239)'>ر</span><span style='background-color: rgb(254,243,237)'>ش</span><span style='background-color: rgb(254,243,237)'>ی</span><span style='background-color: rgb(254,241,234)'>د</span><span style='background-color: rgb(254,243,238)'> </span><span style='background-color: rgb(254,244,239)'>ب</span><span style='background-color: rgb(255,245,240)'>ر</span><span style='background-color: rgb(255,245,240)'>ی</span><span style='background-color: rgb(255,245,240)'>ا</span><span style='background-color: rgb(255,245,240)'>ن</span><span style='background-color: rgb(254,243,238)'> </span><span style='background-color: rgb(255,245,240)'>ش</span><span style='background-color: rgb(254,228,216)'>و</span><span style='background-color: rgb(233,53,41)'>د</span><span>\t\t:\t\t</span><span>د</span></div>"
      ],
      "text/plain": [
       "<IPython.core.display.HTML object>"
      ]
     },
     "metadata": {
      "tags": []
     },
     "output_type": "display_data"
    }
   ],
   "source": [
    "from IPython.core.display import display, HTML\n",
    "\n",
    "for i in range(5):\n",
    "    idx = np.random.randint(0, data['X_test'].shape[0])\n",
    "    pred = model_sess.run(model.prediction, feed_dict={model.input_data: data['X_test'][idx].reshape(1, -1),\n",
    "                                                     model.target_data: data['Y_test'][idx].reshape(1, -1),\n",
    "                                                     model.teacher_forcing: 0})\n",
    "  \n",
    "    attn_pred, weights = attn_model_sess.run([attn_model.prediction, attn_model.attn_weights], \n",
    "                                           feed_dict={attn_model.input_data: data['X_test'][idx].reshape(1, -1),\n",
    "                                                      attn_model.target_data: data['Y_test'][idx].reshape(1, -1),\n",
    "                                                      attn_model.teacher_forcing: 0})\n",
    "    first_h = loader.tensor2line(data['X_test'][idx], False)\n",
    "    second_h_true = loader.tensor2line(data['Y_test'][idx], False)\n",
    "    second_h_1 = loader.tensor2line(pred[0], False)\n",
    "    second_h_2 = loader.tensor2line(attn_pred[0], False)\n",
    "  \n",
    "    print('Test input:')\n",
    "    print(first_h + \"  ****  \" + second_h_true)\n",
    "  \n",
    "    print('Seq2Seq output:')\n",
    "    print(second_h_1)\n",
    "  \n",
    "    print('Seq2Seq with attention output:')\n",
    "    print(second_h_2)\n",
    "    print('Weights of attention:')\n",
    "    for i in range(len(second_h_2)):\n",
    "        tags = print_weight(second_h_2[i], first_h, weights[i, 0, weights.shape[2] - len(first_h) -1:-1])\n",
    "        display(HTML(tags))\n",
    "\n",
    "  "
   ]
  },
  {
   "cell_type": "code",
   "execution_count": 10,
   "metadata": {
    "colab": {},
    "colab_type": "code",
    "id": "XvtvGwOC8YU2"
   },
   "outputs": [],
   "source": []
  }
 ],
 "metadata": {
  "accelerator": "GPU",
  "colab": {
   "collapsed_sections": [],
   "name": "seq2seq.ipynb",
   "provenance": [],
   "version": "0.3.2"
  },
  "kernelspec": {
   "display_name": "Python 3",
   "language": "python",
   "name": "python3"
  },
  "language_info": {
   "codemirror_mode": {
    "name": "ipython",
    "version": 3
   },
   "file_extension": ".py",
   "mimetype": "text/x-python",
   "name": "python",
   "nbconvert_exporter": "python",
   "pygments_lexer": "ipython3",
   "version": "3.6.8"
  }
 },
 "nbformat": 4,
 "nbformat_minor": 1
}
